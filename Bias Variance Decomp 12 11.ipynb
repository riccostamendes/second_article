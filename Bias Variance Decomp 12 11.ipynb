{
 "cells": [
  {
   "cell_type": "markdown",
   "metadata": {},
   "source": [
    "## Bootstrap procedure for Bias Variance Decomp"
   ]
  },
  {
   "cell_type": "code",
   "execution_count": 1,
   "metadata": {},
   "outputs": [],
   "source": [
    "import numpy as np\n",
    "import pandas as pd\n",
    "import matplotlib.pyplot as plt\n",
    "%matplotlib inline\n",
    "import seaborn as sns\n",
    "from sklearn.model_selection import train_test_split\n",
    "from sklearn.preprocessing import StandardScaler\n",
    "from sklearn.pipeline import Pipeline\n",
    "from sklearn.ensemble import RandomForestRegressor\n",
    "from sklearn.svm import SVR\n",
    "import xgboost as xgb\n",
    "from mlxtend.evaluate import bias_variance_decomp"
   ]
  },
  {
   "cell_type": "code",
   "execution_count": 2,
   "metadata": {},
   "outputs": [],
   "source": [
    "seed=42"
   ]
  },
  {
   "cell_type": "code",
   "execution_count": 3,
   "metadata": {},
   "outputs": [],
   "source": [
    "X1211Y12_train=pd.read_excel('X1211Y12_train.xlsx')\n",
    "X1211Y12_test=pd.read_excel('X1211Y12_test.xlsx')"
   ]
  },
  {
   "cell_type": "code",
   "execution_count": 4,
   "metadata": {},
   "outputs": [],
   "source": [
    "LassoFeatToDrop = ['School_Size', 'Class_Size', 'Student_Internet',\n",
    "       'Student_ActiveWorking', 'Student_Parish', 'Student_County',\n",
    "       'STD_Resp_CloseRelative', 'STD_Resp_Father', 'STD_Resp_Himself',\n",
    "       'STD_Resp_LegalResp', 'FTH_Nation_AFR', 'FTH_Nation_BR',\n",
    "       'FTH_Nation_CHN', 'FTH_Nation_EEUR', 'FTH_Nation_OTHERS',\n",
    "       'FTH_Nation_RICH', 'SES_STDRESP_ProfClass_BasicI',\n",
    "       'SES_STDRESP_ProfClass_UnivI', 'SES_STDRESP_ProfClass_UnivII',\n",
    "       'SES_STDRESP_ProfClass_Unknown_NoProfession',\n",
    "       'SES_FATH_ProfClass_BasicI', 'SES_FATH_ProfClass_UnivI',\n",
    "       'SES_FATH_ProfClass_Unknown_NoProfession', 'SES_MOTH_ProfClass_BasicI',\n",
    "       'SES_MOTH_ProfClass_UnivI', 'SES_MOTH_ProfClass_Unknown_NoProfession',\n",
    "       'SES_STDRESP_JobSit_Employer', 'SES_STDRESP_JobSit_HomeAffairs',\n",
    "       'SES_STDRESP_JobSit_Other', 'SES_STDRESP_JobSit_Retired',\n",
    "       'SES_STDRESP_JobSit_SelfEmployed', 'SES_STDRESP_JobSit_Unemployed',\n",
    "       'SES_STDRESP_JobSit_Unknown', 'SES_FATH_JobSit_Employer',\n",
    "       'SES_FATH_JobSit_HomeAffairs', 'SES_FATH_JobSit_Other',\n",
    "       'SES_FATH_JobSit_Retired', 'SES_FATH_JobSit_SelfEmployed',\n",
    "       'SES_FATH_JobSit_Student', 'SES_FATH_JobSit_Unemployed',\n",
    "       'SES_FATH_JobSit_Unknown', 'SES_MOTH_JobSit_Employer',\n",
    "       'SES_MOTH_JobSit_HomeAffairs', 'SES_MOTH_JobSit_Other',\n",
    "       'SES_MOTH_JobSit_Retired', 'SES_MOTH_JobSit_SelfEmployed',\n",
    "       'SES_MOTH_JobSit_Student', 'SES_MOTH_JobSit_Unemployed',\n",
    "       'SES_MOTH_JobSit_Unknown', 'SES_STDRESP_AcadEduc_Bachelor',\n",
    "       'SES_STDRESP_AcadEduc_Basic_I', 'SES_STDRESP_AcadEduc_Basic_II',\n",
    "       'SES_STDRESP_AcadEduc_Basic_III', 'SES_STDRESP_AcadEduc_Degree',\n",
    "       'SES_STDRESP_AcadEduc_Master', 'SES_STDRESP_AcadEduc_Other',\n",
    "       'SES_STDRESP_AcadEduc_Phd', 'SES_STDRESP_AcadEduc_PostGraduation',\n",
    "       'SES_FATH_AcadEduc_Bachelor', 'SES_FATH_AcadEduc_Basic_I',\n",
    "       'SES_FATH_AcadEduc_Basic_II', 'SES_FATH_AcadEduc_Basic_III',\n",
    "       'SES_FATH_AcadEduc_Master', 'SES_FATH_AcadEduc_NoFormalEducation',\n",
    "       'SES_FATH_AcadEduc_Other', 'SES_FATH_AcadEduc_Phd',\n",
    "       'SES_FATH_AcadEduc_PostGraduation', 'SES_MOTH_AcadEduc_Bachelor',\n",
    "       'SES_MOTH_AcadEduc_Basic_I', 'SES_MOTH_AcadEduc_Basic_II',\n",
    "       'SES_MOTH_AcadEduc_Basic_III', 'SES_MOTH_AcadEduc_Master',\n",
    "       'SES_MOTH_AcadEduc_NoFormalEducation', 'SES_MOTH_AcadEduc_Other',\n",
    "       'SES_MOTH_AcadEduc_Phd', 'SES_MOTH_AcadEduc_PostGraduation',\n",
    "       'SES_MOTH_AcadEduc_Unknown', 'SES_Scholarship_Full_Support',\n",
    "       'SES_Scholarship_Half_Support', 'SES%_Parish_FamilyNoClassicDwellings',\n",
    "       'SES%_Parish_CollectiveDwellings', 'SES%_Parish_IliteracyRate',\n",
    "       'SES%_Parish_PrimarySector', 'SES%_Parish_UnemploymentRate',\n",
    "       'Tch_FixedTermStaff', 'Tch_PedagogicZoneDefinitivePermanentStaff',\n",
    "       'Tch_SchoolClusterNoDefinitivePermanentStaff',\n",
    "       'Tch_SchoolNoDefinitivePermanentStaff', 'Tch_AcadEduc_Bachelor',\n",
    "       'Tch_AcadEduc_Phd_Master', 'Tch_Step_567', 'Teacher_EducationSupport',\n",
    "       'Teacher_Age', 'Teacher_TeachingDedicatedTime',\n",
    "       'Teacher_NoTeachingDedicatedTime']"
   ]
  },
  {
   "cell_type": "code",
   "execution_count": 5,
   "metadata": {},
   "outputs": [],
   "source": [
    "XY_train=X1211Y12_train.drop(LassoFeatToDrop, axis=1)\n",
    "XY_test=X1211Y12_test.drop(LassoFeatToDrop, axis=1)"
   ]
  },
  {
   "cell_type": "code",
   "execution_count": 6,
   "metadata": {},
   "outputs": [],
   "source": [
    "XY_train=XY_train.drop(['Unnamed: 0', 'AcYear_11', 'AcYear_12'], axis=1)\n",
    "XY_test=XY_test.drop(['Unnamed: 0', 'AcYear_11', 'AcYear_12'], axis=1)"
   ]
  },
  {
   "cell_type": "code",
   "execution_count": 7,
   "metadata": {},
   "outputs": [
    {
     "data": {
      "text/plain": [
       "(9105, 27)"
      ]
     },
     "execution_count": 7,
     "metadata": {},
     "output_type": "execute_result"
    }
   ],
   "source": [
    "XY_test.shape"
   ]
  },
  {
   "cell_type": "code",
   "execution_count": 8,
   "metadata": {},
   "outputs": [],
   "source": [
    "X_train=XY_train.iloc[:,:26]\n",
    "Y_train=XY_train.iloc[:,-1]\n",
    "\n",
    "X_test=XY_test.iloc[:,:26]\n",
    "Y_test=XY_test.iloc[:,-1]"
   ]
  },
  {
   "cell_type": "code",
   "execution_count": 9,
   "metadata": {},
   "outputs": [],
   "source": [
    "X_train=X_train.to_numpy()\n",
    "X_test=X_test.to_numpy()"
   ]
  },
  {
   "cell_type": "code",
   "execution_count": 10,
   "metadata": {},
   "outputs": [],
   "source": [
    "Y_train=Y_train.to_numpy()\n",
    "Y_test=Y_test.to_numpy()"
   ]
  },
  {
   "cell_type": "raw",
   "metadata": {},
   "source": [
    "X_train.columns"
   ]
  },
  {
   "cell_type": "code",
   "execution_count": 11,
   "metadata": {},
   "outputs": [],
   "source": [
    "# standardization\n",
    "scaler=StandardScaler()"
   ]
  },
  {
   "cell_type": "code",
   "execution_count": 12,
   "metadata": {},
   "outputs": [],
   "source": [
    "tscale=scaler.fit(X_train)\n",
    "X_train_std=tscale.transform(X_train)\n",
    "X_test_std=tscale.transform(X_test)"
   ]
  },
  {
   "cell_type": "markdown",
   "metadata": {},
   "source": [
    "## Bootstrap"
   ]
  },
  {
   "cell_type": "code",
   "execution_count": 13,
   "metadata": {},
   "outputs": [],
   "source": [
    "rf_rgr = RandomForestRegressor(n_estimators = 420, criterion=\"mse\", min_samples_leaf=0.001,\n",
    "                               min_samples_split=0.009 , bootstrap=True, random_state=seed)"
   ]
  },
  {
   "cell_type": "code",
   "execution_count": 14,
   "metadata": {},
   "outputs": [],
   "source": [
    "svm_rgr= SVR(C=9.541, cache_size=1000, coef0=0.0, degree=3, epsilon=0.2, gamma=0.004,\n",
    "    kernel='rbf', max_iter=-1, shrinking=True, tol=0.001, verbose=True)"
   ]
  },
  {
   "cell_type": "code",
   "execution_count": 15,
   "metadata": {},
   "outputs": [],
   "source": [
    "xgb_rgr = xgb.XGBRegressor(max_depth=20, learning_rate=0.42, n_estimators=156,\n",
    "                           verbosity=1, objective='reg:squarederror',\n",
    "                           booster='gbtree', n_jobs=-1, gamma=0,\n",
    "                           min_child_weight=131.0, max_delta_step=0, subsample=1.0,\n",
    "                           colsample_bytree=0.7, colsample_bylevel=1, colsample_bynode=1,\n",
    "                           reg_alpha=0, reg_lambda=0.4, scale_pos_weight=1, base_score=0.5,\n",
    "                           random_state=seed, seed=None, missing=None, importance_type='gain')"
   ]
  },
  {
   "cell_type": "code",
   "execution_count": 16,
   "metadata": {},
   "outputs": [],
   "source": [
    "estimators = []\n",
    "estimators.append(('standardize', StandardScaler()))\n",
    "estimators.append(('RF', rf_rgr))\n",
    "pipeline_RF = Pipeline(estimators)"
   ]
  },
  {
   "cell_type": "code",
   "execution_count": 17,
   "metadata": {},
   "outputs": [],
   "source": [
    "# Define sklearn pipeline\n",
    "estimators = []\n",
    "estimators.append(('standardize', StandardScaler()))\n",
    "estimators.append(('SVR', svm_rgr))\n",
    "pipeline_SVR = Pipeline(estimators)"
   ]
  },
  {
   "cell_type": "code",
   "execution_count": 18,
   "metadata": {},
   "outputs": [],
   "source": [
    "# Define sklearn pipeline\n",
    "estimators = []\n",
    "estimators.append(('standardize', StandardScaler()))\n",
    "estimators.append(('XGB', xgb_rgr))\n",
    "pipeline_XGB = Pipeline(estimators)"
   ]
  },
  {
   "cell_type": "code",
   "execution_count": 19,
   "metadata": {},
   "outputs": [],
   "source": [
    "mse, mean_bias, mean_var = bias_variance_decomp(pipeline_RF,X_train,Y_train,\n",
    "                                                X_test,Y_test, loss='mse', num_rounds=200, random_seed=seed)"
   ]
  },
  {
   "cell_type": "code",
   "execution_count": 20,
   "metadata": {},
   "outputs": [],
   "source": [
    "columns = ['MSE','Mean_bias','Mean_var']"
   ]
  },
  {
   "cell_type": "code",
   "execution_count": 21,
   "metadata": {},
   "outputs": [],
   "source": [
    "df_results= pd.DataFrame(columns=columns)"
   ]
  },
  {
   "cell_type": "code",
   "execution_count": 22,
   "metadata": {},
   "outputs": [],
   "source": [
    "new_results_dic = {'MSE': mse, 'Mean_bias': mean_bias,'Mean_var': mean_var}\n",
    "df_results.loc[len(df_results)] = new_results_dic"
   ]
  },
  {
   "cell_type": "code",
   "execution_count": 23,
   "metadata": {},
   "outputs": [
    {
     "data": {
      "text/html": [
       "<div>\n",
       "<style scoped>\n",
       "    .dataframe tbody tr th:only-of-type {\n",
       "        vertical-align: middle;\n",
       "    }\n",
       "\n",
       "    .dataframe tbody tr th {\n",
       "        vertical-align: top;\n",
       "    }\n",
       "\n",
       "    .dataframe thead th {\n",
       "        text-align: right;\n",
       "    }\n",
       "</style>\n",
       "<table border=\"1\" class=\"dataframe\">\n",
       "  <thead>\n",
       "    <tr style=\"text-align: right;\">\n",
       "      <th></th>\n",
       "      <th>MSE</th>\n",
       "      <th>Mean_bias</th>\n",
       "      <th>Mean_variance</th>\n",
       "    </tr>\n",
       "  </thead>\n",
       "  <tbody>\n",
       "    <tr>\n",
       "      <th>RF</th>\n",
       "      <td>1.916342</td>\n",
       "      <td>1.850819</td>\n",
       "      <td>NaN</td>\n",
       "    </tr>\n",
       "  </tbody>\n",
       "</table>\n",
       "</div>"
      ],
      "text/plain": [
       "         MSE  Mean_bias  Mean_variance\n",
       "RF  1.916342   1.850819            NaN"
      ]
     },
     "execution_count": 23,
     "metadata": {},
     "output_type": "execute_result"
    }
   ],
   "source": [
    "indexNamesArr = df_results.index.values\n",
    "i = indexNamesArr[-1]\n",
    "df_results.rename(index={i:'RF'}, inplace=True)\n",
    "df_results.head()"
   ]
  },
  {
   "cell_type": "code",
   "execution_count": 24,
   "metadata": {},
   "outputs": [
    {
     "name": "stdout",
     "output_type": "stream",
     "text": [
      "[LibSVM][LibSVM][LibSVM][LibSVM][LibSVM][LibSVM][LibSVM][LibSVM][LibSVM][LibSVM][LibSVM][LibSVM][LibSVM][LibSVM][LibSVM][LibSVM][LibSVM][LibSVM][LibSVM][LibSVM][LibSVM][LibSVM][LibSVM][LibSVM][LibSVM][LibSVM][LibSVM][LibSVM][LibSVM][LibSVM][LibSVM][LibSVM][LibSVM][LibSVM][LibSVM][LibSVM][LibSVM][LibSVM][LibSVM][LibSVM][LibSVM][LibSVM][LibSVM][LibSVM][LibSVM][LibSVM][LibSVM][LibSVM][LibSVM][LibSVM][LibSVM][LibSVM][LibSVM][LibSVM][LibSVM][LibSVM][LibSVM][LibSVM][LibSVM][LibSVM][LibSVM][LibSVM][LibSVM][LibSVM][LibSVM][LibSVM][LibSVM][LibSVM][LibSVM][LibSVM][LibSVM][LibSVM][LibSVM][LibSVM][LibSVM][LibSVM][LibSVM][LibSVM][LibSVM][LibSVM][LibSVM][LibSVM][LibSVM][LibSVM][LibSVM][LibSVM][LibSVM][LibSVM][LibSVM][LibSVM][LibSVM][LibSVM][LibSVM][LibSVM][LibSVM][LibSVM][LibSVM][LibSVM][LibSVM][LibSVM][LibSVM][LibSVM][LibSVM][LibSVM][LibSVM][LibSVM][LibSVM][LibSVM][LibSVM][LibSVM][LibSVM][LibSVM][LibSVM][LibSVM][LibSVM][LibSVM][LibSVM][LibSVM][LibSVM][LibSVM][LibSVM][LibSVM][LibSVM][LibSVM][LibSVM][LibSVM][LibSVM][LibSVM][LibSVM][LibSVM][LibSVM][LibSVM][LibSVM][LibSVM][LibSVM][LibSVM][LibSVM][LibSVM][LibSVM][LibSVM][LibSVM][LibSVM][LibSVM][LibSVM][LibSVM][LibSVM][LibSVM][LibSVM][LibSVM][LibSVM][LibSVM][LibSVM][LibSVM][LibSVM][LibSVM][LibSVM][LibSVM][LibSVM][LibSVM][LibSVM][LibSVM][LibSVM][LibSVM][LibSVM][LibSVM][LibSVM][LibSVM][LibSVM][LibSVM][LibSVM][LibSVM][LibSVM][LibSVM][LibSVM][LibSVM][LibSVM][LibSVM][LibSVM][LibSVM][LibSVM][LibSVM][LibSVM][LibSVM][LibSVM][LibSVM][LibSVM][LibSVM][LibSVM][LibSVM][LibSVM][LibSVM][LibSVM][LibSVM][LibSVM][LibSVM][LibSVM][LibSVM][LibSVM][LibSVM][LibSVM]"
     ]
    }
   ],
   "source": [
    "mse, mean_bias, mean_var = bias_variance_decomp(pipeline_SVR, X_train, Y_train,\n",
    "                                                X_test,Y_test,loss='mse', num_rounds=200, random_seed=seed)"
   ]
  },
  {
   "cell_type": "code",
   "execution_count": 25,
   "metadata": {},
   "outputs": [],
   "source": [
    "new_results_dic = {'MSE': mse, 'Mean_bias': mean_bias,'Mean_var': mean_var}\n",
    "df_results.loc[len(df_results)] = new_results_dic"
   ]
  },
  {
   "cell_type": "code",
   "execution_count": 26,
   "metadata": {},
   "outputs": [
    {
     "data": {
      "text/html": [
       "<div>\n",
       "<style scoped>\n",
       "    .dataframe tbody tr th:only-of-type {\n",
       "        vertical-align: middle;\n",
       "    }\n",
       "\n",
       "    .dataframe tbody tr th {\n",
       "        vertical-align: top;\n",
       "    }\n",
       "\n",
       "    .dataframe thead th {\n",
       "        text-align: right;\n",
       "    }\n",
       "</style>\n",
       "<table border=\"1\" class=\"dataframe\">\n",
       "  <thead>\n",
       "    <tr style=\"text-align: right;\">\n",
       "      <th></th>\n",
       "      <th>MSE</th>\n",
       "      <th>Mean_bias</th>\n",
       "      <th>Mean_variance</th>\n",
       "    </tr>\n",
       "  </thead>\n",
       "  <tbody>\n",
       "    <tr>\n",
       "      <th>RF</th>\n",
       "      <td>1.916342</td>\n",
       "      <td>1.850819</td>\n",
       "      <td>NaN</td>\n",
       "    </tr>\n",
       "    <tr>\n",
       "      <th>SVR</th>\n",
       "      <td>1.911960</td>\n",
       "      <td>1.844142</td>\n",
       "      <td>NaN</td>\n",
       "    </tr>\n",
       "  </tbody>\n",
       "</table>\n",
       "</div>"
      ],
      "text/plain": [
       "          MSE  Mean_bias  Mean_variance\n",
       "RF   1.916342   1.850819            NaN\n",
       "SVR  1.911960   1.844142            NaN"
      ]
     },
     "execution_count": 26,
     "metadata": {},
     "output_type": "execute_result"
    }
   ],
   "source": [
    "indexNamesArr = df_results.index.values\n",
    "i = indexNamesArr[-1]\n",
    "df_results.rename(index={i:'SVR'}, inplace=True)\n",
    "df_results.head()"
   ]
  },
  {
   "cell_type": "code",
   "execution_count": 27,
   "metadata": {},
   "outputs": [],
   "source": [
    "mse, mean_bias, mean_var = bias_variance_decomp(pipeline_XGB, X_train, Y_train,\n",
    "                                                X_test,Y_test,loss='mse', num_rounds=200, random_seed=seed)"
   ]
  },
  {
   "cell_type": "code",
   "execution_count": 28,
   "metadata": {},
   "outputs": [],
   "source": [
    "new_results_dic = {'MSE': mse, 'Mean_bias': mean_bias,'Mean_var': mean_var}\n",
    "df_results.loc[len(df_results)] = new_results_dic"
   ]
  },
  {
   "cell_type": "code",
   "execution_count": 29,
   "metadata": {},
   "outputs": [
    {
     "data": {
      "text/html": [
       "<div>\n",
       "<style scoped>\n",
       "    .dataframe tbody tr th:only-of-type {\n",
       "        vertical-align: middle;\n",
       "    }\n",
       "\n",
       "    .dataframe tbody tr th {\n",
       "        vertical-align: top;\n",
       "    }\n",
       "\n",
       "    .dataframe thead th {\n",
       "        text-align: right;\n",
       "    }\n",
       "</style>\n",
       "<table border=\"1\" class=\"dataframe\">\n",
       "  <thead>\n",
       "    <tr style=\"text-align: right;\">\n",
       "      <th></th>\n",
       "      <th>MSE</th>\n",
       "      <th>Mean_bias</th>\n",
       "      <th>Mean_variance</th>\n",
       "    </tr>\n",
       "  </thead>\n",
       "  <tbody>\n",
       "    <tr>\n",
       "      <th>RF</th>\n",
       "      <td>1.916342</td>\n",
       "      <td>1.850819</td>\n",
       "      <td>NaN</td>\n",
       "    </tr>\n",
       "    <tr>\n",
       "      <th>SVR</th>\n",
       "      <td>1.911960</td>\n",
       "      <td>1.844142</td>\n",
       "      <td>NaN</td>\n",
       "    </tr>\n",
       "    <tr>\n",
       "      <th>XGB</th>\n",
       "      <td>2.029234</td>\n",
       "      <td>1.732347</td>\n",
       "      <td>NaN</td>\n",
       "    </tr>\n",
       "  </tbody>\n",
       "</table>\n",
       "</div>"
      ],
      "text/plain": [
       "          MSE  Mean_bias  Mean_variance\n",
       "RF   1.916342   1.850819            NaN\n",
       "SVR  1.911960   1.844142            NaN\n",
       "XGB  2.029234   1.732347            NaN"
      ]
     },
     "execution_count": 29,
     "metadata": {},
     "output_type": "execute_result"
    }
   ],
   "source": [
    "indexNamesArr = df_results.index.values\n",
    "i = indexNamesArr[-1]\n",
    "df_results.rename(index={i:'XGB'}, inplace=True)\n",
    "df_results.head()"
   ]
  },
  {
   "cell_type": "code",
   "execution_count": 30,
   "metadata": {},
   "outputs": [],
   "source": [
    "df_results.to_excel('FINALRESULTS_BiasVariance_1211.xlsx', sheet_name='Decomposition')"
   ]
  },
  {
   "cell_type": "code",
   "execution_count": 31,
   "metadata": {},
   "outputs": [
    {
     "data": {
      "text/plain": [
       "0.2968868561230093"
      ]
     },
     "execution_count": 31,
     "metadata": {},
     "output_type": "execute_result"
    }
   ],
   "source": [
    "mean_var"
   ]
  },
  {
   "cell_type": "code",
   "execution_count": null,
   "metadata": {},
   "outputs": [],
   "source": []
  }
 ],
 "metadata": {
  "kernelspec": {
   "display_name": "Python 3",
   "language": "python",
   "name": "python3"
  },
  "language_info": {
   "codemirror_mode": {
    "name": "ipython",
    "version": 3
   },
   "file_extension": ".py",
   "mimetype": "text/x-python",
   "name": "python",
   "nbconvert_exporter": "python",
   "pygments_lexer": "ipython3",
   "version": "3.7.6"
  }
 },
 "nbformat": 4,
 "nbformat_minor": 4
}
