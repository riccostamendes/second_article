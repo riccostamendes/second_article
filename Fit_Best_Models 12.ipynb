{
 "cells": [
  {
   "cell_type": "markdown",
   "metadata": {},
   "source": [
    "# Fit Best models"
   ]
  },
  {
   "cell_type": "code",
   "execution_count": 1,
   "metadata": {},
   "outputs": [],
   "source": [
    "import numpy as np\n",
    "import pandas as pd\n",
    "import matplotlib.pyplot as plt\n",
    "%matplotlib inline\n",
    "import seaborn as sns\n",
    "from sklearn.model_selection import train_test_split\n",
    "from sklearn.model_selection import StratifiedShuffleSplit\n",
    "from sklearn.model_selection import KFold\n",
    "from sklearn.preprocessing import StandardScaler\n",
    "from sklearn.decomposition import PCA\n",
    "from sklearn.model_selection import cross_val_score\n",
    "from sklearn.pipeline import Pipeline\n",
    "import math\n",
    "from sklearn.model_selection import GridSearchCV\n",
    "from sklearn import metrics\n",
    "from sklearn.metrics import mean_squared_error, r2_score\n",
    "from sklearn.ensemble import RandomForestRegressor\n",
    "from sklearn.svm import SVR\n",
    "from sklearn.ensemble import BaggingRegressor\n",
    "from sklearn.linear_model import Ridge\n",
    "from sklearn.neighbors import KNeighborsRegressor \n",
    "from sklearn.model_selection import cross_val_score\n",
    "from sklearn.linear_model import LinearRegression\n",
    "import statsmodels.api as sm\n",
    "import xgboost as xgb"
   ]
  },
  {
   "cell_type": "code",
   "execution_count": 2,
   "metadata": {},
   "outputs": [],
   "source": [
    "seed=42\n",
    "kf=4"
   ]
  },
  {
   "cell_type": "code",
   "execution_count": 3,
   "metadata": {},
   "outputs": [],
   "source": [
    "X12Y12_train=pd.read_excel('X12Y12_train.xlsx')\n",
    "X12Y12_test=pd.read_excel('X12Y12_test.xlsx')"
   ]
  },
  {
   "cell_type": "code",
   "execution_count": 4,
   "metadata": {},
   "outputs": [],
   "source": [
    "LassoFeatToDrop = ['Student_Internet', 'Student_ActiveWorking', 'Student_Parish',\n",
    "       'Student_County', 'STD_Resp_Himself', 'STD_Resp_LegalResp',\n",
    "       'FTH_Nation_BR', 'FTH_Nation_CHN', 'FTH_Nation_EEUR',\n",
    "       'FTH_Nation_OTHERS', 'SES_STDRESP_ProfClass_UnivII',\n",
    "       'SES_STDRESP_ProfClass_Unknown_NoProfession',\n",
    "       'SES_FATH_ProfClass_BasicI', 'SES_FATH_ProfClass_UnivI',\n",
    "       'SES_FATH_ProfClass_Unknown_NoProfession', 'SES_MOTH_ProfClass_BasicI',\n",
    "       'SES_MOTH_ProfClass_UnivI', 'SES_MOTH_ProfClass_Unknown_NoProfession',\n",
    "       'SES_STDRESP_JobSit_Other', 'SES_STDRESP_JobSit_Retired',\n",
    "       'SES_STDRESP_JobSit_SelfEmployed', 'SES_STDRESP_JobSit_Unemployed',\n",
    "       'SES_STDRESP_JobSit_Unknown', 'SES_FATH_JobSit_Employer',\n",
    "       'SES_FATH_JobSit_HomeAffairs', 'SES_FATH_JobSit_Retired',\n",
    "       'SES_FATH_JobSit_SelfEmployed', 'SES_FATH_JobSit_Student',\n",
    "       'SES_FATH_JobSit_Unknown', 'SES_MOTH_JobSit_Employer',\n",
    "       'SES_MOTH_JobSit_HomeAffairs', 'SES_MOTH_JobSit_Retired',\n",
    "       'SES_MOTH_JobSit_SelfEmployed', 'SES_MOTH_JobSit_Student',\n",
    "       'SES_MOTH_JobSit_Unemployed', 'SES_MOTH_JobSit_Unknown',\n",
    "       'SES_STDRESP_AcadEduc_Bachelor', 'SES_STDRESP_AcadEduc_Basic_III',\n",
    "       'SES_STDRESP_AcadEduc_Degree', 'SES_STDRESP_AcadEduc_NoFormalEducation',\n",
    "       'SES_STDRESP_AcadEduc_PostGraduation', 'SES_STDRESP_AcadEduc_Unknown',\n",
    "       'SES_FATH_AcadEduc_Bachelor', 'SES_FATH_AcadEduc_Basic_III',\n",
    "       'SES_FATH_AcadEduc_NoFormalEducation', 'SES_FATH_AcadEduc_Other',\n",
    "       'SES_FATH_AcadEduc_Unknown', 'SES_MOTH_AcadEduc_Basic_II',\n",
    "       'SES_MOTH_AcadEduc_NoFormalEducation', 'SES_MOTH_AcadEduc_Other',\n",
    "       'SES_MOTH_AcadEduc_Unknown', 'SES_Scholarship_Half_Support',\n",
    "       'SES%_Parish_CollectiveDwellings', 'SES%_Parish_IliteracyRate',\n",
    "       'SES%_Parish_PrimarySector', 'SES%_Parish_UnemploymentRate',\n",
    "       'Tch_FixedTermStaff', 'Tch_PedagogicZoneDefinitivePermanentStaff',\n",
    "       'Tch_PedagogicZoneNoDefinitivePermanentStaff',\n",
    "       'Tch_SchoolClusterDefinitivePermanentStaff',\n",
    "       'Tch_SchoolClusterNoDefinitivePermanentStaff',\n",
    "       'Tch_SchoolNoDefinitivePermanentStaff', 'Tch_AcadEduc_Bachelor',\n",
    "       'Tch_AcadEduc_Phd_Master', 'Tch_Step_567',\n",
    "       'Teacher_TemporaryReplacement', 'Teacher_Age',\n",
    "       'Teacher_TeachingDedicatedTime']"
   ]
  },
  {
   "cell_type": "code",
   "execution_count": 5,
   "metadata": {},
   "outputs": [],
   "source": [
    "XY_train=X12Y12_train.drop(LassoFeatToDrop, axis=1)\n",
    "XY_test=X12Y12_test.drop(LassoFeatToDrop, axis=1)"
   ]
  },
  {
   "cell_type": "code",
   "execution_count": 6,
   "metadata": {},
   "outputs": [],
   "source": [
    "XY_train=XY_train.drop(['Unnamed: 0', 'AcYear_11', 'AcYear_12'], axis=1)\n",
    "XY_test=XY_test.drop(['Unnamed: 0', 'AcYear_11', 'AcYear_12'], axis=1)"
   ]
  },
  {
   "cell_type": "raw",
   "metadata": {},
   "source": [
    "XY_train:53\n",
    "XY_test:53\n",
    "input 52\n"
   ]
  },
  {
   "cell_type": "code",
   "execution_count": 7,
   "metadata": {},
   "outputs": [
    {
     "data": {
      "text/plain": [
       "(9105, 53)"
      ]
     },
     "execution_count": 7,
     "metadata": {},
     "output_type": "execute_result"
    }
   ],
   "source": [
    "XY_test.shape"
   ]
  },
  {
   "cell_type": "code",
   "execution_count": 8,
   "metadata": {},
   "outputs": [],
   "source": [
    "X_train=XY_train.iloc[:,:52]\n",
    "Y_train=XY_train.iloc[:,-1]\n",
    "\n",
    "X_test=XY_test.iloc[:,:52]\n",
    "Y_test=XY_test.iloc[:,-1]"
   ]
  },
  {
   "cell_type": "code",
   "execution_count": 9,
   "metadata": {},
   "outputs": [],
   "source": [
    "Y_train=Y_train.to_numpy()\n",
    "Y_test=Y_test.to_numpy()"
   ]
  },
  {
   "cell_type": "code",
   "execution_count": 10,
   "metadata": {},
   "outputs": [
    {
     "data": {
      "text/plain": [
       "Index(['Std_Gender_F', 'N_Retentions', 'School_Size', 'Class_Size',\n",
       "       'Student_Computer', 'Student_NumberEnrolments',\n",
       "       'STD_Resp_CloseRelative', 'STD_Resp_Father', 'FTH_Nation_AFR',\n",
       "       'FTH_Nation_RICH', 'SES_STDRESP_ProfClass_BasicI',\n",
       "       'SES_STDRESP_ProfClass_UnivI', 'SES_FATH_ProfClass_UnivII',\n",
       "       'SES_MOTH_ProfClass_UnivII', 'SES_STDRESP_JobSit_Employer',\n",
       "       'SES_STDRESP_JobSit_HomeAffairs', 'SES_STDRESP_JobSit_Student',\n",
       "       'SES_FATH_JobSit_Other', 'SES_FATH_JobSit_Unemployed',\n",
       "       'SES_MOTH_JobSit_Other', 'SES_STDRESP_AcadEduc_Basic_I',\n",
       "       'SES_STDRESP_AcadEduc_Basic_II', 'SES_STDRESP_AcadEduc_Master',\n",
       "       'SES_STDRESP_AcadEduc_Other', 'SES_STDRESP_AcadEduc_Phd',\n",
       "       'SES_FATH_AcadEduc_Basic_I', 'SES_FATH_AcadEduc_Basic_II',\n",
       "       'SES_FATH_AcadEduc_Degree', 'SES_FATH_AcadEduc_Master',\n",
       "       'SES_FATH_AcadEduc_Phd', 'SES_FATH_AcadEduc_PostGraduation',\n",
       "       'SES_MOTH_AcadEduc_Bachelor', 'SES_MOTH_AcadEduc_Basic_I',\n",
       "       'SES_MOTH_AcadEduc_Basic_III', 'SES_MOTH_AcadEduc_Degree',\n",
       "       'SES_MOTH_AcadEduc_Master', 'SES_MOTH_AcadEduc_Phd',\n",
       "       'SES_MOTH_AcadEduc_PostGraduation', 'SES_Scholarship_Full_Support',\n",
       "       'SES%_Parish_FamilyNoClassicDwellings',\n",
       "       'SES%_Parish_PostSecondarySchoolingRate', 'SES%_Parish_SecondarySector',\n",
       "       'Tch_AcadEduc_Other', 'Tch_Step_1234', 'Tch_Step_8910', 'Tch_Gender_F',\n",
       "       'Teacher_EducationSupport', 'Teacher_NoTeachingDedicatedTime',\n",
       "       'Teacher_EducationSupportDedicatedTime', 'SubjClass_Foreign_Lang',\n",
       "       'SubjClass_Qual', 'SubjClass_Quant'],\n",
       "      dtype='object')"
      ]
     },
     "execution_count": 10,
     "metadata": {},
     "output_type": "execute_result"
    }
   ],
   "source": [
    "X_train.columns"
   ]
  },
  {
   "cell_type": "code",
   "execution_count": 11,
   "metadata": {},
   "outputs": [],
   "source": [
    "# standardization\n",
    "scaler=StandardScaler()"
   ]
  },
  {
   "cell_type": "code",
   "execution_count": 12,
   "metadata": {},
   "outputs": [],
   "source": [
    "tscale=scaler.fit(X_train)\n",
    "X_train_std=tscale.transform(X_train)\n",
    "X_test_std=tscale.transform(X_test)"
   ]
  },
  {
   "cell_type": "markdown",
   "metadata": {},
   "source": [
    "## Fit best models"
   ]
  },
  {
   "cell_type": "markdown",
   "metadata": {},
   "source": [
    "### OLS - Multiple Linear Regression"
   ]
  },
  {
   "cell_type": "code",
   "execution_count": 13,
   "metadata": {},
   "outputs": [],
   "source": [
    "OLS_rgr = LinearRegression(fit_intercept=True, normalize=False, copy_X=True, n_jobs=None)"
   ]
  },
  {
   "cell_type": "code",
   "execution_count": 14,
   "metadata": {},
   "outputs": [],
   "source": [
    "# Define sklearn pipeline\n",
    "estimators = []\n",
    "estimators.append(('standardize', StandardScaler()))\n",
    "estimators.append(('OLS', OLS_rgr))\n",
    "pipeline = Pipeline(estimators)"
   ]
  },
  {
   "cell_type": "code",
   "execution_count": 15,
   "metadata": {},
   "outputs": [
    {
     "data": {
      "text/plain": [
       "LinearRegression(copy_X=True, fit_intercept=True, n_jobs=None, normalize=False)"
      ]
     },
     "execution_count": 15,
     "metadata": {},
     "output_type": "execute_result"
    }
   ],
   "source": [
    "OLS_rgr.fit(X_train_std, Y_train)"
   ]
  },
  {
   "cell_type": "code",
   "execution_count": 16,
   "metadata": {},
   "outputs": [
    {
     "data": {
      "text/plain": [
       "0.240771842483801"
      ]
     },
     "execution_count": 16,
     "metadata": {},
     "output_type": "execute_result"
    }
   ],
   "source": [
    "OLS_rgr.score(X_train_std, Y_train)"
   ]
  },
  {
   "cell_type": "code",
   "execution_count": 17,
   "metadata": {},
   "outputs": [
    {
     "data": {
      "text/plain": [
       "array([ 0.37473399, -0.38006537,  0.11564606, -0.07114634,  0.06906749,\n",
       "       -0.13658611, -0.04026167, -0.07020974, -0.03639417, -0.03378208,\n",
       "       -0.01762196,  0.02714459,  0.11414426,  0.12816886, -0.04398185,\n",
       "        0.05586552,  0.03818931, -0.02754377, -0.04279887, -0.03164739,\n",
       "       -0.01614629, -0.05135028,  0.02539166,  0.06012771,  0.01352304,\n",
       "       -0.04605371, -0.05301898,  0.15515364,  0.07077833,  0.10371484,\n",
       "        0.02651514,  0.06395653, -0.03444624, -0.06031636,  0.21890708,\n",
       "        0.08400519,  0.04160214,  0.03401987, -0.02892968, -0.0587255 ,\n",
       "        0.13970316,  0.34686791,  0.05193627,  0.10489917,  0.06346095,\n",
       "        0.06374803, -0.01542605,  0.07470079, -0.06485408,  0.96931534,\n",
       "       -0.09892404,  0.2904366 ])"
      ]
     },
     "execution_count": 17,
     "metadata": {},
     "output_type": "execute_result"
    }
   ],
   "source": [
    "OLS_rgr.coef_"
   ]
  },
  {
   "cell_type": "code",
   "execution_count": 18,
   "metadata": {},
   "outputs": [
    {
     "data": {
      "text/plain": [
       "13.679343250070165"
      ]
     },
     "execution_count": 18,
     "metadata": {},
     "output_type": "execute_result"
    }
   ],
   "source": [
    "OLS_rgr.intercept_"
   ]
  },
  {
   "cell_type": "raw",
   "metadata": {},
   "source": [
    "scoring={'MSE': 'neg_mean_squared_error', 'MAE': 'neg_mean_absolute_error', 'R2': 'r2'}"
   ]
  },
  {
   "cell_type": "code",
   "execution_count": 19,
   "metadata": {},
   "outputs": [],
   "source": [
    "scores_MSE = cross_val_score(pipeline, X_train, Y_train, cv=kf,\n",
    "                         scoring='neg_mean_squared_error')\n",
    "scores_MAE = cross_val_score(pipeline, X_train, Y_train, cv=kf,\n",
    "                         scoring='neg_mean_absolute_error')\n",
    "scores_R2 = cross_val_score(pipeline, X_train, Y_train, cv=kf,\n",
    "                         scoring='r2')"
   ]
  },
  {
   "cell_type": "code",
   "execution_count": 20,
   "metadata": {},
   "outputs": [
    {
     "name": "stdout",
     "output_type": "stream",
     "text": [
      "MSE: 5.91 (+/- 0.11)\n",
      "MAE: 1.98 (+/- 0.03)\n",
      "R2: -0.24 (+/- 0.00)\n"
     ]
    }
   ],
   "source": [
    "print(\"MSE: %0.2f (+/- %0.2f)\" % (-scores_MSE.mean(), scores_MSE.std() * 2))\n",
    "print(\"MAE: %0.2f (+/- %0.2f)\" % (-scores_MAE.mean(), scores_MAE.std() * 2))\n",
    "print(\"R2: %0.2f (+/- %0.2f)\" % (-scores_R2.mean(), scores_R2.std() * 2))"
   ]
  },
  {
   "cell_type": "code",
   "execution_count": 21,
   "metadata": {},
   "outputs": [],
   "source": [
    "df_scorescv_ols_MSE=pd.DataFrame(scores_MSE)\n",
    "df_scorescv_ols_MAE=pd.DataFrame(scores_MAE)\n",
    "df_scorescv_ols_R2=pd.DataFrame(scores_R2)"
   ]
  },
  {
   "cell_type": "code",
   "execution_count": 22,
   "metadata": {},
   "outputs": [],
   "source": [
    "df_scorescv_ols_MSE.to_excel('FINALRESULTS_CV_12.xlsx', sheet_name='OLS_MSE')\n",
    "\n",
    "with pd.ExcelWriter('FINALRESULTS_CV_12.xlsx',engine='openpyxl', mode='a') as writer:\n",
    "    df_scorescv_ols_MAE.to_excel(writer, sheet_name='OLS_MAE')\n",
    "\n",
    "with pd.ExcelWriter('FINALRESULTS_CV_12.xlsx',engine='openpyxl', mode='a') as writer:\n",
    "    df_scorescv_ols_R2.to_excel(writer, sheet_name='OLS_R2')"
   ]
  },
  {
   "cell_type": "code",
   "execution_count": 23,
   "metadata": {},
   "outputs": [],
   "source": [
    "mse_OLS_rgr_cv = -scores_MSE.mean()\n",
    "mse_std_OLS_rgr_cv = -scores_MSE.std()\n",
    "mae_OLS_rgr_cv = -scores_MAE.mean()\n",
    "mae_std_OLS_rgr_cv = -scores_MAE.std()\n",
    "r2_OLS_rgr_cv = -scores_R2.mean()\n",
    "r2_std_OLS_rgr_cv = -scores_R2.std()"
   ]
  },
  {
   "cell_type": "code",
   "execution_count": 24,
   "metadata": {},
   "outputs": [],
   "source": [
    "Y_train_pred=OLS_rgr.predict(X_train_std)\n",
    "Y_test_pred=OLS_rgr.predict(X_test_std)"
   ]
  },
  {
   "cell_type": "code",
   "execution_count": 25,
   "metadata": {},
   "outputs": [],
   "source": [
    "mse_OLS_rgr_train = metrics.mean_squared_error(Y_train, Y_train_pred) \n",
    "mse_OLS_rgr_test = metrics.mean_squared_error(Y_test, Y_test_pred)\n",
    "\n",
    "mae_OLS_rgr_train = metrics.mean_absolute_error(Y_train, Y_train_pred) \n",
    "mae_OLS_rgr_test = metrics.mean_absolute_error(Y_test, Y_test_pred)\n",
    "\n",
    "r2_OLS_rgr_train = metrics.r2_score(Y_train, Y_train_pred)\n",
    "r2_OLS_rgr_test = metrics.r2_score(Y_test, Y_test_pred)"
   ]
  },
  {
   "cell_type": "code",
   "execution_count": 26,
   "metadata": {},
   "outputs": [],
   "source": [
    "columns = ['MSE_train','MAE_train','R2_train',\n",
    "           'MSE_cv','MSE_std_cv','MAE_cv','MAE_std_cv','R2_cv','R2_std_cv',\n",
    "           'MSE_test','MAE_test', 'R2_test']"
   ]
  },
  {
   "cell_type": "code",
   "execution_count": 27,
   "metadata": {},
   "outputs": [],
   "source": [
    "df_results= pd.DataFrame(columns=columns)"
   ]
  },
  {
   "cell_type": "code",
   "execution_count": 28,
   "metadata": {},
   "outputs": [],
   "source": [
    "new_results_dic = {'MSE_train': mse_OLS_rgr_train, 'MAE_train': mae_OLS_rgr_train,'R2_train': r2_OLS_rgr_train,\n",
    "                   'MSE_cv': mse_OLS_rgr_cv, 'MSE_std_cv': mse_std_OLS_rgr_cv, 'MAE_cv': mae_OLS_rgr_cv,\n",
    "                   'MAE_std_cv': mae_std_OLS_rgr_cv, 'R2_cv': r2_OLS_rgr_cv, 'R2_std_cv': r2_std_OLS_rgr_cv,\n",
    "                   'MSE_test': mse_OLS_rgr_test, 'MAE_test': mae_OLS_rgr_test, 'R2_test': r2_OLS_rgr_test}\n",
    "df_results.loc[len(df_results)] = new_results_dic\n"
   ]
  },
  {
   "cell_type": "code",
   "execution_count": 29,
   "metadata": {},
   "outputs": [
    {
     "data": {
      "text/html": [
       "<div>\n",
       "<style scoped>\n",
       "    .dataframe tbody tr th:only-of-type {\n",
       "        vertical-align: middle;\n",
       "    }\n",
       "\n",
       "    .dataframe tbody tr th {\n",
       "        vertical-align: top;\n",
       "    }\n",
       "\n",
       "    .dataframe thead th {\n",
       "        text-align: right;\n",
       "    }\n",
       "</style>\n",
       "<table border=\"1\" class=\"dataframe\">\n",
       "  <thead>\n",
       "    <tr style=\"text-align: right;\">\n",
       "      <th></th>\n",
       "      <th>MSE_train</th>\n",
       "      <th>MAE_train</th>\n",
       "      <th>R2_train</th>\n",
       "      <th>MSE_cv</th>\n",
       "      <th>MSE_std_cv</th>\n",
       "      <th>MAE_cv</th>\n",
       "      <th>MAE_std_cv</th>\n",
       "      <th>R2_cv</th>\n",
       "      <th>R2_std_cv</th>\n",
       "      <th>MSE_test</th>\n",
       "      <th>MAE_test</th>\n",
       "      <th>R2_test</th>\n",
       "    </tr>\n",
       "  </thead>\n",
       "  <tbody>\n",
       "    <tr>\n",
       "      <th>OLS</th>\n",
       "      <td>5.879451</td>\n",
       "      <td>1.970679</td>\n",
       "      <td>0.240772</td>\n",
       "      <td>5.909545</td>\n",
       "      <td>-0.055091</td>\n",
       "      <td>1.975511</td>\n",
       "      <td>-0.016413</td>\n",
       "      <td>-0.236827</td>\n",
       "      <td>-0.00208</td>\n",
       "      <td>5.941023</td>\n",
       "      <td>1.982939</td>\n",
       "      <td>0.223962</td>\n",
       "    </tr>\n",
       "  </tbody>\n",
       "</table>\n",
       "</div>"
      ],
      "text/plain": [
       "     MSE_train  MAE_train  R2_train    MSE_cv  MSE_std_cv    MAE_cv  \\\n",
       "OLS   5.879451   1.970679  0.240772  5.909545   -0.055091  1.975511   \n",
       "\n",
       "     MAE_std_cv     R2_cv  R2_std_cv  MSE_test  MAE_test   R2_test  \n",
       "OLS   -0.016413 -0.236827   -0.00208  5.941023  1.982939  0.223962  "
      ]
     },
     "execution_count": 29,
     "metadata": {},
     "output_type": "execute_result"
    }
   ],
   "source": [
    "indexNamesArr = df_results.index.values\n",
    "i = indexNamesArr[-1]\n",
    "df_results.rename(index={i:'OLS'}, inplace=True)\n",
    "df_results.head()"
   ]
  },
  {
   "cell_type": "code",
   "execution_count": 30,
   "metadata": {},
   "outputs": [],
   "source": [
    "X_train_constant = sm.add_constant(X_train)\n",
    "X_test_constant = sm.add_constant(X_test)\n",
    "X_train_std_constant=sm.add_constant(X_train_std)"
   ]
  },
  {
   "cell_type": "code",
   "execution_count": 31,
   "metadata": {
    "scrolled": true
   },
   "outputs": [
    {
     "data": {
      "text/html": [
       "<table class=\"simpletable\">\n",
       "<caption>OLS Regression Results</caption>\n",
       "<tr>\n",
       "  <th>Dep. Variable:</th>            <td>y</td>        <th>  R-squared:         </th> <td>   0.241</td> \n",
       "</tr>\n",
       "<tr>\n",
       "  <th>Model:</th>                   <td>OLS</td>       <th>  Adj. R-squared:    </th> <td>   0.239</td> \n",
       "</tr>\n",
       "<tr>\n",
       "  <th>Method:</th>             <td>Least Squares</td>  <th>  F-statistic:       </th> <td>   130.1</td> \n",
       "</tr>\n",
       "<tr>\n",
       "  <th>Date:</th>             <td>Wed, 21 Oct 2020</td> <th>  Prob (F-statistic):</th>  <td>  0.00</td>  \n",
       "</tr>\n",
       "<tr>\n",
       "  <th>Time:</th>                 <td>14:51:20</td>     <th>  Log-Likelihood:    </th> <td> -49269.</td> \n",
       "</tr>\n",
       "<tr>\n",
       "  <th>No. Observations:</th>      <td> 21378</td>      <th>  AIC:               </th> <td>9.864e+04</td>\n",
       "</tr>\n",
       "<tr>\n",
       "  <th>Df Residuals:</th>          <td> 21325</td>      <th>  BIC:               </th> <td>9.907e+04</td>\n",
       "</tr>\n",
       "<tr>\n",
       "  <th>Df Model:</th>              <td>    52</td>      <th>                     </th>     <td> </td>    \n",
       "</tr>\n",
       "<tr>\n",
       "  <th>Covariance Type:</th>      <td>nonrobust</td>    <th>                     </th>     <td> </td>    \n",
       "</tr>\n",
       "</table>\n",
       "<table class=\"simpletable\">\n",
       "<tr>\n",
       "    <td></td>       <th>coef</th>     <th>std err</th>      <th>t</th>      <th>P>|t|</th>  <th>[0.025</th>    <th>0.975]</th>  \n",
       "</tr>\n",
       "<tr>\n",
       "  <th>const</th> <td>   13.6793</td> <td>    0.017</td> <td>  823.837</td> <td> 0.000</td> <td>   13.647</td> <td>   13.712</td>\n",
       "</tr>\n",
       "<tr>\n",
       "  <th>x1</th>    <td>    0.3747</td> <td>    0.017</td> <td>   22.377</td> <td> 0.000</td> <td>    0.342</td> <td>    0.408</td>\n",
       "</tr>\n",
       "<tr>\n",
       "  <th>x2</th>    <td>   -0.3801</td> <td>    0.017</td> <td>  -21.862</td> <td> 0.000</td> <td>   -0.414</td> <td>   -0.346</td>\n",
       "</tr>\n",
       "<tr>\n",
       "  <th>x3</th>    <td>    0.1156</td> <td>    0.018</td> <td>    6.553</td> <td> 0.000</td> <td>    0.081</td> <td>    0.150</td>\n",
       "</tr>\n",
       "<tr>\n",
       "  <th>x4</th>    <td>   -0.0711</td> <td>    0.017</td> <td>   -4.089</td> <td> 0.000</td> <td>   -0.105</td> <td>   -0.037</td>\n",
       "</tr>\n",
       "<tr>\n",
       "  <th>x5</th>    <td>    0.0691</td> <td>    0.017</td> <td>    3.964</td> <td> 0.000</td> <td>    0.035</td> <td>    0.103</td>\n",
       "</tr>\n",
       "<tr>\n",
       "  <th>x6</th>    <td>   -0.1366</td> <td>    0.017</td> <td>   -8.181</td> <td> 0.000</td> <td>   -0.169</td> <td>   -0.104</td>\n",
       "</tr>\n",
       "<tr>\n",
       "  <th>x7</th>    <td>   -0.0403</td> <td>    0.017</td> <td>   -2.409</td> <td> 0.016</td> <td>   -0.073</td> <td>   -0.008</td>\n",
       "</tr>\n",
       "<tr>\n",
       "  <th>x8</th>    <td>   -0.0702</td> <td>    0.017</td> <td>   -4.202</td> <td> 0.000</td> <td>   -0.103</td> <td>   -0.037</td>\n",
       "</tr>\n",
       "<tr>\n",
       "  <th>x9</th>    <td>   -0.0364</td> <td>    0.017</td> <td>   -2.168</td> <td> 0.030</td> <td>   -0.069</td> <td>   -0.003</td>\n",
       "</tr>\n",
       "<tr>\n",
       "  <th>x10</th>   <td>   -0.0338</td> <td>    0.017</td> <td>   -2.027</td> <td> 0.043</td> <td>   -0.066</td> <td>   -0.001</td>\n",
       "</tr>\n",
       "<tr>\n",
       "  <th>x11</th>   <td>   -0.0176</td> <td>    0.017</td> <td>   -1.030</td> <td> 0.303</td> <td>   -0.051</td> <td>    0.016</td>\n",
       "</tr>\n",
       "<tr>\n",
       "  <th>x12</th>   <td>    0.0271</td> <td>    0.017</td> <td>    1.578</td> <td> 0.115</td> <td>   -0.007</td> <td>    0.061</td>\n",
       "</tr>\n",
       "<tr>\n",
       "  <th>x13</th>   <td>    0.1141</td> <td>    0.021</td> <td>    5.388</td> <td> 0.000</td> <td>    0.073</td> <td>    0.156</td>\n",
       "</tr>\n",
       "<tr>\n",
       "  <th>x14</th>   <td>    0.1282</td> <td>    0.024</td> <td>    5.322</td> <td> 0.000</td> <td>    0.081</td> <td>    0.175</td>\n",
       "</tr>\n",
       "<tr>\n",
       "  <th>x15</th>   <td>   -0.0440</td> <td>    0.017</td> <td>   -2.620</td> <td> 0.009</td> <td>   -0.077</td> <td>   -0.011</td>\n",
       "</tr>\n",
       "<tr>\n",
       "  <th>x16</th>   <td>    0.0559</td> <td>    0.018</td> <td>    3.192</td> <td> 0.001</td> <td>    0.022</td> <td>    0.090</td>\n",
       "</tr>\n",
       "<tr>\n",
       "  <th>x17</th>   <td>    0.0382</td> <td>    0.018</td> <td>    2.178</td> <td> 0.029</td> <td>    0.004</td> <td>    0.073</td>\n",
       "</tr>\n",
       "<tr>\n",
       "  <th>x18</th>   <td>   -0.0275</td> <td>    0.018</td> <td>   -1.563</td> <td> 0.118</td> <td>   -0.062</td> <td>    0.007</td>\n",
       "</tr>\n",
       "<tr>\n",
       "  <th>x19</th>   <td>   -0.0428</td> <td>    0.017</td> <td>   -2.531</td> <td> 0.011</td> <td>   -0.076</td> <td>   -0.010</td>\n",
       "</tr>\n",
       "<tr>\n",
       "  <th>x20</th>   <td>   -0.0316</td> <td>    0.018</td> <td>   -1.788</td> <td> 0.074</td> <td>   -0.066</td> <td>    0.003</td>\n",
       "</tr>\n",
       "<tr>\n",
       "  <th>x21</th>   <td>   -0.0161</td> <td>    0.031</td> <td>   -0.518</td> <td> 0.605</td> <td>   -0.077</td> <td>    0.045</td>\n",
       "</tr>\n",
       "<tr>\n",
       "  <th>x22</th>   <td>   -0.0514</td> <td>    0.021</td> <td>   -2.442</td> <td> 0.015</td> <td>   -0.093</td> <td>   -0.010</td>\n",
       "</tr>\n",
       "<tr>\n",
       "  <th>x23</th>   <td>    0.0254</td> <td>    0.030</td> <td>    0.845</td> <td> 0.398</td> <td>   -0.034</td> <td>    0.084</td>\n",
       "</tr>\n",
       "<tr>\n",
       "  <th>x24</th>   <td>    0.0601</td> <td>    0.017</td> <td>    3.559</td> <td> 0.000</td> <td>    0.027</td> <td>    0.093</td>\n",
       "</tr>\n",
       "<tr>\n",
       "  <th>x25</th>   <td>    0.0135</td> <td>    0.028</td> <td>    0.483</td> <td> 0.629</td> <td>   -0.041</td> <td>    0.068</td>\n",
       "</tr>\n",
       "<tr>\n",
       "  <th>x26</th>   <td>   -0.0461</td> <td>    0.020</td> <td>   -2.358</td> <td> 0.018</td> <td>   -0.084</td> <td>   -0.008</td>\n",
       "</tr>\n",
       "<tr>\n",
       "  <th>x27</th>   <td>   -0.0530</td> <td>    0.020</td> <td>   -2.633</td> <td> 0.008</td> <td>   -0.092</td> <td>   -0.014</td>\n",
       "</tr>\n",
       "<tr>\n",
       "  <th>x28</th>   <td>    0.1552</td> <td>    0.022</td> <td>    7.203</td> <td> 0.000</td> <td>    0.113</td> <td>    0.197</td>\n",
       "</tr>\n",
       "<tr>\n",
       "  <th>x29</th>   <td>    0.0708</td> <td>    0.019</td> <td>    3.714</td> <td> 0.000</td> <td>    0.033</td> <td>    0.108</td>\n",
       "</tr>\n",
       "<tr>\n",
       "  <th>x30</th>   <td>    0.1037</td> <td>    0.020</td> <td>    5.264</td> <td> 0.000</td> <td>    0.065</td> <td>    0.142</td>\n",
       "</tr>\n",
       "<tr>\n",
       "  <th>x31</th>   <td>    0.0265</td> <td>    0.017</td> <td>    1.566</td> <td> 0.117</td> <td>   -0.007</td> <td>    0.060</td>\n",
       "</tr>\n",
       "<tr>\n",
       "  <th>x32</th>   <td>    0.0640</td> <td>    0.017</td> <td>    3.707</td> <td> 0.000</td> <td>    0.030</td> <td>    0.098</td>\n",
       "</tr>\n",
       "<tr>\n",
       "  <th>x33</th>   <td>   -0.0344</td> <td>    0.030</td> <td>   -1.141</td> <td> 0.254</td> <td>   -0.094</td> <td>    0.025</td>\n",
       "</tr>\n",
       "<tr>\n",
       "  <th>x34</th>   <td>   -0.0603</td> <td>    0.018</td> <td>   -3.281</td> <td> 0.001</td> <td>   -0.096</td> <td>   -0.024</td>\n",
       "</tr>\n",
       "<tr>\n",
       "  <th>x35</th>   <td>    0.2189</td> <td>    0.025</td> <td>    8.849</td> <td> 0.000</td> <td>    0.170</td> <td>    0.267</td>\n",
       "</tr>\n",
       "<tr>\n",
       "  <th>x36</th>   <td>    0.0840</td> <td>    0.029</td> <td>    2.854</td> <td> 0.004</td> <td>    0.026</td> <td>    0.142</td>\n",
       "</tr>\n",
       "<tr>\n",
       "  <th>x37</th>   <td>    0.0416</td> <td>    0.026</td> <td>    1.611</td> <td> 0.107</td> <td>   -0.009</td> <td>    0.092</td>\n",
       "</tr>\n",
       "<tr>\n",
       "  <th>x38</th>   <td>    0.0340</td> <td>    0.017</td> <td>    1.994</td> <td> 0.046</td> <td>    0.001</td> <td>    0.067</td>\n",
       "</tr>\n",
       "<tr>\n",
       "  <th>x39</th>   <td>   -0.0289</td> <td>    0.017</td> <td>   -1.682</td> <td> 0.092</td> <td>   -0.063</td> <td>    0.005</td>\n",
       "</tr>\n",
       "<tr>\n",
       "  <th>x40</th>   <td>   -0.0587</td> <td>    0.017</td> <td>   -3.464</td> <td> 0.001</td> <td>   -0.092</td> <td>   -0.025</td>\n",
       "</tr>\n",
       "<tr>\n",
       "  <th>x41</th>   <td>    0.1397</td> <td>    0.023</td> <td>    5.966</td> <td> 0.000</td> <td>    0.094</td> <td>    0.186</td>\n",
       "</tr>\n",
       "<tr>\n",
       "  <th>x42</th>   <td>    0.3469</td> <td>    0.024</td> <td>   14.693</td> <td> 0.000</td> <td>    0.301</td> <td>    0.393</td>\n",
       "</tr>\n",
       "<tr>\n",
       "  <th>x43</th>   <td>    0.0519</td> <td>    0.017</td> <td>    3.079</td> <td> 0.002</td> <td>    0.019</td> <td>    0.085</td>\n",
       "</tr>\n",
       "<tr>\n",
       "  <th>x44</th>   <td>    0.1049</td> <td>    0.018</td> <td>    5.816</td> <td> 0.000</td> <td>    0.070</td> <td>    0.140</td>\n",
       "</tr>\n",
       "<tr>\n",
       "  <th>x45</th>   <td>    0.0635</td> <td>    0.018</td> <td>    3.575</td> <td> 0.000</td> <td>    0.029</td> <td>    0.098</td>\n",
       "</tr>\n",
       "<tr>\n",
       "  <th>x46</th>   <td>    0.0637</td> <td>    0.017</td> <td>    3.681</td> <td> 0.000</td> <td>    0.030</td> <td>    0.098</td>\n",
       "</tr>\n",
       "<tr>\n",
       "  <th>x47</th>   <td>   -0.0154</td> <td>    0.029</td> <td>   -0.530</td> <td> 0.596</td> <td>   -0.072</td> <td>    0.042</td>\n",
       "</tr>\n",
       "<tr>\n",
       "  <th>x48</th>   <td>    0.0747</td> <td>    0.017</td> <td>    4.298</td> <td> 0.000</td> <td>    0.041</td> <td>    0.109</td>\n",
       "</tr>\n",
       "<tr>\n",
       "  <th>x49</th>   <td>   -0.0649</td> <td>    0.029</td> <td>   -2.230</td> <td> 0.026</td> <td>   -0.122</td> <td>   -0.008</td>\n",
       "</tr>\n",
       "<tr>\n",
       "  <th>x50</th>   <td>    0.9693</td> <td>    0.017</td> <td>   56.096</td> <td> 0.000</td> <td>    0.935</td> <td>    1.003</td>\n",
       "</tr>\n",
       "<tr>\n",
       "  <th>x51</th>   <td>   -0.0989</td> <td>    0.018</td> <td>   -5.393</td> <td> 0.000</td> <td>   -0.135</td> <td>   -0.063</td>\n",
       "</tr>\n",
       "<tr>\n",
       "  <th>x52</th>   <td>    0.2904</td> <td>    0.018</td> <td>   15.928</td> <td> 0.000</td> <td>    0.255</td> <td>    0.326</td>\n",
       "</tr>\n",
       "</table>\n",
       "<table class=\"simpletable\">\n",
       "<tr>\n",
       "  <th>Omnibus:</th>       <td>110.378</td> <th>  Durbin-Watson:     </th> <td>   1.996</td>\n",
       "</tr>\n",
       "<tr>\n",
       "  <th>Prob(Omnibus):</th> <td> 0.000</td>  <th>  Jarque-Bera (JB):  </th> <td> 100.560</td>\n",
       "</tr>\n",
       "<tr>\n",
       "  <th>Skew:</th>          <td> 0.130</td>  <th>  Prob(JB):          </th> <td>1.46e-22</td>\n",
       "</tr>\n",
       "<tr>\n",
       "  <th>Kurtosis:</th>      <td> 2.786</td>  <th>  Cond. No.          </th> <td>    4.79</td>\n",
       "</tr>\n",
       "</table><br/><br/>Warnings:<br/>[1] Standard Errors assume that the covariance matrix of the errors is correctly specified."
      ],
      "text/plain": [
       "<class 'statsmodels.iolib.summary.Summary'>\n",
       "\"\"\"\n",
       "                            OLS Regression Results                            \n",
       "==============================================================================\n",
       "Dep. Variable:                      y   R-squared:                       0.241\n",
       "Model:                            OLS   Adj. R-squared:                  0.239\n",
       "Method:                 Least Squares   F-statistic:                     130.1\n",
       "Date:                Wed, 21 Oct 2020   Prob (F-statistic):               0.00\n",
       "Time:                        14:51:20   Log-Likelihood:                -49269.\n",
       "No. Observations:               21378   AIC:                         9.864e+04\n",
       "Df Residuals:                   21325   BIC:                         9.907e+04\n",
       "Df Model:                          52                                         \n",
       "Covariance Type:            nonrobust                                         \n",
       "==============================================================================\n",
       "                 coef    std err          t      P>|t|      [0.025      0.975]\n",
       "------------------------------------------------------------------------------\n",
       "const         13.6793      0.017    823.837      0.000      13.647      13.712\n",
       "x1             0.3747      0.017     22.377      0.000       0.342       0.408\n",
       "x2            -0.3801      0.017    -21.862      0.000      -0.414      -0.346\n",
       "x3             0.1156      0.018      6.553      0.000       0.081       0.150\n",
       "x4            -0.0711      0.017     -4.089      0.000      -0.105      -0.037\n",
       "x5             0.0691      0.017      3.964      0.000       0.035       0.103\n",
       "x6            -0.1366      0.017     -8.181      0.000      -0.169      -0.104\n",
       "x7            -0.0403      0.017     -2.409      0.016      -0.073      -0.008\n",
       "x8            -0.0702      0.017     -4.202      0.000      -0.103      -0.037\n",
       "x9            -0.0364      0.017     -2.168      0.030      -0.069      -0.003\n",
       "x10           -0.0338      0.017     -2.027      0.043      -0.066      -0.001\n",
       "x11           -0.0176      0.017     -1.030      0.303      -0.051       0.016\n",
       "x12            0.0271      0.017      1.578      0.115      -0.007       0.061\n",
       "x13            0.1141      0.021      5.388      0.000       0.073       0.156\n",
       "x14            0.1282      0.024      5.322      0.000       0.081       0.175\n",
       "x15           -0.0440      0.017     -2.620      0.009      -0.077      -0.011\n",
       "x16            0.0559      0.018      3.192      0.001       0.022       0.090\n",
       "x17            0.0382      0.018      2.178      0.029       0.004       0.073\n",
       "x18           -0.0275      0.018     -1.563      0.118      -0.062       0.007\n",
       "x19           -0.0428      0.017     -2.531      0.011      -0.076      -0.010\n",
       "x20           -0.0316      0.018     -1.788      0.074      -0.066       0.003\n",
       "x21           -0.0161      0.031     -0.518      0.605      -0.077       0.045\n",
       "x22           -0.0514      0.021     -2.442      0.015      -0.093      -0.010\n",
       "x23            0.0254      0.030      0.845      0.398      -0.034       0.084\n",
       "x24            0.0601      0.017      3.559      0.000       0.027       0.093\n",
       "x25            0.0135      0.028      0.483      0.629      -0.041       0.068\n",
       "x26           -0.0461      0.020     -2.358      0.018      -0.084      -0.008\n",
       "x27           -0.0530      0.020     -2.633      0.008      -0.092      -0.014\n",
       "x28            0.1552      0.022      7.203      0.000       0.113       0.197\n",
       "x29            0.0708      0.019      3.714      0.000       0.033       0.108\n",
       "x30            0.1037      0.020      5.264      0.000       0.065       0.142\n",
       "x31            0.0265      0.017      1.566      0.117      -0.007       0.060\n",
       "x32            0.0640      0.017      3.707      0.000       0.030       0.098\n",
       "x33           -0.0344      0.030     -1.141      0.254      -0.094       0.025\n",
       "x34           -0.0603      0.018     -3.281      0.001      -0.096      -0.024\n",
       "x35            0.2189      0.025      8.849      0.000       0.170       0.267\n",
       "x36            0.0840      0.029      2.854      0.004       0.026       0.142\n",
       "x37            0.0416      0.026      1.611      0.107      -0.009       0.092\n",
       "x38            0.0340      0.017      1.994      0.046       0.001       0.067\n",
       "x39           -0.0289      0.017     -1.682      0.092      -0.063       0.005\n",
       "x40           -0.0587      0.017     -3.464      0.001      -0.092      -0.025\n",
       "x41            0.1397      0.023      5.966      0.000       0.094       0.186\n",
       "x42            0.3469      0.024     14.693      0.000       0.301       0.393\n",
       "x43            0.0519      0.017      3.079      0.002       0.019       0.085\n",
       "x44            0.1049      0.018      5.816      0.000       0.070       0.140\n",
       "x45            0.0635      0.018      3.575      0.000       0.029       0.098\n",
       "x46            0.0637      0.017      3.681      0.000       0.030       0.098\n",
       "x47           -0.0154      0.029     -0.530      0.596      -0.072       0.042\n",
       "x48            0.0747      0.017      4.298      0.000       0.041       0.109\n",
       "x49           -0.0649      0.029     -2.230      0.026      -0.122      -0.008\n",
       "x50            0.9693      0.017     56.096      0.000       0.935       1.003\n",
       "x51           -0.0989      0.018     -5.393      0.000      -0.135      -0.063\n",
       "x52            0.2904      0.018     15.928      0.000       0.255       0.326\n",
       "==============================================================================\n",
       "Omnibus:                      110.378   Durbin-Watson:                   1.996\n",
       "Prob(Omnibus):                  0.000   Jarque-Bera (JB):              100.560\n",
       "Skew:                           0.130   Prob(JB):                     1.46e-22\n",
       "Kurtosis:                       2.786   Cond. No.                         4.79\n",
       "==============================================================================\n",
       "\n",
       "Warnings:\n",
       "[1] Standard Errors assume that the covariance matrix of the errors is correctly specified.\n",
       "\"\"\""
      ]
     },
     "execution_count": 31,
     "metadata": {},
     "output_type": "execute_result"
    }
   ],
   "source": [
    "OLS_model = sm.OLS(Y_train, X_train_std_constant)\n",
    "lr = OLS_model.fit()\n",
    "lr.summary()"
   ]
  },
  {
   "cell_type": "markdown",
   "metadata": {},
   "source": [
    "### RF - Random Forest"
   ]
  },
  {
   "cell_type": "raw",
   "metadata": {},
   "source": [
    "Grid search best parameters:\n",
    "n_estimators, min_samples_leaf (minimum number of samples required to be at a leaf), min_samples_split and bootstrap\n",
    "Best parameters CV:\n",
    "{'rf__n_estimators': 420,\n",
    " 'rf__min_samples_split': 0.009000000000000001,\n",
    " 'rf__min_samples_leaf': 0.001,\n",
    " 'rf__bootstrap': True}"
   ]
  },
  {
   "cell_type": "code",
   "execution_count": 32,
   "metadata": {},
   "outputs": [],
   "source": [
    "rf_rgr = RandomForestRegressor(n_estimators = 420, criterion=\"mse\", min_samples_leaf=0.001,\n",
    "                               min_samples_split=0.009 , bootstrap=True, random_state=seed)"
   ]
  },
  {
   "cell_type": "code",
   "execution_count": 33,
   "metadata": {},
   "outputs": [],
   "source": [
    "# Define sklearn pipeline\n",
    "estimators = []\n",
    "estimators.append(('standardize', StandardScaler()))\n",
    "estimators.append(('RF', rf_rgr))\n",
    "pipeline = Pipeline(estimators)"
   ]
  },
  {
   "cell_type": "code",
   "execution_count": 34,
   "metadata": {},
   "outputs": [],
   "source": [
    "scores_MSE = cross_val_score(pipeline, X_train, Y_train, cv=kf,\n",
    "                         scoring='neg_mean_squared_error')\n",
    "scores_MAE = cross_val_score(pipeline, X_train, Y_train, cv=kf,\n",
    "                         scoring='neg_mean_absolute_error')\n",
    "scores_R2 = cross_val_score(pipeline, X_train, Y_train, cv=kf,\n",
    "                         scoring='r2')"
   ]
  },
  {
   "cell_type": "code",
   "execution_count": 35,
   "metadata": {},
   "outputs": [
    {
     "name": "stdout",
     "output_type": "stream",
     "text": [
      "MSE: 5.87 (+/- 0.11)\n",
      "MAE: 1.97 (+/- 0.03)\n",
      "R2: -0.24 (+/- 0.01)\n"
     ]
    }
   ],
   "source": [
    "print(\"MSE: %0.2f (+/- %0.2f)\" % (-scores_MSE.mean(), scores_MSE.std() * 2))\n",
    "print(\"MAE: %0.2f (+/- %0.2f)\" % (-scores_MAE.mean(), scores_MAE.std() * 2))\n",
    "print(\"R2: %0.2f (+/- %0.2f)\" % (-scores_R2.mean(), scores_R2.std() * 2))"
   ]
  },
  {
   "cell_type": "code",
   "execution_count": 36,
   "metadata": {},
   "outputs": [],
   "source": [
    "df_scorescv_rf_MSE=pd.DataFrame(scores_MSE)\n",
    "df_scorescv_rf_MAE=pd.DataFrame(scores_MAE)\n",
    "df_scorescv_rf_R2=pd.DataFrame(scores_R2)"
   ]
  },
  {
   "cell_type": "code",
   "execution_count": 37,
   "metadata": {},
   "outputs": [],
   "source": [
    "with pd.ExcelWriter('FINALRESULTS_CV_12.xlsx',engine='openpyxl', mode='a') as writer:\n",
    "    df_scorescv_rf_MSE.to_excel(writer, sheet_name='RF_MSE')\n",
    "\n",
    "with pd.ExcelWriter('FINALRESULTS_CV_12.xlsx',engine='openpyxl', mode='a') as writer:\n",
    "    df_scorescv_rf_MAE.to_excel(writer, sheet_name='RF_MAE')\n",
    "    \n",
    "\n",
    "with pd.ExcelWriter('FINALRESULTS_CV_12.xlsx',engine='openpyxl', mode='a') as writer:\n",
    "    df_scorescv_rf_R2.to_excel(writer, sheet_name='RF_R2')"
   ]
  },
  {
   "cell_type": "code",
   "execution_count": 38,
   "metadata": {},
   "outputs": [],
   "source": [
    "mse_rf_rgr_cv = -scores_MSE.mean()\n",
    "mse_std_rf_rgr_cv = -scores_MSE.std()\n",
    "mae_rf_rgr_cv = -scores_MAE.mean()\n",
    "mae_std_rf_rgr_cv = -scores_MAE.std()\n",
    "r2_rf_rgr_cv = -scores_R2.mean()\n",
    "r2_std_rf_rgr_cv = -scores_R2.std()"
   ]
  },
  {
   "cell_type": "code",
   "execution_count": 39,
   "metadata": {},
   "outputs": [
    {
     "data": {
      "text/plain": [
       "RandomForestRegressor(bootstrap=True, ccp_alpha=0.0, criterion='mse',\n",
       "                      max_depth=None, max_features='auto', max_leaf_nodes=None,\n",
       "                      max_samples=None, min_impurity_decrease=0.0,\n",
       "                      min_impurity_split=None, min_samples_leaf=0.001,\n",
       "                      min_samples_split=0.009, min_weight_fraction_leaf=0.0,\n",
       "                      n_estimators=420, n_jobs=None, oob_score=False,\n",
       "                      random_state=42, verbose=0, warm_start=False)"
      ]
     },
     "execution_count": 39,
     "metadata": {},
     "output_type": "execute_result"
    }
   ],
   "source": [
    "rf_rgr.fit(X_train_std, Y_train)"
   ]
  },
  {
   "cell_type": "code",
   "execution_count": 40,
   "metadata": {},
   "outputs": [],
   "source": [
    "df_Feat_import = pd.DataFrame(rf_rgr.feature_importances_)"
   ]
  },
  {
   "cell_type": "code",
   "execution_count": 41,
   "metadata": {},
   "outputs": [
    {
     "data": {
      "image/png": "[encoded data removed]",
      "text/plain": [
       "<Figure size 864x432 with 1 Axes>"
      ]
     },
     "metadata": {
      "needs_background": "light"
     },
     "output_type": "display_data"
    }
   ],
   "source": [
    "pd.Series(rf_rgr.feature_importances_, \n",
    "         index=X_train.columns).sort_values(ascending=False).plot(kind='bar', figsize=(12,6));"
   ]
  },
  {
   "cell_type": "code",
   "execution_count": 42,
   "metadata": {},
   "outputs": [],
   "source": [
    "df_Feat_import.to_excel('FEATURES_RF_12.xlsx', sheet_name='FEAT_IMP')"
   ]
  },
  {
   "cell_type": "code",
   "execution_count": 43,
   "metadata": {},
   "outputs": [],
   "source": [
    "Y_train_pred=rf_rgr.predict(X_train_std)\n",
    "Y_test_pred=rf_rgr.predict(X_test_std)"
   ]
  },
  {
   "cell_type": "code",
   "execution_count": 44,
   "metadata": {},
   "outputs": [],
   "source": [
    "mse_rf_rgr_train = metrics.mean_squared_error(Y_train, Y_train_pred) \n",
    "mse_rf_rgr_test = metrics.mean_squared_error(Y_test, Y_test_pred)\n",
    "\n",
    "mae_rf_rgr_train = metrics.mean_absolute_error(Y_train, Y_train_pred) \n",
    "mae_rf_rgr_test = metrics.mean_absolute_error(Y_test, Y_test_pred)\n",
    "\n",
    "r2_rf_rgr_train = metrics.r2_score(Y_train, Y_train_pred)\n",
    "r2_rf_rgr_test = metrics.r2_score(Y_test, Y_test_pred)"
   ]
  },
  {
   "cell_type": "code",
   "execution_count": 45,
   "metadata": {},
   "outputs": [],
   "source": [
    "new_results_dic = {'MSE_train': mse_rf_rgr_train, 'MAE_train': mae_rf_rgr_train,'R2_train': r2_rf_rgr_train,\n",
    "                   'MSE_cv': mse_rf_rgr_cv, 'MSE_std_cv': mse_std_rf_rgr_cv, 'MAE_cv': mae_rf_rgr_cv,\n",
    "                   'MAE_std_cv': mae_std_rf_rgr_cv, 'R2_cv': r2_rf_rgr_cv, 'R2_std_cv': r2_std_rf_rgr_cv,\n",
    "                   'MSE_test': mse_rf_rgr_test,\n",
    "                   'MAE_test': mae_rf_rgr_test,\n",
    "                   'R2_test': r2_rf_rgr_test}\n",
    "df_results.loc[len(df_results)] = new_results_dic"
   ]
  },
  {
   "cell_type": "code",
   "execution_count": 46,
   "metadata": {},
   "outputs": [
    {
     "data": {
      "text/html": [
       "<div>\n",
       "<style scoped>\n",
       "    .dataframe tbody tr th:only-of-type {\n",
       "        vertical-align: middle;\n",
       "    }\n",
       "\n",
       "    .dataframe tbody tr th {\n",
       "        vertical-align: top;\n",
       "    }\n",
       "\n",
       "    .dataframe thead th {\n",
       "        text-align: right;\n",
       "    }\n",
       "</style>\n",
       "<table border=\"1\" class=\"dataframe\">\n",
       "  <thead>\n",
       "    <tr style=\"text-align: right;\">\n",
       "      <th></th>\n",
       "      <th>MSE_train</th>\n",
       "      <th>MAE_train</th>\n",
       "      <th>R2_train</th>\n",
       "      <th>MSE_cv</th>\n",
       "      <th>MSE_std_cv</th>\n",
       "      <th>MAE_cv</th>\n",
       "      <th>MAE_std_cv</th>\n",
       "      <th>R2_cv</th>\n",
       "      <th>R2_std_cv</th>\n",
       "      <th>MSE_test</th>\n",
       "      <th>MAE_test</th>\n",
       "      <th>R2_test</th>\n",
       "    </tr>\n",
       "  </thead>\n",
       "  <tbody>\n",
       "    <tr>\n",
       "      <th>OLS</th>\n",
       "      <td>5.879451</td>\n",
       "      <td>1.970679</td>\n",
       "      <td>0.240772</td>\n",
       "      <td>5.909545</td>\n",
       "      <td>-0.055091</td>\n",
       "      <td>1.975511</td>\n",
       "      <td>-0.016413</td>\n",
       "      <td>-0.236827</td>\n",
       "      <td>-0.00208</td>\n",
       "      <td>5.941023</td>\n",
       "      <td>1.982939</td>\n",
       "      <td>0.223962</td>\n",
       "    </tr>\n",
       "    <tr>\n",
       "      <th>RF</th>\n",
       "      <td>5.466623</td>\n",
       "      <td>1.900071</td>\n",
       "      <td>0.294081</td>\n",
       "      <td>5.868629</td>\n",
       "      <td>-0.053650</td>\n",
       "      <td>1.970162</td>\n",
       "      <td>-0.014904</td>\n",
       "      <td>-0.242101</td>\n",
       "      <td>-0.00414</td>\n",
       "      <td>5.833807</td>\n",
       "      <td>1.966330</td>\n",
       "      <td>0.237966</td>\n",
       "    </tr>\n",
       "  </tbody>\n",
       "</table>\n",
       "</div>"
      ],
      "text/plain": [
       "     MSE_train  MAE_train  R2_train    MSE_cv  MSE_std_cv    MAE_cv  \\\n",
       "OLS   5.879451   1.970679  0.240772  5.909545   -0.055091  1.975511   \n",
       "RF    5.466623   1.900071  0.294081  5.868629   -0.053650  1.970162   \n",
       "\n",
       "     MAE_std_cv     R2_cv  R2_std_cv  MSE_test  MAE_test   R2_test  \n",
       "OLS   -0.016413 -0.236827   -0.00208  5.941023  1.982939  0.223962  \n",
       "RF    -0.014904 -0.242101   -0.00414  5.833807  1.966330  0.237966  "
      ]
     },
     "execution_count": 46,
     "metadata": {},
     "output_type": "execute_result"
    }
   ],
   "source": [
    "indexNamesArr = df_results.index.values\n",
    "i = indexNamesArr[-1]\n",
    "df_results.rename(index={i:'RF'}, inplace=True)\n",
    "df_results.head()"
   ]
  },
  {
   "cell_type": "markdown",
   "metadata": {},
   "source": [
    "### SVR - Support Vector Regression"
   ]
  },
  {
   "cell_type": "raw",
   "metadata": {},
   "source": [
    "Grid search best parameters:\n",
    "C_range (Penalty parameter C for the error term when it stays outside the insensitive chanel)\n",
    "gamma_range (The gamma parameter can be seen as the inverse of the radius of influence of samples)\n",
    "CV best parameters:\n",
    "{'svr__base_estimator__gamma': 0.004094915062380427,\n",
    " 'svr__base_estimator__C': 9.540954763499943}"
   ]
  },
  {
   "cell_type": "code",
   "execution_count": 47,
   "metadata": {},
   "outputs": [],
   "source": [
    "svm_rgr= SVR(C=9.541, cache_size=1000, coef0=0.0, degree=3, epsilon=0.2, gamma=0.004,\n",
    "    kernel='rbf', max_iter=-1, shrinking=True, tol=0.001, verbose=True)"
   ]
  },
  {
   "cell_type": "code",
   "execution_count": 48,
   "metadata": {},
   "outputs": [],
   "source": [
    "# Define sklearn pipeline\n",
    "estimators = []\n",
    "estimators.append(('standardize', StandardScaler()))\n",
    "estimators.append(('SVR', svm_rgr))\n",
    "pipeline = Pipeline(estimators)"
   ]
  },
  {
   "cell_type": "code",
   "execution_count": 49,
   "metadata": {},
   "outputs": [
    {
     "name": "stdout",
     "output_type": "stream",
     "text": [
      "[LibSVM][LibSVM][LibSVM][LibSVM][LibSVM][LibSVM][LibSVM][LibSVM][LibSVM][LibSVM][LibSVM][LibSVM]"
     ]
    }
   ],
   "source": [
    "scores_MSE = cross_val_score(pipeline, X_train, Y_train, cv=kf,\n",
    "                         scoring='neg_mean_squared_error')\n",
    "scores_MAE = cross_val_score(pipeline, X_train, Y_train, cv=kf,\n",
    "                         scoring='neg_mean_absolute_error')\n",
    "scores_R2 = cross_val_score(pipeline, X_train, Y_train, cv=kf,\n",
    "                         scoring='r2')"
   ]
  },
  {
   "cell_type": "code",
   "execution_count": 50,
   "metadata": {},
   "outputs": [
    {
     "name": "stdout",
     "output_type": "stream",
     "text": [
      "MSE: 5.96 (+/- 0.01)\n",
      "MAE: 1.95 (+/- 0.01)\n",
      "R2: -0.23 (+/- 0.01)\n"
     ]
    }
   ],
   "source": [
    "print(\"MSE: %0.2f (+/- %0.2f)\" % (-scores_MSE.mean(), scores_MSE.std() * 2))\n",
    "print(\"MAE: %0.2f (+/- %0.2f)\" % (-scores_MAE.mean(), scores_MAE.std() * 2))\n",
    "print(\"R2: %0.2f (+/- %0.2f)\" % (-scores_R2.mean(), scores_R2.std() * 2))"
   ]
  },
  {
   "cell_type": "code",
   "execution_count": 51,
   "metadata": {},
   "outputs": [],
   "source": [
    "df_scorescv_svr_MSE=pd.DataFrame(scores_MSE)\n",
    "df_scorescv_svr_MAE=pd.DataFrame(scores_MAE)\n",
    "df_scorescv_svr_R2=pd.DataFrame(scores_R2)"
   ]
  },
  {
   "cell_type": "code",
   "execution_count": 52,
   "metadata": {},
   "outputs": [],
   "source": [
    "with pd.ExcelWriter('FINALRESULTS_CV_12.xlsx',engine='openpyxl', mode='a') as writer:\n",
    "    df_scorescv_svr_MSE.to_excel(writer, sheet_name='SVR_MSE')\n",
    "\n",
    "with pd.ExcelWriter('FINALRESULTS_CV_12.xlsx',engine='openpyxl', mode='a') as writer:\n",
    "    df_scorescv_svr_MAE.to_excel(writer, sheet_name='SVR_MAE')\n",
    "    \n",
    "with pd.ExcelWriter('FINALRESULTS_CV_12.xlsx',engine='openpyxl', mode='a') as writer:\n",
    "    df_scorescv_svr_R2.to_excel(writer, sheet_name='SVR_R2')"
   ]
  },
  {
   "cell_type": "code",
   "execution_count": 53,
   "metadata": {},
   "outputs": [],
   "source": [
    "mse_svr_rgr_cv = -scores_MSE.mean()\n",
    "mse_std_svr_rgr_cv = -scores_MSE.std()\n",
    "mae_svr_rgr_cv = -scores_MAE.mean()\n",
    "mae_std_svr_rgr_cv = -scores_MAE.std()\n",
    "r2_svr_rgr_cv = -scores_R2.mean()\n",
    "r2_std_svr_rgr_cv = -scores_R2.std()"
   ]
  },
  {
   "cell_type": "code",
   "execution_count": 54,
   "metadata": {},
   "outputs": [
    {
     "name": "stdout",
     "output_type": "stream",
     "text": [
      "[LibSVM]"
     ]
    },
    {
     "data": {
      "text/plain": [
       "SVR(C=9.541, cache_size=1000, coef0=0.0, degree=3, epsilon=0.2, gamma=0.004,\n",
       "    kernel='rbf', max_iter=-1, shrinking=True, tol=0.001, verbose=True)"
      ]
     },
     "execution_count": 54,
     "metadata": {},
     "output_type": "execute_result"
    }
   ],
   "source": [
    "svm_rgr.fit(X_train_std, Y_train)"
   ]
  },
  {
   "cell_type": "code",
   "execution_count": 55,
   "metadata": {},
   "outputs": [],
   "source": [
    "Y_train_pred=svm_rgr.predict(X_train_std)\n",
    "Y_test_pred=svm_rgr.predict(X_test_std)"
   ]
  },
  {
   "cell_type": "code",
   "execution_count": 56,
   "metadata": {},
   "outputs": [],
   "source": [
    "mse_svr_rgr_train = metrics.mean_squared_error(Y_train, Y_train_pred) \n",
    "mse_svr_rgr_test = metrics.mean_squared_error(Y_test, Y_test_pred)\n",
    "\n",
    "mae_svr_rgr_train = metrics.mean_absolute_error(Y_train, Y_train_pred) \n",
    "mae_svr_rgr_test = metrics.mean_absolute_error(Y_test, Y_test_pred)\n",
    "\n",
    "r2_svr_rgr_train = metrics.r2_score(Y_train, Y_train_pred)\n",
    "r2_svr_rgr_test = metrics.r2_score(Y_test, Y_test_pred)"
   ]
  },
  {
   "cell_type": "code",
   "execution_count": 57,
   "metadata": {},
   "outputs": [],
   "source": [
    "new_results_dic = {'MSE_train': mse_svr_rgr_train, 'MAE_train': mae_svr_rgr_train,'R2_train': r2_svr_rgr_train,\n",
    "                   'MSE_cv': mse_svr_rgr_cv, 'MSE_std_cv': mse_std_svr_rgr_cv, 'MAE_cv': mae_svr_rgr_cv,\n",
    "                   'MAE_std_cv': mae_std_svr_rgr_cv, 'R2_cv': r2_svr_rgr_cv, 'R2_std_cv': r2_std_svr_rgr_cv,\n",
    "                   'MSE_test': mse_svr_rgr_test,\n",
    "                   'MAE_test': mae_svr_rgr_test,\n",
    "                   'R2_test': r2_svr_rgr_test}\n",
    "df_results.loc[len(df_results)] = new_results_dic"
   ]
  },
  {
   "cell_type": "code",
   "execution_count": 58,
   "metadata": {},
   "outputs": [
    {
     "data": {
      "text/html": [
       "<div>\n",
       "<style scoped>\n",
       "    .dataframe tbody tr th:only-of-type {\n",
       "        vertical-align: middle;\n",
       "    }\n",
       "\n",
       "    .dataframe tbody tr th {\n",
       "        vertical-align: top;\n",
       "    }\n",
       "\n",
       "    .dataframe thead th {\n",
       "        text-align: right;\n",
       "    }\n",
       "</style>\n",
       "<table border=\"1\" class=\"dataframe\">\n",
       "  <thead>\n",
       "    <tr style=\"text-align: right;\">\n",
       "      <th></th>\n",
       "      <th>MSE_train</th>\n",
       "      <th>MAE_train</th>\n",
       "      <th>R2_train</th>\n",
       "      <th>MSE_cv</th>\n",
       "      <th>MSE_std_cv</th>\n",
       "      <th>MAE_cv</th>\n",
       "      <th>MAE_std_cv</th>\n",
       "      <th>R2_cv</th>\n",
       "      <th>R2_std_cv</th>\n",
       "      <th>MSE_test</th>\n",
       "      <th>MAE_test</th>\n",
       "      <th>R2_test</th>\n",
       "    </tr>\n",
       "  </thead>\n",
       "  <tbody>\n",
       "    <tr>\n",
       "      <th>OLS</th>\n",
       "      <td>5.879451</td>\n",
       "      <td>1.970679</td>\n",
       "      <td>0.240772</td>\n",
       "      <td>5.909545</td>\n",
       "      <td>-0.055091</td>\n",
       "      <td>1.975511</td>\n",
       "      <td>-0.016413</td>\n",
       "      <td>-0.236827</td>\n",
       "      <td>-0.002080</td>\n",
       "      <td>5.941023</td>\n",
       "      <td>1.982939</td>\n",
       "      <td>0.223962</td>\n",
       "    </tr>\n",
       "    <tr>\n",
       "      <th>RF</th>\n",
       "      <td>5.466623</td>\n",
       "      <td>1.900071</td>\n",
       "      <td>0.294081</td>\n",
       "      <td>5.868629</td>\n",
       "      <td>-0.053650</td>\n",
       "      <td>1.970162</td>\n",
       "      <td>-0.014904</td>\n",
       "      <td>-0.242101</td>\n",
       "      <td>-0.004140</td>\n",
       "      <td>5.833807</td>\n",
       "      <td>1.966330</td>\n",
       "      <td>0.237966</td>\n",
       "    </tr>\n",
       "    <tr>\n",
       "      <th>SVR</th>\n",
       "      <td>5.410827</td>\n",
       "      <td>1.817499</td>\n",
       "      <td>0.301286</td>\n",
       "      <td>5.955710</td>\n",
       "      <td>-0.005971</td>\n",
       "      <td>1.949179</td>\n",
       "      <td>-0.007068</td>\n",
       "      <td>-0.230809</td>\n",
       "      <td>-0.006303</td>\n",
       "      <td>6.000259</td>\n",
       "      <td>1.966263</td>\n",
       "      <td>0.216224</td>\n",
       "    </tr>\n",
       "  </tbody>\n",
       "</table>\n",
       "</div>"
      ],
      "text/plain": [
       "     MSE_train  MAE_train  R2_train    MSE_cv  MSE_std_cv    MAE_cv  \\\n",
       "OLS   5.879451   1.970679  0.240772  5.909545   -0.055091  1.975511   \n",
       "RF    5.466623   1.900071  0.294081  5.868629   -0.053650  1.970162   \n",
       "SVR   5.410827   1.817499  0.301286  5.955710   -0.005971  1.949179   \n",
       "\n",
       "     MAE_std_cv     R2_cv  R2_std_cv  MSE_test  MAE_test   R2_test  \n",
       "OLS   -0.016413 -0.236827  -0.002080  5.941023  1.982939  0.223962  \n",
       "RF    -0.014904 -0.242101  -0.004140  5.833807  1.966330  0.237966  \n",
       "SVR   -0.007068 -0.230809  -0.006303  6.000259  1.966263  0.216224  "
      ]
     },
     "execution_count": 58,
     "metadata": {},
     "output_type": "execute_result"
    }
   ],
   "source": [
    "indexNamesArr = df_results.index.values\n",
    "i = indexNamesArr[-1]\n",
    "df_results.rename(index={i:'SVR'}, inplace=True)\n",
    "df_results.head()"
   ]
  },
  {
   "cell_type": "markdown",
   "metadata": {},
   "source": [
    "### K-nearest Neighbours Regression "
   ]
  },
  {
   "cell_type": "raw",
   "metadata": {},
   "source": [
    "Grid search best parameters:\n",
    "n_neighbors, weights.\n",
    "Best parameters CV:\n",
    "{'knn__weights': 'distance', 'knn__n_neighbors': 18}"
   ]
  },
  {
   "cell_type": "code",
   "execution_count": 59,
   "metadata": {},
   "outputs": [],
   "source": [
    "knn_rgr = KNeighborsRegressor(n_neighbors=18, weights='distance', algorithm='auto', leaf_size=30,\n",
    "                              p=2, metric='minkowski', metric_params=None, n_jobs=None)"
   ]
  },
  {
   "cell_type": "code",
   "execution_count": 60,
   "metadata": {},
   "outputs": [],
   "source": [
    "# Define sklearn pipeline\n",
    "estimators = []\n",
    "estimators.append(('standardize', StandardScaler()))\n",
    "estimators.append(('KNN', knn_rgr))\n",
    "pipeline = Pipeline(estimators)"
   ]
  },
  {
   "cell_type": "code",
   "execution_count": 61,
   "metadata": {},
   "outputs": [],
   "source": [
    "scores_MSE = cross_val_score(pipeline, X_train, Y_train, cv=kf,\n",
    "                         scoring='neg_mean_squared_error')\n",
    "scores_MAE = cross_val_score(pipeline, X_train, Y_train, cv=kf,\n",
    "                         scoring='neg_mean_absolute_error')\n",
    "scores_R2 = cross_val_score(pipeline, X_train, Y_train, cv=kf,\n",
    "                         scoring='r2')"
   ]
  },
  {
   "cell_type": "code",
   "execution_count": 62,
   "metadata": {},
   "outputs": [
    {
     "name": "stdout",
     "output_type": "stream",
     "text": [
      "MSE: 6.38 (+/- 0.15)\n",
      "MAE: 2.05 (+/- 0.04)\n",
      "R2: -0.18 (+/- 0.01)\n"
     ]
    }
   ],
   "source": [
    "print(\"MSE: %0.2f (+/- %0.2f)\" % (-scores_MSE.mean(), scores_MSE.std() * 2))\n",
    "print(\"MAE: %0.2f (+/- %0.2f)\" % (-scores_MAE.mean(), scores_MAE.std() * 2))\n",
    "print(\"R2: %0.2f (+/- %0.2f)\" % (-scores_R2.mean(), scores_R2.std() * 2))"
   ]
  },
  {
   "cell_type": "code",
   "execution_count": 63,
   "metadata": {},
   "outputs": [],
   "source": [
    "df_scorescv_knn_MSE=pd.DataFrame(scores_MSE)\n",
    "df_scorescv_knn_MAE=pd.DataFrame(scores_MAE)\n",
    "df_scorescv_knn_R2=pd.DataFrame(scores_R2)"
   ]
  },
  {
   "cell_type": "code",
   "execution_count": 64,
   "metadata": {},
   "outputs": [],
   "source": [
    "with pd.ExcelWriter('FINALRESULTS_CV_12.xlsx',engine='openpyxl', mode='a') as writer:\n",
    "    df_scorescv_knn_MSE.to_excel(writer, sheet_name='KNN_MSE')\n",
    "\n",
    "with pd.ExcelWriter('FINALRESULTS_CV_12.xlsx',engine='openpyxl', mode='a') as writer:\n",
    "    df_scorescv_knn_MAE.to_excel(writer, sheet_name='KNN_MAE')\n",
    "    \n",
    "with pd.ExcelWriter('FINALRESULTS_CV_12.xlsx',engine='openpyxl', mode='a') as writer:\n",
    "    df_scorescv_knn_R2.to_excel(writer, sheet_name='KNN_R2')"
   ]
  },
  {
   "cell_type": "code",
   "execution_count": 65,
   "metadata": {},
   "outputs": [],
   "source": [
    "mse_knn_rgr_cv = -scores_MSE.mean()\n",
    "mse_std_knn_rgr_cv = -scores_MSE.std()\n",
    "mae_knn_rgr_cv = -scores_MAE.mean()\n",
    "mae_std_knn_rgr_cv = -scores_MAE.std()\n",
    "r2_knn_rgr_cv = -scores_R2.mean()\n",
    "r2_std_knn_rgr_cv = -scores_R2.std()"
   ]
  },
  {
   "cell_type": "code",
   "execution_count": 66,
   "metadata": {},
   "outputs": [
    {
     "data": {
      "text/plain": [
       "KNeighborsRegressor(algorithm='auto', leaf_size=30, metric='minkowski',\n",
       "                    metric_params=None, n_jobs=None, n_neighbors=18, p=2,\n",
       "                    weights='distance')"
      ]
     },
     "execution_count": 66,
     "metadata": {},
     "output_type": "execute_result"
    }
   ],
   "source": [
    "knn_rgr.fit(X_train_std, Y_train)"
   ]
  },
  {
   "cell_type": "code",
   "execution_count": 67,
   "metadata": {},
   "outputs": [],
   "source": [
    "Y_train_pred=knn_rgr.predict(X_train_std)\n",
    "Y_test_pred=knn_rgr.predict(X_test_std)"
   ]
  },
  {
   "cell_type": "code",
   "execution_count": 68,
   "metadata": {},
   "outputs": [],
   "source": [
    "mse_knn_rgr_train = metrics.mean_squared_error(Y_train, Y_train_pred) \n",
    "mse_knn_rgr_test = metrics.mean_squared_error(Y_test, Y_test_pred)\n",
    "\n",
    "mae_knn_rgr_train = metrics.mean_absolute_error(Y_train, Y_train_pred) \n",
    "mae_knn_rgr_test = metrics.mean_absolute_error(Y_test, Y_test_pred)\n",
    "\n",
    "r2_knn_rgr_train = metrics.r2_score(Y_train, Y_train_pred)\n",
    "r2_knn_rgr_test = metrics.r2_score(Y_test, Y_test_pred)"
   ]
  },
  {
   "cell_type": "code",
   "execution_count": 69,
   "metadata": {},
   "outputs": [],
   "source": [
    "new_results_dic = {'MSE_train': mse_knn_rgr_train, 'MAE_train': mae_knn_rgr_train,'R2_train': r2_knn_rgr_train,\n",
    "                   'MSE_cv': mse_knn_rgr_cv, 'MSE_std_cv': mse_std_knn_rgr_cv, 'MAE_cv': mae_knn_rgr_cv,\n",
    "                   'MAE_std_cv': mae_std_knn_rgr_cv, 'R2_cv': r2_knn_rgr_cv, 'R2_std_cv': r2_std_knn_rgr_cv,\n",
    "                   'MSE_test': mse_knn_rgr_test,\n",
    "                   'MAE_test': mae_knn_rgr_test,\n",
    "                   'R2_test': r2_knn_rgr_test}\n",
    "df_results.loc[len(df_results)] = new_results_dic"
   ]
  },
  {
   "cell_type": "code",
   "execution_count": 70,
   "metadata": {},
   "outputs": [
    {
     "data": {
      "text/html": [
       "<div>\n",
       "<style scoped>\n",
       "    .dataframe tbody tr th:only-of-type {\n",
       "        vertical-align: middle;\n",
       "    }\n",
       "\n",
       "    .dataframe tbody tr th {\n",
       "        vertical-align: top;\n",
       "    }\n",
       "\n",
       "    .dataframe thead th {\n",
       "        text-align: right;\n",
       "    }\n",
       "</style>\n",
       "<table border=\"1\" class=\"dataframe\">\n",
       "  <thead>\n",
       "    <tr style=\"text-align: right;\">\n",
       "      <th></th>\n",
       "      <th>MSE_train</th>\n",
       "      <th>MAE_train</th>\n",
       "      <th>R2_train</th>\n",
       "      <th>MSE_cv</th>\n",
       "      <th>MSE_std_cv</th>\n",
       "      <th>MAE_cv</th>\n",
       "      <th>MAE_std_cv</th>\n",
       "      <th>R2_cv</th>\n",
       "      <th>R2_std_cv</th>\n",
       "      <th>MSE_test</th>\n",
       "      <th>MAE_test</th>\n",
       "      <th>R2_test</th>\n",
       "    </tr>\n",
       "  </thead>\n",
       "  <tbody>\n",
       "    <tr>\n",
       "      <th>OLS</th>\n",
       "      <td>5.879451</td>\n",
       "      <td>1.970679</td>\n",
       "      <td>0.240772</td>\n",
       "      <td>5.909545</td>\n",
       "      <td>-0.055091</td>\n",
       "      <td>1.975511</td>\n",
       "      <td>-0.016413</td>\n",
       "      <td>-0.236827</td>\n",
       "      <td>-0.002080</td>\n",
       "      <td>5.941023</td>\n",
       "      <td>1.982939</td>\n",
       "      <td>0.223962</td>\n",
       "    </tr>\n",
       "    <tr>\n",
       "      <th>RF</th>\n",
       "      <td>5.466623</td>\n",
       "      <td>1.900071</td>\n",
       "      <td>0.294081</td>\n",
       "      <td>5.868629</td>\n",
       "      <td>-0.053650</td>\n",
       "      <td>1.970162</td>\n",
       "      <td>-0.014904</td>\n",
       "      <td>-0.242101</td>\n",
       "      <td>-0.004140</td>\n",
       "      <td>5.833807</td>\n",
       "      <td>1.966330</td>\n",
       "      <td>0.237966</td>\n",
       "    </tr>\n",
       "    <tr>\n",
       "      <th>SVR</th>\n",
       "      <td>5.410827</td>\n",
       "      <td>1.817499</td>\n",
       "      <td>0.301286</td>\n",
       "      <td>5.955710</td>\n",
       "      <td>-0.005971</td>\n",
       "      <td>1.949179</td>\n",
       "      <td>-0.007068</td>\n",
       "      <td>-0.230809</td>\n",
       "      <td>-0.006303</td>\n",
       "      <td>6.000259</td>\n",
       "      <td>1.966263</td>\n",
       "      <td>0.216224</td>\n",
       "    </tr>\n",
       "    <tr>\n",
       "      <th>KNN</th>\n",
       "      <td>0.192617</td>\n",
       "      <td>0.091690</td>\n",
       "      <td>0.975127</td>\n",
       "      <td>6.382407</td>\n",
       "      <td>-0.073791</td>\n",
       "      <td>2.050877</td>\n",
       "      <td>-0.020255</td>\n",
       "      <td>-0.175769</td>\n",
       "      <td>-0.004628</td>\n",
       "      <td>6.515142</td>\n",
       "      <td>2.068140</td>\n",
       "      <td>0.148968</td>\n",
       "    </tr>\n",
       "  </tbody>\n",
       "</table>\n",
       "</div>"
      ],
      "text/plain": [
       "     MSE_train  MAE_train  R2_train    MSE_cv  MSE_std_cv    MAE_cv  \\\n",
       "OLS   5.879451   1.970679  0.240772  5.909545   -0.055091  1.975511   \n",
       "RF    5.466623   1.900071  0.294081  5.868629   -0.053650  1.970162   \n",
       "SVR   5.410827   1.817499  0.301286  5.955710   -0.005971  1.949179   \n",
       "KNN   0.192617   0.091690  0.975127  6.382407   -0.073791  2.050877   \n",
       "\n",
       "     MAE_std_cv     R2_cv  R2_std_cv  MSE_test  MAE_test   R2_test  \n",
       "OLS   -0.016413 -0.236827  -0.002080  5.941023  1.982939  0.223962  \n",
       "RF    -0.014904 -0.242101  -0.004140  5.833807  1.966330  0.237966  \n",
       "SVR   -0.007068 -0.230809  -0.006303  6.000259  1.966263  0.216224  \n",
       "KNN   -0.020255 -0.175769  -0.004628  6.515142  2.068140  0.148968  "
      ]
     },
     "execution_count": 70,
     "metadata": {},
     "output_type": "execute_result"
    }
   ],
   "source": [
    "indexNamesArr = df_results.index.values\n",
    "i = indexNamesArr[-1]\n",
    "df_results.rename(index={i:'KNN'}, inplace=True)\n",
    "df_results.head()"
   ]
  },
  {
   "cell_type": "markdown",
   "metadata": {},
   "source": [
    "### XG BOOST Machine"
   ]
  },
  {
   "cell_type": "raw",
   "metadata": {},
   "source": [
    "Grid search:\n",
    "# A\n",
    "# You can try wider intervals with a larger step between\n",
    "# each value and then narrow it down.\n",
    "d = len(X)\n",
    "cw=[0, 0.0005,0.001, 0.005, 0.01, 0.015, 0.02]\n",
    "mcw = np.round(d*np.array(cw),0)\n",
    "gridsearch_params = [\n",
    "    (max_depth, min_child_weight)\n",
    "    for max_depth in [2,4,6,8,10]\n",
    "    for min_child_weight in mcw]\n",
    "\n",
    "# B\n",
    "gridsearch_params = [\n",
    "    (subsample, colsample)\n",
    "    for subsample in [i/10. for i in range(4,11)] #[4,5,6,7,8,9]\n",
    "    for colsample in [i/10. for i in range(4,11)]\n",
    "]\n",
    "\n",
    "# C\n",
    "eta in [.3, .2, .1, .05, .01, .005]\n",
    "\n",
    "# D\n",
    "lambda in [0.1,0.5,1,1.5,2.5,5,10,15]\n",
    "\n",
    "# E\n",
    "n_estimators\n",
    "\n",
    "# best parameters cv:\n",
    "\n",
    "{'xgb__subsample': 1.0,\n",
    " 'xgb__reg_lambda': 0.4,\n",
    " 'xgb__min_child_weight': 131.0,\n",
    " 'xgb__max_depth': 20,\n",
    " 'xgb__learning_rate': 0.41999999999999993,\n",
    " 'xgb__colsample_bytree': 1.0}\n",
    " n_estimators=156"
   ]
  },
  {
   "cell_type": "code",
   "execution_count": 71,
   "metadata": {},
   "outputs": [],
   "source": [
    "xgb_rgr = xgb.XGBRegressor(max_depth=20, learning_rate=0.42, n_estimators=156,\n",
    "                           verbosity=1, objective='reg:squarederror',\n",
    "                           booster='gbtree', n_jobs=-1, gamma=0,\n",
    "                           min_child_weight=131.0, max_delta_step=0, subsample=1.0,\n",
    "                           colsample_bytree=0.7, colsample_bylevel=1, colsample_bynode=1,\n",
    "                           reg_alpha=0, reg_lambda=0.4, scale_pos_weight=1, base_score=0.5,\n",
    "                           random_state=seed, seed=None, missing=None, importance_type='gain')\n"
   ]
  },
  {
   "cell_type": "code",
   "execution_count": 72,
   "metadata": {},
   "outputs": [],
   "source": [
    "# Define sklearn pipeline\n",
    "estimators = []\n",
    "estimators.append(('standardize', StandardScaler()))\n",
    "estimators.append(('XGB', xgb_rgr))\n",
    "pipeline = Pipeline(estimators)"
   ]
  },
  {
   "cell_type": "code",
   "execution_count": 73,
   "metadata": {},
   "outputs": [],
   "source": [
    "scores_MSE = cross_val_score(pipeline, X_train, Y_train, cv=kf,\n",
    "                         scoring='neg_mean_squared_error')\n",
    "scores_MAE = cross_val_score(pipeline, X_train, Y_train, cv=kf,\n",
    "                         scoring='neg_mean_absolute_error')\n",
    "scores_R2 = cross_val_score(pipeline, X_train, Y_train, cv=kf,\n",
    "                         scoring='r2')"
   ]
  },
  {
   "cell_type": "code",
   "execution_count": 74,
   "metadata": {},
   "outputs": [
    {
     "name": "stdout",
     "output_type": "stream",
     "text": [
      "MSE: 5.82 (+/- 0.11)\n",
      "MAE: 1.92 (+/- 0.03)\n",
      "R2: -0.25 (+/- 0.01)\n"
     ]
    }
   ],
   "source": [
    "print(\"MSE: %0.2f (+/- %0.2f)\" % (-scores_MSE.mean(), scores_MSE.std() * 2))\n",
    "print(\"MAE: %0.2f (+/- %0.2f)\" % (-scores_MAE.mean(), scores_MAE.std() * 2))\n",
    "print(\"R2: %0.2f (+/- %0.2f)\" % (-scores_R2.mean(), scores_R2.std() * 2))"
   ]
  },
  {
   "cell_type": "code",
   "execution_count": 75,
   "metadata": {},
   "outputs": [],
   "source": [
    "df_scorescv_xgb_MSE=pd.DataFrame(scores_MSE)\n",
    "df_scorescv_xgb_MAE=pd.DataFrame(scores_MAE)\n",
    "df_scorescv_xgb_R2=pd.DataFrame(scores_R2)"
   ]
  },
  {
   "cell_type": "code",
   "execution_count": 76,
   "metadata": {},
   "outputs": [],
   "source": [
    "with pd.ExcelWriter('FINALRESULTS_CV_12.xlsx',engine='openpyxl', mode='a') as writer:\n",
    "    df_scorescv_xgb_MSE.to_excel(writer, sheet_name='XGB_MSE')\n",
    "\n",
    "with pd.ExcelWriter('FINALRESULTS_CV_12.xlsx',engine='openpyxl', mode='a') as writer:\n",
    "    df_scorescv_xgb_MAE.to_excel(writer, sheet_name='XGB_MAE')\n",
    "    \n",
    "with pd.ExcelWriter('FINALRESULTS_CV_12.xlsx',engine='openpyxl', mode='a') as writer:\n",
    "    df_scorescv_xgb_R2.to_excel(writer, sheet_name='XGB_R2')"
   ]
  },
  {
   "cell_type": "code",
   "execution_count": 77,
   "metadata": {},
   "outputs": [],
   "source": [
    "mse_xgb_rgr_cv = -scores_MSE.mean()\n",
    "mse_std_xgb_rgr_cv = -scores_MSE.std()\n",
    "mae_xgb_rgr_cv = -scores_MAE.mean()\n",
    "mae_std_xgb_rgr_cv = -scores_MAE.std()\n",
    "r2_xgb_rgr_cv = -scores_R2.mean()\n",
    "r2_std_xgb_rgr_cv = -scores_R2.std()"
   ]
  },
  {
   "cell_type": "code",
   "execution_count": 78,
   "metadata": {},
   "outputs": [
    {
     "data": {
      "text/plain": [
       "XGBRegressor(base_score=0.5, booster='gbtree', colsample_bylevel=1,\n",
       "             colsample_bynode=1, colsample_bytree=0.7, gamma=0,\n",
       "             importance_type='gain', learning_rate=0.42, max_delta_step=0,\n",
       "             max_depth=20, min_child_weight=131.0, missing=None,\n",
       "             n_estimators=156, n_jobs=-1, nthread=None,\n",
       "             objective='reg:squarederror', random_state=42, reg_alpha=0,\n",
       "             reg_lambda=0.4, scale_pos_weight=1, seed=None, silent=None,\n",
       "             subsample=1.0, verbosity=1)"
      ]
     },
     "execution_count": 78,
     "metadata": {},
     "output_type": "execute_result"
    }
   ],
   "source": [
    "xgb_rgr.fit(X_train_std, Y_train)"
   ]
  },
  {
   "cell_type": "code",
   "execution_count": 79,
   "metadata": {},
   "outputs": [],
   "source": [
    "Y_train_pred=xgb_rgr.predict(X_train_std)\n",
    "Y_test_pred=xgb_rgr.predict(X_test_std)"
   ]
  },
  {
   "cell_type": "code",
   "execution_count": 80,
   "metadata": {},
   "outputs": [],
   "source": [
    "mse_xgb_rgr_train = metrics.mean_squared_error(Y_train, Y_train_pred) \n",
    "mse_xgb_rgr_test = metrics.mean_squared_error(Y_test, Y_test_pred)\n",
    "\n",
    "mae_xgb_rgr_train = metrics.mean_absolute_error(Y_train, Y_train_pred) \n",
    "mae_xgb_rgr_test = metrics.mean_absolute_error(Y_test, Y_test_pred)\n",
    "\n",
    "r2_xgb_rgr_train = metrics.r2_score(Y_train, Y_train_pred)\n",
    "r2_xgb_rgr_test = metrics.r2_score(Y_test, Y_test_pred)"
   ]
  },
  {
   "cell_type": "code",
   "execution_count": 81,
   "metadata": {},
   "outputs": [],
   "source": [
    "new_results_dic = {'MSE_train': mse_xgb_rgr_train, 'MAE_train': mae_xgb_rgr_train,'R2_train': r2_xgb_rgr_train,\n",
    "                   'MSE_cv': mse_xgb_rgr_cv, 'MSE_std_cv': mse_std_xgb_rgr_cv, 'MAE_cv': mae_xgb_rgr_cv,\n",
    "                   'MAE_std_cv': mae_std_xgb_rgr_cv, 'R2_cv': r2_xgb_rgr_cv, 'R2_std_cv': r2_std_xgb_rgr_cv,\n",
    "                   'MSE_test': mse_xgb_rgr_test,\n",
    "                   'MAE_test': mae_xgb_rgr_test,\n",
    "                   'R2_test': r2_xgb_rgr_test}\n",
    "\n",
    "df_results.loc[len(df_results)] = new_results_dic"
   ]
  },
  {
   "cell_type": "code",
   "execution_count": 82,
   "metadata": {},
   "outputs": [
    {
     "data": {
      "text/html": [
       "<div>\n",
       "<style scoped>\n",
       "    .dataframe tbody tr th:only-of-type {\n",
       "        vertical-align: middle;\n",
       "    }\n",
       "\n",
       "    .dataframe tbody tr th {\n",
       "        vertical-align: top;\n",
       "    }\n",
       "\n",
       "    .dataframe thead th {\n",
       "        text-align: right;\n",
       "    }\n",
       "</style>\n",
       "<table border=\"1\" class=\"dataframe\">\n",
       "  <thead>\n",
       "    <tr style=\"text-align: right;\">\n",
       "      <th></th>\n",
       "      <th>MSE_train</th>\n",
       "      <th>MAE_train</th>\n",
       "      <th>R2_train</th>\n",
       "      <th>MSE_cv</th>\n",
       "      <th>MSE_std_cv</th>\n",
       "      <th>MAE_cv</th>\n",
       "      <th>MAE_std_cv</th>\n",
       "      <th>R2_cv</th>\n",
       "      <th>R2_std_cv</th>\n",
       "      <th>MSE_test</th>\n",
       "      <th>MAE_test</th>\n",
       "      <th>R2_test</th>\n",
       "    </tr>\n",
       "  </thead>\n",
       "  <tbody>\n",
       "    <tr>\n",
       "      <th>OLS</th>\n",
       "      <td>5.879451</td>\n",
       "      <td>1.970679</td>\n",
       "      <td>0.240772</td>\n",
       "      <td>5.909545</td>\n",
       "      <td>-0.055091</td>\n",
       "      <td>1.975511</td>\n",
       "      <td>-0.016413</td>\n",
       "      <td>-0.236827</td>\n",
       "      <td>-0.002080</td>\n",
       "      <td>5.941023</td>\n",
       "      <td>1.982939</td>\n",
       "      <td>0.223962</td>\n",
       "    </tr>\n",
       "    <tr>\n",
       "      <th>RF</th>\n",
       "      <td>5.466623</td>\n",
       "      <td>1.900071</td>\n",
       "      <td>0.294081</td>\n",
       "      <td>5.868629</td>\n",
       "      <td>-0.053650</td>\n",
       "      <td>1.970162</td>\n",
       "      <td>-0.014904</td>\n",
       "      <td>-0.242101</td>\n",
       "      <td>-0.004140</td>\n",
       "      <td>5.833807</td>\n",
       "      <td>1.966330</td>\n",
       "      <td>0.237966</td>\n",
       "    </tr>\n",
       "    <tr>\n",
       "      <th>SVR</th>\n",
       "      <td>5.410827</td>\n",
       "      <td>1.817499</td>\n",
       "      <td>0.301286</td>\n",
       "      <td>5.955710</td>\n",
       "      <td>-0.005971</td>\n",
       "      <td>1.949179</td>\n",
       "      <td>-0.007068</td>\n",
       "      <td>-0.230809</td>\n",
       "      <td>-0.006303</td>\n",
       "      <td>6.000259</td>\n",
       "      <td>1.966263</td>\n",
       "      <td>0.216224</td>\n",
       "    </tr>\n",
       "    <tr>\n",
       "      <th>KNN</th>\n",
       "      <td>0.192617</td>\n",
       "      <td>0.091690</td>\n",
       "      <td>0.975127</td>\n",
       "      <td>6.382407</td>\n",
       "      <td>-0.073791</td>\n",
       "      <td>2.050877</td>\n",
       "      <td>-0.020255</td>\n",
       "      <td>-0.175769</td>\n",
       "      <td>-0.004628</td>\n",
       "      <td>6.515142</td>\n",
       "      <td>2.068140</td>\n",
       "      <td>0.148968</td>\n",
       "    </tr>\n",
       "    <tr>\n",
       "      <th>XGB</th>\n",
       "      <td>2.321756</td>\n",
       "      <td>1.196175</td>\n",
       "      <td>0.700186</td>\n",
       "      <td>5.817380</td>\n",
       "      <td>-0.055806</td>\n",
       "      <td>1.919226</td>\n",
       "      <td>-0.016225</td>\n",
       "      <td>-0.248726</td>\n",
       "      <td>-0.003502</td>\n",
       "      <td>5.698780</td>\n",
       "      <td>1.894955</td>\n",
       "      <td>0.255604</td>\n",
       "    </tr>\n",
       "  </tbody>\n",
       "</table>\n",
       "</div>"
      ],
      "text/plain": [
       "     MSE_train  MAE_train  R2_train    MSE_cv  MSE_std_cv    MAE_cv  \\\n",
       "OLS   5.879451   1.970679  0.240772  5.909545   -0.055091  1.975511   \n",
       "RF    5.466623   1.900071  0.294081  5.868629   -0.053650  1.970162   \n",
       "SVR   5.410827   1.817499  0.301286  5.955710   -0.005971  1.949179   \n",
       "KNN   0.192617   0.091690  0.975127  6.382407   -0.073791  2.050877   \n",
       "XGB   2.321756   1.196175  0.700186  5.817380   -0.055806  1.919226   \n",
       "\n",
       "     MAE_std_cv     R2_cv  R2_std_cv  MSE_test  MAE_test   R2_test  \n",
       "OLS   -0.016413 -0.236827  -0.002080  5.941023  1.982939  0.223962  \n",
       "RF    -0.014904 -0.242101  -0.004140  5.833807  1.966330  0.237966  \n",
       "SVR   -0.007068 -0.230809  -0.006303  6.000259  1.966263  0.216224  \n",
       "KNN   -0.020255 -0.175769  -0.004628  6.515142  2.068140  0.148968  \n",
       "XGB   -0.016225 -0.248726  -0.003502  5.698780  1.894955  0.255604  "
      ]
     },
     "execution_count": 82,
     "metadata": {},
     "output_type": "execute_result"
    }
   ],
   "source": [
    "indexNamesArr = df_results.index.values\n",
    "i = indexNamesArr[-1]\n",
    "df_results.rename(index={i:'XGB'}, inplace=True)\n",
    "df_results.head()"
   ]
  },
  {
   "cell_type": "markdown",
   "metadata": {},
   "source": [
    "### Neural Network"
   ]
  },
  {
   "cell_type": "code",
   "execution_count": 83,
   "metadata": {},
   "outputs": [
    {
     "name": "stderr",
     "output_type": "stream",
     "text": [
      "Using TensorFlow backend.\n",
      "C:\\ProgramData\\Anaconda3\\lib\\site-packages\\tensorflow\\python\\framework\\dtypes.py:516: FutureWarning: Passing (type, 1) or '1type' as a synonym of type is deprecated; in a future version of numpy, it will be understood as (type, (1,)) / '(1,)type'.\n",
      "  _np_qint8 = np.dtype([(\"qint8\", np.int8, 1)])\n",
      "C:\\ProgramData\\Anaconda3\\lib\\site-packages\\tensorflow\\python\\framework\\dtypes.py:517: FutureWarning: Passing (type, 1) or '1type' as a synonym of type is deprecated; in a future version of numpy, it will be understood as (type, (1,)) / '(1,)type'.\n",
      "  _np_quint8 = np.dtype([(\"quint8\", np.uint8, 1)])\n",
      "C:\\ProgramData\\Anaconda3\\lib\\site-packages\\tensorflow\\python\\framework\\dtypes.py:518: FutureWarning: Passing (type, 1) or '1type' as a synonym of type is deprecated; in a future version of numpy, it will be understood as (type, (1,)) / '(1,)type'.\n",
      "  _np_qint16 = np.dtype([(\"qint16\", np.int16, 1)])\n",
      "C:\\ProgramData\\Anaconda3\\lib\\site-packages\\tensorflow\\python\\framework\\dtypes.py:519: FutureWarning: Passing (type, 1) or '1type' as a synonym of type is deprecated; in a future version of numpy, it will be understood as (type, (1,)) / '(1,)type'.\n",
      "  _np_quint16 = np.dtype([(\"quint16\", np.uint16, 1)])\n",
      "C:\\ProgramData\\Anaconda3\\lib\\site-packages\\tensorflow\\python\\framework\\dtypes.py:520: FutureWarning: Passing (type, 1) or '1type' as a synonym of type is deprecated; in a future version of numpy, it will be understood as (type, (1,)) / '(1,)type'.\n",
      "  _np_qint32 = np.dtype([(\"qint32\", np.int32, 1)])\n",
      "C:\\ProgramData\\Anaconda3\\lib\\site-packages\\tensorflow\\python\\framework\\dtypes.py:525: FutureWarning: Passing (type, 1) or '1type' as a synonym of type is deprecated; in a future version of numpy, it will be understood as (type, (1,)) / '(1,)type'.\n",
      "  np_resource = np.dtype([(\"resource\", np.ubyte, 1)])\n",
      "C:\\ProgramData\\Anaconda3\\lib\\site-packages\\tensorboard\\compat\\tensorflow_stub\\dtypes.py:541: FutureWarning: Passing (type, 1) or '1type' as a synonym of type is deprecated; in a future version of numpy, it will be understood as (type, (1,)) / '(1,)type'.\n",
      "  _np_qint8 = np.dtype([(\"qint8\", np.int8, 1)])\n",
      "C:\\ProgramData\\Anaconda3\\lib\\site-packages\\tensorboard\\compat\\tensorflow_stub\\dtypes.py:542: FutureWarning: Passing (type, 1) or '1type' as a synonym of type is deprecated; in a future version of numpy, it will be understood as (type, (1,)) / '(1,)type'.\n",
      "  _np_quint8 = np.dtype([(\"quint8\", np.uint8, 1)])\n",
      "C:\\ProgramData\\Anaconda3\\lib\\site-packages\\tensorboard\\compat\\tensorflow_stub\\dtypes.py:543: FutureWarning: Passing (type, 1) or '1type' as a synonym of type is deprecated; in a future version of numpy, it will be understood as (type, (1,)) / '(1,)type'.\n",
      "  _np_qint16 = np.dtype([(\"qint16\", np.int16, 1)])\n",
      "C:\\ProgramData\\Anaconda3\\lib\\site-packages\\tensorboard\\compat\\tensorflow_stub\\dtypes.py:544: FutureWarning: Passing (type, 1) or '1type' as a synonym of type is deprecated; in a future version of numpy, it will be understood as (type, (1,)) / '(1,)type'.\n",
      "  _np_quint16 = np.dtype([(\"quint16\", np.uint16, 1)])\n",
      "C:\\ProgramData\\Anaconda3\\lib\\site-packages\\tensorboard\\compat\\tensorflow_stub\\dtypes.py:545: FutureWarning: Passing (type, 1) or '1type' as a synonym of type is deprecated; in a future version of numpy, it will be understood as (type, (1,)) / '(1,)type'.\n",
      "  _np_qint32 = np.dtype([(\"qint32\", np.int32, 1)])\n",
      "C:\\ProgramData\\Anaconda3\\lib\\site-packages\\tensorboard\\compat\\tensorflow_stub\\dtypes.py:550: FutureWarning: Passing (type, 1) or '1type' as a synonym of type is deprecated; in a future version of numpy, it will be understood as (type, (1,)) / '(1,)type'.\n",
      "  np_resource = np.dtype([(\"resource\", np.ubyte, 1)])\n"
     ]
    }
   ],
   "source": [
    "from keras.models import Sequential\n",
    "from keras.layers import Dense\n",
    "from keras.layers import InputLayer\n",
    "from keras import backend as k\n",
    "from keras.optimizers import SGD\n",
    "from keras.optimizers import Adam\n",
    "from keras.callbacks import EarlyStopping\n",
    "from keras.callbacks import ModelCheckpoint\n",
    "from keras.wrappers.scikit_learn import KerasRegressor"
   ]
  },
  {
   "cell_type": "code",
   "execution_count": 104,
   "metadata": {},
   "outputs": [],
   "source": [
    "def r2(y_true,y_pred):\n",
    "    SS_res=k.sum(k.square(y_true-y_pred))\n",
    "    SS_tot=k.sum(k.square(y_true-k.mean(y_true)))\n",
    "    return (1-SS_res/(SS_tot))\n",
    "\n",
    "# define base model\n",
    "def baseline_model(input_dim=52,output_dim=1, init='glorot_uniform', layers=[10, 10, 10, 10, 10, 10, 10, 10],\n",
    "                   activ_function='relu',\n",
    "                   optim='adam' , loss_function='mse'):\n",
    "    # ,Adam_lr=0.001, Adam_beta1=0.9, Adam_beta2=0.999, Adam_epsilon=1e-07\n",
    "    # create model\n",
    "    model = Sequential()\n",
    "    for i, nodes in enumerate(layers):\n",
    "        if i==0:\n",
    "            model.add(Dense(units=nodes, input_dim=input_dim, kernel_initializer=init, activation=activ_function))\n",
    "        else:\n",
    "            model.add(Dense(units=nodes, kernel_initializer=init, activation=activ_function))\n",
    "    model.add(Dense(units=output_dim, kernel_initializer=init,))\n",
    "    # Compile model\n",
    "    # optim_m=Adam(learning_rate=Adam_lr, beta_1=Adam_beta1, beta_2=Adam_beta2, epsilon= Adam_epsilon)\n",
    "    model.compile(optimizer=optim, loss=loss_function, metrics=['mae','mse',r2])\n",
    "    return model"
   ]
  },
  {
   "cell_type": "raw",
   "metadata": {},
   "source": [
    "# Early Stopping\n",
    "stopper=EarlyStopping(monitor='val_mae', patience=8, verbose=1) #more than three epochs"
   ]
  },
  {
   "cell_type": "code",
   "execution_count": 105,
   "metadata": {},
   "outputs": [],
   "source": [
    "#Model check point\n",
    "checkpoint_filepath= 'weights12.hdf5'\n",
    "checkpoint=ModelCheckpoint(filepath =checkpoint_filepath, monitor='loss',\n",
    "                           save_best_only= True, mode='auto')"
   ]
  },
  {
   "cell_type": "code",
   "execution_count": 106,
   "metadata": {},
   "outputs": [],
   "source": [
    "# Best combination of Hyperparameters:\n",
    "#{'kr__activ_function': 'relu', 'kr__batch_size': 32, 'kr__epochs': 200, 'kr__input_dim': 120,\n",
    "#'kr__layers': (24, 24), 'kr__optim': 'adam'}\n",
    "\n",
    "\n",
    "num_epochs=25\n",
    "batch=32\n",
    "blayers=[10, 10, 10, 10, 10, 10, 10, 10]\n",
    "bactiv_function='relu'\n",
    "boptim='adam'\n",
    "\n",
    "model=baseline_model(input_dim=52,output_dim=1,layers=blayers, activ_function= bactiv_function,\n",
    "                     optim=boptim, loss_function='mse')\n",
    "\n",
    "num_val_samples=len(X_train)//kf #Floor division - division that results into whole number\n",
    "#adjusted to the left in the number line\n",
    "all_mae_histories=[]\n",
    "all_mse_histories=[]\n",
    "all_r2_histories=[]"
   ]
  },
  {
   "cell_type": "code",
   "execution_count": 107,
   "metadata": {},
   "outputs": [
    {
     "name": "stdout",
     "output_type": "stream",
     "text": [
      "Processing fold # 0\n",
      "Processing fold # 1\n",
      "Processing fold # 2\n",
      "Processing fold # 3\n"
     ]
    }
   ],
   "source": [
    "for i in range(kf):\n",
    "    #Prepares the validation data: data from partition #k\n",
    "    print('Processing fold #', i)\n",
    "    val_data=X_train[i*num_val_samples:(i+1)*num_val_samples]\n",
    "    val_targets=Y_train[i*num_val_samples:(i+1)*num_val_samples]\n",
    "    #Prepares the training data: data from all other partitions\n",
    "    partial_train_data=np.concatenate([X_train[:i*num_val_samples],\n",
    "        X_train[(i+1)*num_val_samples:]], axis=0)\n",
    "    partial_train_targets=np.concatenate([Y_train[:i*num_val_samples],\n",
    "        Y_train[(i+1)*num_val_samples:]], axis=0)\n",
    "    # trains the model in silent mode\n",
    "    scaler.fit(partial_train_data)\n",
    "    partial_train_data_std=scaler.transform(partial_train_data)\n",
    "    val_data_std=scaler.transform(val_data)\n",
    "    history = model.fit(partial_train_data_std, partial_train_targets,validation_data=(val_data_std,val_targets),\n",
    "                        epochs=num_epochs,batch_size=batch,verbose=0)\n",
    "    #Evaluates the model on the validation data\n",
    "    mae_history=history.history['val_mae']\n",
    "    all_mae_histories.append(mae_history)\n",
    "    mse_history=history.history['val_mse']\n",
    "    all_mse_histories.append(mse_history)\n",
    "    r2_history=history.history['val_r2']\n",
    "    all_r2_histories.append(r2_history)"
   ]
  },
  {
   "cell_type": "code",
   "execution_count": 108,
   "metadata": {},
   "outputs": [],
   "source": [
    "df_scorescv_ann_MAE=pd.DataFrame(all_mae_histories)\n",
    "df_scorescv_ann_MSE=pd.DataFrame(all_mse_histories)\n",
    "df_scorescv_ann_R2=pd.DataFrame(all_r2_histories)"
   ]
  },
  {
   "cell_type": "code",
   "execution_count": 109,
   "metadata": {},
   "outputs": [],
   "source": [
    "with pd.ExcelWriter('FINALRESULTS_CV_12.xlsx',engine='openpyxl', mode='a') as writer:\n",
    "    df_scorescv_ann_MSE.to_excel(writer, sheet_name='ANN_MSE')\n",
    "\n",
    "with pd.ExcelWriter('FINALRESULTS_CV_12.xlsx',engine='openpyxl', mode='a') as writer:\n",
    "    df_scorescv_ann_MAE.to_excel(writer, sheet_name='ANN_MAE')\n",
    "    \n",
    "with pd.ExcelWriter('FINALRESULTS_CV_12.xlsx',engine='openpyxl', mode='a') as writer:\n",
    "    df_scorescv_ann_R2.to_excel(writer, sheet_name='ANN_R2')"
   ]
  },
  {
   "cell_type": "code",
   "execution_count": 110,
   "metadata": {},
   "outputs": [],
   "source": [
    "min_df_scorescv_ann_MAE=df_scorescv_ann_MAE.min(axis=1)\n",
    "min_df_scorescv_ann_MSE=df_scorescv_ann_MSE.min(axis=1)\n",
    "max_df_scorescv_ann_R2=df_scorescv_ann_R2.max(axis=1)"
   ]
  },
  {
   "cell_type": "code",
   "execution_count": 111,
   "metadata": {},
   "outputs": [],
   "source": [
    "mse_ann_rgr_cv = min_df_scorescv_ann_MSE.mean(axis=0)\n",
    "mse_std_ann_rgr_cv = min_df_scorescv_ann_MSE.std(axis=0)\n",
    "mae_ann_rgr_cv = min_df_scorescv_ann_MAE.mean(axis=0)\n",
    "mae_std_ann_rgr_cv = min_df_scorescv_ann_MAE.std(axis=0)\n",
    "r2_ann_rgr_cv = max_df_scorescv_ann_R2.mean(axis=0)\n",
    "r2_std_ann_rgr_cv = max_df_scorescv_ann_R2.std(axis=0)"
   ]
  },
  {
   "cell_type": "code",
   "execution_count": 112,
   "metadata": {},
   "outputs": [],
   "source": [
    "model.fit(X_train_std, Y_train, epochs=num_epochs, callbacks=[checkpoint], batch_size=batch, verbose=0)\n",
    "model.load_weights(checkpoint_filepath)"
   ]
  },
  {
   "cell_type": "code",
   "execution_count": 113,
   "metadata": {},
   "outputs": [
    {
     "name": "stdout",
     "output_type": "stream",
     "text": [
      "21378/21378 [==============================] - 1s 29us/step\n",
      "9105/9105 [==============================] - 0s 29us/step\n"
     ]
    }
   ],
   "source": [
    "loss, mae, mse, r2= model.evaluate(X_train_std, Y_train)\n",
    "test_loss, test_mae, test_mse, test_r2 = model.evaluate(X_test_std, Y_test)"
   ]
  },
  {
   "cell_type": "code",
   "execution_count": 114,
   "metadata": {},
   "outputs": [],
   "source": [
    "mse_ann_rgr_train = mse \n",
    "mse_ann_rgr_test = test_mse\n",
    "\n",
    "mae_ann_rgr_train = mae \n",
    "mae_ann_rgr_test = test_mae\n",
    "\n",
    "r2_ann_rgr_train = r2\n",
    "r2_ann_rgr_test = test_r2"
   ]
  },
  {
   "cell_type": "code",
   "execution_count": 115,
   "metadata": {},
   "outputs": [],
   "source": [
    "new_results_dic = {'MSE_train': mse_ann_rgr_train, 'MAE_train': mae_ann_rgr_train,'R2_train': r2_ann_rgr_train,\n",
    "                   'MSE_cv': mse_ann_rgr_cv, 'MSE_std_cv': mse_std_ann_rgr_cv, 'MAE_cv': mae_ann_rgr_cv,\n",
    "                   'MAE_std_cv': mae_std_ann_rgr_cv, 'R2_cv': r2_ann_rgr_cv, 'R2_std_cv': r2_std_ann_rgr_cv,\n",
    "                   'MSE_test': mse_ann_rgr_test,\n",
    "                   'MAE_test': mae_ann_rgr_test,\n",
    "                   'R2_test': r2_ann_rgr_test}\n",
    "\n",
    "df_results.loc[len(df_results)] = new_results_dic"
   ]
  },
  {
   "cell_type": "raw",
   "metadata": {},
   "source": [
    "df_results.drop('ANN', inplace=True)"
   ]
  },
  {
   "cell_type": "code",
   "execution_count": 117,
   "metadata": {},
   "outputs": [
    {
     "data": {
      "text/html": [
       "<div>\n",
       "<style scoped>\n",
       "    .dataframe tbody tr th:only-of-type {\n",
       "        vertical-align: middle;\n",
       "    }\n",
       "\n",
       "    .dataframe tbody tr th {\n",
       "        vertical-align: top;\n",
       "    }\n",
       "\n",
       "    .dataframe thead th {\n",
       "        text-align: right;\n",
       "    }\n",
       "</style>\n",
       "<table border=\"1\" class=\"dataframe\">\n",
       "  <thead>\n",
       "    <tr style=\"text-align: right;\">\n",
       "      <th></th>\n",
       "      <th>MSE_train</th>\n",
       "      <th>MAE_train</th>\n",
       "      <th>R2_train</th>\n",
       "      <th>MSE_cv</th>\n",
       "      <th>MSE_std_cv</th>\n",
       "      <th>MAE_cv</th>\n",
       "      <th>MAE_std_cv</th>\n",
       "      <th>R2_cv</th>\n",
       "      <th>R2_std_cv</th>\n",
       "      <th>MSE_test</th>\n",
       "      <th>MAE_test</th>\n",
       "      <th>R2_test</th>\n",
       "    </tr>\n",
       "  </thead>\n",
       "  <tbody>\n",
       "    <tr>\n",
       "      <th>OLS</th>\n",
       "      <td>5.879451</td>\n",
       "      <td>1.970679</td>\n",
       "      <td>0.240772</td>\n",
       "      <td>5.909545</td>\n",
       "      <td>-0.055091</td>\n",
       "      <td>1.975511</td>\n",
       "      <td>-0.016413</td>\n",
       "      <td>-0.236827</td>\n",
       "      <td>-0.002080</td>\n",
       "      <td>5.941023</td>\n",
       "      <td>1.982939</td>\n",
       "      <td>0.223962</td>\n",
       "    </tr>\n",
       "    <tr>\n",
       "      <th>RF</th>\n",
       "      <td>5.466623</td>\n",
       "      <td>1.900071</td>\n",
       "      <td>0.294081</td>\n",
       "      <td>5.868629</td>\n",
       "      <td>-0.053650</td>\n",
       "      <td>1.970162</td>\n",
       "      <td>-0.014904</td>\n",
       "      <td>-0.242101</td>\n",
       "      <td>-0.004140</td>\n",
       "      <td>5.833807</td>\n",
       "      <td>1.966330</td>\n",
       "      <td>0.237966</td>\n",
       "    </tr>\n",
       "    <tr>\n",
       "      <th>SVR</th>\n",
       "      <td>5.410827</td>\n",
       "      <td>1.817499</td>\n",
       "      <td>0.301286</td>\n",
       "      <td>5.955710</td>\n",
       "      <td>-0.005971</td>\n",
       "      <td>1.949179</td>\n",
       "      <td>-0.007068</td>\n",
       "      <td>-0.230809</td>\n",
       "      <td>-0.006303</td>\n",
       "      <td>6.000259</td>\n",
       "      <td>1.966263</td>\n",
       "      <td>0.216224</td>\n",
       "    </tr>\n",
       "    <tr>\n",
       "      <th>KNN</th>\n",
       "      <td>0.192617</td>\n",
       "      <td>0.091690</td>\n",
       "      <td>0.975127</td>\n",
       "      <td>6.382407</td>\n",
       "      <td>-0.073791</td>\n",
       "      <td>2.050877</td>\n",
       "      <td>-0.020255</td>\n",
       "      <td>-0.175769</td>\n",
       "      <td>-0.004628</td>\n",
       "      <td>6.515142</td>\n",
       "      <td>2.068140</td>\n",
       "      <td>0.148968</td>\n",
       "    </tr>\n",
       "    <tr>\n",
       "      <th>XGB</th>\n",
       "      <td>2.321756</td>\n",
       "      <td>1.196175</td>\n",
       "      <td>0.700186</td>\n",
       "      <td>5.817380</td>\n",
       "      <td>-0.055806</td>\n",
       "      <td>1.919226</td>\n",
       "      <td>-0.016225</td>\n",
       "      <td>-0.248726</td>\n",
       "      <td>-0.003502</td>\n",
       "      <td>5.698780</td>\n",
       "      <td>1.894955</td>\n",
       "      <td>0.255604</td>\n",
       "    </tr>\n",
       "  </tbody>\n",
       "</table>\n",
       "</div>"
      ],
      "text/plain": [
       "     MSE_train  MAE_train  R2_train    MSE_cv  MSE_std_cv    MAE_cv  \\\n",
       "OLS   5.879451   1.970679  0.240772  5.909545   -0.055091  1.975511   \n",
       "RF    5.466623   1.900071  0.294081  5.868629   -0.053650  1.970162   \n",
       "SVR   5.410827   1.817499  0.301286  5.955710   -0.005971  1.949179   \n",
       "KNN   0.192617   0.091690  0.975127  6.382407   -0.073791  2.050877   \n",
       "XGB   2.321756   1.196175  0.700186  5.817380   -0.055806  1.919226   \n",
       "\n",
       "     MAE_std_cv     R2_cv  R2_std_cv  MSE_test  MAE_test   R2_test  \n",
       "OLS   -0.016413 -0.236827  -0.002080  5.941023  1.982939  0.223962  \n",
       "RF    -0.014904 -0.242101  -0.004140  5.833807  1.966330  0.237966  \n",
       "SVR   -0.007068 -0.230809  -0.006303  6.000259  1.966263  0.216224  \n",
       "KNN   -0.020255 -0.175769  -0.004628  6.515142  2.068140  0.148968  \n",
       "XGB   -0.016225 -0.248726  -0.003502  5.698780  1.894955  0.255604  "
      ]
     },
     "execution_count": 117,
     "metadata": {},
     "output_type": "execute_result"
    }
   ],
   "source": [
    "indexNamesArr = df_results.index.values\n",
    "i = indexNamesArr[-1]\n",
    "df_results.rename(index={i:'ANN'}, inplace=True)\n",
    "df_results.head()"
   ]
  },
  {
   "cell_type": "code",
   "execution_count": 118,
   "metadata": {
    "scrolled": true
   },
   "outputs": [
    {
     "name": "stdout",
     "output_type": "stream",
     "text": [
      "Model: \"sequential_2\"\n",
      "_________________________________________________________________\n",
      "Layer (type)                 Output Shape              Param #   \n",
      "=================================================================\n",
      "dense_10 (Dense)             (None, 10)                530       \n",
      "_________________________________________________________________\n",
      "dense_11 (Dense)             (None, 10)                110       \n",
      "_________________________________________________________________\n",
      "dense_12 (Dense)             (None, 10)                110       \n",
      "_________________________________________________________________\n",
      "dense_13 (Dense)             (None, 10)                110       \n",
      "_________________________________________________________________\n",
      "dense_14 (Dense)             (None, 10)                110       \n",
      "_________________________________________________________________\n",
      "dense_15 (Dense)             (None, 10)                110       \n",
      "_________________________________________________________________\n",
      "dense_16 (Dense)             (None, 10)                110       \n",
      "_________________________________________________________________\n",
      "dense_17 (Dense)             (None, 10)                110       \n",
      "_________________________________________________________________\n",
      "dense_18 (Dense)             (None, 1)                 11        \n",
      "=================================================================\n",
      "Total params: 1,311\n",
      "Trainable params: 1,311\n",
      "Non-trainable params: 0\n",
      "_________________________________________________________________\n",
      "None\n"
     ]
    }
   ],
   "source": [
    "print(model.summary())"
   ]
  },
  {
   "cell_type": "code",
   "execution_count": 119,
   "metadata": {},
   "outputs": [
    {
     "data": {
      "text/html": [
       "<div>\n",
       "<style scoped>\n",
       "    .dataframe tbody tr th:only-of-type {\n",
       "        vertical-align: middle;\n",
       "    }\n",
       "\n",
       "    .dataframe tbody tr th {\n",
       "        vertical-align: top;\n",
       "    }\n",
       "\n",
       "    .dataframe thead th {\n",
       "        text-align: right;\n",
       "    }\n",
       "</style>\n",
       "<table border=\"1\" class=\"dataframe\">\n",
       "  <thead>\n",
       "    <tr style=\"text-align: right;\">\n",
       "      <th></th>\n",
       "      <th>MSE_train</th>\n",
       "      <th>MAE_train</th>\n",
       "      <th>R2_train</th>\n",
       "      <th>MSE_cv</th>\n",
       "      <th>MSE_std_cv</th>\n",
       "      <th>MAE_cv</th>\n",
       "      <th>MAE_std_cv</th>\n",
       "      <th>R2_cv</th>\n",
       "      <th>R2_std_cv</th>\n",
       "      <th>MSE_test</th>\n",
       "      <th>MAE_test</th>\n",
       "      <th>R2_test</th>\n",
       "    </tr>\n",
       "  </thead>\n",
       "  <tbody>\n",
       "    <tr>\n",
       "      <th>OLS</th>\n",
       "      <td>5.879451</td>\n",
       "      <td>1.970679</td>\n",
       "      <td>0.240772</td>\n",
       "      <td>5.909545</td>\n",
       "      <td>-0.055091</td>\n",
       "      <td>1.975511</td>\n",
       "      <td>-0.016413</td>\n",
       "      <td>-0.236827</td>\n",
       "      <td>-0.002080</td>\n",
       "      <td>5.941023</td>\n",
       "      <td>1.982939</td>\n",
       "      <td>0.223962</td>\n",
       "    </tr>\n",
       "    <tr>\n",
       "      <th>RF</th>\n",
       "      <td>5.466623</td>\n",
       "      <td>1.900071</td>\n",
       "      <td>0.294081</td>\n",
       "      <td>5.868629</td>\n",
       "      <td>-0.053650</td>\n",
       "      <td>1.970162</td>\n",
       "      <td>-0.014904</td>\n",
       "      <td>-0.242101</td>\n",
       "      <td>-0.004140</td>\n",
       "      <td>5.833807</td>\n",
       "      <td>1.966330</td>\n",
       "      <td>0.237966</td>\n",
       "    </tr>\n",
       "    <tr>\n",
       "      <th>SVR</th>\n",
       "      <td>5.410827</td>\n",
       "      <td>1.817499</td>\n",
       "      <td>0.301286</td>\n",
       "      <td>5.955710</td>\n",
       "      <td>-0.005971</td>\n",
       "      <td>1.949179</td>\n",
       "      <td>-0.007068</td>\n",
       "      <td>-0.230809</td>\n",
       "      <td>-0.006303</td>\n",
       "      <td>6.000259</td>\n",
       "      <td>1.966263</td>\n",
       "      <td>0.216224</td>\n",
       "    </tr>\n",
       "    <tr>\n",
       "      <th>KNN</th>\n",
       "      <td>0.192617</td>\n",
       "      <td>0.091690</td>\n",
       "      <td>0.975127</td>\n",
       "      <td>6.382407</td>\n",
       "      <td>-0.073791</td>\n",
       "      <td>2.050877</td>\n",
       "      <td>-0.020255</td>\n",
       "      <td>-0.175769</td>\n",
       "      <td>-0.004628</td>\n",
       "      <td>6.515142</td>\n",
       "      <td>2.068140</td>\n",
       "      <td>0.148968</td>\n",
       "    </tr>\n",
       "    <tr>\n",
       "      <th>XGB</th>\n",
       "      <td>2.321756</td>\n",
       "      <td>1.196175</td>\n",
       "      <td>0.700186</td>\n",
       "      <td>5.817380</td>\n",
       "      <td>-0.055806</td>\n",
       "      <td>1.919226</td>\n",
       "      <td>-0.016225</td>\n",
       "      <td>-0.248726</td>\n",
       "      <td>-0.003502</td>\n",
       "      <td>5.698780</td>\n",
       "      <td>1.894955</td>\n",
       "      <td>0.255604</td>\n",
       "    </tr>\n",
       "    <tr>\n",
       "      <th>ANN</th>\n",
       "      <td>5.430543</td>\n",
       "      <td>1.890126</td>\n",
       "      <td>0.247452</td>\n",
       "      <td>5.702732</td>\n",
       "      <td>0.207627</td>\n",
       "      <td>1.938043</td>\n",
       "      <td>0.036309</td>\n",
       "      <td>0.230482</td>\n",
       "      <td>0.027457</td>\n",
       "      <td>6.135032</td>\n",
       "      <td>2.013214</td>\n",
       "      <td>0.161403</td>\n",
       "    </tr>\n",
       "  </tbody>\n",
       "</table>\n",
       "</div>"
      ],
      "text/plain": [
       "     MSE_train  MAE_train  R2_train    MSE_cv  MSE_std_cv    MAE_cv  \\\n",
       "OLS   5.879451   1.970679  0.240772  5.909545   -0.055091  1.975511   \n",
       "RF    5.466623   1.900071  0.294081  5.868629   -0.053650  1.970162   \n",
       "SVR   5.410827   1.817499  0.301286  5.955710   -0.005971  1.949179   \n",
       "KNN   0.192617   0.091690  0.975127  6.382407   -0.073791  2.050877   \n",
       "XGB   2.321756   1.196175  0.700186  5.817380   -0.055806  1.919226   \n",
       "ANN   5.430543   1.890126  0.247452  5.702732    0.207627  1.938043   \n",
       "\n",
       "     MAE_std_cv     R2_cv  R2_std_cv  MSE_test  MAE_test   R2_test  \n",
       "OLS   -0.016413 -0.236827  -0.002080  5.941023  1.982939  0.223962  \n",
       "RF    -0.014904 -0.242101  -0.004140  5.833807  1.966330  0.237966  \n",
       "SVR   -0.007068 -0.230809  -0.006303  6.000259  1.966263  0.216224  \n",
       "KNN   -0.020255 -0.175769  -0.004628  6.515142  2.068140  0.148968  \n",
       "XGB   -0.016225 -0.248726  -0.003502  5.698780  1.894955  0.255604  \n",
       "ANN    0.036309  0.230482   0.027457  6.135032  2.013214  0.161403  "
      ]
     },
     "execution_count": 119,
     "metadata": {},
     "output_type": "execute_result"
    }
   ],
   "source": [
    "df_results.head(10)"
   ]
  },
  {
   "cell_type": "code",
   "execution_count": 120,
   "metadata": {},
   "outputs": [],
   "source": [
    "df_results.to_excel('FINALRESULTS_Train_Test_12.xlsx', sheet_name='Final Results')"
   ]
  },
  {
   "cell_type": "markdown",
   "metadata": {},
   "source": []
  },
  {
   "cell_type": "code",
   "execution_count": null,
   "metadata": {},
   "outputs": [],
   "source": []
  }
 ],
 "metadata": {
  "kernelspec": {
   "display_name": "Python 3",
   "language": "python",
   "name": "python3"
  },
  "language_info": {
   "codemirror_mode": {
    "name": "ipython",
    "version": 3
   },
   "file_extension": ".py",
   "mimetype": "text/x-python",
   "name": "python",
   "nbconvert_exporter": "python",
   "pygments_lexer": "ipython3",
   "version": "3.7.6"
  }
 },
 "nbformat": 4,
 "nbformat_minor": 4
}
