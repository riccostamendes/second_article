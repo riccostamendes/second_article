{
 "cells": [
  {
   "cell_type": "markdown",
   "metadata": {},
   "source": [
    "# Fit Best models"
   ]
  },
  {
   "cell_type": "code",
   "execution_count": 1,
   "metadata": {},
   "outputs": [],
   "source": [
    "import numpy as np\n",
    "import pandas as pd\n",
    "import matplotlib.pyplot as plt\n",
    "%matplotlib inline\n",
    "import seaborn as sns\n",
    "from sklearn.model_selection import train_test_split\n",
    "from sklearn.model_selection import StratifiedShuffleSplit\n",
    "from sklearn.model_selection import KFold\n",
    "from sklearn.preprocessing import StandardScaler\n",
    "from sklearn.decomposition import PCA\n",
    "from sklearn.model_selection import cross_val_score\n",
    "from sklearn.pipeline import Pipeline\n",
    "import math\n",
    "from sklearn.model_selection import GridSearchCV\n",
    "from sklearn import metrics\n",
    "from sklearn.metrics import mean_squared_error, r2_score\n",
    "from sklearn.ensemble import RandomForestRegressor\n",
    "from sklearn.svm import SVR\n",
    "from sklearn.ensemble import BaggingRegressor\n",
    "from sklearn.linear_model import Ridge\n",
    "from sklearn.neighbors import KNeighborsRegressor \n",
    "from sklearn.model_selection import cross_val_score\n",
    "from sklearn.linear_model import LinearRegression\n",
    "import statsmodels.api as sm\n",
    "import xgboost as xgb"
   ]
  },
  {
   "cell_type": "code",
   "execution_count": 2,
   "metadata": {},
   "outputs": [],
   "source": [
    "seed=42\n",
    "kf=4"
   ]
  },
  {
   "cell_type": "code",
   "execution_count": 3,
   "metadata": {},
   "outputs": [],
   "source": [
    "X1110Y11_train=pd.read_excel('X1110Y11_train.xlsx')\n",
    "X1110Y11_test=pd.read_excel('X1110Y11_test.xlsx')"
   ]
  },
  {
   "cell_type": "code",
   "execution_count": 4,
   "metadata": {},
   "outputs": [],
   "source": [
    "LassoFeatToDrop =['Class_Size',\n",
    " 'Student_Computer',\n",
    " 'Student_Internet',\n",
    " 'Student_NumberEnrolments',\n",
    " 'Student_ActiveWorking',\n",
    " 'Student_Parish',\n",
    " 'Student_County',\n",
    " 'STD_Resp_CloseRelative',\n",
    " 'STD_Resp_Father',\n",
    " 'STD_Resp_Himself',\n",
    " 'STD_Resp_LegalResp',\n",
    " 'FTH_Nation_AFR',\n",
    " 'FTH_Nation_BR',\n",
    " 'FTH_Nation_CHN',\n",
    " 'FTH_Nation_EEUR',\n",
    " 'FTH_Nation_OTHERS',\n",
    " 'FTH_Nation_RICH',\n",
    " 'SES_STDRESP_ProfClass_BasicI',\n",
    " 'SES_STDRESP_ProfClass_UnivI',\n",
    " 'SES_STDRESP_ProfClass_UnivII',\n",
    " 'SES_STDRESP_ProfClass_Unknown_NoProfession',\n",
    " 'SES_FATH_ProfClass_BasicI',\n",
    " 'SES_FATH_ProfClass_UnivI',\n",
    " 'SES_FATH_ProfClass_Unknown_NoProfession',\n",
    " 'SES_MOTH_ProfClass_BasicI',\n",
    " 'SES_MOTH_ProfClass_UnivI',\n",
    " 'SES_MOTH_ProfClass_Unknown_NoProfession',\n",
    " 'SES_STDRESP_JobSit_Employer',\n",
    " 'SES_STDRESP_JobSit_HomeAffairs',\n",
    " 'SES_STDRESP_JobSit_Other',\n",
    " 'SES_STDRESP_JobSit_Retired',\n",
    " 'SES_STDRESP_JobSit_SelfEmployed',\n",
    " 'SES_STDRESP_JobSit_Student',\n",
    " 'SES_STDRESP_JobSit_Unemployed',\n",
    " 'SES_STDRESP_JobSit_Unknown',\n",
    " 'SES_FATH_JobSit_Employer',\n",
    " 'SES_FATH_JobSit_HomeAffairs',\n",
    " 'SES_FATH_JobSit_Other',\n",
    " 'SES_FATH_JobSit_Retired',\n",
    " 'SES_FATH_JobSit_SelfEmployed',\n",
    " 'SES_FATH_JobSit_Student',\n",
    " 'SES_FATH_JobSit_Unemployed',\n",
    " 'SES_FATH_JobSit_Unknown',\n",
    " 'SES_MOTH_JobSit_Employer',\n",
    " 'SES_MOTH_JobSit_HomeAffairs',\n",
    " 'SES_MOTH_JobSit_Retired',\n",
    " 'SES_MOTH_JobSit_SelfEmployed',\n",
    " 'SES_MOTH_JobSit_Student',\n",
    " 'SES_MOTH_JobSit_Unemployed',\n",
    " 'SES_MOTH_JobSit_Unknown',\n",
    " 'SES_STDRESP_AcadEduc_Bachelor',\n",
    " 'SES_STDRESP_AcadEduc_Basic_I',\n",
    " 'SES_STDRESP_AcadEduc_Basic_II',\n",
    " 'SES_STDRESP_AcadEduc_Basic_III',\n",
    " 'SES_STDRESP_AcadEduc_Master',\n",
    " 'SES_STDRESP_AcadEduc_NoFormalEducation',\n",
    " 'SES_STDRESP_AcadEduc_Other',\n",
    " 'SES_STDRESP_AcadEduc_Phd',\n",
    " 'SES_STDRESP_AcadEduc_PostGraduation',\n",
    " 'SES_STDRESP_AcadEduc_Unknown',\n",
    " 'SES_FATH_AcadEduc_Bachelor',\n",
    " 'SES_FATH_AcadEduc_Basic_I',\n",
    " 'SES_FATH_AcadEduc_Basic_II',\n",
    " 'SES_FATH_AcadEduc_Basic_III',\n",
    " 'SES_FATH_AcadEduc_Master',\n",
    " 'SES_FATH_AcadEduc_NoFormalEducation',\n",
    " 'SES_FATH_AcadEduc_Other',\n",
    " 'SES_FATH_AcadEduc_PostGraduation',\n",
    " 'SES_FATH_AcadEduc_Unknown',\n",
    " 'SES_MOTH_AcadEduc_Bachelor',\n",
    " 'SES_MOTH_AcadEduc_Basic_I',\n",
    " 'SES_MOTH_AcadEduc_Basic_II',\n",
    " 'SES_MOTH_AcadEduc_Basic_III',\n",
    " 'SES_MOTH_AcadEduc_Master',\n",
    " 'SES_MOTH_AcadEduc_NoFormalEducation',\n",
    " 'SES_MOTH_AcadEduc_Other',\n",
    " 'SES_MOTH_AcadEduc_Phd',\n",
    " 'SES_MOTH_AcadEduc_PostGraduation',\n",
    " 'SES_MOTH_AcadEduc_Unknown',\n",
    " 'SES_Scholarship_Full_Support',\n",
    " 'SES_Scholarship_Half_Support',\n",
    " 'SES%_Parish_FamilyNoClassicDwellings',\n",
    " 'SES%_Parish_CollectiveDwellings',\n",
    " 'SES%_Parish_IliteracyRate',\n",
    " 'SES%_Parish_PostSecondarySchoolingRate',\n",
    " 'SES%_Parish_PrimarySector',\n",
    " 'SES%_Parish_UnemploymentRate',\n",
    " 'Tch_FixedTermStaff',\n",
    " 'Tch_PedagogicZoneDefinitivePermanentStaff',\n",
    " 'Tch_PedagogicZoneNoDefinitivePermanentStaff',\n",
    " 'Tch_SchoolClusterDefinitivePermanentStaff',\n",
    " 'Tch_SchoolClusterNoDefinitivePermanentStaff',\n",
    " 'Tch_SchoolNoDefinitivePermanentStaff',\n",
    " 'Tch_AcadEduc_Other',\n",
    " 'Tch_AcadEduc_Phd_Master',\n",
    " 'Tch_Step_567',\n",
    " 'Tch_Step_8910',\n",
    " 'Teacher_TemporaryReplacement',\n",
    " 'Teacher_EducationSupport',\n",
    " 'Teacher_Age',\n",
    " 'Teacher_TeachingDedicatedTime',\n",
    " 'Teacher_NoTeachingDedicatedTime',\n",
    " 'Teacher_EducationSupportDedicatedTime',\n",
    " 'SubjClass_Qual']"
   ]
  },
  {
   "cell_type": "code",
   "execution_count": 5,
   "metadata": {},
   "outputs": [],
   "source": [
    "XY_train=X1110Y11_train.drop(LassoFeatToDrop, axis=1)\n",
    "XY_test=X1110Y11_test.drop(LassoFeatToDrop, axis=1)"
   ]
  },
  {
   "cell_type": "code",
   "execution_count": 6,
   "metadata": {},
   "outputs": [],
   "source": [
    "XY_train=XY_train.drop(['Unnamed: 0', 'AcYear_11', 'AcYear_12'], axis=1)\n",
    "XY_test=XY_test.drop(['Unnamed: 0', 'AcYear_11', 'AcYear_12'], axis=1)"
   ]
  },
  {
   "cell_type": "raw",
   "metadata": {},
   "source": [
    "XY_train:122\n",
    "XY_test:122\n",
    "input 17"
   ]
  },
  {
   "cell_type": "code",
   "execution_count": 7,
   "metadata": {},
   "outputs": [
    {
     "data": {
      "text/plain": [
       "(9488, 18)"
      ]
     },
     "execution_count": 7,
     "metadata": {},
     "output_type": "execute_result"
    }
   ],
   "source": [
    "XY_test.shape"
   ]
  },
  {
   "cell_type": "code",
   "execution_count": 8,
   "metadata": {},
   "outputs": [],
   "source": [
    "X_train=XY_train.iloc[:,:17]\n",
    "Y_train=XY_train.iloc[:,-1]\n",
    "\n",
    "X_test=XY_test.iloc[:,:17]\n",
    "Y_test=XY_test.iloc[:,-1]"
   ]
  },
  {
   "cell_type": "code",
   "execution_count": 9,
   "metadata": {},
   "outputs": [],
   "source": [
    "Y_train=Y_train.to_numpy()\n",
    "Y_test=Y_test.to_numpy()"
   ]
  },
  {
   "cell_type": "code",
   "execution_count": 10,
   "metadata": {},
   "outputs": [
    {
     "data": {
      "text/plain": [
       "Index(['Std_Gender_F', 'N_Retentions', 'School_Size',\n",
       "       'SES_FATH_ProfClass_UnivII', 'SES_MOTH_ProfClass_UnivII',\n",
       "       'SES_MOTH_JobSit_Other', 'SES_STDRESP_AcadEduc_Degree',\n",
       "       'SES_FATH_AcadEduc_Degree', 'SES_FATH_AcadEduc_Phd',\n",
       "       'SES_MOTH_AcadEduc_Degree', 'SES%_Parish_SecondarySector',\n",
       "       'Tch_AcadEduc_Bachelor', 'Tch_Step_1234', 'Tch_Gender_F',\n",
       "       'SubjClass_Foreign_Lang', 'SubjClass_Quant', 'FinalMark_10'],\n",
       "      dtype='object')"
      ]
     },
     "execution_count": 10,
     "metadata": {},
     "output_type": "execute_result"
    }
   ],
   "source": [
    "X_train.columns"
   ]
  },
  {
   "cell_type": "code",
   "execution_count": 11,
   "metadata": {},
   "outputs": [],
   "source": [
    "# standardization\n",
    "scaler=StandardScaler()"
   ]
  },
  {
   "cell_type": "code",
   "execution_count": 12,
   "metadata": {},
   "outputs": [],
   "source": [
    "tscale=scaler.fit(X_train)\n",
    "X_train_std=tscale.transform(X_train)\n",
    "X_test_std=tscale.transform(X_test)"
   ]
  },
  {
   "cell_type": "markdown",
   "metadata": {},
   "source": [
    "## Fit best models"
   ]
  },
  {
   "cell_type": "markdown",
   "metadata": {},
   "source": [
    "### OLS - Multiple Linear Regression"
   ]
  },
  {
   "cell_type": "code",
   "execution_count": 13,
   "metadata": {},
   "outputs": [],
   "source": [
    "OLS_rgr = LinearRegression(fit_intercept=True, normalize=False, copy_X=True, n_jobs=None)"
   ]
  },
  {
   "cell_type": "code",
   "execution_count": 14,
   "metadata": {},
   "outputs": [],
   "source": [
    "# Define sklearn pipeline\n",
    "estimators = []\n",
    "estimators.append(('standardize', StandardScaler()))\n",
    "estimators.append(('OLS', OLS_rgr))\n",
    "pipeline = Pipeline(estimators)"
   ]
  },
  {
   "cell_type": "code",
   "execution_count": 15,
   "metadata": {},
   "outputs": [
    {
     "data": {
      "text/plain": [
       "LinearRegression(copy_X=True, fit_intercept=True, n_jobs=None, normalize=False)"
      ]
     },
     "execution_count": 15,
     "metadata": {},
     "output_type": "execute_result"
    }
   ],
   "source": [
    "OLS_rgr.fit(X_train_std, Y_train)"
   ]
  },
  {
   "cell_type": "code",
   "execution_count": 16,
   "metadata": {},
   "outputs": [
    {
     "data": {
      "text/plain": [
       "0.7256793427580852"
      ]
     },
     "execution_count": 16,
     "metadata": {},
     "output_type": "execute_result"
    }
   ],
   "source": [
    "OLS_rgr.score(X_train_std, Y_train)"
   ]
  },
  {
   "cell_type": "code",
   "execution_count": 17,
   "metadata": {},
   "outputs": [
    {
     "data": {
      "text/plain": [
       "array([ 0.10824073, -0.13116559,  0.03944005,  0.03422458,  0.04124531,\n",
       "       -0.03717292,  0.0082602 ,  0.02999998,  0.03481684,  0.01274709,\n",
       "        0.05909412, -0.04718619,  0.03579969,  0.0281358 ,  0.15443847,\n",
       "       -0.1210578 ,  2.29269258])"
      ]
     },
     "execution_count": 17,
     "metadata": {},
     "output_type": "execute_result"
    }
   ],
   "source": [
    "OLS_rgr.coef_"
   ]
  },
  {
   "cell_type": "code",
   "execution_count": 18,
   "metadata": {},
   "outputs": [
    {
     "data": {
      "text/plain": [
       "13.755129023433938"
      ]
     },
     "execution_count": 18,
     "metadata": {},
     "output_type": "execute_result"
    }
   ],
   "source": [
    "OLS_rgr.intercept_"
   ]
  },
  {
   "cell_type": "raw",
   "metadata": {},
   "source": [
    "scoring={'MSE': 'neg_mean_squared_error', 'MAE': 'neg_mean_absolute_error', 'R2': 'r2'}"
   ]
  },
  {
   "cell_type": "code",
   "execution_count": 19,
   "metadata": {},
   "outputs": [],
   "source": [
    "scores_MSE = cross_val_score(pipeline, X_train, Y_train, cv=kf,\n",
    "                         scoring='neg_mean_squared_error')\n",
    "scores_MAE = cross_val_score(pipeline, X_train, Y_train, cv=kf,\n",
    "                         scoring='neg_mean_absolute_error')\n",
    "scores_R2 = cross_val_score(pipeline, X_train, Y_train, cv=kf,\n",
    "                         scoring='r2')"
   ]
  },
  {
   "cell_type": "code",
   "execution_count": 20,
   "metadata": {},
   "outputs": [
    {
     "name": "stdout",
     "output_type": "stream",
     "text": [
      "MSE: 2.15 (+/- 0.08)\n",
      "MAE: 1.12 (+/- 0.02)\n",
      "R2: -0.73 (+/- 0.01)\n"
     ]
    }
   ],
   "source": [
    "print(\"MSE: %0.2f (+/- %0.2f)\" % (-scores_MSE.mean(), scores_MSE.std() * 2))\n",
    "print(\"MAE: %0.2f (+/- %0.2f)\" % (-scores_MAE.mean(), scores_MAE.std() * 2))\n",
    "print(\"R2: %0.2f (+/- %0.2f)\" % (-scores_R2.mean(), scores_R2.std() * 2))"
   ]
  },
  {
   "cell_type": "code",
   "execution_count": 21,
   "metadata": {},
   "outputs": [],
   "source": [
    "df_scorescv_ols_MSE=pd.DataFrame(scores_MSE)\n",
    "df_scorescv_ols_MAE=pd.DataFrame(scores_MAE)\n",
    "df_scorescv_ols_R2=pd.DataFrame(scores_R2)"
   ]
  },
  {
   "cell_type": "code",
   "execution_count": 22,
   "metadata": {},
   "outputs": [],
   "source": [
    "df_scorescv_ols_MSE.to_excel('FINALRESULTS_CV_1110.xlsx', sheet_name='OLS_MSE')\n",
    "\n",
    "with pd.ExcelWriter('FINALRESULTS_CV_1110.xlsx',engine='openpyxl', mode='a') as writer:\n",
    "    df_scorescv_ols_MAE.to_excel(writer, sheet_name='OLS_MAE')\n",
    "\n",
    "with pd.ExcelWriter('FINALRESULTS_CV_1110.xlsx',engine='openpyxl', mode='a') as writer:\n",
    "    df_scorescv_ols_R2.to_excel(writer, sheet_name='OLS_R2')"
   ]
  },
  {
   "cell_type": "code",
   "execution_count": 23,
   "metadata": {},
   "outputs": [],
   "source": [
    "mse_OLS_rgr_cv = -scores_MSE.mean()\n",
    "mse_std_OLS_rgr_cv = -scores_MSE.std()\n",
    "mae_OLS_rgr_cv = -scores_MAE.mean()\n",
    "mae_std_OLS_rgr_cv = -scores_MAE.std()\n",
    "r2_OLS_rgr_cv = -scores_R2.mean()\n",
    "r2_std_OLS_rgr_cv = -scores_R2.std()"
   ]
  },
  {
   "cell_type": "code",
   "execution_count": 24,
   "metadata": {},
   "outputs": [],
   "source": [
    "Y_train_pred=OLS_rgr.predict(X_train_std)\n",
    "Y_test_pred=OLS_rgr.predict(X_test_std)"
   ]
  },
  {
   "cell_type": "code",
   "execution_count": 25,
   "metadata": {},
   "outputs": [],
   "source": [
    "mse_OLS_rgr_train = metrics.mean_squared_error(Y_train, Y_train_pred) \n",
    "mse_OLS_rgr_test = metrics.mean_squared_error(Y_test, Y_test_pred)\n",
    "\n",
    "mae_OLS_rgr_train = metrics.mean_absolute_error(Y_train, Y_train_pred) \n",
    "mae_OLS_rgr_test = metrics.mean_absolute_error(Y_test, Y_test_pred)\n",
    "\n",
    "r2_OLS_rgr_train = metrics.r2_score(Y_train, Y_train_pred)\n",
    "r2_OLS_rgr_test = metrics.r2_score(Y_test, Y_test_pred)"
   ]
  },
  {
   "cell_type": "code",
   "execution_count": 26,
   "metadata": {},
   "outputs": [],
   "source": [
    "columns = ['MSE_train','MAE_train','R2_train',\n",
    "           'MSE_cv','MSE_std_cv','MAE_cv','MAE_std_cv','R2_cv','R2_std_cv',\n",
    "           'MSE_test','MAE_test', 'R2_test']"
   ]
  },
  {
   "cell_type": "code",
   "execution_count": 27,
   "metadata": {},
   "outputs": [],
   "source": [
    "df_results= pd.DataFrame(columns=columns)"
   ]
  },
  {
   "cell_type": "code",
   "execution_count": 28,
   "metadata": {},
   "outputs": [],
   "source": [
    "new_results_dic = {'MSE_train': mse_OLS_rgr_train, 'MAE_train': mae_OLS_rgr_train,'R2_train': r2_OLS_rgr_train,\n",
    "                   'MSE_cv': mse_OLS_rgr_cv, 'MSE_std_cv': mse_std_OLS_rgr_cv, 'MAE_cv': mae_OLS_rgr_cv,\n",
    "                   'MAE_std_cv': mae_std_OLS_rgr_cv, 'R2_cv': r2_OLS_rgr_cv, 'R2_std_cv': r2_std_OLS_rgr_cv,\n",
    "                   'MSE_test': mse_OLS_rgr_test, 'MAE_test': mae_OLS_rgr_test, 'R2_test': r2_OLS_rgr_test}\n",
    "df_results.loc[len(df_results)] = new_results_dic\n"
   ]
  },
  {
   "cell_type": "code",
   "execution_count": 29,
   "metadata": {},
   "outputs": [
    {
     "data": {
      "text/html": [
       "<div>\n",
       "<style scoped>\n",
       "    .dataframe tbody tr th:only-of-type {\n",
       "        vertical-align: middle;\n",
       "    }\n",
       "\n",
       "    .dataframe tbody tr th {\n",
       "        vertical-align: top;\n",
       "    }\n",
       "\n",
       "    .dataframe thead th {\n",
       "        text-align: right;\n",
       "    }\n",
       "</style>\n",
       "<table border=\"1\" class=\"dataframe\">\n",
       "  <thead>\n",
       "    <tr style=\"text-align: right;\">\n",
       "      <th></th>\n",
       "      <th>MSE_train</th>\n",
       "      <th>MAE_train</th>\n",
       "      <th>R2_train</th>\n",
       "      <th>MSE_cv</th>\n",
       "      <th>MSE_std_cv</th>\n",
       "      <th>MAE_cv</th>\n",
       "      <th>MAE_std_cv</th>\n",
       "      <th>R2_cv</th>\n",
       "      <th>R2_std_cv</th>\n",
       "      <th>MSE_test</th>\n",
       "      <th>MAE_test</th>\n",
       "      <th>R2_test</th>\n",
       "    </tr>\n",
       "  </thead>\n",
       "  <tbody>\n",
       "    <tr>\n",
       "      <th>OLS</th>\n",
       "      <td>2.147088</td>\n",
       "      <td>1.123948</td>\n",
       "      <td>0.725679</td>\n",
       "      <td>2.150765</td>\n",
       "      <td>-0.041126</td>\n",
       "      <td>1.124867</td>\n",
       "      <td>-0.008582</td>\n",
       "      <td>-0.725168</td>\n",
       "      <td>-0.005616</td>\n",
       "      <td>2.138699</td>\n",
       "      <td>1.118422</td>\n",
       "      <td>0.724861</td>\n",
       "    </tr>\n",
       "  </tbody>\n",
       "</table>\n",
       "</div>"
      ],
      "text/plain": [
       "     MSE_train  MAE_train  R2_train    MSE_cv  MSE_std_cv    MAE_cv  \\\n",
       "OLS   2.147088   1.123948  0.725679  2.150765   -0.041126  1.124867   \n",
       "\n",
       "     MAE_std_cv     R2_cv  R2_std_cv  MSE_test  MAE_test   R2_test  \n",
       "OLS   -0.008582 -0.725168  -0.005616  2.138699  1.118422  0.724861  "
      ]
     },
     "execution_count": 29,
     "metadata": {},
     "output_type": "execute_result"
    }
   ],
   "source": [
    "indexNamesArr = df_results.index.values\n",
    "i = indexNamesArr[-1]\n",
    "df_results.rename(index={i:'OLS'}, inplace=True)\n",
    "df_results.head()"
   ]
  },
  {
   "cell_type": "code",
   "execution_count": 30,
   "metadata": {},
   "outputs": [],
   "source": [
    "X_train_constant = sm.add_constant(X_train)\n",
    "X_test_constant = sm.add_constant(X_test)\n",
    "X_train_std_constant=sm.add_constant(X_train_std)"
   ]
  },
  {
   "cell_type": "code",
   "execution_count": 31,
   "metadata": {
    "scrolled": false
   },
   "outputs": [
    {
     "data": {
      "text/html": [
       "<table class=\"simpletable\">\n",
       "<caption>OLS Regression Results</caption>\n",
       "<tr>\n",
       "  <th>Dep. Variable:</th>            <td>y</td>        <th>  R-squared:         </th> <td>   0.726</td> \n",
       "</tr>\n",
       "<tr>\n",
       "  <th>Model:</th>                   <td>OLS</td>       <th>  Adj. R-squared:    </th> <td>   0.725</td> \n",
       "</tr>\n",
       "<tr>\n",
       "  <th>Method:</th>             <td>Least Squares</td>  <th>  F-statistic:       </th> <td>   3410.</td> \n",
       "</tr>\n",
       "<tr>\n",
       "  <th>Date:</th>             <td>Wed, 21 Oct 2020</td> <th>  Prob (F-statistic):</th>  <td>  0.00</td>  \n",
       "</tr>\n",
       "<tr>\n",
       "  <th>Time:</th>                 <td>14:51:36</td>     <th>  Log-Likelihood:    </th> <td> -39503.</td> \n",
       "</tr>\n",
       "<tr>\n",
       "  <th>No. Observations:</th>      <td> 21934</td>      <th>  AIC:               </th> <td>7.904e+04</td>\n",
       "</tr>\n",
       "<tr>\n",
       "  <th>Df Residuals:</th>          <td> 21916</td>      <th>  BIC:               </th> <td>7.919e+04</td>\n",
       "</tr>\n",
       "<tr>\n",
       "  <th>Df Model:</th>              <td>    17</td>      <th>                     </th>     <td> </td>    \n",
       "</tr>\n",
       "<tr>\n",
       "  <th>Covariance Type:</th>      <td>nonrobust</td>    <th>                     </th>     <td> </td>    \n",
       "</tr>\n",
       "</table>\n",
       "<table class=\"simpletable\">\n",
       "<tr>\n",
       "    <td></td>       <th>coef</th>     <th>std err</th>      <th>t</th>      <th>P>|t|</th>  <th>[0.025</th>    <th>0.975]</th>  \n",
       "</tr>\n",
       "<tr>\n",
       "  <th>const</th> <td>   13.7551</td> <td>    0.010</td> <td> 1389.698</td> <td> 0.000</td> <td>   13.736</td> <td>   13.775</td>\n",
       "</tr>\n",
       "<tr>\n",
       "  <th>x1</th>    <td>    0.1082</td> <td>    0.010</td> <td>   10.776</td> <td> 0.000</td> <td>    0.089</td> <td>    0.128</td>\n",
       "</tr>\n",
       "<tr>\n",
       "  <th>x2</th>    <td>   -0.1312</td> <td>    0.010</td> <td>  -12.961</td> <td> 0.000</td> <td>   -0.151</td> <td>   -0.111</td>\n",
       "</tr>\n",
       "<tr>\n",
       "  <th>x3</th>    <td>    0.0394</td> <td>    0.010</td> <td>    3.968</td> <td> 0.000</td> <td>    0.020</td> <td>    0.059</td>\n",
       "</tr>\n",
       "<tr>\n",
       "  <th>x4</th>    <td>    0.0342</td> <td>    0.012</td> <td>    2.805</td> <td> 0.005</td> <td>    0.010</td> <td>    0.058</td>\n",
       "</tr>\n",
       "<tr>\n",
       "  <th>x5</th>    <td>    0.0412</td> <td>    0.013</td> <td>    3.166</td> <td> 0.002</td> <td>    0.016</td> <td>    0.067</td>\n",
       "</tr>\n",
       "<tr>\n",
       "  <th>x6</th>    <td>   -0.0372</td> <td>    0.010</td> <td>   -3.753</td> <td> 0.000</td> <td>   -0.057</td> <td>   -0.018</td>\n",
       "</tr>\n",
       "<tr>\n",
       "  <th>x7</th>    <td>    0.0083</td> <td>    0.025</td> <td>    0.329</td> <td> 0.742</td> <td>   -0.041</td> <td>    0.057</td>\n",
       "</tr>\n",
       "<tr>\n",
       "  <th>x8</th>    <td>    0.0300</td> <td>    0.013</td> <td>    2.319</td> <td> 0.020</td> <td>    0.005</td> <td>    0.055</td>\n",
       "</tr>\n",
       "<tr>\n",
       "  <th>x9</th>    <td>    0.0348</td> <td>    0.010</td> <td>    3.427</td> <td> 0.001</td> <td>    0.015</td> <td>    0.055</td>\n",
       "</tr>\n",
       "<tr>\n",
       "  <th>x10</th>   <td>    0.0127</td> <td>    0.024</td> <td>    0.522</td> <td> 0.602</td> <td>   -0.035</td> <td>    0.061</td>\n",
       "</tr>\n",
       "<tr>\n",
       "  <th>x11</th>   <td>    0.0591</td> <td>    0.010</td> <td>    5.726</td> <td> 0.000</td> <td>    0.039</td> <td>    0.079</td>\n",
       "</tr>\n",
       "<tr>\n",
       "  <th>x12</th>   <td>   -0.0472</td> <td>    0.010</td> <td>   -4.729</td> <td> 0.000</td> <td>   -0.067</td> <td>   -0.028</td>\n",
       "</tr>\n",
       "<tr>\n",
       "  <th>x13</th>   <td>    0.0358</td> <td>    0.010</td> <td>    3.530</td> <td> 0.000</td> <td>    0.016</td> <td>    0.056</td>\n",
       "</tr>\n",
       "<tr>\n",
       "  <th>x14</th>   <td>    0.0281</td> <td>    0.010</td> <td>    2.812</td> <td> 0.005</td> <td>    0.009</td> <td>    0.048</td>\n",
       "</tr>\n",
       "<tr>\n",
       "  <th>x15</th>   <td>    0.1544</td> <td>    0.010</td> <td>   14.742</td> <td> 0.000</td> <td>    0.134</td> <td>    0.175</td>\n",
       "</tr>\n",
       "<tr>\n",
       "  <th>x16</th>   <td>   -0.1211</td> <td>    0.010</td> <td>  -11.607</td> <td> 0.000</td> <td>   -0.142</td> <td>   -0.101</td>\n",
       "</tr>\n",
       "<tr>\n",
       "  <th>x17</th>   <td>    2.2927</td> <td>    0.011</td> <td>  213.603</td> <td> 0.000</td> <td>    2.272</td> <td>    2.314</td>\n",
       "</tr>\n",
       "</table>\n",
       "<table class=\"simpletable\">\n",
       "<tr>\n",
       "  <th>Omnibus:</th>       <td>549.732</td> <th>  Durbin-Watson:     </th> <td>   1.996</td> \n",
       "</tr>\n",
       "<tr>\n",
       "  <th>Prob(Omnibus):</th> <td> 0.000</td>  <th>  Jarque-Bera (JB):  </th> <td>1193.316</td> \n",
       "</tr>\n",
       "<tr>\n",
       "  <th>Skew:</th>          <td>-0.124</td>  <th>  Prob(JB):          </th> <td>7.49e-260</td>\n",
       "</tr>\n",
       "<tr>\n",
       "  <th>Kurtosis:</th>      <td> 4.115</td>  <th>  Cond. No.          </th> <td>    6.13</td> \n",
       "</tr>\n",
       "</table><br/><br/>Warnings:<br/>[1] Standard Errors assume that the covariance matrix of the errors is correctly specified."
      ],
      "text/plain": [
       "<class 'statsmodels.iolib.summary.Summary'>\n",
       "\"\"\"\n",
       "                            OLS Regression Results                            \n",
       "==============================================================================\n",
       "Dep. Variable:                      y   R-squared:                       0.726\n",
       "Model:                            OLS   Adj. R-squared:                  0.725\n",
       "Method:                 Least Squares   F-statistic:                     3410.\n",
       "Date:                Wed, 21 Oct 2020   Prob (F-statistic):               0.00\n",
       "Time:                        14:51:36   Log-Likelihood:                -39503.\n",
       "No. Observations:               21934   AIC:                         7.904e+04\n",
       "Df Residuals:                   21916   BIC:                         7.919e+04\n",
       "Df Model:                          17                                         \n",
       "Covariance Type:            nonrobust                                         \n",
       "==============================================================================\n",
       "                 coef    std err          t      P>|t|      [0.025      0.975]\n",
       "------------------------------------------------------------------------------\n",
       "const         13.7551      0.010   1389.698      0.000      13.736      13.775\n",
       "x1             0.1082      0.010     10.776      0.000       0.089       0.128\n",
       "x2            -0.1312      0.010    -12.961      0.000      -0.151      -0.111\n",
       "x3             0.0394      0.010      3.968      0.000       0.020       0.059\n",
       "x4             0.0342      0.012      2.805      0.005       0.010       0.058\n",
       "x5             0.0412      0.013      3.166      0.002       0.016       0.067\n",
       "x6            -0.0372      0.010     -3.753      0.000      -0.057      -0.018\n",
       "x7             0.0083      0.025      0.329      0.742      -0.041       0.057\n",
       "x8             0.0300      0.013      2.319      0.020       0.005       0.055\n",
       "x9             0.0348      0.010      3.427      0.001       0.015       0.055\n",
       "x10            0.0127      0.024      0.522      0.602      -0.035       0.061\n",
       "x11            0.0591      0.010      5.726      0.000       0.039       0.079\n",
       "x12           -0.0472      0.010     -4.729      0.000      -0.067      -0.028\n",
       "x13            0.0358      0.010      3.530      0.000       0.016       0.056\n",
       "x14            0.0281      0.010      2.812      0.005       0.009       0.048\n",
       "x15            0.1544      0.010     14.742      0.000       0.134       0.175\n",
       "x16           -0.1211      0.010    -11.607      0.000      -0.142      -0.101\n",
       "x17            2.2927      0.011    213.603      0.000       2.272       2.314\n",
       "==============================================================================\n",
       "Omnibus:                      549.732   Durbin-Watson:                   1.996\n",
       "Prob(Omnibus):                  0.000   Jarque-Bera (JB):             1193.316\n",
       "Skew:                          -0.124   Prob(JB):                    7.49e-260\n",
       "Kurtosis:                       4.115   Cond. No.                         6.13\n",
       "==============================================================================\n",
       "\n",
       "Warnings:\n",
       "[1] Standard Errors assume that the covariance matrix of the errors is correctly specified.\n",
       "\"\"\""
      ]
     },
     "execution_count": 31,
     "metadata": {},
     "output_type": "execute_result"
    }
   ],
   "source": [
    "OLS_model = sm.OLS(Y_train, X_train_std_constant)\n",
    "lr = OLS_model.fit()\n",
    "lr.summary()"
   ]
  },
  {
   "cell_type": "markdown",
   "metadata": {},
   "source": [
    "### RF - Random Forest"
   ]
  },
  {
   "cell_type": "raw",
   "metadata": {},
   "source": [
    "Grid search best parameters:\n",
    "n_estimators, min_samples_leaf (minimum number of samples required to be at a leaf), min_samples_split and bootstrap\n",
    "Best parameters CV:\n",
    "{'rf__n_estimators': 420,\n",
    " 'rf__min_samples_split': 0.009000000000000001,\n",
    " 'rf__min_samples_leaf': 0.001,\n",
    " 'rf__bootstrap': True}"
   ]
  },
  {
   "cell_type": "code",
   "execution_count": 32,
   "metadata": {},
   "outputs": [],
   "source": [
    "rf_rgr = RandomForestRegressor(n_estimators = 420, criterion=\"mse\", min_samples_leaf=0.001,\n",
    "                               min_samples_split=0.009 , bootstrap=True, random_state=seed)"
   ]
  },
  {
   "cell_type": "code",
   "execution_count": 33,
   "metadata": {},
   "outputs": [],
   "source": [
    "# Define sklearn pipeline\n",
    "estimators = []\n",
    "estimators.append(('standardize', StandardScaler()))\n",
    "estimators.append(('RF', rf_rgr))\n",
    "pipeline = Pipeline(estimators)"
   ]
  },
  {
   "cell_type": "code",
   "execution_count": 34,
   "metadata": {},
   "outputs": [],
   "source": [
    "scores_MSE = cross_val_score(pipeline, X_train, Y_train, cv=kf,\n",
    "                         scoring='neg_mean_squared_error')\n",
    "scores_MAE = cross_val_score(pipeline, X_train, Y_train, cv=kf,\n",
    "                         scoring='neg_mean_absolute_error')\n",
    "scores_R2 = cross_val_score(pipeline, X_train, Y_train, cv=kf,\n",
    "                         scoring='r2')"
   ]
  },
  {
   "cell_type": "code",
   "execution_count": 35,
   "metadata": {},
   "outputs": [
    {
     "name": "stdout",
     "output_type": "stream",
     "text": [
      "MSE: 2.10 (+/- 0.09)\n",
      "MAE: 1.10 (+/- 0.02)\n",
      "R2: -0.73 (+/- 0.01)\n"
     ]
    }
   ],
   "source": [
    "print(\"MSE: %0.2f (+/- %0.2f)\" % (-scores_MSE.mean(), scores_MSE.std() * 2))\n",
    "print(\"MAE: %0.2f (+/- %0.2f)\" % (-scores_MAE.mean(), scores_MAE.std() * 2))\n",
    "print(\"R2: %0.2f (+/- %0.2f)\" % (-scores_R2.mean(), scores_R2.std() * 2))"
   ]
  },
  {
   "cell_type": "code",
   "execution_count": 36,
   "metadata": {},
   "outputs": [],
   "source": [
    "df_scorescv_rf_MSE=pd.DataFrame(scores_MSE)\n",
    "df_scorescv_rf_MAE=pd.DataFrame(scores_MAE)\n",
    "df_scorescv_rf_R2=pd.DataFrame(scores_R2)"
   ]
  },
  {
   "cell_type": "code",
   "execution_count": 37,
   "metadata": {},
   "outputs": [],
   "source": [
    "with pd.ExcelWriter('FINALRESULTS_CV_1110.xlsx',engine='openpyxl', mode='a') as writer:\n",
    "    df_scorescv_rf_MSE.to_excel(writer, sheet_name='RF_MSE')\n",
    "\n",
    "with pd.ExcelWriter('FINALRESULTS_CV_1110.xlsx',engine='openpyxl', mode='a') as writer:\n",
    "    df_scorescv_rf_MAE.to_excel(writer, sheet_name='RF_MAE')\n",
    "    \n",
    "\n",
    "with pd.ExcelWriter('FINALRESULTS_CV_1110.xlsx',engine='openpyxl', mode='a') as writer:\n",
    "    df_scorescv_rf_R2.to_excel(writer, sheet_name='RF_R2')"
   ]
  },
  {
   "cell_type": "code",
   "execution_count": 38,
   "metadata": {},
   "outputs": [],
   "source": [
    "mse_rf_rgr_cv = -scores_MSE.mean()\n",
    "mse_std_rf_rgr_cv = -scores_MSE.std()\n",
    "mae_rf_rgr_cv = -scores_MAE.mean()\n",
    "mae_std_rf_rgr_cv = -scores_MAE.std()\n",
    "r2_rf_rgr_cv = -scores_R2.mean()\n",
    "r2_std_rf_rgr_cv = -scores_R2.std()"
   ]
  },
  {
   "cell_type": "code",
   "execution_count": 39,
   "metadata": {},
   "outputs": [
    {
     "data": {
      "text/plain": [
       "RandomForestRegressor(bootstrap=True, ccp_alpha=0.0, criterion='mse',\n",
       "                      max_depth=None, max_features='auto', max_leaf_nodes=None,\n",
       "                      max_samples=None, min_impurity_decrease=0.0,\n",
       "                      min_impurity_split=None, min_samples_leaf=0.001,\n",
       "                      min_samples_split=0.009, min_weight_fraction_leaf=0.0,\n",
       "                      n_estimators=420, n_jobs=None, oob_score=False,\n",
       "                      random_state=42, verbose=0, warm_start=False)"
      ]
     },
     "execution_count": 39,
     "metadata": {},
     "output_type": "execute_result"
    }
   ],
   "source": [
    "rf_rgr.fit(X_train_std, Y_train)"
   ]
  },
  {
   "cell_type": "code",
   "execution_count": 40,
   "metadata": {},
   "outputs": [],
   "source": [
    "df_Feat_import = pd.DataFrame(rf_rgr.feature_importances_)"
   ]
  },
  {
   "cell_type": "code",
   "execution_count": 41,
   "metadata": {},
   "outputs": [
    {
     "data": {
      "image/png": "[encoded data removed]",
      "text/plain": [
       "<Figure size 864x432 with 1 Axes>"
      ]
     },
     "metadata": {
      "needs_background": "light"
     },
     "output_type": "display_data"
    }
   ],
   "source": [
    "pd.Series(rf_rgr.feature_importances_, \n",
    "         index=X_train.columns).sort_values(ascending=False).plot(kind='bar', figsize=(12,6));"
   ]
  },
  {
   "cell_type": "code",
   "execution_count": 42,
   "metadata": {},
   "outputs": [],
   "source": [
    "df_Feat_import.to_excel('FEATURES_RF_1110.xlsx', sheet_name='FEAT_IMP')"
   ]
  },
  {
   "cell_type": "code",
   "execution_count": 43,
   "metadata": {},
   "outputs": [],
   "source": [
    "Y_train_pred=rf_rgr.predict(X_train_std)\n",
    "Y_test_pred=rf_rgr.predict(X_test_std)"
   ]
  },
  {
   "cell_type": "code",
   "execution_count": 44,
   "metadata": {},
   "outputs": [],
   "source": [
    "mse_rf_rgr_train = metrics.mean_squared_error(Y_train, Y_train_pred) \n",
    "mse_rf_rgr_test = metrics.mean_squared_error(Y_test, Y_test_pred)\n",
    "\n",
    "mae_rf_rgr_train = metrics.mean_absolute_error(Y_train, Y_train_pred) \n",
    "mae_rf_rgr_test = metrics.mean_absolute_error(Y_test, Y_test_pred)\n",
    "\n",
    "r2_rf_rgr_train = metrics.r2_score(Y_train, Y_train_pred)\n",
    "r2_rf_rgr_test = metrics.r2_score(Y_test, Y_test_pred)"
   ]
  },
  {
   "cell_type": "code",
   "execution_count": 45,
   "metadata": {},
   "outputs": [],
   "source": [
    "new_results_dic = {'MSE_train': mse_rf_rgr_train, 'MAE_train': mae_rf_rgr_train,'R2_train': r2_rf_rgr_train,\n",
    "                   'MSE_cv': mse_rf_rgr_cv, 'MSE_std_cv': mse_std_rf_rgr_cv, 'MAE_cv': mae_rf_rgr_cv,\n",
    "                   'MAE_std_cv': mae_std_rf_rgr_cv, 'R2_cv': r2_rf_rgr_cv, 'R2_std_cv': r2_std_rf_rgr_cv,\n",
    "                   'MSE_test': mse_rf_rgr_test,\n",
    "                   'MAE_test': mae_rf_rgr_test,\n",
    "                   'R2_test': r2_rf_rgr_test}\n",
    "df_results.loc[len(df_results)] = new_results_dic"
   ]
  },
  {
   "cell_type": "code",
   "execution_count": 46,
   "metadata": {},
   "outputs": [
    {
     "data": {
      "text/html": [
       "<div>\n",
       "<style scoped>\n",
       "    .dataframe tbody tr th:only-of-type {\n",
       "        vertical-align: middle;\n",
       "    }\n",
       "\n",
       "    .dataframe tbody tr th {\n",
       "        vertical-align: top;\n",
       "    }\n",
       "\n",
       "    .dataframe thead th {\n",
       "        text-align: right;\n",
       "    }\n",
       "</style>\n",
       "<table border=\"1\" class=\"dataframe\">\n",
       "  <thead>\n",
       "    <tr style=\"text-align: right;\">\n",
       "      <th></th>\n",
       "      <th>MSE_train</th>\n",
       "      <th>MAE_train</th>\n",
       "      <th>R2_train</th>\n",
       "      <th>MSE_cv</th>\n",
       "      <th>MSE_std_cv</th>\n",
       "      <th>MAE_cv</th>\n",
       "      <th>MAE_std_cv</th>\n",
       "      <th>R2_cv</th>\n",
       "      <th>R2_std_cv</th>\n",
       "      <th>MSE_test</th>\n",
       "      <th>MAE_test</th>\n",
       "      <th>R2_test</th>\n",
       "    </tr>\n",
       "  </thead>\n",
       "  <tbody>\n",
       "    <tr>\n",
       "      <th>OLS</th>\n",
       "      <td>2.147088</td>\n",
       "      <td>1.123948</td>\n",
       "      <td>0.725679</td>\n",
       "      <td>2.150765</td>\n",
       "      <td>-0.041126</td>\n",
       "      <td>1.124867</td>\n",
       "      <td>-0.008582</td>\n",
       "      <td>-0.725168</td>\n",
       "      <td>-0.005616</td>\n",
       "      <td>2.138699</td>\n",
       "      <td>1.118422</td>\n",
       "      <td>0.724861</td>\n",
       "    </tr>\n",
       "    <tr>\n",
       "      <th>RF</th>\n",
       "      <td>1.991774</td>\n",
       "      <td>1.073388</td>\n",
       "      <td>0.745523</td>\n",
       "      <td>2.103856</td>\n",
       "      <td>-0.045015</td>\n",
       "      <td>1.103636</td>\n",
       "      <td>-0.009203</td>\n",
       "      <td>-0.731160</td>\n",
       "      <td>-0.006129</td>\n",
       "      <td>2.094210</td>\n",
       "      <td>1.094786</td>\n",
       "      <td>0.730585</td>\n",
       "    </tr>\n",
       "  </tbody>\n",
       "</table>\n",
       "</div>"
      ],
      "text/plain": [
       "     MSE_train  MAE_train  R2_train    MSE_cv  MSE_std_cv    MAE_cv  \\\n",
       "OLS   2.147088   1.123948  0.725679  2.150765   -0.041126  1.124867   \n",
       "RF    1.991774   1.073388  0.745523  2.103856   -0.045015  1.103636   \n",
       "\n",
       "     MAE_std_cv     R2_cv  R2_std_cv  MSE_test  MAE_test   R2_test  \n",
       "OLS   -0.008582 -0.725168  -0.005616  2.138699  1.118422  0.724861  \n",
       "RF    -0.009203 -0.731160  -0.006129  2.094210  1.094786  0.730585  "
      ]
     },
     "execution_count": 46,
     "metadata": {},
     "output_type": "execute_result"
    }
   ],
   "source": [
    "indexNamesArr = df_results.index.values\n",
    "i = indexNamesArr[-1]\n",
    "df_results.rename(index={i:'RF'}, inplace=True)\n",
    "df_results.head()"
   ]
  },
  {
   "cell_type": "markdown",
   "metadata": {},
   "source": [
    "### SVR - Support Vector Regression"
   ]
  },
  {
   "cell_type": "raw",
   "metadata": {},
   "source": [
    "Grid search best parameters:\n",
    "C_range (Penalty parameter C for the error term when it stays outside the insensitive chanel)\n",
    "gamma_range (The gamma parameter can be seen as the inverse of the radius of influence of samples)\n",
    "CV best parameters:\n",
    "{'svr__base_estimator__gamma': 0.004094915062380427,\n",
    " 'svr__base_estimator__C': 9.540954763499943}"
   ]
  },
  {
   "cell_type": "code",
   "execution_count": 47,
   "metadata": {},
   "outputs": [],
   "source": [
    "svm_rgr= SVR(C=9.541, cache_size=1000, coef0=0.0, degree=3, epsilon=0.2, gamma=0.004,\n",
    "    kernel='rbf', max_iter=-1, shrinking=True, tol=0.001, verbose=True)"
   ]
  },
  {
   "cell_type": "code",
   "execution_count": 48,
   "metadata": {},
   "outputs": [],
   "source": [
    "# Define sklearn pipeline\n",
    "estimators = []\n",
    "estimators.append(('standardize', StandardScaler()))\n",
    "estimators.append(('SVR', svm_rgr))\n",
    "pipeline = Pipeline(estimators)"
   ]
  },
  {
   "cell_type": "code",
   "execution_count": 49,
   "metadata": {},
   "outputs": [
    {
     "name": "stdout",
     "output_type": "stream",
     "text": [
      "[LibSVM][LibSVM][LibSVM][LibSVM][LibSVM][LibSVM][LibSVM][LibSVM][LibSVM][LibSVM][LibSVM][LibSVM]"
     ]
    }
   ],
   "source": [
    "scores_MSE = cross_val_score(pipeline, X_train, Y_train, cv=kf,\n",
    "                         scoring='neg_mean_squared_error')\n",
    "scores_MAE = cross_val_score(pipeline, X_train, Y_train, cv=kf,\n",
    "                         scoring='neg_mean_absolute_error')\n",
    "scores_R2 = cross_val_score(pipeline, X_train, Y_train, cv=kf,\n",
    "                         scoring='r2')"
   ]
  },
  {
   "cell_type": "code",
   "execution_count": 50,
   "metadata": {},
   "outputs": [
    {
     "name": "stdout",
     "output_type": "stream",
     "text": [
      "MSE: 2.12 (+/- 0.09)\n",
      "MAE: 1.11 (+/- 0.02)\n",
      "R2: -0.73 (+/- 0.01)\n"
     ]
    }
   ],
   "source": [
    "print(\"MSE: %0.2f (+/- %0.2f)\" % (-scores_MSE.mean(), scores_MSE.std() * 2))\n",
    "print(\"MAE: %0.2f (+/- %0.2f)\" % (-scores_MAE.mean(), scores_MAE.std() * 2))\n",
    "print(\"R2: %0.2f (+/- %0.2f)\" % (-scores_R2.mean(), scores_R2.std() * 2))"
   ]
  },
  {
   "cell_type": "code",
   "execution_count": 51,
   "metadata": {},
   "outputs": [],
   "source": [
    "df_scorescv_svr_MSE=pd.DataFrame(scores_MSE)\n",
    "df_scorescv_svr_MAE=pd.DataFrame(scores_MAE)\n",
    "df_scorescv_svr_R2=pd.DataFrame(scores_R2)"
   ]
  },
  {
   "cell_type": "code",
   "execution_count": 52,
   "metadata": {},
   "outputs": [],
   "source": [
    "with pd.ExcelWriter('FINALRESULTS_CV_1110.xlsx',engine='openpyxl', mode='a') as writer:\n",
    "    df_scorescv_svr_MSE.to_excel(writer, sheet_name='SVR_MSE')\n",
    "\n",
    "with pd.ExcelWriter('FINALRESULTS_CV_1110.xlsx',engine='openpyxl', mode='a') as writer:\n",
    "    df_scorescv_svr_MAE.to_excel(writer, sheet_name='SVR_MAE')\n",
    "    \n",
    "with pd.ExcelWriter('FINALRESULTS_CV_1110.xlsx',engine='openpyxl', mode='a') as writer:\n",
    "    df_scorescv_svr_R2.to_excel(writer, sheet_name='SVR_R2')"
   ]
  },
  {
   "cell_type": "code",
   "execution_count": 53,
   "metadata": {},
   "outputs": [],
   "source": [
    "mse_svr_rgr_cv = -scores_MSE.mean()\n",
    "mse_std_svr_rgr_cv = -scores_MSE.std()\n",
    "mae_svr_rgr_cv = -scores_MAE.mean()\n",
    "mae_std_svr_rgr_cv = -scores_MAE.std()\n",
    "r2_svr_rgr_cv = -scores_R2.mean()\n",
    "r2_std_svr_rgr_cv = -scores_R2.std()"
   ]
  },
  {
   "cell_type": "code",
   "execution_count": 54,
   "metadata": {},
   "outputs": [
    {
     "name": "stdout",
     "output_type": "stream",
     "text": [
      "[LibSVM]"
     ]
    },
    {
     "data": {
      "text/plain": [
       "SVR(C=9.541, cache_size=1000, coef0=0.0, degree=3, epsilon=0.2, gamma=0.004,\n",
       "    kernel='rbf', max_iter=-1, shrinking=True, tol=0.001, verbose=True)"
      ]
     },
     "execution_count": 54,
     "metadata": {},
     "output_type": "execute_result"
    }
   ],
   "source": [
    "svm_rgr.fit(X_train_std, Y_train)"
   ]
  },
  {
   "cell_type": "code",
   "execution_count": 55,
   "metadata": {},
   "outputs": [],
   "source": [
    "Y_train_pred=svm_rgr.predict(X_train_std)\n",
    "Y_test_pred=svm_rgr.predict(X_test_std)"
   ]
  },
  {
   "cell_type": "code",
   "execution_count": 56,
   "metadata": {},
   "outputs": [],
   "source": [
    "mse_svr_rgr_train = metrics.mean_squared_error(Y_train, Y_train_pred) \n",
    "mse_svr_rgr_test = metrics.mean_squared_error(Y_test, Y_test_pred)\n",
    "\n",
    "mae_svr_rgr_train = metrics.mean_absolute_error(Y_train, Y_train_pred) \n",
    "mae_svr_rgr_test = metrics.mean_absolute_error(Y_test, Y_test_pred)\n",
    "\n",
    "r2_svr_rgr_train = metrics.r2_score(Y_train, Y_train_pred)\n",
    "r2_svr_rgr_test = metrics.r2_score(Y_test, Y_test_pred)"
   ]
  },
  {
   "cell_type": "code",
   "execution_count": 57,
   "metadata": {},
   "outputs": [],
   "source": [
    "new_results_dic = {'MSE_train': mse_svr_rgr_train, 'MAE_train': mae_svr_rgr_train,'R2_train': r2_svr_rgr_train,\n",
    "                   'MSE_cv': mse_svr_rgr_cv, 'MSE_std_cv': mse_std_svr_rgr_cv, 'MAE_cv': mae_svr_rgr_cv,\n",
    "                   'MAE_std_cv': mae_std_svr_rgr_cv, 'R2_cv': r2_svr_rgr_cv, 'R2_std_cv': r2_std_svr_rgr_cv,\n",
    "                   'MSE_test': mse_svr_rgr_test,\n",
    "                   'MAE_test': mae_svr_rgr_test,\n",
    "                   'R2_test': r2_svr_rgr_test}\n",
    "df_results.loc[len(df_results)] = new_results_dic"
   ]
  },
  {
   "cell_type": "code",
   "execution_count": 58,
   "metadata": {},
   "outputs": [
    {
     "data": {
      "text/html": [
       "<div>\n",
       "<style scoped>\n",
       "    .dataframe tbody tr th:only-of-type {\n",
       "        vertical-align: middle;\n",
       "    }\n",
       "\n",
       "    .dataframe tbody tr th {\n",
       "        vertical-align: top;\n",
       "    }\n",
       "\n",
       "    .dataframe thead th {\n",
       "        text-align: right;\n",
       "    }\n",
       "</style>\n",
       "<table border=\"1\" class=\"dataframe\">\n",
       "  <thead>\n",
       "    <tr style=\"text-align: right;\">\n",
       "      <th></th>\n",
       "      <th>MSE_train</th>\n",
       "      <th>MAE_train</th>\n",
       "      <th>R2_train</th>\n",
       "      <th>MSE_cv</th>\n",
       "      <th>MSE_std_cv</th>\n",
       "      <th>MAE_cv</th>\n",
       "      <th>MAE_std_cv</th>\n",
       "      <th>R2_cv</th>\n",
       "      <th>R2_std_cv</th>\n",
       "      <th>MSE_test</th>\n",
       "      <th>MAE_test</th>\n",
       "      <th>R2_test</th>\n",
       "    </tr>\n",
       "  </thead>\n",
       "  <tbody>\n",
       "    <tr>\n",
       "      <th>OLS</th>\n",
       "      <td>2.147088</td>\n",
       "      <td>1.123948</td>\n",
       "      <td>0.725679</td>\n",
       "      <td>2.150765</td>\n",
       "      <td>-0.041126</td>\n",
       "      <td>1.124867</td>\n",
       "      <td>-0.008582</td>\n",
       "      <td>-0.725168</td>\n",
       "      <td>-0.005616</td>\n",
       "      <td>2.138699</td>\n",
       "      <td>1.118422</td>\n",
       "      <td>0.724861</td>\n",
       "    </tr>\n",
       "    <tr>\n",
       "      <th>RF</th>\n",
       "      <td>1.991774</td>\n",
       "      <td>1.073388</td>\n",
       "      <td>0.745523</td>\n",
       "      <td>2.103856</td>\n",
       "      <td>-0.045015</td>\n",
       "      <td>1.103636</td>\n",
       "      <td>-0.009203</td>\n",
       "      <td>-0.731160</td>\n",
       "      <td>-0.006129</td>\n",
       "      <td>2.094210</td>\n",
       "      <td>1.094786</td>\n",
       "      <td>0.730585</td>\n",
       "    </tr>\n",
       "    <tr>\n",
       "      <th>SVR</th>\n",
       "      <td>2.086887</td>\n",
       "      <td>1.093895</td>\n",
       "      <td>0.733371</td>\n",
       "      <td>2.118463</td>\n",
       "      <td>-0.044672</td>\n",
       "      <td>1.106347</td>\n",
       "      <td>-0.010439</td>\n",
       "      <td>-0.729292</td>\n",
       "      <td>-0.006195</td>\n",
       "      <td>2.109229</td>\n",
       "      <td>1.098147</td>\n",
       "      <td>0.728653</td>\n",
       "    </tr>\n",
       "  </tbody>\n",
       "</table>\n",
       "</div>"
      ],
      "text/plain": [
       "     MSE_train  MAE_train  R2_train    MSE_cv  MSE_std_cv    MAE_cv  \\\n",
       "OLS   2.147088   1.123948  0.725679  2.150765   -0.041126  1.124867   \n",
       "RF    1.991774   1.073388  0.745523  2.103856   -0.045015  1.103636   \n",
       "SVR   2.086887   1.093895  0.733371  2.118463   -0.044672  1.106347   \n",
       "\n",
       "     MAE_std_cv     R2_cv  R2_std_cv  MSE_test  MAE_test   R2_test  \n",
       "OLS   -0.008582 -0.725168  -0.005616  2.138699  1.118422  0.724861  \n",
       "RF    -0.009203 -0.731160  -0.006129  2.094210  1.094786  0.730585  \n",
       "SVR   -0.010439 -0.729292  -0.006195  2.109229  1.098147  0.728653  "
      ]
     },
     "execution_count": 58,
     "metadata": {},
     "output_type": "execute_result"
    }
   ],
   "source": [
    "indexNamesArr = df_results.index.values\n",
    "i = indexNamesArr[-1]\n",
    "df_results.rename(index={i:'SVR'}, inplace=True)\n",
    "df_results.head()"
   ]
  },
  {
   "cell_type": "markdown",
   "metadata": {},
   "source": [
    "### K-nearest Neighbours Regression "
   ]
  },
  {
   "cell_type": "raw",
   "metadata": {},
   "source": [
    "Grid search best parameters:\n",
    "n_neighbors, weights.\n",
    "Best parameters CV:\n",
    "{'knn__weights': 'distance', 'knn__n_neighbors': 18}"
   ]
  },
  {
   "cell_type": "code",
   "execution_count": 59,
   "metadata": {},
   "outputs": [],
   "source": [
    "knn_rgr = KNeighborsRegressor(n_neighbors=18, weights='distance', algorithm='auto', leaf_size=30,\n",
    "                              p=2, metric='minkowski', metric_params=None, n_jobs=None)"
   ]
  },
  {
   "cell_type": "code",
   "execution_count": 60,
   "metadata": {},
   "outputs": [],
   "source": [
    "# Define sklearn pipeline\n",
    "estimators = []\n",
    "estimators.append(('standardize', StandardScaler()))\n",
    "estimators.append(('KNN', knn_rgr))\n",
    "pipeline = Pipeline(estimators)"
   ]
  },
  {
   "cell_type": "code",
   "execution_count": 61,
   "metadata": {},
   "outputs": [],
   "source": [
    "scores_MSE = cross_val_score(pipeline, X_train, Y_train, cv=kf,\n",
    "                         scoring='neg_mean_squared_error')\n",
    "scores_MAE = cross_val_score(pipeline, X_train, Y_train, cv=kf,\n",
    "                         scoring='neg_mean_absolute_error')\n",
    "scores_R2 = cross_val_score(pipeline, X_train, Y_train, cv=kf,\n",
    "                         scoring='r2')"
   ]
  },
  {
   "cell_type": "code",
   "execution_count": 62,
   "metadata": {},
   "outputs": [
    {
     "name": "stdout",
     "output_type": "stream",
     "text": [
      "MSE: 2.90 (+/- 0.10)\n",
      "MAE: 1.33 (+/- 0.03)\n",
      "R2: -0.63 (+/- 0.01)\n"
     ]
    }
   ],
   "source": [
    "print(\"MSE: %0.2f (+/- %0.2f)\" % (-scores_MSE.mean(), scores_MSE.std() * 2))\n",
    "print(\"MAE: %0.2f (+/- %0.2f)\" % (-scores_MAE.mean(), scores_MAE.std() * 2))\n",
    "print(\"R2: %0.2f (+/- %0.2f)\" % (-scores_R2.mean(), scores_R2.std() * 2))"
   ]
  },
  {
   "cell_type": "code",
   "execution_count": 63,
   "metadata": {},
   "outputs": [],
   "source": [
    "df_scorescv_knn_MSE=pd.DataFrame(scores_MSE)\n",
    "df_scorescv_knn_MAE=pd.DataFrame(scores_MAE)\n",
    "df_scorescv_knn_R2=pd.DataFrame(scores_R2)"
   ]
  },
  {
   "cell_type": "code",
   "execution_count": 64,
   "metadata": {},
   "outputs": [],
   "source": [
    "with pd.ExcelWriter('FINALRESULTS_CV_1110.xlsx',engine='openpyxl', mode='a') as writer:\n",
    "    df_scorescv_knn_MSE.to_excel(writer, sheet_name='KNN_MSE')\n",
    "\n",
    "with pd.ExcelWriter('FINALRESULTS_CV_1110.xlsx',engine='openpyxl', mode='a') as writer:\n",
    "    df_scorescv_knn_MAE.to_excel(writer, sheet_name='KNN_MAE')\n",
    "    \n",
    "with pd.ExcelWriter('FINALRESULTS_CV_1110.xlsx',engine='openpyxl', mode='a') as writer:\n",
    "    df_scorescv_knn_R2.to_excel(writer, sheet_name='KNN_R2')"
   ]
  },
  {
   "cell_type": "code",
   "execution_count": 65,
   "metadata": {},
   "outputs": [],
   "source": [
    "mse_knn_rgr_cv = -scores_MSE.mean()\n",
    "mse_std_knn_rgr_cv = -scores_MSE.std()\n",
    "mae_knn_rgr_cv = -scores_MAE.mean()\n",
    "mae_std_knn_rgr_cv = -scores_MAE.std()\n",
    "r2_knn_rgr_cv = -scores_R2.mean()\n",
    "r2_std_knn_rgr_cv = -scores_R2.std()"
   ]
  },
  {
   "cell_type": "code",
   "execution_count": 66,
   "metadata": {},
   "outputs": [
    {
     "data": {
      "text/plain": [
       "KNeighborsRegressor(algorithm='auto', leaf_size=30, metric='minkowski',\n",
       "                    metric_params=None, n_jobs=None, n_neighbors=18, p=2,\n",
       "                    weights='distance')"
      ]
     },
     "execution_count": 66,
     "metadata": {},
     "output_type": "execute_result"
    }
   ],
   "source": [
    "knn_rgr.fit(X_train_std, Y_train)"
   ]
  },
  {
   "cell_type": "code",
   "execution_count": 67,
   "metadata": {},
   "outputs": [],
   "source": [
    "Y_train_pred=knn_rgr.predict(X_train_std)\n",
    "Y_test_pred=knn_rgr.predict(X_test_std)"
   ]
  },
  {
   "cell_type": "code",
   "execution_count": 68,
   "metadata": {},
   "outputs": [],
   "source": [
    "mse_knn_rgr_train = metrics.mean_squared_error(Y_train, Y_train_pred) \n",
    "mse_knn_rgr_test = metrics.mean_squared_error(Y_test, Y_test_pred)\n",
    "\n",
    "mae_knn_rgr_train = metrics.mean_absolute_error(Y_train, Y_train_pred) \n",
    "mae_knn_rgr_test = metrics.mean_absolute_error(Y_test, Y_test_pred)\n",
    "\n",
    "r2_knn_rgr_train = metrics.r2_score(Y_train, Y_train_pred)\n",
    "r2_knn_rgr_test = metrics.r2_score(Y_test, Y_test_pred)"
   ]
  },
  {
   "cell_type": "code",
   "execution_count": 69,
   "metadata": {},
   "outputs": [],
   "source": [
    "new_results_dic = {'MSE_train': mse_knn_rgr_train, 'MAE_train': mae_knn_rgr_train,'R2_train': r2_knn_rgr_train,\n",
    "                   'MSE_cv': mse_knn_rgr_cv, 'MSE_std_cv': mse_std_knn_rgr_cv, 'MAE_cv': mae_knn_rgr_cv,\n",
    "                   'MAE_std_cv': mae_std_knn_rgr_cv, 'R2_cv': r2_knn_rgr_cv, 'R2_std_cv': r2_std_knn_rgr_cv,\n",
    "                   'MSE_test': mse_knn_rgr_test,\n",
    "                   'MAE_test': mae_knn_rgr_test,\n",
    "                   'R2_test': r2_knn_rgr_test}\n",
    "df_results.loc[len(df_results)] = new_results_dic"
   ]
  },
  {
   "cell_type": "code",
   "execution_count": 70,
   "metadata": {},
   "outputs": [
    {
     "data": {
      "text/html": [
       "<div>\n",
       "<style scoped>\n",
       "    .dataframe tbody tr th:only-of-type {\n",
       "        vertical-align: middle;\n",
       "    }\n",
       "\n",
       "    .dataframe tbody tr th {\n",
       "        vertical-align: top;\n",
       "    }\n",
       "\n",
       "    .dataframe thead th {\n",
       "        text-align: right;\n",
       "    }\n",
       "</style>\n",
       "<table border=\"1\" class=\"dataframe\">\n",
       "  <thead>\n",
       "    <tr style=\"text-align: right;\">\n",
       "      <th></th>\n",
       "      <th>MSE_train</th>\n",
       "      <th>MAE_train</th>\n",
       "      <th>R2_train</th>\n",
       "      <th>MSE_cv</th>\n",
       "      <th>MSE_std_cv</th>\n",
       "      <th>MAE_cv</th>\n",
       "      <th>MAE_std_cv</th>\n",
       "      <th>R2_cv</th>\n",
       "      <th>R2_std_cv</th>\n",
       "      <th>MSE_test</th>\n",
       "      <th>MAE_test</th>\n",
       "      <th>R2_test</th>\n",
       "    </tr>\n",
       "  </thead>\n",
       "  <tbody>\n",
       "    <tr>\n",
       "      <th>OLS</th>\n",
       "      <td>2.147088</td>\n",
       "      <td>1.123948</td>\n",
       "      <td>0.725679</td>\n",
       "      <td>2.150765</td>\n",
       "      <td>-0.041126</td>\n",
       "      <td>1.124867</td>\n",
       "      <td>-0.008582</td>\n",
       "      <td>-0.725168</td>\n",
       "      <td>-0.005616</td>\n",
       "      <td>2.138699</td>\n",
       "      <td>1.118422</td>\n",
       "      <td>0.724861</td>\n",
       "    </tr>\n",
       "    <tr>\n",
       "      <th>RF</th>\n",
       "      <td>1.991774</td>\n",
       "      <td>1.073388</td>\n",
       "      <td>0.745523</td>\n",
       "      <td>2.103856</td>\n",
       "      <td>-0.045015</td>\n",
       "      <td>1.103636</td>\n",
       "      <td>-0.009203</td>\n",
       "      <td>-0.731160</td>\n",
       "      <td>-0.006129</td>\n",
       "      <td>2.094210</td>\n",
       "      <td>1.094786</td>\n",
       "      <td>0.730585</td>\n",
       "    </tr>\n",
       "    <tr>\n",
       "      <th>SVR</th>\n",
       "      <td>2.086887</td>\n",
       "      <td>1.093895</td>\n",
       "      <td>0.733371</td>\n",
       "      <td>2.118463</td>\n",
       "      <td>-0.044672</td>\n",
       "      <td>1.106347</td>\n",
       "      <td>-0.010439</td>\n",
       "      <td>-0.729292</td>\n",
       "      <td>-0.006195</td>\n",
       "      <td>2.109229</td>\n",
       "      <td>1.098147</td>\n",
       "      <td>0.728653</td>\n",
       "    </tr>\n",
       "    <tr>\n",
       "      <th>KNN</th>\n",
       "      <td>0.167801</td>\n",
       "      <td>0.127916</td>\n",
       "      <td>0.978561</td>\n",
       "      <td>2.898621</td>\n",
       "      <td>-0.050587</td>\n",
       "      <td>1.327450</td>\n",
       "      <td>-0.012543</td>\n",
       "      <td>-0.629611</td>\n",
       "      <td>-0.006595</td>\n",
       "      <td>2.869003</td>\n",
       "      <td>1.308896</td>\n",
       "      <td>0.630909</td>\n",
       "    </tr>\n",
       "  </tbody>\n",
       "</table>\n",
       "</div>"
      ],
      "text/plain": [
       "     MSE_train  MAE_train  R2_train    MSE_cv  MSE_std_cv    MAE_cv  \\\n",
       "OLS   2.147088   1.123948  0.725679  2.150765   -0.041126  1.124867   \n",
       "RF    1.991774   1.073388  0.745523  2.103856   -0.045015  1.103636   \n",
       "SVR   2.086887   1.093895  0.733371  2.118463   -0.044672  1.106347   \n",
       "KNN   0.167801   0.127916  0.978561  2.898621   -0.050587  1.327450   \n",
       "\n",
       "     MAE_std_cv     R2_cv  R2_std_cv  MSE_test  MAE_test   R2_test  \n",
       "OLS   -0.008582 -0.725168  -0.005616  2.138699  1.118422  0.724861  \n",
       "RF    -0.009203 -0.731160  -0.006129  2.094210  1.094786  0.730585  \n",
       "SVR   -0.010439 -0.729292  -0.006195  2.109229  1.098147  0.728653  \n",
       "KNN   -0.012543 -0.629611  -0.006595  2.869003  1.308896  0.630909  "
      ]
     },
     "execution_count": 70,
     "metadata": {},
     "output_type": "execute_result"
    }
   ],
   "source": [
    "indexNamesArr = df_results.index.values\n",
    "i = indexNamesArr[-1]\n",
    "df_results.rename(index={i:'KNN'}, inplace=True)\n",
    "df_results.head()"
   ]
  },
  {
   "cell_type": "markdown",
   "metadata": {},
   "source": [
    "### XG BOOST Machine"
   ]
  },
  {
   "cell_type": "raw",
   "metadata": {},
   "source": [
    "Grid search:\n",
    "# A\n",
    "# You can try wider intervals with a larger step between\n",
    "# each value and then narrow it down.\n",
    "d = len(X)\n",
    "cw=[0, 0.0005,0.001, 0.005, 0.01, 0.015, 0.02]\n",
    "mcw = np.round(d*np.array(cw),0)\n",
    "gridsearch_params = [\n",
    "    (max_depth, min_child_weight)\n",
    "    for max_depth in [2,4,6,8,10]\n",
    "    for min_child_weight in mcw]\n",
    "\n",
    "# B\n",
    "gridsearch_params = [\n",
    "    (subsample, colsample)\n",
    "    for subsample in [i/10. for i in range(4,11)] #[4,5,6,7,8,9]\n",
    "    for colsample in [i/10. for i in range(4,11)]\n",
    "]\n",
    "\n",
    "# C\n",
    "eta in [.3, .2, .1, .05, .01, .005]\n",
    "\n",
    "# D\n",
    "lambda in [0.1,0.5,1,1.5,2.5,5,10,15]\n",
    "\n",
    "# E\n",
    "n_estimators\n",
    "\n",
    "# best parameters cv:\n",
    "\n",
    "{'xgb__subsample': 1.0,\n",
    " 'xgb__reg_lambda': 0.4,\n",
    " 'xgb__min_child_weight': 131.0,\n",
    " 'xgb__max_depth': 20,\n",
    " 'xgb__learning_rate': 0.41999999999999993,\n",
    " 'xgb__colsample_bytree': 1.0}\n",
    " n_estimators=156"
   ]
  },
  {
   "cell_type": "code",
   "execution_count": 71,
   "metadata": {},
   "outputs": [],
   "source": [
    "xgb_rgr = xgb.XGBRegressor(max_depth=20, learning_rate=0.42, n_estimators=156,\n",
    "                           verbosity=1, objective='reg:squarederror',\n",
    "                           booster='gbtree', n_jobs=-1, gamma=0,\n",
    "                           min_child_weight=131.0, max_delta_step=0, subsample=1.0,\n",
    "                           colsample_bytree=0.7, colsample_bylevel=1, colsample_bynode=1,\n",
    "                           reg_alpha=0, reg_lambda=0.4, scale_pos_weight=1, base_score=0.5,\n",
    "                           random_state=seed, seed=None, missing=None, importance_type='gain')\n"
   ]
  },
  {
   "cell_type": "code",
   "execution_count": 72,
   "metadata": {},
   "outputs": [],
   "source": [
    "# Define sklearn pipeline\n",
    "estimators = []\n",
    "estimators.append(('standardize', StandardScaler()))\n",
    "estimators.append(('XGB', xgb_rgr))\n",
    "pipeline = Pipeline(estimators)"
   ]
  },
  {
   "cell_type": "code",
   "execution_count": 73,
   "metadata": {},
   "outputs": [],
   "source": [
    "scores_MSE = cross_val_score(pipeline, X_train, Y_train, cv=kf,\n",
    "                         scoring='neg_mean_squared_error')\n",
    "scores_MAE = cross_val_score(pipeline, X_train, Y_train, cv=kf,\n",
    "                         scoring='neg_mean_absolute_error')\n",
    "scores_R2 = cross_val_score(pipeline, X_train, Y_train, cv=kf,\n",
    "                         scoring='r2')"
   ]
  },
  {
   "cell_type": "code",
   "execution_count": 74,
   "metadata": {},
   "outputs": [
    {
     "name": "stdout",
     "output_type": "stream",
     "text": [
      "MSE: 2.15 (+/- 0.10)\n",
      "MAE: 1.13 (+/- 0.02)\n",
      "R2: -0.72 (+/- 0.01)\n"
     ]
    }
   ],
   "source": [
    "print(\"MSE: %0.2f (+/- %0.2f)\" % (-scores_MSE.mean(), scores_MSE.std() * 2))\n",
    "print(\"MAE: %0.2f (+/- %0.2f)\" % (-scores_MAE.mean(), scores_MAE.std() * 2))\n",
    "print(\"R2: %0.2f (+/- %0.2f)\" % (-scores_R2.mean(), scores_R2.std() * 2))"
   ]
  },
  {
   "cell_type": "code",
   "execution_count": 75,
   "metadata": {},
   "outputs": [],
   "source": [
    "df_scorescv_xgb_MSE=pd.DataFrame(scores_MSE)\n",
    "df_scorescv_xgb_MAE=pd.DataFrame(scores_MAE)\n",
    "df_scorescv_xgb_R2=pd.DataFrame(scores_R2)"
   ]
  },
  {
   "cell_type": "code",
   "execution_count": 76,
   "metadata": {},
   "outputs": [],
   "source": [
    "with pd.ExcelWriter('FINALRESULTS_CV_1110.xlsx',engine='openpyxl', mode='a') as writer:\n",
    "    df_scorescv_xgb_MSE.to_excel(writer, sheet_name='XGB_MSE')\n",
    "\n",
    "with pd.ExcelWriter('FINALRESULTS_CV_1110.xlsx',engine='openpyxl', mode='a') as writer:\n",
    "    df_scorescv_xgb_MAE.to_excel(writer, sheet_name='XGB_MAE')\n",
    "    \n",
    "with pd.ExcelWriter('FINALRESULTS_CV_1110.xlsx',engine='openpyxl', mode='a') as writer:\n",
    "    df_scorescv_xgb_R2.to_excel(writer, sheet_name='XGB_R2')"
   ]
  },
  {
   "cell_type": "code",
   "execution_count": 77,
   "metadata": {},
   "outputs": [],
   "source": [
    "mse_xgb_rgr_cv = -scores_MSE.mean()\n",
    "mse_std_xgb_rgr_cv = -scores_MSE.std()\n",
    "mae_xgb_rgr_cv = -scores_MAE.mean()\n",
    "mae_std_xgb_rgr_cv = -scores_MAE.std()\n",
    "r2_xgb_rgr_cv = -scores_R2.mean()\n",
    "r2_std_xgb_rgr_cv = -scores_R2.std()"
   ]
  },
  {
   "cell_type": "code",
   "execution_count": 78,
   "metadata": {},
   "outputs": [
    {
     "data": {
      "text/plain": [
       "XGBRegressor(base_score=0.5, booster='gbtree', colsample_bylevel=1,\n",
       "             colsample_bynode=1, colsample_bytree=0.7, gamma=0,\n",
       "             importance_type='gain', learning_rate=0.42, max_delta_step=0,\n",
       "             max_depth=20, min_child_weight=131.0, missing=None,\n",
       "             n_estimators=156, n_jobs=-1, nthread=None,\n",
       "             objective='reg:squarederror', random_state=42, reg_alpha=0,\n",
       "             reg_lambda=0.4, scale_pos_weight=1, seed=None, silent=None,\n",
       "             subsample=1.0, verbosity=1)"
      ]
     },
     "execution_count": 78,
     "metadata": {},
     "output_type": "execute_result"
    }
   ],
   "source": [
    "xgb_rgr.fit(X_train_std, Y_train)"
   ]
  },
  {
   "cell_type": "code",
   "execution_count": 79,
   "metadata": {},
   "outputs": [],
   "source": [
    "Y_train_pred=xgb_rgr.predict(X_train_std)\n",
    "Y_test_pred=xgb_rgr.predict(X_test_std)"
   ]
  },
  {
   "cell_type": "code",
   "execution_count": 80,
   "metadata": {},
   "outputs": [],
   "source": [
    "mse_xgb_rgr_train = metrics.mean_squared_error(Y_train, Y_train_pred) \n",
    "mse_xgb_rgr_test = metrics.mean_squared_error(Y_test, Y_test_pred)\n",
    "\n",
    "mae_xgb_rgr_train = metrics.mean_absolute_error(Y_train, Y_train_pred) \n",
    "mae_xgb_rgr_test = metrics.mean_absolute_error(Y_test, Y_test_pred)\n",
    "\n",
    "r2_xgb_rgr_train = metrics.r2_score(Y_train, Y_train_pred)\n",
    "r2_xgb_rgr_test = metrics.r2_score(Y_test, Y_test_pred)"
   ]
  },
  {
   "cell_type": "code",
   "execution_count": 81,
   "metadata": {},
   "outputs": [],
   "source": [
    "new_results_dic = {'MSE_train': mse_xgb_rgr_train, 'MAE_train': mae_xgb_rgr_train,'R2_train': r2_xgb_rgr_train,\n",
    "                   'MSE_cv': mse_xgb_rgr_cv, 'MSE_std_cv': mse_std_xgb_rgr_cv, 'MAE_cv': mae_xgb_rgr_cv,\n",
    "                   'MAE_std_cv': mae_std_xgb_rgr_cv, 'R2_cv': r2_xgb_rgr_cv, 'R2_std_cv': r2_std_xgb_rgr_cv,\n",
    "                   'MSE_test': mse_xgb_rgr_test,\n",
    "                   'MAE_test': mae_xgb_rgr_test,\n",
    "                   'R2_test': r2_xgb_rgr_test}\n",
    "\n",
    "df_results.loc[len(df_results)] = new_results_dic"
   ]
  },
  {
   "cell_type": "code",
   "execution_count": 82,
   "metadata": {},
   "outputs": [
    {
     "data": {
      "text/html": [
       "<div>\n",
       "<style scoped>\n",
       "    .dataframe tbody tr th:only-of-type {\n",
       "        vertical-align: middle;\n",
       "    }\n",
       "\n",
       "    .dataframe tbody tr th {\n",
       "        vertical-align: top;\n",
       "    }\n",
       "\n",
       "    .dataframe thead th {\n",
       "        text-align: right;\n",
       "    }\n",
       "</style>\n",
       "<table border=\"1\" class=\"dataframe\">\n",
       "  <thead>\n",
       "    <tr style=\"text-align: right;\">\n",
       "      <th></th>\n",
       "      <th>MSE_train</th>\n",
       "      <th>MAE_train</th>\n",
       "      <th>R2_train</th>\n",
       "      <th>MSE_cv</th>\n",
       "      <th>MSE_std_cv</th>\n",
       "      <th>MAE_cv</th>\n",
       "      <th>MAE_std_cv</th>\n",
       "      <th>R2_cv</th>\n",
       "      <th>R2_std_cv</th>\n",
       "      <th>MSE_test</th>\n",
       "      <th>MAE_test</th>\n",
       "      <th>R2_test</th>\n",
       "    </tr>\n",
       "  </thead>\n",
       "  <tbody>\n",
       "    <tr>\n",
       "      <th>OLS</th>\n",
       "      <td>2.147088</td>\n",
       "      <td>1.123948</td>\n",
       "      <td>0.725679</td>\n",
       "      <td>2.150765</td>\n",
       "      <td>-0.041126</td>\n",
       "      <td>1.124867</td>\n",
       "      <td>-0.008582</td>\n",
       "      <td>-0.725168</td>\n",
       "      <td>-0.005616</td>\n",
       "      <td>2.138699</td>\n",
       "      <td>1.118422</td>\n",
       "      <td>0.724861</td>\n",
       "    </tr>\n",
       "    <tr>\n",
       "      <th>RF</th>\n",
       "      <td>1.991774</td>\n",
       "      <td>1.073388</td>\n",
       "      <td>0.745523</td>\n",
       "      <td>2.103856</td>\n",
       "      <td>-0.045015</td>\n",
       "      <td>1.103636</td>\n",
       "      <td>-0.009203</td>\n",
       "      <td>-0.731160</td>\n",
       "      <td>-0.006129</td>\n",
       "      <td>2.094210</td>\n",
       "      <td>1.094786</td>\n",
       "      <td>0.730585</td>\n",
       "    </tr>\n",
       "    <tr>\n",
       "      <th>SVR</th>\n",
       "      <td>2.086887</td>\n",
       "      <td>1.093895</td>\n",
       "      <td>0.733371</td>\n",
       "      <td>2.118463</td>\n",
       "      <td>-0.044672</td>\n",
       "      <td>1.106347</td>\n",
       "      <td>-0.010439</td>\n",
       "      <td>-0.729292</td>\n",
       "      <td>-0.006195</td>\n",
       "      <td>2.109229</td>\n",
       "      <td>1.098147</td>\n",
       "      <td>0.728653</td>\n",
       "    </tr>\n",
       "    <tr>\n",
       "      <th>KNN</th>\n",
       "      <td>0.167801</td>\n",
       "      <td>0.127916</td>\n",
       "      <td>0.978561</td>\n",
       "      <td>2.898621</td>\n",
       "      <td>-0.050587</td>\n",
       "      <td>1.327450</td>\n",
       "      <td>-0.012543</td>\n",
       "      <td>-0.629611</td>\n",
       "      <td>-0.006595</td>\n",
       "      <td>2.869003</td>\n",
       "      <td>1.308896</td>\n",
       "      <td>0.630909</td>\n",
       "    </tr>\n",
       "    <tr>\n",
       "      <th>XGB</th>\n",
       "      <td>1.265442</td>\n",
       "      <td>0.862972</td>\n",
       "      <td>0.838322</td>\n",
       "      <td>2.153150</td>\n",
       "      <td>-0.049830</td>\n",
       "      <td>1.125527</td>\n",
       "      <td>-0.009516</td>\n",
       "      <td>-0.724863</td>\n",
       "      <td>-0.006639</td>\n",
       "      <td>2.086730</td>\n",
       "      <td>1.104808</td>\n",
       "      <td>0.731547</td>\n",
       "    </tr>\n",
       "  </tbody>\n",
       "</table>\n",
       "</div>"
      ],
      "text/plain": [
       "     MSE_train  MAE_train  R2_train    MSE_cv  MSE_std_cv    MAE_cv  \\\n",
       "OLS   2.147088   1.123948  0.725679  2.150765   -0.041126  1.124867   \n",
       "RF    1.991774   1.073388  0.745523  2.103856   -0.045015  1.103636   \n",
       "SVR   2.086887   1.093895  0.733371  2.118463   -0.044672  1.106347   \n",
       "KNN   0.167801   0.127916  0.978561  2.898621   -0.050587  1.327450   \n",
       "XGB   1.265442   0.862972  0.838322  2.153150   -0.049830  1.125527   \n",
       "\n",
       "     MAE_std_cv     R2_cv  R2_std_cv  MSE_test  MAE_test   R2_test  \n",
       "OLS   -0.008582 -0.725168  -0.005616  2.138699  1.118422  0.724861  \n",
       "RF    -0.009203 -0.731160  -0.006129  2.094210  1.094786  0.730585  \n",
       "SVR   -0.010439 -0.729292  -0.006195  2.109229  1.098147  0.728653  \n",
       "KNN   -0.012543 -0.629611  -0.006595  2.869003  1.308896  0.630909  \n",
       "XGB   -0.009516 -0.724863  -0.006639  2.086730  1.104808  0.731547  "
      ]
     },
     "execution_count": 82,
     "metadata": {},
     "output_type": "execute_result"
    }
   ],
   "source": [
    "indexNamesArr = df_results.index.values\n",
    "i = indexNamesArr[-1]\n",
    "df_results.rename(index={i:'XGB'}, inplace=True)\n",
    "df_results.head()"
   ]
  },
  {
   "cell_type": "markdown",
   "metadata": {},
   "source": [
    "### Neural Network"
   ]
  },
  {
   "cell_type": "code",
   "execution_count": 83,
   "metadata": {},
   "outputs": [
    {
     "name": "stderr",
     "output_type": "stream",
     "text": [
      "Using TensorFlow backend.\n",
      "C:\\ProgramData\\Anaconda3\\lib\\site-packages\\tensorflow\\python\\framework\\dtypes.py:516: FutureWarning: Passing (type, 1) or '1type' as a synonym of type is deprecated; in a future version of numpy, it will be understood as (type, (1,)) / '(1,)type'.\n",
      "  _np_qint8 = np.dtype([(\"qint8\", np.int8, 1)])\n",
      "C:\\ProgramData\\Anaconda3\\lib\\site-packages\\tensorflow\\python\\framework\\dtypes.py:517: FutureWarning: Passing (type, 1) or '1type' as a synonym of type is deprecated; in a future version of numpy, it will be understood as (type, (1,)) / '(1,)type'.\n",
      "  _np_quint8 = np.dtype([(\"quint8\", np.uint8, 1)])\n",
      "C:\\ProgramData\\Anaconda3\\lib\\site-packages\\tensorflow\\python\\framework\\dtypes.py:518: FutureWarning: Passing (type, 1) or '1type' as a synonym of type is deprecated; in a future version of numpy, it will be understood as (type, (1,)) / '(1,)type'.\n",
      "  _np_qint16 = np.dtype([(\"qint16\", np.int16, 1)])\n",
      "C:\\ProgramData\\Anaconda3\\lib\\site-packages\\tensorflow\\python\\framework\\dtypes.py:519: FutureWarning: Passing (type, 1) or '1type' as a synonym of type is deprecated; in a future version of numpy, it will be understood as (type, (1,)) / '(1,)type'.\n",
      "  _np_quint16 = np.dtype([(\"quint16\", np.uint16, 1)])\n",
      "C:\\ProgramData\\Anaconda3\\lib\\site-packages\\tensorflow\\python\\framework\\dtypes.py:520: FutureWarning: Passing (type, 1) or '1type' as a synonym of type is deprecated; in a future version of numpy, it will be understood as (type, (1,)) / '(1,)type'.\n",
      "  _np_qint32 = np.dtype([(\"qint32\", np.int32, 1)])\n",
      "C:\\ProgramData\\Anaconda3\\lib\\site-packages\\tensorflow\\python\\framework\\dtypes.py:525: FutureWarning: Passing (type, 1) or '1type' as a synonym of type is deprecated; in a future version of numpy, it will be understood as (type, (1,)) / '(1,)type'.\n",
      "  np_resource = np.dtype([(\"resource\", np.ubyte, 1)])\n",
      "C:\\ProgramData\\Anaconda3\\lib\\site-packages\\tensorboard\\compat\\tensorflow_stub\\dtypes.py:541: FutureWarning: Passing (type, 1) or '1type' as a synonym of type is deprecated; in a future version of numpy, it will be understood as (type, (1,)) / '(1,)type'.\n",
      "  _np_qint8 = np.dtype([(\"qint8\", np.int8, 1)])\n",
      "C:\\ProgramData\\Anaconda3\\lib\\site-packages\\tensorboard\\compat\\tensorflow_stub\\dtypes.py:542: FutureWarning: Passing (type, 1) or '1type' as a synonym of type is deprecated; in a future version of numpy, it will be understood as (type, (1,)) / '(1,)type'.\n",
      "  _np_quint8 = np.dtype([(\"quint8\", np.uint8, 1)])\n",
      "C:\\ProgramData\\Anaconda3\\lib\\site-packages\\tensorboard\\compat\\tensorflow_stub\\dtypes.py:543: FutureWarning: Passing (type, 1) or '1type' as a synonym of type is deprecated; in a future version of numpy, it will be understood as (type, (1,)) / '(1,)type'.\n",
      "  _np_qint16 = np.dtype([(\"qint16\", np.int16, 1)])\n",
      "C:\\ProgramData\\Anaconda3\\lib\\site-packages\\tensorboard\\compat\\tensorflow_stub\\dtypes.py:544: FutureWarning: Passing (type, 1) or '1type' as a synonym of type is deprecated; in a future version of numpy, it will be understood as (type, (1,)) / '(1,)type'.\n",
      "  _np_quint16 = np.dtype([(\"quint16\", np.uint16, 1)])\n",
      "C:\\ProgramData\\Anaconda3\\lib\\site-packages\\tensorboard\\compat\\tensorflow_stub\\dtypes.py:545: FutureWarning: Passing (type, 1) or '1type' as a synonym of type is deprecated; in a future version of numpy, it will be understood as (type, (1,)) / '(1,)type'.\n",
      "  _np_qint32 = np.dtype([(\"qint32\", np.int32, 1)])\n",
      "C:\\ProgramData\\Anaconda3\\lib\\site-packages\\tensorboard\\compat\\tensorflow_stub\\dtypes.py:550: FutureWarning: Passing (type, 1) or '1type' as a synonym of type is deprecated; in a future version of numpy, it will be understood as (type, (1,)) / '(1,)type'.\n",
      "  np_resource = np.dtype([(\"resource\", np.ubyte, 1)])\n"
     ]
    }
   ],
   "source": [
    "from keras.models import Sequential\n",
    "from keras.layers import Dense\n",
    "from keras.layers import InputLayer\n",
    "from keras import backend as k\n",
    "from keras.optimizers import SGD\n",
    "from keras.optimizers import Adam\n",
    "from keras.callbacks import EarlyStopping\n",
    "from keras.callbacks import ModelCheckpoint\n",
    "from keras.wrappers.scikit_learn import KerasRegressor"
   ]
  },
  {
   "cell_type": "code",
   "execution_count": 101,
   "metadata": {},
   "outputs": [],
   "source": [
    "def r2(y_true,y_pred):\n",
    "    SS_res=k.sum(k.square(y_true-y_pred))\n",
    "    SS_tot=k.sum(k.square(y_true-k.mean(y_true)))\n",
    "    return (1-SS_res/(SS_tot))\n",
    "\n",
    "# define base model\n",
    "def baseline_model(input_dim=17,output_dim=1, init='glorot_uniform', layers=[10, 10, 10, 10, 10, 10, 10, 10],\n",
    "                   activ_function='relu',\n",
    "                   optim='adam' , loss_function='mse'):\n",
    "    # ,Adam_lr=0.001, Adam_beta1=0.9, Adam_beta2=0.999, Adam_epsilon=1e-07\n",
    "    # create model\n",
    "    model = Sequential()\n",
    "    for i, nodes in enumerate(layers):\n",
    "        if i==0:\n",
    "            model.add(Dense(units=nodes, input_dim=input_dim, kernel_initializer=init, activation=activ_function))\n",
    "        else:\n",
    "            model.add(Dense(units=nodes, kernel_initializer=init, activation=activ_function))\n",
    "    model.add(Dense(units=output_dim, kernel_initializer=init,))\n",
    "    # Compile model\n",
    "    # optim_m=Adam(learning_rate=Adam_lr, beta_1=Adam_beta1, beta_2=Adam_beta2, epsilon= Adam_epsilon)\n",
    "    model.compile(optimizer=optim, loss=loss_function, metrics=['mae','mse',r2])\n",
    "    return model"
   ]
  },
  {
   "cell_type": "raw",
   "metadata": {},
   "source": [
    "# Early Stopping\n",
    "stopper=EarlyStopping(monitor='val_mae', patience=8, verbose=1) #more than three epochs"
   ]
  },
  {
   "cell_type": "code",
   "execution_count": 102,
   "metadata": {},
   "outputs": [],
   "source": [
    "#Model check point\n",
    "checkpoint_filepath= 'weights1110.hdf5'\n",
    "checkpoint=ModelCheckpoint(filepath =checkpoint_filepath, monitor='loss',\n",
    "                           save_best_only= True, mode='auto')"
   ]
  },
  {
   "cell_type": "code",
   "execution_count": 103,
   "metadata": {},
   "outputs": [],
   "source": [
    "# Best combination of Hyperparameters:\n",
    "#{'kr__activ_function': 'relu', 'kr__batch_size': 32, 'kr__epochs': 200, 'kr__input_dim': 120,\n",
    "#'kr__layers': (24, 24), 'kr__optim': 'adam'}\n",
    "\n",
    "\n",
    "num_epochs=25\n",
    "batch=32\n",
    "blayers=[10, 10, 10, 10, 10, 10, 10, 10]\n",
    "bactiv_function='relu'\n",
    "boptim='adam'\n",
    "\n",
    "model=baseline_model(input_dim=17,output_dim=1,layers=blayers, activ_function= bactiv_function, optim=boptim, loss_function='mse')\n",
    "\n",
    "num_val_samples=len(X_train)//kf #Floor division - division that results into whole number\n",
    "#adjusted to the left in the number line\n",
    "all_mae_histories=[]\n",
    "all_mse_histories=[]\n",
    "all_r2_histories=[]"
   ]
  },
  {
   "cell_type": "code",
   "execution_count": 104,
   "metadata": {},
   "outputs": [
    {
     "name": "stdout",
     "output_type": "stream",
     "text": [
      "Processing fold # 0\n",
      "Processing fold # 1\n",
      "Processing fold # 2\n",
      "Processing fold # 3\n"
     ]
    }
   ],
   "source": [
    "for i in range(kf):\n",
    "    #Prepares the validation data: data from partition #k\n",
    "    print('Processing fold #', i)\n",
    "    val_data=X_train[i*num_val_samples:(i+1)*num_val_samples]\n",
    "    val_targets=Y_train[i*num_val_samples:(i+1)*num_val_samples]\n",
    "    #Prepares the training data: data from all other partitions\n",
    "    partial_train_data=np.concatenate([X_train[:i*num_val_samples],\n",
    "        X_train[(i+1)*num_val_samples:]], axis=0)\n",
    "    partial_train_targets=np.concatenate([Y_train[:i*num_val_samples],\n",
    "        Y_train[(i+1)*num_val_samples:]], axis=0)\n",
    "    # trains the model in silent mode\n",
    "    scaler.fit(partial_train_data)\n",
    "    partial_train_data_std=scaler.transform(partial_train_data)\n",
    "    val_data_std=scaler.transform(val_data)\n",
    "    history = model.fit(partial_train_data_std, partial_train_targets,validation_data=(val_data_std,val_targets),\n",
    "                        epochs=num_epochs,batch_size=batch,verbose=0)\n",
    "    #Evaluates the model on the validation data\n",
    "    mae_history=history.history['val_mae']\n",
    "    all_mae_histories.append(mae_history)\n",
    "    mse_history=history.history['val_mse']\n",
    "    all_mse_histories.append(mse_history)\n",
    "    r2_history=history.history['val_r2']\n",
    "    all_r2_histories.append(r2_history)"
   ]
  },
  {
   "cell_type": "code",
   "execution_count": 105,
   "metadata": {},
   "outputs": [],
   "source": [
    "df_scorescv_ann_MAE=pd.DataFrame(all_mae_histories)\n",
    "df_scorescv_ann_MSE=pd.DataFrame(all_mse_histories)\n",
    "df_scorescv_ann_R2=pd.DataFrame(all_r2_histories)"
   ]
  },
  {
   "cell_type": "code",
   "execution_count": 106,
   "metadata": {},
   "outputs": [],
   "source": [
    "with pd.ExcelWriter('FINALRESULTS_CV_1110.xlsx',engine='openpyxl', mode='a') as writer:\n",
    "    df_scorescv_ann_MSE.to_excel(writer, sheet_name='ANN_MSE')\n",
    "\n",
    "with pd.ExcelWriter('FINALRESULTS_CV_1110.xlsx',engine='openpyxl', mode='a') as writer:\n",
    "    df_scorescv_ann_MAE.to_excel(writer, sheet_name='ANN_MAE')\n",
    "    \n",
    "with pd.ExcelWriter('FINALRESULTS_CV_1110.xlsx',engine='openpyxl', mode='a') as writer:\n",
    "    df_scorescv_ann_R2.to_excel(writer, sheet_name='ANN_R2')"
   ]
  },
  {
   "cell_type": "code",
   "execution_count": 107,
   "metadata": {},
   "outputs": [],
   "source": [
    "min_df_scorescv_ann_MAE=df_scorescv_ann_MAE.min(axis=1)\n",
    "min_df_scorescv_ann_MSE=df_scorescv_ann_MSE.min(axis=1)\n",
    "max_df_scorescv_ann_R2=df_scorescv_ann_R2.max(axis=1)"
   ]
  },
  {
   "cell_type": "code",
   "execution_count": 108,
   "metadata": {},
   "outputs": [],
   "source": [
    "mse_ann_rgr_cv = min_df_scorescv_ann_MSE.mean(axis=0)\n",
    "mse_std_ann_rgr_cv = min_df_scorescv_ann_MSE.std(axis=0)\n",
    "mae_ann_rgr_cv = min_df_scorescv_ann_MAE.mean(axis=0)\n",
    "mae_std_ann_rgr_cv = min_df_scorescv_ann_MAE.std(axis=0)\n",
    "r2_ann_rgr_cv = max_df_scorescv_ann_R2.mean(axis=0)\n",
    "r2_std_ann_rgr_cv = max_df_scorescv_ann_R2.std(axis=0)"
   ]
  },
  {
   "cell_type": "code",
   "execution_count": 109,
   "metadata": {},
   "outputs": [],
   "source": [
    "model.fit(X_train_std, Y_train, epochs=num_epochs, callbacks=[checkpoint], batch_size=batch, verbose=0)\n",
    "model.load_weights(checkpoint_filepath)"
   ]
  },
  {
   "cell_type": "code",
   "execution_count": 110,
   "metadata": {},
   "outputs": [
    {
     "name": "stdout",
     "output_type": "stream",
     "text": [
      "21934/21934 [==============================] - 1s 30us/step\n",
      "9488/9488 [==============================] - 0s 30us/step\n"
     ]
    }
   ],
   "source": [
    "loss, mae, mse, r2= model.evaluate(X_train_std, Y_train)\n",
    "test_loss, test_mae, test_mse, test_r2 = model.evaluate(X_test_std, Y_test)"
   ]
  },
  {
   "cell_type": "code",
   "execution_count": 111,
   "metadata": {},
   "outputs": [],
   "source": [
    "mse_ann_rgr_train = mse \n",
    "mse_ann_rgr_test = test_mse\n",
    "\n",
    "mae_ann_rgr_train = mae \n",
    "mae_ann_rgr_test = test_mae\n",
    "\n",
    "r2_ann_rgr_train = r2\n",
    "r2_ann_rgr_test = test_r2"
   ]
  },
  {
   "cell_type": "code",
   "execution_count": 112,
   "metadata": {},
   "outputs": [],
   "source": [
    "new_results_dic = {'MSE_train': mse_ann_rgr_train, 'MAE_train': mae_ann_rgr_train,'R2_train': r2_ann_rgr_train,\n",
    "                   'MSE_cv': mse_ann_rgr_cv, 'MSE_std_cv': mse_std_ann_rgr_cv, 'MAE_cv': mae_ann_rgr_cv,\n",
    "                   'MAE_std_cv': mae_std_ann_rgr_cv, 'R2_cv': r2_ann_rgr_cv, 'R2_std_cv': r2_std_ann_rgr_cv,\n",
    "                   'MSE_test': mse_ann_rgr_test,\n",
    "                   'MAE_test': mae_ann_rgr_test,\n",
    "                   'R2_test': r2_ann_rgr_test}\n",
    "\n",
    "df_results.loc[len(df_results)] = new_results_dic"
   ]
  },
  {
   "cell_type": "code",
   "execution_count": 113,
   "metadata": {},
   "outputs": [],
   "source": [
    "df_results.drop('ANN', inplace=True)"
   ]
  },
  {
   "cell_type": "code",
   "execution_count": 114,
   "metadata": {},
   "outputs": [
    {
     "data": {
      "text/html": [
       "<div>\n",
       "<style scoped>\n",
       "    .dataframe tbody tr th:only-of-type {\n",
       "        vertical-align: middle;\n",
       "    }\n",
       "\n",
       "    .dataframe tbody tr th {\n",
       "        vertical-align: top;\n",
       "    }\n",
       "\n",
       "    .dataframe thead th {\n",
       "        text-align: right;\n",
       "    }\n",
       "</style>\n",
       "<table border=\"1\" class=\"dataframe\">\n",
       "  <thead>\n",
       "    <tr style=\"text-align: right;\">\n",
       "      <th></th>\n",
       "      <th>MSE_train</th>\n",
       "      <th>MAE_train</th>\n",
       "      <th>R2_train</th>\n",
       "      <th>MSE_cv</th>\n",
       "      <th>MSE_std_cv</th>\n",
       "      <th>MAE_cv</th>\n",
       "      <th>MAE_std_cv</th>\n",
       "      <th>R2_cv</th>\n",
       "      <th>R2_std_cv</th>\n",
       "      <th>MSE_test</th>\n",
       "      <th>MAE_test</th>\n",
       "      <th>R2_test</th>\n",
       "    </tr>\n",
       "  </thead>\n",
       "  <tbody>\n",
       "    <tr>\n",
       "      <th>OLS</th>\n",
       "      <td>2.147088</td>\n",
       "      <td>1.123948</td>\n",
       "      <td>0.725679</td>\n",
       "      <td>2.150765</td>\n",
       "      <td>-0.041126</td>\n",
       "      <td>1.124867</td>\n",
       "      <td>-0.008582</td>\n",
       "      <td>-0.725168</td>\n",
       "      <td>-0.005616</td>\n",
       "      <td>2.138699</td>\n",
       "      <td>1.118422</td>\n",
       "      <td>0.724861</td>\n",
       "    </tr>\n",
       "    <tr>\n",
       "      <th>RF</th>\n",
       "      <td>1.991774</td>\n",
       "      <td>1.073388</td>\n",
       "      <td>0.745523</td>\n",
       "      <td>2.103856</td>\n",
       "      <td>-0.045015</td>\n",
       "      <td>1.103636</td>\n",
       "      <td>-0.009203</td>\n",
       "      <td>-0.731160</td>\n",
       "      <td>-0.006129</td>\n",
       "      <td>2.094210</td>\n",
       "      <td>1.094786</td>\n",
       "      <td>0.730585</td>\n",
       "    </tr>\n",
       "    <tr>\n",
       "      <th>SVR</th>\n",
       "      <td>2.086887</td>\n",
       "      <td>1.093895</td>\n",
       "      <td>0.733371</td>\n",
       "      <td>2.118463</td>\n",
       "      <td>-0.044672</td>\n",
       "      <td>1.106347</td>\n",
       "      <td>-0.010439</td>\n",
       "      <td>-0.729292</td>\n",
       "      <td>-0.006195</td>\n",
       "      <td>2.109229</td>\n",
       "      <td>1.098147</td>\n",
       "      <td>0.728653</td>\n",
       "    </tr>\n",
       "    <tr>\n",
       "      <th>KNN</th>\n",
       "      <td>0.167801</td>\n",
       "      <td>0.127916</td>\n",
       "      <td>0.978561</td>\n",
       "      <td>2.898621</td>\n",
       "      <td>-0.050587</td>\n",
       "      <td>1.327450</td>\n",
       "      <td>-0.012543</td>\n",
       "      <td>-0.629611</td>\n",
       "      <td>-0.006595</td>\n",
       "      <td>2.869003</td>\n",
       "      <td>1.308896</td>\n",
       "      <td>0.630909</td>\n",
       "    </tr>\n",
       "    <tr>\n",
       "      <th>XGB</th>\n",
       "      <td>1.265442</td>\n",
       "      <td>0.862972</td>\n",
       "      <td>0.838322</td>\n",
       "      <td>2.153150</td>\n",
       "      <td>-0.049830</td>\n",
       "      <td>1.125527</td>\n",
       "      <td>-0.009516</td>\n",
       "      <td>-0.724863</td>\n",
       "      <td>-0.006639</td>\n",
       "      <td>2.086730</td>\n",
       "      <td>1.104808</td>\n",
       "      <td>0.731547</td>\n",
       "    </tr>\n",
       "  </tbody>\n",
       "</table>\n",
       "</div>"
      ],
      "text/plain": [
       "     MSE_train  MAE_train  R2_train    MSE_cv  MSE_std_cv    MAE_cv  \\\n",
       "OLS   2.147088   1.123948  0.725679  2.150765   -0.041126  1.124867   \n",
       "RF    1.991774   1.073388  0.745523  2.103856   -0.045015  1.103636   \n",
       "SVR   2.086887   1.093895  0.733371  2.118463   -0.044672  1.106347   \n",
       "KNN   0.167801   0.127916  0.978561  2.898621   -0.050587  1.327450   \n",
       "XGB   1.265442   0.862972  0.838322  2.153150   -0.049830  1.125527   \n",
       "\n",
       "     MAE_std_cv     R2_cv  R2_std_cv  MSE_test  MAE_test   R2_test  \n",
       "OLS   -0.008582 -0.725168  -0.005616  2.138699  1.118422  0.724861  \n",
       "RF    -0.009203 -0.731160  -0.006129  2.094210  1.094786  0.730585  \n",
       "SVR   -0.010439 -0.729292  -0.006195  2.109229  1.098147  0.728653  \n",
       "KNN   -0.012543 -0.629611  -0.006595  2.869003  1.308896  0.630909  \n",
       "XGB   -0.009516 -0.724863  -0.006639  2.086730  1.104808  0.731547  "
      ]
     },
     "execution_count": 114,
     "metadata": {},
     "output_type": "execute_result"
    }
   ],
   "source": [
    "indexNamesArr = df_results.index.values\n",
    "i = indexNamesArr[-1]\n",
    "df_results.rename(index={i:'ANN'}, inplace=True)\n",
    "df_results.head()"
   ]
  },
  {
   "cell_type": "code",
   "execution_count": 115,
   "metadata": {},
   "outputs": [
    {
     "name": "stdout",
     "output_type": "stream",
     "text": [
      "Model: \"sequential_2\"\n",
      "_________________________________________________________________\n",
      "Layer (type)                 Output Shape              Param #   \n",
      "=================================================================\n",
      "dense_10 (Dense)             (None, 10)                180       \n",
      "_________________________________________________________________\n",
      "dense_11 (Dense)             (None, 10)                110       \n",
      "_________________________________________________________________\n",
      "dense_12 (Dense)             (None, 10)                110       \n",
      "_________________________________________________________________\n",
      "dense_13 (Dense)             (None, 10)                110       \n",
      "_________________________________________________________________\n",
      "dense_14 (Dense)             (None, 10)                110       \n",
      "_________________________________________________________________\n",
      "dense_15 (Dense)             (None, 10)                110       \n",
      "_________________________________________________________________\n",
      "dense_16 (Dense)             (None, 10)                110       \n",
      "_________________________________________________________________\n",
      "dense_17 (Dense)             (None, 10)                110       \n",
      "_________________________________________________________________\n",
      "dense_18 (Dense)             (None, 1)                 11        \n",
      "=================================================================\n",
      "Total params: 961\n",
      "Trainable params: 961\n",
      "Non-trainable params: 0\n",
      "_________________________________________________________________\n",
      "None\n"
     ]
    }
   ],
   "source": [
    "print(model.summary())"
   ]
  },
  {
   "cell_type": "code",
   "execution_count": 116,
   "metadata": {},
   "outputs": [
    {
     "data": {
      "text/html": [
       "<div>\n",
       "<style scoped>\n",
       "    .dataframe tbody tr th:only-of-type {\n",
       "        vertical-align: middle;\n",
       "    }\n",
       "\n",
       "    .dataframe tbody tr th {\n",
       "        vertical-align: top;\n",
       "    }\n",
       "\n",
       "    .dataframe thead th {\n",
       "        text-align: right;\n",
       "    }\n",
       "</style>\n",
       "<table border=\"1\" class=\"dataframe\">\n",
       "  <thead>\n",
       "    <tr style=\"text-align: right;\">\n",
       "      <th></th>\n",
       "      <th>MSE_train</th>\n",
       "      <th>MAE_train</th>\n",
       "      <th>R2_train</th>\n",
       "      <th>MSE_cv</th>\n",
       "      <th>MSE_std_cv</th>\n",
       "      <th>MAE_cv</th>\n",
       "      <th>MAE_std_cv</th>\n",
       "      <th>R2_cv</th>\n",
       "      <th>R2_std_cv</th>\n",
       "      <th>MSE_test</th>\n",
       "      <th>MAE_test</th>\n",
       "      <th>R2_test</th>\n",
       "    </tr>\n",
       "  </thead>\n",
       "  <tbody>\n",
       "    <tr>\n",
       "      <th>OLS</th>\n",
       "      <td>2.147088</td>\n",
       "      <td>1.123948</td>\n",
       "      <td>0.725679</td>\n",
       "      <td>2.150765</td>\n",
       "      <td>-0.041126</td>\n",
       "      <td>1.124867</td>\n",
       "      <td>-0.008582</td>\n",
       "      <td>-0.725168</td>\n",
       "      <td>-0.005616</td>\n",
       "      <td>2.138699</td>\n",
       "      <td>1.118422</td>\n",
       "      <td>0.724861</td>\n",
       "    </tr>\n",
       "    <tr>\n",
       "      <th>RF</th>\n",
       "      <td>1.991774</td>\n",
       "      <td>1.073388</td>\n",
       "      <td>0.745523</td>\n",
       "      <td>2.103856</td>\n",
       "      <td>-0.045015</td>\n",
       "      <td>1.103636</td>\n",
       "      <td>-0.009203</td>\n",
       "      <td>-0.731160</td>\n",
       "      <td>-0.006129</td>\n",
       "      <td>2.094210</td>\n",
       "      <td>1.094786</td>\n",
       "      <td>0.730585</td>\n",
       "    </tr>\n",
       "    <tr>\n",
       "      <th>SVR</th>\n",
       "      <td>2.086887</td>\n",
       "      <td>1.093895</td>\n",
       "      <td>0.733371</td>\n",
       "      <td>2.118463</td>\n",
       "      <td>-0.044672</td>\n",
       "      <td>1.106347</td>\n",
       "      <td>-0.010439</td>\n",
       "      <td>-0.729292</td>\n",
       "      <td>-0.006195</td>\n",
       "      <td>2.109229</td>\n",
       "      <td>1.098147</td>\n",
       "      <td>0.728653</td>\n",
       "    </tr>\n",
       "    <tr>\n",
       "      <th>KNN</th>\n",
       "      <td>0.167801</td>\n",
       "      <td>0.127916</td>\n",
       "      <td>0.978561</td>\n",
       "      <td>2.898621</td>\n",
       "      <td>-0.050587</td>\n",
       "      <td>1.327450</td>\n",
       "      <td>-0.012543</td>\n",
       "      <td>-0.629611</td>\n",
       "      <td>-0.006595</td>\n",
       "      <td>2.869003</td>\n",
       "      <td>1.308896</td>\n",
       "      <td>0.630909</td>\n",
       "    </tr>\n",
       "    <tr>\n",
       "      <th>XGB</th>\n",
       "      <td>1.265442</td>\n",
       "      <td>0.862972</td>\n",
       "      <td>0.838322</td>\n",
       "      <td>2.153150</td>\n",
       "      <td>-0.049830</td>\n",
       "      <td>1.125527</td>\n",
       "      <td>-0.009516</td>\n",
       "      <td>-0.724863</td>\n",
       "      <td>-0.006639</td>\n",
       "      <td>2.086730</td>\n",
       "      <td>1.104808</td>\n",
       "      <td>0.731547</td>\n",
       "    </tr>\n",
       "    <tr>\n",
       "      <th>ANN</th>\n",
       "      <td>2.057552</td>\n",
       "      <td>1.094580</td>\n",
       "      <td>0.718633</td>\n",
       "      <td>2.116382</td>\n",
       "      <td>0.073945</td>\n",
       "      <td>1.105965</td>\n",
       "      <td>0.014322</td>\n",
       "      <td>0.710536</td>\n",
       "      <td>0.011279</td>\n",
       "      <td>2.122954</td>\n",
       "      <td>1.104793</td>\n",
       "      <td>0.710295</td>\n",
       "    </tr>\n",
       "  </tbody>\n",
       "</table>\n",
       "</div>"
      ],
      "text/plain": [
       "     MSE_train  MAE_train  R2_train    MSE_cv  MSE_std_cv    MAE_cv  \\\n",
       "OLS   2.147088   1.123948  0.725679  2.150765   -0.041126  1.124867   \n",
       "RF    1.991774   1.073388  0.745523  2.103856   -0.045015  1.103636   \n",
       "SVR   2.086887   1.093895  0.733371  2.118463   -0.044672  1.106347   \n",
       "KNN   0.167801   0.127916  0.978561  2.898621   -0.050587  1.327450   \n",
       "XGB   1.265442   0.862972  0.838322  2.153150   -0.049830  1.125527   \n",
       "ANN   2.057552   1.094580  0.718633  2.116382    0.073945  1.105965   \n",
       "\n",
       "     MAE_std_cv     R2_cv  R2_std_cv  MSE_test  MAE_test   R2_test  \n",
       "OLS   -0.008582 -0.725168  -0.005616  2.138699  1.118422  0.724861  \n",
       "RF    -0.009203 -0.731160  -0.006129  2.094210  1.094786  0.730585  \n",
       "SVR   -0.010439 -0.729292  -0.006195  2.109229  1.098147  0.728653  \n",
       "KNN   -0.012543 -0.629611  -0.006595  2.869003  1.308896  0.630909  \n",
       "XGB   -0.009516 -0.724863  -0.006639  2.086730  1.104808  0.731547  \n",
       "ANN    0.014322  0.710536   0.011279  2.122954  1.104793  0.710295  "
      ]
     },
     "execution_count": 116,
     "metadata": {},
     "output_type": "execute_result"
    }
   ],
   "source": [
    "df_results.head(10)"
   ]
  },
  {
   "cell_type": "code",
   "execution_count": 117,
   "metadata": {},
   "outputs": [],
   "source": [
    "df_results.to_excel('FINALRESULTS_Train_Test_1110.xlsx', sheet_name='Final Results')"
   ]
  },
  {
   "cell_type": "code",
   "execution_count": null,
   "metadata": {},
   "outputs": [],
   "source": []
  }
 ],
 "metadata": {
  "kernelspec": {
   "display_name": "Python 3",
   "language": "python",
   "name": "python3"
  },
  "language_info": {
   "codemirror_mode": {
    "name": "ipython",
    "version": 3
   },
   "file_extension": ".py",
   "mimetype": "text/x-python",
   "name": "python",
   "nbconvert_exporter": "python",
   "pygments_lexer": "ipython3",
   "version": "3.7.6"
  }
 },
 "nbformat": 4,
 "nbformat_minor": 4
}
