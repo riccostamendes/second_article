{
 "cells": [
  {
   "cell_type": "markdown",
   "metadata": {},
   "source": [
    "# DATASET SPLIT"
   ]
  },
  {
   "cell_type": "code",
   "execution_count": 1,
   "metadata": {},
   "outputs": [],
   "source": [
    "import numpy as np\n",
    "import pandas as pd\n",
    "from sklearn.model_selection import train_test_split\n",
    "from sklearn.preprocessing import StandardScaler\n",
    "import math"
   ]
  },
  {
   "cell_type": "code",
   "execution_count": 2,
   "metadata": {},
   "outputs": [],
   "source": [
    "seed=42\n",
    "kf=4"
   ]
  },
  {
   "cell_type": "code",
   "execution_count": 3,
   "metadata": {},
   "outputs": [],
   "source": [
    "df = pd.read_excel(\"DSPREP.xlsx\")"
   ]
  },
  {
   "cell_type": "code",
   "execution_count": 4,
   "metadata": {},
   "outputs": [],
   "source": [
    "df=df.drop(['Unnamed: 0', 'Student_ID', 'School_Year', 'SubjectCod','Student_ID_10', 'School_Year_10', 'SubjectCod_10',\n",
    "           'Student_ID_11', 'School_Year_11', 'SubjectCod_11',], axis=1)"
   ]
  },
  {
   "cell_type": "code",
   "execution_count": 5,
   "metadata": {},
   "outputs": [
    {
     "data": {
      "text/plain": [
       "(96346, 125)"
      ]
     },
     "execution_count": 5,
     "metadata": {},
     "output_type": "execute_result"
    }
   ],
   "source": [
    "df.shape"
   ]
  },
  {
   "cell_type": "code",
   "execution_count": 6,
   "metadata": {},
   "outputs": [],
   "source": [
    "X = df.iloc[:,:124]\n",
    "Y = df.iloc[:,-1]"
   ]
  },
  {
   "cell_type": "code",
   "execution_count": 7,
   "metadata": {},
   "outputs": [],
   "source": [
    "X_train, X_test, Y_train, Y_test=train_test_split(X,Y,test_size=0.3, random_state=seed,\n",
    "\n",
    "                                                  stratify=(X['AcYear_11'] & X['AcYear_12']))"
   ]
  },
  {
   "cell_type": "code",
   "execution_count": 8,
   "metadata": {},
   "outputs": [],
   "source": [
    "df1_train = pd.concat([X_train, Y_train], axis=1)\n",
    "df1_test = pd.concat([X_test, Y_test], axis=1)"
   ]
  },
  {
   "cell_type": "code",
   "execution_count": 9,
   "metadata": {},
   "outputs": [
    {
     "data": {
      "text/html": [
       "<div>\n",
       "<style scoped>\n",
       "    .dataframe tbody tr th:only-of-type {\n",
       "        vertical-align: middle;\n",
       "    }\n",
       "\n",
       "    .dataframe tbody tr th {\n",
       "        vertical-align: top;\n",
       "    }\n",
       "\n",
       "    .dataframe thead th {\n",
       "        text-align: right;\n",
       "    }\n",
       "</style>\n",
       "<table border=\"1\" class=\"dataframe\">\n",
       "  <thead>\n",
       "    <tr style=\"text-align: right;\">\n",
       "      <th></th>\n",
       "      <th>AcYear_11</th>\n",
       "      <th>AcYear_12</th>\n",
       "      <th>Std_Gender_F</th>\n",
       "      <th>N_Retentions</th>\n",
       "      <th>School_Size</th>\n",
       "      <th>Class_Size</th>\n",
       "      <th>Student_Computer</th>\n",
       "      <th>Student_Internet</th>\n",
       "      <th>Student_NumberEnrolments</th>\n",
       "      <th>Student_ActiveWorking</th>\n",
       "      <th>...</th>\n",
       "      <th>Teacher_Age</th>\n",
       "      <th>Teacher_TeachingDedicatedTime</th>\n",
       "      <th>Teacher_NoTeachingDedicatedTime</th>\n",
       "      <th>Teacher_EducationSupportDedicatedTime</th>\n",
       "      <th>SubjClass_Foreign_Lang</th>\n",
       "      <th>SubjClass_Qual</th>\n",
       "      <th>SubjClass_Quant</th>\n",
       "      <th>FinalMark_10</th>\n",
       "      <th>FinalMark_11</th>\n",
       "      <th>FinalMark</th>\n",
       "    </tr>\n",
       "  </thead>\n",
       "  <tbody>\n",
       "    <tr>\n",
       "      <th>55351</th>\n",
       "      <td>0</td>\n",
       "      <td>1</td>\n",
       "      <td>0</td>\n",
       "      <td>0</td>\n",
       "      <td>1386</td>\n",
       "      <td>35</td>\n",
       "      <td>1</td>\n",
       "      <td>1</td>\n",
       "      <td>1</td>\n",
       "      <td>0</td>\n",
       "      <td>...</td>\n",
       "      <td>57</td>\n",
       "      <td>6</td>\n",
       "      <td>21</td>\n",
       "      <td>0</td>\n",
       "      <td>0</td>\n",
       "      <td>0</td>\n",
       "      <td>1</td>\n",
       "      <td>NaN</td>\n",
       "      <td>11.0</td>\n",
       "      <td>11</td>\n",
       "    </tr>\n",
       "    <tr>\n",
       "      <th>20788</th>\n",
       "      <td>0</td>\n",
       "      <td>0</td>\n",
       "      <td>1</td>\n",
       "      <td>0</td>\n",
       "      <td>1658</td>\n",
       "      <td>27</td>\n",
       "      <td>1</td>\n",
       "      <td>1</td>\n",
       "      <td>1</td>\n",
       "      <td>0</td>\n",
       "      <td>...</td>\n",
       "      <td>55</td>\n",
       "      <td>16</td>\n",
       "      <td>8</td>\n",
       "      <td>0</td>\n",
       "      <td>0</td>\n",
       "      <td>0</td>\n",
       "      <td>0</td>\n",
       "      <td>NaN</td>\n",
       "      <td>NaN</td>\n",
       "      <td>14</td>\n",
       "    </tr>\n",
       "    <tr>\n",
       "      <th>30969</th>\n",
       "      <td>0</td>\n",
       "      <td>0</td>\n",
       "      <td>1</td>\n",
       "      <td>0</td>\n",
       "      <td>1658</td>\n",
       "      <td>30</td>\n",
       "      <td>1</td>\n",
       "      <td>1</td>\n",
       "      <td>1</td>\n",
       "      <td>0</td>\n",
       "      <td>...</td>\n",
       "      <td>50</td>\n",
       "      <td>18</td>\n",
       "      <td>6</td>\n",
       "      <td>0</td>\n",
       "      <td>0</td>\n",
       "      <td>0</td>\n",
       "      <td>1</td>\n",
       "      <td>NaN</td>\n",
       "      <td>NaN</td>\n",
       "      <td>16</td>\n",
       "    </tr>\n",
       "    <tr>\n",
       "      <th>3394</th>\n",
       "      <td>1</td>\n",
       "      <td>0</td>\n",
       "      <td>0</td>\n",
       "      <td>0</td>\n",
       "      <td>637</td>\n",
       "      <td>26</td>\n",
       "      <td>1</td>\n",
       "      <td>1</td>\n",
       "      <td>1</td>\n",
       "      <td>0</td>\n",
       "      <td>...</td>\n",
       "      <td>55</td>\n",
       "      <td>22</td>\n",
       "      <td>0</td>\n",
       "      <td>0</td>\n",
       "      <td>0</td>\n",
       "      <td>0</td>\n",
       "      <td>0</td>\n",
       "      <td>16.0</td>\n",
       "      <td>NaN</td>\n",
       "      <td>17</td>\n",
       "    </tr>\n",
       "    <tr>\n",
       "      <th>28030</th>\n",
       "      <td>0</td>\n",
       "      <td>1</td>\n",
       "      <td>1</td>\n",
       "      <td>0</td>\n",
       "      <td>676</td>\n",
       "      <td>26</td>\n",
       "      <td>1</td>\n",
       "      <td>1</td>\n",
       "      <td>1</td>\n",
       "      <td>0</td>\n",
       "      <td>...</td>\n",
       "      <td>53</td>\n",
       "      <td>20</td>\n",
       "      <td>1</td>\n",
       "      <td>1</td>\n",
       "      <td>0</td>\n",
       "      <td>0</td>\n",
       "      <td>0</td>\n",
       "      <td>NaN</td>\n",
       "      <td>11.0</td>\n",
       "      <td>12</td>\n",
       "    </tr>\n",
       "  </tbody>\n",
       "</table>\n",
       "<p>5 rows × 125 columns</p>\n",
       "</div>"
      ],
      "text/plain": [
       "       AcYear_11  AcYear_12  Std_Gender_F  N_Retentions  School_Size  \\\n",
       "55351          0          1             0             0         1386   \n",
       "20788          0          0             1             0         1658   \n",
       "30969          0          0             1             0         1658   \n",
       "3394           1          0             0             0          637   \n",
       "28030          0          1             1             0          676   \n",
       "\n",
       "       Class_Size  Student_Computer  Student_Internet  \\\n",
       "55351          35                 1                 1   \n",
       "20788          27                 1                 1   \n",
       "30969          30                 1                 1   \n",
       "3394           26                 1                 1   \n",
       "28030          26                 1                 1   \n",
       "\n",
       "       Student_NumberEnrolments  Student_ActiveWorking  ...  Teacher_Age  \\\n",
       "55351                         1                      0  ...           57   \n",
       "20788                         1                      0  ...           55   \n",
       "30969                         1                      0  ...           50   \n",
       "3394                          1                      0  ...           55   \n",
       "28030                         1                      0  ...           53   \n",
       "\n",
       "       Teacher_TeachingDedicatedTime  Teacher_NoTeachingDedicatedTime  \\\n",
       "55351                              6                               21   \n",
       "20788                             16                                8   \n",
       "30969                             18                                6   \n",
       "3394                              22                                0   \n",
       "28030                             20                                1   \n",
       "\n",
       "       Teacher_EducationSupportDedicatedTime  SubjClass_Foreign_Lang  \\\n",
       "55351                                      0                       0   \n",
       "20788                                      0                       0   \n",
       "30969                                      0                       0   \n",
       "3394                                       0                       0   \n",
       "28030                                      1                       0   \n",
       "\n",
       "       SubjClass_Qual  SubjClass_Quant  FinalMark_10  FinalMark_11  FinalMark  \n",
       "55351               0                1           NaN          11.0         11  \n",
       "20788               0                0           NaN           NaN         14  \n",
       "30969               0                1           NaN           NaN         16  \n",
       "3394                0                0          16.0           NaN         17  \n",
       "28030               0                0           NaN          11.0         12  \n",
       "\n",
       "[5 rows x 125 columns]"
      ]
     },
     "execution_count": 9,
     "metadata": {},
     "output_type": "execute_result"
    }
   ],
   "source": [
    "df1_train.head()"
   ]
  },
  {
   "cell_type": "code",
   "execution_count": 10,
   "metadata": {},
   "outputs": [],
   "source": [
    "df_10_train = df1_train[(df1_train.AcYear_11==0) & (df1_train.AcYear_12==0)]\n",
    "df_10_test = df1_test[(df1_test.AcYear_11==0) & (df1_test.AcYear_12==0)]"
   ]
  },
  {
   "cell_type": "code",
   "execution_count": 11,
   "metadata": {},
   "outputs": [
    {
     "data": {
      "text/plain": [
       "(22913, 125)"
      ]
     },
     "execution_count": 11,
     "metadata": {},
     "output_type": "execute_result"
    }
   ],
   "source": [
    "df_10_train.shape"
   ]
  },
  {
   "cell_type": "code",
   "execution_count": 12,
   "metadata": {},
   "outputs": [
    {
     "data": {
      "text/plain": [
       "(9793, 125)"
      ]
     },
     "execution_count": 12,
     "metadata": {},
     "output_type": "execute_result"
    }
   ],
   "source": [
    "df_10_test.shape"
   ]
  },
  {
   "cell_type": "markdown",
   "metadata": {},
   "source": [
    "df_10_train.head()"
   ]
  },
  {
   "cell_type": "code",
   "execution_count": 13,
   "metadata": {},
   "outputs": [],
   "source": [
    "df_10_train=df_10_train.drop(['FinalMark_11','FinalMark_10'], axis=1)\n",
    "df_10_test=df_10_test.drop(['FinalMark_11','FinalMark_10'], axis=1)"
   ]
  },
  {
   "cell_type": "code",
   "execution_count": 14,
   "metadata": {},
   "outputs": [],
   "source": [
    "df_10=pd.concat([df_10_train, df_10_test], axis=0)"
   ]
  },
  {
   "cell_type": "code",
   "execution_count": 15,
   "metadata": {},
   "outputs": [],
   "source": [
    "df_10.to_excel('X10Y10_CONC.xlsx', sheet_name='X10Y10')\n",
    "df_10_train.to_excel('X10Y10_train.xlsx', sheet_name='X10Y10_train')\n",
    "df_10_test.to_excel('X10Y10_test.xlsx', sheet_name='X10Y10_test')"
   ]
  },
  {
   "cell_type": "code",
   "execution_count": 16,
   "metadata": {},
   "outputs": [],
   "source": [
    "df_11_train = df1_train[(df1_train.AcYear_11==1) & (df1_train.AcYear_12==0)]\n",
    "df_11_test = df1_test[(df1_test.AcYear_11==1) & (df1_test.AcYear_12==0)]"
   ]
  },
  {
   "cell_type": "code",
   "execution_count": 17,
   "metadata": {},
   "outputs": [],
   "source": [
    "df_11_train=df_11_train.drop(['FinalMark_11'], axis=1)\n",
    "df_11_test=df_11_test.drop(['FinalMark_11'], axis=1)"
   ]
  },
  {
   "cell_type": "code",
   "execution_count": 18,
   "metadata": {},
   "outputs": [],
   "source": [
    "df_1110_train=df_11_train\n",
    "df_1110_test=df_11_test"
   ]
  },
  {
   "cell_type": "code",
   "execution_count": 19,
   "metadata": {},
   "outputs": [],
   "source": [
    "df_1110_train.dropna(inplace=True)\n",
    "df_1110_test.dropna(inplace=True)"
   ]
  },
  {
   "cell_type": "markdown",
   "metadata": {},
   "source": [
    "df_1110_train.head()"
   ]
  },
  {
   "cell_type": "code",
   "execution_count": 20,
   "metadata": {},
   "outputs": [],
   "source": [
    "df_1110_train.to_excel('X1110Y11_train.xlsx', sheet_name='X1110Y11_train')\n",
    "df_1110_test.to_excel('X1110Y11_test.xlsx', sheet_name='X1110Y11_test')"
   ]
  },
  {
   "cell_type": "code",
   "execution_count": 21,
   "metadata": {},
   "outputs": [],
   "source": [
    "df_11_train=df_11_train.drop(['FinalMark_10'], axis=1)\n",
    "df_11_test=df_11_test.drop(['FinalMark_10'], axis=1)"
   ]
  },
  {
   "cell_type": "code",
   "execution_count": 22,
   "metadata": {},
   "outputs": [],
   "source": [
    "df_11_train.to_excel('X11Y11_train.xlsx', sheet_name='X11Y11_train')\n",
    "df_11_test.to_excel('X11Y11_test.xlsx', sheet_name='X11Y11_test')"
   ]
  },
  {
   "cell_type": "code",
   "execution_count": 23,
   "metadata": {},
   "outputs": [],
   "source": [
    "df_12_train = df1_train[(df1_train.AcYear_11==0) & (df1_train.AcYear_12==1)]\n",
    "df_12_test = df1_test[(df1_test.AcYear_11==0) & (df1_test.AcYear_12==1)]"
   ]
  },
  {
   "cell_type": "code",
   "execution_count": 24,
   "metadata": {},
   "outputs": [],
   "source": [
    "df_12_train=df_12_train.drop(['FinalMark_10'], axis=1)\n",
    "df_12_test=df_12_test.drop(['FinalMark_10'], axis=1)"
   ]
  },
  {
   "cell_type": "code",
   "execution_count": 25,
   "metadata": {},
   "outputs": [],
   "source": [
    "df_1211_train=df_12_train\n",
    "df_1211_test=df_12_test"
   ]
  },
  {
   "cell_type": "code",
   "execution_count": 26,
   "metadata": {},
   "outputs": [],
   "source": [
    "df_1211_train.dropna(inplace=True)\n",
    "df_1211_test.dropna(inplace=True)"
   ]
  },
  {
   "cell_type": "code",
   "execution_count": 27,
   "metadata": {},
   "outputs": [],
   "source": [
    "df_1211_train.to_excel('X1211Y12_train.xlsx', sheet_name='X1211Y12_train')\n",
    "df_1211_test.to_excel('X1211Y12_test.xlsx', sheet_name='X1211Y12_test')"
   ]
  },
  {
   "cell_type": "code",
   "execution_count": 28,
   "metadata": {},
   "outputs": [],
   "source": [
    "df_12_train=df_12_train.drop(['FinalMark_11'], axis=1)\n",
    "df_12_test=df_12_test.drop(['FinalMark_11'], axis=1)"
   ]
  },
  {
   "cell_type": "code",
   "execution_count": 29,
   "metadata": {},
   "outputs": [],
   "source": [
    "df_12_train.to_excel('X12Y12_train.xlsx', sheet_name='X12Y12_train')\n",
    "df_12_test.to_excel('X12Y12_test.xlsx', sheet_name='X12Y12_test')"
   ]
  }
 ],
 "metadata": {
  "kernelspec": {
   "display_name": "Python 3",
   "language": "python",
   "name": "python3"
  },
  "language_info": {
   "codemirror_mode": {
    "name": "ipython",
    "version": 3
   },
   "file_extension": ".py",
   "mimetype": "text/x-python",
   "name": "python",
   "nbconvert_exporter": "python",
   "pygments_lexer": "ipython3",
   "version": "3.8.3"
  }
 },
 "nbformat": 4,
 "nbformat_minor": 4
}
