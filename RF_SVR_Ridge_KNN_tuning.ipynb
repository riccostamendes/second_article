{
 "cells": [
  {
   "cell_type": "markdown",
   "metadata": {},
   "source": [
    "# hyperparameters tuning"
   ]
  },
  {
   "cell_type": "code",
   "execution_count": 1,
   "metadata": {},
   "outputs": [],
   "source": [
    "import numpy as np\n",
    "import pandas as pd\n",
    "import matplotlib.pyplot as plt\n",
    "%matplotlib inline\n",
    "import seaborn as sns\n",
    "from sklearn.model_selection import train_test_split\n",
    "from sklearn.preprocessing import StandardScaler\n",
    "from sklearn.decomposition import PCA\n",
    "from sklearn.model_selection import cross_val_score\n",
    "from sklearn.pipeline import Pipeline\n",
    "import math\n",
    "from sklearn.model_selection import GridSearchCV\n",
    "from sklearn.model_selection import RandomizedSearchCV\n",
    "from sklearn.metrics import mean_squared_error, r2_score\n",
    "from sklearn.ensemble import RandomForestRegressor\n",
    "from sklearn.svm import SVR\n",
    "from sklearn.ensemble import BaggingRegressor\n",
    "from sklearn.linear_model import Ridge\n",
    "from sklearn.neighbors import KNeighborsRegressor \n",
    "from sklearn.model_selection import cross_val_score\n",
    "from sklearn.linear_model import LinearRegression\n",
    "import statsmodels.api as sm"
   ]
  },
  {
   "cell_type": "code",
   "execution_count": 2,
   "metadata": {},
   "outputs": [],
   "source": [
    "seed=42\n",
    "kf=4"
   ]
  },
  {
   "cell_type": "code",
   "execution_count": 3,
   "metadata": {},
   "outputs": [],
   "source": [
    "XY_train=pd.read_excel('X10Y10_CONC.xlsx')"
   ]
  },
  {
   "cell_type": "code",
   "execution_count": 4,
   "metadata": {},
   "outputs": [
    {
     "data": {
      "text/plain": [
       "Index(['Unnamed: 0', 'AcYear_11', 'AcYear_12', 'Std_Gender_F', 'N_Retentions',\n",
       "       'School_Size', 'Class_Size', 'Student_Computer', 'Student_Internet',\n",
       "       'Student_NumberEnrolments',\n",
       "       ...\n",
       "       'Teacher_TemporaryReplacement', 'Teacher_EducationSupport',\n",
       "       'Teacher_Age', 'Teacher_TeachingDedicatedTime',\n",
       "       'Teacher_NoTeachingDedicatedTime',\n",
       "       'Teacher_EducationSupportDedicatedTime', 'SubjClass_Foreign_Lang',\n",
       "       'SubjClass_Qual', 'SubjClass_Quant', 'FinalMark'],\n",
       "      dtype='object', length=124)"
      ]
     },
     "execution_count": 4,
     "metadata": {},
     "output_type": "execute_result"
    }
   ],
   "source": [
    "XY_train.columns"
   ]
  },
  {
   "cell_type": "code",
   "execution_count": 5,
   "metadata": {},
   "outputs": [],
   "source": [
    "LassoFeatToDrop =['Student_Internet', 'Student_ActiveWorking', 'Student_Parish',\n",
    "       'FTH_Nation_CHN', 'FTH_Nation_EEUR', 'FTH_Nation_OTHERS',\n",
    "       'FTH_Nation_RICH', 'SES_STDRESP_ProfClass_UnivII',\n",
    "       'SES_STDRESP_ProfClass_Unknown_NoProfession',\n",
    "       'SES_FATH_ProfClass_Unknown_NoProfession', 'SES_MOTH_ProfClass_BasicI',\n",
    "       'SES_MOTH_ProfClass_UnivI', 'SES_MOTH_ProfClass_Unknown_NoProfession',\n",
    "       'SES_STDRESP_JobSit_HomeAffairs', 'SES_STDRESP_JobSit_Other',\n",
    "       'SES_STDRESP_JobSit_Retired', 'SES_STDRESP_JobSit_Student',\n",
    "       'SES_STDRESP_JobSit_Unemployed', 'SES_STDRESP_JobSit_Unknown',\n",
    "       'SES_FATH_JobSit_Employer', 'SES_FATH_JobSit_HomeAffairs',\n",
    "       'SES_FATH_JobSit_Other', 'SES_FATH_JobSit_Retired',\n",
    "       'SES_FATH_JobSit_Student', 'SES_FATH_JobSit_Unknown',\n",
    "       'SES_MOTH_JobSit_HomeAffairs', 'SES_MOTH_JobSit_Other',\n",
    "       'SES_MOTH_JobSit_SelfEmployed', 'SES_MOTH_JobSit_Unemployed',\n",
    "       'SES_MOTH_JobSit_Unknown', 'SES_STDRESP_AcadEduc_Basic_II',\n",
    "       'SES_STDRESP_AcadEduc_Basic_III', 'SES_STDRESP_AcadEduc_PostGraduation',\n",
    "       'SES_STDRESP_AcadEduc_Unknown', 'SES_FATH_AcadEduc_Bachelor',\n",
    "       'SES_FATH_AcadEduc_NoFormalEducation', 'SES_FATH_AcadEduc_Other',\n",
    "       'SES_FATH_AcadEduc_PostGraduation', 'SES_FATH_AcadEduc_Unknown',\n",
    "       'SES_MOTH_AcadEduc_Bachelor', 'SES_MOTH_AcadEduc_NoFormalEducation',\n",
    "       'SES_MOTH_AcadEduc_Other', 'SES_MOTH_AcadEduc_Unknown',\n",
    "       'SES%_Parish_IliteracyRate', 'SES%_Parish_PostSecondarySchoolingRate',\n",
    "       'SES%_Parish_PrimarySector', 'Tch_FixedTermStaff',\n",
    "       'Tch_PedagogicZoneNoDefinitivePermanentStaff',\n",
    "       'Tch_SchoolClusterNoDefinitivePermanentStaff',\n",
    "       'Tch_SchoolNoDefinitivePermanentStaff', 'Tch_AcadEduc_Phd_Master',\n",
    "       'Teacher_TemporaryReplacement', 'Teacher_EducationSupport',\n",
    "       'Teacher_Age', 'Teacher_TeachingDedicatedTime',\n",
    "       'Teacher_NoTeachingDedicatedTime']"
   ]
  },
  {
   "cell_type": "code",
   "execution_count": 6,
   "metadata": {},
   "outputs": [],
   "source": [
    "XY_train=XY_train.drop(LassoFeatToDrop, axis=1)"
   ]
  },
  {
   "cell_type": "code",
   "execution_count": 7,
   "metadata": {},
   "outputs": [],
   "source": [
    "XY_train=XY_train.drop(['Unnamed: 0', 'AcYear_11', 'AcYear_12'], axis=1)"
   ]
  },
  {
   "cell_type": "code",
   "execution_count": 8,
   "metadata": {},
   "outputs": [
    {
     "data": {
      "text/plain": [
       "(32706, 65)"
      ]
     },
     "execution_count": 8,
     "metadata": {},
     "output_type": "execute_result"
    }
   ],
   "source": [
    "XY_train.shape"
   ]
  },
  {
   "cell_type": "code",
   "execution_count": 9,
   "metadata": {},
   "outputs": [],
   "source": [
    "X_train=XY_train.iloc[:,:64]\n",
    "Y_train=XY_train.iloc[:,-1]"
   ]
  },
  {
   "cell_type": "code",
   "execution_count": 10,
   "metadata": {},
   "outputs": [],
   "source": [
    "Y_train=Y_train.to_numpy()"
   ]
  },
  {
   "cell_type": "code",
   "execution_count": 11,
   "metadata": {},
   "outputs": [],
   "source": [
    "# standardization\n",
    "scaler=StandardScaler()"
   ]
  },
  {
   "cell_type": "markdown",
   "metadata": {},
   "source": [
    "## Search Grid CV"
   ]
  },
  {
   "cell_type": "markdown",
   "metadata": {},
   "source": [
    "### Random Forest"
   ]
  },
  {
   "cell_type": "code",
   "execution_count": 12,
   "metadata": {},
   "outputs": [],
   "source": [
    "rf_rgr = RandomForestRegressor(n_estimators = 50, criterion=\"mse\", min_samples_leaf=0.001,\n",
    "                               min_samples_split=0.001 , random_state=seed)"
   ]
  },
  {
   "cell_type": "code",
   "execution_count": 18,
   "metadata": {},
   "outputs": [],
   "source": [
    "n_estim= np.linspace(start=300, stop=700, num= 11)\n",
    "n_estim=n_estim.astype(int)\n",
    "\n",
    "min_samples_lf = np.linspace(start=0.001, stop=0.05, num= 50)\n",
    "min_samples_sp = np.linspace(start=0.001, stop=0.05, num= 50)\n",
    "\n",
    "params_rf = {\"rf__n_estimators\": n_estim, #[400,450,500,550,600,650,700], \n",
    "             \"rf__min_samples_leaf\":min_samples_lf,# [0.001, 0.002, 0.003, 0.004, 0.005, 0.006,0.007,0.009], #, # minimum number of samples\n",
    "              #required to be at a leaf \n",
    "              \"rf__min_samples_split\": min_samples_sp,#[0.001,0.002,0.003], # ,\n",
    "                \"rf__bootstrap\": [True, False]}#[True, False]} #bootstrap samples are used when building trees\n",
    "\n",
    "#\"rf__n_estimators\": [10, 20, 50, 100, 150, 200], # number of trees in the forest\n"
   ]
  },
  {
   "cell_type": "code",
   "execution_count": 19,
   "metadata": {},
   "outputs": [],
   "source": [
    "# Define sklearn pipeline\n",
    "estimators = []\n",
    "estimators.append(('standardize', StandardScaler()))\n",
    "estimators.append(('rf', rf_rgr))\n",
    "pipeline = Pipeline(estimators)"
   ]
  },
  {
   "cell_type": "code",
   "execution_count": 20,
   "metadata": {},
   "outputs": [],
   "source": [
    "rf_grid = RandomizedSearchCV(pipeline, params_rf,\n",
    "                           n_jobs=-1, cv=kf, n_iter=200,\n",
    "                           verbose=1, scoring='neg_mean_absolute_error', return_train_score=True)"
   ]
  },
  {
   "cell_type": "code",
   "execution_count": 22,
   "metadata": {},
   "outputs": [
    {
     "name": "stdout",
     "output_type": "stream",
     "text": [
      "Fitting 4 folds for each of 200 candidates, totalling 800 fits\n"
     ]
    },
    {
     "name": "stderr",
     "output_type": "stream",
     "text": [
      "[Parallel(n_jobs=-1)]: Using backend LokyBackend with 4 concurrent workers.\n",
      "[Parallel(n_jobs=-1)]: Done  42 tasks      | elapsed:  8.4min\n",
      "[Parallel(n_jobs=-1)]: Done 192 tasks      | elapsed: 40.9min\n",
      "[Parallel(n_jobs=-1)]: Done 442 tasks      | elapsed: 96.2min\n",
      "[Parallel(n_jobs=-1)]: Done 792 tasks      | elapsed: 172.1min\n",
      "[Parallel(n_jobs=-1)]: Done 800 out of 800 | elapsed: 173.7min finished\n"
     ]
    }
   ],
   "source": [
    "grid_result=rf_grid.fit(X_train,Y_train)"
   ]
  },
  {
   "cell_type": "code",
   "execution_count": 23,
   "metadata": {},
   "outputs": [],
   "source": [
    "df_Feat_import_gscv = pd.DataFrame(grid_result.best_estimator_.named_steps['rf'].feature_importances_)"
   ]
  },
  {
   "cell_type": "code",
   "execution_count": 24,
   "metadata": {},
   "outputs": [
    {
     "name": "stdout",
     "output_type": "stream",
     "text": [
      "Best: -2.037677 using {'rf__n_estimators': 420, 'rf__min_samples_split': 0.009000000000000001, 'rf__min_samples_leaf': 0.001, 'rf__bootstrap': True}\n",
      "-2.102719 (0.005255) with: {'rf__n_estimators': 540, 'rf__min_samples_split': 0.04, 'rf__min_samples_leaf': 0.034, 'rf__bootstrap': True}\n",
      "-2.106607 (0.005818) with: {'rf__n_estimators': 460, 'rf__min_samples_split': 0.013000000000000001, 'rf__min_samples_leaf': 0.044000000000000004, 'rf__bootstrap': False}\n",
      "-2.101118 (0.003298) with: {'rf__n_estimators': 340, 'rf__min_samples_split': 0.025, 'rf__min_samples_leaf': 0.035, 'rf__bootstrap': False}\n",
      "-2.100408 (0.003020) with: {'rf__n_estimators': 620, 'rf__min_samples_split': 0.033, 'rf__min_samples_leaf': 0.036000000000000004, 'rf__bootstrap': False}\n",
      "-2.107508 (0.005700) with: {'rf__n_estimators': 300, 'rf__min_samples_split': 0.019000000000000003, 'rf__min_samples_leaf': 0.045, 'rf__bootstrap': False}\n",
      "-2.055470 (0.004933) with: {'rf__n_estimators': 300, 'rf__min_samples_split': 0.019000000000000003, 'rf__min_samples_leaf': 0.002, 'rf__bootstrap': True}\n",
      "-2.103270 (0.004865) with: {'rf__n_estimators': 460, 'rf__min_samples_split': 0.021, 'rf__min_samples_leaf': 0.036000000000000004, 'rf__bootstrap': True}\n",
      "-2.098265 (0.002335) with: {'rf__n_estimators': 540, 'rf__min_samples_split': 0.026000000000000002, 'rf__min_samples_leaf': 0.027000000000000003, 'rf__bootstrap': False}\n",
      "-2.076716 (0.003966) with: {'rf__n_estimators': 580, 'rf__min_samples_split': 0.05, 'rf__min_samples_leaf': 0.001, 'rf__bootstrap': True}\n",
      "-2.103796 (0.004633) with: {'rf__n_estimators': 460, 'rf__min_samples_split': 0.05, 'rf__min_samples_leaf': 0.037000000000000005, 'rf__bootstrap': True}\n",
      "-2.104624 (0.004483) with: {'rf__n_estimators': 300, 'rf__min_samples_split': 0.05, 'rf__min_samples_leaf': 0.04, 'rf__bootstrap': False}\n",
      "-2.076704 (0.003582) with: {'rf__n_estimators': 620, 'rf__min_samples_split': 0.046, 'rf__min_samples_leaf': 0.003, 'rf__bootstrap': True}\n",
      "-2.105205 (0.004928) with: {'rf__n_estimators': 300, 'rf__min_samples_split': 0.02, 'rf__min_samples_leaf': 0.039, 'rf__bootstrap': True}\n",
      "-2.104624 (0.004483) with: {'rf__n_estimators': 300, 'rf__min_samples_split': 0.041, 'rf__min_samples_leaf': 0.04, 'rf__bootstrap': False}\n",
      "-2.065714 (0.004354) with: {'rf__n_estimators': 340, 'rf__min_samples_split': 0.02, 'rf__min_samples_leaf': 0.007, 'rf__bootstrap': True}\n",
      "-2.072421 (0.003064) with: {'rf__n_estimators': 540, 'rf__min_samples_split': 0.039, 'rf__min_samples_leaf': 0.004, 'rf__bootstrap': True}\n",
      "-2.091099 (0.004532) with: {'rf__n_estimators': 420, 'rf__min_samples_split': 0.009000000000000001, 'rf__min_samples_leaf': 0.018000000000000002, 'rf__bootstrap': True}\n",
      "-2.100408 (0.003020) with: {'rf__n_estimators': 300, 'rf__min_samples_split': 0.022000000000000002, 'rf__min_samples_leaf': 0.036000000000000004, 'rf__bootstrap': False}\n",
      "-2.104603 (0.004765) with: {'rf__n_estimators': 500, 'rf__min_samples_split': 0.022000000000000002, 'rf__min_samples_leaf': 0.038, 'rf__bootstrap': True}\n",
      "-2.100408 (0.003020) with: {'rf__n_estimators': 620, 'rf__min_samples_split': 0.005, 'rf__min_samples_leaf': 0.036000000000000004, 'rf__bootstrap': False}\n",
      "-2.104793 (0.004561) with: {'rf__n_estimators': 660, 'rf__min_samples_split': 0.022000000000000002, 'rf__min_samples_leaf': 0.041, 'rf__bootstrap': False}\n",
      "-2.102939 (0.005049) with: {'rf__n_estimators': 500, 'rf__min_samples_split': 0.048, 'rf__min_samples_leaf': 0.035, 'rf__bootstrap': True}\n",
      "-2.064916 (0.004236) with: {'rf__n_estimators': 580, 'rf__min_samples_split': 0.029, 'rf__min_samples_leaf': 0.003, 'rf__bootstrap': True}\n",
      "-2.110491 (0.005788) with: {'rf__n_estimators': 580, 'rf__min_samples_split': 0.031, 'rf__min_samples_leaf': 0.049, 'rf__bootstrap': False}\n",
      "-2.056529 (0.004581) with: {'rf__n_estimators': 660, 'rf__min_samples_split': 0.018000000000000002, 'rf__min_samples_leaf': 0.003, 'rf__bootstrap': True}\n",
      "-2.104793 (0.004561) with: {'rf__n_estimators': 620, 'rf__min_samples_split': 0.041, 'rf__min_samples_leaf': 0.041, 'rf__bootstrap': False}\n",
      "-2.098113 (0.002618) with: {'rf__n_estimators': 580, 'rf__min_samples_split': 0.02, 'rf__min_samples_leaf': 0.026000000000000002, 'rf__bootstrap': False}\n",
      "-2.096192 (0.002093) with: {'rf__n_estimators': 700, 'rf__min_samples_split': 0.008, 'rf__min_samples_leaf': 0.021, 'rf__bootstrap': False}\n",
      "-2.096942 (0.001712) with: {'rf__n_estimators': 420, 'rf__min_samples_split': 0.046, 'rf__min_samples_leaf': 0.022000000000000002, 'rf__bootstrap': False}\n",
      "-2.106350 (0.005300) with: {'rf__n_estimators': 300, 'rf__min_samples_split': 0.032, 'rf__min_samples_leaf': 0.048, 'rf__bootstrap': True}\n",
      "-2.106350 (0.005300) with: {'rf__n_estimators': 300, 'rf__min_samples_split': 0.027000000000000003, 'rf__min_samples_leaf': 0.048, 'rf__bootstrap': True}\n",
      "-2.097240 (0.001831) with: {'rf__n_estimators': 620, 'rf__min_samples_split': 0.049, 'rf__min_samples_leaf': 0.024, 'rf__bootstrap': False}\n",
      "-2.090762 (0.003122) with: {'rf__n_estimators': 500, 'rf__min_samples_split': 0.04, 'rf__min_samples_leaf': 0.019000000000000003, 'rf__bootstrap': False}\n",
      "-2.103314 (0.004811) with: {'rf__n_estimators': 340, 'rf__min_samples_split': 0.046, 'rf__min_samples_leaf': 0.036000000000000004, 'rf__bootstrap': True}\n",
      "-2.077904 (0.002901) with: {'rf__n_estimators': 340, 'rf__min_samples_split': 0.041, 'rf__min_samples_leaf': 0.008, 'rf__bootstrap': False}\n",
      "-2.106262 (0.005640) with: {'rf__n_estimators': 540, 'rf__min_samples_split': 0.013000000000000001, 'rf__min_samples_leaf': 0.045, 'rf__bootstrap': True}\n",
      "-2.093390 (0.004659) with: {'rf__n_estimators': 540, 'rf__min_samples_split': 0.044000000000000004, 'rf__min_samples_leaf': 0.022000000000000002, 'rf__bootstrap': True}\n",
      "-2.090338 (0.003350) with: {'rf__n_estimators': 660, 'rf__min_samples_split': 0.049, 'rf__min_samples_leaf': 0.013000000000000001, 'rf__bootstrap': True}\n",
      "-2.078071 (0.002882) with: {'rf__n_estimators': 660, 'rf__min_samples_split': 0.001, 'rf__min_samples_leaf': 0.008, 'rf__bootstrap': False}\n",
      "-2.108725 (0.004504) with: {'rf__n_estimators': 340, 'rf__min_samples_split': 0.043000000000000003, 'rf__min_samples_leaf': 0.05, 'rf__bootstrap': True}\n",
      "-2.102655 (0.005220) with: {'rf__n_estimators': 340, 'rf__min_samples_split': 0.012, 'rf__min_samples_leaf': 0.034, 'rf__bootstrap': True}\n",
      "-2.067970 (0.004536) with: {'rf__n_estimators': 660, 'rf__min_samples_split': 0.002, 'rf__min_samples_leaf': 0.009000000000000001, 'rf__bootstrap': True}\n",
      "-2.097091 (0.002108) with: {'rf__n_estimators': 300, 'rf__min_samples_split': 0.011, 'rf__min_samples_leaf': 0.022000000000000002, 'rf__bootstrap': False}\n",
      "-2.105631 (0.005052) with: {'rf__n_estimators': 540, 'rf__min_samples_split': 0.049, 'rf__min_samples_leaf': 0.042, 'rf__bootstrap': True}\n",
      "-2.101255 (0.003603) with: {'rf__n_estimators': 380, 'rf__min_samples_split': 0.015, 'rf__min_samples_leaf': 0.037000000000000005, 'rf__bootstrap': False}\n",
      "-2.091646 (0.002873) with: {'rf__n_estimators': 540, 'rf__min_samples_split': 0.010000000000000002, 'rf__min_samples_leaf': 0.018000000000000002, 'rf__bootstrap': False}\n",
      "-2.084859 (0.003461) with: {'rf__n_estimators': 500, 'rf__min_samples_split': 0.014000000000000002, 'rf__min_samples_leaf': 0.014000000000000002, 'rf__bootstrap': True}\n",
      "-2.104562 (0.004325) with: {'rf__n_estimators': 700, 'rf__min_samples_split': 0.042, 'rf__min_samples_leaf': 0.042, 'rf__bootstrap': False}\n",
      "-2.090218 (0.002548) with: {'rf__n_estimators': 580, 'rf__min_samples_split': 0.014000000000000002, 'rf__min_samples_leaf': 0.019000000000000003, 'rf__bootstrap': False}\n",
      "-2.106607 (0.005818) with: {'rf__n_estimators': 380, 'rf__min_samples_split': 0.014000000000000002, 'rf__min_samples_leaf': 0.044000000000000004, 'rf__bootstrap': False}\n",
      "-2.098265 (0.002335) with: {'rf__n_estimators': 420, 'rf__min_samples_split': 0.001, 'rf__min_samples_leaf': 0.027000000000000003, 'rf__bootstrap': False}\n",
      "-2.100910 (0.003310) with: {'rf__n_estimators': 580, 'rf__min_samples_split': 0.015, 'rf__min_samples_leaf': 0.034, 'rf__bootstrap': False}\n",
      "-2.047897 (0.004794) with: {'rf__n_estimators': 380, 'rf__min_samples_split': 0.001, 'rf__min_samples_leaf': 0.004, 'rf__bootstrap': True}\n",
      "-2.108896 (0.004507) with: {'rf__n_estimators': 540, 'rf__min_samples_split': 0.010000000000000002, 'rf__min_samples_leaf': 0.047, 'rf__bootstrap': False}\n",
      "-2.106217 (0.005724) with: {'rf__n_estimators': 540, 'rf__min_samples_split': 0.04, 'rf__min_samples_leaf': 0.046, 'rf__bootstrap': True}\n",
      "-2.066243 (0.004149) with: {'rf__n_estimators': 340, 'rf__min_samples_split': 0.031, 'rf__min_samples_leaf': 0.003, 'rf__bootstrap': True}\n",
      "-2.082322 (0.004172) with: {'rf__n_estimators': 420, 'rf__min_samples_split': 0.049, 'rf__min_samples_leaf': 0.008, 'rf__bootstrap': True}\n",
      "-2.091646 (0.002873) with: {'rf__n_estimators': 380, 'rf__min_samples_split': 0.022000000000000002, 'rf__min_samples_leaf': 0.018000000000000002, 'rf__bootstrap': False}\n",
      "-2.096583 (0.004781) with: {'rf__n_estimators': 660, 'rf__min_samples_split': 0.016, 'rf__min_samples_leaf': 0.026000000000000002, 'rf__bootstrap': True}\n",
      "-2.061572 (0.004481) with: {'rf__n_estimators': 620, 'rf__min_samples_split': 0.027000000000000003, 'rf__min_samples_leaf': 0.002, 'rf__bootstrap': True}\n",
      "-2.090218 (0.002548) with: {'rf__n_estimators': 380, 'rf__min_samples_split': 0.028, 'rf__min_samples_leaf': 0.019000000000000003, 'rf__bootstrap': False}\n",
      "-2.082157 (0.003332) with: {'rf__n_estimators': 340, 'rf__min_samples_split': 0.005, 'rf__min_samples_leaf': 0.013000000000000001, 'rf__bootstrap': True}\n",
      "-2.105619 (0.005084) with: {'rf__n_estimators': 420, 'rf__min_samples_split': 0.012, 'rf__min_samples_leaf': 0.043000000000000003, 'rf__bootstrap': False}\n",
      "-2.070506 (0.004258) with: {'rf__n_estimators': 500, 'rf__min_samples_split': 0.028, 'rf__min_samples_leaf': 0.008, 'rf__bootstrap': True}\n",
      "-2.099059 (0.002436) with: {'rf__n_estimators': 540, 'rf__min_samples_split': 0.048, 'rf__min_samples_leaf': 0.028, 'rf__bootstrap': False}\n",
      "-2.086857 (0.003787) with: {'rf__n_estimators': 500, 'rf__min_samples_split': 0.025, 'rf__min_samples_leaf': 0.015, 'rf__bootstrap': True}\n",
      "-2.078458 (0.004348) with: {'rf__n_estimators': 380, 'rf__min_samples_split': 0.04, 'rf__min_samples_leaf': 0.011, 'rf__bootstrap': False}\n",
      "-2.095836 (0.005328) with: {'rf__n_estimators': 340, 'rf__min_samples_split': 0.028, 'rf__min_samples_leaf': 0.025, 'rf__bootstrap': True}\n",
      "-2.088602 (0.004410) with: {'rf__n_estimators': 340, 'rf__min_samples_split': 0.032, 'rf__min_samples_leaf': 0.016, 'rf__bootstrap': True}\n",
      "-2.091197 (0.004423) with: {'rf__n_estimators': 700, 'rf__min_samples_split': 0.008, 'rf__min_samples_leaf': 0.018000000000000002, 'rf__bootstrap': True}\n",
      "-2.099687 (0.002966) with: {'rf__n_estimators': 500, 'rf__min_samples_split': 0.038, 'rf__min_samples_leaf': 0.029, 'rf__bootstrap': False}\n",
      "-2.099687 (0.002966) with: {'rf__n_estimators': 420, 'rf__min_samples_split': 0.011, 'rf__min_samples_leaf': 0.029, 'rf__bootstrap': False}\n",
      "-2.106380 (0.005857) with: {'rf__n_estimators': 700, 'rf__min_samples_split': 0.004, 'rf__min_samples_leaf': 0.046, 'rf__bootstrap': True}\n",
      "-2.104554 (0.005574) with: {'rf__n_estimators': 420, 'rf__min_samples_split': 0.033, 'rf__min_samples_leaf': 0.039, 'rf__bootstrap': False}\n",
      "-2.098961 (0.005419) with: {'rf__n_estimators': 300, 'rf__min_samples_split': 0.021, 'rf__min_samples_leaf': 0.029, 'rf__bootstrap': True}\n",
      "-2.091646 (0.002873) with: {'rf__n_estimators': 300, 'rf__min_samples_split': 0.018000000000000002, 'rf__min_samples_leaf': 0.018000000000000002, 'rf__bootstrap': False}\n",
      "-2.064760 (0.004370) with: {'rf__n_estimators': 620, 'rf__min_samples_split': 0.018000000000000002, 'rf__min_samples_leaf': 0.007, 'rf__bootstrap': True}\n",
      "-2.081801 (0.004184) with: {'rf__n_estimators': 340, 'rf__min_samples_split': 0.047, 'rf__min_samples_leaf': 0.008, 'rf__bootstrap': True}\n",
      "-2.108473 (0.004500) with: {'rf__n_estimators': 420, 'rf__min_samples_split': 0.027000000000000003, 'rf__min_samples_leaf': 0.05, 'rf__bootstrap': True}\n",
      "-2.101822 (0.005680) with: {'rf__n_estimators': 380, 'rf__min_samples_split': 0.007, 'rf__min_samples_leaf': 0.031, 'rf__bootstrap': True}\n",
      "-2.070863 (0.003881) with: {'rf__n_estimators': 300, 'rf__min_samples_split': 0.038, 'rf__min_samples_leaf': 0.002, 'rf__bootstrap': False}\n",
      "-2.096909 (0.001636) with: {'rf__n_estimators': 340, 'rf__min_samples_split': 0.012, 'rf__min_samples_leaf': 0.024, 'rf__bootstrap': False}\n",
      "-2.073172 (0.003254) with: {'rf__n_estimators': 700, 'rf__min_samples_split': 0.037000000000000005, 'rf__min_samples_leaf': 0.005, 'rf__bootstrap': True}\n",
      "-2.096909 (0.001636) with: {'rf__n_estimators': 700, 'rf__min_samples_split': 0.033, 'rf__min_samples_leaf': 0.024, 'rf__bootstrap': False}\n",
      "-2.067869 (0.004414) with: {'rf__n_estimators': 420, 'rf__min_samples_split': 0.018000000000000002, 'rf__min_samples_leaf': 0.009000000000000001, 'rf__bootstrap': True}\n",
      "-2.102925 (0.004934) with: {'rf__n_estimators': 300, 'rf__min_samples_split': 0.044000000000000004, 'rf__min_samples_leaf': 0.035, 'rf__bootstrap': True}\n",
      "-2.037677 (0.005388) with: {'rf__n_estimators': 420, 'rf__min_samples_split': 0.009000000000000001, 'rf__min_samples_leaf': 0.001, 'rf__bootstrap': True}\n",
      "-2.070944 (0.005820) with: {'rf__n_estimators': 540, 'rf__min_samples_split': 0.042, 'rf__min_samples_leaf': 0.001, 'rf__bootstrap': False}\n",
      "-2.104562 (0.004325) with: {'rf__n_estimators': 380, 'rf__min_samples_split': 0.033, 'rf__min_samples_leaf': 0.042, 'rf__bootstrap': False}\n",
      "-2.080461 (0.003546) with: {'rf__n_estimators': 460, 'rf__min_samples_split': 0.041, 'rf__min_samples_leaf': 0.012, 'rf__bootstrap': False}\n",
      "-2.071820 (0.006931) with: {'rf__n_estimators': 540, 'rf__min_samples_split': 0.032, 'rf__min_samples_leaf': 0.003, 'rf__bootstrap': False}\n",
      "-2.077970 (0.003746) with: {'rf__n_estimators': 460, 'rf__min_samples_split': 0.038, 'rf__min_samples_leaf': 0.009000000000000001, 'rf__bootstrap': True}\n",
      "-2.100910 (0.003310) with: {'rf__n_estimators': 500, 'rf__min_samples_split': 0.034, 'rf__min_samples_leaf': 0.034, 'rf__bootstrap': False}\n",
      "-2.057863 (0.004605) with: {'rf__n_estimators': 700, 'rf__min_samples_split': 0.025, 'rf__min_samples_leaf': 0.001, 'rf__bootstrap': True}\n",
      "-2.105213 (0.005000) with: {'rf__n_estimators': 500, 'rf__min_samples_split': 0.034, 'rf__min_samples_leaf': 0.039, 'rf__bootstrap': True}\n",
      "-2.098968 (0.005482) with: {'rf__n_estimators': 460, 'rf__min_samples_split': 0.021, 'rf__min_samples_leaf': 0.029, 'rf__bootstrap': True}\n",
      "-2.092780 (0.004703) with: {'rf__n_estimators': 380, 'rf__min_samples_split': 0.037000000000000005, 'rf__min_samples_leaf': 0.021, 'rf__bootstrap': True}\n",
      "-2.105492 (0.004863) with: {'rf__n_estimators': 380, 'rf__min_samples_split': 0.018000000000000002, 'rf__min_samples_leaf': 0.04, 'rf__bootstrap': True}\n",
      "-2.073607 (0.005108) with: {'rf__n_estimators': 380, 'rf__min_samples_split': 0.032, 'rf__min_samples_leaf': 0.005, 'rf__bootstrap': False}\n",
      "-2.069670 (0.006470) with: {'rf__n_estimators': 420, 'rf__min_samples_split': 0.034, 'rf__min_samples_leaf': 0.002, 'rf__bootstrap': False}\n",
      "-2.102361 (0.005542) with: {'rf__n_estimators': 380, 'rf__min_samples_split': 0.04, 'rf__min_samples_leaf': 0.032, 'rf__bootstrap': True}\n",
      "-2.093268 (0.004736) with: {'rf__n_estimators': 420, 'rf__min_samples_split': 0.026000000000000002, 'rf__min_samples_leaf': 0.022000000000000002, 'rf__bootstrap': True}\n",
      "-2.082776 (0.003323) with: {'rf__n_estimators': 620, 'rf__min_samples_split': 0.049, 'rf__min_samples_leaf': 0.012, 'rf__bootstrap': False}\n",
      "-2.091357 (0.004376) with: {'rf__n_estimators': 660, 'rf__min_samples_split': 0.041, 'rf__min_samples_leaf': 0.017, 'rf__bootstrap': True}\n",
      "-2.105705 (0.004840) with: {'rf__n_estimators': 620, 'rf__min_samples_split': 0.019000000000000003, 'rf__min_samples_leaf': 0.041, 'rf__bootstrap': True}\n",
      "-2.080054 (0.003980) with: {'rf__n_estimators': 540, 'rf__min_samples_split': 0.029, 'rf__min_samples_leaf': 0.013000000000000001, 'rf__bootstrap': False}\n",
      "-2.059141 (0.004836) with: {'rf__n_estimators': 620, 'rf__min_samples_split': 0.016, 'rf__min_samples_leaf': 0.005, 'rf__bootstrap': True}\n",
      "-2.105647 (0.004977) with: {'rf__n_estimators': 660, 'rf__min_samples_split': 0.006, 'rf__min_samples_leaf': 0.04, 'rf__bootstrap': True}\n",
      "-2.110491 (0.005788) with: {'rf__n_estimators': 420, 'rf__min_samples_split': 0.046, 'rf__min_samples_leaf': 0.049, 'rf__bootstrap': False}\n",
      "-2.102775 (0.005256) with: {'rf__n_estimators': 700, 'rf__min_samples_split': 0.024, 'rf__min_samples_leaf': 0.034, 'rf__bootstrap': True}\n",
      "-2.098113 (0.002618) with: {'rf__n_estimators': 620, 'rf__min_samples_split': 0.030000000000000002, 'rf__min_samples_leaf': 0.026000000000000002, 'rf__bootstrap': False}\n",
      "-2.095432 (0.002191) with: {'rf__n_estimators': 500, 'rf__min_samples_split': 0.05, 'rf__min_samples_leaf': 0.017, 'rf__bootstrap': False}\n",
      "-2.091646 (0.002873) with: {'rf__n_estimators': 300, 'rf__min_samples_split': 0.035, 'rf__min_samples_leaf': 0.018000000000000002, 'rf__bootstrap': False}\n",
      "-2.108344 (0.004535) with: {'rf__n_estimators': 660, 'rf__min_samples_split': 0.046, 'rf__min_samples_leaf': 0.046, 'rf__bootstrap': False}\n",
      "-2.106095 (0.005566) with: {'rf__n_estimators': 620, 'rf__min_samples_split': 0.014000000000000002, 'rf__min_samples_leaf': 0.043000000000000003, 'rf__bootstrap': True}\n",
      "-2.098113 (0.002618) with: {'rf__n_estimators': 500, 'rf__min_samples_split': 0.011, 'rf__min_samples_leaf': 0.026000000000000002, 'rf__bootstrap': False}\n",
      "-2.099064 (0.005448) with: {'rf__n_estimators': 580, 'rf__min_samples_split': 0.027000000000000003, 'rf__min_samples_leaf': 0.029, 'rf__bootstrap': True}\n",
      "-2.090645 (0.003662) with: {'rf__n_estimators': 340, 'rf__min_samples_split': 0.044000000000000004, 'rf__min_samples_leaf': 0.016, 'rf__bootstrap': False}\n",
      "-2.075247 (0.004865) with: {'rf__n_estimators': 380, 'rf__min_samples_split': 0.009000000000000001, 'rf__min_samples_leaf': 0.003, 'rf__bootstrap': False}\n",
      "-2.105574 (0.004975) with: {'rf__n_estimators': 420, 'rf__min_samples_split': 0.027000000000000003, 'rf__min_samples_leaf': 0.042, 'rf__bootstrap': True}\n",
      "-2.105316 (0.005000) with: {'rf__n_estimators': 700, 'rf__min_samples_split': 0.026000000000000002, 'rf__min_samples_leaf': 0.039, 'rf__bootstrap': True}\n",
      "-2.081184 (0.004271) with: {'rf__n_estimators': 580, 'rf__min_samples_split': 0.016, 'rf__min_samples_leaf': 0.014000000000000002, 'rf__bootstrap': False}\n",
      "-2.110491 (0.005788) with: {'rf__n_estimators': 660, 'rf__min_samples_split': 0.034, 'rf__min_samples_leaf': 0.049, 'rf__bootstrap': False}\n",
      "-2.099000 (0.005417) with: {'rf__n_estimators': 620, 'rf__min_samples_split': 0.05, 'rf__min_samples_leaf': 0.029, 'rf__bootstrap': True}\n",
      "-2.072417 (0.006341) with: {'rf__n_estimators': 540, 'rf__min_samples_split': 0.021, 'rf__min_samples_leaf': 0.002, 'rf__bootstrap': False}\n",
      "-2.106277 (0.005498) with: {'rf__n_estimators': 300, 'rf__min_samples_split': 0.032, 'rf__min_samples_leaf': 0.045, 'rf__bootstrap': True}\n",
      "-2.092304 (0.004591) with: {'rf__n_estimators': 300, 'rf__min_samples_split': 0.038, 'rf__min_samples_leaf': 0.02, 'rf__bootstrap': True}\n",
      "-2.076384 (0.003474) with: {'rf__n_estimators': 460, 'rf__min_samples_split': 0.037000000000000005, 'rf__min_samples_leaf': 0.008, 'rf__bootstrap': True}\n",
      "-2.106331 (0.005787) with: {'rf__n_estimators': 580, 'rf__min_samples_split': 0.015, 'rf__min_samples_leaf': 0.046, 'rf__bootstrap': True}\n",
      "-2.106371 (0.005904) with: {'rf__n_estimators': 660, 'rf__min_samples_split': 0.028, 'rf__min_samples_leaf': 0.046, 'rf__bootstrap': True}\n",
      "-2.097081 (0.001981) with: {'rf__n_estimators': 420, 'rf__min_samples_split': 0.022000000000000002, 'rf__min_samples_leaf': 0.023, 'rf__bootstrap': False}\n",
      "-2.099687 (0.002966) with: {'rf__n_estimators': 460, 'rf__min_samples_split': 0.007, 'rf__min_samples_leaf': 0.029, 'rf__bootstrap': False}\n",
      "-2.110121 (0.005490) with: {'rf__n_estimators': 420, 'rf__min_samples_split': 0.004, 'rf__min_samples_leaf': 0.05, 'rf__bootstrap': False}\n",
      "-2.098942 (0.005452) with: {'rf__n_estimators': 420, 'rf__min_samples_split': 0.022000000000000002, 'rf__min_samples_leaf': 0.029, 'rf__bootstrap': True}\n",
      "-2.105508 (0.004919) with: {'rf__n_estimators': 420, 'rf__min_samples_split': 0.007, 'rf__min_samples_leaf': 0.04, 'rf__bootstrap': True}\n",
      "-2.098265 (0.002335) with: {'rf__n_estimators': 540, 'rf__min_samples_split': 0.003, 'rf__min_samples_leaf': 0.027000000000000003, 'rf__bootstrap': False}\n",
      "-2.099687 (0.002966) with: {'rf__n_estimators': 340, 'rf__min_samples_split': 0.04, 'rf__min_samples_leaf': 0.029, 'rf__bootstrap': False}\n",
      "-2.096479 (0.004833) with: {'rf__n_estimators': 460, 'rf__min_samples_split': 0.009000000000000001, 'rf__min_samples_leaf': 0.026000000000000002, 'rf__bootstrap': True}\n",
      "-2.092773 (0.003219) with: {'rf__n_estimators': 460, 'rf__min_samples_split': 0.045, 'rf__min_samples_leaf': 0.017, 'rf__bootstrap': False}\n",
      "-2.093426 (0.004665) with: {'rf__n_estimators': 580, 'rf__min_samples_split': 0.030000000000000002, 'rf__min_samples_leaf': 0.022000000000000002, 'rf__bootstrap': True}\n",
      "-2.093109 (0.001987) with: {'rf__n_estimators': 380, 'rf__min_samples_split': 0.007, 'rf__min_samples_leaf': 0.02, 'rf__bootstrap': False}\n",
      "-2.098265 (0.002335) with: {'rf__n_estimators': 420, 'rf__min_samples_split': 0.003, 'rf__min_samples_leaf': 0.027000000000000003, 'rf__bootstrap': False}\n",
      "-2.110121 (0.005490) with: {'rf__n_estimators': 540, 'rf__min_samples_split': 0.017, 'rf__min_samples_leaf': 0.05, 'rf__bootstrap': False}\n",
      "-2.086245 (0.003356) with: {'rf__n_estimators': 460, 'rf__min_samples_split': 0.034, 'rf__min_samples_leaf': 0.013000000000000001, 'rf__bootstrap': True}\n",
      "-2.104562 (0.004325) with: {'rf__n_estimators': 580, 'rf__min_samples_split': 0.036000000000000004, 'rf__min_samples_leaf': 0.042, 'rf__bootstrap': False}\n",
      "-2.082382 (0.003372) with: {'rf__n_estimators': 500, 'rf__min_samples_split': 0.043000000000000003, 'rf__min_samples_leaf': 0.014000000000000002, 'rf__bootstrap': False}\n",
      "-2.095670 (0.002415) with: {'rf__n_estimators': 540, 'rf__min_samples_split': 0.045, 'rf__min_samples_leaf': 0.02, 'rf__bootstrap': False}\n",
      "-2.110491 (0.005788) with: {'rf__n_estimators': 460, 'rf__min_samples_split': 0.02, 'rf__min_samples_leaf': 0.049, 'rf__bootstrap': False}\n",
      "-2.050732 (0.004986) with: {'rf__n_estimators': 580, 'rf__min_samples_split': 0.017, 'rf__min_samples_leaf': 0.001, 'rf__bootstrap': True}\n",
      "-2.109838 (0.005144) with: {'rf__n_estimators': 540, 'rf__min_samples_split': 0.011, 'rf__min_samples_leaf': 0.048, 'rf__bootstrap': False}\n",
      "-2.104793 (0.004561) with: {'rf__n_estimators': 580, 'rf__min_samples_split': 0.044000000000000004, 'rf__min_samples_leaf': 0.041, 'rf__bootstrap': False}\n",
      "-2.104562 (0.004325) with: {'rf__n_estimators': 700, 'rf__min_samples_split': 0.024, 'rf__min_samples_leaf': 0.042, 'rf__bootstrap': False}\n",
      "-2.079248 (0.003819) with: {'rf__n_estimators': 540, 'rf__min_samples_split': 0.026000000000000002, 'rf__min_samples_leaf': 0.013000000000000001, 'rf__bootstrap': False}\n",
      "-2.110121 (0.005490) with: {'rf__n_estimators': 380, 'rf__min_samples_split': 0.041, 'rf__min_samples_leaf': 0.05, 'rf__bootstrap': False}\n",
      "-2.102530 (0.005645) with: {'rf__n_estimators': 580, 'rf__min_samples_split': 0.024, 'rf__min_samples_leaf': 0.032, 'rf__bootstrap': True}\n",
      "-2.084305 (0.003698) with: {'rf__n_estimators': 500, 'rf__min_samples_split': 0.046, 'rf__min_samples_leaf': 0.015, 'rf__bootstrap': False}\n",
      "-2.083006 (0.003470) with: {'rf__n_estimators': 660, 'rf__min_samples_split': 0.047, 'rf__min_samples_leaf': 0.014000000000000002, 'rf__bootstrap': False}\n",
      "-2.090832 (0.003908) with: {'rf__n_estimators': 620, 'rf__min_samples_split': 0.039, 'rf__min_samples_leaf': 0.016, 'rf__bootstrap': True}\n",
      "-2.104088 (0.005985) with: {'rf__n_estimators': 500, 'rf__min_samples_split': 0.035, 'rf__min_samples_leaf': 0.038, 'rf__bootstrap': False}\n",
      "-2.094466 (0.004849) with: {'rf__n_estimators': 700, 'rf__min_samples_split': 0.048, 'rf__min_samples_leaf': 0.023, 'rf__bootstrap': True}\n",
      "-2.100408 (0.003020) with: {'rf__n_estimators': 580, 'rf__min_samples_split': 0.047, 'rf__min_samples_leaf': 0.036000000000000004, 'rf__bootstrap': False}\n",
      "-2.093399 (0.004582) with: {'rf__n_estimators': 700, 'rf__min_samples_split': 0.006, 'rf__min_samples_leaf': 0.022000000000000002, 'rf__bootstrap': True}\n",
      "-2.075457 (0.003511) with: {'rf__n_estimators': 620, 'rf__min_samples_split': 0.043000000000000003, 'rf__min_samples_leaf': 0.003, 'rf__bootstrap': True}\n",
      "-2.104624 (0.004483) with: {'rf__n_estimators': 500, 'rf__min_samples_split': 0.023, 'rf__min_samples_leaf': 0.04, 'rf__bootstrap': False}\n",
      "-2.092789 (0.004543) with: {'rf__n_estimators': 660, 'rf__min_samples_split': 0.045, 'rf__min_samples_leaf': 0.02, 'rf__bootstrap': True}\n",
      "-2.076682 (0.003807) with: {'rf__n_estimators': 700, 'rf__min_samples_split': 0.003, 'rf__min_samples_leaf': 0.004, 'rf__bootstrap': False}\n",
      "-2.100306 (0.002533) with: {'rf__n_estimators': 660, 'rf__min_samples_split': 0.014000000000000002, 'rf__min_samples_leaf': 0.030000000000000002, 'rf__bootstrap': False}\n",
      "-2.091646 (0.002873) with: {'rf__n_estimators': 460, 'rf__min_samples_split': 0.011, 'rf__min_samples_leaf': 0.018000000000000002, 'rf__bootstrap': False}\n",
      "-2.100516 (0.002499) with: {'rf__n_estimators': 660, 'rf__min_samples_split': 0.05, 'rf__min_samples_leaf': 0.031, 'rf__bootstrap': False}\n",
      "-2.102005 (0.005748) with: {'rf__n_estimators': 580, 'rf__min_samples_split': 0.032, 'rf__min_samples_leaf': 0.031, 'rf__bootstrap': True}\n",
      "-2.105556 (0.004906) with: {'rf__n_estimators': 340, 'rf__min_samples_split': 0.003, 'rf__min_samples_leaf': 0.04, 'rf__bootstrap': True}\n",
      "-2.079086 (0.009190) with: {'rf__n_estimators': 340, 'rf__min_samples_split': 0.006, 'rf__min_samples_leaf': 0.002, 'rf__bootstrap': False}\n",
      "-2.097081 (0.001981) with: {'rf__n_estimators': 500, 'rf__min_samples_split': 0.038, 'rf__min_samples_leaf': 0.023, 'rf__bootstrap': False}\n",
      "-2.088142 (0.003410) with: {'rf__n_estimators': 540, 'rf__min_samples_split': 0.047, 'rf__min_samples_leaf': 0.011, 'rf__bootstrap': True}\n",
      "-2.093390 (0.004659) with: {'rf__n_estimators': 540, 'rf__min_samples_split': 0.002, 'rf__min_samples_leaf': 0.022000000000000002, 'rf__bootstrap': True}\n",
      "-2.102417 (0.005593) with: {'rf__n_estimators': 300, 'rf__min_samples_split': 0.009000000000000001, 'rf__min_samples_leaf': 0.032, 'rf__bootstrap': True}\n",
      "-2.078071 (0.002882) with: {'rf__n_estimators': 580, 'rf__min_samples_split': 0.015, 'rf__min_samples_leaf': 0.008, 'rf__bootstrap': False}\n",
      "-2.104554 (0.005574) with: {'rf__n_estimators': 380, 'rf__min_samples_split': 0.049, 'rf__min_samples_leaf': 0.039, 'rf__bootstrap': False}\n",
      "-2.103868 (0.004625) with: {'rf__n_estimators': 540, 'rf__min_samples_split': 0.001, 'rf__min_samples_leaf': 0.037000000000000005, 'rf__bootstrap': True}\n",
      "-2.092966 (0.004610) with: {'rf__n_estimators': 700, 'rf__min_samples_split': 0.002, 'rf__min_samples_leaf': 0.021, 'rf__bootstrap': True}\n",
      "-2.098942 (0.005452) with: {'rf__n_estimators': 420, 'rf__min_samples_split': 0.003, 'rf__min_samples_leaf': 0.029, 'rf__bootstrap': True}\n",
      "-2.091646 (0.002873) with: {'rf__n_estimators': 460, 'rf__min_samples_split': 0.035, 'rf__min_samples_leaf': 0.018000000000000002, 'rf__bootstrap': False}\n",
      "-2.076136 (0.003800) with: {'rf__n_estimators': 620, 'rf__min_samples_split': 0.042, 'rf__min_samples_leaf': 0.005, 'rf__bootstrap': True}\n",
      "-2.101884 (0.005723) with: {'rf__n_estimators': 300, 'rf__min_samples_split': 0.004, 'rf__min_samples_leaf': 0.031, 'rf__bootstrap': True}\n",
      "-2.088666 (0.004372) with: {'rf__n_estimators': 660, 'rf__min_samples_split': 0.023, 'rf__min_samples_leaf': 0.016, 'rf__bootstrap': True}\n",
      "-2.093109 (0.001987) with: {'rf__n_estimators': 300, 'rf__min_samples_split': 0.02, 'rf__min_samples_leaf': 0.02, 'rf__bootstrap': False}\n",
      "-2.082382 (0.003372) with: {'rf__n_estimators': 660, 'rf__min_samples_split': 0.042, 'rf__min_samples_leaf': 0.014000000000000002, 'rf__bootstrap': False}\n",
      "-2.098228 (0.005072) with: {'rf__n_estimators': 660, 'rf__min_samples_split': 0.014000000000000002, 'rf__min_samples_leaf': 0.028, 'rf__bootstrap': True}\n",
      "-2.094162 (0.004952) with: {'rf__n_estimators': 500, 'rf__min_samples_split': 0.030000000000000002, 'rf__min_samples_leaf': 0.023, 'rf__bootstrap': True}\n",
      "-2.104554 (0.005574) with: {'rf__n_estimators': 620, 'rf__min_samples_split': 0.031, 'rf__min_samples_leaf': 0.039, 'rf__bootstrap': False}\n",
      "-2.097091 (0.002108) with: {'rf__n_estimators': 380, 'rf__min_samples_split': 0.002, 'rf__min_samples_leaf': 0.022000000000000002, 'rf__bootstrap': False}\n",
      "-2.110491 (0.005788) with: {'rf__n_estimators': 460, 'rf__min_samples_split': 0.041, 'rf__min_samples_leaf': 0.049, 'rf__bootstrap': False}\n",
      "-2.109838 (0.005144) with: {'rf__n_estimators': 300, 'rf__min_samples_split': 0.024, 'rf__min_samples_leaf': 0.048, 'rf__bootstrap': False}\n",
      "-2.089769 (0.003267) with: {'rf__n_estimators': 300, 'rf__min_samples_split': 0.047, 'rf__min_samples_leaf': 0.013000000000000001, 'rf__bootstrap': True}\n",
      "-2.106350 (0.005300) with: {'rf__n_estimators': 300, 'rf__min_samples_split': 0.014000000000000002, 'rf__min_samples_leaf': 0.048, 'rf__bootstrap': True}\n",
      "-2.105136 (0.004932) with: {'rf__n_estimators': 420, 'rf__min_samples_split': 0.025, 'rf__min_samples_leaf': 0.039, 'rf__bootstrap': True}\n",
      "-2.100516 (0.002499) with: {'rf__n_estimators': 300, 'rf__min_samples_split': 0.046, 'rf__min_samples_leaf': 0.031, 'rf__bootstrap': False}\n",
      "-2.104088 (0.005985) with: {'rf__n_estimators': 420, 'rf__min_samples_split': 0.017, 'rf__min_samples_leaf': 0.038, 'rf__bootstrap': False}\n",
      "-2.110121 (0.005490) with: {'rf__n_estimators': 380, 'rf__min_samples_split': 0.044000000000000004, 'rf__min_samples_leaf': 0.05, 'rf__bootstrap': False}\n",
      "-2.090185 (0.003906) with: {'rf__n_estimators': 700, 'rf__min_samples_split': 0.036000000000000004, 'rf__min_samples_leaf': 0.016, 'rf__bootstrap': True}\n"
     ]
    }
   ],
   "source": [
    "# summarize results\n",
    "\n",
    "print(\"Best: %f using %s\" % (grid_result.best_score_, grid_result.best_params_))\n",
    "means=grid_result.cv_results_['mean_test_score']\n",
    "stds=grid_result.cv_results_['std_test_score']\n",
    "params=grid_result.cv_results_['params']\n",
    "\n",
    "for mean, stdev, param in zip(means,stds, params):\n",
    "    print (\"%f (%f) with: %r\" % (mean,stdev,param))"
   ]
  },
  {
   "cell_type": "code",
   "execution_count": 25,
   "metadata": {},
   "outputs": [],
   "source": [
    "df_resgscv_rf=pd.DataFrame(grid_result.cv_results_)"
   ]
  },
  {
   "cell_type": "code",
   "execution_count": 26,
   "metadata": {},
   "outputs": [
    {
     "data": {
      "text/plain": [
       "{'rf__n_estimators': 420,\n",
       " 'rf__min_samples_split': 0.009000000000000001,\n",
       " 'rf__min_samples_leaf': 0.001,\n",
       " 'rf__bootstrap': True}"
      ]
     },
     "execution_count": 26,
     "metadata": {},
     "output_type": "execute_result"
    }
   ],
   "source": [
    "grid_result.best_params_"
   ]
  },
  {
   "cell_type": "code",
   "execution_count": 27,
   "metadata": {},
   "outputs": [],
   "source": [
    "df_resgscv_rf.to_excel('HYPER_RESULTS_II.xlsx', sheet_name='RF_CV')\n",
    "\n",
    "#with pd.ExcelWriter('HYPER_RESULTS_II.xlsx',engine='openpyxl', mode='a') as writer:\n",
    "     #df_resgscv_rf.to_excel(writer, sheet_name='RF_CV')"
   ]
  },
  {
   "cell_type": "raw",
   "metadata": {},
   "source": [
    "RF Fit best Model"
   ]
  },
  {
   "cell_type": "markdown",
   "metadata": {},
   "source": [
    "### SVR"
   ]
  },
  {
   "cell_type": "code",
   "execution_count": 28,
   "metadata": {},
   "outputs": [],
   "source": [
    "samples_limit=7500"
   ]
  },
  {
   "cell_type": "code",
   "execution_count": 29,
   "metadata": {},
   "outputs": [
    {
     "data": {
      "text/plain": [
       "5"
      ]
     },
     "execution_count": 29,
     "metadata": {},
     "output_type": "execute_result"
    }
   ],
   "source": [
    "n_estimators=math.ceil(len(X_train)/samples_limit)\n",
    "n_estimators"
   ]
  },
  {
   "cell_type": "code",
   "execution_count": 30,
   "metadata": {},
   "outputs": [
    {
     "data": {
      "text/plain": [
       "6541"
      ]
     },
     "execution_count": 30,
     "metadata": {},
     "output_type": "execute_result"
    }
   ],
   "source": [
    "max_samples= math.floor(len(X_train)/n_estimators)\n",
    "max_samples"
   ]
  },
  {
   "cell_type": "code",
   "execution_count": 31,
   "metadata": {},
   "outputs": [
    {
     "data": {
      "text/plain": [
       "1"
      ]
     },
     "execution_count": 31,
     "metadata": {},
     "output_type": "execute_result"
    }
   ],
   "source": [
    "len(X_train)-(n_estimators*max_samples)"
   ]
  },
  {
   "cell_type": "code",
   "execution_count": 32,
   "metadata": {},
   "outputs": [],
   "source": [
    "svm_rgr= SVR(C=1.0, cache_size=1000, coef0=0.0, degree=3, epsilon=0.2, gamma='scale',\n",
    "    kernel='rbf', max_iter=-1, shrinking=True, tol=0.001, verbose=True)\n",
    "svr_bagging = BaggingRegressor(base_estimator=svm_rgr, n_estimators=n_estimators, max_samples=max_samples,\n",
    "                               max_features=1.0, bootstrap=False, bootstrap_features=False,\n",
    "                               oob_score=False, warm_start=False, n_jobs=-1, random_state=seed,\n",
    "                               verbose=0)\n"
   ]
  },
  {
   "cell_type": "code",
   "execution_count": 33,
   "metadata": {},
   "outputs": [],
   "source": [
    "# Define sklearn pipeline\n",
    "estimators = []\n",
    "estimators.append(('standardize', StandardScaler()))\n",
    "estimators.append(('svr', svr_bagging))\n",
    "pipeline = Pipeline(estimators)"
   ]
  },
  {
   "cell_type": "code",
   "execution_count": 34,
   "metadata": {},
   "outputs": [
    {
     "data": {
      "text/plain": [
       "dict_keys(['base_estimator__C', 'base_estimator__cache_size', 'base_estimator__coef0', 'base_estimator__degree', 'base_estimator__epsilon', 'base_estimator__gamma', 'base_estimator__kernel', 'base_estimator__max_iter', 'base_estimator__shrinking', 'base_estimator__tol', 'base_estimator__verbose', 'base_estimator', 'bootstrap', 'bootstrap_features', 'max_features', 'max_samples', 'n_estimators', 'n_jobs', 'oob_score', 'random_state', 'verbose', 'warm_start'])"
      ]
     },
     "execution_count": 34,
     "metadata": {},
     "output_type": "execute_result"
    }
   ],
   "source": [
    "svr_bagging.get_params().keys()"
   ]
  },
  {
   "cell_type": "raw",
   "metadata": {},
   "source": [
    "When training a SVM with the Radial Basis Function (RBF) kernel, two parameters must be considered: C and gamma. The parameter C, common to all SVM kernels, trades off misclassification of training examples against simplicity of the decision surface. A low C makes the decision surface smooth, while a high C aims at classifying all training examples correctly.\n",
    "\n",
    "gamma instead defines how much influence a single training example has. The larger gamma is, the closer other examples must be to be affected. The gamma parameter can be seen as the inverse of the radius of influence of samples.\n",
    "\n",
    "Proper choice of C and gamma is critical to the SVM’s performance. One is advised to use sklearn.model_selection.GridSearchCV with C and gamma spaced exponentially far apart to choose good values."
   ]
  },
  {
   "cell_type": "code",
   "execution_count": 35,
   "metadata": {},
   "outputs": [],
   "source": [
    "#Penalty parameter C for the error term when it stays outside the insensitive chanel.\n",
    "C_range = np.logspace(-3, 2, 50) # [0.0001 : 100]\n",
    "#The gamma parameter can be seen as the inverse of the radius of influence of samples\n",
    "gamma_range = np.logspace(-3, 2, 50) # [0.0001 : 100]\n",
    "\n",
    "param_grid = dict(svr__base_estimator__gamma= gamma_range, svr__base_estimator__C= C_range)"
   ]
  },
  {
   "cell_type": "code",
   "execution_count": 36,
   "metadata": {},
   "outputs": [],
   "source": [
    "# Grid_Search\n",
    "grid=RandomizedSearchCV(pipeline, param_grid,\n",
    "                        n_jobs=-1, cv=kf, n_iter=200,\n",
    "                        verbose=1, scoring='neg_mean_absolute_error', return_train_score=True)\n"
   ]
  },
  {
   "cell_type": "code",
   "execution_count": 37,
   "metadata": {
    "scrolled": true
   },
   "outputs": [
    {
     "data": {
      "text/plain": [
       "dict_keys(['memory', 'steps', 'verbose', 'standardize', 'svr', 'standardize__copy', 'standardize__with_mean', 'standardize__with_std', 'svr__base_estimator__C', 'svr__base_estimator__cache_size', 'svr__base_estimator__coef0', 'svr__base_estimator__degree', 'svr__base_estimator__epsilon', 'svr__base_estimator__gamma', 'svr__base_estimator__kernel', 'svr__base_estimator__max_iter', 'svr__base_estimator__shrinking', 'svr__base_estimator__tol', 'svr__base_estimator__verbose', 'svr__base_estimator', 'svr__bootstrap', 'svr__bootstrap_features', 'svr__max_features', 'svr__max_samples', 'svr__n_estimators', 'svr__n_jobs', 'svr__oob_score', 'svr__random_state', 'svr__verbose', 'svr__warm_start'])"
      ]
     },
     "execution_count": 37,
     "metadata": {},
     "output_type": "execute_result"
    }
   ],
   "source": [
    "pipeline.get_params().keys()"
   ]
  },
  {
   "cell_type": "code",
   "execution_count": 38,
   "metadata": {},
   "outputs": [
    {
     "name": "stdout",
     "output_type": "stream",
     "text": [
      "Fitting 4 folds for each of 200 candidates, totalling 800 fits\n"
     ]
    },
    {
     "name": "stderr",
     "output_type": "stream",
     "text": [
      "[Parallel(n_jobs=-1)]: Using backend LokyBackend with 4 concurrent workers.\n",
      "[Parallel(n_jobs=-1)]: Done  42 tasks      | elapsed: 31.7min\n",
      "C:\\ProgramData\\Anaconda3\\lib\\site-packages\\joblib\\externals\\loky\\process_executor.py:706: UserWarning: A worker stopped while some jobs were given to the executor. This can be caused by a too short worker timeout or by a memory leak.\n",
      "  \"timeout or by a memory leak.\", UserWarning\n",
      "[Parallel(n_jobs=-1)]: Done 192 tasks      | elapsed: 134.4min\n",
      "[Parallel(n_jobs=-1)]: Done 442 tasks      | elapsed: 305.4min\n",
      "[Parallel(n_jobs=-1)]: Done 792 tasks      | elapsed: 548.0min\n",
      "[Parallel(n_jobs=-1)]: Done 800 out of 800 | elapsed: 552.7min finished\n"
     ]
    }
   ],
   "source": [
    "# Grid search\n",
    "grid_result=grid.fit(X_train, Y_train)"
   ]
  },
  {
   "cell_type": "code",
   "execution_count": 39,
   "metadata": {},
   "outputs": [
    {
     "name": "stdout",
     "output_type": "stream",
     "text": [
      "Best: -2.033680 using {'svr__base_estimator__gamma': 0.004094915062380427, 'svr__base_estimator__C': 9.540954763499943}\n",
      "-2.119721 (0.012502) with: {'svr__base_estimator__gamma': 0.10985411419875583, 'svr__base_estimator__C': 7.543120063354623}\n",
      "-2.267599 (0.011024) with: {'svr__base_estimator__gamma': 9.540954763499943, 'svr__base_estimator__C': 0.005179474679231213}\n",
      "-2.264725 (0.010959) with: {'svr__base_estimator__gamma': 0.06866488450043001, 'svr__base_estimator__C': 0.0020235896477251575}\n",
      "-2.257315 (0.010950) with: {'svr__base_estimator__gamma': 0.0020235896477251575, 'svr__base_estimator__C': 0.0032374575428176433}\n",
      "-2.274924 (0.010886) with: {'svr__base_estimator__gamma': 15.264179671752334, 'svr__base_estimator__C': 0.28117686979742307}\n",
      "-2.264881 (0.010960) with: {'svr__base_estimator__gamma': 0.08685113737513529, 'svr__base_estimator__C': 0.0032374575428176433}\n",
      "-2.268921 (0.010984) with: {'svr__base_estimator__gamma': 19.306977288832496, 'svr__base_estimator__C': 0.054286754393238594}\n",
      "-2.274586 (0.010510) with: {'svr__base_estimator__gamma': 7.543120063354623, 'svr__base_estimator__C': 5.963623316594643}\n",
      "-2.085949 (0.008872) with: {'svr__base_estimator__gamma': 0.0020235896477251575, 'svr__base_estimator__C': 0.22229964825261955}\n",
      "-2.267916 (0.011016) with: {'svr__base_estimator__gamma': 62.50551925273976, 'svr__base_estimator__C': 0.016768329368110083}\n",
      "-2.262442 (0.010988) with: {'svr__base_estimator__gamma': 0.0020235896477251575, 'svr__base_estimator__C': 0.0015998587196060573}\n",
      "-2.046806 (0.008134) with: {'svr__base_estimator__gamma': 0.005179474679231213, 'svr__base_estimator__C': 49.417133613238384}\n",
      "-2.267516 (0.011028) with: {'svr__base_estimator__gamma': 19.306977288832496, 'svr__base_estimator__C': 0.0020235896477251575}\n",
      "-2.037481 (0.007033) with: {'svr__base_estimator__gamma': 0.0032374575428176433, 'svr__base_estimator__C': 4.714866363457395}\n",
      "-2.268624 (0.010996) with: {'svr__base_estimator__gamma': 62.50551925273976, 'svr__base_estimator__C': 0.04291934260128778}\n",
      "-2.273657 (0.010818) with: {'svr__base_estimator__gamma': 0.9102981779915218, 'svr__base_estimator__C': 0.28117686979742307}\n",
      "-2.245802 (0.010524) with: {'svr__base_estimator__gamma': 0.1757510624854793, 'svr__base_estimator__C': 0.28117686979742307}\n",
      "-2.269267 (0.011071) with: {'svr__base_estimator__gamma': 3.7275937203149416, 'svr__base_estimator__C': 0.9102981779915218}\n",
      "-2.267723 (0.010885) with: {'svr__base_estimator__gamma': 2.329951810515372, 'svr__base_estimator__C': 1.8420699693267164}\n",
      "-2.068989 (0.008803) with: {'svr__base_estimator__gamma': 0.0012648552168552957, 'svr__base_estimator__C': 0.5689866029018299}\n",
      "-2.272779 (0.011189) with: {'svr__base_estimator__gamma': 79.06043210907701, 'svr__base_estimator__C': 0.7196856730011522}\n",
      "-2.268036 (0.011012) with: {'svr__base_estimator__gamma': 62.50551925273976, 'svr__base_estimator__C': 0.021209508879201904}\n",
      "-2.275399 (0.010564) with: {'svr__base_estimator__gamma': 49.417133613238384, 'svr__base_estimator__C': 7.543120063354623}\n",
      "-2.259130 (0.010854) with: {'svr__base_estimator__gamma': 0.0339322177189533, 'svr__base_estimator__C': 0.0020235896477251575}\n",
      "-2.262191 (0.011789) with: {'svr__base_estimator__gamma': 0.5689866029018299, 'svr__base_estimator__C': 24.420530945486497}\n",
      "-2.267808 (0.011015) with: {'svr__base_estimator__gamma': 4.714866363457395, 'svr__base_estimator__C': 0.013257113655901095}\n",
      "-2.270357 (0.010642) with: {'svr__base_estimator__gamma': 1.151395399326448, 'svr__base_estimator__C': 30.88843596477485}\n",
      "-2.090923 (0.009482) with: {'svr__base_estimator__gamma': 0.06866488450043001, 'svr__base_estimator__C': 1.4563484775012443}\n",
      "-2.267885 (0.011011) with: {'svr__base_estimator__gamma': 2.329951810515372, 'svr__base_estimator__C': 0.016768329368110083}\n",
      "-2.268991 (0.010948) with: {'svr__base_estimator__gamma': 5.963623316594643, 'svr__base_estimator__C': 1.8420699693267164}\n",
      "-2.045247 (0.006657) with: {'svr__base_estimator__gamma': 0.002559547922699536, 'svr__base_estimator__C': 2.329951810515372}\n",
      "-2.057869 (0.007790) with: {'svr__base_estimator__gamma': 0.0020235896477251575, 'svr__base_estimator__C': 0.7196856730011522}\n",
      "-2.262021 (0.011611) with: {'svr__base_estimator__gamma': 0.5689866029018299, 'svr__base_estimator__C': 5.963623316594643}\n",
      "-2.252231 (0.010895) with: {'svr__base_estimator__gamma': 0.002559547922699536, 'svr__base_estimator__C': 0.004094915062380427}\n",
      "-2.154688 (0.013504) with: {'svr__base_estimator__gamma': 0.13894954943731375, 'svr__base_estimator__C': 30.88843596477485}\n",
      "-2.268662 (0.011488) with: {'svr__base_estimator__gamma': 100.0, 'svr__base_estimator__C': 1.151395399326448}\n",
      "-2.061199 (0.007897) with: {'svr__base_estimator__gamma': 0.0020235896477251575, 'svr__base_estimator__C': 0.5689866029018299}\n",
      "-2.203961 (0.010613) with: {'svr__base_estimator__gamma': 0.0015998587196060573, 'svr__base_estimator__C': 0.02682695795279726}\n",
      "-2.268365 (0.010997) with: {'svr__base_estimator__gamma': 9.540954763499943, 'svr__base_estimator__C': 0.0339322177189533}\n",
      "-2.274435 (0.010474) with: {'svr__base_estimator__gamma': 5.963623316594643, 'svr__base_estimator__C': 49.417133613238384}\n",
      "-2.264818 (0.010829) with: {'svr__base_estimator__gamma': 0.28117686979742307, 'svr__base_estimator__C': 0.22229964825261955}\n",
      "-2.269596 (0.011002) with: {'svr__base_estimator__gamma': 4.714866363457395, 'svr__base_estimator__C': 2.9470517025518097}\n",
      "-2.267391 (0.011023) with: {'svr__base_estimator__gamma': 0.28117686979742307, 'svr__base_estimator__C': 0.005179474679231213}\n",
      "-2.034597 (0.006786) with: {'svr__base_estimator__gamma': 0.0020235896477251575, 'svr__base_estimator__C': 24.420530945486497}\n",
      "-2.267805 (0.011015) with: {'svr__base_estimator__gamma': 3.7275937203149416, 'svr__base_estimator__C': 0.013257113655901095}\n",
      "-2.057109 (0.010442) with: {'svr__base_estimator__gamma': 0.006551285568595509, 'svr__base_estimator__C': 100.0}\n",
      "-2.168670 (0.008856) with: {'svr__base_estimator__gamma': 0.06866488450043001, 'svr__base_estimator__C': 0.1757510624854793}\n",
      "-2.151145 (0.011687) with: {'svr__base_estimator__gamma': 0.13894954943731375, 'svr__base_estimator__C': 2.9470517025518097}\n",
      "-2.044923 (0.006452) with: {'svr__base_estimator__gamma': 0.0012648552168552957, 'svr__base_estimator__C': 7.543120063354623}\n",
      "-2.267326 (0.011024) with: {'svr__base_estimator__gamma': 0.1757510624854793, 'svr__base_estimator__C': 0.0012648552168552957}\n",
      "-2.049050 (0.007100) with: {'svr__base_estimator__gamma': 0.006551285568595509, 'svr__base_estimator__C': 0.7196856730011522}\n",
      "-2.267627 (0.011022) with: {'svr__base_estimator__gamma': 2.329951810515372, 'svr__base_estimator__C': 0.006551285568595509}\n",
      "-2.206469 (0.013189) with: {'svr__base_estimator__gamma': 0.22229964825261955, 'svr__base_estimator__C': 5.963623316594643}\n",
      "-2.268831 (0.010975) with: {'svr__base_estimator__gamma': 2.329951810515372, 'svr__base_estimator__C': 0.054286754393238594}\n",
      "-2.265677 (0.010977) with: {'svr__base_estimator__gamma': 0.10985411419875583, 'svr__base_estimator__C': 0.004094915062380427}\n",
      "-2.273102 (0.010433) with: {'svr__base_estimator__gamma': 2.9470517025518097, 'svr__base_estimator__C': 7.543120063354623}\n",
      "-2.267576 (0.011023) with: {'svr__base_estimator__gamma': 0.5689866029018299, 'svr__base_estimator__C': 0.006551285568595509}\n",
      "-2.274172 (0.010441) with: {'svr__base_estimator__gamma': 4.714866363457395, 'svr__base_estimator__C': 100.0}\n",
      "-2.267008 (0.011015) with: {'svr__base_estimator__gamma': 0.13894954943731375, 'svr__base_estimator__C': 0.0020235896477251575}\n",
      "-2.055656 (0.007538) with: {'svr__base_estimator__gamma': 0.0012648552168552957, 'svr__base_estimator__C': 1.4563484775012443}\n",
      "-2.269773 (0.010954) with: {'svr__base_estimator__gamma': 9.540954763499943, 'svr__base_estimator__C': 0.08685113737513529}\n",
      "-2.269815 (0.011352) with: {'svr__base_estimator__gamma': 62.50551925273976, 'svr__base_estimator__C': 1.8420699693267164}\n",
      "-2.275678 (0.010620) with: {'svr__base_estimator__gamma': 1.8420699693267164, 'svr__base_estimator__C': 0.4498432668969444}\n",
      "-2.236543 (0.010247) with: {'svr__base_estimator__gamma': 0.10985411419875583, 'svr__base_estimator__C': 0.08685113737513529}\n",
      "-2.266786 (0.010934) with: {'svr__base_estimator__gamma': 1.4563484775012443, 'svr__base_estimator__C': 2.329951810515372}\n",
      "-2.265673 (0.010971) with: {'svr__base_estimator__gamma': 0.1757510624854793, 'svr__base_estimator__C': 0.016768329368110083}\n",
      "-2.272140 (0.010653) with: {'svr__base_estimator__gamma': 2.329951810515372, 'svr__base_estimator__C': 4.714866363457395}\n",
      "-2.267682 (0.011021) with: {'svr__base_estimator__gamma': 9.540954763499943, 'svr__base_estimator__C': 0.008286427728546842}\n",
      "-2.270425 (0.010657) with: {'svr__base_estimator__gamma': 1.151395399326448, 'svr__base_estimator__C': 62.50551925273976}\n",
      "-2.267094 (0.010999) with: {'svr__base_estimator__gamma': 0.28117686979742307, 'svr__base_estimator__C': 0.02682695795279726}\n",
      "-2.130636 (0.013890) with: {'svr__base_estimator__gamma': 0.10985411419875583, 'svr__base_estimator__C': 62.50551925273976}\n",
      "-2.269613 (0.010948) with: {'svr__base_estimator__gamma': 1.8420699693267164, 'svr__base_estimator__C': 0.08685113737513529}\n",
      "-2.180371 (0.013164) with: {'svr__base_estimator__gamma': 0.1757510624854793, 'svr__base_estimator__C': 7.543120063354623}\n",
      "-2.048836 (0.007492) with: {'svr__base_estimator__gamma': 0.010481131341546858, 'svr__base_estimator__C': 0.7196856730011522}\n",
      "-2.275252 (0.010460) with: {'svr__base_estimator__gamma': 24.420530945486497, 'svr__base_estimator__C': 100.0}\n",
      "-2.033680 (0.006967) with: {'svr__base_estimator__gamma': 0.004094915062380427, 'svr__base_estimator__C': 9.540954763499943}\n",
      "-2.267633 (0.011022) with: {'svr__base_estimator__gamma': 4.714866363457395, 'svr__base_estimator__C': 0.006551285568595509}\n",
      "-2.182880 (0.013793) with: {'svr__base_estimator__gamma': 0.1757510624854793, 'svr__base_estimator__C': 24.420530945486497}\n",
      "-2.267596 (0.011024) with: {'svr__base_estimator__gamma': 3.7275937203149416, 'svr__base_estimator__C': 0.005179474679231213}\n",
      "-2.148217 (0.012464) with: {'svr__base_estimator__gamma': 0.13894954943731375, 'svr__base_estimator__C': 4.714866363457395}\n",
      "-2.264806 (0.011105) with: {'svr__base_estimator__gamma': 0.9102981779915218, 'svr__base_estimator__C': 2.9470517025518097}\n",
      "-2.274409 (0.010507) with: {'svr__base_estimator__gamma': 5.963623316594643, 'svr__base_estimator__C': 19.306977288832496}\n",
      "-2.269127 (0.010934) with: {'svr__base_estimator__gamma': 4.714866363457395, 'svr__base_estimator__C': 2.329951810515372}\n",
      "-2.034287 (0.008226) with: {'svr__base_estimator__gamma': 0.010481131341546858, 'svr__base_estimator__C': 12.067926406393289}\n",
      "-2.036374 (0.007167) with: {'svr__base_estimator__gamma': 0.008286427728546842, 'svr__base_estimator__C': 2.329951810515372}\n",
      "-2.207392 (0.013184) with: {'svr__base_estimator__gamma': 0.22229964825261955, 'svr__base_estimator__C': 9.540954763499943}\n",
      "-2.040236 (0.006546) with: {'svr__base_estimator__gamma': 0.0015998587196060573, 'svr__base_estimator__C': 9.540954763499943}\n",
      "-2.267801 (0.011015) with: {'svr__base_estimator__gamma': 2.9470517025518097, 'svr__base_estimator__C': 0.013257113655901095}\n",
      "-2.274148 (0.010469) with: {'svr__base_estimator__gamma': 4.714866363457395, 'svr__base_estimator__C': 62.50551925273976}\n",
      "-2.267540 (0.011026) with: {'svr__base_estimator__gamma': 1.4563484775012443, 'svr__base_estimator__C': 0.0032374575428176433}\n",
      "-2.077778 (0.012058) with: {'svr__base_estimator__gamma': 0.021209508879201904, 'svr__base_estimator__C': 62.50551925273976}\n",
      "-2.196751 (0.009600) with: {'svr__base_estimator__gamma': 0.10985411419875583, 'svr__base_estimator__C': 0.35564803062231287}\n",
      "-2.263494 (0.010996) with: {'svr__base_estimator__gamma': 0.0020235896477251575, 'svr__base_estimator__C': 0.0012648552168552957}\n",
      "-2.274927 (0.010500) with: {'svr__base_estimator__gamma': 12.067926406393289, 'svr__base_estimator__C': 12.067926406393289}\n",
      "-2.269056 (0.010896) with: {'svr__base_estimator__gamma': 0.9102981779915218, 'svr__base_estimator__C': 62.50551925273976}\n",
      "-2.088316 (0.012022) with: {'svr__base_estimator__gamma': 0.04291934260128778, 'svr__base_estimator__C': 62.50551925273976}\n",
      "-2.249773 (0.010755) with: {'svr__base_estimator__gamma': 0.013257113655901095, 'svr__base_estimator__C': 0.002559547922699536}\n",
      "-2.273061 (0.011002) with: {'svr__base_estimator__gamma': 39.06939937054621, 'svr__base_estimator__C': 3.7275937203149416}\n",
      "-2.060623 (0.008144) with: {'svr__base_estimator__gamma': 0.001, 'svr__base_estimator__C': 1.151395399326448}\n",
      "-2.249877 (0.010660) with: {'svr__base_estimator__gamma': 0.054286754393238594, 'svr__base_estimator__C': 0.008286427728546842}\n",
      "-2.270140 (0.011457) with: {'svr__base_estimator__gamma': 62.50551925273976, 'svr__base_estimator__C': 0.9102981779915218}\n",
      "-2.262067 (0.011738) with: {'svr__base_estimator__gamma': 0.5689866029018299, 'svr__base_estimator__C': 7.543120063354623}\n",
      "-2.079939 (0.008600) with: {'svr__base_estimator__gamma': 0.002559547922699536, 'svr__base_estimator__C': 0.22229964825261955}\n",
      "-2.192460 (0.009740) with: {'svr__base_estimator__gamma': 0.013257113655901095, 'svr__base_estimator__C': 0.013257113655901095}\n",
      "-2.118790 (0.007988) with: {'svr__base_estimator__gamma': 0.010481131341546858, 'svr__base_estimator__C': 0.054286754393238594}\n",
      "-2.274976 (0.010441) with: {'svr__base_estimator__gamma': 12.067926406393289, 'svr__base_estimator__C': 79.06043210907701}\n",
      "-2.275253 (0.010558) with: {'svr__base_estimator__gamma': 24.420530945486497, 'svr__base_estimator__C': 5.963623316594643}\n",
      "-2.268011 (0.011007) with: {'svr__base_estimator__gamma': 3.7275937203149416, 'svr__base_estimator__C': 0.021209508879201904}\n",
      "-2.234336 (0.010223) with: {'svr__base_estimator__gamma': 0.06866488450043001, 'svr__base_estimator__C': 0.02682695795279726}\n",
      "-2.242167 (0.010545) with: {'svr__base_estimator__gamma': 0.04291934260128778, 'svr__base_estimator__C': 0.008286427728546842}\n",
      "-2.274974 (0.010442) with: {'svr__base_estimator__gamma': 12.067926406393289, 'svr__base_estimator__C': 39.06939937054621}\n",
      "-2.275007 (0.010932) with: {'svr__base_estimator__gamma': 100.0, 'svr__base_estimator__C': 0.28117686979742307}\n",
      "-2.268083 (0.011097) with: {'svr__base_estimator__gamma': 5.963623316594643, 'svr__base_estimator__C': 1.151395399326448}\n",
      "-2.268997 (0.010965) with: {'svr__base_estimator__gamma': 0.9102981779915218, 'svr__base_estimator__C': 0.06866488450043001}\n",
      "-2.273124 (0.010654) with: {'svr__base_estimator__gamma': 3.7275937203149416, 'svr__base_estimator__C': 4.714866363457395}\n",
      "-2.267464 (0.011027) with: {'svr__base_estimator__gamma': 0.35564803062231287, 'svr__base_estimator__C': 0.0020235896477251575}\n",
      "-2.268091 (0.011002) with: {'svr__base_estimator__gamma': 1.151395399326448, 'svr__base_estimator__C': 0.02682695795279726}\n",
      "-2.267912 (0.011014) with: {'svr__base_estimator__gamma': 19.306977288832496, 'svr__base_estimator__C': 0.016768329368110083}\n",
      "-2.275375 (0.010511) with: {'svr__base_estimator__gamma': 39.06939937054621, 'svr__base_estimator__C': 100.0}\n",
      "-2.038406 (0.006228) with: {'svr__base_estimator__gamma': 0.001, 'svr__base_estimator__C': 30.88843596477485}\n",
      "-2.276679 (0.010810) with: {'svr__base_estimator__gamma': 7.543120063354623, 'svr__base_estimator__C': 0.35564803062231287}\n",
      "-2.101325 (0.011386) with: {'svr__base_estimator__gamma': 0.02682695795279726, 'svr__base_estimator__C': 100.0}\n",
      "-2.268604 (0.010989) with: {'svr__base_estimator__gamma': 9.540954763499943, 'svr__base_estimator__C': 0.04291934260128778}\n",
      "-2.267489 (0.011027) with: {'svr__base_estimator__gamma': 2.9470517025518097, 'svr__base_estimator__C': 0.0012648552168552957}\n",
      "-2.272698 (0.011131) with: {'svr__base_estimator__gamma': 24.420530945486497, 'svr__base_estimator__C': 0.7196856730011522}\n",
      "-2.086797 (0.008323) with: {'svr__base_estimator__gamma': 0.004094915062380427, 'svr__base_estimator__C': 0.13894954943731375}\n",
      "-2.107273 (0.007993) with: {'svr__base_estimator__gamma': 0.008286427728546842, 'svr__base_estimator__C': 0.06866488450043001}\n",
      "-2.254851 (0.011958) with: {'svr__base_estimator__gamma': 0.4498432668969444, 'svr__base_estimator__C': 5.963623316594643}\n",
      "-2.270336 (0.011273) with: {'svr__base_estimator__gamma': 100.0, 'svr__base_estimator__C': 2.329951810515372}\n",
      "-2.270145 (0.011460) with: {'svr__base_estimator__gamma': 100.0, 'svr__base_estimator__C': 0.9102981779915218}\n",
      "-2.267474 (0.011025) with: {'svr__base_estimator__gamma': 0.35564803062231287, 'svr__base_estimator__C': 0.004094915062380427}\n",
      "-2.245134 (0.013109) with: {'svr__base_estimator__gamma': 0.35564803062231287, 'svr__base_estimator__C': 62.50551925273976}\n",
      "-2.049041 (0.007156) with: {'svr__base_estimator__gamma': 0.004094915062380427, 'svr__base_estimator__C': 0.9102981779915218}\n",
      "-2.156763 (0.014742) with: {'svr__base_estimator__gamma': 0.13894954943731375, 'svr__base_estimator__C': 100.0}\n",
      "-2.217666 (0.010513) with: {'svr__base_estimator__gamma': 0.006551285568595509, 'svr__base_estimator__C': 0.008286427728546842}\n",
      "-2.054373 (0.007303) with: {'svr__base_estimator__gamma': 0.004094915062380427, 'svr__base_estimator__C': 0.5689866029018299}\n",
      "-2.040743 (0.006880) with: {'svr__base_estimator__gamma': 0.0032374575428176433, 'svr__base_estimator__C': 2.9470517025518097}\n",
      "-2.267179 (0.011020) with: {'svr__base_estimator__gamma': 0.13894954943731375, 'svr__base_estimator__C': 0.0012648552168552957}\n",
      "-2.272597 (0.010466) with: {'svr__base_estimator__gamma': 2.329951810515372, 'svr__base_estimator__C': 24.420530945486497}\n",
      "-2.272958 (0.010859) with: {'svr__base_estimator__gamma': 1.8420699693267164, 'svr__base_estimator__C': 0.22229964825261955}\n",
      "-2.156837 (0.008921) with: {'svr__base_estimator__gamma': 0.008286427728546842, 'svr__base_estimator__C': 0.02682695795279726}\n",
      "-2.065349 (0.008600) with: {'svr__base_estimator__gamma': 0.021209508879201904, 'svr__base_estimator__C': 0.4498432668969444}\n",
      "-2.272776 (0.011187) with: {'svr__base_estimator__gamma': 62.50551925273976, 'svr__base_estimator__C': 0.7196856730011522}\n",
      "-2.263737 (0.010996) with: {'svr__base_estimator__gamma': 0.002559547922699536, 'svr__base_estimator__C': 0.001}\n",
      "-2.152958 (0.008541) with: {'svr__base_estimator__gamma': 0.04291934260128778, 'svr__base_estimator__C': 0.08685113737513529}\n",
      "-2.264199 (0.010941) with: {'svr__base_estimator__gamma': 0.08685113737513529, 'svr__base_estimator__C': 0.004094915062380427}\n",
      "-2.113394 (0.008293) with: {'svr__base_estimator__gamma': 0.005179474679231213, 'svr__base_estimator__C': 0.06866488450043001}\n",
      "-2.268172 (0.011002) with: {'svr__base_estimator__gamma': 7.543120063354623, 'svr__base_estimator__C': 0.02682695795279726}\n",
      "-2.266344 (0.010997) with: {'svr__base_estimator__gamma': 0.10985411419875583, 'svr__base_estimator__C': 0.002559547922699536}\n",
      "-2.275298 (0.010510) with: {'svr__base_estimator__gamma': 30.88843596477485, 'svr__base_estimator__C': 12.067926406393289}\n",
      "-2.271185 (0.010933) with: {'svr__base_estimator__gamma': 15.264179671752334, 'svr__base_estimator__C': 0.13894954943731375}\n",
      "-2.275420 (0.010540) with: {'svr__base_estimator__gamma': 62.50551925273976, 'svr__base_estimator__C': 79.06043210907701}\n",
      "-2.037141 (0.008922) with: {'svr__base_estimator__gamma': 0.0339322177189533, 'svr__base_estimator__C': 5.963623316594643}\n",
      "-2.267485 (0.011028) with: {'svr__base_estimator__gamma': 79.06043210907701, 'svr__base_estimator__C': 0.001}\n",
      "-2.275127 (0.010506) with: {'svr__base_estimator__gamma': 19.306977288832496, 'svr__base_estimator__C': 9.540954763499943}\n",
      "-2.267637 (0.011023) with: {'svr__base_estimator__gamma': 15.264179671752334, 'svr__base_estimator__C': 0.006551285568595509}\n",
      "-2.220468 (0.010655) with: {'svr__base_estimator__gamma': 0.1757510624854793, 'svr__base_estimator__C': 0.7196856730011522}\n",
      "-2.052220 (0.008075) with: {'svr__base_estimator__gamma': 0.016768329368110083, 'svr__base_estimator__C': 0.7196856730011522}\n",
      "-2.154068 (0.008530) with: {'svr__base_estimator__gamma': 0.054286754393238594, 'svr__base_estimator__C': 0.13894954943731375}\n",
      "-2.056127 (0.007160) with: {'svr__base_estimator__gamma': 0.005179474679231213, 'svr__base_estimator__C': 0.4498432668969444}\n",
      "-2.272053 (0.010892) with: {'svr__base_estimator__gamma': 4.714866363457395, 'svr__base_estimator__C': 0.1757510624854793}\n",
      "-2.253374 (0.010898) with: {'svr__base_estimator__gamma': 0.0032374575428176433, 'svr__base_estimator__C': 0.0032374575428176433}\n",
      "-2.090568 (0.010849) with: {'svr__base_estimator__gamma': 0.08685113737513529, 'svr__base_estimator__C': 4.714866363457395}\n",
      "-2.255422 (0.010922) with: {'svr__base_estimator__gamma': 0.002559547922699536, 'svr__base_estimator__C': 0.0032374575428176433}\n",
      "-2.267624 (0.011022) with: {'svr__base_estimator__gamma': 1.8420699693267164, 'svr__base_estimator__C': 0.006551285568595509}\n",
      "-2.267903 (0.011012) with: {'svr__base_estimator__gamma': 5.963623316594643, 'svr__base_estimator__C': 0.016768329368110083}\n",
      "-2.038726 (0.006503) with: {'svr__base_estimator__gamma': 0.0015998587196060573, 'svr__base_estimator__C': 12.067926406393289}\n",
      "-2.268584 (0.010986) with: {'svr__base_estimator__gamma': 4.714866363457395, 'svr__base_estimator__C': 0.04291934260128778}\n",
      "-2.275433 (0.010550) with: {'svr__base_estimator__gamma': 100.0, 'svr__base_estimator__C': 19.306977288832496}\n",
      "-2.244390 (0.013170) with: {'svr__base_estimator__gamma': 0.35564803062231287, 'svr__base_estimator__C': 24.420530945486497}\n",
      "-2.233987 (0.012002) with: {'svr__base_estimator__gamma': 0.28117686979742307, 'svr__base_estimator__C': 1.8420699693267164}\n",
      "-2.058772 (0.007152) with: {'svr__base_estimator__gamma': 0.008286427728546842, 'svr__base_estimator__C': 0.35564803062231287}\n",
      "-2.267442 (0.011027) with: {'svr__base_estimator__gamma': 0.28117686979742307, 'svr__base_estimator__C': 0.0012648552168552957}\n",
      "-2.274898 (0.010873) with: {'svr__base_estimator__gamma': 12.067926406393289, 'svr__base_estimator__C': 0.28117686979742307}\n",
      "-2.271224 (0.010950) with: {'svr__base_estimator__gamma': 62.50551925273976, 'svr__base_estimator__C': 0.13894954943731375}\n",
      "-2.267686 (0.011022) with: {'svr__base_estimator__gamma': 79.06043210907701, 'svr__base_estimator__C': 0.008286427728546842}\n",
      "-2.073453 (0.007365) with: {'svr__base_estimator__gamma': 0.008286427728546842, 'svr__base_estimator__C': 0.1757510624854793}\n",
      "-2.257040 (0.011116) with: {'svr__base_estimator__gamma': 0.4498432668969444, 'svr__base_estimator__C': 1.151395399326448}\n",
      "-2.268380 (0.011002) with: {'svr__base_estimator__gamma': 49.417133613238384, 'svr__base_estimator__C': 0.0339322177189533}\n",
      "-2.263999 (0.010941) with: {'svr__base_estimator__gamma': 0.06866488450043001, 'svr__base_estimator__C': 0.002559547922699536}\n",
      "-2.045676 (0.010187) with: {'svr__base_estimator__gamma': 0.04291934260128778, 'svr__base_estimator__C': 7.543120063354623}\n",
      "-2.200909 (0.010279) with: {'svr__base_estimator__gamma': 0.005179474679231213, 'svr__base_estimator__C': 0.013257113655901095}\n",
      "-2.272944 (0.010946) with: {'svr__base_estimator__gamma': 24.420530945486497, 'svr__base_estimator__C': 3.7275937203149416}\n",
      "-2.035545 (0.006718) with: {'svr__base_estimator__gamma': 0.001, 'svr__base_estimator__C': 79.06043210907701}\n",
      "-2.274115 (0.010511) with: {'svr__base_estimator__gamma': 4.714866363457395, 'svr__base_estimator__C': 15.264179671752334}\n",
      "-2.269732 (0.010948) with: {'svr__base_estimator__gamma': 4.714866363457395, 'svr__base_estimator__C': 0.08685113737513529}\n",
      "-2.275427 (0.010546) with: {'svr__base_estimator__gamma': 79.06043210907701, 'svr__base_estimator__C': 49.417133613238384}\n",
      "-2.100028 (0.007724) with: {'svr__base_estimator__gamma': 0.013257113655901095, 'svr__base_estimator__C': 0.08685113737513529}\n",
      "-2.144018 (0.008554) with: {'svr__base_estimator__gamma': 0.008286427728546842, 'svr__base_estimator__C': 0.0339322177189533}\n",
      "-2.270442 (0.010651) with: {'svr__base_estimator__gamma': 1.151395399326448, 'svr__base_estimator__C': 79.06043210907701}\n",
      "-2.229403 (0.013793) with: {'svr__base_estimator__gamma': 0.28117686979742307, 'svr__base_estimator__C': 49.417133613238384}\n",
      "-2.268600 (0.011432) with: {'svr__base_estimator__gamma': 30.88843596477485, 'svr__base_estimator__C': 1.151395399326448}\n",
      "-2.265935 (0.010949) with: {'svr__base_estimator__gamma': 1.151395399326448, 'svr__base_estimator__C': 2.329951810515372}\n",
      "-2.255859 (0.012512) with: {'svr__base_estimator__gamma': 0.4498432668969444, 'svr__base_estimator__C': 79.06043210907701}\n",
      "-2.267577 (0.011024) with: {'svr__base_estimator__gamma': 0.9102981779915218, 'svr__base_estimator__C': 0.005179474679231213}\n",
      "-2.091443 (0.007703) with: {'svr__base_estimator__gamma': 0.013257113655901095, 'svr__base_estimator__C': 0.10985411419875583}\n",
      "-2.276296 (0.010651) with: {'svr__base_estimator__gamma': 4.714866363457395, 'svr__base_estimator__C': 0.4498432668969444}\n",
      "-2.091398 (0.010739) with: {'svr__base_estimator__gamma': 0.054286754393238594, 'svr__base_estimator__C': 62.50551925273976}\n",
      "-2.170842 (0.010822) with: {'svr__base_estimator__gamma': 0.13894954943731375, 'svr__base_estimator__C': 1.4563484775012443}\n",
      "-2.269898 (0.010932) with: {'svr__base_estimator__gamma': 0.5689866029018299, 'svr__base_estimator__C': 0.13894954943731375}\n"
     ]
    }
   ],
   "source": [
    "# summarize results\n",
    "\n",
    "print(\"Best: %f using %s\" % (grid_result.best_score_, grid_result.best_params_))\n",
    "means=grid_result.cv_results_['mean_test_score']\n",
    "stds=grid_result.cv_results_['std_test_score']\n",
    "params=grid_result.cv_results_['params']\n",
    "\n",
    "for mean, stdev, param in zip(means,stds, params):\n",
    "    print (\"%f (%f) with: %r\" % (mean,stdev,param))"
   ]
  },
  {
   "cell_type": "code",
   "execution_count": 40,
   "metadata": {},
   "outputs": [],
   "source": [
    "df_rescv=pd.DataFrame(grid_result.cv_results_)"
   ]
  },
  {
   "cell_type": "code",
   "execution_count": 41,
   "metadata": {},
   "outputs": [],
   "source": [
    "df_resgscv_svr=pd.DataFrame(grid_result.cv_results_)"
   ]
  },
  {
   "cell_type": "code",
   "execution_count": 42,
   "metadata": {},
   "outputs": [
    {
     "data": {
      "text/plain": [
       "{'svr__base_estimator__gamma': 0.004094915062380427,\n",
       " 'svr__base_estimator__C': 9.540954763499943}"
      ]
     },
     "execution_count": 42,
     "metadata": {},
     "output_type": "execute_result"
    }
   ],
   "source": [
    "grid_result.best_params_"
   ]
  },
  {
   "cell_type": "code",
   "execution_count": 43,
   "metadata": {},
   "outputs": [],
   "source": [
    "# df_resgscv_svr.to_excel('SVR.xlsx', sheet_name='SVRCV')\n",
    "\n",
    "with pd.ExcelWriter('HYPER_RESULTS_II.xlsx',engine='openpyxl', mode='a') as writer:\n",
    "     df_resgscv_svr.to_excel(writer, sheet_name='SVR_CV')"
   ]
  },
  {
   "cell_type": "raw",
   "metadata": {},
   "source": [
    "SVR Fit best Model"
   ]
  },
  {
   "cell_type": "markdown",
   "metadata": {},
   "source": [
    "SVR Fit best Model"
   ]
  },
  {
   "cell_type": "markdown",
   "metadata": {},
   "source": [
    "### Ridge Regression"
   ]
  },
  {
   "cell_type": "code",
   "execution_count": 44,
   "metadata": {},
   "outputs": [],
   "source": [
    "ridge_rgr = Ridge(alpha=1.0, fit_intercept=True, normalize=False, copy_X=True, max_iter=None,\n",
    "                  tol=0.001, solver='auto', random_state=seed)"
   ]
  },
  {
   "cell_type": "code",
   "execution_count": 45,
   "metadata": {},
   "outputs": [],
   "source": [
    "\n",
    "params_ridge = {\"ridge__alpha\": [0, 0.1, 0.2, 0.4, 0.6, 0.8, 1, 2, 4, 6, 8, 10, 12, 14, 16, 18 ,20]} \n"
   ]
  },
  {
   "cell_type": "code",
   "execution_count": 46,
   "metadata": {},
   "outputs": [],
   "source": [
    "# Define sklearn pipeline\n",
    "estimators = []\n",
    "estimators.append(('standardize', StandardScaler()))\n",
    "estimators.append(('ridge', ridge_rgr))\n",
    "pipeline = Pipeline(estimators)"
   ]
  },
  {
   "cell_type": "code",
   "execution_count": 47,
   "metadata": {},
   "outputs": [],
   "source": [
    "ridge_grid = RandomizedSearchCV(pipeline, params_ridge,\n",
    "                           n_jobs=-1, cv=kf, n_iter=200,\n",
    "                           verbose=1, scoring='neg_mean_absolute_error', return_train_score=True)"
   ]
  },
  {
   "cell_type": "code",
   "execution_count": 48,
   "metadata": {},
   "outputs": [
    {
     "name": "stderr",
     "output_type": "stream",
     "text": [
      "C:\\ProgramData\\Anaconda3\\lib\\site-packages\\sklearn\\model_selection\\_search.py:281: UserWarning: The total space of parameters 17 is smaller than n_iter=200. Running 17 iterations. For exhaustive searches, use GridSearchCV.\n",
      "  % (grid_size, self.n_iter, grid_size), UserWarning)\n",
      "[Parallel(n_jobs=-1)]: Using backend LokyBackend with 4 concurrent workers.\n"
     ]
    },
    {
     "name": "stdout",
     "output_type": "stream",
     "text": [
      "Fitting 4 folds for each of 17 candidates, totalling 68 fits\n"
     ]
    },
    {
     "name": "stderr",
     "output_type": "stream",
     "text": [
      "[Parallel(n_jobs=-1)]: Done  42 tasks      | elapsed:    2.9s\n",
      "[Parallel(n_jobs=-1)]: Done  68 out of  68 | elapsed:    4.0s finished\n"
     ]
    }
   ],
   "source": [
    "grid_result=ridge_grid.fit(X_train,Y_train)"
   ]
  },
  {
   "cell_type": "code",
   "execution_count": 49,
   "metadata": {},
   "outputs": [
    {
     "name": "stdout",
     "output_type": "stream",
     "text": [
      "Best: -2.060516 using {'ridge__alpha': 0}\n",
      "-2.060516 (0.007056) with: {'ridge__alpha': 0}\n",
      "-2.060516 (0.007056) with: {'ridge__alpha': 0.1}\n",
      "-2.060516 (0.007056) with: {'ridge__alpha': 0.2}\n",
      "-2.060517 (0.007056) with: {'ridge__alpha': 0.4}\n",
      "-2.060517 (0.007056) with: {'ridge__alpha': 0.6}\n",
      "-2.060517 (0.007056) with: {'ridge__alpha': 0.8}\n",
      "-2.060518 (0.007056) with: {'ridge__alpha': 1}\n",
      "-2.060519 (0.007056) with: {'ridge__alpha': 2}\n",
      "-2.060523 (0.007056) with: {'ridge__alpha': 4}\n",
      "-2.060526 (0.007057) with: {'ridge__alpha': 6}\n",
      "-2.060530 (0.007057) with: {'ridge__alpha': 8}\n",
      "-2.060534 (0.007057) with: {'ridge__alpha': 10}\n",
      "-2.060537 (0.007058) with: {'ridge__alpha': 12}\n",
      "-2.060541 (0.007058) with: {'ridge__alpha': 14}\n",
      "-2.060544 (0.007059) with: {'ridge__alpha': 16}\n",
      "-2.060548 (0.007059) with: {'ridge__alpha': 18}\n",
      "-2.060551 (0.007060) with: {'ridge__alpha': 20}\n"
     ]
    }
   ],
   "source": [
    "# summarize results\n",
    "\n",
    "print(\"Best: %f using %s\" % (grid_result.best_score_, grid_result.best_params_))\n",
    "means=grid_result.cv_results_['mean_test_score']\n",
    "stds=grid_result.cv_results_['std_test_score']\n",
    "params=grid_result.cv_results_['params']\n",
    "\n",
    "for mean, stdev, param in zip(means,stds, params):\n",
    "    print (\"%f (%f) with: %r\" % (mean,stdev,param))"
   ]
  },
  {
   "cell_type": "code",
   "execution_count": 50,
   "metadata": {},
   "outputs": [],
   "source": [
    "df_resgscv_ridge=pd.DataFrame(grid_result.cv_results_)"
   ]
  },
  {
   "cell_type": "code",
   "execution_count": 51,
   "metadata": {},
   "outputs": [
    {
     "data": {
      "text/plain": [
       "{'ridge__alpha': 0}"
      ]
     },
     "execution_count": 51,
     "metadata": {},
     "output_type": "execute_result"
    }
   ],
   "source": [
    "grid_result.best_params_"
   ]
  },
  {
   "cell_type": "code",
   "execution_count": 52,
   "metadata": {},
   "outputs": [],
   "source": [
    "# df_resgscv_svr.to_excel('SVR.xlsx', sheet_name='SVRCV')\n",
    "\n",
    "with pd.ExcelWriter('HYPER_RESULTS_II.xlsx',engine='openpyxl', mode='a') as writer:\n",
    "     df_resgscv_ridge.to_excel(writer, sheet_name='RIDGE_CV')"
   ]
  },
  {
   "cell_type": "raw",
   "metadata": {},
   "source": [
    "Ridge Fit best Model"
   ]
  },
  {
   "cell_type": "markdown",
   "metadata": {},
   "source": [
    "### K-nearest Neighbours Regression"
   ]
  },
  {
   "cell_type": "code",
   "execution_count": 53,
   "metadata": {},
   "outputs": [],
   "source": [
    "knn_rgr = KNeighborsRegressor(n_neighbors=5, weights='uniform', algorithm='auto', leaf_size=30,\n",
    "                              p=2, metric='minkowski', metric_params=None, n_jobs=None)"
   ]
  },
  {
   "cell_type": "code",
   "execution_count": 54,
   "metadata": {},
   "outputs": [],
   "source": [
    "k_range=range(1, 201, 1)\n",
    "\n",
    "params_knn = {\"knn__n_neighbors\": k_range,\n",
    "             \"knn__weights\":['uniform','distance']} "
   ]
  },
  {
   "cell_type": "code",
   "execution_count": 55,
   "metadata": {},
   "outputs": [],
   "source": [
    "# Define sklearn pipeline\n",
    "estimators = []\n",
    "estimators.append(('standardize', StandardScaler()))\n",
    "estimators.append(('knn', knn_rgr))\n",
    "pipeline = Pipeline(estimators)"
   ]
  },
  {
   "cell_type": "code",
   "execution_count": 56,
   "metadata": {},
   "outputs": [],
   "source": [
    "knn_grid = RandomizedSearchCV(pipeline, params_knn,\n",
    "                           n_jobs=-1, cv=kf, n_iter=200,\n",
    "                           verbose=1, scoring='neg_mean_absolute_error', return_train_score=True)"
   ]
  },
  {
   "cell_type": "code",
   "execution_count": 57,
   "metadata": {},
   "outputs": [
    {
     "name": "stdout",
     "output_type": "stream",
     "text": [
      "Fitting 4 folds for each of 200 candidates, totalling 800 fits\n"
     ]
    },
    {
     "name": "stderr",
     "output_type": "stream",
     "text": [
      "[Parallel(n_jobs=-1)]: Using backend LokyBackend with 4 concurrent workers.\n",
      "[Parallel(n_jobs=-1)]: Done  42 tasks      | elapsed: 28.1min\n",
      "[Parallel(n_jobs=-1)]: Done 192 tasks      | elapsed: 128.2min\n",
      "[Parallel(n_jobs=-1)]: Done 442 tasks      | elapsed: 299.7min\n",
      "[Parallel(n_jobs=-1)]: Done 792 tasks      | elapsed: 570.7min\n",
      "[Parallel(n_jobs=-1)]: Done 800 out of 800 | elapsed: 576.8min finished\n"
     ]
    }
   ],
   "source": [
    "grid_result=knn_grid.fit(X_train,Y_train)"
   ]
  },
  {
   "cell_type": "code",
   "execution_count": 58,
   "metadata": {},
   "outputs": [
    {
     "name": "stdout",
     "output_type": "stream",
     "text": [
      "Best: -2.085407 using {'knn__weights': 'distance', 'knn__n_neighbors': 18}\n",
      "-2.115749 (0.007094) with: {'knn__weights': 'distance', 'knn__n_neighbors': 169}\n",
      "-2.105009 (0.007307) with: {'knn__weights': 'uniform', 'knn__n_neighbors': 80}\n",
      "-2.109892 (0.006362) with: {'knn__weights': 'uniform', 'knn__n_neighbors': 8}\n",
      "-2.093266 (0.008855) with: {'knn__weights': 'distance', 'knn__n_neighbors': 45}\n",
      "-2.113883 (0.007411) with: {'knn__weights': 'uniform', 'knn__n_neighbors': 132}\n",
      "-2.100537 (0.007731) with: {'knn__weights': 'distance', 'knn__n_neighbors': 70}\n",
      "-2.115003 (0.007232) with: {'knn__weights': 'distance', 'knn__n_neighbors': 164}\n",
      "-2.110518 (0.006808) with: {'knn__weights': 'uniform', 'knn__n_neighbors': 113}\n",
      "-2.112819 (0.007248) with: {'knn__weights': 'distance', 'knn__n_neighbors': 144}\n",
      "-2.110064 (0.007021) with: {'knn__weights': 'uniform', 'knn__n_neighbors': 110}\n",
      "-2.119944 (0.006751) with: {'knn__weights': 'uniform', 'knn__n_neighbors': 186}\n",
      "-2.117556 (0.007603) with: {'knn__weights': 'uniform', 'knn__n_neighbors': 165}\n",
      "-2.105371 (0.007307) with: {'knn__weights': 'uniform', 'knn__n_neighbors': 84}\n",
      "-2.091894 (0.007755) with: {'knn__weights': 'distance', 'knn__n_neighbors': 40}\n",
      "-2.149024 (0.015844) with: {'knn__weights': 'distance', 'knn__n_neighbors': 4}\n",
      "-2.114214 (0.007492) with: {'knn__weights': 'uniform', 'knn__n_neighbors': 135}\n",
      "-2.086567 (0.006399) with: {'knn__weights': 'distance', 'knn__n_neighbors': 13}\n",
      "-2.102506 (0.008278) with: {'knn__weights': 'uniform', 'knn__n_neighbors': 65}\n",
      "-2.109140 (0.006924) with: {'knn__weights': 'distance', 'knn__n_neighbors': 119}\n",
      "-2.107939 (0.007049) with: {'knn__weights': 'uniform', 'knn__n_neighbors': 97}\n",
      "-2.090634 (0.007884) with: {'knn__weights': 'distance', 'knn__n_neighbors': 38}\n",
      "-2.099534 (0.007706) with: {'knn__weights': 'distance', 'knn__n_neighbors': 66}\n",
      "-2.118002 (0.007502) with: {'knn__weights': 'uniform', 'knn__n_neighbors': 168}\n",
      "-2.110642 (0.006982) with: {'knn__weights': 'distance', 'knn__n_neighbors': 128}\n",
      "-2.118355 (0.007388) with: {'knn__weights': 'uniform', 'knn__n_neighbors': 171}\n",
      "-2.091772 (0.008024) with: {'knn__weights': 'uniform', 'knn__n_neighbors': 19}\n",
      "-2.099576 (0.010027) with: {'knn__weights': 'uniform', 'knn__n_neighbors': 54}\n",
      "-2.116534 (0.007563) with: {'knn__weights': 'uniform', 'knn__n_neighbors': 157}\n",
      "-2.098046 (0.008175) with: {'knn__weights': 'distance', 'knn__n_neighbors': 62}\n",
      "-2.093178 (0.007445) with: {'knn__weights': 'uniform', 'knn__n_neighbors': 25}\n",
      "-2.109156 (0.006778) with: {'knn__weights': 'distance', 'knn__n_neighbors': 120}\n",
      "-2.121463 (0.006775) with: {'knn__weights': 'uniform', 'knn__n_neighbors': 200}\n",
      "-2.117483 (0.006699) with: {'knn__weights': 'distance', 'knn__n_neighbors': 186}\n",
      "-2.115967 (0.007269) with: {'knn__weights': 'uniform', 'knn__n_neighbors': 151}\n",
      "-2.108710 (0.007043) with: {'knn__weights': 'distance', 'knn__n_neighbors': 117}\n",
      "-2.107635 (0.007224) with: {'knn__weights': 'uniform', 'knn__n_neighbors': 96}\n",
      "-2.116424 (0.006878) with: {'knn__weights': 'distance', 'knn__n_neighbors': 176}\n",
      "-2.103666 (0.008055) with: {'knn__weights': 'uniform', 'knn__n_neighbors': 69}\n",
      "-2.099006 (0.007905) with: {'knn__weights': 'distance', 'knn__n_neighbors': 65}\n",
      "-2.101029 (0.009193) with: {'knn__weights': 'uniform', 'knn__n_neighbors': 59}\n",
      "-2.112776 (0.007276) with: {'knn__weights': 'uniform', 'knn__n_neighbors': 126}\n",
      "-2.118865 (0.006827) with: {'knn__weights': 'distance', 'knn__n_neighbors': 198}\n",
      "-2.112030 (0.007137) with: {'knn__weights': 'distance', 'knn__n_neighbors': 138}\n",
      "-2.100767 (0.007422) with: {'knn__weights': 'distance', 'knn__n_neighbors': 74}\n",
      "-2.095877 (0.006717) with: {'knn__weights': 'uniform', 'knn__n_neighbors': 12}\n",
      "-2.093706 (0.007448) with: {'knn__weights': 'uniform', 'knn__n_neighbors': 28}\n",
      "-2.095912 (0.008849) with: {'knn__weights': 'uniform', 'knn__n_neighbors': 39}\n",
      "-2.096171 (0.008703) with: {'knn__weights': 'distance', 'knn__n_neighbors': 55}\n",
      "-2.109806 (0.007061) with: {'knn__weights': 'uniform', 'knn__n_neighbors': 108}\n",
      "-2.113513 (0.006982) with: {'knn__weights': 'distance', 'knn__n_neighbors': 152}\n",
      "-2.194552 (0.016718) with: {'knn__weights': 'uniform', 'knn__n_neighbors': 3}\n",
      "-2.116667 (0.007393) with: {'knn__weights': 'uniform', 'knn__n_neighbors': 159}\n",
      "-2.105786 (0.007194) with: {'knn__weights': 'uniform', 'knn__n_neighbors': 88}\n",
      "-2.092952 (0.007903) with: {'knn__weights': 'uniform', 'knn__n_neighbors': 23}\n",
      "-2.093661 (0.006919) with: {'knn__weights': 'uniform', 'knn__n_neighbors': 26}\n",
      "-2.121048 (0.006843) with: {'knn__weights': 'uniform', 'knn__n_neighbors': 195}\n",
      "-2.097268 (0.009686) with: {'knn__weights': 'uniform', 'knn__n_neighbors': 42}\n",
      "-2.086409 (0.007137) with: {'knn__weights': 'distance', 'knn__n_neighbors': 20}\n",
      "-2.109982 (0.007001) with: {'knn__weights': 'distance', 'knn__n_neighbors': 124}\n",
      "-2.092628 (0.008550) with: {'knn__weights': 'uniform', 'knn__n_neighbors': 33}\n",
      "-2.102179 (0.008359) with: {'knn__weights': 'uniform', 'knn__n_neighbors': 64}\n",
      "-2.107552 (0.006774) with: {'knn__weights': 'distance', 'knn__n_neighbors': 112}\n",
      "-2.097720 (0.008426) with: {'knn__weights': 'distance', 'knn__n_neighbors': 61}\n",
      "-2.105309 (0.007141) with: {'knn__weights': 'uniform', 'knn__n_neighbors': 85}\n",
      "-2.119726 (0.006884) with: {'knn__weights': 'uniform', 'knn__n_neighbors': 184}\n",
      "-2.098667 (0.008001) with: {'knn__weights': 'distance', 'knn__n_neighbors': 64}\n",
      "-2.126280 (0.010577) with: {'knn__weights': 'distance', 'knn__n_neighbors': 5}\n",
      "-2.109389 (0.007055) with: {'knn__weights': 'uniform', 'knn__n_neighbors': 106}\n",
      "-2.092545 (0.008426) with: {'knn__weights': 'distance', 'knn__n_neighbors': 42}\n",
      "-2.132893 (0.008759) with: {'knn__weights': 'uniform', 'knn__n_neighbors': 5}\n",
      "-2.120564 (0.006825) with: {'knn__weights': 'uniform', 'knn__n_neighbors': 192}\n",
      "-2.110975 (0.007072) with: {'knn__weights': 'distance', 'knn__n_neighbors': 130}\n",
      "-2.103252 (0.007212) with: {'knn__weights': 'distance', 'knn__n_neighbors': 89}\n",
      "-2.114351 (0.007496) with: {'knn__weights': 'uniform', 'knn__n_neighbors': 137}\n",
      "-2.115929 (0.007198) with: {'knn__weights': 'uniform', 'knn__n_neighbors': 150}\n",
      "-2.111861 (0.007112) with: {'knn__weights': 'distance', 'knn__n_neighbors': 137}\n",
      "-2.109484 (0.006827) with: {'knn__weights': 'distance', 'knn__n_neighbors': 122}\n",
      "-2.111775 (0.007011) with: {'knn__weights': 'uniform', 'knn__n_neighbors': 120}\n",
      "-2.103240 (0.007922) with: {'knn__weights': 'uniform', 'knn__n_neighbors': 67}\n",
      "-2.118169 (0.007366) with: {'knn__weights': 'uniform', 'knn__n_neighbors': 169}\n",
      "-2.095453 (0.006556) with: {'knn__weights': 'uniform', 'knn__n_neighbors': 15}\n",
      "-2.110469 (0.006878) with: {'knn__weights': 'distance', 'knn__n_neighbors': 127}\n",
      "-2.118158 (0.006811) with: {'knn__weights': 'distance', 'knn__n_neighbors': 192}\n",
      "-2.116123 (0.007454) with: {'knn__weights': 'uniform', 'knn__n_neighbors': 155}\n",
      "-2.119234 (0.006893) with: {'knn__weights': 'uniform', 'knn__n_neighbors': 179}\n",
      "-2.117963 (0.006637) with: {'knn__weights': 'distance', 'knn__n_neighbors': 190}\n",
      "-2.113061 (0.007081) with: {'knn__weights': 'distance', 'knn__n_neighbors': 146}\n",
      "-2.104011 (0.007949) with: {'knn__weights': 'uniform', 'knn__n_neighbors': 74}\n",
      "-2.108610 (0.006980) with: {'knn__weights': 'uniform', 'knn__n_neighbors': 100}\n",
      "-2.094767 (0.007554) with: {'knn__weights': 'uniform', 'knn__n_neighbors': 16}\n",
      "-2.095062 (0.006513) with: {'knn__weights': 'uniform', 'knn__n_neighbors': 13}\n",
      "-2.106123 (0.006886) with: {'knn__weights': 'distance', 'knn__n_neighbors': 101}\n",
      "-2.095320 (0.006465) with: {'knn__weights': 'distance', 'knn__n_neighbors': 9}\n",
      "-2.107302 (0.006803) with: {'knn__weights': 'distance', 'knn__n_neighbors': 109}\n",
      "-2.106742 (0.006870) with: {'knn__weights': 'distance', 'knn__n_neighbors': 107}\n",
      "-2.117390 (0.007562) with: {'knn__weights': 'uniform', 'knn__n_neighbors': 164}\n",
      "-2.091992 (0.007939) with: {'knn__weights': 'distance', 'knn__n_neighbors': 41}\n",
      "-2.114778 (0.007264) with: {'knn__weights': 'distance', 'knn__n_neighbors': 163}\n",
      "-2.116761 (0.006729) with: {'knn__weights': 'distance', 'knn__n_neighbors': 179}\n",
      "-2.107209 (0.007152) with: {'knn__weights': 'uniform', 'knn__n_neighbors': 93}\n",
      "-2.116851 (0.007383) with: {'knn__weights': 'uniform', 'knn__n_neighbors': 161}\n",
      "-2.087905 (0.008225) with: {'knn__weights': 'distance', 'knn__n_neighbors': 33}\n",
      "-2.111524 (0.007238) with: {'knn__weights': 'uniform', 'knn__n_neighbors': 118}\n",
      "-2.098592 (0.010243) with: {'knn__weights': 'uniform', 'knn__n_neighbors': 48}\n",
      "-2.097862 (0.010346) with: {'knn__weights': 'uniform', 'knn__n_neighbors': 46}\n",
      "-2.120449 (0.006825) with: {'knn__weights': 'uniform', 'knn__n_neighbors': 191}\n",
      "-2.114257 (0.007260) with: {'knn__weights': 'distance', 'knn__n_neighbors': 158}\n",
      "-2.111941 (0.006987) with: {'knn__weights': 'uniform', 'knn__n_neighbors': 121}\n",
      "-2.113183 (0.007034) with: {'knn__weights': 'distance', 'knn__n_neighbors': 147}\n",
      "-2.100639 (0.007374) with: {'knn__weights': 'distance', 'knn__n_neighbors': 8}\n",
      "-2.103002 (0.007139) with: {'knn__weights': 'distance', 'knn__n_neighbors': 88}\n",
      "-2.089463 (0.008045) with: {'knn__weights': 'distance', 'knn__n_neighbors': 37}\n",
      "-2.113654 (0.007451) with: {'knn__weights': 'uniform', 'knn__n_neighbors': 131}\n",
      "-2.115622 (0.007139) with: {'knn__weights': 'distance', 'knn__n_neighbors': 168}\n",
      "-2.114307 (0.007114) with: {'knn__weights': 'distance', 'knn__n_neighbors': 159}\n",
      "-2.099323 (0.010015) with: {'knn__weights': 'uniform', 'knn__n_neighbors': 52}\n",
      "-2.087035 (0.006802) with: {'knn__weights': 'distance', 'knn__n_neighbors': 14}\n",
      "-2.119732 (0.006787) with: {'knn__weights': 'uniform', 'knn__n_neighbors': 185}\n",
      "-2.092175 (0.007778) with: {'knn__weights': 'uniform', 'knn__n_neighbors': 18}\n",
      "-2.101543 (0.007246) with: {'knn__weights': 'distance', 'knn__n_neighbors': 79}\n",
      "-2.101273 (0.008990) with: {'knn__weights': 'uniform', 'knn__n_neighbors': 61}\n",
      "-2.112165 (0.007333) with: {'knn__weights': 'distance', 'knn__n_neighbors': 140}\n",
      "-2.087949 (0.007950) with: {'knn__weights': 'distance', 'knn__n_neighbors': 32}\n",
      "-2.105242 (0.006931) with: {'knn__weights': 'distance', 'knn__n_neighbors': 97}\n",
      "-2.120226 (0.006718) with: {'knn__weights': 'uniform', 'knn__n_neighbors': 189}\n",
      "-2.092485 (0.007623) with: {'knn__weights': 'uniform', 'knn__n_neighbors': 31}\n",
      "-2.114576 (0.007627) with: {'knn__weights': 'uniform', 'knn__n_neighbors': 139}\n",
      "-2.087710 (0.007236) with: {'knn__weights': 'distance', 'knn__n_neighbors': 31}\n",
      "-2.105895 (0.006892) with: {'knn__weights': 'distance', 'knn__n_neighbors': 100}\n",
      "-2.113757 (0.007122) with: {'knn__weights': 'distance', 'knn__n_neighbors': 155}\n",
      "-2.105043 (0.007314) with: {'knn__weights': 'uniform', 'knn__n_neighbors': 81}\n",
      "-2.111445 (0.007050) with: {'knn__weights': 'distance', 'knn__n_neighbors': 133}\n",
      "-2.115975 (0.007035) with: {'knn__weights': 'distance', 'knn__n_neighbors': 172}\n",
      "-2.087356 (0.007280) with: {'knn__weights': 'distance', 'knn__n_neighbors': 12}\n",
      "-2.113615 (0.007013) with: {'knn__weights': 'distance', 'knn__n_neighbors': 153}\n",
      "-2.102025 (0.008567) with: {'knn__weights': 'uniform', 'knn__n_neighbors': 63}\n",
      "-2.115898 (0.007051) with: {'knn__weights': 'distance', 'knn__n_neighbors': 171}\n",
      "-2.119634 (0.007013) with: {'knn__weights': 'uniform', 'knn__n_neighbors': 183}\n",
      "-2.114545 (0.007493) with: {'knn__weights': 'uniform', 'knn__n_neighbors': 138}\n",
      "-2.115494 (0.007159) with: {'knn__weights': 'distance', 'knn__n_neighbors': 167}\n",
      "-2.098430 (0.010632) with: {'knn__weights': 'uniform', 'knn__n_neighbors': 47}\n",
      "-2.117777 (0.006687) with: {'knn__weights': 'distance', 'knn__n_neighbors': 189}\n",
      "-2.098854 (0.010207) with: {'knn__weights': 'uniform', 'knn__n_neighbors': 50}\n",
      "-2.113338 (0.007318) with: {'knn__weights': 'uniform', 'knn__n_neighbors': 128}\n",
      "-2.112160 (0.006957) with: {'knn__weights': 'uniform', 'knn__n_neighbors': 122}\n",
      "-2.110236 (0.006909) with: {'knn__weights': 'uniform', 'knn__n_neighbors': 111}\n",
      "-2.118362 (0.006839) with: {'knn__weights': 'distance', 'knn__n_neighbors': 193}\n",
      "-2.112053 (0.007236) with: {'knn__weights': 'distance', 'knn__n_neighbors': 139}\n",
      "-2.100165 (0.007567) with: {'knn__weights': 'distance', 'knn__n_neighbors': 68}\n",
      "-2.282340 (0.015838) with: {'knn__weights': 'distance', 'knn__n_neighbors': 2}\n",
      "-2.107839 (0.006762) with: {'knn__weights': 'distance', 'knn__n_neighbors': 113}\n",
      "-2.100640 (0.010108) with: {'knn__weights': 'uniform', 'knn__n_neighbors': 56}\n",
      "-2.105387 (0.007299) with: {'knn__weights': 'uniform', 'knn__n_neighbors': 87}\n",
      "-2.104954 (0.007734) with: {'knn__weights': 'distance', 'knn__n_neighbors': 7}\n",
      "-2.108261 (0.007022) with: {'knn__weights': 'uniform', 'knn__n_neighbors': 99}\n",
      "-2.117695 (0.006738) with: {'knn__weights': 'distance', 'knn__n_neighbors': 188}\n",
      "-2.104643 (0.007883) with: {'knn__weights': 'uniform', 'knn__n_neighbors': 76}\n",
      "-2.104671 (0.006979) with: {'knn__weights': 'distance', 'knn__n_neighbors': 95}\n",
      "-2.115960 (0.007349) with: {'knn__weights': 'uniform', 'knn__n_neighbors': 152}\n",
      "-2.112666 (0.007186) with: {'knn__weights': 'uniform', 'knn__n_neighbors': 124}\n",
      "-2.086132 (0.008000) with: {'knn__weights': 'distance', 'knn__n_neighbors': 21}\n",
      "-2.097758 (0.010035) with: {'knn__weights': 'uniform', 'knn__n_neighbors': 44}\n",
      "-2.097551 (0.010045) with: {'knn__weights': 'uniform', 'knn__n_neighbors': 45}\n",
      "-2.120801 (0.006808) with: {'knn__weights': 'uniform', 'knn__n_neighbors': 193}\n",
      "-2.104660 (0.007457) with: {'knn__weights': 'uniform', 'knn__n_neighbors': 79}\n",
      "-2.107372 (0.006864) with: {'knn__weights': 'distance', 'knn__n_neighbors': 110}\n",
      "-2.111572 (0.006975) with: {'knn__weights': 'distance', 'knn__n_neighbors': 134}\n",
      "-2.110971 (0.007096) with: {'knn__weights': 'distance', 'knn__n_neighbors': 131}\n",
      "-2.100893 (0.010115) with: {'knn__weights': 'uniform', 'knn__n_neighbors': 57}\n",
      "-2.106542 (0.007011) with: {'knn__weights': 'distance', 'knn__n_neighbors': 105}\n",
      "-2.087029 (0.007264) with: {'knn__weights': 'distance', 'knn__n_neighbors': 16}\n",
      "-2.106441 (0.006841) with: {'knn__weights': 'distance', 'knn__n_neighbors': 104}\n",
      "-2.114327 (0.007147) with: {'knn__weights': 'distance', 'knn__n_neighbors': 160}\n",
      "-2.100877 (0.007481) with: {'knn__weights': 'distance', 'knn__n_neighbors': 75}\n",
      "-2.087282 (0.007824) with: {'knn__weights': 'distance', 'knn__n_neighbors': 23}\n",
      "-2.118829 (0.006856) with: {'knn__weights': 'distance', 'knn__n_neighbors': 197}\n",
      "-2.093248 (0.007762) with: {'knn__weights': 'uniform', 'knn__n_neighbors': 30}\n",
      "-2.117169 (0.007596) with: {'knn__weights': 'uniform', 'knn__n_neighbors': 163}\n",
      "-2.110043 (0.006842) with: {'knn__weights': 'uniform', 'knn__n_neighbors': 109}\n",
      "-2.115521 (0.007493) with: {'knn__weights': 'uniform', 'knn__n_neighbors': 146}\n",
      "-2.092110 (0.008755) with: {'knn__weights': 'uniform', 'knn__n_neighbors': 22}\n",
      "-2.100222 (0.007671) with: {'knn__weights': 'distance', 'knn__n_neighbors': 69}\n",
      "-2.107514 (0.006839) with: {'knn__weights': 'distance', 'knn__n_neighbors': 111}\n",
      "-2.113432 (0.006895) with: {'knn__weights': 'distance', 'knn__n_neighbors': 150}\n",
      "-2.119047 (0.006820) with: {'knn__weights': 'distance', 'knn__n_neighbors': 200}\n",
      "-2.085407 (0.007262) with: {'knn__weights': 'distance', 'knn__n_neighbors': 18}\n",
      "-2.118429 (0.007369) with: {'knn__weights': 'uniform', 'knn__n_neighbors': 172}\n",
      "-2.121414 (0.006785) with: {'knn__weights': 'uniform', 'knn__n_neighbors': 199}\n",
      "-2.100661 (0.009903) with: {'knn__weights': 'uniform', 'knn__n_neighbors': 58}\n",
      "-2.088248 (0.007332) with: {'knn__weights': 'distance', 'knn__n_neighbors': 29}\n",
      "-2.106014 (0.007168) with: {'knn__weights': 'uniform', 'knn__n_neighbors': 89}\n",
      "-2.100440 (0.006484) with: {'knn__weights': 'uniform', 'knn__n_neighbors': 10}\n",
      "-2.102600 (0.007288) with: {'knn__weights': 'distance', 'knn__n_neighbors': 87}\n",
      "-2.115809 (0.007023) with: {'knn__weights': 'distance', 'knn__n_neighbors': 170}\n",
      "-2.101485 (0.007091) with: {'knn__weights': 'distance', 'knn__n_neighbors': 78}\n",
      "-2.110028 (0.006961) with: {'knn__weights': 'distance', 'knn__n_neighbors': 125}\n",
      "-2.118490 (0.006597) with: {'knn__weights': 'uniform', 'knn__n_neighbors': 6}\n",
      "-2.117170 (0.006864) with: {'knn__weights': 'distance', 'knn__n_neighbors': 183}\n",
      "-2.096724 (0.008823) with: {'knn__weights': 'distance', 'knn__n_neighbors': 56}\n",
      "-2.103896 (0.008199) with: {'knn__weights': 'uniform', 'knn__n_neighbors': 70}\n"
     ]
    }
   ],
   "source": [
    "# summarize results\n",
    "\n",
    "print(\"Best: %f using %s\" % (grid_result.best_score_, grid_result.best_params_))\n",
    "means=grid_result.cv_results_['mean_test_score']\n",
    "stds=grid_result.cv_results_['std_test_score']\n",
    "params=grid_result.cv_results_['params']\n",
    "\n",
    "for mean, stdev, param in zip(means,stds, params):\n",
    "    print (\"%f (%f) with: %r\" % (mean,stdev,param))"
   ]
  },
  {
   "cell_type": "code",
   "execution_count": 59,
   "metadata": {},
   "outputs": [],
   "source": [
    "df_resgscv_knn=pd.DataFrame(grid_result.cv_results_)"
   ]
  },
  {
   "cell_type": "code",
   "execution_count": 60,
   "metadata": {},
   "outputs": [
    {
     "data": {
      "text/plain": [
       "{'knn__weights': 'distance', 'knn__n_neighbors': 18}"
      ]
     },
     "execution_count": 60,
     "metadata": {},
     "output_type": "execute_result"
    }
   ],
   "source": [
    "grid_result.best_params_"
   ]
  },
  {
   "cell_type": "code",
   "execution_count": 61,
   "metadata": {},
   "outputs": [],
   "source": [
    "# df_resgscv_svr.to_excel('SVR.xlsx', sheet_name='SVRCV')\n",
    "\n",
    "with pd.ExcelWriter('HYPER_RESULTS_II.xlsx',engine='openpyxl', mode='a') as writer:\n",
    "     df_resgscv_knn.to_excel(writer, sheet_name='KNN_CV')"
   ]
  },
  {
   "cell_type": "raw",
   "metadata": {},
   "source": [
    "KNN Fit best Model"
   ]
  }
 ],
 "metadata": {
  "kernelspec": {
   "display_name": "Python 3",
   "language": "python",
   "name": "python3"
  },
  "language_info": {
   "codemirror_mode": {
    "name": "ipython",
    "version": 3
   },
   "file_extension": ".py",
   "mimetype": "text/x-python",
   "name": "python",
   "nbconvert_exporter": "python",
   "pygments_lexer": "ipython3",
   "version": "3.7.6"
  }
 },
 "nbformat": 4,
 "nbformat_minor": 4
}
