{
 "cells": [
  {
   "cell_type": "markdown",
   "metadata": {},
   "source": [
    "# Fit Best models"
   ]
  },
  {
   "cell_type": "code",
   "execution_count": 142,
   "metadata": {},
   "outputs": [],
   "source": [
    "import numpy as np\n",
    "import pandas as pd\n",
    "import matplotlib.pyplot as plt\n",
    "%matplotlib inline\n",
    "import seaborn as sns\n",
    "from sklearn.model_selection import train_test_split\n",
    "from sklearn.model_selection import StratifiedShuffleSplit\n",
    "from sklearn.model_selection import KFold\n",
    "from sklearn.preprocessing import StandardScaler\n",
    "from sklearn.decomposition import PCA\n",
    "from sklearn.model_selection import cross_val_score\n",
    "from sklearn.pipeline import Pipeline\n",
    "import math\n",
    "from sklearn.model_selection import GridSearchCV\n",
    "from sklearn import metrics\n",
    "from sklearn.metrics import mean_squared_error, r2_score, mean_absolute_error\n",
    "from sklearn.ensemble import RandomForestRegressor\n",
    "from sklearn.svm import SVR\n",
    "from sklearn.ensemble import BaggingRegressor\n",
    "from sklearn.linear_model import Ridge\n",
    "from sklearn.neighbors import KNeighborsRegressor \n",
    "from sklearn.model_selection import cross_val_score\n",
    "from sklearn.linear_model import LinearRegression\n",
    "import statsmodels.api as sm\n",
    "import xgboost as xgb"
   ]
  },
  {
   "cell_type": "code",
   "execution_count": 2,
   "metadata": {},
   "outputs": [],
   "source": [
    "seed=42\n",
    "kf=4"
   ]
  },
  {
   "cell_type": "code",
   "execution_count": 3,
   "metadata": {},
   "outputs": [],
   "source": [
    "X11Y11_train=pd.read_excel('X11Y11_train.xlsx')\n",
    "X11Y11_test=pd.read_excel('X11Y11_test.xlsx')"
   ]
  },
  {
   "cell_type": "code",
   "execution_count": 4,
   "metadata": {},
   "outputs": [],
   "source": [
    "LassoFeatToDrop =['Student_Computer', 'Student_Internet', 'Student_ActiveWorking',\n",
    "       'Student_Parish', 'Student_County', 'STD_Resp_Himself',\n",
    "       'STD_Resp_LegalResp', 'FTH_Nation_EEUR', 'FTH_Nation_OTHERS',\n",
    "       'FTH_Nation_RICH', 'SES_STDRESP_ProfClass_UnivI',\n",
    "       'SES_STDRESP_ProfClass_UnivII',\n",
    "       'SES_STDRESP_ProfClass_Unknown_NoProfession',\n",
    "       'SES_FATH_ProfClass_BasicI', 'SES_FATH_ProfClass_Unknown_NoProfession',\n",
    "       'SES_MOTH_ProfClass_UnivI', 'SES_MOTH_ProfClass_Unknown_NoProfession',\n",
    "       'SES_STDRESP_JobSit_HomeAffairs', 'SES_STDRESP_JobSit_Other',\n",
    "       'SES_STDRESP_JobSit_Retired', 'SES_STDRESP_JobSit_Student',\n",
    "       'SES_STDRESP_JobSit_Unemployed', 'SES_STDRESP_JobSit_Unknown',\n",
    "       'SES_FATH_JobSit_Employer', 'SES_FATH_JobSit_Other',\n",
    "       'SES_FATH_JobSit_Retired', 'SES_FATH_JobSit_SelfEmployed',\n",
    "       'SES_FATH_JobSit_Student', 'SES_FATH_JobSit_Unemployed',\n",
    "       'SES_FATH_JobSit_Unknown', 'SES_MOTH_JobSit_Employer',\n",
    "       'SES_MOTH_JobSit_HomeAffairs', 'SES_MOTH_JobSit_SelfEmployed',\n",
    "       'SES_MOTH_JobSit_Student', 'SES_MOTH_JobSit_Unemployed',\n",
    "       'SES_MOTH_JobSit_Unknown', 'SES_STDRESP_AcadEduc_Basic_III',\n",
    "       'SES_STDRESP_AcadEduc_Master', 'SES_STDRESP_AcadEduc_Other',\n",
    "       'SES_STDRESP_AcadEduc_PostGraduation', 'SES_STDRESP_AcadEduc_Unknown',\n",
    "       'SES_FATH_AcadEduc_Bachelor', 'SES_FATH_AcadEduc_Basic_III',\n",
    "       'SES_FATH_AcadEduc_NoFormalEducation', 'SES_FATH_AcadEduc_Other',\n",
    "       'SES_FATH_AcadEduc_PostGraduation', 'SES_FATH_AcadEduc_Unknown',\n",
    "       'SES_MOTH_AcadEduc_Bachelor', 'SES_MOTH_AcadEduc_Basic_II',\n",
    "       'SES_MOTH_AcadEduc_NoFormalEducation', 'SES_MOTH_AcadEduc_Other',\n",
    "       'SES_MOTH_AcadEduc_PostGraduation', 'SES_MOTH_AcadEduc_Unknown',\n",
    "       'SES_Scholarship_Half_Support', 'SES%_Parish_CollectiveDwellings',\n",
    "       'SES%_Parish_IliteracyRate', 'SES%_Parish_PostSecondarySchoolingRate',\n",
    "       'SES%_Parish_PrimarySector', 'Tch_FixedTermStaff',\n",
    "       'Tch_PedagogicZoneDefinitivePermanentStaff',\n",
    "       'Tch_PedagogicZoneNoDefinitivePermanentStaff',\n",
    "       'Tch_SchoolClusterNoDefinitivePermanentStaff',\n",
    "       'Tch_SchoolNoDefinitivePermanentStaff', 'Tch_AcadEduc_Bachelor',\n",
    "       'Tch_AcadEduc_Phd_Master', 'Tch_Step_8910', 'Tch_Gender_F',\n",
    "       'Teacher_EducationSupport', 'Teacher_Age',\n",
    "       'Teacher_TeachingDedicatedTime', 'Teacher_NoTeachingDedicatedTime']"
   ]
  },
  {
   "cell_type": "code",
   "execution_count": 5,
   "metadata": {},
   "outputs": [],
   "source": [
    "XY_train=X11Y11_train.drop(LassoFeatToDrop, axis=1)\n",
    "XY_test=X11Y11_test.drop(LassoFeatToDrop, axis=1)"
   ]
  },
  {
   "cell_type": "code",
   "execution_count": 6,
   "metadata": {},
   "outputs": [],
   "source": [
    "XY_train=XY_train.drop(['Unnamed: 0', 'AcYear_11', 'AcYear_12'], axis=1)\n",
    "XY_test=XY_test.drop(['Unnamed: 0', 'AcYear_11', 'AcYear_12'], axis=1)"
   ]
  },
  {
   "cell_type": "raw",
   "metadata": {},
   "source": [
    "XY_train:50\n",
    "XY_test:50\n",
    "input 49"
   ]
  },
  {
   "cell_type": "code",
   "execution_count": 7,
   "metadata": {},
   "outputs": [
    {
     "data": {
      "text/plain": [
       "(9488, 50)"
      ]
     },
     "execution_count": 7,
     "metadata": {},
     "output_type": "execute_result"
    }
   ],
   "source": [
    "XY_test.shape"
   ]
  },
  {
   "cell_type": "code",
   "execution_count": 8,
   "metadata": {},
   "outputs": [],
   "source": [
    "X_train=XY_train.iloc[:,:49]\n",
    "Y_train=XY_train.iloc[:,-1]\n",
    "\n",
    "X_test=XY_test.iloc[:,:49]\n",
    "Y_test=XY_test.iloc[:,-1]"
   ]
  },
  {
   "cell_type": "code",
   "execution_count": 9,
   "metadata": {},
   "outputs": [],
   "source": [
    "Y_train=Y_train.to_numpy()\n",
    "Y_test=Y_test.to_numpy()"
   ]
  },
  {
   "cell_type": "code",
   "execution_count": 10,
   "metadata": {},
   "outputs": [
    {
     "data": {
      "text/plain": [
       "Index(['Std_Gender_F', 'N_Retentions', 'School_Size', 'Class_Size',\n",
       "       'Student_NumberEnrolments', 'STD_Resp_CloseRelative', 'STD_Resp_Father',\n",
       "       'FTH_Nation_AFR', 'FTH_Nation_BR', 'FTH_Nation_CHN',\n",
       "       'SES_STDRESP_ProfClass_BasicI', 'SES_FATH_ProfClass_UnivI',\n",
       "       'SES_FATH_ProfClass_UnivII', 'SES_MOTH_ProfClass_BasicI',\n",
       "       'SES_MOTH_ProfClass_UnivII', 'SES_STDRESP_JobSit_Employer',\n",
       "       'SES_STDRESP_JobSit_SelfEmployed', 'SES_FATH_JobSit_HomeAffairs',\n",
       "       'SES_MOTH_JobSit_Other', 'SES_MOTH_JobSit_Retired',\n",
       "       'SES_STDRESP_AcadEduc_Bachelor', 'SES_STDRESP_AcadEduc_Basic_I',\n",
       "       'SES_STDRESP_AcadEduc_Basic_II', 'SES_STDRESP_AcadEduc_Degree',\n",
       "       'SES_STDRESP_AcadEduc_NoFormalEducation', 'SES_STDRESP_AcadEduc_Phd',\n",
       "       'SES_FATH_AcadEduc_Basic_I', 'SES_FATH_AcadEduc_Basic_II',\n",
       "       'SES_FATH_AcadEduc_Degree', 'SES_FATH_AcadEduc_Master',\n",
       "       'SES_FATH_AcadEduc_Phd', 'SES_MOTH_AcadEduc_Basic_I',\n",
       "       'SES_MOTH_AcadEduc_Basic_III', 'SES_MOTH_AcadEduc_Degree',\n",
       "       'SES_MOTH_AcadEduc_Master', 'SES_MOTH_AcadEduc_Phd',\n",
       "       'SES_Scholarship_Full_Support', 'SES%_Parish_FamilyNoClassicDwellings',\n",
       "       'SES%_Parish_SecondarySector', 'SES%_Parish_UnemploymentRate',\n",
       "       'Tch_SchoolClusterDefinitivePermanentStaff', 'Tch_AcadEduc_Other',\n",
       "       'Tch_Step_1234', 'Tch_Step_567', 'Teacher_TemporaryReplacement',\n",
       "       'Teacher_EducationSupportDedicatedTime', 'SubjClass_Foreign_Lang',\n",
       "       'SubjClass_Qual', 'SubjClass_Quant'],\n",
       "      dtype='object')"
      ]
     },
     "execution_count": 10,
     "metadata": {},
     "output_type": "execute_result"
    }
   ],
   "source": [
    "X_train.columns"
   ]
  },
  {
   "cell_type": "code",
   "execution_count": 11,
   "metadata": {},
   "outputs": [],
   "source": [
    "# standardization\n",
    "scaler=StandardScaler()"
   ]
  },
  {
   "cell_type": "code",
   "execution_count": 12,
   "metadata": {},
   "outputs": [],
   "source": [
    "tscale=scaler.fit(X_train)\n",
    "X_train_std=tscale.transform(X_train)\n",
    "X_test_std=tscale.transform(X_test)"
   ]
  },
  {
   "cell_type": "markdown",
   "metadata": {},
   "source": [
    "## Fit best models"
   ]
  },
  {
   "cell_type": "markdown",
   "metadata": {},
   "source": [
    "### OLS - Multiple Linear Regression"
   ]
  },
  {
   "cell_type": "code",
   "execution_count": 13,
   "metadata": {},
   "outputs": [],
   "source": [
    "OLS_rgr = LinearRegression(fit_intercept=True, normalize=False, copy_X=True, n_jobs=None)"
   ]
  },
  {
   "cell_type": "code",
   "execution_count": 14,
   "metadata": {},
   "outputs": [],
   "source": [
    "# Define sklearn pipeline\n",
    "estimators = []\n",
    "estimators.append(('standardize', StandardScaler()))\n",
    "estimators.append(('OLS', OLS_rgr))\n",
    "pipeline = Pipeline(estimators)"
   ]
  },
  {
   "cell_type": "code",
   "execution_count": 15,
   "metadata": {},
   "outputs": [
    {
     "data": {
      "text/plain": [
       "LinearRegression(copy_X=True, fit_intercept=True, n_jobs=None, normalize=False)"
      ]
     },
     "execution_count": 15,
     "metadata": {},
     "output_type": "execute_result"
    }
   ],
   "source": [
    "OLS_rgr.fit(X_train_std, Y_train)"
   ]
  },
  {
   "cell_type": "code",
   "execution_count": 16,
   "metadata": {},
   "outputs": [
    {
     "data": {
      "text/plain": [
       "0.16444939041191475"
      ]
     },
     "execution_count": 16,
     "metadata": {},
     "output_type": "execute_result"
    }
   ],
   "source": [
    "OLS_rgr.score(X_train_std, Y_train)"
   ]
  },
  {
   "cell_type": "code",
   "execution_count": 17,
   "metadata": {},
   "outputs": [
    {
     "data": {
      "text/plain": [
       "array([ 0.41799674, -0.37950065,  0.07451031,  0.02911293, -0.03333604,\n",
       "       -0.02945469,  0.04878682, -0.03454578,  0.03821111,  0.03821893,\n",
       "       -0.02464988,  0.0383807 ,  0.11266056, -0.01754365,  0.13772113,\n",
       "       -0.03841477, -0.03923797, -0.04175595, -0.0606585 , -0.02904791,\n",
       "        0.06907931, -0.05228655, -0.04049974,  0.05338095, -0.0321535 ,\n",
       "        0.01729078, -0.03604605, -0.02999972,  0.13346991,  0.07243475,\n",
       "        0.11064359, -0.01965616, -0.10668811,  0.18032213,  0.07023392,\n",
       "        0.03889999, -0.04296694, -0.04428037,  0.19952279,  0.05491631,\n",
       "        0.0666894 ,  0.0355975 ,  0.03528861, -0.03197627, -0.03874448,\n",
       "       -0.06215058,  0.71353286, -0.02199991,  0.21677998])"
      ]
     },
     "execution_count": 17,
     "metadata": {},
     "output_type": "execute_result"
    }
   ],
   "source": [
    "OLS_rgr.coef_"
   ]
  },
  {
   "cell_type": "code",
   "execution_count": 18,
   "metadata": {},
   "outputs": [
    {
     "data": {
      "text/plain": [
       "13.755129023433938"
      ]
     },
     "execution_count": 18,
     "metadata": {},
     "output_type": "execute_result"
    }
   ],
   "source": [
    "OLS_rgr.intercept_"
   ]
  },
  {
   "cell_type": "raw",
   "metadata": {},
   "source": [
    "scoring={'MSE': 'neg_mean_squared_error', 'MAE': 'neg_mean_absolute_error', 'R2': 'r2'}"
   ]
  },
  {
   "cell_type": "code",
   "execution_count": 19,
   "metadata": {},
   "outputs": [],
   "source": [
    "scores_MSE = cross_val_score(pipeline, X_train, Y_train, cv=kf,\n",
    "                         scoring='neg_mean_squared_error')\n",
    "scores_MAE = cross_val_score(pipeline, X_train, Y_train, cv=kf,\n",
    "                         scoring='neg_mean_absolute_error')\n",
    "scores_R2 = cross_val_score(pipeline, X_train, Y_train, cv=kf,\n",
    "                         scoring='r2')"
   ]
  },
  {
   "cell_type": "code",
   "execution_count": 20,
   "metadata": {},
   "outputs": [
    {
     "name": "stdout",
     "output_type": "stream",
     "text": [
      "MSE: 6.58 (+/- 0.14)\n",
      "MAE: 2.09 (+/- 0.02)\n",
      "R2: -0.16 (+/- 0.02)\n"
     ]
    }
   ],
   "source": [
    "print(\"MSE: %0.2f (+/- %0.2f)\" % (-scores_MSE.mean(), scores_MSE.std() * 2))\n",
    "print(\"MAE: %0.2f (+/- %0.2f)\" % (-scores_MAE.mean(), scores_MAE.std() * 2))\n",
    "print(\"R2: %0.2f (+/- %0.2f)\" % (-scores_R2.mean(), scores_R2.std() * 2))"
   ]
  },
  {
   "cell_type": "code",
   "execution_count": 21,
   "metadata": {},
   "outputs": [],
   "source": [
    "df_scorescv_ols_MSE=pd.DataFrame(scores_MSE)\n",
    "df_scorescv_ols_MAE=pd.DataFrame(scores_MAE)\n",
    "df_scorescv_ols_R2=pd.DataFrame(scores_R2)"
   ]
  },
  {
   "cell_type": "code",
   "execution_count": 22,
   "metadata": {},
   "outputs": [],
   "source": [
    "df_scorescv_ols_MSE.to_excel('FINALRESULTS_CV_11.xlsx', sheet_name='OLS_MSE')\n",
    "\n",
    "with pd.ExcelWriter('FINALRESULTS_CV_11.xlsx',engine='openpyxl', mode='a') as writer:\n",
    "    df_scorescv_ols_MAE.to_excel(writer, sheet_name='OLS_MAE')\n",
    "\n",
    "with pd.ExcelWriter('FINALRESULTS_CV_11.xlsx',engine='openpyxl', mode='a') as writer:\n",
    "    df_scorescv_ols_R2.to_excel(writer, sheet_name='OLS_R2')"
   ]
  },
  {
   "cell_type": "code",
   "execution_count": 23,
   "metadata": {},
   "outputs": [],
   "source": [
    "mse_OLS_rgr_cv = -scores_MSE.mean()\n",
    "mse_std_OLS_rgr_cv = -scores_MSE.std()\n",
    "mae_OLS_rgr_cv = -scores_MAE.mean()\n",
    "mae_std_OLS_rgr_cv = -scores_MAE.std()\n",
    "r2_OLS_rgr_cv = -scores_R2.mean()\n",
    "r2_std_OLS_rgr_cv = -scores_R2.std()"
   ]
  },
  {
   "cell_type": "code",
   "execution_count": 24,
   "metadata": {},
   "outputs": [],
   "source": [
    "Y_train_pred=OLS_rgr.predict(X_train_std)\n",
    "Y_test_pred=OLS_rgr.predict(X_test_std)"
   ]
  },
  {
   "cell_type": "code",
   "execution_count": 25,
   "metadata": {},
   "outputs": [],
   "source": [
    "mse_OLS_rgr_train = metrics.mean_squared_error(Y_train, Y_train_pred) \n",
    "mse_OLS_rgr_test = metrics.mean_squared_error(Y_test, Y_test_pred)\n",
    "\n",
    "mae_OLS_rgr_train = metrics.mean_absolute_error(Y_train, Y_train_pred) \n",
    "mae_OLS_rgr_test = metrics.mean_absolute_error(Y_test, Y_test_pred)\n",
    "\n",
    "r2_OLS_rgr_train = metrics.r2_score(Y_train, Y_train_pred)\n",
    "r2_OLS_rgr_test = metrics.r2_score(Y_test, Y_test_pred)"
   ]
  },
  {
   "cell_type": "code",
   "execution_count": 26,
   "metadata": {},
   "outputs": [],
   "source": [
    "columns = ['MSE_train','MAE_train','R2_train',\n",
    "           'MSE_cv','MSE_std_cv','MAE_cv','MAE_std_cv','R2_cv','R2_std_cv',\n",
    "           'MSE_test','MAE_test', 'R2_test']"
   ]
  },
  {
   "cell_type": "code",
   "execution_count": 27,
   "metadata": {},
   "outputs": [],
   "source": [
    "df_results= pd.DataFrame(columns=columns)"
   ]
  },
  {
   "cell_type": "code",
   "execution_count": 28,
   "metadata": {},
   "outputs": [],
   "source": [
    "new_results_dic = {'MSE_train': mse_OLS_rgr_train, 'MAE_train': mae_OLS_rgr_train,'R2_train': r2_OLS_rgr_train,\n",
    "                   'MSE_cv': mse_OLS_rgr_cv, 'MSE_std_cv': mse_std_OLS_rgr_cv, 'MAE_cv': mae_OLS_rgr_cv,\n",
    "                   'MAE_std_cv': mae_std_OLS_rgr_cv, 'R2_cv': r2_OLS_rgr_cv, 'R2_std_cv': r2_std_OLS_rgr_cv,\n",
    "                   'MSE_test': mse_OLS_rgr_test, 'MAE_test': mae_OLS_rgr_test, 'R2_test': r2_OLS_rgr_test}\n",
    "df_results.loc[len(df_results)] = new_results_dic\n"
   ]
  },
  {
   "cell_type": "code",
   "execution_count": 29,
   "metadata": {},
   "outputs": [
    {
     "data": {
      "text/html": [
       "<div>\n",
       "<style scoped>\n",
       "    .dataframe tbody tr th:only-of-type {\n",
       "        vertical-align: middle;\n",
       "    }\n",
       "\n",
       "    .dataframe tbody tr th {\n",
       "        vertical-align: top;\n",
       "    }\n",
       "\n",
       "    .dataframe thead th {\n",
       "        text-align: right;\n",
       "    }\n",
       "</style>\n",
       "<table border=\"1\" class=\"dataframe\">\n",
       "  <thead>\n",
       "    <tr style=\"text-align: right;\">\n",
       "      <th></th>\n",
       "      <th>MSE_train</th>\n",
       "      <th>MAE_train</th>\n",
       "      <th>R2_train</th>\n",
       "      <th>MSE_cv</th>\n",
       "      <th>MSE_std_cv</th>\n",
       "      <th>MAE_cv</th>\n",
       "      <th>MAE_std_cv</th>\n",
       "      <th>R2_cv</th>\n",
       "      <th>R2_std_cv</th>\n",
       "      <th>MSE_test</th>\n",
       "      <th>MAE_test</th>\n",
       "      <th>R2_test</th>\n",
       "    </tr>\n",
       "  </thead>\n",
       "  <tbody>\n",
       "    <tr>\n",
       "      <th>OLS</th>\n",
       "      <td>6.539793</td>\n",
       "      <td>2.083443</td>\n",
       "      <td>0.164449</td>\n",
       "      <td>6.580865</td>\n",
       "      <td>-0.069856</td>\n",
       "      <td>2.090003</td>\n",
       "      <td>-0.011773</td>\n",
       "      <td>-0.159108</td>\n",
       "      <td>-0.007535</td>\n",
       "      <td>6.559855</td>\n",
       "      <td>2.088153</td>\n",
       "      <td>0.15609</td>\n",
       "    </tr>\n",
       "  </tbody>\n",
       "</table>\n",
       "</div>"
      ],
      "text/plain": [
       "     MSE_train  MAE_train  R2_train    MSE_cv  MSE_std_cv    MAE_cv  \\\n",
       "OLS   6.539793   2.083443  0.164449  6.580865   -0.069856  2.090003   \n",
       "\n",
       "     MAE_std_cv     R2_cv  R2_std_cv  MSE_test  MAE_test  R2_test  \n",
       "OLS   -0.011773 -0.159108  -0.007535  6.559855  2.088153  0.15609  "
      ]
     },
     "execution_count": 29,
     "metadata": {},
     "output_type": "execute_result"
    }
   ],
   "source": [
    "indexNamesArr = df_results.index.values\n",
    "i = indexNamesArr[-1]\n",
    "df_results.rename(index={i:'OLS'}, inplace=True)\n",
    "df_results.head()"
   ]
  },
  {
   "cell_type": "code",
   "execution_count": 30,
   "metadata": {},
   "outputs": [],
   "source": [
    "X_train_constant = sm.add_constant(X_train)\n",
    "X_test_constant = sm.add_constant(X_test)\n",
    "X_train_std_constant=sm.add_constant(X_train_std)"
   ]
  },
  {
   "cell_type": "code",
   "execution_count": 31,
   "metadata": {
    "scrolled": false
   },
   "outputs": [
    {
     "data": {
      "text/html": [
       "<table class=\"simpletable\">\n",
       "<caption>OLS Regression Results</caption>\n",
       "<tr>\n",
       "  <th>Dep. Variable:</th>            <td>y</td>        <th>  R-squared:         </th> <td>   0.164</td> \n",
       "</tr>\n",
       "<tr>\n",
       "  <th>Model:</th>                   <td>OLS</td>       <th>  Adj. R-squared:    </th> <td>   0.163</td> \n",
       "</tr>\n",
       "<tr>\n",
       "  <th>Method:</th>             <td>Least Squares</td>  <th>  F-statistic:       </th> <td>   87.90</td> \n",
       "</tr>\n",
       "<tr>\n",
       "  <th>Date:</th>             <td>Wed, 21 Oct 2020</td> <th>  Prob (F-statistic):</th>  <td>  0.00</td>  \n",
       "</tr>\n",
       "<tr>\n",
       "  <th>Time:</th>                 <td>14:51:09</td>     <th>  Log-Likelihood:    </th> <td> -51718.</td> \n",
       "</tr>\n",
       "<tr>\n",
       "  <th>No. Observations:</th>      <td> 21934</td>      <th>  AIC:               </th> <td>1.035e+05</td>\n",
       "</tr>\n",
       "<tr>\n",
       "  <th>Df Residuals:</th>          <td> 21884</td>      <th>  BIC:               </th> <td>1.039e+05</td>\n",
       "</tr>\n",
       "<tr>\n",
       "  <th>Df Model:</th>              <td>    49</td>      <th>                     </th>     <td> </td>    \n",
       "</tr>\n",
       "<tr>\n",
       "  <th>Covariance Type:</th>      <td>nonrobust</td>    <th>                     </th>     <td> </td>    \n",
       "</tr>\n",
       "</table>\n",
       "<table class=\"simpletable\">\n",
       "<tr>\n",
       "    <td></td>       <th>coef</th>     <th>std err</th>      <th>t</th>      <th>P>|t|</th>  <th>[0.025</th>    <th>0.975]</th>  \n",
       "</tr>\n",
       "<tr>\n",
       "  <th>const</th> <td>   13.7551</td> <td>    0.017</td> <td>  795.694</td> <td> 0.000</td> <td>   13.721</td> <td>   13.789</td>\n",
       "</tr>\n",
       "<tr>\n",
       "  <th>x1</th>    <td>    0.4180</td> <td>    0.017</td> <td>   23.961</td> <td> 0.000</td> <td>    0.384</td> <td>    0.452</td>\n",
       "</tr>\n",
       "<tr>\n",
       "  <th>x2</th>    <td>   -0.3795</td> <td>    0.018</td> <td>  -20.922</td> <td> 0.000</td> <td>   -0.415</td> <td>   -0.344</td>\n",
       "</tr>\n",
       "<tr>\n",
       "  <th>x3</th>    <td>    0.0745</td> <td>    0.018</td> <td>    4.147</td> <td> 0.000</td> <td>    0.039</td> <td>    0.110</td>\n",
       "</tr>\n",
       "<tr>\n",
       "  <th>x4</th>    <td>    0.0291</td> <td>    0.018</td> <td>    1.640</td> <td> 0.101</td> <td>   -0.006</td> <td>    0.064</td>\n",
       "</tr>\n",
       "<tr>\n",
       "  <th>x5</th>    <td>   -0.0333</td> <td>    0.017</td> <td>   -1.912</td> <td> 0.056</td> <td>   -0.068</td> <td>    0.001</td>\n",
       "</tr>\n",
       "<tr>\n",
       "  <th>x6</th>    <td>   -0.0295</td> <td>    0.018</td> <td>   -1.658</td> <td> 0.097</td> <td>   -0.064</td> <td>    0.005</td>\n",
       "</tr>\n",
       "<tr>\n",
       "  <th>x7</th>    <td>    0.0488</td> <td>    0.018</td> <td>    2.770</td> <td> 0.006</td> <td>    0.014</td> <td>    0.083</td>\n",
       "</tr>\n",
       "<tr>\n",
       "  <th>x8</th>    <td>   -0.0345</td> <td>    0.017</td> <td>   -1.977</td> <td> 0.048</td> <td>   -0.069</td> <td>   -0.000</td>\n",
       "</tr>\n",
       "<tr>\n",
       "  <th>x9</th>    <td>    0.0382</td> <td>    0.017</td> <td>    2.198</td> <td> 0.028</td> <td>    0.004</td> <td>    0.072</td>\n",
       "</tr>\n",
       "<tr>\n",
       "  <th>x10</th>   <td>    0.0382</td> <td>    0.017</td> <td>    2.199</td> <td> 0.028</td> <td>    0.004</td> <td>    0.072</td>\n",
       "</tr>\n",
       "<tr>\n",
       "  <th>x11</th>   <td>   -0.0246</td> <td>    0.036</td> <td>   -0.688</td> <td> 0.492</td> <td>   -0.095</td> <td>    0.046</td>\n",
       "</tr>\n",
       "<tr>\n",
       "  <th>x12</th>   <td>    0.0384</td> <td>    0.018</td> <td>    2.150</td> <td> 0.032</td> <td>    0.003</td> <td>    0.073</td>\n",
       "</tr>\n",
       "<tr>\n",
       "  <th>x13</th>   <td>    0.1127</td> <td>    0.023</td> <td>    4.995</td> <td> 0.000</td> <td>    0.068</td> <td>    0.157</td>\n",
       "</tr>\n",
       "<tr>\n",
       "  <th>x14</th>   <td>   -0.0175</td> <td>    0.036</td> <td>   -0.490</td> <td> 0.624</td> <td>   -0.088</td> <td>    0.053</td>\n",
       "</tr>\n",
       "<tr>\n",
       "  <th>x15</th>   <td>    0.1377</td> <td>    0.024</td> <td>    5.699</td> <td> 0.000</td> <td>    0.090</td> <td>    0.185</td>\n",
       "</tr>\n",
       "<tr>\n",
       "  <th>x16</th>   <td>   -0.0384</td> <td>    0.018</td> <td>   -2.195</td> <td> 0.028</td> <td>   -0.073</td> <td>   -0.004</td>\n",
       "</tr>\n",
       "<tr>\n",
       "  <th>x17</th>   <td>   -0.0392</td> <td>    0.018</td> <td>   -2.239</td> <td> 0.025</td> <td>   -0.074</td> <td>   -0.005</td>\n",
       "</tr>\n",
       "<tr>\n",
       "  <th>x18</th>   <td>   -0.0418</td> <td>    0.017</td> <td>   -2.404</td> <td> 0.016</td> <td>   -0.076</td> <td>   -0.008</td>\n",
       "</tr>\n",
       "<tr>\n",
       "  <th>x19</th>   <td>   -0.0607</td> <td>    0.017</td> <td>   -3.501</td> <td> 0.000</td> <td>   -0.095</td> <td>   -0.027</td>\n",
       "</tr>\n",
       "<tr>\n",
       "  <th>x20</th>   <td>   -0.0290</td> <td>    0.017</td> <td>   -1.677</td> <td> 0.094</td> <td>   -0.063</td> <td>    0.005</td>\n",
       "</tr>\n",
       "<tr>\n",
       "  <th>x21</th>   <td>    0.0691</td> <td>    0.018</td> <td>    3.891</td> <td> 0.000</td> <td>    0.034</td> <td>    0.104</td>\n",
       "</tr>\n",
       "<tr>\n",
       "  <th>x22</th>   <td>   -0.0523</td> <td>    0.035</td> <td>   -1.509</td> <td> 0.131</td> <td>   -0.120</td> <td>    0.016</td>\n",
       "</tr>\n",
       "<tr>\n",
       "  <th>x23</th>   <td>   -0.0405</td> <td>    0.022</td> <td>   -1.861</td> <td> 0.063</td> <td>   -0.083</td> <td>    0.002</td>\n",
       "</tr>\n",
       "<tr>\n",
       "  <th>x24</th>   <td>    0.0534</td> <td>    0.045</td> <td>    1.194</td> <td> 0.232</td> <td>   -0.034</td> <td>    0.141</td>\n",
       "</tr>\n",
       "<tr>\n",
       "  <th>x25</th>   <td>   -0.0322</td> <td>    0.018</td> <td>   -1.818</td> <td> 0.069</td> <td>   -0.067</td> <td>    0.003</td>\n",
       "</tr>\n",
       "<tr>\n",
       "  <th>x26</th>   <td>    0.0173</td> <td>    0.029</td> <td>    0.605</td> <td> 0.545</td> <td>   -0.039</td> <td>    0.073</td>\n",
       "</tr>\n",
       "<tr>\n",
       "  <th>x27</th>   <td>   -0.0360</td> <td>    0.021</td> <td>   -1.744</td> <td> 0.081</td> <td>   -0.077</td> <td>    0.004</td>\n",
       "</tr>\n",
       "<tr>\n",
       "  <th>x28</th>   <td>   -0.0300</td> <td>    0.021</td> <td>   -1.417</td> <td> 0.156</td> <td>   -0.071</td> <td>    0.011</td>\n",
       "</tr>\n",
       "<tr>\n",
       "  <th>x29</th>   <td>    0.1335</td> <td>    0.023</td> <td>    5.704</td> <td> 0.000</td> <td>    0.088</td> <td>    0.179</td>\n",
       "</tr>\n",
       "<tr>\n",
       "  <th>x30</th>   <td>    0.0724</td> <td>    0.018</td> <td>    3.932</td> <td> 0.000</td> <td>    0.036</td> <td>    0.109</td>\n",
       "</tr>\n",
       "<tr>\n",
       "  <th>x31</th>   <td>    0.1106</td> <td>    0.022</td> <td>    5.110</td> <td> 0.000</td> <td>    0.068</td> <td>    0.153</td>\n",
       "</tr>\n",
       "<tr>\n",
       "  <th>x32</th>   <td>   -0.0197</td> <td>    0.033</td> <td>   -0.589</td> <td> 0.556</td> <td>   -0.085</td> <td>    0.046</td>\n",
       "</tr>\n",
       "<tr>\n",
       "  <th>x33</th>   <td>   -0.1067</td> <td>    0.019</td> <td>   -5.599</td> <td> 0.000</td> <td>   -0.144</td> <td>   -0.069</td>\n",
       "</tr>\n",
       "<tr>\n",
       "  <th>x34</th>   <td>    0.1803</td> <td>    0.044</td> <td>    4.093</td> <td> 0.000</td> <td>    0.094</td> <td>    0.267</td>\n",
       "</tr>\n",
       "<tr>\n",
       "  <th>x35</th>   <td>    0.0702</td> <td>    0.019</td> <td>    3.719</td> <td> 0.000</td> <td>    0.033</td> <td>    0.107</td>\n",
       "</tr>\n",
       "<tr>\n",
       "  <th>x36</th>   <td>    0.0389</td> <td>    0.025</td> <td>    1.556</td> <td> 0.120</td> <td>   -0.010</td> <td>    0.088</td>\n",
       "</tr>\n",
       "<tr>\n",
       "  <th>x37</th>   <td>   -0.0430</td> <td>    0.018</td> <td>   -2.409</td> <td> 0.016</td> <td>   -0.078</td> <td>   -0.008</td>\n",
       "</tr>\n",
       "<tr>\n",
       "  <th>x38</th>   <td>   -0.0443</td> <td>    0.017</td> <td>   -2.535</td> <td> 0.011</td> <td>   -0.079</td> <td>   -0.010</td>\n",
       "</tr>\n",
       "<tr>\n",
       "  <th>x39</th>   <td>    0.1995</td> <td>    0.019</td> <td>   10.449</td> <td> 0.000</td> <td>    0.162</td> <td>    0.237</td>\n",
       "</tr>\n",
       "<tr>\n",
       "  <th>x40</th>   <td>    0.0549</td> <td>    0.018</td> <td>    3.113</td> <td> 0.002</td> <td>    0.020</td> <td>    0.089</td>\n",
       "</tr>\n",
       "<tr>\n",
       "  <th>x41</th>   <td>    0.0667</td> <td>    0.018</td> <td>    3.797</td> <td> 0.000</td> <td>    0.032</td> <td>    0.101</td>\n",
       "</tr>\n",
       "<tr>\n",
       "  <th>x42</th>   <td>    0.0356</td> <td>    0.017</td> <td>    2.041</td> <td> 0.041</td> <td>    0.001</td> <td>    0.070</td>\n",
       "</tr>\n",
       "<tr>\n",
       "  <th>x43</th>   <td>    0.0353</td> <td>    0.018</td> <td>    1.914</td> <td> 0.056</td> <td>   -0.001</td> <td>    0.071</td>\n",
       "</tr>\n",
       "<tr>\n",
       "  <th>x44</th>   <td>   -0.0320</td> <td>    0.018</td> <td>   -1.772</td> <td> 0.076</td> <td>   -0.067</td> <td>    0.003</td>\n",
       "</tr>\n",
       "<tr>\n",
       "  <th>x45</th>   <td>   -0.0387</td> <td>    0.017</td> <td>   -2.234</td> <td> 0.025</td> <td>   -0.073</td> <td>   -0.005</td>\n",
       "</tr>\n",
       "<tr>\n",
       "  <th>x46</th>   <td>   -0.0622</td> <td>    0.018</td> <td>   -3.543</td> <td> 0.000</td> <td>   -0.097</td> <td>   -0.028</td>\n",
       "</tr>\n",
       "<tr>\n",
       "  <th>x47</th>   <td>    0.7135</td> <td>    0.018</td> <td>   39.502</td> <td> 0.000</td> <td>    0.678</td> <td>    0.749</td>\n",
       "</tr>\n",
       "<tr>\n",
       "  <th>x48</th>   <td>   -0.0220</td> <td>    0.019</td> <td>   -1.157</td> <td> 0.247</td> <td>   -0.059</td> <td>    0.015</td>\n",
       "</tr>\n",
       "<tr>\n",
       "  <th>x49</th>   <td>    0.2168</td> <td>    0.019</td> <td>   11.594</td> <td> 0.000</td> <td>    0.180</td> <td>    0.253</td>\n",
       "</tr>\n",
       "</table>\n",
       "<table class=\"simpletable\">\n",
       "<tr>\n",
       "  <th>Omnibus:</th>       <td>149.189</td> <th>  Durbin-Watson:     </th> <td>   2.021</td>\n",
       "</tr>\n",
       "<tr>\n",
       "  <th>Prob(Omnibus):</th> <td> 0.000</td>  <th>  Jarque-Bera (JB):  </th> <td> 108.320</td>\n",
       "</tr>\n",
       "<tr>\n",
       "  <th>Skew:</th>          <td> 0.061</td>  <th>  Prob(JB):          </th> <td>3.01e-24</td>\n",
       "</tr>\n",
       "<tr>\n",
       "  <th>Kurtosis:</th>      <td> 2.678</td>  <th>  Cond. No.          </th> <td>    6.85</td>\n",
       "</tr>\n",
       "</table><br/><br/>Warnings:<br/>[1] Standard Errors assume that the covariance matrix of the errors is correctly specified."
      ],
      "text/plain": [
       "<class 'statsmodels.iolib.summary.Summary'>\n",
       "\"\"\"\n",
       "                            OLS Regression Results                            \n",
       "==============================================================================\n",
       "Dep. Variable:                      y   R-squared:                       0.164\n",
       "Model:                            OLS   Adj. R-squared:                  0.163\n",
       "Method:                 Least Squares   F-statistic:                     87.90\n",
       "Date:                Wed, 21 Oct 2020   Prob (F-statistic):               0.00\n",
       "Time:                        14:51:09   Log-Likelihood:                -51718.\n",
       "No. Observations:               21934   AIC:                         1.035e+05\n",
       "Df Residuals:                   21884   BIC:                         1.039e+05\n",
       "Df Model:                          49                                         \n",
       "Covariance Type:            nonrobust                                         \n",
       "==============================================================================\n",
       "                 coef    std err          t      P>|t|      [0.025      0.975]\n",
       "------------------------------------------------------------------------------\n",
       "const         13.7551      0.017    795.694      0.000      13.721      13.789\n",
       "x1             0.4180      0.017     23.961      0.000       0.384       0.452\n",
       "x2            -0.3795      0.018    -20.922      0.000      -0.415      -0.344\n",
       "x3             0.0745      0.018      4.147      0.000       0.039       0.110\n",
       "x4             0.0291      0.018      1.640      0.101      -0.006       0.064\n",
       "x5            -0.0333      0.017     -1.912      0.056      -0.068       0.001\n",
       "x6            -0.0295      0.018     -1.658      0.097      -0.064       0.005\n",
       "x7             0.0488      0.018      2.770      0.006       0.014       0.083\n",
       "x8            -0.0345      0.017     -1.977      0.048      -0.069      -0.000\n",
       "x9             0.0382      0.017      2.198      0.028       0.004       0.072\n",
       "x10            0.0382      0.017      2.199      0.028       0.004       0.072\n",
       "x11           -0.0246      0.036     -0.688      0.492      -0.095       0.046\n",
       "x12            0.0384      0.018      2.150      0.032       0.003       0.073\n",
       "x13            0.1127      0.023      4.995      0.000       0.068       0.157\n",
       "x14           -0.0175      0.036     -0.490      0.624      -0.088       0.053\n",
       "x15            0.1377      0.024      5.699      0.000       0.090       0.185\n",
       "x16           -0.0384      0.018     -2.195      0.028      -0.073      -0.004\n",
       "x17           -0.0392      0.018     -2.239      0.025      -0.074      -0.005\n",
       "x18           -0.0418      0.017     -2.404      0.016      -0.076      -0.008\n",
       "x19           -0.0607      0.017     -3.501      0.000      -0.095      -0.027\n",
       "x20           -0.0290      0.017     -1.677      0.094      -0.063       0.005\n",
       "x21            0.0691      0.018      3.891      0.000       0.034       0.104\n",
       "x22           -0.0523      0.035     -1.509      0.131      -0.120       0.016\n",
       "x23           -0.0405      0.022     -1.861      0.063      -0.083       0.002\n",
       "x24            0.0534      0.045      1.194      0.232      -0.034       0.141\n",
       "x25           -0.0322      0.018     -1.818      0.069      -0.067       0.003\n",
       "x26            0.0173      0.029      0.605      0.545      -0.039       0.073\n",
       "x27           -0.0360      0.021     -1.744      0.081      -0.077       0.004\n",
       "x28           -0.0300      0.021     -1.417      0.156      -0.071       0.011\n",
       "x29            0.1335      0.023      5.704      0.000       0.088       0.179\n",
       "x30            0.0724      0.018      3.932      0.000       0.036       0.109\n",
       "x31            0.1106      0.022      5.110      0.000       0.068       0.153\n",
       "x32           -0.0197      0.033     -0.589      0.556      -0.085       0.046\n",
       "x33           -0.1067      0.019     -5.599      0.000      -0.144      -0.069\n",
       "x34            0.1803      0.044      4.093      0.000       0.094       0.267\n",
       "x35            0.0702      0.019      3.719      0.000       0.033       0.107\n",
       "x36            0.0389      0.025      1.556      0.120      -0.010       0.088\n",
       "x37           -0.0430      0.018     -2.409      0.016      -0.078      -0.008\n",
       "x38           -0.0443      0.017     -2.535      0.011      -0.079      -0.010\n",
       "x39            0.1995      0.019     10.449      0.000       0.162       0.237\n",
       "x40            0.0549      0.018      3.113      0.002       0.020       0.089\n",
       "x41            0.0667      0.018      3.797      0.000       0.032       0.101\n",
       "x42            0.0356      0.017      2.041      0.041       0.001       0.070\n",
       "x43            0.0353      0.018      1.914      0.056      -0.001       0.071\n",
       "x44           -0.0320      0.018     -1.772      0.076      -0.067       0.003\n",
       "x45           -0.0387      0.017     -2.234      0.025      -0.073      -0.005\n",
       "x46           -0.0622      0.018     -3.543      0.000      -0.097      -0.028\n",
       "x47            0.7135      0.018     39.502      0.000       0.678       0.749\n",
       "x48           -0.0220      0.019     -1.157      0.247      -0.059       0.015\n",
       "x49            0.2168      0.019     11.594      0.000       0.180       0.253\n",
       "==============================================================================\n",
       "Omnibus:                      149.189   Durbin-Watson:                   2.021\n",
       "Prob(Omnibus):                  0.000   Jarque-Bera (JB):              108.320\n",
       "Skew:                           0.061   Prob(JB):                     3.01e-24\n",
       "Kurtosis:                       2.678   Cond. No.                         6.85\n",
       "==============================================================================\n",
       "\n",
       "Warnings:\n",
       "[1] Standard Errors assume that the covariance matrix of the errors is correctly specified.\n",
       "\"\"\""
      ]
     },
     "execution_count": 31,
     "metadata": {},
     "output_type": "execute_result"
    }
   ],
   "source": [
    "OLS_model = sm.OLS(Y_train, X_train_std_constant)\n",
    "lr = OLS_model.fit()\n",
    "lr.summary()"
   ]
  },
  {
   "cell_type": "markdown",
   "metadata": {},
   "source": [
    "### RF - Random Forest"
   ]
  },
  {
   "cell_type": "raw",
   "metadata": {},
   "source": [
    "Grid search best parameters:\n",
    "n_estimators, min_samples_leaf (minimum number of samples required to be at a leaf), min_samples_split and bootstrap\n",
    "Best parameters CV:\n",
    "{'rf__n_estimators': 420,\n",
    " 'rf__min_samples_split': 0.009000000000000001,\n",
    " 'rf__min_samples_leaf': 0.001,\n",
    " 'rf__bootstrap': True}"
   ]
  },
  {
   "cell_type": "code",
   "execution_count": 32,
   "metadata": {},
   "outputs": [],
   "source": [
    "rf_rgr = RandomForestRegressor(n_estimators = 420, criterion=\"mse\", min_samples_leaf=0.001,\n",
    "                               min_samples_split=0.009 , bootstrap=True, random_state=seed)"
   ]
  },
  {
   "cell_type": "code",
   "execution_count": 33,
   "metadata": {},
   "outputs": [],
   "source": [
    "# Define sklearn pipeline\n",
    "estimators = []\n",
    "estimators.append(('standardize', StandardScaler()))\n",
    "estimators.append(('RF', rf_rgr))\n",
    "pipeline = Pipeline(estimators)"
   ]
  },
  {
   "cell_type": "code",
   "execution_count": 34,
   "metadata": {},
   "outputs": [],
   "source": [
    "scores_MSE = cross_val_score(pipeline, X_train, Y_train, cv=kf,\n",
    "                         scoring='neg_mean_squared_error')\n",
    "scores_MAE = cross_val_score(pipeline, X_train, Y_train, cv=kf,\n",
    "                         scoring='neg_mean_absolute_error')\n",
    "scores_R2 = cross_val_score(pipeline, X_train, Y_train, cv=kf,\n",
    "                         scoring='r2')"
   ]
  },
  {
   "cell_type": "code",
   "execution_count": 35,
   "metadata": {},
   "outputs": [
    {
     "name": "stdout",
     "output_type": "stream",
     "text": [
      "MSE: 6.49 (+/- 0.15)\n",
      "MAE: 2.07 (+/- 0.02)\n",
      "R2: -0.17 (+/- 0.02)\n"
     ]
    }
   ],
   "source": [
    "print(\"MSE: %0.2f (+/- %0.2f)\" % (-scores_MSE.mean(), scores_MSE.std() * 2))\n",
    "print(\"MAE: %0.2f (+/- %0.2f)\" % (-scores_MAE.mean(), scores_MAE.std() * 2))\n",
    "print(\"R2: %0.2f (+/- %0.2f)\" % (-scores_R2.mean(), scores_R2.std() * 2))"
   ]
  },
  {
   "cell_type": "code",
   "execution_count": 36,
   "metadata": {},
   "outputs": [],
   "source": [
    "df_scorescv_rf_MSE=pd.DataFrame(scores_MSE)\n",
    "df_scorescv_rf_MAE=pd.DataFrame(scores_MAE)\n",
    "df_scorescv_rf_R2=pd.DataFrame(scores_R2)"
   ]
  },
  {
   "cell_type": "code",
   "execution_count": 37,
   "metadata": {},
   "outputs": [],
   "source": [
    "with pd.ExcelWriter('FINALRESULTS_CV_11.xlsx',engine='openpyxl', mode='a') as writer:\n",
    "    df_scorescv_rf_MSE.to_excel(writer, sheet_name='RF_MSE')\n",
    "\n",
    "with pd.ExcelWriter('FINALRESULTS_CV_11.xlsx',engine='openpyxl', mode='a') as writer:\n",
    "    df_scorescv_rf_MAE.to_excel(writer, sheet_name='RF_MAE')\n",
    "    \n",
    "\n",
    "with pd.ExcelWriter('FINALRESULTS_CV_11.xlsx',engine='openpyxl', mode='a') as writer:\n",
    "    df_scorescv_rf_R2.to_excel(writer, sheet_name='RF_R2')"
   ]
  },
  {
   "cell_type": "code",
   "execution_count": 38,
   "metadata": {},
   "outputs": [],
   "source": [
    "mse_rf_rgr_cv = -scores_MSE.mean()\n",
    "mse_std_rf_rgr_cv = -scores_MSE.std()\n",
    "mae_rf_rgr_cv = -scores_MAE.mean()\n",
    "mae_std_rf_rgr_cv = -scores_MAE.std()\n",
    "r2_rf_rgr_cv = -scores_R2.mean()\n",
    "r2_std_rf_rgr_cv = -scores_R2.std()"
   ]
  },
  {
   "cell_type": "code",
   "execution_count": 39,
   "metadata": {},
   "outputs": [
    {
     "data": {
      "text/plain": [
       "RandomForestRegressor(bootstrap=True, ccp_alpha=0.0, criterion='mse',\n",
       "                      max_depth=None, max_features='auto', max_leaf_nodes=None,\n",
       "                      max_samples=None, min_impurity_decrease=0.0,\n",
       "                      min_impurity_split=None, min_samples_leaf=0.001,\n",
       "                      min_samples_split=0.009, min_weight_fraction_leaf=0.0,\n",
       "                      n_estimators=420, n_jobs=None, oob_score=False,\n",
       "                      random_state=42, verbose=0, warm_start=False)"
      ]
     },
     "execution_count": 39,
     "metadata": {},
     "output_type": "execute_result"
    }
   ],
   "source": [
    "rf_rgr.fit(X_train_std, Y_train)"
   ]
  },
  {
   "cell_type": "code",
   "execution_count": 40,
   "metadata": {},
   "outputs": [],
   "source": [
    "df_Feat_import = pd.DataFrame(rf_rgr.feature_importances_)"
   ]
  },
  {
   "cell_type": "code",
   "execution_count": 41,
   "metadata": {},
   "outputs": [
    {
     "data": {
      "image/png": "[encoded data removed]",
      "text/plain": [
       "<Figure size 864x432 with 1 Axes>"
      ]
     },
     "metadata": {
      "needs_background": "light"
     },
     "output_type": "display_data"
    }
   ],
   "source": [
    "pd.Series(rf_rgr.feature_importances_, \n",
    "         index=X_train.columns).sort_values(ascending=False).plot(kind='bar', figsize=(12,6));"
   ]
  },
  {
   "cell_type": "code",
   "execution_count": 42,
   "metadata": {},
   "outputs": [],
   "source": [
    "df_Feat_import.to_excel('FEATURES_RF_11.xlsx', sheet_name='FEAT_IMP')"
   ]
  },
  {
   "cell_type": "code",
   "execution_count": 43,
   "metadata": {},
   "outputs": [],
   "source": [
    "Y_train_pred=rf_rgr.predict(X_train_std)\n",
    "Y_test_pred=rf_rgr.predict(X_test_std)"
   ]
  },
  {
   "cell_type": "code",
   "execution_count": 44,
   "metadata": {},
   "outputs": [],
   "source": [
    "mse_rf_rgr_train = metrics.mean_squared_error(Y_train, Y_train_pred) \n",
    "mse_rf_rgr_test = metrics.mean_squared_error(Y_test, Y_test_pred)\n",
    "\n",
    "mae_rf_rgr_train = metrics.mean_absolute_error(Y_train, Y_train_pred) \n",
    "mae_rf_rgr_test = metrics.mean_absolute_error(Y_test, Y_test_pred)\n",
    "\n",
    "r2_rf_rgr_train = metrics.r2_score(Y_train, Y_train_pred)\n",
    "r2_rf_rgr_test = metrics.r2_score(Y_test, Y_test_pred)"
   ]
  },
  {
   "cell_type": "code",
   "execution_count": 45,
   "metadata": {},
   "outputs": [],
   "source": [
    "new_results_dic = {'MSE_train': mse_rf_rgr_train, 'MAE_train': mae_rf_rgr_train,'R2_train': r2_rf_rgr_train,\n",
    "                   'MSE_cv': mse_rf_rgr_cv, 'MSE_std_cv': mse_std_rf_rgr_cv, 'MAE_cv': mae_rf_rgr_cv,\n",
    "                   'MAE_std_cv': mae_std_rf_rgr_cv, 'R2_cv': r2_rf_rgr_cv, 'R2_std_cv': r2_std_rf_rgr_cv,\n",
    "                   'MSE_test': mse_rf_rgr_test,\n",
    "                   'MAE_test': mae_rf_rgr_test,\n",
    "                   'R2_test': r2_rf_rgr_test}\n",
    "df_results.loc[len(df_results)] = new_results_dic"
   ]
  },
  {
   "cell_type": "code",
   "execution_count": 46,
   "metadata": {},
   "outputs": [
    {
     "data": {
      "text/html": [
       "<div>\n",
       "<style scoped>\n",
       "    .dataframe tbody tr th:only-of-type {\n",
       "        vertical-align: middle;\n",
       "    }\n",
       "\n",
       "    .dataframe tbody tr th {\n",
       "        vertical-align: top;\n",
       "    }\n",
       "\n",
       "    .dataframe thead th {\n",
       "        text-align: right;\n",
       "    }\n",
       "</style>\n",
       "<table border=\"1\" class=\"dataframe\">\n",
       "  <thead>\n",
       "    <tr style=\"text-align: right;\">\n",
       "      <th></th>\n",
       "      <th>MSE_train</th>\n",
       "      <th>MAE_train</th>\n",
       "      <th>R2_train</th>\n",
       "      <th>MSE_cv</th>\n",
       "      <th>MSE_std_cv</th>\n",
       "      <th>MAE_cv</th>\n",
       "      <th>MAE_std_cv</th>\n",
       "      <th>R2_cv</th>\n",
       "      <th>R2_std_cv</th>\n",
       "      <th>MSE_test</th>\n",
       "      <th>MAE_test</th>\n",
       "      <th>R2_test</th>\n",
       "    </tr>\n",
       "  </thead>\n",
       "  <tbody>\n",
       "    <tr>\n",
       "      <th>OLS</th>\n",
       "      <td>6.539793</td>\n",
       "      <td>2.083443</td>\n",
       "      <td>0.164449</td>\n",
       "      <td>6.580865</td>\n",
       "      <td>-0.069856</td>\n",
       "      <td>2.090003</td>\n",
       "      <td>-0.011773</td>\n",
       "      <td>-0.159108</td>\n",
       "      <td>-0.007535</td>\n",
       "      <td>6.559855</td>\n",
       "      <td>2.088153</td>\n",
       "      <td>0.156090</td>\n",
       "    </tr>\n",
       "    <tr>\n",
       "      <th>RF</th>\n",
       "      <td>6.050672</td>\n",
       "      <td>2.001662</td>\n",
       "      <td>0.226941</td>\n",
       "      <td>6.489073</td>\n",
       "      <td>-0.075561</td>\n",
       "      <td>2.072774</td>\n",
       "      <td>-0.011955</td>\n",
       "      <td>-0.170838</td>\n",
       "      <td>-0.008319</td>\n",
       "      <td>6.440311</td>\n",
       "      <td>2.068125</td>\n",
       "      <td>0.171469</td>\n",
       "    </tr>\n",
       "  </tbody>\n",
       "</table>\n",
       "</div>"
      ],
      "text/plain": [
       "     MSE_train  MAE_train  R2_train    MSE_cv  MSE_std_cv    MAE_cv  \\\n",
       "OLS   6.539793   2.083443  0.164449  6.580865   -0.069856  2.090003   \n",
       "RF    6.050672   2.001662  0.226941  6.489073   -0.075561  2.072774   \n",
       "\n",
       "     MAE_std_cv     R2_cv  R2_std_cv  MSE_test  MAE_test   R2_test  \n",
       "OLS   -0.011773 -0.159108  -0.007535  6.559855  2.088153  0.156090  \n",
       "RF    -0.011955 -0.170838  -0.008319  6.440311  2.068125  0.171469  "
      ]
     },
     "execution_count": 46,
     "metadata": {},
     "output_type": "execute_result"
    }
   ],
   "source": [
    "indexNamesArr = df_results.index.values\n",
    "i = indexNamesArr[-1]\n",
    "df_results.rename(index={i:'RF'}, inplace=True)\n",
    "df_results.head()"
   ]
  },
  {
   "cell_type": "markdown",
   "metadata": {},
   "source": [
    "### SVR - Support Vector Regression"
   ]
  },
  {
   "cell_type": "raw",
   "metadata": {},
   "source": [
    "Grid search best parameters:\n",
    "C_range (Penalty parameter C for the error term when it stays outside the insensitive chanel)\n",
    "gamma_range (The gamma parameter can be seen as the inverse of the radius of influence of samples)\n",
    "CV best parameters:\n",
    "{'svr__base_estimator__gamma': 0.004094915062380427,\n",
    " 'svr__base_estimator__C': 9.540954763499943}"
   ]
  },
  {
   "cell_type": "code",
   "execution_count": 47,
   "metadata": {},
   "outputs": [],
   "source": [
    "svm_rgr= SVR(C=9.541, cache_size=1000, coef0=0.0, degree=3, epsilon=0.2, gamma=0.004,\n",
    "    kernel='rbf', max_iter=-1, shrinking=True, tol=0.001, verbose=True)"
   ]
  },
  {
   "cell_type": "code",
   "execution_count": 48,
   "metadata": {},
   "outputs": [],
   "source": [
    "# Define sklearn pipeline\n",
    "estimators = []\n",
    "estimators.append(('standardize', StandardScaler()))\n",
    "estimators.append(('SVR', svm_rgr))\n",
    "pipeline = Pipeline(estimators)"
   ]
  },
  {
   "cell_type": "code",
   "execution_count": 49,
   "metadata": {},
   "outputs": [
    {
     "name": "stdout",
     "output_type": "stream",
     "text": [
      "[LibSVM][LibSVM][LibSVM][LibSVM][LibSVM][LibSVM][LibSVM][LibSVM][LibSVM][LibSVM][LibSVM][LibSVM]"
     ]
    }
   ],
   "source": [
    "scores_MSE = cross_val_score(pipeline, X_train, Y_train, cv=kf,\n",
    "                         scoring='neg_mean_squared_error')\n",
    "scores_MAE = cross_val_score(pipeline, X_train, Y_train, cv=kf,\n",
    "                         scoring='neg_mean_absolute_error')\n",
    "scores_R2 = cross_val_score(pipeline, X_train, Y_train, cv=kf,\n",
    "                         scoring='r2')"
   ]
  },
  {
   "cell_type": "code",
   "execution_count": 50,
   "metadata": {},
   "outputs": [
    {
     "name": "stdout",
     "output_type": "stream",
     "text": [
      "MSE: 6.62 (+/- 0.18)\n",
      "MAE: 2.07 (+/- 0.03)\n",
      "R2: -0.15 (+/- 0.02)\n"
     ]
    }
   ],
   "source": [
    "print(\"MSE: %0.2f (+/- %0.2f)\" % (-scores_MSE.mean(), scores_MSE.std() * 2))\n",
    "print(\"MAE: %0.2f (+/- %0.2f)\" % (-scores_MAE.mean(), scores_MAE.std() * 2))\n",
    "print(\"R2: %0.2f (+/- %0.2f)\" % (-scores_R2.mean(), scores_R2.std() * 2))"
   ]
  },
  {
   "cell_type": "code",
   "execution_count": 51,
   "metadata": {},
   "outputs": [],
   "source": [
    "df_scorescv_svr_MSE=pd.DataFrame(scores_MSE)\n",
    "df_scorescv_svr_MAE=pd.DataFrame(scores_MAE)\n",
    "df_scorescv_svr_R2=pd.DataFrame(scores_R2)"
   ]
  },
  {
   "cell_type": "code",
   "execution_count": 52,
   "metadata": {},
   "outputs": [],
   "source": [
    "with pd.ExcelWriter('FINALRESULTS_CV_11.xlsx',engine='openpyxl', mode='a') as writer:\n",
    "    df_scorescv_svr_MSE.to_excel(writer, sheet_name='SVR_MSE')\n",
    "\n",
    "with pd.ExcelWriter('FINALRESULTS_CV_11.xlsx',engine='openpyxl', mode='a') as writer:\n",
    "    df_scorescv_svr_MAE.to_excel(writer, sheet_name='SVR_MAE')\n",
    "    \n",
    "with pd.ExcelWriter('FINALRESULTS_CV_11.xlsx',engine='openpyxl', mode='a') as writer:\n",
    "    df_scorescv_svr_R2.to_excel(writer, sheet_name='SVR_R2')"
   ]
  },
  {
   "cell_type": "code",
   "execution_count": 53,
   "metadata": {},
   "outputs": [],
   "source": [
    "mse_svr_rgr_cv = -scores_MSE.mean()\n",
    "mse_std_svr_rgr_cv = -scores_MSE.std()\n",
    "mae_svr_rgr_cv = -scores_MAE.mean()\n",
    "mae_std_svr_rgr_cv = -scores_MAE.std()\n",
    "r2_svr_rgr_cv = -scores_R2.mean()\n",
    "r2_std_svr_rgr_cv = -scores_R2.std()"
   ]
  },
  {
   "cell_type": "code",
   "execution_count": 54,
   "metadata": {},
   "outputs": [
    {
     "name": "stdout",
     "output_type": "stream",
     "text": [
      "[LibSVM]"
     ]
    },
    {
     "data": {
      "text/plain": [
       "SVR(C=9.541, cache_size=1000, coef0=0.0, degree=3, epsilon=0.2, gamma=0.004,\n",
       "    kernel='rbf', max_iter=-1, shrinking=True, tol=0.001, verbose=True)"
      ]
     },
     "execution_count": 54,
     "metadata": {},
     "output_type": "execute_result"
    }
   ],
   "source": [
    "svm_rgr.fit(X_train_std, Y_train)"
   ]
  },
  {
   "cell_type": "code",
   "execution_count": 55,
   "metadata": {},
   "outputs": [],
   "source": [
    "Y_train_pred=svm_rgr.predict(X_train_std)\n",
    "Y_test_pred=svm_rgr.predict(X_test_std)"
   ]
  },
  {
   "cell_type": "code",
   "execution_count": 56,
   "metadata": {},
   "outputs": [],
   "source": [
    "mse_svr_rgr_train = metrics.mean_squared_error(Y_train, Y_train_pred) \n",
    "mse_svr_rgr_test = metrics.mean_squared_error(Y_test, Y_test_pred)\n",
    "\n",
    "mae_svr_rgr_train = metrics.mean_absolute_error(Y_train, Y_train_pred) \n",
    "mae_svr_rgr_test = metrics.mean_absolute_error(Y_test, Y_test_pred)\n",
    "\n",
    "r2_svr_rgr_train = metrics.r2_score(Y_train, Y_train_pred)\n",
    "r2_svr_rgr_test = metrics.r2_score(Y_test, Y_test_pred)"
   ]
  },
  {
   "cell_type": "code",
   "execution_count": 57,
   "metadata": {},
   "outputs": [],
   "source": [
    "new_results_dic = {'MSE_train': mse_svr_rgr_train, 'MAE_train': mae_svr_rgr_train,'R2_train': r2_svr_rgr_train,\n",
    "                   'MSE_cv': mse_svr_rgr_cv, 'MSE_std_cv': mse_std_svr_rgr_cv, 'MAE_cv': mae_svr_rgr_cv,\n",
    "                   'MAE_std_cv': mae_std_svr_rgr_cv, 'R2_cv': r2_svr_rgr_cv, 'R2_std_cv': r2_std_svr_rgr_cv,\n",
    "                   'MSE_test': mse_svr_rgr_test,\n",
    "                   'MAE_test': mae_svr_rgr_test,\n",
    "                   'R2_test': r2_svr_rgr_test}\n",
    "df_results.loc[len(df_results)] = new_results_dic"
   ]
  },
  {
   "cell_type": "code",
   "execution_count": 58,
   "metadata": {},
   "outputs": [
    {
     "data": {
      "text/html": [
       "<div>\n",
       "<style scoped>\n",
       "    .dataframe tbody tr th:only-of-type {\n",
       "        vertical-align: middle;\n",
       "    }\n",
       "\n",
       "    .dataframe tbody tr th {\n",
       "        vertical-align: top;\n",
       "    }\n",
       "\n",
       "    .dataframe thead th {\n",
       "        text-align: right;\n",
       "    }\n",
       "</style>\n",
       "<table border=\"1\" class=\"dataframe\">\n",
       "  <thead>\n",
       "    <tr style=\"text-align: right;\">\n",
       "      <th></th>\n",
       "      <th>MSE_train</th>\n",
       "      <th>MAE_train</th>\n",
       "      <th>R2_train</th>\n",
       "      <th>MSE_cv</th>\n",
       "      <th>MSE_std_cv</th>\n",
       "      <th>MAE_cv</th>\n",
       "      <th>MAE_std_cv</th>\n",
       "      <th>R2_cv</th>\n",
       "      <th>R2_std_cv</th>\n",
       "      <th>MSE_test</th>\n",
       "      <th>MAE_test</th>\n",
       "      <th>R2_test</th>\n",
       "    </tr>\n",
       "  </thead>\n",
       "  <tbody>\n",
       "    <tr>\n",
       "      <th>OLS</th>\n",
       "      <td>6.539793</td>\n",
       "      <td>2.083443</td>\n",
       "      <td>0.164449</td>\n",
       "      <td>6.580865</td>\n",
       "      <td>-0.069856</td>\n",
       "      <td>2.090003</td>\n",
       "      <td>-0.011773</td>\n",
       "      <td>-0.159108</td>\n",
       "      <td>-0.007535</td>\n",
       "      <td>6.559855</td>\n",
       "      <td>2.088153</td>\n",
       "      <td>0.156090</td>\n",
       "    </tr>\n",
       "    <tr>\n",
       "      <th>RF</th>\n",
       "      <td>6.050672</td>\n",
       "      <td>2.001662</td>\n",
       "      <td>0.226941</td>\n",
       "      <td>6.489073</td>\n",
       "      <td>-0.075561</td>\n",
       "      <td>2.072774</td>\n",
       "      <td>-0.011955</td>\n",
       "      <td>-0.170838</td>\n",
       "      <td>-0.008319</td>\n",
       "      <td>6.440311</td>\n",
       "      <td>2.068125</td>\n",
       "      <td>0.171469</td>\n",
       "    </tr>\n",
       "    <tr>\n",
       "      <th>SVR</th>\n",
       "      <td>6.124274</td>\n",
       "      <td>1.964271</td>\n",
       "      <td>0.217538</td>\n",
       "      <td>6.616647</td>\n",
       "      <td>-0.090232</td>\n",
       "      <td>2.074351</td>\n",
       "      <td>-0.016249</td>\n",
       "      <td>-0.154522</td>\n",
       "      <td>-0.011576</td>\n",
       "      <td>6.576036</td>\n",
       "      <td>2.074015</td>\n",
       "      <td>0.154008</td>\n",
       "    </tr>\n",
       "  </tbody>\n",
       "</table>\n",
       "</div>"
      ],
      "text/plain": [
       "     MSE_train  MAE_train  R2_train    MSE_cv  MSE_std_cv    MAE_cv  \\\n",
       "OLS   6.539793   2.083443  0.164449  6.580865   -0.069856  2.090003   \n",
       "RF    6.050672   2.001662  0.226941  6.489073   -0.075561  2.072774   \n",
       "SVR   6.124274   1.964271  0.217538  6.616647   -0.090232  2.074351   \n",
       "\n",
       "     MAE_std_cv     R2_cv  R2_std_cv  MSE_test  MAE_test   R2_test  \n",
       "OLS   -0.011773 -0.159108  -0.007535  6.559855  2.088153  0.156090  \n",
       "RF    -0.011955 -0.170838  -0.008319  6.440311  2.068125  0.171469  \n",
       "SVR   -0.016249 -0.154522  -0.011576  6.576036  2.074015  0.154008  "
      ]
     },
     "execution_count": 58,
     "metadata": {},
     "output_type": "execute_result"
    }
   ],
   "source": [
    "indexNamesArr = df_results.index.values\n",
    "i = indexNamesArr[-1]\n",
    "df_results.rename(index={i:'SVR'}, inplace=True)\n",
    "df_results.head()"
   ]
  },
  {
   "cell_type": "markdown",
   "metadata": {},
   "source": [
    "### K-nearest Neighbours Regression "
   ]
  },
  {
   "cell_type": "raw",
   "metadata": {},
   "source": [
    "Grid search best parameters:\n",
    "n_neighbors, weights.\n",
    "Best parameters CV:\n",
    "{'knn__weights': 'distance', 'knn__n_neighbors': 18}"
   ]
  },
  {
   "cell_type": "code",
   "execution_count": 59,
   "metadata": {},
   "outputs": [],
   "source": [
    "knn_rgr = KNeighborsRegressor(n_neighbors=18, weights='distance', algorithm='auto', leaf_size=30,\n",
    "                              p=2, metric='minkowski', metric_params=None, n_jobs=None)"
   ]
  },
  {
   "cell_type": "code",
   "execution_count": 60,
   "metadata": {},
   "outputs": [],
   "source": [
    "# Define sklearn pipeline\n",
    "estimators = []\n",
    "estimators.append(('standardize', StandardScaler()))\n",
    "estimators.append(('KNN', knn_rgr))\n",
    "pipeline = Pipeline(estimators)"
   ]
  },
  {
   "cell_type": "code",
   "execution_count": 61,
   "metadata": {},
   "outputs": [],
   "source": [
    "scores_MSE = cross_val_score(pipeline, X_train, Y_train, cv=kf,\n",
    "                         scoring='neg_mean_squared_error')\n",
    "scores_MAE = cross_val_score(pipeline, X_train, Y_train, cv=kf,\n",
    "                         scoring='neg_mean_absolute_error')\n",
    "scores_R2 = cross_val_score(pipeline, X_train, Y_train, cv=kf,\n",
    "                         scoring='r2')"
   ]
  },
  {
   "cell_type": "code",
   "execution_count": 62,
   "metadata": {},
   "outputs": [
    {
     "name": "stdout",
     "output_type": "stream",
     "text": [
      "MSE: 6.98 (+/- 0.22)\n",
      "MAE: 2.14 (+/- 0.04)\n",
      "R2: -0.11 (+/- 0.02)\n"
     ]
    }
   ],
   "source": [
    "print(\"MSE: %0.2f (+/- %0.2f)\" % (-scores_MSE.mean(), scores_MSE.std() * 2))\n",
    "print(\"MAE: %0.2f (+/- %0.2f)\" % (-scores_MAE.mean(), scores_MAE.std() * 2))\n",
    "print(\"R2: %0.2f (+/- %0.2f)\" % (-scores_R2.mean(), scores_R2.std() * 2))"
   ]
  },
  {
   "cell_type": "code",
   "execution_count": 63,
   "metadata": {},
   "outputs": [],
   "source": [
    "df_scorescv_knn_MSE=pd.DataFrame(scores_MSE)\n",
    "df_scorescv_knn_MAE=pd.DataFrame(scores_MAE)\n",
    "df_scorescv_knn_R2=pd.DataFrame(scores_R2)"
   ]
  },
  {
   "cell_type": "code",
   "execution_count": 64,
   "metadata": {},
   "outputs": [],
   "source": [
    "with pd.ExcelWriter('FINALRESULTS_CV_11.xlsx',engine='openpyxl', mode='a') as writer:\n",
    "    df_scorescv_knn_MSE.to_excel(writer, sheet_name='KNN_MSE')\n",
    "\n",
    "with pd.ExcelWriter('FINALRESULTS_CV_11.xlsx',engine='openpyxl', mode='a') as writer:\n",
    "    df_scorescv_knn_MAE.to_excel(writer, sheet_name='KNN_MAE')\n",
    "    \n",
    "with pd.ExcelWriter('FINALRESULTS_CV_11.xlsx',engine='openpyxl', mode='a') as writer:\n",
    "    df_scorescv_knn_R2.to_excel(writer, sheet_name='KNN_R2')"
   ]
  },
  {
   "cell_type": "code",
   "execution_count": 65,
   "metadata": {},
   "outputs": [],
   "source": [
    "mse_knn_rgr_cv = -scores_MSE.mean()\n",
    "mse_std_knn_rgr_cv = -scores_MSE.std()\n",
    "mae_knn_rgr_cv = -scores_MAE.mean()\n",
    "mae_std_knn_rgr_cv = -scores_MAE.std()\n",
    "r2_knn_rgr_cv = -scores_R2.mean()\n",
    "r2_std_knn_rgr_cv = -scores_R2.std()"
   ]
  },
  {
   "cell_type": "code",
   "execution_count": 66,
   "metadata": {},
   "outputs": [
    {
     "data": {
      "text/plain": [
       "KNeighborsRegressor(algorithm='auto', leaf_size=30, metric='minkowski',\n",
       "                    metric_params=None, n_jobs=None, n_neighbors=18, p=2,\n",
       "                    weights='distance')"
      ]
     },
     "execution_count": 66,
     "metadata": {},
     "output_type": "execute_result"
    }
   ],
   "source": [
    "knn_rgr.fit(X_train_std, Y_train)"
   ]
  },
  {
   "cell_type": "code",
   "execution_count": 67,
   "metadata": {},
   "outputs": [],
   "source": [
    "Y_train_pred=knn_rgr.predict(X_train_std)\n",
    "Y_test_pred=knn_rgr.predict(X_test_std)"
   ]
  },
  {
   "cell_type": "code",
   "execution_count": 68,
   "metadata": {},
   "outputs": [],
   "source": [
    "mse_knn_rgr_train = metrics.mean_squared_error(Y_train, Y_train_pred) \n",
    "mse_knn_rgr_test = metrics.mean_squared_error(Y_test, Y_test_pred)\n",
    "\n",
    "mae_knn_rgr_train = metrics.mean_absolute_error(Y_train, Y_train_pred) \n",
    "mae_knn_rgr_test = metrics.mean_absolute_error(Y_test, Y_test_pred)\n",
    "\n",
    "r2_knn_rgr_train = metrics.r2_score(Y_train, Y_train_pred)\n",
    "r2_knn_rgr_test = metrics.r2_score(Y_test, Y_test_pred)"
   ]
  },
  {
   "cell_type": "code",
   "execution_count": 69,
   "metadata": {},
   "outputs": [],
   "source": [
    "new_results_dic = {'MSE_train': mse_knn_rgr_train, 'MAE_train': mae_knn_rgr_train,'R2_train': r2_knn_rgr_train,\n",
    "                   'MSE_cv': mse_knn_rgr_cv, 'MSE_std_cv': mse_std_knn_rgr_cv, 'MAE_cv': mae_knn_rgr_cv,\n",
    "                   'MAE_std_cv': mae_std_knn_rgr_cv, 'R2_cv': r2_knn_rgr_cv, 'R2_std_cv': r2_std_knn_rgr_cv,\n",
    "                   'MSE_test': mse_knn_rgr_test,\n",
    "                   'MAE_test': mae_knn_rgr_test,\n",
    "                   'R2_test': r2_knn_rgr_test}\n",
    "df_results.loc[len(df_results)] = new_results_dic"
   ]
  },
  {
   "cell_type": "code",
   "execution_count": 70,
   "metadata": {},
   "outputs": [
    {
     "data": {
      "text/html": [
       "<div>\n",
       "<style scoped>\n",
       "    .dataframe tbody tr th:only-of-type {\n",
       "        vertical-align: middle;\n",
       "    }\n",
       "\n",
       "    .dataframe tbody tr th {\n",
       "        vertical-align: top;\n",
       "    }\n",
       "\n",
       "    .dataframe thead th {\n",
       "        text-align: right;\n",
       "    }\n",
       "</style>\n",
       "<table border=\"1\" class=\"dataframe\">\n",
       "  <thead>\n",
       "    <tr style=\"text-align: right;\">\n",
       "      <th></th>\n",
       "      <th>MSE_train</th>\n",
       "      <th>MAE_train</th>\n",
       "      <th>R2_train</th>\n",
       "      <th>MSE_cv</th>\n",
       "      <th>MSE_std_cv</th>\n",
       "      <th>MAE_cv</th>\n",
       "      <th>MAE_std_cv</th>\n",
       "      <th>R2_cv</th>\n",
       "      <th>R2_std_cv</th>\n",
       "      <th>MSE_test</th>\n",
       "      <th>MAE_test</th>\n",
       "      <th>R2_test</th>\n",
       "    </tr>\n",
       "  </thead>\n",
       "  <tbody>\n",
       "    <tr>\n",
       "      <th>OLS</th>\n",
       "      <td>6.539793</td>\n",
       "      <td>2.083443</td>\n",
       "      <td>0.164449</td>\n",
       "      <td>6.580865</td>\n",
       "      <td>-0.069856</td>\n",
       "      <td>2.090003</td>\n",
       "      <td>-0.011773</td>\n",
       "      <td>-0.159108</td>\n",
       "      <td>-0.007535</td>\n",
       "      <td>6.559855</td>\n",
       "      <td>2.088153</td>\n",
       "      <td>0.156090</td>\n",
       "    </tr>\n",
       "    <tr>\n",
       "      <th>RF</th>\n",
       "      <td>6.050672</td>\n",
       "      <td>2.001662</td>\n",
       "      <td>0.226941</td>\n",
       "      <td>6.489073</td>\n",
       "      <td>-0.075561</td>\n",
       "      <td>2.072774</td>\n",
       "      <td>-0.011955</td>\n",
       "      <td>-0.170838</td>\n",
       "      <td>-0.008319</td>\n",
       "      <td>6.440311</td>\n",
       "      <td>2.068125</td>\n",
       "      <td>0.171469</td>\n",
       "    </tr>\n",
       "    <tr>\n",
       "      <th>SVR</th>\n",
       "      <td>6.124274</td>\n",
       "      <td>1.964271</td>\n",
       "      <td>0.217538</td>\n",
       "      <td>6.616647</td>\n",
       "      <td>-0.090232</td>\n",
       "      <td>2.074351</td>\n",
       "      <td>-0.016249</td>\n",
       "      <td>-0.154522</td>\n",
       "      <td>-0.011576</td>\n",
       "      <td>6.576036</td>\n",
       "      <td>2.074015</td>\n",
       "      <td>0.154008</td>\n",
       "    </tr>\n",
       "    <tr>\n",
       "      <th>KNN</th>\n",
       "      <td>0.259901</td>\n",
       "      <td>0.117710</td>\n",
       "      <td>0.966794</td>\n",
       "      <td>6.978661</td>\n",
       "      <td>-0.107720</td>\n",
       "      <td>2.139279</td>\n",
       "      <td>-0.020941</td>\n",
       "      <td>-0.108300</td>\n",
       "      <td>-0.011206</td>\n",
       "      <td>6.964761</td>\n",
       "      <td>2.137488</td>\n",
       "      <td>0.104000</td>\n",
       "    </tr>\n",
       "  </tbody>\n",
       "</table>\n",
       "</div>"
      ],
      "text/plain": [
       "     MSE_train  MAE_train  R2_train    MSE_cv  MSE_std_cv    MAE_cv  \\\n",
       "OLS   6.539793   2.083443  0.164449  6.580865   -0.069856  2.090003   \n",
       "RF    6.050672   2.001662  0.226941  6.489073   -0.075561  2.072774   \n",
       "SVR   6.124274   1.964271  0.217538  6.616647   -0.090232  2.074351   \n",
       "KNN   0.259901   0.117710  0.966794  6.978661   -0.107720  2.139279   \n",
       "\n",
       "     MAE_std_cv     R2_cv  R2_std_cv  MSE_test  MAE_test   R2_test  \n",
       "OLS   -0.011773 -0.159108  -0.007535  6.559855  2.088153  0.156090  \n",
       "RF    -0.011955 -0.170838  -0.008319  6.440311  2.068125  0.171469  \n",
       "SVR   -0.016249 -0.154522  -0.011576  6.576036  2.074015  0.154008  \n",
       "KNN   -0.020941 -0.108300  -0.011206  6.964761  2.137488  0.104000  "
      ]
     },
     "execution_count": 70,
     "metadata": {},
     "output_type": "execute_result"
    }
   ],
   "source": [
    "indexNamesArr = df_results.index.values\n",
    "i = indexNamesArr[-1]\n",
    "df_results.rename(index={i:'KNN'}, inplace=True)\n",
    "df_results.head()"
   ]
  },
  {
   "cell_type": "markdown",
   "metadata": {},
   "source": [
    "### XG BOOST Machine"
   ]
  },
  {
   "cell_type": "raw",
   "metadata": {},
   "source": [
    "Grid search:\n",
    "# A\n",
    "# You can try wider intervals with a larger step between\n",
    "# each value and then narrow it down.\n",
    "d = len(X)\n",
    "cw=[0, 0.0005,0.001, 0.005, 0.01, 0.015, 0.02]\n",
    "mcw = np.round(d*np.array(cw),0)\n",
    "gridsearch_params = [\n",
    "    (max_depth, min_child_weight)\n",
    "    for max_depth in [2,4,6,8,10]\n",
    "    for min_child_weight in mcw]\n",
    "\n",
    "# B\n",
    "gridsearch_params = [\n",
    "    (subsample, colsample)\n",
    "    for subsample in [i/10. for i in range(4,11)] #[4,5,6,7,8,9]\n",
    "    for colsample in [i/10. for i in range(4,11)]\n",
    "]\n",
    "\n",
    "# C\n",
    "eta in [.3, .2, .1, .05, .01, .005]\n",
    "\n",
    "# D\n",
    "lambda in [0.1,0.5,1,1.5,2.5,5,10,15]\n",
    "\n",
    "# E\n",
    "n_estimators\n",
    "\n",
    "# best parameters cv:\n",
    "\n",
    "{'xgb__subsample': 1.0,\n",
    " 'xgb__reg_lambda': 0.4,\n",
    " 'xgb__min_child_weight': 131.0,\n",
    " 'xgb__max_depth': 20,\n",
    " 'xgb__learning_rate': 0.41999999999999993,\n",
    " 'xgb__colsample_bytree': 1.0}\n",
    " n_estimators=156"
   ]
  },
  {
   "cell_type": "code",
   "execution_count": 71,
   "metadata": {},
   "outputs": [],
   "source": [
    "xgb_rgr = xgb.XGBRegressor(max_depth=20, learning_rate=0.42, n_estimators=156,\n",
    "                           verbosity=1, objective='reg:squarederror',\n",
    "                           booster='gbtree', n_jobs=-1, gamma=0,\n",
    "                           min_child_weight=131.0, max_delta_step=0, subsample=1.0,\n",
    "                           colsample_bytree=0.7, colsample_bylevel=1, colsample_bynode=1,\n",
    "                           reg_alpha=0, reg_lambda=0.4, scale_pos_weight=1, base_score=0.5,\n",
    "                           random_state=seed, seed=None, missing=None, importance_type='gain')\n"
   ]
  },
  {
   "cell_type": "code",
   "execution_count": 72,
   "metadata": {},
   "outputs": [],
   "source": [
    "# Define sklearn pipeline\n",
    "estimators = []\n",
    "estimators.append(('standardize', StandardScaler()))\n",
    "estimators.append(('XGB', xgb_rgr))\n",
    "pipeline = Pipeline(estimators)"
   ]
  },
  {
   "cell_type": "code",
   "execution_count": 73,
   "metadata": {},
   "outputs": [],
   "source": [
    "scores_MSE = cross_val_score(pipeline, X_train, Y_train, cv=kf,\n",
    "                         scoring='neg_mean_squared_error')\n",
    "scores_MAE = cross_val_score(pipeline, X_train, Y_train, cv=kf,\n",
    "                         scoring='neg_mean_absolute_error')\n",
    "scores_R2 = cross_val_score(pipeline, X_train, Y_train, cv=kf,\n",
    "                         scoring='r2')"
   ]
  },
  {
   "cell_type": "code",
   "execution_count": 74,
   "metadata": {},
   "outputs": [
    {
     "name": "stdout",
     "output_type": "stream",
     "text": [
      "MSE: 6.36 (+/- 0.14)\n",
      "MAE: 2.02 (+/- 0.04)\n",
      "R2: -0.19 (+/- 0.01)\n"
     ]
    }
   ],
   "source": [
    "print(\"MSE: %0.2f (+/- %0.2f)\" % (-scores_MSE.mean(), scores_MSE.std() * 2))\n",
    "print(\"MAE: %0.2f (+/- %0.2f)\" % (-scores_MAE.mean(), scores_MAE.std() * 2))\n",
    "print(\"R2: %0.2f (+/- %0.2f)\" % (-scores_R2.mean(), scores_R2.std() * 2))"
   ]
  },
  {
   "cell_type": "code",
   "execution_count": 75,
   "metadata": {},
   "outputs": [],
   "source": [
    "df_scorescv_xgb_MSE=pd.DataFrame(scores_MSE)\n",
    "df_scorescv_xgb_MAE=pd.DataFrame(scores_MAE)\n",
    "df_scorescv_xgb_R2=pd.DataFrame(scores_R2)"
   ]
  },
  {
   "cell_type": "code",
   "execution_count": 76,
   "metadata": {},
   "outputs": [],
   "source": [
    "with pd.ExcelWriter('FINALRESULTS_CV_11.xlsx',engine='openpyxl', mode='a') as writer:\n",
    "    df_scorescv_xgb_MSE.to_excel(writer, sheet_name='XGB_MSE')\n",
    "\n",
    "with pd.ExcelWriter('FINALRESULTS_CV_11.xlsx',engine='openpyxl', mode='a') as writer:\n",
    "    df_scorescv_xgb_MAE.to_excel(writer, sheet_name='XGB_MAE')\n",
    "    \n",
    "with pd.ExcelWriter('FINALRESULTS_CV_11.xlsx',engine='openpyxl', mode='a') as writer:\n",
    "    df_scorescv_xgb_R2.to_excel(writer, sheet_name='XGB_R2')"
   ]
  },
  {
   "cell_type": "code",
   "execution_count": 77,
   "metadata": {},
   "outputs": [],
   "source": [
    "mse_xgb_rgr_cv = -scores_MSE.mean()\n",
    "mse_std_xgb_rgr_cv = -scores_MSE.std()\n",
    "mae_xgb_rgr_cv = -scores_MAE.mean()\n",
    "mae_std_xgb_rgr_cv = -scores_MAE.std()\n",
    "r2_xgb_rgr_cv = -scores_R2.mean()\n",
    "r2_std_xgb_rgr_cv = -scores_R2.std()"
   ]
  },
  {
   "cell_type": "code",
   "execution_count": 78,
   "metadata": {},
   "outputs": [
    {
     "data": {
      "text/plain": [
       "XGBRegressor(base_score=0.5, booster='gbtree', colsample_bylevel=1,\n",
       "             colsample_bynode=1, colsample_bytree=0.7, gamma=0,\n",
       "             importance_type='gain', learning_rate=0.42, max_delta_step=0,\n",
       "             max_depth=20, min_child_weight=131.0, missing=None,\n",
       "             n_estimators=156, n_jobs=-1, nthread=None,\n",
       "             objective='reg:squarederror', random_state=42, reg_alpha=0,\n",
       "             reg_lambda=0.4, scale_pos_weight=1, seed=None, silent=None,\n",
       "             subsample=1.0, verbosity=1)"
      ]
     },
     "execution_count": 78,
     "metadata": {},
     "output_type": "execute_result"
    }
   ],
   "source": [
    "xgb_rgr.fit(X_train_std, Y_train)"
   ]
  },
  {
   "cell_type": "code",
   "execution_count": 79,
   "metadata": {},
   "outputs": [],
   "source": [
    "Y_train_pred=xgb_rgr.predict(X_train_std)\n",
    "Y_test_pred=xgb_rgr.predict(X_test_std)"
   ]
  },
  {
   "cell_type": "code",
   "execution_count": 80,
   "metadata": {},
   "outputs": [],
   "source": [
    "mse_xgb_rgr_train = metrics.mean_squared_error(Y_train, Y_train_pred) \n",
    "mse_xgb_rgr_test = metrics.mean_squared_error(Y_test, Y_test_pred)\n",
    "\n",
    "mae_xgb_rgr_train = metrics.mean_absolute_error(Y_train, Y_train_pred) \n",
    "mae_xgb_rgr_test = metrics.mean_absolute_error(Y_test, Y_test_pred)\n",
    "\n",
    "r2_xgb_rgr_train = metrics.r2_score(Y_train, Y_train_pred)\n",
    "r2_xgb_rgr_test = metrics.r2_score(Y_test, Y_test_pred)"
   ]
  },
  {
   "cell_type": "code",
   "execution_count": 81,
   "metadata": {},
   "outputs": [],
   "source": [
    "new_results_dic = {'MSE_train': mse_xgb_rgr_train, 'MAE_train': mae_xgb_rgr_train,'R2_train': r2_xgb_rgr_train,\n",
    "                   'MSE_cv': mse_xgb_rgr_cv, 'MSE_std_cv': mse_std_xgb_rgr_cv, 'MAE_cv': mae_xgb_rgr_cv,\n",
    "                   'MAE_std_cv': mae_std_xgb_rgr_cv, 'R2_cv': r2_xgb_rgr_cv, 'R2_std_cv': r2_std_xgb_rgr_cv,\n",
    "                   'MSE_test': mse_xgb_rgr_test,\n",
    "                   'MAE_test': mae_xgb_rgr_test,\n",
    "                   'R2_test': r2_xgb_rgr_test}\n",
    "\n",
    "df_results.loc[len(df_results)] = new_results_dic"
   ]
  },
  {
   "cell_type": "code",
   "execution_count": 82,
   "metadata": {},
   "outputs": [
    {
     "data": {
      "text/html": [
       "<div>\n",
       "<style scoped>\n",
       "    .dataframe tbody tr th:only-of-type {\n",
       "        vertical-align: middle;\n",
       "    }\n",
       "\n",
       "    .dataframe tbody tr th {\n",
       "        vertical-align: top;\n",
       "    }\n",
       "\n",
       "    .dataframe thead th {\n",
       "        text-align: right;\n",
       "    }\n",
       "</style>\n",
       "<table border=\"1\" class=\"dataframe\">\n",
       "  <thead>\n",
       "    <tr style=\"text-align: right;\">\n",
       "      <th></th>\n",
       "      <th>MSE_train</th>\n",
       "      <th>MAE_train</th>\n",
       "      <th>R2_train</th>\n",
       "      <th>MSE_cv</th>\n",
       "      <th>MSE_std_cv</th>\n",
       "      <th>MAE_cv</th>\n",
       "      <th>MAE_std_cv</th>\n",
       "      <th>R2_cv</th>\n",
       "      <th>R2_std_cv</th>\n",
       "      <th>MSE_test</th>\n",
       "      <th>MAE_test</th>\n",
       "      <th>R2_test</th>\n",
       "    </tr>\n",
       "  </thead>\n",
       "  <tbody>\n",
       "    <tr>\n",
       "      <th>OLS</th>\n",
       "      <td>6.539793</td>\n",
       "      <td>2.083443</td>\n",
       "      <td>0.164449</td>\n",
       "      <td>6.580865</td>\n",
       "      <td>-0.069856</td>\n",
       "      <td>2.090003</td>\n",
       "      <td>-0.011773</td>\n",
       "      <td>-0.159108</td>\n",
       "      <td>-0.007535</td>\n",
       "      <td>6.559855</td>\n",
       "      <td>2.088153</td>\n",
       "      <td>0.156090</td>\n",
       "    </tr>\n",
       "    <tr>\n",
       "      <th>RF</th>\n",
       "      <td>6.050672</td>\n",
       "      <td>2.001662</td>\n",
       "      <td>0.226941</td>\n",
       "      <td>6.489073</td>\n",
       "      <td>-0.075561</td>\n",
       "      <td>2.072774</td>\n",
       "      <td>-0.011955</td>\n",
       "      <td>-0.170838</td>\n",
       "      <td>-0.008319</td>\n",
       "      <td>6.440311</td>\n",
       "      <td>2.068125</td>\n",
       "      <td>0.171469</td>\n",
       "    </tr>\n",
       "    <tr>\n",
       "      <th>SVR</th>\n",
       "      <td>6.124274</td>\n",
       "      <td>1.964271</td>\n",
       "      <td>0.217538</td>\n",
       "      <td>6.616647</td>\n",
       "      <td>-0.090232</td>\n",
       "      <td>2.074351</td>\n",
       "      <td>-0.016249</td>\n",
       "      <td>-0.154522</td>\n",
       "      <td>-0.011576</td>\n",
       "      <td>6.576036</td>\n",
       "      <td>2.074015</td>\n",
       "      <td>0.154008</td>\n",
       "    </tr>\n",
       "    <tr>\n",
       "      <th>KNN</th>\n",
       "      <td>0.259901</td>\n",
       "      <td>0.117710</td>\n",
       "      <td>0.966794</td>\n",
       "      <td>6.978661</td>\n",
       "      <td>-0.107720</td>\n",
       "      <td>2.139279</td>\n",
       "      <td>-0.020941</td>\n",
       "      <td>-0.108300</td>\n",
       "      <td>-0.011206</td>\n",
       "      <td>6.964761</td>\n",
       "      <td>2.137488</td>\n",
       "      <td>0.104000</td>\n",
       "    </tr>\n",
       "    <tr>\n",
       "      <th>XGB</th>\n",
       "      <td>2.609244</td>\n",
       "      <td>1.278893</td>\n",
       "      <td>0.666632</td>\n",
       "      <td>6.359796</td>\n",
       "      <td>-0.071910</td>\n",
       "      <td>2.016598</td>\n",
       "      <td>-0.020304</td>\n",
       "      <td>-0.187375</td>\n",
       "      <td>-0.005720</td>\n",
       "      <td>6.069271</td>\n",
       "      <td>1.970897</td>\n",
       "      <td>0.219203</td>\n",
       "    </tr>\n",
       "  </tbody>\n",
       "</table>\n",
       "</div>"
      ],
      "text/plain": [
       "     MSE_train  MAE_train  R2_train    MSE_cv  MSE_std_cv    MAE_cv  \\\n",
       "OLS   6.539793   2.083443  0.164449  6.580865   -0.069856  2.090003   \n",
       "RF    6.050672   2.001662  0.226941  6.489073   -0.075561  2.072774   \n",
       "SVR   6.124274   1.964271  0.217538  6.616647   -0.090232  2.074351   \n",
       "KNN   0.259901   0.117710  0.966794  6.978661   -0.107720  2.139279   \n",
       "XGB   2.609244   1.278893  0.666632  6.359796   -0.071910  2.016598   \n",
       "\n",
       "     MAE_std_cv     R2_cv  R2_std_cv  MSE_test  MAE_test   R2_test  \n",
       "OLS   -0.011773 -0.159108  -0.007535  6.559855  2.088153  0.156090  \n",
       "RF    -0.011955 -0.170838  -0.008319  6.440311  2.068125  0.171469  \n",
       "SVR   -0.016249 -0.154522  -0.011576  6.576036  2.074015  0.154008  \n",
       "KNN   -0.020941 -0.108300  -0.011206  6.964761  2.137488  0.104000  \n",
       "XGB   -0.020304 -0.187375  -0.005720  6.069271  1.970897  0.219203  "
      ]
     },
     "execution_count": 82,
     "metadata": {},
     "output_type": "execute_result"
    }
   ],
   "source": [
    "indexNamesArr = df_results.index.values\n",
    "i = indexNamesArr[-1]\n",
    "df_results.rename(index={i:'XGB'}, inplace=True)\n",
    "df_results.head()"
   ]
  },
  {
   "cell_type": "markdown",
   "metadata": {},
   "source": [
    "### Neural Network"
   ]
  },
  {
   "cell_type": "code",
   "execution_count": 83,
   "metadata": {},
   "outputs": [
    {
     "name": "stderr",
     "output_type": "stream",
     "text": [
      "Using TensorFlow backend.\n",
      "C:\\ProgramData\\Anaconda3\\lib\\site-packages\\tensorflow\\python\\framework\\dtypes.py:516: FutureWarning: Passing (type, 1) or '1type' as a synonym of type is deprecated; in a future version of numpy, it will be understood as (type, (1,)) / '(1,)type'.\n",
      "  _np_qint8 = np.dtype([(\"qint8\", np.int8, 1)])\n",
      "C:\\ProgramData\\Anaconda3\\lib\\site-packages\\tensorflow\\python\\framework\\dtypes.py:517: FutureWarning: Passing (type, 1) or '1type' as a synonym of type is deprecated; in a future version of numpy, it will be understood as (type, (1,)) / '(1,)type'.\n",
      "  _np_quint8 = np.dtype([(\"quint8\", np.uint8, 1)])\n",
      "C:\\ProgramData\\Anaconda3\\lib\\site-packages\\tensorflow\\python\\framework\\dtypes.py:518: FutureWarning: Passing (type, 1) or '1type' as a synonym of type is deprecated; in a future version of numpy, it will be understood as (type, (1,)) / '(1,)type'.\n",
      "  _np_qint16 = np.dtype([(\"qint16\", np.int16, 1)])\n",
      "C:\\ProgramData\\Anaconda3\\lib\\site-packages\\tensorflow\\python\\framework\\dtypes.py:519: FutureWarning: Passing (type, 1) or '1type' as a synonym of type is deprecated; in a future version of numpy, it will be understood as (type, (1,)) / '(1,)type'.\n",
      "  _np_quint16 = np.dtype([(\"quint16\", np.uint16, 1)])\n",
      "C:\\ProgramData\\Anaconda3\\lib\\site-packages\\tensorflow\\python\\framework\\dtypes.py:520: FutureWarning: Passing (type, 1) or '1type' as a synonym of type is deprecated; in a future version of numpy, it will be understood as (type, (1,)) / '(1,)type'.\n",
      "  _np_qint32 = np.dtype([(\"qint32\", np.int32, 1)])\n",
      "C:\\ProgramData\\Anaconda3\\lib\\site-packages\\tensorflow\\python\\framework\\dtypes.py:525: FutureWarning: Passing (type, 1) or '1type' as a synonym of type is deprecated; in a future version of numpy, it will be understood as (type, (1,)) / '(1,)type'.\n",
      "  np_resource = np.dtype([(\"resource\", np.ubyte, 1)])\n",
      "C:\\ProgramData\\Anaconda3\\lib\\site-packages\\tensorboard\\compat\\tensorflow_stub\\dtypes.py:541: FutureWarning: Passing (type, 1) or '1type' as a synonym of type is deprecated; in a future version of numpy, it will be understood as (type, (1,)) / '(1,)type'.\n",
      "  _np_qint8 = np.dtype([(\"qint8\", np.int8, 1)])\n",
      "C:\\ProgramData\\Anaconda3\\lib\\site-packages\\tensorboard\\compat\\tensorflow_stub\\dtypes.py:542: FutureWarning: Passing (type, 1) or '1type' as a synonym of type is deprecated; in a future version of numpy, it will be understood as (type, (1,)) / '(1,)type'.\n",
      "  _np_quint8 = np.dtype([(\"quint8\", np.uint8, 1)])\n",
      "C:\\ProgramData\\Anaconda3\\lib\\site-packages\\tensorboard\\compat\\tensorflow_stub\\dtypes.py:543: FutureWarning: Passing (type, 1) or '1type' as a synonym of type is deprecated; in a future version of numpy, it will be understood as (type, (1,)) / '(1,)type'.\n",
      "  _np_qint16 = np.dtype([(\"qint16\", np.int16, 1)])\n",
      "C:\\ProgramData\\Anaconda3\\lib\\site-packages\\tensorboard\\compat\\tensorflow_stub\\dtypes.py:544: FutureWarning: Passing (type, 1) or '1type' as a synonym of type is deprecated; in a future version of numpy, it will be understood as (type, (1,)) / '(1,)type'.\n",
      "  _np_quint16 = np.dtype([(\"quint16\", np.uint16, 1)])\n",
      "C:\\ProgramData\\Anaconda3\\lib\\site-packages\\tensorboard\\compat\\tensorflow_stub\\dtypes.py:545: FutureWarning: Passing (type, 1) or '1type' as a synonym of type is deprecated; in a future version of numpy, it will be understood as (type, (1,)) / '(1,)type'.\n",
      "  _np_qint32 = np.dtype([(\"qint32\", np.int32, 1)])\n",
      "C:\\ProgramData\\Anaconda3\\lib\\site-packages\\tensorboard\\compat\\tensorflow_stub\\dtypes.py:550: FutureWarning: Passing (type, 1) or '1type' as a synonym of type is deprecated; in a future version of numpy, it will be understood as (type, (1,)) / '(1,)type'.\n",
      "  np_resource = np.dtype([(\"resource\", np.ubyte, 1)])\n"
     ]
    }
   ],
   "source": [
    "from keras.models import Sequential\n",
    "from keras.layers import Dense\n",
    "from keras.layers import InputLayer\n",
    "from keras import backend as k\n",
    "from keras.optimizers import SGD\n",
    "from keras.optimizers import Adam\n",
    "from keras.callbacks import EarlyStopping\n",
    "from keras.callbacks import ModelCheckpoint\n",
    "from keras.wrappers.scikit_learn import KerasRegressor"
   ]
  },
  {
   "cell_type": "code",
   "execution_count": 155,
   "metadata": {},
   "outputs": [],
   "source": [
    "def r2(y_true,y_pred):\n",
    "    SS_res=k.sum(k.square(y_true-y_pred))\n",
    "    SS_tot=k.sum(k.square(y_true-k.mean(y_true)))\n",
    "    return (1-SS_res/(SS_tot))\n",
    "\n",
    "# define base model\n",
    "def baseline_model(input_dim=49,output_dim=1, init='glorot_uniform', layers=[10, 10, 10, 10, 10, 10, 10, 10],\n",
    "                   activ_function='relu',\n",
    "                   optim='adam' , loss_function='mse'):\n",
    "    # ,Adam_lr=0.001, Adam_beta1=0.9, Adam_beta2=0.999, Adam_epsilon=1e-07\n",
    "    # create model\n",
    "    model = Sequential()\n",
    "    for i, nodes in enumerate(layers):\n",
    "        if i==0:\n",
    "            model.add(Dense(units=nodes, input_dim=input_dim, kernel_initializer=init, activation=activ_function))\n",
    "        else:\n",
    "            model.add(Dense(units=nodes, kernel_initializer=init, activation=activ_function))\n",
    "    model.add(Dense(units=output_dim, kernel_initializer=init,))\n",
    "    # Compile model\n",
    "    # optim_m=Adam(learning_rate=Adam_lr, beta_1=Adam_beta1, beta_2=Adam_beta2, epsilon= Adam_epsilon)\n",
    "    model.compile(optimizer=optim, loss=loss_function, metrics=['mae','mse',r2])\n",
    "    return model"
   ]
  },
  {
   "cell_type": "raw",
   "metadata": {},
   "source": [
    "# Early Stopping\n",
    "stopper=EarlyStopping(monitor='val_mae', patience=8, verbose=1) #more than three epochs"
   ]
  },
  {
   "cell_type": "code",
   "execution_count": 156,
   "metadata": {},
   "outputs": [],
   "source": [
    "#Model check point\n",
    "checkpoint_filepath= 'weights11.hdf5'\n",
    "checkpoint=ModelCheckpoint(filepath =checkpoint_filepath, monitor='loss',\n",
    "                           save_best_only= True, mode='auto')"
   ]
  },
  {
   "cell_type": "code",
   "execution_count": 157,
   "metadata": {},
   "outputs": [],
   "source": [
    "# Best combination of Hyperparameters:\n",
    "#{'kr__activ_function': 'relu', 'kr__batch_size': 32, 'kr__epochs': 200, 'kr__input_dim': 120,\n",
    "#'kr__layers': (24, 24), 'kr__optim': 'adam'}\n",
    "\n",
    "\n",
    "num_epochs=25\n",
    "batch=32\n",
    "blayers=[10, 10, 10, 10, 10, 10, 10, 10]\n",
    "bactiv_function='relu'\n",
    "boptim='adam'\n",
    "\n",
    "model=baseline_model(input_dim=49,output_dim=1,layers=blayers, activ_function= bactiv_function, optim=boptim, loss_function='mse')\n",
    "\n",
    "num_val_samples=len(X_train)//kf #Floor division - division that results into whole number\n",
    "#adjusted to the left in the number line\n",
    "all_mae_histories=[]\n",
    "all_mse_histories=[]\n",
    "all_r2_histories=[]"
   ]
  },
  {
   "cell_type": "code",
   "execution_count": 158,
   "metadata": {},
   "outputs": [
    {
     "name": "stdout",
     "output_type": "stream",
     "text": [
      "Processing fold # 0\n",
      "Processing fold # 1\n",
      "Processing fold # 2\n",
      "Processing fold # 3\n"
     ]
    }
   ],
   "source": [
    "for i in range(kf):\n",
    "    #Prepares the validation data: data from partition #k\n",
    "    print('Processing fold #', i)\n",
    "    val_data=X_train[i*num_val_samples:(i+1)*num_val_samples]\n",
    "    val_targets=Y_train[i*num_val_samples:(i+1)*num_val_samples]\n",
    "    #Prepares the training data: data from all other partitions\n",
    "    partial_train_data=np.concatenate([X_train[:i*num_val_samples],\n",
    "        X_train[(i+1)*num_val_samples:]], axis=0)\n",
    "    partial_train_targets=np.concatenate([Y_train[:i*num_val_samples],\n",
    "        Y_train[(i+1)*num_val_samples:]], axis=0)\n",
    "    # trains the model in silent mode\n",
    "    scaler.fit(partial_train_data)\n",
    "    partial_train_data_std=scaler.transform(partial_train_data)\n",
    "    val_data_std=scaler.transform(val_data)\n",
    "    history = model.fit(partial_train_data_std, partial_train_targets,validation_data=(val_data_std,val_targets),\n",
    "                        epochs=num_epochs,batch_size=batch,verbose=0)\n",
    "    #Evaluates the model on the validation data\n",
    "    mae_history=history.history['val_mae']\n",
    "    all_mae_histories.append(mae_history)\n",
    "    mse_history=history.history['val_mse']\n",
    "    all_mse_histories.append(mse_history)\n",
    "    r2_history=history.history['val_r2']\n",
    "    all_r2_histories.append(r2_history)"
   ]
  },
  {
   "cell_type": "code",
   "execution_count": 159,
   "metadata": {},
   "outputs": [],
   "source": [
    "df_scorescv_ann_MAE=pd.DataFrame(all_mae_histories)\n",
    "df_scorescv_ann_MSE=pd.DataFrame(all_mse_histories)\n",
    "df_scorescv_ann_R2=pd.DataFrame(all_r2_histories)"
   ]
  },
  {
   "cell_type": "code",
   "execution_count": 160,
   "metadata": {},
   "outputs": [],
   "source": [
    "with pd.ExcelWriter('FINALRESULTS_CV_11.xlsx',engine='openpyxl', mode='a') as writer:\n",
    "    df_scorescv_ann_MSE.to_excel(writer, sheet_name='ANN_MSE')\n",
    "\n",
    "with pd.ExcelWriter('FINALRESULTS_CV_11.xlsx',engine='openpyxl', mode='a') as writer:\n",
    "    df_scorescv_ann_MAE.to_excel(writer, sheet_name='ANN_MAE')\n",
    "    \n",
    "with pd.ExcelWriter('FINALRESULTS_CV_11.xlsx',engine='openpyxl', mode='a') as writer:\n",
    "    df_scorescv_ann_R2.to_excel(writer, sheet_name='ANN_R2')"
   ]
  },
  {
   "cell_type": "code",
   "execution_count": 161,
   "metadata": {},
   "outputs": [],
   "source": [
    "min_df_scorescv_ann_MAE=df_scorescv_ann_MAE.min(axis=1)\n",
    "min_df_scorescv_ann_MSE=df_scorescv_ann_MSE.min(axis=1)\n",
    "max_df_scorescv_ann_R2=df_scorescv_ann_R2.max(axis=1)"
   ]
  },
  {
   "cell_type": "code",
   "execution_count": 162,
   "metadata": {},
   "outputs": [],
   "source": [
    "mse_ann_rgr_cv = min_df_scorescv_ann_MSE.mean(axis=0)\n",
    "mse_std_ann_rgr_cv = min_df_scorescv_ann_MSE.std(axis=0)\n",
    "mae_ann_rgr_cv = min_df_scorescv_ann_MAE.mean(axis=0)\n",
    "mae_std_ann_rgr_cv = min_df_scorescv_ann_MAE.std(axis=0)\n",
    "r2_ann_rgr_cv = max_df_scorescv_ann_R2.mean(axis=0)\n",
    "r2_std_ann_rgr_cv = max_df_scorescv_ann_R2.std(axis=0)"
   ]
  },
  {
   "cell_type": "code",
   "execution_count": 163,
   "metadata": {},
   "outputs": [
    {
     "data": {
      "text/plain": [
       "<keras.callbacks.callbacks.History at 0x1f3d79f4548>"
      ]
     },
     "execution_count": 163,
     "metadata": {},
     "output_type": "execute_result"
    }
   ],
   "source": [
    "model.fit(X_train_std, Y_train, epochs=num_epochs, callbacks=[checkpoint], batch_size=batch, verbose=0)"
   ]
  },
  {
   "cell_type": "code",
   "execution_count": 164,
   "metadata": {},
   "outputs": [
    {
     "name": "stdout",
     "output_type": "stream",
     "text": [
      "['loss', 'mae', 'mse', 'r2']\n"
     ]
    }
   ],
   "source": [
    "print(model.metrics_names)"
   ]
  },
  {
   "cell_type": "code",
   "execution_count": 165,
   "metadata": {},
   "outputs": [],
   "source": [
    "model.load_weights(checkpoint_filepath)"
   ]
  },
  {
   "cell_type": "code",
   "execution_count": 166,
   "metadata": {},
   "outputs": [
    {
     "name": "stdout",
     "output_type": "stream",
     "text": [
      "21934/21934 [==============================] - ETA:  - 1s 35us/step\n",
      "9488/9488 [==============================] - 0s 37us/step\n"
     ]
    }
   ],
   "source": [
    "loss, mae, mse, r2= model.evaluate(X_train_std, Y_train)\n",
    "test_loss, test_mae, test_mse, test_r2 = model.evaluate(X_test_std, Y_test)"
   ]
  },
  {
   "cell_type": "code",
   "execution_count": 167,
   "metadata": {},
   "outputs": [],
   "source": [
    "mse_ann_rgr_train = mse \n",
    "mse_ann_rgr_test = test_mse\n",
    "\n",
    "mae_ann_rgr_train = mae \n",
    "mae_ann_rgr_test = test_mae\n",
    "\n",
    "r2_ann_rgr_train = r2\n",
    "r2_ann_rgr_test = test_r2"
   ]
  },
  {
   "cell_type": "code",
   "execution_count": 168,
   "metadata": {},
   "outputs": [],
   "source": [
    "new_results_dic = {'MSE_train': mse_ann_rgr_train, 'MAE_train': mae_ann_rgr_train,'R2_train': r2_ann_rgr_train,\n",
    "                   'MSE_cv': mse_ann_rgr_cv, 'MSE_std_cv': mse_std_ann_rgr_cv, 'MAE_cv': mae_ann_rgr_cv,\n",
    "                   'MAE_std_cv': mae_std_ann_rgr_cv, 'R2_cv': r2_ann_rgr_cv, 'R2_std_cv': r2_std_ann_rgr_cv,\n",
    "                   'MSE_test': mse_ann_rgr_test,\n",
    "                   'MAE_test': mae_ann_rgr_test,\n",
    "                   'R2_test': r2_ann_rgr_test}\n",
    "\n",
    "df_results.loc[len(df_results)] = new_results_dic"
   ]
  },
  {
   "cell_type": "code",
   "execution_count": 169,
   "metadata": {},
   "outputs": [
    {
     "data": {
      "text/html": [
       "<div>\n",
       "<style scoped>\n",
       "    .dataframe tbody tr th:only-of-type {\n",
       "        vertical-align: middle;\n",
       "    }\n",
       "\n",
       "    .dataframe tbody tr th {\n",
       "        vertical-align: top;\n",
       "    }\n",
       "\n",
       "    .dataframe thead th {\n",
       "        text-align: right;\n",
       "    }\n",
       "</style>\n",
       "<table border=\"1\" class=\"dataframe\">\n",
       "  <thead>\n",
       "    <tr style=\"text-align: right;\">\n",
       "      <th></th>\n",
       "      <th>MSE_train</th>\n",
       "      <th>MAE_train</th>\n",
       "      <th>R2_train</th>\n",
       "      <th>MSE_cv</th>\n",
       "      <th>MSE_std_cv</th>\n",
       "      <th>MAE_cv</th>\n",
       "      <th>MAE_std_cv</th>\n",
       "      <th>R2_cv</th>\n",
       "      <th>R2_std_cv</th>\n",
       "      <th>MSE_test</th>\n",
       "      <th>MAE_test</th>\n",
       "      <th>R2_test</th>\n",
       "    </tr>\n",
       "  </thead>\n",
       "  <tbody>\n",
       "    <tr>\n",
       "      <th>OLS</th>\n",
       "      <td>6.539793</td>\n",
       "      <td>2.083443</td>\n",
       "      <td>0.164449</td>\n",
       "      <td>6.580865</td>\n",
       "      <td>-0.069856</td>\n",
       "      <td>2.090003</td>\n",
       "      <td>-0.011773</td>\n",
       "      <td>-0.159108</td>\n",
       "      <td>-0.007535</td>\n",
       "      <td>6.559855</td>\n",
       "      <td>2.088153</td>\n",
       "      <td>0.156090</td>\n",
       "    </tr>\n",
       "    <tr>\n",
       "      <th>RF</th>\n",
       "      <td>6.050672</td>\n",
       "      <td>2.001662</td>\n",
       "      <td>0.226941</td>\n",
       "      <td>6.489073</td>\n",
       "      <td>-0.075561</td>\n",
       "      <td>2.072774</td>\n",
       "      <td>-0.011955</td>\n",
       "      <td>-0.170838</td>\n",
       "      <td>-0.008319</td>\n",
       "      <td>6.440311</td>\n",
       "      <td>2.068125</td>\n",
       "      <td>0.171469</td>\n",
       "    </tr>\n",
       "    <tr>\n",
       "      <th>SVR</th>\n",
       "      <td>6.124274</td>\n",
       "      <td>1.964271</td>\n",
       "      <td>0.217538</td>\n",
       "      <td>6.616647</td>\n",
       "      <td>-0.090232</td>\n",
       "      <td>2.074351</td>\n",
       "      <td>-0.016249</td>\n",
       "      <td>-0.154522</td>\n",
       "      <td>-0.011576</td>\n",
       "      <td>6.576036</td>\n",
       "      <td>2.074015</td>\n",
       "      <td>0.154008</td>\n",
       "    </tr>\n",
       "    <tr>\n",
       "      <th>KNN</th>\n",
       "      <td>0.259901</td>\n",
       "      <td>0.117710</td>\n",
       "      <td>0.966794</td>\n",
       "      <td>6.978661</td>\n",
       "      <td>-0.107720</td>\n",
       "      <td>2.139279</td>\n",
       "      <td>-0.020941</td>\n",
       "      <td>-0.108300</td>\n",
       "      <td>-0.011206</td>\n",
       "      <td>6.964761</td>\n",
       "      <td>2.137488</td>\n",
       "      <td>0.104000</td>\n",
       "    </tr>\n",
       "    <tr>\n",
       "      <th>XGB</th>\n",
       "      <td>2.609244</td>\n",
       "      <td>1.278893</td>\n",
       "      <td>0.666632</td>\n",
       "      <td>6.359796</td>\n",
       "      <td>-0.071910</td>\n",
       "      <td>2.016598</td>\n",
       "      <td>-0.020304</td>\n",
       "      <td>-0.187375</td>\n",
       "      <td>-0.005720</td>\n",
       "      <td>6.069271</td>\n",
       "      <td>1.970897</td>\n",
       "      <td>0.219203</td>\n",
       "    </tr>\n",
       "  </tbody>\n",
       "</table>\n",
       "</div>"
      ],
      "text/plain": [
       "     MSE_train  MAE_train  R2_train    MSE_cv  MSE_std_cv    MAE_cv  \\\n",
       "OLS   6.539793   2.083443  0.164449  6.580865   -0.069856  2.090003   \n",
       "RF    6.050672   2.001662  0.226941  6.489073   -0.075561  2.072774   \n",
       "SVR   6.124274   1.964271  0.217538  6.616647   -0.090232  2.074351   \n",
       "KNN   0.259901   0.117710  0.966794  6.978661   -0.107720  2.139279   \n",
       "XGB   2.609244   1.278893  0.666632  6.359796   -0.071910  2.016598   \n",
       "\n",
       "     MAE_std_cv     R2_cv  R2_std_cv  MSE_test  MAE_test   R2_test  \n",
       "OLS   -0.011773 -0.159108  -0.007535  6.559855  2.088153  0.156090  \n",
       "RF    -0.011955 -0.170838  -0.008319  6.440311  2.068125  0.171469  \n",
       "SVR   -0.016249 -0.154522  -0.011576  6.576036  2.074015  0.154008  \n",
       "KNN   -0.020941 -0.108300  -0.011206  6.964761  2.137488  0.104000  \n",
       "XGB   -0.020304 -0.187375  -0.005720  6.069271  1.970897  0.219203  "
      ]
     },
     "execution_count": 169,
     "metadata": {},
     "output_type": "execute_result"
    }
   ],
   "source": [
    "indexNamesArr = df_results.index.values\n",
    "i = indexNamesArr[-1]\n",
    "df_results.rename(index={i:'ANN'}, inplace=True)\n",
    "df_results.head()"
   ]
  },
  {
   "cell_type": "code",
   "execution_count": 170,
   "metadata": {},
   "outputs": [
    {
     "name": "stdout",
     "output_type": "stream",
     "text": [
      "Model: \"sequential_2\"\n",
      "_________________________________________________________________\n",
      "Layer (type)                 Output Shape              Param #   \n",
      "=================================================================\n",
      "dense_10 (Dense)             (None, 10)                500       \n",
      "_________________________________________________________________\n",
      "dense_11 (Dense)             (None, 10)                110       \n",
      "_________________________________________________________________\n",
      "dense_12 (Dense)             (None, 10)                110       \n",
      "_________________________________________________________________\n",
      "dense_13 (Dense)             (None, 10)                110       \n",
      "_________________________________________________________________\n",
      "dense_14 (Dense)             (None, 10)                110       \n",
      "_________________________________________________________________\n",
      "dense_15 (Dense)             (None, 10)                110       \n",
      "_________________________________________________________________\n",
      "dense_16 (Dense)             (None, 10)                110       \n",
      "_________________________________________________________________\n",
      "dense_17 (Dense)             (None, 10)                110       \n",
      "_________________________________________________________________\n",
      "dense_18 (Dense)             (None, 1)                 11        \n",
      "=================================================================\n",
      "Total params: 1,281\n",
      "Trainable params: 1,281\n",
      "Non-trainable params: 0\n",
      "_________________________________________________________________\n",
      "None\n"
     ]
    }
   ],
   "source": [
    "print(model.summary())"
   ]
  },
  {
   "cell_type": "code",
   "execution_count": 171,
   "metadata": {},
   "outputs": [
    {
     "data": {
      "text/html": [
       "<div>\n",
       "<style scoped>\n",
       "    .dataframe tbody tr th:only-of-type {\n",
       "        vertical-align: middle;\n",
       "    }\n",
       "\n",
       "    .dataframe tbody tr th {\n",
       "        vertical-align: top;\n",
       "    }\n",
       "\n",
       "    .dataframe thead th {\n",
       "        text-align: right;\n",
       "    }\n",
       "</style>\n",
       "<table border=\"1\" class=\"dataframe\">\n",
       "  <thead>\n",
       "    <tr style=\"text-align: right;\">\n",
       "      <th></th>\n",
       "      <th>MSE_train</th>\n",
       "      <th>MAE_train</th>\n",
       "      <th>R2_train</th>\n",
       "      <th>MSE_cv</th>\n",
       "      <th>MSE_std_cv</th>\n",
       "      <th>MAE_cv</th>\n",
       "      <th>MAE_std_cv</th>\n",
       "      <th>R2_cv</th>\n",
       "      <th>R2_std_cv</th>\n",
       "      <th>MSE_test</th>\n",
       "      <th>MAE_test</th>\n",
       "      <th>R2_test</th>\n",
       "    </tr>\n",
       "  </thead>\n",
       "  <tbody>\n",
       "    <tr>\n",
       "      <th>OLS</th>\n",
       "      <td>6.539793</td>\n",
       "      <td>2.083443</td>\n",
       "      <td>0.164449</td>\n",
       "      <td>6.580865</td>\n",
       "      <td>-0.069856</td>\n",
       "      <td>2.090003</td>\n",
       "      <td>-0.011773</td>\n",
       "      <td>-0.159108</td>\n",
       "      <td>-0.007535</td>\n",
       "      <td>6.559855</td>\n",
       "      <td>2.088153</td>\n",
       "      <td>0.156090</td>\n",
       "    </tr>\n",
       "    <tr>\n",
       "      <th>RF</th>\n",
       "      <td>6.050672</td>\n",
       "      <td>2.001662</td>\n",
       "      <td>0.226941</td>\n",
       "      <td>6.489073</td>\n",
       "      <td>-0.075561</td>\n",
       "      <td>2.072774</td>\n",
       "      <td>-0.011955</td>\n",
       "      <td>-0.170838</td>\n",
       "      <td>-0.008319</td>\n",
       "      <td>6.440311</td>\n",
       "      <td>2.068125</td>\n",
       "      <td>0.171469</td>\n",
       "    </tr>\n",
       "    <tr>\n",
       "      <th>SVR</th>\n",
       "      <td>6.124274</td>\n",
       "      <td>1.964271</td>\n",
       "      <td>0.217538</td>\n",
       "      <td>6.616647</td>\n",
       "      <td>-0.090232</td>\n",
       "      <td>2.074351</td>\n",
       "      <td>-0.016249</td>\n",
       "      <td>-0.154522</td>\n",
       "      <td>-0.011576</td>\n",
       "      <td>6.576036</td>\n",
       "      <td>2.074015</td>\n",
       "      <td>0.154008</td>\n",
       "    </tr>\n",
       "    <tr>\n",
       "      <th>KNN</th>\n",
       "      <td>0.259901</td>\n",
       "      <td>0.117710</td>\n",
       "      <td>0.966794</td>\n",
       "      <td>6.978661</td>\n",
       "      <td>-0.107720</td>\n",
       "      <td>2.139279</td>\n",
       "      <td>-0.020941</td>\n",
       "      <td>-0.108300</td>\n",
       "      <td>-0.011206</td>\n",
       "      <td>6.964761</td>\n",
       "      <td>2.137488</td>\n",
       "      <td>0.104000</td>\n",
       "    </tr>\n",
       "    <tr>\n",
       "      <th>XGB</th>\n",
       "      <td>2.609244</td>\n",
       "      <td>1.278893</td>\n",
       "      <td>0.666632</td>\n",
       "      <td>6.359796</td>\n",
       "      <td>-0.071910</td>\n",
       "      <td>2.016598</td>\n",
       "      <td>-0.020304</td>\n",
       "      <td>-0.187375</td>\n",
       "      <td>-0.005720</td>\n",
       "      <td>6.069271</td>\n",
       "      <td>1.970897</td>\n",
       "      <td>0.219203</td>\n",
       "    </tr>\n",
       "    <tr>\n",
       "      <th>ANN</th>\n",
       "      <td>6.168008</td>\n",
       "      <td>2.015673</td>\n",
       "      <td>0.171749</td>\n",
       "      <td>6.422454</td>\n",
       "      <td>0.194076</td>\n",
       "      <td>2.059243</td>\n",
       "      <td>0.030073</td>\n",
       "      <td>0.141775</td>\n",
       "      <td>0.029917</td>\n",
       "      <td>6.758996</td>\n",
       "      <td>2.109073</td>\n",
       "      <td>0.099909</td>\n",
       "    </tr>\n",
       "  </tbody>\n",
       "</table>\n",
       "</div>"
      ],
      "text/plain": [
       "     MSE_train  MAE_train  R2_train    MSE_cv  MSE_std_cv    MAE_cv  \\\n",
       "OLS   6.539793   2.083443  0.164449  6.580865   -0.069856  2.090003   \n",
       "RF    6.050672   2.001662  0.226941  6.489073   -0.075561  2.072774   \n",
       "SVR   6.124274   1.964271  0.217538  6.616647   -0.090232  2.074351   \n",
       "KNN   0.259901   0.117710  0.966794  6.978661   -0.107720  2.139279   \n",
       "XGB   2.609244   1.278893  0.666632  6.359796   -0.071910  2.016598   \n",
       "ANN   6.168008   2.015673  0.171749  6.422454    0.194076  2.059243   \n",
       "\n",
       "     MAE_std_cv     R2_cv  R2_std_cv  MSE_test  MAE_test   R2_test  \n",
       "OLS   -0.011773 -0.159108  -0.007535  6.559855  2.088153  0.156090  \n",
       "RF    -0.011955 -0.170838  -0.008319  6.440311  2.068125  0.171469  \n",
       "SVR   -0.016249 -0.154522  -0.011576  6.576036  2.074015  0.154008  \n",
       "KNN   -0.020941 -0.108300  -0.011206  6.964761  2.137488  0.104000  \n",
       "XGB   -0.020304 -0.187375  -0.005720  6.069271  1.970897  0.219203  \n",
       "ANN    0.030073  0.141775   0.029917  6.758996  2.109073  0.099909  "
      ]
     },
     "execution_count": 171,
     "metadata": {},
     "output_type": "execute_result"
    }
   ],
   "source": [
    "df_results.head(10)"
   ]
  },
  {
   "cell_type": "code",
   "execution_count": 172,
   "metadata": {},
   "outputs": [],
   "source": [
    "df_results.to_excel('FINALRESULTS_Train_Test_11.xlsx', sheet_name='Final Results')"
   ]
  },
  {
   "cell_type": "markdown",
   "metadata": {},
   "source": [
    "df_results.drop('ANN', inplace=True)"
   ]
  },
  {
   "cell_type": "markdown",
   "metadata": {},
   "source": [
    "Y_train_pred = model.predict(X_train_std)"
   ]
  },
  {
   "cell_type": "markdown",
   "metadata": {},
   "source": [
    "Y_test_pred= model.predict(X_test_std)"
   ]
  },
  {
   "cell_type": "markdown",
   "metadata": {},
   "source": [
    "r2_train = metrics.r2_score(Y_train, Y_train_pred)\n",
    "r2_test = metrics.r2_score(Y_test, Y_test_pred)"
   ]
  },
  {
   "cell_type": "markdown",
   "metadata": {},
   "source": [
    "r2_train"
   ]
  },
  {
   "cell_type": "markdown",
   "metadata": {},
   "source": [
    "r2_test"
   ]
  },
  {
   "cell_type": "raw",
   "metadata": {},
   "source": [
    "## Multilayer Perceptron"
   ]
  },
  {
   "cell_type": "raw",
   "metadata": {},
   "source": [
    "from sklearn.neural_network import MLPRegressor\n",
    "from itertools import product\n"
   ]
  },
  {
   "cell_type": "raw",
   "metadata": {},
   "source": [
    "mlp_rgr=MLPRegressor(activation= 'relu',\n",
    " alpha = 0.1,\n",
    " hidden_layer_sizes = (10, 10, 10, 10, 10, 10, 10, 10),\n",
    " learning_rate_init = 0.005,\n",
    " random_state = seed)"
   ]
  },
  {
   "cell_type": "raw",
   "metadata": {},
   "source": [
    "mlp_rgr.fit(X_train_std, Y_train)"
   ]
  },
  {
   "cell_type": "raw",
   "metadata": {},
   "source": [
    "Y_train_pred = mlp_rgr.predict(X_train_std)\n",
    "Y_test_pred = mlp_rgr.predict(X_test_std)\n",
    "\n",
    "scores = cross_val_score(mlp_rgr, X_train_std, Y_train, cv=5, scoring='neg_mean_absolute_error')\n",
    " \n",
    "mae_mlp_rgr_cv = -scores.mean()\n",
    "std_mlp_rgr_cv = scores.std() \n",
    "\n",
    "mse_mlp_rgr_train = metrics.mean_squared_error(Y_train, Y_train_pred) \n",
    "mse_mlp_rgr_test = metrics.mean_squared_error(Y_test, Y_test_pred)\n",
    "\n",
    "mae_mlp_rgr_train = metrics.mean_absolute_error(Y_train, Y_train_pred) \n",
    "mae_mlp_rgr_test = metrics.mean_absolute_error(Y_test, Y_test_pred)\n",
    "\n",
    "r2_mlp_rgr_train = metrics.r2_score(Y_train, Y_train_pred)\n",
    "r2_mlp_rgr_test = metrics.r2_score(Y_test, Y_test_pred)"
   ]
  },
  {
   "cell_type": "raw",
   "metadata": {},
   "source": [
    "print(\"MSE train: {0:.4f}, test: {1:.4f}\".\\\n",
    "       format(mean_squared_error(Y_train, Y_train_pred), \n",
    "            mean_squared_error(Y_test, Y_test_pred)))\n",
    "\n",
    "print(\"R^2 train: {0:.4f}, test: {1:.4f}\".\\\n",
    "      format(r2_score(Y_train, Y_train_pred),\n",
    "             r2_score(Y_test, Y_test_pred))) "
   ]
  },
  {
   "cell_type": "code",
   "execution_count": null,
   "metadata": {},
   "outputs": [],
   "source": []
  }
 ],
 "metadata": {
  "kernelspec": {
   "display_name": "Python 3",
   "language": "python",
   "name": "python3"
  },
  "language_info": {
   "codemirror_mode": {
    "name": "ipython",
    "version": 3
   },
   "file_extension": ".py",
   "mimetype": "text/x-python",
   "name": "python",
   "nbconvert_exporter": "python",
   "pygments_lexer": "ipython3",
   "version": "3.8.3"
  }
 },
 "nbformat": 4,
 "nbformat_minor": 4
}
