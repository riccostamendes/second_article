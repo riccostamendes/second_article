{
 "cells": [
  {
   "cell_type": "markdown",
   "metadata": {},
   "source": [
    "# Fit Best models"
   ]
  },
  {
   "cell_type": "code",
   "execution_count": 1,
   "metadata": {},
   "outputs": [],
   "source": [
    "import numpy as np\n",
    "import pandas as pd\n",
    "import matplotlib.pyplot as plt\n",
    "%matplotlib inline\n",
    "import seaborn as sns\n",
    "from sklearn.model_selection import train_test_split\n",
    "from sklearn.model_selection import StratifiedShuffleSplit\n",
    "from sklearn.model_selection import KFold\n",
    "from sklearn.preprocessing import StandardScaler\n",
    "from sklearn.decomposition import PCA\n",
    "from sklearn.model_selection import cross_val_score\n",
    "from sklearn.pipeline import Pipeline\n",
    "import math\n",
    "from sklearn.model_selection import GridSearchCV\n",
    "from sklearn import metrics\n",
    "from sklearn.metrics import mean_squared_error, r2_score\n",
    "from sklearn.ensemble import RandomForestRegressor\n",
    "from sklearn.svm import SVR\n",
    "from sklearn.ensemble import BaggingRegressor\n",
    "from sklearn.linear_model import Ridge\n",
    "from sklearn.neighbors import KNeighborsRegressor \n",
    "from sklearn.model_selection import cross_val_score\n",
    "from sklearn.linear_model import LinearRegression\n",
    "import statsmodels.api as sm\n",
    "import xgboost as xgb"
   ]
  },
  {
   "cell_type": "code",
   "execution_count": 2,
   "metadata": {},
   "outputs": [],
   "source": [
    "seed=42\n",
    "kf=4"
   ]
  },
  {
   "cell_type": "code",
   "execution_count": 3,
   "metadata": {},
   "outputs": [],
   "source": [
    "X1211Y12_train=pd.read_excel('X1211Y12_train.xlsx')\n",
    "X1211Y12_test=pd.read_excel('X1211Y12_test.xlsx')"
   ]
  },
  {
   "cell_type": "code",
   "execution_count": 4,
   "metadata": {},
   "outputs": [],
   "source": [
    "LassoFeatToDrop = ['School_Size', 'Class_Size', 'Student_Internet',\n",
    "       'Student_ActiveWorking', 'Student_Parish', 'Student_County',\n",
    "       'STD_Resp_CloseRelative', 'STD_Resp_Father', 'STD_Resp_Himself',\n",
    "       'STD_Resp_LegalResp', 'FTH_Nation_AFR', 'FTH_Nation_BR',\n",
    "       'FTH_Nation_CHN', 'FTH_Nation_EEUR', 'FTH_Nation_OTHERS',\n",
    "       'FTH_Nation_RICH', 'SES_STDRESP_ProfClass_BasicI',\n",
    "       'SES_STDRESP_ProfClass_UnivI', 'SES_STDRESP_ProfClass_UnivII',\n",
    "       'SES_STDRESP_ProfClass_Unknown_NoProfession',\n",
    "       'SES_FATH_ProfClass_BasicI', 'SES_FATH_ProfClass_UnivI',\n",
    "       'SES_FATH_ProfClass_Unknown_NoProfession', 'SES_MOTH_ProfClass_BasicI',\n",
    "       'SES_MOTH_ProfClass_UnivI', 'SES_MOTH_ProfClass_Unknown_NoProfession',\n",
    "       'SES_STDRESP_JobSit_Employer', 'SES_STDRESP_JobSit_HomeAffairs',\n",
    "       'SES_STDRESP_JobSit_Other', 'SES_STDRESP_JobSit_Retired',\n",
    "       'SES_STDRESP_JobSit_SelfEmployed', 'SES_STDRESP_JobSit_Unemployed',\n",
    "       'SES_STDRESP_JobSit_Unknown', 'SES_FATH_JobSit_Employer',\n",
    "       'SES_FATH_JobSit_HomeAffairs', 'SES_FATH_JobSit_Other',\n",
    "       'SES_FATH_JobSit_Retired', 'SES_FATH_JobSit_SelfEmployed',\n",
    "       'SES_FATH_JobSit_Student', 'SES_FATH_JobSit_Unemployed',\n",
    "       'SES_FATH_JobSit_Unknown', 'SES_MOTH_JobSit_Employer',\n",
    "       'SES_MOTH_JobSit_HomeAffairs', 'SES_MOTH_JobSit_Other',\n",
    "       'SES_MOTH_JobSit_Retired', 'SES_MOTH_JobSit_SelfEmployed',\n",
    "       'SES_MOTH_JobSit_Student', 'SES_MOTH_JobSit_Unemployed',\n",
    "       'SES_MOTH_JobSit_Unknown', 'SES_STDRESP_AcadEduc_Bachelor',\n",
    "       'SES_STDRESP_AcadEduc_Basic_I', 'SES_STDRESP_AcadEduc_Basic_II',\n",
    "       'SES_STDRESP_AcadEduc_Basic_III', 'SES_STDRESP_AcadEduc_Degree',\n",
    "       'SES_STDRESP_AcadEduc_Master', 'SES_STDRESP_AcadEduc_Other',\n",
    "       'SES_STDRESP_AcadEduc_Phd', 'SES_STDRESP_AcadEduc_PostGraduation',\n",
    "       'SES_FATH_AcadEduc_Bachelor', 'SES_FATH_AcadEduc_Basic_I',\n",
    "       'SES_FATH_AcadEduc_Basic_II', 'SES_FATH_AcadEduc_Basic_III',\n",
    "       'SES_FATH_AcadEduc_Master', 'SES_FATH_AcadEduc_NoFormalEducation',\n",
    "       'SES_FATH_AcadEduc_Other', 'SES_FATH_AcadEduc_Phd',\n",
    "       'SES_FATH_AcadEduc_PostGraduation', 'SES_MOTH_AcadEduc_Bachelor',\n",
    "       'SES_MOTH_AcadEduc_Basic_I', 'SES_MOTH_AcadEduc_Basic_II',\n",
    "       'SES_MOTH_AcadEduc_Basic_III', 'SES_MOTH_AcadEduc_Master',\n",
    "       'SES_MOTH_AcadEduc_NoFormalEducation', 'SES_MOTH_AcadEduc_Other',\n",
    "       'SES_MOTH_AcadEduc_Phd', 'SES_MOTH_AcadEduc_PostGraduation',\n",
    "       'SES_MOTH_AcadEduc_Unknown', 'SES_Scholarship_Full_Support',\n",
    "       'SES_Scholarship_Half_Support', 'SES%_Parish_FamilyNoClassicDwellings',\n",
    "       'SES%_Parish_CollectiveDwellings', 'SES%_Parish_IliteracyRate',\n",
    "       'SES%_Parish_PrimarySector', 'SES%_Parish_UnemploymentRate',\n",
    "       'Tch_FixedTermStaff', 'Tch_PedagogicZoneDefinitivePermanentStaff',\n",
    "       'Tch_SchoolClusterNoDefinitivePermanentStaff',\n",
    "       'Tch_SchoolNoDefinitivePermanentStaff', 'Tch_AcadEduc_Bachelor',\n",
    "       'Tch_AcadEduc_Phd_Master', 'Tch_Step_567', 'Teacher_EducationSupport',\n",
    "       'Teacher_Age', 'Teacher_TeachingDedicatedTime',\n",
    "       'Teacher_NoTeachingDedicatedTime']"
   ]
  },
  {
   "cell_type": "code",
   "execution_count": 5,
   "metadata": {},
   "outputs": [],
   "source": [
    "XY_train=X1211Y12_train.drop(LassoFeatToDrop, axis=1)\n",
    "XY_test=X1211Y12_test.drop(LassoFeatToDrop, axis=1)"
   ]
  },
  {
   "cell_type": "code",
   "execution_count": 6,
   "metadata": {},
   "outputs": [],
   "source": [
    "XY_train=XY_train.drop(['Unnamed: 0', 'AcYear_11', 'AcYear_12'], axis=1)\n",
    "XY_test=XY_test.drop(['Unnamed: 0', 'AcYear_11', 'AcYear_12'], axis=1)"
   ]
  },
  {
   "cell_type": "raw",
   "metadata": {},
   "source": [
    "XY_train:27\n",
    "XY_test:27\n",
    "input 26"
   ]
  },
  {
   "cell_type": "code",
   "execution_count": 7,
   "metadata": {},
   "outputs": [
    {
     "data": {
      "text/plain": [
       "(9105, 27)"
      ]
     },
     "execution_count": 7,
     "metadata": {},
     "output_type": "execute_result"
    }
   ],
   "source": [
    "XY_test.shape"
   ]
  },
  {
   "cell_type": "code",
   "execution_count": 8,
   "metadata": {},
   "outputs": [],
   "source": [
    "X_train=XY_train.iloc[:,:26]\n",
    "Y_train=XY_train.iloc[:,-1]\n",
    "\n",
    "X_test=XY_test.iloc[:,:26]\n",
    "Y_test=XY_test.iloc[:,-1]"
   ]
  },
  {
   "cell_type": "code",
   "execution_count": 9,
   "metadata": {},
   "outputs": [],
   "source": [
    "Y_train=Y_train.to_numpy()\n",
    "Y_test=Y_test.to_numpy()"
   ]
  },
  {
   "cell_type": "code",
   "execution_count": 10,
   "metadata": {},
   "outputs": [
    {
     "data": {
      "text/plain": [
       "Index(['Std_Gender_F', 'N_Retentions', 'Student_Computer',\n",
       "       'Student_NumberEnrolments', 'SES_FATH_ProfClass_UnivII',\n",
       "       'SES_MOTH_ProfClass_UnivII', 'SES_STDRESP_JobSit_Student',\n",
       "       'SES_STDRESP_AcadEduc_NoFormalEducation',\n",
       "       'SES_STDRESP_AcadEduc_Unknown', 'SES_FATH_AcadEduc_Degree',\n",
       "       'SES_FATH_AcadEduc_Unknown', 'SES_MOTH_AcadEduc_Degree',\n",
       "       'SES%_Parish_PostSecondarySchoolingRate', 'SES%_Parish_SecondarySector',\n",
       "       'Tch_PedagogicZoneNoDefinitivePermanentStaff',\n",
       "       'Tch_SchoolClusterDefinitivePermanentStaff', 'Tch_AcadEduc_Other',\n",
       "       'Tch_Step_1234', 'Tch_Step_8910', 'Tch_Gender_F',\n",
       "       'Teacher_TemporaryReplacement', 'Teacher_EducationSupportDedicatedTime',\n",
       "       'SubjClass_Foreign_Lang', 'SubjClass_Qual', 'SubjClass_Quant',\n",
       "       'FinalMark_11'],\n",
       "      dtype='object')"
      ]
     },
     "execution_count": 10,
     "metadata": {},
     "output_type": "execute_result"
    }
   ],
   "source": [
    "X_train.columns"
   ]
  },
  {
   "cell_type": "code",
   "execution_count": 11,
   "metadata": {},
   "outputs": [],
   "source": [
    "# standardization\n",
    "scaler=StandardScaler()"
   ]
  },
  {
   "cell_type": "code",
   "execution_count": 12,
   "metadata": {},
   "outputs": [],
   "source": [
    "tscale=scaler.fit(X_train)\n",
    "X_train_std=tscale.transform(X_train)\n",
    "X_test_std=tscale.transform(X_test)"
   ]
  },
  {
   "cell_type": "markdown",
   "metadata": {},
   "source": [
    "## Fit best models"
   ]
  },
  {
   "cell_type": "markdown",
   "metadata": {},
   "source": [
    "### OLS - Multiple Linear Regression"
   ]
  },
  {
   "cell_type": "code",
   "execution_count": 13,
   "metadata": {},
   "outputs": [],
   "source": [
    "OLS_rgr = LinearRegression(fit_intercept=True, normalize=False, copy_X=True, n_jobs=None)"
   ]
  },
  {
   "cell_type": "code",
   "execution_count": 14,
   "metadata": {},
   "outputs": [],
   "source": [
    "# Define sklearn pipeline\n",
    "estimators = []\n",
    "estimators.append(('standardize', StandardScaler()))\n",
    "estimators.append(('OLS', OLS_rgr))\n",
    "pipeline = Pipeline(estimators)"
   ]
  },
  {
   "cell_type": "code",
   "execution_count": 15,
   "metadata": {},
   "outputs": [
    {
     "data": {
      "text/plain": [
       "LinearRegression(copy_X=True, fit_intercept=True, n_jobs=None, normalize=False)"
      ]
     },
     "execution_count": 15,
     "metadata": {},
     "output_type": "execute_result"
    }
   ],
   "source": [
    "OLS_rgr.fit(X_train_std, Y_train)"
   ]
  },
  {
   "cell_type": "code",
   "execution_count": 16,
   "metadata": {},
   "outputs": [
    {
     "data": {
      "text/plain": [
       "0.790282785729459"
      ]
     },
     "execution_count": 16,
     "metadata": {},
     "output_type": "execute_result"
    }
   ],
   "source": [
    "OLS_rgr.score(X_train_std, Y_train)"
   ]
  },
  {
   "cell_type": "code",
   "execution_count": 17,
   "metadata": {},
   "outputs": [
    {
     "data": {
      "text/plain": [
       "array([ 0.04856134, -0.09795461,  0.0259874 , -0.03428535,  0.02168186,\n",
       "        0.03089783,  0.02647298,  0.02142598, -0.01569984,  0.02270521,\n",
       "       -0.01490679,  0.01580362,  0.11753991,  0.16664597, -0.03058105,\n",
       "       -0.05396472,  0.03863704,  0.09451843,  0.06710257,  0.02789464,\n",
       "       -0.04220983, -0.04966281,  0.34616966, -0.11727717,  0.08232051,\n",
       "        2.28472615])"
      ]
     },
     "execution_count": 17,
     "metadata": {},
     "output_type": "execute_result"
    }
   ],
   "source": [
    "OLS_rgr.coef_"
   ]
  },
  {
   "cell_type": "code",
   "execution_count": 18,
   "metadata": {},
   "outputs": [
    {
     "data": {
      "text/plain": [
       "13.679343250070165"
      ]
     },
     "execution_count": 18,
     "metadata": {},
     "output_type": "execute_result"
    }
   ],
   "source": [
    "OLS_rgr.intercept_"
   ]
  },
  {
   "cell_type": "raw",
   "metadata": {},
   "source": [
    "scoring={'MSE': 'neg_mean_squared_error', 'MAE': 'neg_mean_absolute_error', 'R2': 'r2'}"
   ]
  },
  {
   "cell_type": "code",
   "execution_count": 19,
   "metadata": {},
   "outputs": [],
   "source": [
    "scores_MSE = cross_val_score(pipeline, X_train, Y_train, cv=kf,\n",
    "                         scoring='neg_mean_squared_error')\n",
    "scores_MAE = cross_val_score(pipeline, X_train, Y_train, cv=kf,\n",
    "                         scoring='neg_mean_absolute_error')\n",
    "scores_R2 = cross_val_score(pipeline, X_train, Y_train, cv=kf,\n",
    "                         scoring='r2')"
   ]
  },
  {
   "cell_type": "code",
   "execution_count": 20,
   "metadata": {},
   "outputs": [
    {
     "name": "stdout",
     "output_type": "stream",
     "text": [
      "MSE: 1.63 (+/- 0.09)\n",
      "MAE: 0.97 (+/- 0.01)\n",
      "R2: -0.79 (+/- 0.01)\n"
     ]
    }
   ],
   "source": [
    "print(\"MSE: %0.2f (+/- %0.2f)\" % (-scores_MSE.mean(), scores_MSE.std() * 2))\n",
    "print(\"MAE: %0.2f (+/- %0.2f)\" % (-scores_MAE.mean(), scores_MAE.std() * 2))\n",
    "print(\"R2: %0.2f (+/- %0.2f)\" % (-scores_R2.mean(), scores_R2.std() * 2))"
   ]
  },
  {
   "cell_type": "code",
   "execution_count": 21,
   "metadata": {},
   "outputs": [],
   "source": [
    "df_scorescv_ols_MSE=pd.DataFrame(scores_MSE)\n",
    "df_scorescv_ols_MAE=pd.DataFrame(scores_MAE)\n",
    "df_scorescv_ols_R2=pd.DataFrame(scores_R2)"
   ]
  },
  {
   "cell_type": "code",
   "execution_count": 22,
   "metadata": {},
   "outputs": [],
   "source": [
    "df_scorescv_ols_MSE.to_excel('FINALRESULTS_CV_1211.xlsx', sheet_name='OLS_MSE')\n",
    "\n",
    "with pd.ExcelWriter('FINALRESULTS_CV_1211.xlsx',engine='openpyxl', mode='a') as writer:\n",
    "    df_scorescv_ols_MAE.to_excel(writer, sheet_name='OLS_MAE')\n",
    "\n",
    "with pd.ExcelWriter('FINALRESULTS_CV_1211.xlsx',engine='openpyxl', mode='a') as writer:\n",
    "    df_scorescv_ols_R2.to_excel(writer, sheet_name='OLS_R2')"
   ]
  },
  {
   "cell_type": "code",
   "execution_count": 23,
   "metadata": {},
   "outputs": [],
   "source": [
    "mse_OLS_rgr_cv = -scores_MSE.mean()\n",
    "mse_std_OLS_rgr_cv = -scores_MSE.std()\n",
    "mae_OLS_rgr_cv = -scores_MAE.mean()\n",
    "mae_std_OLS_rgr_cv = -scores_MAE.std()\n",
    "r2_OLS_rgr_cv = -scores_R2.mean()\n",
    "r2_std_OLS_rgr_cv = -scores_R2.std()"
   ]
  },
  {
   "cell_type": "code",
   "execution_count": 24,
   "metadata": {},
   "outputs": [],
   "source": [
    "Y_train_pred=OLS_rgr.predict(X_train_std)\n",
    "Y_test_pred=OLS_rgr.predict(X_test_std)"
   ]
  },
  {
   "cell_type": "code",
   "execution_count": 25,
   "metadata": {},
   "outputs": [],
   "source": [
    "mse_OLS_rgr_train = metrics.mean_squared_error(Y_train, Y_train_pred) \n",
    "mse_OLS_rgr_test = metrics.mean_squared_error(Y_test, Y_test_pred)\n",
    "\n",
    "mae_OLS_rgr_train = metrics.mean_absolute_error(Y_train, Y_train_pred) \n",
    "mae_OLS_rgr_test = metrics.mean_absolute_error(Y_test, Y_test_pred)\n",
    "\n",
    "r2_OLS_rgr_train = metrics.r2_score(Y_train, Y_train_pred)\n",
    "r2_OLS_rgr_test = metrics.r2_score(Y_test, Y_test_pred)"
   ]
  },
  {
   "cell_type": "code",
   "execution_count": 26,
   "metadata": {},
   "outputs": [],
   "source": [
    "columns = ['MSE_train','MAE_train','R2_train',\n",
    "           'MSE_cv','MSE_std_cv','MAE_cv','MAE_std_cv','R2_cv','R2_std_cv',\n",
    "           'MSE_test','MAE_test', 'R2_test']"
   ]
  },
  {
   "cell_type": "code",
   "execution_count": 27,
   "metadata": {},
   "outputs": [],
   "source": [
    "df_results= pd.DataFrame(columns=columns)"
   ]
  },
  {
   "cell_type": "code",
   "execution_count": 28,
   "metadata": {},
   "outputs": [],
   "source": [
    "new_results_dic = {'MSE_train': mse_OLS_rgr_train, 'MAE_train': mae_OLS_rgr_train,'R2_train': r2_OLS_rgr_train,\n",
    "                   'MSE_cv': mse_OLS_rgr_cv, 'MSE_std_cv': mse_std_OLS_rgr_cv, 'MAE_cv': mae_OLS_rgr_cv,\n",
    "                   'MAE_std_cv': mae_std_OLS_rgr_cv, 'R2_cv': r2_OLS_rgr_cv, 'R2_std_cv': r2_std_OLS_rgr_cv,\n",
    "                   'MSE_test': mse_OLS_rgr_test, 'MAE_test': mae_OLS_rgr_test, 'R2_test': r2_OLS_rgr_test}\n",
    "df_results.loc[len(df_results)] = new_results_dic\n"
   ]
  },
  {
   "cell_type": "code",
   "execution_count": 29,
   "metadata": {},
   "outputs": [
    {
     "data": {
      "text/html": [
       "<div>\n",
       "<style scoped>\n",
       "    .dataframe tbody tr th:only-of-type {\n",
       "        vertical-align: middle;\n",
       "    }\n",
       "\n",
       "    .dataframe tbody tr th {\n",
       "        vertical-align: top;\n",
       "    }\n",
       "\n",
       "    .dataframe thead th {\n",
       "        text-align: right;\n",
       "    }\n",
       "</style>\n",
       "<table border=\"1\" class=\"dataframe\">\n",
       "  <thead>\n",
       "    <tr style=\"text-align: right;\">\n",
       "      <th></th>\n",
       "      <th>MSE_train</th>\n",
       "      <th>MAE_train</th>\n",
       "      <th>R2_train</th>\n",
       "      <th>MSE_cv</th>\n",
       "      <th>MSE_std_cv</th>\n",
       "      <th>MAE_cv</th>\n",
       "      <th>MAE_std_cv</th>\n",
       "      <th>R2_cv</th>\n",
       "      <th>R2_std_cv</th>\n",
       "      <th>MSE_test</th>\n",
       "      <th>MAE_test</th>\n",
       "      <th>R2_test</th>\n",
       "    </tr>\n",
       "  </thead>\n",
       "  <tbody>\n",
       "    <tr>\n",
       "      <th>OLS</th>\n",
       "      <td>1.624047</td>\n",
       "      <td>0.972258</td>\n",
       "      <td>0.790283</td>\n",
       "      <td>1.628501</td>\n",
       "      <td>-0.045817</td>\n",
       "      <td>0.973563</td>\n",
       "      <td>-0.005979</td>\n",
       "      <td>-0.789692</td>\n",
       "      <td>-0.005603</td>\n",
       "      <td>1.585972</td>\n",
       "      <td>0.958449</td>\n",
       "      <td>0.792834</td>\n",
       "    </tr>\n",
       "  </tbody>\n",
       "</table>\n",
       "</div>"
      ],
      "text/plain": [
       "     MSE_train  MAE_train  R2_train    MSE_cv  MSE_std_cv    MAE_cv  \\\n",
       "OLS   1.624047   0.972258  0.790283  1.628501   -0.045817  0.973563   \n",
       "\n",
       "     MAE_std_cv     R2_cv  R2_std_cv  MSE_test  MAE_test   R2_test  \n",
       "OLS   -0.005979 -0.789692  -0.005603  1.585972  0.958449  0.792834  "
      ]
     },
     "execution_count": 29,
     "metadata": {},
     "output_type": "execute_result"
    }
   ],
   "source": [
    "indexNamesArr = df_results.index.values\n",
    "i = indexNamesArr[-1]\n",
    "df_results.rename(index={i:'OLS'}, inplace=True)\n",
    "df_results.head()"
   ]
  },
  {
   "cell_type": "code",
   "execution_count": 30,
   "metadata": {},
   "outputs": [],
   "source": [
    "X_train_constant = sm.add_constant(X_train)\n",
    "X_test_constant = sm.add_constant(X_test)\n",
    "X_train_std_constant=sm.add_constant(X_train_std)"
   ]
  },
  {
   "cell_type": "code",
   "execution_count": 31,
   "metadata": {
    "scrolled": false
   },
   "outputs": [
    {
     "data": {
      "text/html": [
       "<table class=\"simpletable\">\n",
       "<caption>OLS Regression Results</caption>\n",
       "<tr>\n",
       "  <th>Dep. Variable:</th>            <td>y</td>        <th>  R-squared:         </th> <td>   0.790</td> \n",
       "</tr>\n",
       "<tr>\n",
       "  <th>Model:</th>                   <td>OLS</td>       <th>  Adj. R-squared:    </th> <td>   0.790</td> \n",
       "</tr>\n",
       "<tr>\n",
       "  <th>Method:</th>             <td>Least Squares</td>  <th>  F-statistic:       </th> <td>   3095.</td> \n",
       "</tr>\n",
       "<tr>\n",
       "  <th>Date:</th>             <td>Wed, 21 Oct 2020</td> <th>  Prob (F-statistic):</th>  <td>  0.00</td>  \n",
       "</tr>\n",
       "<tr>\n",
       "  <th>Time:</th>                 <td>14:51:51</td>     <th>  Log-Likelihood:    </th> <td> -35517.</td> \n",
       "</tr>\n",
       "<tr>\n",
       "  <th>No. Observations:</th>      <td> 21378</td>      <th>  AIC:               </th> <td>7.109e+04</td>\n",
       "</tr>\n",
       "<tr>\n",
       "  <th>Df Residuals:</th>          <td> 21351</td>      <th>  BIC:               </th> <td>7.130e+04</td>\n",
       "</tr>\n",
       "<tr>\n",
       "  <th>Df Model:</th>              <td>    26</td>      <th>                     </th>     <td> </td>    \n",
       "</tr>\n",
       "<tr>\n",
       "  <th>Covariance Type:</th>      <td>nonrobust</td>    <th>                     </th>     <td> </td>    \n",
       "</tr>\n",
       "</table>\n",
       "<table class=\"simpletable\">\n",
       "<tr>\n",
       "    <td></td>       <th>coef</th>     <th>std err</th>      <th>t</th>      <th>P>|t|</th>  <th>[0.025</th>    <th>0.975]</th>  \n",
       "</tr>\n",
       "<tr>\n",
       "  <th>const</th> <td>   13.6793</td> <td>    0.009</td> <td> 1568.466</td> <td> 0.000</td> <td>   13.662</td> <td>   13.696</td>\n",
       "</tr>\n",
       "<tr>\n",
       "  <th>x1</th>    <td>    0.0486</td> <td>    0.009</td> <td>    5.470</td> <td> 0.000</td> <td>    0.031</td> <td>    0.066</td>\n",
       "</tr>\n",
       "<tr>\n",
       "  <th>x2</th>    <td>   -0.0980</td> <td>    0.009</td> <td>  -10.671</td> <td> 0.000</td> <td>   -0.116</td> <td>   -0.080</td>\n",
       "</tr>\n",
       "<tr>\n",
       "  <th>x3</th>    <td>    0.0260</td> <td>    0.009</td> <td>    2.830</td> <td> 0.005</td> <td>    0.008</td> <td>    0.044</td>\n",
       "</tr>\n",
       "<tr>\n",
       "  <th>x4</th>    <td>   -0.0343</td> <td>    0.009</td> <td>   -3.914</td> <td> 0.000</td> <td>   -0.051</td> <td>   -0.017</td>\n",
       "</tr>\n",
       "<tr>\n",
       "  <th>x5</th>    <td>    0.0217</td> <td>    0.011</td> <td>    2.029</td> <td> 0.042</td> <td>    0.001</td> <td>    0.043</td>\n",
       "</tr>\n",
       "<tr>\n",
       "  <th>x6</th>    <td>    0.0309</td> <td>    0.012</td> <td>    2.682</td> <td> 0.007</td> <td>    0.008</td> <td>    0.053</td>\n",
       "</tr>\n",
       "<tr>\n",
       "  <th>x7</th>    <td>    0.0265</td> <td>    0.009</td> <td>    2.857</td> <td> 0.004</td> <td>    0.008</td> <td>    0.045</td>\n",
       "</tr>\n",
       "<tr>\n",
       "  <th>x8</th>    <td>    0.0214</td> <td>    0.009</td> <td>    2.400</td> <td> 0.016</td> <td>    0.004</td> <td>    0.039</td>\n",
       "</tr>\n",
       "<tr>\n",
       "  <th>x9</th>    <td>   -0.0157</td> <td>    0.013</td> <td>   -1.198</td> <td> 0.231</td> <td>   -0.041</td> <td>    0.010</td>\n",
       "</tr>\n",
       "<tr>\n",
       "  <th>x10</th>   <td>    0.0227</td> <td>    0.011</td> <td>    2.114</td> <td> 0.035</td> <td>    0.002</td> <td>    0.044</td>\n",
       "</tr>\n",
       "<tr>\n",
       "  <th>x11</th>   <td>   -0.0149</td> <td>    0.013</td> <td>   -1.143</td> <td> 0.253</td> <td>   -0.040</td> <td>    0.011</td>\n",
       "</tr>\n",
       "<tr>\n",
       "  <th>x12</th>   <td>    0.0158</td> <td>    0.012</td> <td>    1.362</td> <td> 0.173</td> <td>   -0.007</td> <td>    0.039</td>\n",
       "</tr>\n",
       "<tr>\n",
       "  <th>x13</th>   <td>    0.1175</td> <td>    0.012</td> <td>    9.741</td> <td> 0.000</td> <td>    0.094</td> <td>    0.141</td>\n",
       "</tr>\n",
       "<tr>\n",
       "  <th>x14</th>   <td>    0.1666</td> <td>    0.012</td> <td>   13.903</td> <td> 0.000</td> <td>    0.143</td> <td>    0.190</td>\n",
       "</tr>\n",
       "<tr>\n",
       "  <th>x15</th>   <td>   -0.0306</td> <td>    0.009</td> <td>   -3.492</td> <td> 0.000</td> <td>   -0.048</td> <td>   -0.013</td>\n",
       "</tr>\n",
       "<tr>\n",
       "  <th>x16</th>   <td>   -0.0540</td> <td>    0.009</td> <td>   -6.100</td> <td> 0.000</td> <td>   -0.071</td> <td>   -0.037</td>\n",
       "</tr>\n",
       "<tr>\n",
       "  <th>x17</th>   <td>    0.0386</td> <td>    0.009</td> <td>    4.362</td> <td> 0.000</td> <td>    0.021</td> <td>    0.056</td>\n",
       "</tr>\n",
       "<tr>\n",
       "  <th>x18</th>   <td>    0.0945</td> <td>    0.009</td> <td>   10.128</td> <td> 0.000</td> <td>    0.076</td> <td>    0.113</td>\n",
       "</tr>\n",
       "<tr>\n",
       "  <th>x19</th>   <td>    0.0671</td> <td>    0.009</td> <td>    7.315</td> <td> 0.000</td> <td>    0.049</td> <td>    0.085</td>\n",
       "</tr>\n",
       "<tr>\n",
       "  <th>x20</th>   <td>    0.0279</td> <td>    0.009</td> <td>    3.076</td> <td> 0.002</td> <td>    0.010</td> <td>    0.046</td>\n",
       "</tr>\n",
       "<tr>\n",
       "  <th>x21</th>   <td>   -0.0422</td> <td>    0.009</td> <td>   -4.811</td> <td> 0.000</td> <td>   -0.059</td> <td>   -0.025</td>\n",
       "</tr>\n",
       "<tr>\n",
       "  <th>x22</th>   <td>   -0.0497</td> <td>    0.009</td> <td>   -5.603</td> <td> 0.000</td> <td>   -0.067</td> <td>   -0.032</td>\n",
       "</tr>\n",
       "<tr>\n",
       "  <th>x23</th>   <td>    0.3462</td> <td>    0.009</td> <td>   36.578</td> <td> 0.000</td> <td>    0.328</td> <td>    0.365</td>\n",
       "</tr>\n",
       "<tr>\n",
       "  <th>x24</th>   <td>   -0.1173</td> <td>    0.010</td> <td>  -12.195</td> <td> 0.000</td> <td>   -0.136</td> <td>   -0.098</td>\n",
       "</tr>\n",
       "<tr>\n",
       "  <th>x25</th>   <td>    0.0823</td> <td>    0.010</td> <td>    8.580</td> <td> 0.000</td> <td>    0.064</td> <td>    0.101</td>\n",
       "</tr>\n",
       "<tr>\n",
       "  <th>x26</th>   <td>    2.2847</td> <td>    0.010</td> <td>  239.232</td> <td> 0.000</td> <td>    2.266</td> <td>    2.303</td>\n",
       "</tr>\n",
       "</table>\n",
       "<table class=\"simpletable\">\n",
       "<tr>\n",
       "  <th>Omnibus:</th>       <td>849.300</td> <th>  Durbin-Watson:     </th> <td>   1.987</td>\n",
       "</tr>\n",
       "<tr>\n",
       "  <th>Prob(Omnibus):</th> <td> 0.000</td>  <th>  Jarque-Bera (JB):  </th> <td>2721.018</td>\n",
       "</tr>\n",
       "<tr>\n",
       "  <th>Skew:</th>          <td>-0.011</td>  <th>  Prob(JB):          </th> <td>    0.00</td>\n",
       "</tr>\n",
       "<tr>\n",
       "  <th>Kurtosis:</th>      <td> 4.748</td>  <th>  Cond. No.          </th> <td>    3.36</td>\n",
       "</tr>\n",
       "</table><br/><br/>Warnings:<br/>[1] Standard Errors assume that the covariance matrix of the errors is correctly specified."
      ],
      "text/plain": [
       "<class 'statsmodels.iolib.summary.Summary'>\n",
       "\"\"\"\n",
       "                            OLS Regression Results                            \n",
       "==============================================================================\n",
       "Dep. Variable:                      y   R-squared:                       0.790\n",
       "Model:                            OLS   Adj. R-squared:                  0.790\n",
       "Method:                 Least Squares   F-statistic:                     3095.\n",
       "Date:                Wed, 21 Oct 2020   Prob (F-statistic):               0.00\n",
       "Time:                        14:51:51   Log-Likelihood:                -35517.\n",
       "No. Observations:               21378   AIC:                         7.109e+04\n",
       "Df Residuals:                   21351   BIC:                         7.130e+04\n",
       "Df Model:                          26                                         \n",
       "Covariance Type:            nonrobust                                         \n",
       "==============================================================================\n",
       "                 coef    std err          t      P>|t|      [0.025      0.975]\n",
       "------------------------------------------------------------------------------\n",
       "const         13.6793      0.009   1568.466      0.000      13.662      13.696\n",
       "x1             0.0486      0.009      5.470      0.000       0.031       0.066\n",
       "x2            -0.0980      0.009    -10.671      0.000      -0.116      -0.080\n",
       "x3             0.0260      0.009      2.830      0.005       0.008       0.044\n",
       "x4            -0.0343      0.009     -3.914      0.000      -0.051      -0.017\n",
       "x5             0.0217      0.011      2.029      0.042       0.001       0.043\n",
       "x6             0.0309      0.012      2.682      0.007       0.008       0.053\n",
       "x7             0.0265      0.009      2.857      0.004       0.008       0.045\n",
       "x8             0.0214      0.009      2.400      0.016       0.004       0.039\n",
       "x9            -0.0157      0.013     -1.198      0.231      -0.041       0.010\n",
       "x10            0.0227      0.011      2.114      0.035       0.002       0.044\n",
       "x11           -0.0149      0.013     -1.143      0.253      -0.040       0.011\n",
       "x12            0.0158      0.012      1.362      0.173      -0.007       0.039\n",
       "x13            0.1175      0.012      9.741      0.000       0.094       0.141\n",
       "x14            0.1666      0.012     13.903      0.000       0.143       0.190\n",
       "x15           -0.0306      0.009     -3.492      0.000      -0.048      -0.013\n",
       "x16           -0.0540      0.009     -6.100      0.000      -0.071      -0.037\n",
       "x17            0.0386      0.009      4.362      0.000       0.021       0.056\n",
       "x18            0.0945      0.009     10.128      0.000       0.076       0.113\n",
       "x19            0.0671      0.009      7.315      0.000       0.049       0.085\n",
       "x20            0.0279      0.009      3.076      0.002       0.010       0.046\n",
       "x21           -0.0422      0.009     -4.811      0.000      -0.059      -0.025\n",
       "x22           -0.0497      0.009     -5.603      0.000      -0.067      -0.032\n",
       "x23            0.3462      0.009     36.578      0.000       0.328       0.365\n",
       "x24           -0.1173      0.010    -12.195      0.000      -0.136      -0.098\n",
       "x25            0.0823      0.010      8.580      0.000       0.064       0.101\n",
       "x26            2.2847      0.010    239.232      0.000       2.266       2.303\n",
       "==============================================================================\n",
       "Omnibus:                      849.300   Durbin-Watson:                   1.987\n",
       "Prob(Omnibus):                  0.000   Jarque-Bera (JB):             2721.018\n",
       "Skew:                          -0.011   Prob(JB):                         0.00\n",
       "Kurtosis:                       4.748   Cond. No.                         3.36\n",
       "==============================================================================\n",
       "\n",
       "Warnings:\n",
       "[1] Standard Errors assume that the covariance matrix of the errors is correctly specified.\n",
       "\"\"\""
      ]
     },
     "execution_count": 31,
     "metadata": {},
     "output_type": "execute_result"
    }
   ],
   "source": [
    "OLS_model = sm.OLS(Y_train, X_train_std_constant)\n",
    "lr = OLS_model.fit()\n",
    "lr.summary()"
   ]
  },
  {
   "cell_type": "markdown",
   "metadata": {},
   "source": [
    "### RF - Random Forest"
   ]
  },
  {
   "cell_type": "raw",
   "metadata": {},
   "source": [
    "Grid search best parameters:\n",
    "n_estimators, min_samples_leaf (minimum number of samples required to be at a leaf), min_samples_split and bootstrap\n",
    "Best parameters CV:\n",
    "{'rf__n_estimators': 420,\n",
    " 'rf__min_samples_split': 0.009000000000000001,\n",
    " 'rf__min_samples_leaf': 0.001,\n",
    " 'rf__bootstrap': True}"
   ]
  },
  {
   "cell_type": "code",
   "execution_count": 32,
   "metadata": {},
   "outputs": [],
   "source": [
    "rf_rgr = RandomForestRegressor(n_estimators = 420, criterion=\"mse\", min_samples_leaf=0.001,\n",
    "                               min_samples_split=0.009 , bootstrap=True, random_state=seed)"
   ]
  },
  {
   "cell_type": "code",
   "execution_count": 33,
   "metadata": {},
   "outputs": [],
   "source": [
    "# Define sklearn pipeline\n",
    "estimators = []\n",
    "estimators.append(('standardize', StandardScaler()))\n",
    "estimators.append(('RF', rf_rgr))\n",
    "pipeline = Pipeline(estimators)"
   ]
  },
  {
   "cell_type": "code",
   "execution_count": 34,
   "metadata": {},
   "outputs": [],
   "source": [
    "scores_MSE = cross_val_score(pipeline, X_train, Y_train, cv=kf,\n",
    "                         scoring='neg_mean_squared_error')\n",
    "scores_MAE = cross_val_score(pipeline, X_train, Y_train, cv=kf,\n",
    "                         scoring='neg_mean_absolute_error')\n",
    "scores_R2 = cross_val_score(pipeline, X_train, Y_train, cv=kf,\n",
    "                         scoring='r2')"
   ]
  },
  {
   "cell_type": "code",
   "execution_count": 35,
   "metadata": {},
   "outputs": [
    {
     "name": "stdout",
     "output_type": "stream",
     "text": [
      "MSE: 1.61 (+/- 0.13)\n",
      "MAE: 0.97 (+/- 0.02)\n",
      "R2: -0.79 (+/- 0.02)\n"
     ]
    }
   ],
   "source": [
    "print(\"MSE: %0.2f (+/- %0.2f)\" % (-scores_MSE.mean(), scores_MSE.std() * 2))\n",
    "print(\"MAE: %0.2f (+/- %0.2f)\" % (-scores_MAE.mean(), scores_MAE.std() * 2))\n",
    "print(\"R2: %0.2f (+/- %0.2f)\" % (-scores_R2.mean(), scores_R2.std() * 2))"
   ]
  },
  {
   "cell_type": "code",
   "execution_count": 36,
   "metadata": {},
   "outputs": [],
   "source": [
    "df_scorescv_rf_MSE=pd.DataFrame(scores_MSE)\n",
    "df_scorescv_rf_MAE=pd.DataFrame(scores_MAE)\n",
    "df_scorescv_rf_R2=pd.DataFrame(scores_R2)"
   ]
  },
  {
   "cell_type": "code",
   "execution_count": 37,
   "metadata": {},
   "outputs": [],
   "source": [
    "with pd.ExcelWriter('FINALRESULTS_CV_1211.xlsx',engine='openpyxl', mode='a') as writer:\n",
    "    df_scorescv_rf_MSE.to_excel(writer, sheet_name='RF_MSE')\n",
    "\n",
    "with pd.ExcelWriter('FINALRESULTS_CV_1211.xlsx',engine='openpyxl', mode='a') as writer:\n",
    "    df_scorescv_rf_MAE.to_excel(writer, sheet_name='RF_MAE')\n",
    "    \n",
    "\n",
    "with pd.ExcelWriter('FINALRESULTS_CV_1211.xlsx',engine='openpyxl', mode='a') as writer:\n",
    "    df_scorescv_rf_R2.to_excel(writer, sheet_name='RF_R2')"
   ]
  },
  {
   "cell_type": "code",
   "execution_count": 38,
   "metadata": {},
   "outputs": [],
   "source": [
    "mse_rf_rgr_cv = -scores_MSE.mean()\n",
    "mse_std_rf_rgr_cv = -scores_MSE.std()\n",
    "mae_rf_rgr_cv = -scores_MAE.mean()\n",
    "mae_std_rf_rgr_cv = -scores_MAE.std()\n",
    "r2_rf_rgr_cv = -scores_R2.mean()\n",
    "r2_std_rf_rgr_cv = -scores_R2.std()"
   ]
  },
  {
   "cell_type": "code",
   "execution_count": 39,
   "metadata": {},
   "outputs": [
    {
     "data": {
      "text/plain": [
       "RandomForestRegressor(bootstrap=True, ccp_alpha=0.0, criterion='mse',\n",
       "                      max_depth=None, max_features='auto', max_leaf_nodes=None,\n",
       "                      max_samples=None, min_impurity_decrease=0.0,\n",
       "                      min_impurity_split=None, min_samples_leaf=0.001,\n",
       "                      min_samples_split=0.009, min_weight_fraction_leaf=0.0,\n",
       "                      n_estimators=420, n_jobs=None, oob_score=False,\n",
       "                      random_state=42, verbose=0, warm_start=False)"
      ]
     },
     "execution_count": 39,
     "metadata": {},
     "output_type": "execute_result"
    }
   ],
   "source": [
    "rf_rgr.fit(X_train_std, Y_train)"
   ]
  },
  {
   "cell_type": "code",
   "execution_count": 40,
   "metadata": {},
   "outputs": [],
   "source": [
    "df_Feat_import = pd.DataFrame(rf_rgr.feature_importances_)"
   ]
  },
  {
   "cell_type": "code",
   "execution_count": 41,
   "metadata": {},
   "outputs": [
    {
     "data": {
      "image/png": "[encoded data removed]",
      "text/plain": [
       "<Figure size 864x432 with 1 Axes>"
      ]
     },
     "metadata": {
      "needs_background": "light"
     },
     "output_type": "display_data"
    }
   ],
   "source": [
    "pd.Series(rf_rgr.feature_importances_, \n",
    "         index=X_train.columns).sort_values(ascending=False).plot(kind='bar', figsize=(12,6));"
   ]
  },
  {
   "cell_type": "code",
   "execution_count": 42,
   "metadata": {},
   "outputs": [],
   "source": [
    "df_Feat_import.to_excel('FEATURES_RF_1211.xlsx', sheet_name='FEAT_IMP')"
   ]
  },
  {
   "cell_type": "code",
   "execution_count": 43,
   "metadata": {},
   "outputs": [],
   "source": [
    "Y_train_pred=rf_rgr.predict(X_train_std)\n",
    "Y_test_pred=rf_rgr.predict(X_test_std)"
   ]
  },
  {
   "cell_type": "code",
   "execution_count": 44,
   "metadata": {},
   "outputs": [],
   "source": [
    "mse_rf_rgr_train = metrics.mean_squared_error(Y_train, Y_train_pred) \n",
    "mse_rf_rgr_test = metrics.mean_squared_error(Y_test, Y_test_pred)\n",
    "\n",
    "mae_rf_rgr_train = metrics.mean_absolute_error(Y_train, Y_train_pred) \n",
    "mae_rf_rgr_test = metrics.mean_absolute_error(Y_test, Y_test_pred)\n",
    "\n",
    "r2_rf_rgr_train = metrics.r2_score(Y_train, Y_train_pred)\n",
    "r2_rf_rgr_test = metrics.r2_score(Y_test, Y_test_pred)"
   ]
  },
  {
   "cell_type": "code",
   "execution_count": 45,
   "metadata": {},
   "outputs": [],
   "source": [
    "new_results_dic = {'MSE_train': mse_rf_rgr_train, 'MAE_train': mae_rf_rgr_train,'R2_train': r2_rf_rgr_train,\n",
    "                   'MSE_cv': mse_rf_rgr_cv, 'MSE_std_cv': mse_std_rf_rgr_cv, 'MAE_cv': mae_rf_rgr_cv,\n",
    "                   'MAE_std_cv': mae_std_rf_rgr_cv, 'R2_cv': r2_rf_rgr_cv, 'R2_std_cv': r2_std_rf_rgr_cv,\n",
    "                   'MSE_test': mse_rf_rgr_test,\n",
    "                   'MAE_test': mae_rf_rgr_test,\n",
    "                   'R2_test': r2_rf_rgr_test}\n",
    "df_results.loc[len(df_results)] = new_results_dic"
   ]
  },
  {
   "cell_type": "code",
   "execution_count": 46,
   "metadata": {},
   "outputs": [
    {
     "data": {
      "text/html": [
       "<div>\n",
       "<style scoped>\n",
       "    .dataframe tbody tr th:only-of-type {\n",
       "        vertical-align: middle;\n",
       "    }\n",
       "\n",
       "    .dataframe tbody tr th {\n",
       "        vertical-align: top;\n",
       "    }\n",
       "\n",
       "    .dataframe thead th {\n",
       "        text-align: right;\n",
       "    }\n",
       "</style>\n",
       "<table border=\"1\" class=\"dataframe\">\n",
       "  <thead>\n",
       "    <tr style=\"text-align: right;\">\n",
       "      <th></th>\n",
       "      <th>MSE_train</th>\n",
       "      <th>MAE_train</th>\n",
       "      <th>R2_train</th>\n",
       "      <th>MSE_cv</th>\n",
       "      <th>MSE_std_cv</th>\n",
       "      <th>MAE_cv</th>\n",
       "      <th>MAE_std_cv</th>\n",
       "      <th>R2_cv</th>\n",
       "      <th>R2_std_cv</th>\n",
       "      <th>MSE_test</th>\n",
       "      <th>MAE_test</th>\n",
       "      <th>R2_test</th>\n",
       "    </tr>\n",
       "  </thead>\n",
       "  <tbody>\n",
       "    <tr>\n",
       "      <th>OLS</th>\n",
       "      <td>1.624047</td>\n",
       "      <td>0.972258</td>\n",
       "      <td>0.790283</td>\n",
       "      <td>1.628501</td>\n",
       "      <td>-0.045817</td>\n",
       "      <td>0.973563</td>\n",
       "      <td>-0.005979</td>\n",
       "      <td>-0.789692</td>\n",
       "      <td>-0.005603</td>\n",
       "      <td>1.585972</td>\n",
       "      <td>0.958449</td>\n",
       "      <td>0.792834</td>\n",
       "    </tr>\n",
       "    <tr>\n",
       "      <th>RF</th>\n",
       "      <td>1.514715</td>\n",
       "      <td>0.937415</td>\n",
       "      <td>0.804401</td>\n",
       "      <td>1.608337</td>\n",
       "      <td>-0.065651</td>\n",
       "      <td>0.965430</td>\n",
       "      <td>-0.010279</td>\n",
       "      <td>-0.792282</td>\n",
       "      <td>-0.008617</td>\n",
       "      <td>1.553453</td>\n",
       "      <td>0.949031</td>\n",
       "      <td>0.797082</td>\n",
       "    </tr>\n",
       "  </tbody>\n",
       "</table>\n",
       "</div>"
      ],
      "text/plain": [
       "     MSE_train  MAE_train  R2_train    MSE_cv  MSE_std_cv    MAE_cv  \\\n",
       "OLS   1.624047   0.972258  0.790283  1.628501   -0.045817  0.973563   \n",
       "RF    1.514715   0.937415  0.804401  1.608337   -0.065651  0.965430   \n",
       "\n",
       "     MAE_std_cv     R2_cv  R2_std_cv  MSE_test  MAE_test   R2_test  \n",
       "OLS   -0.005979 -0.789692  -0.005603  1.585972  0.958449  0.792834  \n",
       "RF    -0.010279 -0.792282  -0.008617  1.553453  0.949031  0.797082  "
      ]
     },
     "execution_count": 46,
     "metadata": {},
     "output_type": "execute_result"
    }
   ],
   "source": [
    "indexNamesArr = df_results.index.values\n",
    "i = indexNamesArr[-1]\n",
    "df_results.rename(index={i:'RF'}, inplace=True)\n",
    "df_results.head()"
   ]
  },
  {
   "cell_type": "markdown",
   "metadata": {},
   "source": [
    "### SVR - Support Vector Regression"
   ]
  },
  {
   "cell_type": "raw",
   "metadata": {},
   "source": [
    "Grid search best parameters:\n",
    "C_range (Penalty parameter C for the error term when it stays outside the insensitive chanel)\n",
    "gamma_range (The gamma parameter can be seen as the inverse of the radius of influence of samples)\n",
    "CV best parameters:\n",
    "{'svr__base_estimator__gamma': 0.004094915062380427,\n",
    " 'svr__base_estimator__C': 9.540954763499943}"
   ]
  },
  {
   "cell_type": "code",
   "execution_count": 47,
   "metadata": {},
   "outputs": [],
   "source": [
    "svm_rgr= SVR(C=9.541, cache_size=1000, coef0=0.0, degree=3, epsilon=0.2, gamma=0.004,\n",
    "    kernel='rbf', max_iter=-1, shrinking=True, tol=0.001, verbose=True)"
   ]
  },
  {
   "cell_type": "code",
   "execution_count": 48,
   "metadata": {},
   "outputs": [],
   "source": [
    "# Define sklearn pipeline\n",
    "estimators = []\n",
    "estimators.append(('standardize', StandardScaler()))\n",
    "estimators.append(('SVR', svm_rgr))\n",
    "pipeline = Pipeline(estimators)"
   ]
  },
  {
   "cell_type": "code",
   "execution_count": 49,
   "metadata": {},
   "outputs": [
    {
     "name": "stdout",
     "output_type": "stream",
     "text": [
      "[LibSVM][LibSVM][LibSVM][LibSVM][LibSVM][LibSVM][LibSVM][LibSVM][LibSVM][LibSVM][LibSVM][LibSVM]"
     ]
    }
   ],
   "source": [
    "scores_MSE = cross_val_score(pipeline, X_train, Y_train, cv=kf,\n",
    "                         scoring='neg_mean_squared_error')\n",
    "scores_MAE = cross_val_score(pipeline, X_train, Y_train, cv=kf,\n",
    "                         scoring='neg_mean_absolute_error')\n",
    "scores_R2 = cross_val_score(pipeline, X_train, Y_train, cv=kf,\n",
    "                         scoring='r2')"
   ]
  },
  {
   "cell_type": "code",
   "execution_count": 50,
   "metadata": {},
   "outputs": [
    {
     "name": "stdout",
     "output_type": "stream",
     "text": [
      "MSE: 1.58 (+/- 0.09)\n",
      "MAE: 0.95 (+/- 0.01)\n",
      "R2: -0.80 (+/- 0.01)\n"
     ]
    }
   ],
   "source": [
    "print(\"MSE: %0.2f (+/- %0.2f)\" % (-scores_MSE.mean(), scores_MSE.std() * 2))\n",
    "print(\"MAE: %0.2f (+/- %0.2f)\" % (-scores_MAE.mean(), scores_MAE.std() * 2))\n",
    "print(\"R2: %0.2f (+/- %0.2f)\" % (-scores_R2.mean(), scores_R2.std() * 2))"
   ]
  },
  {
   "cell_type": "code",
   "execution_count": 51,
   "metadata": {},
   "outputs": [],
   "source": [
    "df_scorescv_svr_MSE=pd.DataFrame(scores_MSE)\n",
    "df_scorescv_svr_MAE=pd.DataFrame(scores_MAE)\n",
    "df_scorescv_svr_R2=pd.DataFrame(scores_R2)"
   ]
  },
  {
   "cell_type": "code",
   "execution_count": 52,
   "metadata": {},
   "outputs": [],
   "source": [
    "with pd.ExcelWriter('FINALRESULTS_CV_1211.xlsx',engine='openpyxl', mode='a') as writer:\n",
    "    df_scorescv_svr_MSE.to_excel(writer, sheet_name='SVR_MSE')\n",
    "\n",
    "with pd.ExcelWriter('FINALRESULTS_CV_1211.xlsx',engine='openpyxl', mode='a') as writer:\n",
    "    df_scorescv_svr_MAE.to_excel(writer, sheet_name='SVR_MAE')\n",
    "    \n",
    "with pd.ExcelWriter('FINALRESULTS_CV_1211.xlsx',engine='openpyxl', mode='a') as writer:\n",
    "    df_scorescv_svr_R2.to_excel(writer, sheet_name='SVR_R2')"
   ]
  },
  {
   "cell_type": "code",
   "execution_count": 53,
   "metadata": {},
   "outputs": [],
   "source": [
    "mse_svr_rgr_cv = -scores_MSE.mean()\n",
    "mse_std_svr_rgr_cv = -scores_MSE.std()\n",
    "mae_svr_rgr_cv = -scores_MAE.mean()\n",
    "mae_std_svr_rgr_cv = -scores_MAE.std()\n",
    "r2_svr_rgr_cv = -scores_R2.mean()\n",
    "r2_std_svr_rgr_cv = -scores_R2.std()"
   ]
  },
  {
   "cell_type": "code",
   "execution_count": 54,
   "metadata": {},
   "outputs": [
    {
     "name": "stdout",
     "output_type": "stream",
     "text": [
      "[LibSVM]"
     ]
    },
    {
     "data": {
      "text/plain": [
       "SVR(C=9.541, cache_size=1000, coef0=0.0, degree=3, epsilon=0.2, gamma=0.004,\n",
       "    kernel='rbf', max_iter=-1, shrinking=True, tol=0.001, verbose=True)"
      ]
     },
     "execution_count": 54,
     "metadata": {},
     "output_type": "execute_result"
    }
   ],
   "source": [
    "svm_rgr.fit(X_train_std, Y_train)"
   ]
  },
  {
   "cell_type": "code",
   "execution_count": 55,
   "metadata": {},
   "outputs": [],
   "source": [
    "Y_train_pred=svm_rgr.predict(X_train_std)\n",
    "Y_test_pred=svm_rgr.predict(X_test_std)"
   ]
  },
  {
   "cell_type": "code",
   "execution_count": 56,
   "metadata": {},
   "outputs": [],
   "source": [
    "mse_svr_rgr_train = metrics.mean_squared_error(Y_train, Y_train_pred) \n",
    "mse_svr_rgr_test = metrics.mean_squared_error(Y_test, Y_test_pred)\n",
    "\n",
    "mae_svr_rgr_train = metrics.mean_absolute_error(Y_train, Y_train_pred) \n",
    "mae_svr_rgr_test = metrics.mean_absolute_error(Y_test, Y_test_pred)\n",
    "\n",
    "r2_svr_rgr_train = metrics.r2_score(Y_train, Y_train_pred)\n",
    "r2_svr_rgr_test = metrics.r2_score(Y_test, Y_test_pred)"
   ]
  },
  {
   "cell_type": "code",
   "execution_count": 57,
   "metadata": {},
   "outputs": [],
   "source": [
    "new_results_dic = {'MSE_train': mse_svr_rgr_train, 'MAE_train': mae_svr_rgr_train,'R2_train': r2_svr_rgr_train,\n",
    "                   'MSE_cv': mse_svr_rgr_cv, 'MSE_std_cv': mse_std_svr_rgr_cv, 'MAE_cv': mae_svr_rgr_cv,\n",
    "                   'MAE_std_cv': mae_std_svr_rgr_cv, 'R2_cv': r2_svr_rgr_cv, 'R2_std_cv': r2_std_svr_rgr_cv,\n",
    "                   'MSE_test': mse_svr_rgr_test,\n",
    "                   'MAE_test': mae_svr_rgr_test,\n",
    "                   'R2_test': r2_svr_rgr_test}\n",
    "df_results.loc[len(df_results)] = new_results_dic"
   ]
  },
  {
   "cell_type": "code",
   "execution_count": 58,
   "metadata": {},
   "outputs": [
    {
     "data": {
      "text/html": [
       "<div>\n",
       "<style scoped>\n",
       "    .dataframe tbody tr th:only-of-type {\n",
       "        vertical-align: middle;\n",
       "    }\n",
       "\n",
       "    .dataframe tbody tr th {\n",
       "        vertical-align: top;\n",
       "    }\n",
       "\n",
       "    .dataframe thead th {\n",
       "        text-align: right;\n",
       "    }\n",
       "</style>\n",
       "<table border=\"1\" class=\"dataframe\">\n",
       "  <thead>\n",
       "    <tr style=\"text-align: right;\">\n",
       "      <th></th>\n",
       "      <th>MSE_train</th>\n",
       "      <th>MAE_train</th>\n",
       "      <th>R2_train</th>\n",
       "      <th>MSE_cv</th>\n",
       "      <th>MSE_std_cv</th>\n",
       "      <th>MAE_cv</th>\n",
       "      <th>MAE_std_cv</th>\n",
       "      <th>R2_cv</th>\n",
       "      <th>R2_std_cv</th>\n",
       "      <th>MSE_test</th>\n",
       "      <th>MAE_test</th>\n",
       "      <th>R2_test</th>\n",
       "    </tr>\n",
       "  </thead>\n",
       "  <tbody>\n",
       "    <tr>\n",
       "      <th>OLS</th>\n",
       "      <td>1.624047</td>\n",
       "      <td>0.972258</td>\n",
       "      <td>0.790283</td>\n",
       "      <td>1.628501</td>\n",
       "      <td>-0.045817</td>\n",
       "      <td>0.973563</td>\n",
       "      <td>-0.005979</td>\n",
       "      <td>-0.789692</td>\n",
       "      <td>-0.005603</td>\n",
       "      <td>1.585972</td>\n",
       "      <td>0.958449</td>\n",
       "      <td>0.792834</td>\n",
       "    </tr>\n",
       "    <tr>\n",
       "      <th>RF</th>\n",
       "      <td>1.514715</td>\n",
       "      <td>0.937415</td>\n",
       "      <td>0.804401</td>\n",
       "      <td>1.608337</td>\n",
       "      <td>-0.065651</td>\n",
       "      <td>0.965430</td>\n",
       "      <td>-0.010279</td>\n",
       "      <td>-0.792282</td>\n",
       "      <td>-0.008617</td>\n",
       "      <td>1.553453</td>\n",
       "      <td>0.949031</td>\n",
       "      <td>0.797082</td>\n",
       "    </tr>\n",
       "    <tr>\n",
       "      <th>SVR</th>\n",
       "      <td>1.522747</td>\n",
       "      <td>0.929240</td>\n",
       "      <td>0.803364</td>\n",
       "      <td>1.575447</td>\n",
       "      <td>-0.044964</td>\n",
       "      <td>0.951571</td>\n",
       "      <td>-0.006915</td>\n",
       "      <td>-0.796539</td>\n",
       "      <td>-0.005661</td>\n",
       "      <td>1.528402</td>\n",
       "      <td>0.934130</td>\n",
       "      <td>0.800354</td>\n",
       "    </tr>\n",
       "  </tbody>\n",
       "</table>\n",
       "</div>"
      ],
      "text/plain": [
       "     MSE_train  MAE_train  R2_train    MSE_cv  MSE_std_cv    MAE_cv  \\\n",
       "OLS   1.624047   0.972258  0.790283  1.628501   -0.045817  0.973563   \n",
       "RF    1.514715   0.937415  0.804401  1.608337   -0.065651  0.965430   \n",
       "SVR   1.522747   0.929240  0.803364  1.575447   -0.044964  0.951571   \n",
       "\n",
       "     MAE_std_cv     R2_cv  R2_std_cv  MSE_test  MAE_test   R2_test  \n",
       "OLS   -0.005979 -0.789692  -0.005603  1.585972  0.958449  0.792834  \n",
       "RF    -0.010279 -0.792282  -0.008617  1.553453  0.949031  0.797082  \n",
       "SVR   -0.006915 -0.796539  -0.005661  1.528402  0.934130  0.800354  "
      ]
     },
     "execution_count": 58,
     "metadata": {},
     "output_type": "execute_result"
    }
   ],
   "source": [
    "indexNamesArr = df_results.index.values\n",
    "i = indexNamesArr[-1]\n",
    "df_results.rename(index={i:'SVR'}, inplace=True)\n",
    "df_results.head()"
   ]
  },
  {
   "cell_type": "markdown",
   "metadata": {},
   "source": [
    "### K-nearest Neighbours Regression "
   ]
  },
  {
   "cell_type": "raw",
   "metadata": {},
   "source": [
    "Grid search best parameters:\n",
    "n_neighbors, weights.\n",
    "Best parameters CV:\n",
    "{'knn__weights': 'distance', 'knn__n_neighbors': 18}"
   ]
  },
  {
   "cell_type": "code",
   "execution_count": 59,
   "metadata": {},
   "outputs": [],
   "source": [
    "knn_rgr = KNeighborsRegressor(n_neighbors=18, weights='distance', algorithm='auto', leaf_size=30,\n",
    "                              p=2, metric='minkowski', metric_params=None, n_jobs=None)"
   ]
  },
  {
   "cell_type": "code",
   "execution_count": 60,
   "metadata": {},
   "outputs": [],
   "source": [
    "# Define sklearn pipeline\n",
    "estimators = []\n",
    "estimators.append(('standardize', StandardScaler()))\n",
    "estimators.append(('KNN', knn_rgr))\n",
    "pipeline = Pipeline(estimators)"
   ]
  },
  {
   "cell_type": "code",
   "execution_count": 61,
   "metadata": {},
   "outputs": [],
   "source": [
    "scores_MSE = cross_val_score(pipeline, X_train, Y_train, cv=kf,\n",
    "                         scoring='neg_mean_squared_error')\n",
    "scores_MAE = cross_val_score(pipeline, X_train, Y_train, cv=kf,\n",
    "                         scoring='neg_mean_absolute_error')\n",
    "scores_R2 = cross_val_score(pipeline, X_train, Y_train, cv=kf,\n",
    "                         scoring='r2')"
   ]
  },
  {
   "cell_type": "code",
   "execution_count": 62,
   "metadata": {},
   "outputs": [
    {
     "name": "stdout",
     "output_type": "stream",
     "text": [
      "MSE: 2.75 (+/- 0.17)\n",
      "MAE: 1.31 (+/- 0.05)\n",
      "R2: -0.64 (+/- 0.02)\n"
     ]
    }
   ],
   "source": [
    "print(\"MSE: %0.2f (+/- %0.2f)\" % (-scores_MSE.mean(), scores_MSE.std() * 2))\n",
    "print(\"MAE: %0.2f (+/- %0.2f)\" % (-scores_MAE.mean(), scores_MAE.std() * 2))\n",
    "print(\"R2: %0.2f (+/- %0.2f)\" % (-scores_R2.mean(), scores_R2.std() * 2))"
   ]
  },
  {
   "cell_type": "code",
   "execution_count": 63,
   "metadata": {},
   "outputs": [],
   "source": [
    "df_scorescv_knn_MSE=pd.DataFrame(scores_MSE)\n",
    "df_scorescv_knn_MAE=pd.DataFrame(scores_MAE)\n",
    "df_scorescv_knn_R2=pd.DataFrame(scores_R2)"
   ]
  },
  {
   "cell_type": "code",
   "execution_count": 64,
   "metadata": {},
   "outputs": [],
   "source": [
    "with pd.ExcelWriter('FINALRESULTS_CV_1211.xlsx',engine='openpyxl', mode='a') as writer:\n",
    "    df_scorescv_knn_MSE.to_excel(writer, sheet_name='KNN_MSE')\n",
    "\n",
    "with pd.ExcelWriter('FINALRESULTS_CV_1211.xlsx',engine='openpyxl', mode='a') as writer:\n",
    "    df_scorescv_knn_MAE.to_excel(writer, sheet_name='KNN_MAE')\n",
    "    \n",
    "with pd.ExcelWriter('FINALRESULTS_CV_1211.xlsx',engine='openpyxl', mode='a') as writer:\n",
    "    df_scorescv_knn_R2.to_excel(writer, sheet_name='KNN_R2')"
   ]
  },
  {
   "cell_type": "code",
   "execution_count": 65,
   "metadata": {},
   "outputs": [],
   "source": [
    "mse_knn_rgr_cv = -scores_MSE.mean()\n",
    "mse_std_knn_rgr_cv = -scores_MSE.std()\n",
    "mae_knn_rgr_cv = -scores_MAE.mean()\n",
    "mae_std_knn_rgr_cv = -scores_MAE.std()\n",
    "r2_knn_rgr_cv = -scores_R2.mean()\n",
    "r2_std_knn_rgr_cv = -scores_R2.std()"
   ]
  },
  {
   "cell_type": "code",
   "execution_count": 66,
   "metadata": {},
   "outputs": [
    {
     "data": {
      "text/plain": [
       "KNeighborsRegressor(algorithm='auto', leaf_size=30, metric='minkowski',\n",
       "                    metric_params=None, n_jobs=None, n_neighbors=18, p=2,\n",
       "                    weights='distance')"
      ]
     },
     "execution_count": 66,
     "metadata": {},
     "output_type": "execute_result"
    }
   ],
   "source": [
    "knn_rgr.fit(X_train_std, Y_train)"
   ]
  },
  {
   "cell_type": "code",
   "execution_count": 67,
   "metadata": {},
   "outputs": [],
   "source": [
    "Y_train_pred=knn_rgr.predict(X_train_std)\n",
    "Y_test_pred=knn_rgr.predict(X_test_std)"
   ]
  },
  {
   "cell_type": "code",
   "execution_count": 68,
   "metadata": {},
   "outputs": [],
   "source": [
    "mse_knn_rgr_train = metrics.mean_squared_error(Y_train, Y_train_pred) \n",
    "mse_knn_rgr_test = metrics.mean_squared_error(Y_test, Y_test_pred)\n",
    "\n",
    "mae_knn_rgr_train = metrics.mean_absolute_error(Y_train, Y_train_pred) \n",
    "mae_knn_rgr_test = metrics.mean_absolute_error(Y_test, Y_test_pred)\n",
    "\n",
    "r2_knn_rgr_train = metrics.r2_score(Y_train, Y_train_pred)\n",
    "r2_knn_rgr_test = metrics.r2_score(Y_test, Y_test_pred)"
   ]
  },
  {
   "cell_type": "code",
   "execution_count": 69,
   "metadata": {},
   "outputs": [],
   "source": [
    "new_results_dic = {'MSE_train': mse_knn_rgr_train, 'MAE_train': mae_knn_rgr_train,'R2_train': r2_knn_rgr_train,\n",
    "                   'MSE_cv': mse_knn_rgr_cv, 'MSE_std_cv': mse_std_knn_rgr_cv, 'MAE_cv': mae_knn_rgr_cv,\n",
    "                   'MAE_std_cv': mae_std_knn_rgr_cv, 'R2_cv': r2_knn_rgr_cv, 'R2_std_cv': r2_std_knn_rgr_cv,\n",
    "                   'MSE_test': mse_knn_rgr_test,\n",
    "                   'MAE_test': mae_knn_rgr_test,\n",
    "                   'R2_test': r2_knn_rgr_test}\n",
    "df_results.loc[len(df_results)] = new_results_dic"
   ]
  },
  {
   "cell_type": "code",
   "execution_count": 70,
   "metadata": {},
   "outputs": [
    {
     "data": {
      "text/html": [
       "<div>\n",
       "<style scoped>\n",
       "    .dataframe tbody tr th:only-of-type {\n",
       "        vertical-align: middle;\n",
       "    }\n",
       "\n",
       "    .dataframe tbody tr th {\n",
       "        vertical-align: top;\n",
       "    }\n",
       "\n",
       "    .dataframe thead th {\n",
       "        text-align: right;\n",
       "    }\n",
       "</style>\n",
       "<table border=\"1\" class=\"dataframe\">\n",
       "  <thead>\n",
       "    <tr style=\"text-align: right;\">\n",
       "      <th></th>\n",
       "      <th>MSE_train</th>\n",
       "      <th>MAE_train</th>\n",
       "      <th>R2_train</th>\n",
       "      <th>MSE_cv</th>\n",
       "      <th>MSE_std_cv</th>\n",
       "      <th>MAE_cv</th>\n",
       "      <th>MAE_std_cv</th>\n",
       "      <th>R2_cv</th>\n",
       "      <th>R2_std_cv</th>\n",
       "      <th>MSE_test</th>\n",
       "      <th>MAE_test</th>\n",
       "      <th>R2_test</th>\n",
       "    </tr>\n",
       "  </thead>\n",
       "  <tbody>\n",
       "    <tr>\n",
       "      <th>OLS</th>\n",
       "      <td>1.624047</td>\n",
       "      <td>0.972258</td>\n",
       "      <td>0.790283</td>\n",
       "      <td>1.628501</td>\n",
       "      <td>-0.045817</td>\n",
       "      <td>0.973563</td>\n",
       "      <td>-0.005979</td>\n",
       "      <td>-0.789692</td>\n",
       "      <td>-0.005603</td>\n",
       "      <td>1.585972</td>\n",
       "      <td>0.958449</td>\n",
       "      <td>0.792834</td>\n",
       "    </tr>\n",
       "    <tr>\n",
       "      <th>RF</th>\n",
       "      <td>1.514715</td>\n",
       "      <td>0.937415</td>\n",
       "      <td>0.804401</td>\n",
       "      <td>1.608337</td>\n",
       "      <td>-0.065651</td>\n",
       "      <td>0.965430</td>\n",
       "      <td>-0.010279</td>\n",
       "      <td>-0.792282</td>\n",
       "      <td>-0.008617</td>\n",
       "      <td>1.553453</td>\n",
       "      <td>0.949031</td>\n",
       "      <td>0.797082</td>\n",
       "    </tr>\n",
       "    <tr>\n",
       "      <th>SVR</th>\n",
       "      <td>1.522747</td>\n",
       "      <td>0.929240</td>\n",
       "      <td>0.803364</td>\n",
       "      <td>1.575447</td>\n",
       "      <td>-0.044964</td>\n",
       "      <td>0.951571</td>\n",
       "      <td>-0.006915</td>\n",
       "      <td>-0.796539</td>\n",
       "      <td>-0.005661</td>\n",
       "      <td>1.528402</td>\n",
       "      <td>0.934130</td>\n",
       "      <td>0.800354</td>\n",
       "    </tr>\n",
       "    <tr>\n",
       "      <th>KNN</th>\n",
       "      <td>0.049472</td>\n",
       "      <td>0.050253</td>\n",
       "      <td>0.993612</td>\n",
       "      <td>2.751166</td>\n",
       "      <td>-0.086778</td>\n",
       "      <td>1.307307</td>\n",
       "      <td>-0.022825</td>\n",
       "      <td>-0.644738</td>\n",
       "      <td>-0.009754</td>\n",
       "      <td>2.581716</td>\n",
       "      <td>1.264077</td>\n",
       "      <td>0.662767</td>\n",
       "    </tr>\n",
       "  </tbody>\n",
       "</table>\n",
       "</div>"
      ],
      "text/plain": [
       "     MSE_train  MAE_train  R2_train    MSE_cv  MSE_std_cv    MAE_cv  \\\n",
       "OLS   1.624047   0.972258  0.790283  1.628501   -0.045817  0.973563   \n",
       "RF    1.514715   0.937415  0.804401  1.608337   -0.065651  0.965430   \n",
       "SVR   1.522747   0.929240  0.803364  1.575447   -0.044964  0.951571   \n",
       "KNN   0.049472   0.050253  0.993612  2.751166   -0.086778  1.307307   \n",
       "\n",
       "     MAE_std_cv     R2_cv  R2_std_cv  MSE_test  MAE_test   R2_test  \n",
       "OLS   -0.005979 -0.789692  -0.005603  1.585972  0.958449  0.792834  \n",
       "RF    -0.010279 -0.792282  -0.008617  1.553453  0.949031  0.797082  \n",
       "SVR   -0.006915 -0.796539  -0.005661  1.528402  0.934130  0.800354  \n",
       "KNN   -0.022825 -0.644738  -0.009754  2.581716  1.264077  0.662767  "
      ]
     },
     "execution_count": 70,
     "metadata": {},
     "output_type": "execute_result"
    }
   ],
   "source": [
    "indexNamesArr = df_results.index.values\n",
    "i = indexNamesArr[-1]\n",
    "df_results.rename(index={i:'KNN'}, inplace=True)\n",
    "df_results.head()"
   ]
  },
  {
   "cell_type": "markdown",
   "metadata": {},
   "source": [
    "### XG BOOST Machine"
   ]
  },
  {
   "cell_type": "raw",
   "metadata": {},
   "source": [
    "Grid search:\n",
    "# A\n",
    "# You can try wider intervals with a larger step between\n",
    "# each value and then narrow it down.\n",
    "d = len(X)\n",
    "cw=[0, 0.0005,0.001, 0.005, 0.01, 0.015, 0.02]\n",
    "mcw = np.round(d*np.array(cw),0)\n",
    "gridsearch_params = [\n",
    "    (max_depth, min_child_weight)\n",
    "    for max_depth in [2,4,6,8,10]\n",
    "    for min_child_weight in mcw]\n",
    "\n",
    "# B\n",
    "gridsearch_params = [\n",
    "    (subsample, colsample)\n",
    "    for subsample in [i/10. for i in range(4,11)] #[4,5,6,7,8,9]\n",
    "    for colsample in [i/10. for i in range(4,11)]\n",
    "]\n",
    "\n",
    "# C\n",
    "eta in [.3, .2, .1, .05, .01, .005]\n",
    "\n",
    "# D\n",
    "lambda in [0.1,0.5,1,1.5,2.5,5,10,15]\n",
    "\n",
    "# E\n",
    "n_estimators\n",
    "\n",
    "# best parameters cv:\n",
    "\n",
    "{'xgb__subsample': 1.0,\n",
    " 'xgb__reg_lambda': 0.4,\n",
    " 'xgb__min_child_weight': 131.0,\n",
    " 'xgb__max_depth': 20,\n",
    " 'xgb__learning_rate': 0.41999999999999993,\n",
    " 'xgb__colsample_bytree': 1.0}\n",
    " n_estimators=156"
   ]
  },
  {
   "cell_type": "code",
   "execution_count": 71,
   "metadata": {},
   "outputs": [],
   "source": [
    "xgb_rgr = xgb.XGBRegressor(max_depth=20, learning_rate=0.42, n_estimators=156,\n",
    "                           verbosity=1, objective='reg:squarederror',\n",
    "                           booster='gbtree', n_jobs=-1, gamma=0,\n",
    "                           min_child_weight=131.0, max_delta_step=0, subsample=1.0,\n",
    "                           colsample_bytree=0.7, colsample_bylevel=1, colsample_bynode=1,\n",
    "                           reg_alpha=0, reg_lambda=0.4, scale_pos_weight=1, base_score=0.5,\n",
    "                           random_state=seed, seed=None, missing=None, importance_type='gain')\n"
   ]
  },
  {
   "cell_type": "code",
   "execution_count": 72,
   "metadata": {},
   "outputs": [],
   "source": [
    "# Define sklearn pipeline\n",
    "estimators = []\n",
    "estimators.append(('standardize', StandardScaler()))\n",
    "estimators.append(('XGB', xgb_rgr))\n",
    "pipeline = Pipeline(estimators)"
   ]
  },
  {
   "cell_type": "code",
   "execution_count": 73,
   "metadata": {},
   "outputs": [],
   "source": [
    "scores_MSE = cross_val_score(pipeline, X_train, Y_train, cv=kf,\n",
    "                         scoring='neg_mean_squared_error')\n",
    "scores_MAE = cross_val_score(pipeline, X_train, Y_train, cv=kf,\n",
    "                         scoring='neg_mean_absolute_error')\n",
    "scores_R2 = cross_val_score(pipeline, X_train, Y_train, cv=kf,\n",
    "                         scoring='r2')"
   ]
  },
  {
   "cell_type": "code",
   "execution_count": 74,
   "metadata": {},
   "outputs": [
    {
     "name": "stdout",
     "output_type": "stream",
     "text": [
      "MSE: 1.61 (+/- 0.11)\n",
      "MAE: 0.97 (+/- 0.02)\n",
      "R2: -0.79 (+/- 0.01)\n"
     ]
    }
   ],
   "source": [
    "print(\"MSE: %0.2f (+/- %0.2f)\" % (-scores_MSE.mean(), scores_MSE.std() * 2))\n",
    "print(\"MAE: %0.2f (+/- %0.2f)\" % (-scores_MAE.mean(), scores_MAE.std() * 2))\n",
    "print(\"R2: %0.2f (+/- %0.2f)\" % (-scores_R2.mean(), scores_R2.std() * 2))"
   ]
  },
  {
   "cell_type": "code",
   "execution_count": 75,
   "metadata": {},
   "outputs": [],
   "source": [
    "df_scorescv_xgb_MSE=pd.DataFrame(scores_MSE)\n",
    "df_scorescv_xgb_MAE=pd.DataFrame(scores_MAE)\n",
    "df_scorescv_xgb_R2=pd.DataFrame(scores_R2)"
   ]
  },
  {
   "cell_type": "code",
   "execution_count": 76,
   "metadata": {},
   "outputs": [],
   "source": [
    "with pd.ExcelWriter('FINALRESULTS_CV_1211.xlsx',engine='openpyxl', mode='a') as writer:\n",
    "    df_scorescv_xgb_MSE.to_excel(writer, sheet_name='XGB_MSE')\n",
    "\n",
    "with pd.ExcelWriter('FINALRESULTS_CV_1211.xlsx',engine='openpyxl', mode='a') as writer:\n",
    "    df_scorescv_xgb_MAE.to_excel(writer, sheet_name='XGB_MAE')\n",
    "    \n",
    "with pd.ExcelWriter('FINALRESULTS_CV_1211.xlsx',engine='openpyxl', mode='a') as writer:\n",
    "    df_scorescv_xgb_R2.to_excel(writer, sheet_name='XGB_R2')"
   ]
  },
  {
   "cell_type": "code",
   "execution_count": 77,
   "metadata": {},
   "outputs": [],
   "source": [
    "mse_xgb_rgr_cv = -scores_MSE.mean()\n",
    "mse_std_xgb_rgr_cv = -scores_MSE.std()\n",
    "mae_xgb_rgr_cv = -scores_MAE.mean()\n",
    "mae_std_xgb_rgr_cv = -scores_MAE.std()\n",
    "r2_xgb_rgr_cv = -scores_R2.mean()\n",
    "r2_std_xgb_rgr_cv = -scores_R2.std()"
   ]
  },
  {
   "cell_type": "code",
   "execution_count": 78,
   "metadata": {},
   "outputs": [
    {
     "data": {
      "text/plain": [
       "XGBRegressor(base_score=0.5, booster='gbtree', colsample_bylevel=1,\n",
       "             colsample_bynode=1, colsample_bytree=0.7, gamma=0,\n",
       "             importance_type='gain', learning_rate=0.42, max_delta_step=0,\n",
       "             max_depth=20, min_child_weight=131.0, missing=None,\n",
       "             n_estimators=156, n_jobs=-1, nthread=None,\n",
       "             objective='reg:squarederror', random_state=42, reg_alpha=0,\n",
       "             reg_lambda=0.4, scale_pos_weight=1, seed=None, silent=None,\n",
       "             subsample=1.0, verbosity=1)"
      ]
     },
     "execution_count": 78,
     "metadata": {},
     "output_type": "execute_result"
    }
   ],
   "source": [
    "xgb_rgr.fit(X_train_std, Y_train)"
   ]
  },
  {
   "cell_type": "code",
   "execution_count": 79,
   "metadata": {},
   "outputs": [],
   "source": [
    "Y_train_pred=xgb_rgr.predict(X_train_std)\n",
    "Y_test_pred=xgb_rgr.predict(X_test_std)"
   ]
  },
  {
   "cell_type": "code",
   "execution_count": 80,
   "metadata": {},
   "outputs": [],
   "source": [
    "mse_xgb_rgr_train = metrics.mean_squared_error(Y_train, Y_train_pred) \n",
    "mse_xgb_rgr_test = metrics.mean_squared_error(Y_test, Y_test_pred)\n",
    "\n",
    "mae_xgb_rgr_train = metrics.mean_absolute_error(Y_train, Y_train_pred) \n",
    "mae_xgb_rgr_test = metrics.mean_absolute_error(Y_test, Y_test_pred)\n",
    "\n",
    "r2_xgb_rgr_train = metrics.r2_score(Y_train, Y_train_pred)\n",
    "r2_xgb_rgr_test = metrics.r2_score(Y_test, Y_test_pred)"
   ]
  },
  {
   "cell_type": "code",
   "execution_count": 81,
   "metadata": {},
   "outputs": [],
   "source": [
    "new_results_dic = {'MSE_train': mse_xgb_rgr_train, 'MAE_train': mae_xgb_rgr_train,'R2_train': r2_xgb_rgr_train,\n",
    "                   'MSE_cv': mse_xgb_rgr_cv, 'MSE_std_cv': mse_std_xgb_rgr_cv, 'MAE_cv': mae_xgb_rgr_cv,\n",
    "                   'MAE_std_cv': mae_std_xgb_rgr_cv, 'R2_cv': r2_xgb_rgr_cv, 'R2_std_cv': r2_std_xgb_rgr_cv,\n",
    "                   'MSE_test': mse_xgb_rgr_test,\n",
    "                   'MAE_test': mae_xgb_rgr_test,\n",
    "                   'R2_test': r2_xgb_rgr_test}\n",
    "\n",
    "df_results.loc[len(df_results)] = new_results_dic"
   ]
  },
  {
   "cell_type": "code",
   "execution_count": 82,
   "metadata": {},
   "outputs": [
    {
     "data": {
      "text/html": [
       "<div>\n",
       "<style scoped>\n",
       "    .dataframe tbody tr th:only-of-type {\n",
       "        vertical-align: middle;\n",
       "    }\n",
       "\n",
       "    .dataframe tbody tr th {\n",
       "        vertical-align: top;\n",
       "    }\n",
       "\n",
       "    .dataframe thead th {\n",
       "        text-align: right;\n",
       "    }\n",
       "</style>\n",
       "<table border=\"1\" class=\"dataframe\">\n",
       "  <thead>\n",
       "    <tr style=\"text-align: right;\">\n",
       "      <th></th>\n",
       "      <th>MSE_train</th>\n",
       "      <th>MAE_train</th>\n",
       "      <th>R2_train</th>\n",
       "      <th>MSE_cv</th>\n",
       "      <th>MSE_std_cv</th>\n",
       "      <th>MAE_cv</th>\n",
       "      <th>MAE_std_cv</th>\n",
       "      <th>R2_cv</th>\n",
       "      <th>R2_std_cv</th>\n",
       "      <th>MSE_test</th>\n",
       "      <th>MAE_test</th>\n",
       "      <th>R2_test</th>\n",
       "    </tr>\n",
       "  </thead>\n",
       "  <tbody>\n",
       "    <tr>\n",
       "      <th>OLS</th>\n",
       "      <td>1.624047</td>\n",
       "      <td>0.972258</td>\n",
       "      <td>0.790283</td>\n",
       "      <td>1.628501</td>\n",
       "      <td>-0.045817</td>\n",
       "      <td>0.973563</td>\n",
       "      <td>-0.005979</td>\n",
       "      <td>-0.789692</td>\n",
       "      <td>-0.005603</td>\n",
       "      <td>1.585972</td>\n",
       "      <td>0.958449</td>\n",
       "      <td>0.792834</td>\n",
       "    </tr>\n",
       "    <tr>\n",
       "      <th>RF</th>\n",
       "      <td>1.514715</td>\n",
       "      <td>0.937415</td>\n",
       "      <td>0.804401</td>\n",
       "      <td>1.608337</td>\n",
       "      <td>-0.065651</td>\n",
       "      <td>0.965430</td>\n",
       "      <td>-0.010279</td>\n",
       "      <td>-0.792282</td>\n",
       "      <td>-0.008617</td>\n",
       "      <td>1.553453</td>\n",
       "      <td>0.949031</td>\n",
       "      <td>0.797082</td>\n",
       "    </tr>\n",
       "    <tr>\n",
       "      <th>SVR</th>\n",
       "      <td>1.522747</td>\n",
       "      <td>0.929240</td>\n",
       "      <td>0.803364</td>\n",
       "      <td>1.575447</td>\n",
       "      <td>-0.044964</td>\n",
       "      <td>0.951571</td>\n",
       "      <td>-0.006915</td>\n",
       "      <td>-0.796539</td>\n",
       "      <td>-0.005661</td>\n",
       "      <td>1.528402</td>\n",
       "      <td>0.934130</td>\n",
       "      <td>0.800354</td>\n",
       "    </tr>\n",
       "    <tr>\n",
       "      <th>KNN</th>\n",
       "      <td>0.049472</td>\n",
       "      <td>0.050253</td>\n",
       "      <td>0.993612</td>\n",
       "      <td>2.751166</td>\n",
       "      <td>-0.086778</td>\n",
       "      <td>1.307307</td>\n",
       "      <td>-0.022825</td>\n",
       "      <td>-0.644738</td>\n",
       "      <td>-0.009754</td>\n",
       "      <td>2.581716</td>\n",
       "      <td>1.264077</td>\n",
       "      <td>0.662767</td>\n",
       "    </tr>\n",
       "    <tr>\n",
       "      <th>XGB</th>\n",
       "      <td>0.817496</td>\n",
       "      <td>0.693459</td>\n",
       "      <td>0.894435</td>\n",
       "      <td>1.614770</td>\n",
       "      <td>-0.055243</td>\n",
       "      <td>0.969831</td>\n",
       "      <td>-0.008734</td>\n",
       "      <td>-0.791456</td>\n",
       "      <td>-0.007148</td>\n",
       "      <td>1.544583</td>\n",
       "      <td>0.947819</td>\n",
       "      <td>0.798241</td>\n",
       "    </tr>\n",
       "  </tbody>\n",
       "</table>\n",
       "</div>"
      ],
      "text/plain": [
       "     MSE_train  MAE_train  R2_train    MSE_cv  MSE_std_cv    MAE_cv  \\\n",
       "OLS   1.624047   0.972258  0.790283  1.628501   -0.045817  0.973563   \n",
       "RF    1.514715   0.937415  0.804401  1.608337   -0.065651  0.965430   \n",
       "SVR   1.522747   0.929240  0.803364  1.575447   -0.044964  0.951571   \n",
       "KNN   0.049472   0.050253  0.993612  2.751166   -0.086778  1.307307   \n",
       "XGB   0.817496   0.693459  0.894435  1.614770   -0.055243  0.969831   \n",
       "\n",
       "     MAE_std_cv     R2_cv  R2_std_cv  MSE_test  MAE_test   R2_test  \n",
       "OLS   -0.005979 -0.789692  -0.005603  1.585972  0.958449  0.792834  \n",
       "RF    -0.010279 -0.792282  -0.008617  1.553453  0.949031  0.797082  \n",
       "SVR   -0.006915 -0.796539  -0.005661  1.528402  0.934130  0.800354  \n",
       "KNN   -0.022825 -0.644738  -0.009754  2.581716  1.264077  0.662767  \n",
       "XGB   -0.008734 -0.791456  -0.007148  1.544583  0.947819  0.798241  "
      ]
     },
     "execution_count": 82,
     "metadata": {},
     "output_type": "execute_result"
    }
   ],
   "source": [
    "indexNamesArr = df_results.index.values\n",
    "i = indexNamesArr[-1]\n",
    "df_results.rename(index={i:'XGB'}, inplace=True)\n",
    "df_results.head()"
   ]
  },
  {
   "cell_type": "markdown",
   "metadata": {},
   "source": [
    "### Neural Network"
   ]
  },
  {
   "cell_type": "code",
   "execution_count": 83,
   "metadata": {},
   "outputs": [
    {
     "name": "stderr",
     "output_type": "stream",
     "text": [
      "Using TensorFlow backend.\n",
      "C:\\ProgramData\\Anaconda3\\lib\\site-packages\\tensorflow\\python\\framework\\dtypes.py:516: FutureWarning: Passing (type, 1) or '1type' as a synonym of type is deprecated; in a future version of numpy, it will be understood as (type, (1,)) / '(1,)type'.\n",
      "  _np_qint8 = np.dtype([(\"qint8\", np.int8, 1)])\n",
      "C:\\ProgramData\\Anaconda3\\lib\\site-packages\\tensorflow\\python\\framework\\dtypes.py:517: FutureWarning: Passing (type, 1) or '1type' as a synonym of type is deprecated; in a future version of numpy, it will be understood as (type, (1,)) / '(1,)type'.\n",
      "  _np_quint8 = np.dtype([(\"quint8\", np.uint8, 1)])\n",
      "C:\\ProgramData\\Anaconda3\\lib\\site-packages\\tensorflow\\python\\framework\\dtypes.py:518: FutureWarning: Passing (type, 1) or '1type' as a synonym of type is deprecated; in a future version of numpy, it will be understood as (type, (1,)) / '(1,)type'.\n",
      "  _np_qint16 = np.dtype([(\"qint16\", np.int16, 1)])\n",
      "C:\\ProgramData\\Anaconda3\\lib\\site-packages\\tensorflow\\python\\framework\\dtypes.py:519: FutureWarning: Passing (type, 1) or '1type' as a synonym of type is deprecated; in a future version of numpy, it will be understood as (type, (1,)) / '(1,)type'.\n",
      "  _np_quint16 = np.dtype([(\"quint16\", np.uint16, 1)])\n",
      "C:\\ProgramData\\Anaconda3\\lib\\site-packages\\tensorflow\\python\\framework\\dtypes.py:520: FutureWarning: Passing (type, 1) or '1type' as a synonym of type is deprecated; in a future version of numpy, it will be understood as (type, (1,)) / '(1,)type'.\n",
      "  _np_qint32 = np.dtype([(\"qint32\", np.int32, 1)])\n",
      "C:\\ProgramData\\Anaconda3\\lib\\site-packages\\tensorflow\\python\\framework\\dtypes.py:525: FutureWarning: Passing (type, 1) or '1type' as a synonym of type is deprecated; in a future version of numpy, it will be understood as (type, (1,)) / '(1,)type'.\n",
      "  np_resource = np.dtype([(\"resource\", np.ubyte, 1)])\n",
      "C:\\ProgramData\\Anaconda3\\lib\\site-packages\\tensorboard\\compat\\tensorflow_stub\\dtypes.py:541: FutureWarning: Passing (type, 1) or '1type' as a synonym of type is deprecated; in a future version of numpy, it will be understood as (type, (1,)) / '(1,)type'.\n",
      "  _np_qint8 = np.dtype([(\"qint8\", np.int8, 1)])\n",
      "C:\\ProgramData\\Anaconda3\\lib\\site-packages\\tensorboard\\compat\\tensorflow_stub\\dtypes.py:542: FutureWarning: Passing (type, 1) or '1type' as a synonym of type is deprecated; in a future version of numpy, it will be understood as (type, (1,)) / '(1,)type'.\n",
      "  _np_quint8 = np.dtype([(\"quint8\", np.uint8, 1)])\n",
      "C:\\ProgramData\\Anaconda3\\lib\\site-packages\\tensorboard\\compat\\tensorflow_stub\\dtypes.py:543: FutureWarning: Passing (type, 1) or '1type' as a synonym of type is deprecated; in a future version of numpy, it will be understood as (type, (1,)) / '(1,)type'.\n",
      "  _np_qint16 = np.dtype([(\"qint16\", np.int16, 1)])\n",
      "C:\\ProgramData\\Anaconda3\\lib\\site-packages\\tensorboard\\compat\\tensorflow_stub\\dtypes.py:544: FutureWarning: Passing (type, 1) or '1type' as a synonym of type is deprecated; in a future version of numpy, it will be understood as (type, (1,)) / '(1,)type'.\n",
      "  _np_quint16 = np.dtype([(\"quint16\", np.uint16, 1)])\n",
      "C:\\ProgramData\\Anaconda3\\lib\\site-packages\\tensorboard\\compat\\tensorflow_stub\\dtypes.py:545: FutureWarning: Passing (type, 1) or '1type' as a synonym of type is deprecated; in a future version of numpy, it will be understood as (type, (1,)) / '(1,)type'.\n",
      "  _np_qint32 = np.dtype([(\"qint32\", np.int32, 1)])\n",
      "C:\\ProgramData\\Anaconda3\\lib\\site-packages\\tensorboard\\compat\\tensorflow_stub\\dtypes.py:550: FutureWarning: Passing (type, 1) or '1type' as a synonym of type is deprecated; in a future version of numpy, it will be understood as (type, (1,)) / '(1,)type'.\n",
      "  np_resource = np.dtype([(\"resource\", np.ubyte, 1)])\n"
     ]
    }
   ],
   "source": [
    "from keras.models import Sequential\n",
    "from keras.layers import Dense\n",
    "from keras.layers import InputLayer\n",
    "from keras import backend as k\n",
    "from keras.optimizers import SGD\n",
    "from keras.optimizers import Adam\n",
    "from keras.callbacks import EarlyStopping\n",
    "from keras.callbacks import ModelCheckpoint\n",
    "from keras.wrappers.scikit_learn import KerasRegressor"
   ]
  },
  {
   "cell_type": "code",
   "execution_count": 101,
   "metadata": {},
   "outputs": [],
   "source": [
    "def r2(y_true,y_pred):\n",
    "    SS_res=k.sum(k.square(y_true-y_pred))\n",
    "    SS_tot=k.sum(k.square(y_true-k.mean(y_true)))\n",
    "    return (1-SS_res/(SS_tot))\n",
    "\n",
    "# define base model\n",
    "def baseline_model(input_dim=26,output_dim=1, init='glorot_uniform', layers=[10, 10, 10, 10, 10, 10, 10, 10],\n",
    "                   activ_function='relu',\n",
    "                   optim='adam' , loss_function='mse'):\n",
    "    # ,Adam_lr=0.001, Adam_beta1=0.9, Adam_beta2=0.999, Adam_epsilon=1e-07\n",
    "    # create model\n",
    "    model = Sequential()\n",
    "    for i, nodes in enumerate(layers):\n",
    "        if i==0:\n",
    "            model.add(Dense(units=nodes, input_dim=input_dim, kernel_initializer=init, activation=activ_function))\n",
    "        else:\n",
    "            model.add(Dense(units=nodes, kernel_initializer=init, activation=activ_function))\n",
    "    model.add(Dense(units=output_dim, kernel_initializer=init,))\n",
    "    # Compile model\n",
    "    # optim_m=Adam(learning_rate=Adam_lr, beta_1=Adam_beta1, beta_2=Adam_beta2, epsilon= Adam_epsilon)\n",
    "    model.compile(optimizer=optim, loss=loss_function, metrics=['mae','mse',r2])\n",
    "    return model"
   ]
  },
  {
   "cell_type": "raw",
   "metadata": {},
   "source": [
    "# Early Stopping\n",
    "stopper=EarlyStopping(monitor='val_mae', patience=8, verbose=1) #more than three epochs"
   ]
  },
  {
   "cell_type": "code",
   "execution_count": 102,
   "metadata": {},
   "outputs": [],
   "source": [
    "#Model check point\n",
    "checkpoint_filepath= 'weights1211.hdf5'\n",
    "checkpoint=ModelCheckpoint(filepath =checkpoint_filepath, monitor='loss',\n",
    "                           save_best_only= True, mode='auto')"
   ]
  },
  {
   "cell_type": "code",
   "execution_count": 103,
   "metadata": {},
   "outputs": [],
   "source": [
    "# Best combination of Hyperparameters:\n",
    "#{'kr__activ_function': 'relu', 'kr__batch_size': 32, 'kr__epochs': 200, 'kr__input_dim': 120,\n",
    "#'kr__layers': (24, 24), 'kr__optim': 'adam'}\n",
    "\n",
    "\n",
    "num_epochs=25\n",
    "batch=32\n",
    "blayers=[10, 10, 10, 10, 10, 10, 10, 10]\n",
    "bactiv_function='relu'\n",
    "boptim='adam'\n",
    "\n",
    "model=baseline_model(input_dim=26,output_dim=1,layers=blayers, activ_function= bactiv_function, optim=boptim, loss_function='mse')\n",
    "\n",
    "num_val_samples=len(X_train)//kf #Floor division - division that results into whole number\n",
    "#adjusted to the left in the number line\n",
    "all_mae_histories=[]\n",
    "all_mse_histories=[]\n",
    "all_r2_histories=[]"
   ]
  },
  {
   "cell_type": "code",
   "execution_count": 104,
   "metadata": {},
   "outputs": [
    {
     "name": "stdout",
     "output_type": "stream",
     "text": [
      "Processing fold # 0\n",
      "Processing fold # 1\n",
      "Processing fold # 2\n",
      "Processing fold # 3\n"
     ]
    }
   ],
   "source": [
    "for i in range(kf):\n",
    "    #Prepares the validation data: data from partition #k\n",
    "    print('Processing fold #', i)\n",
    "    val_data=X_train[i*num_val_samples:(i+1)*num_val_samples]\n",
    "    val_targets=Y_train[i*num_val_samples:(i+1)*num_val_samples]\n",
    "    #Prepares the training data: data from all other partitions\n",
    "    partial_train_data=np.concatenate([X_train[:i*num_val_samples],\n",
    "        X_train[(i+1)*num_val_samples:]], axis=0)\n",
    "    partial_train_targets=np.concatenate([Y_train[:i*num_val_samples],\n",
    "        Y_train[(i+1)*num_val_samples:]], axis=0)\n",
    "    # trains the model in silent mode\n",
    "    scaler.fit(partial_train_data)\n",
    "    partial_train_data_std=scaler.transform(partial_train_data)\n",
    "    val_data_std=scaler.transform(val_data)\n",
    "    history = model.fit(partial_train_data_std, partial_train_targets,validation_data=(val_data_std,val_targets),\n",
    "                        epochs=num_epochs,batch_size=batch,verbose=0)\n",
    "    #Evaluates the model on the validation data\n",
    "    mae_history=history.history['val_mae']\n",
    "    all_mae_histories.append(mae_history)\n",
    "    mse_history=history.history['val_mse']\n",
    "    all_mse_histories.append(mse_history)\n",
    "    r2_history=history.history['val_r2']\n",
    "    all_r2_histories.append(r2_history)"
   ]
  },
  {
   "cell_type": "code",
   "execution_count": 105,
   "metadata": {},
   "outputs": [],
   "source": [
    "df_scorescv_ann_MAE=pd.DataFrame(all_mae_histories)\n",
    "df_scorescv_ann_MSE=pd.DataFrame(all_mse_histories)\n",
    "df_scorescv_ann_R2=pd.DataFrame(all_r2_histories)"
   ]
  },
  {
   "cell_type": "code",
   "execution_count": 106,
   "metadata": {},
   "outputs": [],
   "source": [
    "with pd.ExcelWriter('FINALRESULTS_CV_1211.xlsx',engine='openpyxl', mode='a') as writer:\n",
    "    df_scorescv_ann_MSE.to_excel(writer, sheet_name='ANN_MSE')\n",
    "\n",
    "with pd.ExcelWriter('FINALRESULTS_CV_1211.xlsx',engine='openpyxl', mode='a') as writer:\n",
    "    df_scorescv_ann_MAE.to_excel(writer, sheet_name='ANN_MAE')\n",
    "    \n",
    "with pd.ExcelWriter('FINALRESULTS_CV_1211.xlsx',engine='openpyxl', mode='a') as writer:\n",
    "    df_scorescv_ann_R2.to_excel(writer, sheet_name='ANN_R2')"
   ]
  },
  {
   "cell_type": "code",
   "execution_count": 107,
   "metadata": {},
   "outputs": [],
   "source": [
    "min_df_scorescv_ann_MAE=df_scorescv_ann_MAE.min(axis=1)\n",
    "min_df_scorescv_ann_MSE=df_scorescv_ann_MSE.min(axis=1)\n",
    "max_df_scorescv_ann_R2=df_scorescv_ann_R2.max(axis=1)"
   ]
  },
  {
   "cell_type": "code",
   "execution_count": 108,
   "metadata": {},
   "outputs": [],
   "source": [
    "mse_ann_rgr_cv = min_df_scorescv_ann_MSE.mean(axis=0)\n",
    "mse_std_ann_rgr_cv = min_df_scorescv_ann_MSE.std(axis=0)\n",
    "mae_ann_rgr_cv = min_df_scorescv_ann_MAE.mean(axis=0)\n",
    "mae_std_ann_rgr_cv = min_df_scorescv_ann_MAE.std(axis=0)\n",
    "r2_ann_rgr_cv = max_df_scorescv_ann_R2.mean(axis=0)\n",
    "r2_std_ann_rgr_cv = max_df_scorescv_ann_R2.std(axis=0)"
   ]
  },
  {
   "cell_type": "code",
   "execution_count": 109,
   "metadata": {},
   "outputs": [],
   "source": [
    "model.fit(X_train_std, Y_train, epochs=num_epochs, callbacks=[checkpoint], batch_size=batch, verbose=0)\n",
    "model.load_weights(checkpoint_filepath)"
   ]
  },
  {
   "cell_type": "code",
   "execution_count": 110,
   "metadata": {},
   "outputs": [
    {
     "name": "stdout",
     "output_type": "stream",
     "text": [
      "21378/21378 [==============================] - 1s 41us/step\n",
      "9105/9105 [==============================] - 0s 47us/step\n"
     ]
    }
   ],
   "source": [
    "loss, mae, mse, r2= model.evaluate(X_train_std, Y_train)\n",
    "test_loss, test_mae, test_mse, test_r2 = model.evaluate(X_test_std, Y_test)"
   ]
  },
  {
   "cell_type": "code",
   "execution_count": 111,
   "metadata": {},
   "outputs": [],
   "source": [
    "mse_ann_rgr_train = mse \n",
    "mse_ann_rgr_test = test_mse\n",
    "\n",
    "mae_ann_rgr_train = mae \n",
    "mae_ann_rgr_test = test_mae\n",
    "\n",
    "r2_ann_rgr_train = r2\n",
    "r2_ann_rgr_test = test_r2"
   ]
  },
  {
   "cell_type": "code",
   "execution_count": 112,
   "metadata": {},
   "outputs": [],
   "source": [
    "new_results_dic = {'MSE_train': mse_ann_rgr_train, 'MAE_train': mae_ann_rgr_train,'R2_train': r2_ann_rgr_train,\n",
    "                   'MSE_cv': mse_ann_rgr_cv, 'MSE_std_cv': mse_std_ann_rgr_cv, 'MAE_cv': mae_ann_rgr_cv,\n",
    "                   'MAE_std_cv': mae_std_ann_rgr_cv, 'R2_cv': r2_ann_rgr_cv, 'R2_std_cv': r2_std_ann_rgr_cv,\n",
    "                   'MSE_test': mse_ann_rgr_test,\n",
    "                   'MAE_test': mae_ann_rgr_test,\n",
    "                   'R2_test': r2_ann_rgr_test}\n",
    "\n",
    "df_results.loc[len(df_results)] = new_results_dic"
   ]
  },
  {
   "cell_type": "code",
   "execution_count": 113,
   "metadata": {},
   "outputs": [],
   "source": [
    "df_results.drop('ANN', inplace=True)"
   ]
  },
  {
   "cell_type": "code",
   "execution_count": 114,
   "metadata": {},
   "outputs": [
    {
     "data": {
      "text/html": [
       "<div>\n",
       "<style scoped>\n",
       "    .dataframe tbody tr th:only-of-type {\n",
       "        vertical-align: middle;\n",
       "    }\n",
       "\n",
       "    .dataframe tbody tr th {\n",
       "        vertical-align: top;\n",
       "    }\n",
       "\n",
       "    .dataframe thead th {\n",
       "        text-align: right;\n",
       "    }\n",
       "</style>\n",
       "<table border=\"1\" class=\"dataframe\">\n",
       "  <thead>\n",
       "    <tr style=\"text-align: right;\">\n",
       "      <th></th>\n",
       "      <th>MSE_train</th>\n",
       "      <th>MAE_train</th>\n",
       "      <th>R2_train</th>\n",
       "      <th>MSE_cv</th>\n",
       "      <th>MSE_std_cv</th>\n",
       "      <th>MAE_cv</th>\n",
       "      <th>MAE_std_cv</th>\n",
       "      <th>R2_cv</th>\n",
       "      <th>R2_std_cv</th>\n",
       "      <th>MSE_test</th>\n",
       "      <th>MAE_test</th>\n",
       "      <th>R2_test</th>\n",
       "    </tr>\n",
       "  </thead>\n",
       "  <tbody>\n",
       "    <tr>\n",
       "      <th>OLS</th>\n",
       "      <td>1.624047</td>\n",
       "      <td>0.972258</td>\n",
       "      <td>0.790283</td>\n",
       "      <td>1.628501</td>\n",
       "      <td>-0.045817</td>\n",
       "      <td>0.973563</td>\n",
       "      <td>-0.005979</td>\n",
       "      <td>-0.789692</td>\n",
       "      <td>-0.005603</td>\n",
       "      <td>1.585972</td>\n",
       "      <td>0.958449</td>\n",
       "      <td>0.792834</td>\n",
       "    </tr>\n",
       "    <tr>\n",
       "      <th>RF</th>\n",
       "      <td>1.514715</td>\n",
       "      <td>0.937415</td>\n",
       "      <td>0.804401</td>\n",
       "      <td>1.608337</td>\n",
       "      <td>-0.065651</td>\n",
       "      <td>0.965430</td>\n",
       "      <td>-0.010279</td>\n",
       "      <td>-0.792282</td>\n",
       "      <td>-0.008617</td>\n",
       "      <td>1.553453</td>\n",
       "      <td>0.949031</td>\n",
       "      <td>0.797082</td>\n",
       "    </tr>\n",
       "    <tr>\n",
       "      <th>SVR</th>\n",
       "      <td>1.522747</td>\n",
       "      <td>0.929240</td>\n",
       "      <td>0.803364</td>\n",
       "      <td>1.575447</td>\n",
       "      <td>-0.044964</td>\n",
       "      <td>0.951571</td>\n",
       "      <td>-0.006915</td>\n",
       "      <td>-0.796539</td>\n",
       "      <td>-0.005661</td>\n",
       "      <td>1.528402</td>\n",
       "      <td>0.934130</td>\n",
       "      <td>0.800354</td>\n",
       "    </tr>\n",
       "    <tr>\n",
       "      <th>KNN</th>\n",
       "      <td>0.049472</td>\n",
       "      <td>0.050253</td>\n",
       "      <td>0.993612</td>\n",
       "      <td>2.751166</td>\n",
       "      <td>-0.086778</td>\n",
       "      <td>1.307307</td>\n",
       "      <td>-0.022825</td>\n",
       "      <td>-0.644738</td>\n",
       "      <td>-0.009754</td>\n",
       "      <td>2.581716</td>\n",
       "      <td>1.264077</td>\n",
       "      <td>0.662767</td>\n",
       "    </tr>\n",
       "    <tr>\n",
       "      <th>XGB</th>\n",
       "      <td>0.817496</td>\n",
       "      <td>0.693459</td>\n",
       "      <td>0.894435</td>\n",
       "      <td>1.614770</td>\n",
       "      <td>-0.055243</td>\n",
       "      <td>0.969831</td>\n",
       "      <td>-0.008734</td>\n",
       "      <td>-0.791456</td>\n",
       "      <td>-0.007148</td>\n",
       "      <td>1.544583</td>\n",
       "      <td>0.947819</td>\n",
       "      <td>0.798241</td>\n",
       "    </tr>\n",
       "  </tbody>\n",
       "</table>\n",
       "</div>"
      ],
      "text/plain": [
       "     MSE_train  MAE_train  R2_train    MSE_cv  MSE_std_cv    MAE_cv  \\\n",
       "OLS   1.624047   0.972258  0.790283  1.628501   -0.045817  0.973563   \n",
       "RF    1.514715   0.937415  0.804401  1.608337   -0.065651  0.965430   \n",
       "SVR   1.522747   0.929240  0.803364  1.575447   -0.044964  0.951571   \n",
       "KNN   0.049472   0.050253  0.993612  2.751166   -0.086778  1.307307   \n",
       "XGB   0.817496   0.693459  0.894435  1.614770   -0.055243  0.969831   \n",
       "\n",
       "     MAE_std_cv     R2_cv  R2_std_cv  MSE_test  MAE_test   R2_test  \n",
       "OLS   -0.005979 -0.789692  -0.005603  1.585972  0.958449  0.792834  \n",
       "RF    -0.010279 -0.792282  -0.008617  1.553453  0.949031  0.797082  \n",
       "SVR   -0.006915 -0.796539  -0.005661  1.528402  0.934130  0.800354  \n",
       "KNN   -0.022825 -0.644738  -0.009754  2.581716  1.264077  0.662767  \n",
       "XGB   -0.008734 -0.791456  -0.007148  1.544583  0.947819  0.798241  "
      ]
     },
     "execution_count": 114,
     "metadata": {},
     "output_type": "execute_result"
    }
   ],
   "source": [
    "indexNamesArr = df_results.index.values\n",
    "i = indexNamesArr[-1]\n",
    "df_results.rename(index={i:'ANN'}, inplace=True)\n",
    "df_results.head()"
   ]
  },
  {
   "cell_type": "code",
   "execution_count": 115,
   "metadata": {},
   "outputs": [
    {
     "name": "stdout",
     "output_type": "stream",
     "text": [
      "Model: \"sequential_2\"\n",
      "_________________________________________________________________\n",
      "Layer (type)                 Output Shape              Param #   \n",
      "=================================================================\n",
      "dense_10 (Dense)             (None, 10)                270       \n",
      "_________________________________________________________________\n",
      "dense_11 (Dense)             (None, 10)                110       \n",
      "_________________________________________________________________\n",
      "dense_12 (Dense)             (None, 10)                110       \n",
      "_________________________________________________________________\n",
      "dense_13 (Dense)             (None, 10)                110       \n",
      "_________________________________________________________________\n",
      "dense_14 (Dense)             (None, 10)                110       \n",
      "_________________________________________________________________\n",
      "dense_15 (Dense)             (None, 10)                110       \n",
      "_________________________________________________________________\n",
      "dense_16 (Dense)             (None, 10)                110       \n",
      "_________________________________________________________________\n",
      "dense_17 (Dense)             (None, 10)                110       \n",
      "_________________________________________________________________\n",
      "dense_18 (Dense)             (None, 1)                 11        \n",
      "=================================================================\n",
      "Total params: 1,051\n",
      "Trainable params: 1,051\n",
      "Non-trainable params: 0\n",
      "_________________________________________________________________\n",
      "None\n"
     ]
    }
   ],
   "source": [
    "print(model.summary())"
   ]
  },
  {
   "cell_type": "code",
   "execution_count": 116,
   "metadata": {},
   "outputs": [
    {
     "data": {
      "text/html": [
       "<div>\n",
       "<style scoped>\n",
       "    .dataframe tbody tr th:only-of-type {\n",
       "        vertical-align: middle;\n",
       "    }\n",
       "\n",
       "    .dataframe tbody tr th {\n",
       "        vertical-align: top;\n",
       "    }\n",
       "\n",
       "    .dataframe thead th {\n",
       "        text-align: right;\n",
       "    }\n",
       "</style>\n",
       "<table border=\"1\" class=\"dataframe\">\n",
       "  <thead>\n",
       "    <tr style=\"text-align: right;\">\n",
       "      <th></th>\n",
       "      <th>MSE_train</th>\n",
       "      <th>MAE_train</th>\n",
       "      <th>R2_train</th>\n",
       "      <th>MSE_cv</th>\n",
       "      <th>MSE_std_cv</th>\n",
       "      <th>MAE_cv</th>\n",
       "      <th>MAE_std_cv</th>\n",
       "      <th>R2_cv</th>\n",
       "      <th>R2_std_cv</th>\n",
       "      <th>MSE_test</th>\n",
       "      <th>MAE_test</th>\n",
       "      <th>R2_test</th>\n",
       "    </tr>\n",
       "  </thead>\n",
       "  <tbody>\n",
       "    <tr>\n",
       "      <th>OLS</th>\n",
       "      <td>1.624047</td>\n",
       "      <td>0.972258</td>\n",
       "      <td>0.790283</td>\n",
       "      <td>1.628501</td>\n",
       "      <td>-0.045817</td>\n",
       "      <td>0.973563</td>\n",
       "      <td>-0.005979</td>\n",
       "      <td>-0.789692</td>\n",
       "      <td>-0.005603</td>\n",
       "      <td>1.585972</td>\n",
       "      <td>0.958449</td>\n",
       "      <td>0.792834</td>\n",
       "    </tr>\n",
       "    <tr>\n",
       "      <th>RF</th>\n",
       "      <td>1.514715</td>\n",
       "      <td>0.937415</td>\n",
       "      <td>0.804401</td>\n",
       "      <td>1.608337</td>\n",
       "      <td>-0.065651</td>\n",
       "      <td>0.965430</td>\n",
       "      <td>-0.010279</td>\n",
       "      <td>-0.792282</td>\n",
       "      <td>-0.008617</td>\n",
       "      <td>1.553453</td>\n",
       "      <td>0.949031</td>\n",
       "      <td>0.797082</td>\n",
       "    </tr>\n",
       "    <tr>\n",
       "      <th>SVR</th>\n",
       "      <td>1.522747</td>\n",
       "      <td>0.929240</td>\n",
       "      <td>0.803364</td>\n",
       "      <td>1.575447</td>\n",
       "      <td>-0.044964</td>\n",
       "      <td>0.951571</td>\n",
       "      <td>-0.006915</td>\n",
       "      <td>-0.796539</td>\n",
       "      <td>-0.005661</td>\n",
       "      <td>1.528402</td>\n",
       "      <td>0.934130</td>\n",
       "      <td>0.800354</td>\n",
       "    </tr>\n",
       "    <tr>\n",
       "      <th>KNN</th>\n",
       "      <td>0.049472</td>\n",
       "      <td>0.050253</td>\n",
       "      <td>0.993612</td>\n",
       "      <td>2.751166</td>\n",
       "      <td>-0.086778</td>\n",
       "      <td>1.307307</td>\n",
       "      <td>-0.022825</td>\n",
       "      <td>-0.644738</td>\n",
       "      <td>-0.009754</td>\n",
       "      <td>2.581716</td>\n",
       "      <td>1.264077</td>\n",
       "      <td>0.662767</td>\n",
       "    </tr>\n",
       "    <tr>\n",
       "      <th>XGB</th>\n",
       "      <td>0.817496</td>\n",
       "      <td>0.693459</td>\n",
       "      <td>0.894435</td>\n",
       "      <td>1.614770</td>\n",
       "      <td>-0.055243</td>\n",
       "      <td>0.969831</td>\n",
       "      <td>-0.008734</td>\n",
       "      <td>-0.791456</td>\n",
       "      <td>-0.007148</td>\n",
       "      <td>1.544583</td>\n",
       "      <td>0.947819</td>\n",
       "      <td>0.798241</td>\n",
       "    </tr>\n",
       "    <tr>\n",
       "      <th>ANN</th>\n",
       "      <td>1.488893</td>\n",
       "      <td>0.930716</td>\n",
       "      <td>0.778921</td>\n",
       "      <td>1.549706</td>\n",
       "      <td>0.095728</td>\n",
       "      <td>0.947619</td>\n",
       "      <td>0.018790</td>\n",
       "      <td>0.786947</td>\n",
       "      <td>0.013784</td>\n",
       "      <td>1.543847</td>\n",
       "      <td>0.943690</td>\n",
       "      <td>0.786683</td>\n",
       "    </tr>\n",
       "  </tbody>\n",
       "</table>\n",
       "</div>"
      ],
      "text/plain": [
       "     MSE_train  MAE_train  R2_train    MSE_cv  MSE_std_cv    MAE_cv  \\\n",
       "OLS   1.624047   0.972258  0.790283  1.628501   -0.045817  0.973563   \n",
       "RF    1.514715   0.937415  0.804401  1.608337   -0.065651  0.965430   \n",
       "SVR   1.522747   0.929240  0.803364  1.575447   -0.044964  0.951571   \n",
       "KNN   0.049472   0.050253  0.993612  2.751166   -0.086778  1.307307   \n",
       "XGB   0.817496   0.693459  0.894435  1.614770   -0.055243  0.969831   \n",
       "ANN   1.488893   0.930716  0.778921  1.549706    0.095728  0.947619   \n",
       "\n",
       "     MAE_std_cv     R2_cv  R2_std_cv  MSE_test  MAE_test   R2_test  \n",
       "OLS   -0.005979 -0.789692  -0.005603  1.585972  0.958449  0.792834  \n",
       "RF    -0.010279 -0.792282  -0.008617  1.553453  0.949031  0.797082  \n",
       "SVR   -0.006915 -0.796539  -0.005661  1.528402  0.934130  0.800354  \n",
       "KNN   -0.022825 -0.644738  -0.009754  2.581716  1.264077  0.662767  \n",
       "XGB   -0.008734 -0.791456  -0.007148  1.544583  0.947819  0.798241  \n",
       "ANN    0.018790  0.786947   0.013784  1.543847  0.943690  0.786683  "
      ]
     },
     "execution_count": 116,
     "metadata": {},
     "output_type": "execute_result"
    }
   ],
   "source": [
    "df_results.head(10)"
   ]
  },
  {
   "cell_type": "code",
   "execution_count": 117,
   "metadata": {},
   "outputs": [],
   "source": [
    "df_results.to_excel('FINALRESULTS_Train_Test_1211.xlsx', sheet_name='Final Results')"
   ]
  },
  {
   "cell_type": "code",
   "execution_count": null,
   "metadata": {},
   "outputs": [],
   "source": []
  }
 ],
 "metadata": {
  "kernelspec": {
   "display_name": "Python 3",
   "language": "python",
   "name": "python3"
  },
  "language_info": {
   "codemirror_mode": {
    "name": "ipython",
    "version": 3
   },
   "file_extension": ".py",
   "mimetype": "text/x-python",
   "name": "python",
   "nbconvert_exporter": "python",
   "pygments_lexer": "ipython3",
   "version": "3.7.6"
  }
 },
 "nbformat": 4,
 "nbformat_minor": 4
}
