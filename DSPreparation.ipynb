{
 "cells": [
  {
   "cell_type": "code",
   "execution_count": 1,
   "metadata": {},
   "outputs": [],
   "source": [
    "import pandas as pd\n",
    "import numpy as np"
   ]
  },
  {
   "cell_type": "code",
   "execution_count": 2,
   "metadata": {},
   "outputs": [],
   "source": [
    "df = pd.read_excel('DS.xlsx')"
   ]
  },
  {
   "cell_type": "code",
   "execution_count": 3,
   "metadata": {},
   "outputs": [
    {
     "data": {
      "text/html": [
       "<div>\n",
       "<style scoped>\n",
       "    .dataframe tbody tr th:only-of-type {\n",
       "        vertical-align: middle;\n",
       "    }\n",
       "\n",
       "    .dataframe tbody tr th {\n",
       "        vertical-align: top;\n",
       "    }\n",
       "\n",
       "    .dataframe thead th {\n",
       "        text-align: right;\n",
       "    }\n",
       "</style>\n",
       "<table border=\"1\" class=\"dataframe\">\n",
       "  <thead>\n",
       "    <tr style=\"text-align: right;\">\n",
       "      <th></th>\n",
       "      <th>Student_ID</th>\n",
       "      <th>School_Year</th>\n",
       "      <th>Academic_Year</th>\n",
       "      <th>Student_Age</th>\n",
       "      <th>Student_Gender</th>\n",
       "      <th>Father_Nationality</th>\n",
       "      <th>Student_Computer</th>\n",
       "      <th>Student_Internet</th>\n",
       "      <th>Student_NumberEnrolments</th>\n",
       "      <th>Student_Responsible</th>\n",
       "      <th>...</th>\n",
       "      <th>SES%_Parish_FamilyNoClassicDwellings</th>\n",
       "      <th>SES%_Parish_CollectiveDwellings</th>\n",
       "      <th>SES%_Parish_IliteracyRate</th>\n",
       "      <th>SES%_Parish_PostSecondarySchoolingRate</th>\n",
       "      <th>SES%_Parish_PrimarySector</th>\n",
       "      <th>SES%_Parish_SecondarySector</th>\n",
       "      <th>SES%_Parish_UnemploymentRate</th>\n",
       "      <th>SubjectCod</th>\n",
       "      <th>Subject</th>\n",
       "      <th>FinalMark</th>\n",
       "    </tr>\n",
       "  </thead>\n",
       "  <tbody>\n",
       "    <tr>\n",
       "      <th>0</th>\n",
       "      <td>1897972</td>\n",
       "      <td>2017/2018</td>\n",
       "      <td>12</td>\n",
       "      <td>18</td>\n",
       "      <td>F</td>\n",
       "      <td>1</td>\n",
       "      <td>False</td>\n",
       "      <td>False</td>\n",
       "      <td>1</td>\n",
       "      <td>Mãe</td>\n",
       "      <td>...</td>\n",
       "      <td>0.000577</td>\n",
       "      <td>0.0</td>\n",
       "      <td>0.0443</td>\n",
       "      <td>0.116152</td>\n",
       "      <td>0.007697</td>\n",
       "      <td>0.430432</td>\n",
       "      <td>0.1864</td>\n",
       "      <td>22306</td>\n",
       "      <td>Português</td>\n",
       "      <td>10.0</td>\n",
       "    </tr>\n",
       "    <tr>\n",
       "      <th>1</th>\n",
       "      <td>1898139</td>\n",
       "      <td>2017/2018</td>\n",
       "      <td>12</td>\n",
       "      <td>17</td>\n",
       "      <td>M</td>\n",
       "      <td>1</td>\n",
       "      <td>False</td>\n",
       "      <td>False</td>\n",
       "      <td>1</td>\n",
       "      <td>Mãe</td>\n",
       "      <td>...</td>\n",
       "      <td>0.000577</td>\n",
       "      <td>0.0</td>\n",
       "      <td>0.0443</td>\n",
       "      <td>0.116152</td>\n",
       "      <td>0.007697</td>\n",
       "      <td>0.430432</td>\n",
       "      <td>0.1864</td>\n",
       "      <td>22216</td>\n",
       "      <td>Língua Estrangeira I - Inglês</td>\n",
       "      <td>10.0</td>\n",
       "    </tr>\n",
       "    <tr>\n",
       "      <th>2</th>\n",
       "      <td>1900750</td>\n",
       "      <td>2017/2018</td>\n",
       "      <td>12</td>\n",
       "      <td>17</td>\n",
       "      <td>M</td>\n",
       "      <td>1</td>\n",
       "      <td>False</td>\n",
       "      <td>False</td>\n",
       "      <td>1</td>\n",
       "      <td>Mãe</td>\n",
       "      <td>...</td>\n",
       "      <td>0.000577</td>\n",
       "      <td>0.0</td>\n",
       "      <td>0.0443</td>\n",
       "      <td>0.116152</td>\n",
       "      <td>0.007697</td>\n",
       "      <td>0.430432</td>\n",
       "      <td>0.1864</td>\n",
       "      <td>22222</td>\n",
       "      <td>Língua Estrangeira III - Espanhol</td>\n",
       "      <td>19.0</td>\n",
       "    </tr>\n",
       "    <tr>\n",
       "      <th>3</th>\n",
       "      <td>1889914</td>\n",
       "      <td>2017/2018</td>\n",
       "      <td>12</td>\n",
       "      <td>17</td>\n",
       "      <td>F</td>\n",
       "      <td>1</td>\n",
       "      <td>False</td>\n",
       "      <td>False</td>\n",
       "      <td>1</td>\n",
       "      <td>Mãe</td>\n",
       "      <td>...</td>\n",
       "      <td>0.000577</td>\n",
       "      <td>0.0</td>\n",
       "      <td>0.0443</td>\n",
       "      <td>0.116152</td>\n",
       "      <td>0.007697</td>\n",
       "      <td>0.430432</td>\n",
       "      <td>0.1864</td>\n",
       "      <td>46105</td>\n",
       "      <td>Matemática A</td>\n",
       "      <td>10.0</td>\n",
       "    </tr>\n",
       "    <tr>\n",
       "      <th>4</th>\n",
       "      <td>1889914</td>\n",
       "      <td>2017/2018</td>\n",
       "      <td>12</td>\n",
       "      <td>17</td>\n",
       "      <td>F</td>\n",
       "      <td>1</td>\n",
       "      <td>False</td>\n",
       "      <td>False</td>\n",
       "      <td>1</td>\n",
       "      <td>Mãe</td>\n",
       "      <td>...</td>\n",
       "      <td>0.000577</td>\n",
       "      <td>0.0</td>\n",
       "      <td>0.0443</td>\n",
       "      <td>0.116152</td>\n",
       "      <td>0.007697</td>\n",
       "      <td>0.430432</td>\n",
       "      <td>0.1864</td>\n",
       "      <td>22306</td>\n",
       "      <td>Português</td>\n",
       "      <td>13.0</td>\n",
       "    </tr>\n",
       "  </tbody>\n",
       "</table>\n",
       "<p>5 rows × 46 columns</p>\n",
       "</div>"
      ],
      "text/plain": [
       "   Student_ID School_Year  Academic_Year  Student_Age Student_Gender  \\\n",
       "0     1897972   2017/2018             12           18              F   \n",
       "1     1898139   2017/2018             12           17              M   \n",
       "2     1900750   2017/2018             12           17              M   \n",
       "3     1889914   2017/2018             12           17              F   \n",
       "4     1889914   2017/2018             12           17              F   \n",
       "\n",
       "   Father_Nationality  Student_Computer  Student_Internet  \\\n",
       "0                   1             False             False   \n",
       "1                   1             False             False   \n",
       "2                   1             False             False   \n",
       "3                   1             False             False   \n",
       "4                   1             False             False   \n",
       "\n",
       "   Student_NumberEnrolments Student_Responsible  ...  \\\n",
       "0                         1                 Mãe  ...   \n",
       "1                         1                 Mãe  ...   \n",
       "2                         1                 Mãe  ...   \n",
       "3                         1                 Mãe  ...   \n",
       "4                         1                 Mãe  ...   \n",
       "\n",
       "   SES%_Parish_FamilyNoClassicDwellings  SES%_Parish_CollectiveDwellings  \\\n",
       "0                              0.000577                              0.0   \n",
       "1                              0.000577                              0.0   \n",
       "2                              0.000577                              0.0   \n",
       "3                              0.000577                              0.0   \n",
       "4                              0.000577                              0.0   \n",
       "\n",
       "   SES%_Parish_IliteracyRate  SES%_Parish_PostSecondarySchoolingRate  \\\n",
       "0                     0.0443                                0.116152   \n",
       "1                     0.0443                                0.116152   \n",
       "2                     0.0443                                0.116152   \n",
       "3                     0.0443                                0.116152   \n",
       "4                     0.0443                                0.116152   \n",
       "\n",
       "   SES%_Parish_PrimarySector  SES%_Parish_SecondarySector  \\\n",
       "0                   0.007697                     0.430432   \n",
       "1                   0.007697                     0.430432   \n",
       "2                   0.007697                     0.430432   \n",
       "3                   0.007697                     0.430432   \n",
       "4                   0.007697                     0.430432   \n",
       "\n",
       "  SES%_Parish_UnemploymentRate  SubjectCod                            Subject  \\\n",
       "0                       0.1864       22306                          Português   \n",
       "1                       0.1864       22216      Língua Estrangeira I - Inglês   \n",
       "2                       0.1864       22222  Língua Estrangeira III - Espanhol   \n",
       "3                       0.1864       46105                       Matemática A   \n",
       "4                       0.1864       22306                          Português   \n",
       "\n",
       "   FinalMark  \n",
       "0       10.0  \n",
       "1       10.0  \n",
       "2       19.0  \n",
       "3       10.0  \n",
       "4       13.0  \n",
       "\n",
       "[5 rows x 46 columns]"
      ]
     },
     "execution_count": 3,
     "metadata": {},
     "output_type": "execute_result"
    }
   ],
   "source": [
    "df.head()"
   ]
  },
  {
   "cell_type": "code",
   "execution_count": 4,
   "metadata": {},
   "outputs": [
    {
     "data": {
      "text/plain": [
       "(96348, 46)"
      ]
     },
     "execution_count": 4,
     "metadata": {},
     "output_type": "execute_result"
    }
   ],
   "source": [
    "df.shape"
   ]
  },
  {
   "cell_type": "raw",
   "metadata": {},
   "source": [
    "df.columns\n",
    "df.info()"
   ]
  },
  {
   "cell_type": "code",
   "execution_count": 5,
   "metadata": {},
   "outputs": [],
   "source": [
    "df=df.astype({'School_Year': str})\n"
   ]
  },
  {
   "cell_type": "markdown",
   "metadata": {},
   "source": [
    "## Academic_Year Dummies"
   ]
  },
  {
   "cell_type": "code",
   "execution_count": 6,
   "metadata": {},
   "outputs": [
    {
     "data": {
      "text/plain": [
       "array([12, 10, 11,  1], dtype=int64)"
      ]
     },
     "execution_count": 6,
     "metadata": {},
     "output_type": "execute_result"
    }
   ],
   "source": [
    "df['Academic_Year'].unique()"
   ]
  },
  {
   "cell_type": "code",
   "execution_count": 7,
   "metadata": {},
   "outputs": [],
   "source": [
    "df=df[df.Academic_Year != 1]"
   ]
  },
  {
   "cell_type": "code",
   "execution_count": 8,
   "metadata": {},
   "outputs": [
    {
     "data": {
      "text/plain": [
       "array([12, 10, 11], dtype=int64)"
      ]
     },
     "execution_count": 8,
     "metadata": {},
     "output_type": "execute_result"
    }
   ],
   "source": [
    "df['Academic_Year'].unique()"
   ]
  },
  {
   "cell_type": "code",
   "execution_count": 9,
   "metadata": {},
   "outputs": [],
   "source": [
    "ind_AcademicYear = pd.get_dummies(df['Academic_Year'], prefix='AcYear')"
   ]
  },
  {
   "cell_type": "code",
   "execution_count": 10,
   "metadata": {},
   "outputs": [
    {
     "data": {
      "text/html": [
       "<div>\n",
       "<style scoped>\n",
       "    .dataframe tbody tr th:only-of-type {\n",
       "        vertical-align: middle;\n",
       "    }\n",
       "\n",
       "    .dataframe tbody tr th {\n",
       "        vertical-align: top;\n",
       "    }\n",
       "\n",
       "    .dataframe thead th {\n",
       "        text-align: right;\n",
       "    }\n",
       "</style>\n",
       "<table border=\"1\" class=\"dataframe\">\n",
       "  <thead>\n",
       "    <tr style=\"text-align: right;\">\n",
       "      <th></th>\n",
       "      <th>AcYear_10</th>\n",
       "      <th>AcYear_11</th>\n",
       "      <th>AcYear_12</th>\n",
       "    </tr>\n",
       "  </thead>\n",
       "  <tbody>\n",
       "    <tr>\n",
       "      <th>0</th>\n",
       "      <td>0</td>\n",
       "      <td>0</td>\n",
       "      <td>1</td>\n",
       "    </tr>\n",
       "    <tr>\n",
       "      <th>1</th>\n",
       "      <td>0</td>\n",
       "      <td>0</td>\n",
       "      <td>1</td>\n",
       "    </tr>\n",
       "    <tr>\n",
       "      <th>2</th>\n",
       "      <td>0</td>\n",
       "      <td>0</td>\n",
       "      <td>1</td>\n",
       "    </tr>\n",
       "    <tr>\n",
       "      <th>3</th>\n",
       "      <td>0</td>\n",
       "      <td>0</td>\n",
       "      <td>1</td>\n",
       "    </tr>\n",
       "    <tr>\n",
       "      <th>4</th>\n",
       "      <td>0</td>\n",
       "      <td>0</td>\n",
       "      <td>1</td>\n",
       "    </tr>\n",
       "  </tbody>\n",
       "</table>\n",
       "</div>"
      ],
      "text/plain": [
       "   AcYear_10  AcYear_11  AcYear_12\n",
       "0          0          0          1\n",
       "1          0          0          1\n",
       "2          0          0          1\n",
       "3          0          0          1\n",
       "4          0          0          1"
      ]
     },
     "execution_count": 10,
     "metadata": {},
     "output_type": "execute_result"
    }
   ],
   "source": [
    "ind_AcademicYear.head()"
   ]
  },
  {
   "cell_type": "code",
   "execution_count": 11,
   "metadata": {},
   "outputs": [],
   "source": [
    "ind_AcademicYear1 = ind_AcademicYear.drop('AcYear_10', axis=1)"
   ]
  },
  {
   "cell_type": "code",
   "execution_count": 12,
   "metadata": {},
   "outputs": [],
   "source": [
    "df1 = pd.concat([ind_AcademicYear1, df], axis=1)"
   ]
  },
  {
   "cell_type": "code",
   "execution_count": 13,
   "metadata": {},
   "outputs": [],
   "source": [
    "df=df1.drop('Academic_Year', axis=1)"
   ]
  },
  {
   "cell_type": "raw",
   "metadata": {},
   "source": [
    "df.info()"
   ]
  },
  {
   "cell_type": "markdown",
   "metadata": {},
   "source": [
    "## Student Age : N_Retentions"
   ]
  },
  {
   "cell_type": "code",
   "execution_count": 14,
   "metadata": {},
   "outputs": [
    {
     "data": {
      "text/plain": [
       "array([18, 17, 15, 16, 19, 14, 20, 21], dtype=int64)"
      ]
     },
     "execution_count": 14,
     "metadata": {},
     "output_type": "execute_result"
    }
   ],
   "source": [
    "df['Student_Age'].unique()"
   ]
  },
  {
   "cell_type": "code",
   "execution_count": 15,
   "metadata": {},
   "outputs": [],
   "source": [
    "df=df1\n",
    "df['N_Retentions']=df.apply(lambda row:row.Student_Age - row.Academic_Year -5, axis=1)"
   ]
  },
  {
   "cell_type": "raw",
   "metadata": {},
   "source": [
    "df.info()"
   ]
  },
  {
   "cell_type": "code",
   "execution_count": 16,
   "metadata": {},
   "outputs": [
    {
     "data": {
      "text/plain": [
       "array([ 1,  0, -1,  2,  3,  4], dtype=int64)"
      ]
     },
     "execution_count": 16,
     "metadata": {},
     "output_type": "execute_result"
    }
   ],
   "source": [
    "df['N_Retentions'].unique()"
   ]
  },
  {
   "cell_type": "code",
   "execution_count": 17,
   "metadata": {},
   "outputs": [],
   "source": [
    "df['N_Retentions']= df['N_Retentions'].replace(-1,0)"
   ]
  },
  {
   "cell_type": "code",
   "execution_count": 18,
   "metadata": {},
   "outputs": [
    {
     "data": {
      "text/plain": [
       "array([1, 0, 2, 3, 4], dtype=int64)"
      ]
     },
     "execution_count": 18,
     "metadata": {},
     "output_type": "execute_result"
    }
   ],
   "source": [
    "df['N_Retentions'].unique()"
   ]
  },
  {
   "cell_type": "code",
   "execution_count": 19,
   "metadata": {},
   "outputs": [],
   "source": [
    "N_Retentions=df['N_Retentions'].unique()"
   ]
  },
  {
   "cell_type": "code",
   "execution_count": 20,
   "metadata": {},
   "outputs": [
    {
     "name": "stdout",
     "output_type": "stream",
     "text": [
      "Shape per number of retentions:\n",
      "\n",
      "1 \t (12513, 49)\n",
      "0 \t (81212, 49)\n",
      "2 \t (2187, 49)\n",
      "3 \t (356, 49)\n",
      "4 \t (78, 49)\n"
     ]
    }
   ],
   "source": [
    "print(\"Shape per number of retentions:\\n\")\n",
    "for i in N_Retentions:\n",
    "    Retention_i= df[df['N_Retentions']== i]\n",
    "    print(i, '\\t', Retention_i.shape)"
   ]
  },
  {
   "cell_type": "code",
   "execution_count": 21,
   "metadata": {},
   "outputs": [],
   "source": [
    "df=df.drop(['Academic_Year', 'Student_Age'], axis=1)"
   ]
  },
  {
   "cell_type": "markdown",
   "metadata": {},
   "source": [
    "# Student_Gender Dummy"
   ]
  },
  {
   "cell_type": "code",
   "execution_count": 22,
   "metadata": {},
   "outputs": [
    {
     "data": {
      "text/plain": [
       "array(['F', 'M'], dtype=object)"
      ]
     },
     "execution_count": 22,
     "metadata": {},
     "output_type": "execute_result"
    }
   ],
   "source": [
    "df['Student_Gender'].unique()"
   ]
  },
  {
   "cell_type": "code",
   "execution_count": 23,
   "metadata": {},
   "outputs": [],
   "source": [
    "ind_Student_Gender = pd.get_dummies(df['Student_Gender'], prefix='Std_Gender')"
   ]
  },
  {
   "cell_type": "code",
   "execution_count": 24,
   "metadata": {},
   "outputs": [
    {
     "data": {
      "text/html": [
       "<div>\n",
       "<style scoped>\n",
       "    .dataframe tbody tr th:only-of-type {\n",
       "        vertical-align: middle;\n",
       "    }\n",
       "\n",
       "    .dataframe tbody tr th {\n",
       "        vertical-align: top;\n",
       "    }\n",
       "\n",
       "    .dataframe thead th {\n",
       "        text-align: right;\n",
       "    }\n",
       "</style>\n",
       "<table border=\"1\" class=\"dataframe\">\n",
       "  <thead>\n",
       "    <tr style=\"text-align: right;\">\n",
       "      <th></th>\n",
       "      <th>Std_Gender_F</th>\n",
       "      <th>Std_Gender_M</th>\n",
       "    </tr>\n",
       "  </thead>\n",
       "  <tbody>\n",
       "    <tr>\n",
       "      <th>0</th>\n",
       "      <td>1</td>\n",
       "      <td>0</td>\n",
       "    </tr>\n",
       "    <tr>\n",
       "      <th>1</th>\n",
       "      <td>0</td>\n",
       "      <td>1</td>\n",
       "    </tr>\n",
       "    <tr>\n",
       "      <th>2</th>\n",
       "      <td>0</td>\n",
       "      <td>1</td>\n",
       "    </tr>\n",
       "    <tr>\n",
       "      <th>3</th>\n",
       "      <td>1</td>\n",
       "      <td>0</td>\n",
       "    </tr>\n",
       "    <tr>\n",
       "      <th>4</th>\n",
       "      <td>1</td>\n",
       "      <td>0</td>\n",
       "    </tr>\n",
       "  </tbody>\n",
       "</table>\n",
       "</div>"
      ],
      "text/plain": [
       "   Std_Gender_F  Std_Gender_M\n",
       "0             1             0\n",
       "1             0             1\n",
       "2             0             1\n",
       "3             1             0\n",
       "4             1             0"
      ]
     },
     "execution_count": 24,
     "metadata": {},
     "output_type": "execute_result"
    }
   ],
   "source": [
    "ind_Student_Gender.head()"
   ]
  },
  {
   "cell_type": "code",
   "execution_count": 25,
   "metadata": {},
   "outputs": [],
   "source": [
    "ind_Student_Gender1 = ind_Student_Gender.drop('Std_Gender_M', axis=1)"
   ]
  },
  {
   "cell_type": "code",
   "execution_count": 26,
   "metadata": {},
   "outputs": [],
   "source": [
    "df1 = pd.concat([ind_Student_Gender1, df], axis=1)"
   ]
  },
  {
   "cell_type": "code",
   "execution_count": 27,
   "metadata": {},
   "outputs": [],
   "source": [
    "df=df1.drop('Student_Gender', axis=1)"
   ]
  },
  {
   "cell_type": "raw",
   "metadata": {},
   "source": [
    "df.info()"
   ]
  },
  {
   "cell_type": "markdown",
   "metadata": {},
   "source": [
    "# Father_Nationality Dummies"
   ]
  },
  {
   "cell_type": "code",
   "execution_count": 28,
   "metadata": {},
   "outputs": [
    {
     "data": {
      "text/plain": [
       "array([1, 4, 3, 5, 6, 2, 7], dtype=int64)"
      ]
     },
     "execution_count": 28,
     "metadata": {},
     "output_type": "execute_result"
    }
   ],
   "source": [
    "df['Father_Nationality'].unique()"
   ]
  },
  {
   "cell_type": "code",
   "execution_count": 29,
   "metadata": {},
   "outputs": [
    {
     "name": "stdout",
     "output_type": "stream",
     "text": [
      "Shape per number of retentions:\n",
      "\n",
      "1 \t (93315, 47)\n",
      "4 \t (687, 47)\n",
      "3 \t (1028, 47)\n",
      "5 \t (601, 47)\n",
      "6 \t (167, 47)\n",
      "2 \t (469, 47)\n",
      "7 \t (79, 47)\n"
     ]
    }
   ],
   "source": [
    "Father_Nationality=df['Father_Nationality'].unique()\n",
    "print(\"Shape per number of retentions:\\n\")\n",
    "for i in Father_Nationality:\n",
    "    Father_Nationality_i = df[df['Father_Nationality']== i]\n",
    "    print(i, '\\t', Father_Nationality_i.shape)"
   ]
  },
  {
   "cell_type": "raw",
   "metadata": {},
   "source": [
    "Nationality classes:\n",
    "1\tPortugal\n",
    "2\tBrasil\n",
    "3\tÁfrica\n",
    "4\tEuropa Leste\n",
    "5\tOcidente desenvolvido\n",
    "6\tChina\n",
    "7\tOutros"
   ]
  },
  {
   "cell_type": "code",
   "execution_count": 30,
   "metadata": {},
   "outputs": [
    {
     "data": {
      "text/plain": [
       "array(['PT', 'EEUR', 'AFR', 'RICH', 'CHN', 'BR', 'OTHERS'], dtype=object)"
      ]
     },
     "execution_count": 30,
     "metadata": {},
     "output_type": "execute_result"
    }
   ],
   "source": [
    "df['Father_Nationality']= df['Father_Nationality'].replace([1, 2, 3, 4, 5, 6, 7],['PT', 'BR', 'AFR', 'EEUR',\n",
    "                                                                                  'RICH', 'CHN', 'OTHERS'])\n",
    "df['Father_Nationality'].unique()"
   ]
  },
  {
   "cell_type": "code",
   "execution_count": 31,
   "metadata": {},
   "outputs": [
    {
     "data": {
      "text/html": [
       "<div>\n",
       "<style scoped>\n",
       "    .dataframe tbody tr th:only-of-type {\n",
       "        vertical-align: middle;\n",
       "    }\n",
       "\n",
       "    .dataframe tbody tr th {\n",
       "        vertical-align: top;\n",
       "    }\n",
       "\n",
       "    .dataframe thead th {\n",
       "        text-align: right;\n",
       "    }\n",
       "</style>\n",
       "<table border=\"1\" class=\"dataframe\">\n",
       "  <thead>\n",
       "    <tr style=\"text-align: right;\">\n",
       "      <th></th>\n",
       "      <th>FTH_Nation_AFR</th>\n",
       "      <th>FTH_Nation_BR</th>\n",
       "      <th>FTH_Nation_CHN</th>\n",
       "      <th>FTH_Nation_EEUR</th>\n",
       "      <th>FTH_Nation_OTHERS</th>\n",
       "      <th>FTH_Nation_PT</th>\n",
       "      <th>FTH_Nation_RICH</th>\n",
       "    </tr>\n",
       "  </thead>\n",
       "  <tbody>\n",
       "    <tr>\n",
       "      <th>0</th>\n",
       "      <td>0</td>\n",
       "      <td>0</td>\n",
       "      <td>0</td>\n",
       "      <td>0</td>\n",
       "      <td>0</td>\n",
       "      <td>1</td>\n",
       "      <td>0</td>\n",
       "    </tr>\n",
       "    <tr>\n",
       "      <th>1</th>\n",
       "      <td>0</td>\n",
       "      <td>0</td>\n",
       "      <td>0</td>\n",
       "      <td>0</td>\n",
       "      <td>0</td>\n",
       "      <td>1</td>\n",
       "      <td>0</td>\n",
       "    </tr>\n",
       "    <tr>\n",
       "      <th>2</th>\n",
       "      <td>0</td>\n",
       "      <td>0</td>\n",
       "      <td>0</td>\n",
       "      <td>0</td>\n",
       "      <td>0</td>\n",
       "      <td>1</td>\n",
       "      <td>0</td>\n",
       "    </tr>\n",
       "    <tr>\n",
       "      <th>3</th>\n",
       "      <td>0</td>\n",
       "      <td>0</td>\n",
       "      <td>0</td>\n",
       "      <td>0</td>\n",
       "      <td>0</td>\n",
       "      <td>1</td>\n",
       "      <td>0</td>\n",
       "    </tr>\n",
       "    <tr>\n",
       "      <th>4</th>\n",
       "      <td>0</td>\n",
       "      <td>0</td>\n",
       "      <td>0</td>\n",
       "      <td>0</td>\n",
       "      <td>0</td>\n",
       "      <td>1</td>\n",
       "      <td>0</td>\n",
       "    </tr>\n",
       "  </tbody>\n",
       "</table>\n",
       "</div>"
      ],
      "text/plain": [
       "   FTH_Nation_AFR  FTH_Nation_BR  FTH_Nation_CHN  FTH_Nation_EEUR  \\\n",
       "0               0              0               0                0   \n",
       "1               0              0               0                0   \n",
       "2               0              0               0                0   \n",
       "3               0              0               0                0   \n",
       "4               0              0               0                0   \n",
       "\n",
       "   FTH_Nation_OTHERS  FTH_Nation_PT  FTH_Nation_RICH  \n",
       "0                  0              1                0  \n",
       "1                  0              1                0  \n",
       "2                  0              1                0  \n",
       "3                  0              1                0  \n",
       "4                  0              1                0  "
      ]
     },
     "execution_count": 31,
     "metadata": {},
     "output_type": "execute_result"
    }
   ],
   "source": [
    "ind_Father_Nationality = pd.get_dummies(df['Father_Nationality'], prefix='FTH_Nation')\n",
    "ind_Father_Nationality.head()"
   ]
  },
  {
   "cell_type": "code",
   "execution_count": 32,
   "metadata": {},
   "outputs": [],
   "source": [
    "ind_Father_Nationality1 = ind_Father_Nationality.drop('FTH_Nation_PT', axis=1)\n",
    "df1 = pd.concat([ind_Father_Nationality1, df], axis=1)\n",
    "df=df1.drop('Father_Nationality', axis=1)"
   ]
  },
  {
   "cell_type": "raw",
   "metadata": {},
   "source": [
    "df.info()"
   ]
  },
  {
   "cell_type": "markdown",
   "metadata": {},
   "source": [
    "# Student_Responsible Dummies"
   ]
  },
  {
   "cell_type": "code",
   "execution_count": 33,
   "metadata": {},
   "outputs": [
    {
     "data": {
      "text/plain": [
       "array(['Mãe', 'Pai', 'Irmão', 'Próprio', 'Tia', 'Irmã', 'Avó', 'Avô',\n",
       "       'Tio', 'Tutor', nan], dtype=object)"
      ]
     },
     "execution_count": 33,
     "metadata": {},
     "output_type": "execute_result"
    }
   ],
   "source": [
    "df['Student_Responsible'].unique()"
   ]
  },
  {
   "cell_type": "code",
   "execution_count": 34,
   "metadata": {},
   "outputs": [
    {
     "name": "stdout",
     "output_type": "stream",
     "text": [
      "Shape per number of responsibles:\n",
      "\n",
      "Mãe \t (80135, 52)\n",
      "Pai \t (11782, 52)\n",
      "Irmão \t (151, 52)\n",
      "Próprio \t (2852, 52)\n",
      "Tia \t (333, 52)\n",
      "Irmã \t (277, 52)\n",
      "Avó \t (429, 52)\n",
      "Avô \t (256, 52)\n",
      "Tio \t (76, 52)\n",
      "Tutor \t (52, 52)\n",
      "nan \t (0, 52)\n"
     ]
    }
   ],
   "source": [
    "Student_Responsible=df['Student_Responsible'].unique()\n",
    "print(\"Shape per number of responsibles:\\n\")\n",
    "for i in Student_Responsible:\n",
    "    Student_Responsible_i = df[df['Student_Responsible']== i]\n",
    "    print(i, '\\t', Student_Responsible_i.shape)"
   ]
  },
  {
   "cell_type": "code",
   "execution_count": 35,
   "metadata": {},
   "outputs": [
    {
     "data": {
      "text/plain": [
       "array(['Mother', 'Father', 'CloseRelative', 'Himself', 'LegalResp', nan],\n",
       "      dtype=object)"
      ]
     },
     "execution_count": 35,
     "metadata": {},
     "output_type": "execute_result"
    }
   ],
   "source": [
    "df['Student_Responsible']= df['Student_Responsible'].replace(['Mãe','Pai','Irmão', 'Próprio','Tia', 'Irmã', 'Avó', 'Avô',\n",
    "                                                              'Tio', 'Tutor'],['Mother','Father','CloseRelative', 'Himself',\n",
    "                                                                               'CloseRelative', 'CloseRelative',\n",
    "                                                                               'CloseRelative', 'CloseRelative',\n",
    "                                                              'CloseRelative', 'LegalResp'])\n",
    "df['Student_Responsible'].unique()"
   ]
  },
  {
   "cell_type": "code",
   "execution_count": 36,
   "metadata": {},
   "outputs": [
    {
     "name": "stdout",
     "output_type": "stream",
     "text": [
      "Shape per number of responsibles:\n",
      "\n",
      "Mother \t (80135, 52)\n",
      "Father \t (11782, 52)\n",
      "CloseRelative \t (1522, 52)\n",
      "Himself \t (2852, 52)\n",
      "LegalResp \t (52, 52)\n",
      "nan \t (0, 52)\n"
     ]
    }
   ],
   "source": [
    "Student_Responsible=df['Student_Responsible'].unique()\n",
    "print(\"Shape per number of responsibles:\\n\")\n",
    "for i in Student_Responsible:\n",
    "    Student_Responsible_i = df[df['Student_Responsible']== i]\n",
    "    print(i, '\\t', Student_Responsible_i.shape)"
   ]
  },
  {
   "cell_type": "code",
   "execution_count": 37,
   "metadata": {},
   "outputs": [
    {
     "data": {
      "text/plain": [
       "array(['Mother', 'Father', 'CloseRelative', 'Himself', 'LegalResp'],\n",
       "      dtype=object)"
      ]
     },
     "execution_count": 37,
     "metadata": {},
     "output_type": "execute_result"
    }
   ],
   "source": [
    "df['Student_Responsible'] = df['Student_Responsible'].fillna('Mother')\n",
    "df['Student_Responsible'].unique()"
   ]
  },
  {
   "cell_type": "code",
   "execution_count": 38,
   "metadata": {},
   "outputs": [
    {
     "data": {
      "text/html": [
       "<div>\n",
       "<style scoped>\n",
       "    .dataframe tbody tr th:only-of-type {\n",
       "        vertical-align: middle;\n",
       "    }\n",
       "\n",
       "    .dataframe tbody tr th {\n",
       "        vertical-align: top;\n",
       "    }\n",
       "\n",
       "    .dataframe thead th {\n",
       "        text-align: right;\n",
       "    }\n",
       "</style>\n",
       "<table border=\"1\" class=\"dataframe\">\n",
       "  <thead>\n",
       "    <tr style=\"text-align: right;\">\n",
       "      <th></th>\n",
       "      <th>STD_Resp_CloseRelative</th>\n",
       "      <th>STD_Resp_Father</th>\n",
       "      <th>STD_Resp_Himself</th>\n",
       "      <th>STD_Resp_LegalResp</th>\n",
       "      <th>STD_Resp_Mother</th>\n",
       "    </tr>\n",
       "  </thead>\n",
       "  <tbody>\n",
       "    <tr>\n",
       "      <th>0</th>\n",
       "      <td>0</td>\n",
       "      <td>0</td>\n",
       "      <td>0</td>\n",
       "      <td>0</td>\n",
       "      <td>1</td>\n",
       "    </tr>\n",
       "    <tr>\n",
       "      <th>1</th>\n",
       "      <td>0</td>\n",
       "      <td>0</td>\n",
       "      <td>0</td>\n",
       "      <td>0</td>\n",
       "      <td>1</td>\n",
       "    </tr>\n",
       "    <tr>\n",
       "      <th>2</th>\n",
       "      <td>0</td>\n",
       "      <td>0</td>\n",
       "      <td>0</td>\n",
       "      <td>0</td>\n",
       "      <td>1</td>\n",
       "    </tr>\n",
       "    <tr>\n",
       "      <th>3</th>\n",
       "      <td>0</td>\n",
       "      <td>0</td>\n",
       "      <td>0</td>\n",
       "      <td>0</td>\n",
       "      <td>1</td>\n",
       "    </tr>\n",
       "    <tr>\n",
       "      <th>4</th>\n",
       "      <td>0</td>\n",
       "      <td>0</td>\n",
       "      <td>0</td>\n",
       "      <td>0</td>\n",
       "      <td>1</td>\n",
       "    </tr>\n",
       "  </tbody>\n",
       "</table>\n",
       "</div>"
      ],
      "text/plain": [
       "   STD_Resp_CloseRelative  STD_Resp_Father  STD_Resp_Himself  \\\n",
       "0                       0                0                 0   \n",
       "1                       0                0                 0   \n",
       "2                       0                0                 0   \n",
       "3                       0                0                 0   \n",
       "4                       0                0                 0   \n",
       "\n",
       "   STD_Resp_LegalResp  STD_Resp_Mother  \n",
       "0                   0                1  \n",
       "1                   0                1  \n",
       "2                   0                1  \n",
       "3                   0                1  \n",
       "4                   0                1  "
      ]
     },
     "execution_count": 38,
     "metadata": {},
     "output_type": "execute_result"
    }
   ],
   "source": [
    "ind_Student_Responsible = pd.get_dummies(df['Student_Responsible'], prefix='STD_Resp')\n",
    "ind_Student_Responsible.head()"
   ]
  },
  {
   "cell_type": "code",
   "execution_count": 39,
   "metadata": {},
   "outputs": [],
   "source": [
    "ind_Student_Responsible1 = ind_Student_Responsible.drop('STD_Resp_Mother', axis=1)\n",
    "df1 = pd.concat([ind_Student_Responsible1, df], axis=1)\n",
    "df=df1.drop('Student_Responsible', axis=1)"
   ]
  },
  {
   "cell_type": "raw",
   "metadata": {},
   "source": [
    "df.info()"
   ]
  },
  {
   "cell_type": "markdown",
   "metadata": {},
   "source": [
    "# Boolean to dummy"
   ]
  },
  {
   "cell_type": "raw",
   "metadata": {},
   "source": [
    "Student_Computer;Student_Internet;Student_ActiveWorking; Student_Parish; Student_County;\n",
    "Teacher_TemporaryReplacement;Teacher_EducationSupport"
   ]
  },
  {
   "cell_type": "code",
   "execution_count": 40,
   "metadata": {},
   "outputs": [
    {
     "data": {
      "text/plain": [
       "array([ True, False])"
      ]
     },
     "execution_count": 40,
     "metadata": {},
     "output_type": "execute_result"
    }
   ],
   "source": [
    "df['Student_Parish'].unique()"
   ]
  },
  {
   "cell_type": "code",
   "execution_count": 41,
   "metadata": {},
   "outputs": [],
   "source": [
    "df.Student_Computer = df.Student_Computer.astype(np.uint8)\n",
    "df.Student_Internet = df.Student_Internet.astype(np.uint8)"
   ]
  },
  {
   "cell_type": "code",
   "execution_count": 42,
   "metadata": {},
   "outputs": [
    {
     "data": {
      "text/plain": [
       "array([0, 1], dtype=uint8)"
      ]
     },
     "execution_count": 42,
     "metadata": {},
     "output_type": "execute_result"
    }
   ],
   "source": [
    "df['Student_Computer'].unique()"
   ]
  },
  {
   "cell_type": "code",
   "execution_count": 43,
   "metadata": {},
   "outputs": [],
   "source": [
    "df.Student_ActiveWorking = df.Student_ActiveWorking.astype(np.uint8)\n",
    "df.Student_Parish = df.Student_Parish.astype(np.uint8)\n",
    "df.Student_County = df.Student_County.astype(np.uint8)\n",
    "df.Teacher_TemporaryReplacement = df.Teacher_TemporaryReplacement.astype(np.uint8)\n",
    "df.Teacher_EducationSupport = df.Teacher_EducationSupport.astype(np.uint8)"
   ]
  },
  {
   "cell_type": "raw",
   "metadata": {},
   "source": [
    "df.info()"
   ]
  },
  {
   "cell_type": "markdown",
   "metadata": {},
   "source": [
    "# Teacher_Gender dummy"
   ]
  },
  {
   "cell_type": "code",
   "execution_count": 44,
   "metadata": {},
   "outputs": [
    {
     "data": {
      "text/plain": [
       "array(['F', 'M'], dtype=object)"
      ]
     },
     "execution_count": 44,
     "metadata": {},
     "output_type": "execute_result"
    }
   ],
   "source": [
    "df['Teacher_Gender'].unique()"
   ]
  },
  {
   "cell_type": "code",
   "execution_count": 45,
   "metadata": {},
   "outputs": [],
   "source": [
    "ind_Teacher_Gender = pd.get_dummies(df['Teacher_Gender'], prefix='Tch_Gender')"
   ]
  },
  {
   "cell_type": "code",
   "execution_count": 46,
   "metadata": {},
   "outputs": [
    {
     "data": {
      "text/html": [
       "<div>\n",
       "<style scoped>\n",
       "    .dataframe tbody tr th:only-of-type {\n",
       "        vertical-align: middle;\n",
       "    }\n",
       "\n",
       "    .dataframe tbody tr th {\n",
       "        vertical-align: top;\n",
       "    }\n",
       "\n",
       "    .dataframe thead th {\n",
       "        text-align: right;\n",
       "    }\n",
       "</style>\n",
       "<table border=\"1\" class=\"dataframe\">\n",
       "  <thead>\n",
       "    <tr style=\"text-align: right;\">\n",
       "      <th></th>\n",
       "      <th>Tch_Gender_F</th>\n",
       "      <th>Tch_Gender_M</th>\n",
       "    </tr>\n",
       "  </thead>\n",
       "  <tbody>\n",
       "    <tr>\n",
       "      <th>0</th>\n",
       "      <td>1</td>\n",
       "      <td>0</td>\n",
       "    </tr>\n",
       "    <tr>\n",
       "      <th>1</th>\n",
       "      <td>1</td>\n",
       "      <td>0</td>\n",
       "    </tr>\n",
       "    <tr>\n",
       "      <th>2</th>\n",
       "      <td>1</td>\n",
       "      <td>0</td>\n",
       "    </tr>\n",
       "    <tr>\n",
       "      <th>3</th>\n",
       "      <td>1</td>\n",
       "      <td>0</td>\n",
       "    </tr>\n",
       "    <tr>\n",
       "      <th>4</th>\n",
       "      <td>1</td>\n",
       "      <td>0</td>\n",
       "    </tr>\n",
       "  </tbody>\n",
       "</table>\n",
       "</div>"
      ],
      "text/plain": [
       "   Tch_Gender_F  Tch_Gender_M\n",
       "0             1             0\n",
       "1             1             0\n",
       "2             1             0\n",
       "3             1             0\n",
       "4             1             0"
      ]
     },
     "execution_count": 46,
     "metadata": {},
     "output_type": "execute_result"
    }
   ],
   "source": [
    "ind_Teacher_Gender.head()"
   ]
  },
  {
   "cell_type": "code",
   "execution_count": 47,
   "metadata": {},
   "outputs": [],
   "source": [
    "ind_Teacher_Gender1 = ind_Teacher_Gender.drop('Tch_Gender_M', axis=1)"
   ]
  },
  {
   "cell_type": "code",
   "execution_count": 48,
   "metadata": {},
   "outputs": [],
   "source": [
    "df1 = pd.concat([ind_Teacher_Gender1, df], axis=1)"
   ]
  },
  {
   "cell_type": "code",
   "execution_count": 49,
   "metadata": {},
   "outputs": [],
   "source": [
    "df=df1.drop('Teacher_Gender', axis=1)"
   ]
  },
  {
   "cell_type": "raw",
   "metadata": {},
   "source": [
    "df.info()"
   ]
  },
  {
   "cell_type": "markdown",
   "metadata": {},
   "source": [
    "# Teacher_Step dummies"
   ]
  },
  {
   "cell_type": "code",
   "execution_count": 50,
   "metadata": {
    "scrolled": true
   },
   "outputs": [
    {
     "data": {
      "text/plain": [
       "array([ 0,  6,  1, 10,  3,  9,  4,  7,  8,  5,  2], dtype=int64)"
      ]
     },
     "execution_count": 50,
     "metadata": {},
     "output_type": "execute_result"
    }
   ],
   "source": [
    "df['Teacher_Step'].unique()"
   ]
  },
  {
   "cell_type": "code",
   "execution_count": 51,
   "metadata": {},
   "outputs": [
    {
     "name": "stdout",
     "output_type": "stream",
     "text": [
      "Shape per number of steps:\n",
      "\n",
      "0 \t (33731, 55)\n",
      "6 \t (6617, 55)\n",
      "1 \t (968, 55)\n",
      "10 \t (2138, 55)\n",
      "3 \t (9324, 55)\n",
      "9 \t (10237, 55)\n",
      "4 \t (10154, 55)\n",
      "7 \t (5323, 55)\n",
      "8 \t (11016, 55)\n",
      "5 \t (4143, 55)\n",
      "2 \t (2695, 55)\n"
     ]
    }
   ],
   "source": [
    "Teacher_Step=df['Teacher_Step'].unique()\n",
    "print(\"Shape per number of steps:\\n\")\n",
    "for i in Teacher_Step:\n",
    "    Teacher_Step_i = df[df['Teacher_Step']== i]\n",
    "    print(i, '\\t', Teacher_Step_i.shape)"
   ]
  },
  {
   "cell_type": "code",
   "execution_count": 52,
   "metadata": {},
   "outputs": [
    {
     "data": {
      "text/plain": [
       "array(['WITHOUT', '567', '1234', '8910'], dtype=object)"
      ]
     },
     "execution_count": 52,
     "metadata": {},
     "output_type": "execute_result"
    }
   ],
   "source": [
    "df['Teacher_Step']= df['Teacher_Step'].replace([ 0,1,2,3,4,5,6,7,8,9,10],['WITHOUT','1234','1234', '1234',\n",
    "                                                                               '1234', '567',\n",
    "                                                                               '567', '567',\n",
    "                                                              '8910', '8910', '8910'])\n",
    "df['Teacher_Step'].unique()"
   ]
  },
  {
   "cell_type": "code",
   "execution_count": 53,
   "metadata": {},
   "outputs": [
    {
     "name": "stdout",
     "output_type": "stream",
     "text": [
      "Shape per number of steps:\n",
      "\n",
      "WITHOUT \t (33731, 55)\n",
      "567 \t (16083, 55)\n",
      "1234 \t (23141, 55)\n",
      "8910 \t (23391, 55)\n"
     ]
    }
   ],
   "source": [
    "Teacher_Step=df['Teacher_Step'].unique()\n",
    "print(\"Shape per number of steps:\\n\")\n",
    "for i in Teacher_Step:\n",
    "    Teacher_Step_i = df[df['Teacher_Step']== i]\n",
    "    print(i, '\\t', Teacher_Step_i.shape)"
   ]
  },
  {
   "cell_type": "code",
   "execution_count": 54,
   "metadata": {},
   "outputs": [],
   "source": [
    "ind_Teacher_Step = pd.get_dummies(df['Teacher_Step'], prefix='Tch_Step')"
   ]
  },
  {
   "cell_type": "code",
   "execution_count": 55,
   "metadata": {},
   "outputs": [
    {
     "data": {
      "text/html": [
       "<div>\n",
       "<style scoped>\n",
       "    .dataframe tbody tr th:only-of-type {\n",
       "        vertical-align: middle;\n",
       "    }\n",
       "\n",
       "    .dataframe tbody tr th {\n",
       "        vertical-align: top;\n",
       "    }\n",
       "\n",
       "    .dataframe thead th {\n",
       "        text-align: right;\n",
       "    }\n",
       "</style>\n",
       "<table border=\"1\" class=\"dataframe\">\n",
       "  <thead>\n",
       "    <tr style=\"text-align: right;\">\n",
       "      <th></th>\n",
       "      <th>Tch_Step_1234</th>\n",
       "      <th>Tch_Step_567</th>\n",
       "      <th>Tch_Step_8910</th>\n",
       "      <th>Tch_Step_WITHOUT</th>\n",
       "    </tr>\n",
       "  </thead>\n",
       "  <tbody>\n",
       "    <tr>\n",
       "      <th>0</th>\n",
       "      <td>0</td>\n",
       "      <td>0</td>\n",
       "      <td>0</td>\n",
       "      <td>1</td>\n",
       "    </tr>\n",
       "    <tr>\n",
       "      <th>1</th>\n",
       "      <td>0</td>\n",
       "      <td>1</td>\n",
       "      <td>0</td>\n",
       "      <td>0</td>\n",
       "    </tr>\n",
       "    <tr>\n",
       "      <th>2</th>\n",
       "      <td>1</td>\n",
       "      <td>0</td>\n",
       "      <td>0</td>\n",
       "      <td>0</td>\n",
       "    </tr>\n",
       "    <tr>\n",
       "      <th>3</th>\n",
       "      <td>0</td>\n",
       "      <td>0</td>\n",
       "      <td>0</td>\n",
       "      <td>1</td>\n",
       "    </tr>\n",
       "    <tr>\n",
       "      <th>4</th>\n",
       "      <td>0</td>\n",
       "      <td>0</td>\n",
       "      <td>0</td>\n",
       "      <td>1</td>\n",
       "    </tr>\n",
       "  </tbody>\n",
       "</table>\n",
       "</div>"
      ],
      "text/plain": [
       "   Tch_Step_1234  Tch_Step_567  Tch_Step_8910  Tch_Step_WITHOUT\n",
       "0              0             0              0                 1\n",
       "1              0             1              0                 0\n",
       "2              1             0              0                 0\n",
       "3              0             0              0                 1\n",
       "4              0             0              0                 1"
      ]
     },
     "execution_count": 55,
     "metadata": {},
     "output_type": "execute_result"
    }
   ],
   "source": [
    "ind_Teacher_Step.head()"
   ]
  },
  {
   "cell_type": "code",
   "execution_count": 56,
   "metadata": {},
   "outputs": [],
   "source": [
    "ind_Teacher_Step1 = ind_Teacher_Step.drop('Tch_Step_WITHOUT', axis=1)\n",
    "df1 = pd.concat([ind_Teacher_Step1, df], axis=1)"
   ]
  },
  {
   "cell_type": "code",
   "execution_count": 57,
   "metadata": {},
   "outputs": [],
   "source": [
    "df=df1.drop('Teacher_Step', axis=1)"
   ]
  },
  {
   "cell_type": "raw",
   "metadata": {},
   "source": [
    "df.info()"
   ]
  },
  {
   "cell_type": "raw",
   "metadata": {},
   "source": [
    "Teacher_Age; Teacher_TeachingDedicatedTime; Teacher_NoTeachingDedicatedTime"
   ]
  },
  {
   "cell_type": "code",
   "execution_count": 58,
   "metadata": {},
   "outputs": [
    {
     "data": {
      "text/plain": [
       "array([55, 53, 39, 54, 63, 59, 47, 58, 60, 48, 49, 52, 51, 61, 42, 57, 64,\n",
       "       56, 50, 38, 62, 44, 37, 43, 40, 45, 41, 46, 65, 66, 34, 67, 36, 25,\n",
       "       35, 32, 33, 26], dtype=int64)"
      ]
     },
     "execution_count": 58,
     "metadata": {},
     "output_type": "execute_result"
    }
   ],
   "source": [
    "df['Teacher_Age'].unique()"
   ]
  },
  {
   "cell_type": "code",
   "execution_count": 59,
   "metadata": {},
   "outputs": [
    {
     "data": {
      "text/plain": [
       "array([16, 18,  8, 20, 14, 22, 12, 17,  4, 19, 21, 15,  6, 11, 13,  0,  3,\n",
       "       10,  9,  5,  7,  2], dtype=int64)"
      ]
     },
     "execution_count": 59,
     "metadata": {},
     "output_type": "execute_result"
    }
   ],
   "source": [
    "df['Teacher_TeachingDedicatedTime'].unique()"
   ]
  },
  {
   "cell_type": "code",
   "execution_count": 60,
   "metadata": {},
   "outputs": [
    {
     "data": {
      "text/plain": [
       "array([ 6,  7,  9,  2, 10,  1, 11, 13,  3,  5,  8,  0,  4, 12, 18, 16, 15,\n",
       "       17, 14, 40, 23, 21, 22, 19, 38, 36, 20], dtype=int64)"
      ]
     },
     "execution_count": 60,
     "metadata": {},
     "output_type": "execute_result"
    }
   ],
   "source": [
    "df['Teacher_NoTeachingDedicatedTime'].unique()"
   ]
  },
  {
   "cell_type": "markdown",
   "metadata": {},
   "source": [
    "# Teacher_CodeAcademicEducation and Teacher_AcademicEducation dummies"
   ]
  },
  {
   "cell_type": "code",
   "execution_count": 61,
   "metadata": {},
   "outputs": [
    {
     "data": {
      "text/plain": [
       "array([2, 1, 3, 4], dtype=int64)"
      ]
     },
     "execution_count": 61,
     "metadata": {},
     "output_type": "execute_result"
    }
   ],
   "source": [
    "df['Teacher_CodeAcademicEducation'].unique()"
   ]
  },
  {
   "cell_type": "code",
   "execution_count": 62,
   "metadata": {},
   "outputs": [
    {
     "data": {
      "text/plain": [
       "array(['Licenciatura', 'Doutoramento/Mestrado', 'Bacharelato', 'Outra'],\n",
       "      dtype=object)"
      ]
     },
     "execution_count": 62,
     "metadata": {},
     "output_type": "execute_result"
    }
   ],
   "source": [
    "df['Teacher_AcademicEducation'].unique()"
   ]
  },
  {
   "cell_type": "code",
   "execution_count": 63,
   "metadata": {},
   "outputs": [
    {
     "name": "stdout",
     "output_type": "stream",
     "text": [
      "Shape per number of steps:\n",
      "\n",
      "2 \t (79418, 57)\n",
      "1 \t (15577, 57)\n",
      "3 \t (1027, 57)\n",
      "4 \t (324, 57)\n",
      "Shape per number of steps:\n",
      "\n",
      "Licenciatura \t (79418, 57)\n",
      "Doutoramento/Mestrado \t (15577, 57)\n",
      "Bacharelato \t (1027, 57)\n",
      "Outra \t (324, 57)\n"
     ]
    }
   ],
   "source": [
    "Teacher_CodeAcademicEducation=df['Teacher_CodeAcademicEducation'].unique()\n",
    "print(\"Shape per number of steps:\\n\")\n",
    "for i in Teacher_CodeAcademicEducation:\n",
    "    Teacher_CodeAcademicEducation_i = df[df['Teacher_CodeAcademicEducation']== i]\n",
    "    print(i, '\\t', Teacher_CodeAcademicEducation_i.shape)\n",
    "\n",
    "Teacher_AcademicEducation=df['Teacher_AcademicEducation'].unique()\n",
    "print(\"Shape per number of steps:\\n\")\n",
    "for i in Teacher_AcademicEducation:\n",
    "    Teacher_AcademicEducation_i = df[df['Teacher_AcademicEducation']== i]\n",
    "    print(i, '\\t', Teacher_AcademicEducation_i.shape)\n"
   ]
  },
  {
   "cell_type": "raw",
   "metadata": {},
   "source": [
    "dummies block of code:\n",
    "ind_Teacher_Step = pd.get_dummies(df['Teacher_Step'], prefix='Tch_Step')\n",
    "ind_Teacher_Step.head()\n",
    "ind_Teacher_Step1 = ind_Teacher_Step.drop('Tch_Step_WITHOUT', axis=1)\n",
    "df1 = pd.concat([ind_Teacher_Step1, df], axis=1)\n",
    "df=df1.drop('Teacher_Step', axis=1)\n",
    "df.info()"
   ]
  },
  {
   "cell_type": "code",
   "execution_count": 64,
   "metadata": {},
   "outputs": [
    {
     "data": {
      "text/plain": [
       "array(['Degree', 'Phd_Master', 'Bachelor', 'Other'], dtype=object)"
      ]
     },
     "execution_count": 64,
     "metadata": {},
     "output_type": "execute_result"
    }
   ],
   "source": [
    "df['Teacher_AcademicEducation']= df['Teacher_AcademicEducation'].replace([ 'Licenciatura','Doutoramento/Mestrado',\n",
    "                                                                          'Bacharelato','Outra']\n",
    "                                                                         ,['Degree','Phd_Master','Bachelor', 'Other'])\n",
    "df['Teacher_AcademicEducation'].unique()"
   ]
  },
  {
   "cell_type": "code",
   "execution_count": 65,
   "metadata": {},
   "outputs": [
    {
     "data": {
      "text/html": [
       "<div>\n",
       "<style scoped>\n",
       "    .dataframe tbody tr th:only-of-type {\n",
       "        vertical-align: middle;\n",
       "    }\n",
       "\n",
       "    .dataframe tbody tr th {\n",
       "        vertical-align: top;\n",
       "    }\n",
       "\n",
       "    .dataframe thead th {\n",
       "        text-align: right;\n",
       "    }\n",
       "</style>\n",
       "<table border=\"1\" class=\"dataframe\">\n",
       "  <thead>\n",
       "    <tr style=\"text-align: right;\">\n",
       "      <th></th>\n",
       "      <th>Tch_AcadEduc_Bachelor</th>\n",
       "      <th>Tch_AcadEduc_Degree</th>\n",
       "      <th>Tch_AcadEduc_Other</th>\n",
       "      <th>Tch_AcadEduc_Phd_Master</th>\n",
       "    </tr>\n",
       "  </thead>\n",
       "  <tbody>\n",
       "    <tr>\n",
       "      <th>0</th>\n",
       "      <td>0</td>\n",
       "      <td>1</td>\n",
       "      <td>0</td>\n",
       "      <td>0</td>\n",
       "    </tr>\n",
       "    <tr>\n",
       "      <th>1</th>\n",
       "      <td>0</td>\n",
       "      <td>1</td>\n",
       "      <td>0</td>\n",
       "      <td>0</td>\n",
       "    </tr>\n",
       "    <tr>\n",
       "      <th>2</th>\n",
       "      <td>0</td>\n",
       "      <td>1</td>\n",
       "      <td>0</td>\n",
       "      <td>0</td>\n",
       "    </tr>\n",
       "    <tr>\n",
       "      <th>3</th>\n",
       "      <td>0</td>\n",
       "      <td>1</td>\n",
       "      <td>0</td>\n",
       "      <td>0</td>\n",
       "    </tr>\n",
       "    <tr>\n",
       "      <th>4</th>\n",
       "      <td>0</td>\n",
       "      <td>1</td>\n",
       "      <td>0</td>\n",
       "      <td>0</td>\n",
       "    </tr>\n",
       "  </tbody>\n",
       "</table>\n",
       "</div>"
      ],
      "text/plain": [
       "   Tch_AcadEduc_Bachelor  Tch_AcadEduc_Degree  Tch_AcadEduc_Other  \\\n",
       "0                      0                    1                   0   \n",
       "1                      0                    1                   0   \n",
       "2                      0                    1                   0   \n",
       "3                      0                    1                   0   \n",
       "4                      0                    1                   0   \n",
       "\n",
       "   Tch_AcadEduc_Phd_Master  \n",
       "0                        0  \n",
       "1                        0  \n",
       "2                        0  \n",
       "3                        0  \n",
       "4                        0  "
      ]
     },
     "execution_count": 65,
     "metadata": {},
     "output_type": "execute_result"
    }
   ],
   "source": [
    "ind_Teacher_AcademicEducation = pd.get_dummies(df['Teacher_AcademicEducation'], prefix='Tch_AcadEduc')\n",
    "ind_Teacher_AcademicEducation.head()\n"
   ]
  },
  {
   "cell_type": "code",
   "execution_count": 66,
   "metadata": {},
   "outputs": [],
   "source": [
    "ind_Teacher_AcademicEducation1 = ind_Teacher_AcademicEducation.drop('Tch_AcadEduc_Degree', axis=1)\n",
    "df1 = pd.concat([ind_Teacher_AcademicEducation1, df], axis=1)"
   ]
  },
  {
   "cell_type": "code",
   "execution_count": 67,
   "metadata": {},
   "outputs": [
    {
     "name": "stdout",
     "output_type": "stream",
     "text": [
      "<class 'pandas.core.frame.DataFrame'>\n",
      "Int64Index: 96346 entries, 0 to 96347\n",
      "Data columns (total 58 columns):\n",
      " #   Column                                    Non-Null Count  Dtype  \n",
      "---  ------                                    --------------  -----  \n",
      " 0   Tch_AcadEduc_Bachelor                     96346 non-null  uint8  \n",
      " 1   Tch_AcadEduc_Other                        96346 non-null  uint8  \n",
      " 2   Tch_AcadEduc_Phd_Master                   96346 non-null  uint8  \n",
      " 3   Tch_Step_1234                             96346 non-null  uint8  \n",
      " 4   Tch_Step_567                              96346 non-null  uint8  \n",
      " 5   Tch_Step_8910                             96346 non-null  uint8  \n",
      " 6   Tch_Gender_F                              96346 non-null  uint8  \n",
      " 7   STD_Resp_CloseRelative                    96346 non-null  uint8  \n",
      " 8   STD_Resp_Father                           96346 non-null  uint8  \n",
      " 9   STD_Resp_Himself                          96346 non-null  uint8  \n",
      " 10  STD_Resp_LegalResp                        96346 non-null  uint8  \n",
      " 11  FTH_Nation_AFR                            96346 non-null  uint8  \n",
      " 12  FTH_Nation_BR                             96346 non-null  uint8  \n",
      " 13  FTH_Nation_CHN                            96346 non-null  uint8  \n",
      " 14  FTH_Nation_EEUR                           96346 non-null  uint8  \n",
      " 15  FTH_Nation_OTHERS                         96346 non-null  uint8  \n",
      " 16  FTH_Nation_RICH                           96346 non-null  uint8  \n",
      " 17  Std_Gender_F                              96346 non-null  uint8  \n",
      " 18  AcYear_11                                 96346 non-null  uint8  \n",
      " 19  AcYear_12                                 96346 non-null  uint8  \n",
      " 20  Student_ID                                96346 non-null  int64  \n",
      " 21  School_Year                               96346 non-null  object \n",
      " 22  Student_Computer                          96346 non-null  uint8  \n",
      " 23  Student_Internet                          96346 non-null  uint8  \n",
      " 24  Student_NumberEnrolments                  96346 non-null  int64  \n",
      " 25  Student_ActiveWorking                     96346 non-null  uint8  \n",
      " 26  Student_Parish                            96346 non-null  uint8  \n",
      " 27  Student_County                            96346 non-null  uint8  \n",
      " 28  Teacher_TemporaryReplacement              96346 non-null  uint8  \n",
      " 29  Teacher_EducationSupport                  96346 non-null  uint8  \n",
      " 30  Teacher_Age                               96346 non-null  int64  \n",
      " 31  Teacher_TeachingDedicatedTime             96346 non-null  int64  \n",
      " 32  Teacher_NoTeachingDedicatedTime           96346 non-null  int64  \n",
      " 33  Teacher_EducationSupportDedicatedTime     96346 non-null  int64  \n",
      " 34  Teacher_ProfessionalCategory              96346 non-null  object \n",
      " 35  School_Size                               96346 non-null  int64  \n",
      " 36  Class_Size                                96346 non-null  int64  \n",
      " 37  SES_Scholarship                           96346 non-null  object \n",
      " 38  SES_Mother_AcademicEducation              96346 non-null  object \n",
      " 39  SES_Father_AcademicEducation              96346 non-null  object \n",
      " 40  SES_StudentResponsible_AcademicEducation  96346 non-null  object \n",
      " 41  SES_Mother_JobSituation                   96346 non-null  object \n",
      " 42  SES_Father_JobSituation                   96346 non-null  object \n",
      " 43  SES_StudentResponsible_JobSituation       96346 non-null  object \n",
      " 44  SES_Father_ProfessionalClass              96346 non-null  int64  \n",
      " 45  SES_Mother_ProfessionalClass              96346 non-null  int64  \n",
      " 46  SES_StudentResponsible_ProfessionalClass  96346 non-null  int64  \n",
      " 47  SES%_Parish_FamilyNoClassicDwellings      96346 non-null  float64\n",
      " 48  SES%_Parish_CollectiveDwellings           96346 non-null  float64\n",
      " 49  SES%_Parish_IliteracyRate                 96346 non-null  float64\n",
      " 50  SES%_Parish_PostSecondarySchoolingRate    96346 non-null  float64\n",
      " 51  SES%_Parish_PrimarySector                 96346 non-null  float64\n",
      " 52  SES%_Parish_SecondarySector               96346 non-null  float64\n",
      " 53  SES%_Parish_UnemploymentRate              96346 non-null  float64\n",
      " 54  SubjectCod                                96346 non-null  int64  \n",
      " 55  Subject                                   96346 non-null  object \n",
      " 56  FinalMark                                 96346 non-null  float64\n",
      " 57  N_Retentions                              96346 non-null  int64  \n",
      "dtypes: float64(8), int64(13), object(10), uint8(27)\n",
      "memory usage: 26.0+ MB\n"
     ]
    }
   ],
   "source": [
    "df=df1.drop(['Teacher_AcademicEducation','Teacher_CodeAcademicEducation'], axis=1)\n",
    "df.info()"
   ]
  },
  {
   "cell_type": "markdown",
   "metadata": {},
   "source": [
    "# Teacher_ProfessionalCategory Dummies"
   ]
  },
  {
   "cell_type": "code",
   "execution_count": 68,
   "metadata": {},
   "outputs": [
    {
     "data": {
      "text/plain": [
       "array(['Quadro Agrupamento Definitivo', 'Quadro Escola Definitivo',\n",
       "       'Contratado', 'Quadro QZP Definitivo', 'Quadro QZP Provisório',\n",
       "       'Quadro Escola Provisório', 'Quadro Agrupamento Provisório'],\n",
       "      dtype=object)"
      ]
     },
     "execution_count": 68,
     "metadata": {},
     "output_type": "execute_result"
    }
   ],
   "source": [
    "df['Teacher_ProfessionalCategory'].unique()"
   ]
  },
  {
   "cell_type": "code",
   "execution_count": 69,
   "metadata": {},
   "outputs": [
    {
     "data": {
      "text/plain": [
       "array(['SchoolClusterDefinitivePermanentStaff',\n",
       "       'SchoolDefinitivePermanentStaff', 'FixedTermStaff',\n",
       "       'PedagogicZoneDefinitivePermanentStaff',\n",
       "       'PedagogicZoneNoDefinitivePermanentStaff',\n",
       "       'SchoolNoDefinitivePermanentStaff',\n",
       "       'SchoolClusterNoDefinitivePermanentStaff'], dtype=object)"
      ]
     },
     "execution_count": 69,
     "metadata": {},
     "output_type": "execute_result"
    }
   ],
   "source": [
    "df['Teacher_ProfessionalCategory']= df['Teacher_ProfessionalCategory'].replace(['Quadro Agrupamento Definitivo',\n",
    "                                                                                'Quadro Escola Definitivo', 'Contratado',\n",
    "                                                                                'Quadro QZP Definitivo', 'Quadro QZP Provisório',\n",
    "                                                                                'Quadro Escola Provisório',\n",
    "                                                                                'Quadro Agrupamento Provisório'],\n",
    "                                                                                ['SchoolClusterDefinitivePermanentStaff',\n",
    "                                                                                 'SchoolDefinitivePermanentStaff','FixedTermStaff',\n",
    "                                                                                 'PedagogicZoneDefinitivePermanentStaff',\n",
    "                                                                                 'PedagogicZoneNoDefinitivePermanentStaff',\n",
    "                                                                                 'SchoolNoDefinitivePermanentStaff',\n",
    "                                                                                 'SchoolClusterNoDefinitivePermanentStaff'])\n",
    "df['Teacher_ProfessionalCategory'].unique()"
   ]
  },
  {
   "cell_type": "code",
   "execution_count": 70,
   "metadata": {},
   "outputs": [
    {
     "data": {
      "text/html": [
       "<div>\n",
       "<style scoped>\n",
       "    .dataframe tbody tr th:only-of-type {\n",
       "        vertical-align: middle;\n",
       "    }\n",
       "\n",
       "    .dataframe tbody tr th {\n",
       "        vertical-align: top;\n",
       "    }\n",
       "\n",
       "    .dataframe thead th {\n",
       "        text-align: right;\n",
       "    }\n",
       "</style>\n",
       "<table border=\"1\" class=\"dataframe\">\n",
       "  <thead>\n",
       "    <tr style=\"text-align: right;\">\n",
       "      <th></th>\n",
       "      <th>Tch_FixedTermStaff</th>\n",
       "      <th>Tch_PedagogicZoneDefinitivePermanentStaff</th>\n",
       "      <th>Tch_PedagogicZoneNoDefinitivePermanentStaff</th>\n",
       "      <th>Tch_SchoolClusterDefinitivePermanentStaff</th>\n",
       "      <th>Tch_SchoolClusterNoDefinitivePermanentStaff</th>\n",
       "      <th>Tch_SchoolDefinitivePermanentStaff</th>\n",
       "      <th>Tch_SchoolNoDefinitivePermanentStaff</th>\n",
       "    </tr>\n",
       "  </thead>\n",
       "  <tbody>\n",
       "    <tr>\n",
       "      <th>0</th>\n",
       "      <td>0</td>\n",
       "      <td>0</td>\n",
       "      <td>0</td>\n",
       "      <td>1</td>\n",
       "      <td>0</td>\n",
       "      <td>0</td>\n",
       "      <td>0</td>\n",
       "    </tr>\n",
       "    <tr>\n",
       "      <th>1</th>\n",
       "      <td>0</td>\n",
       "      <td>0</td>\n",
       "      <td>0</td>\n",
       "      <td>0</td>\n",
       "      <td>0</td>\n",
       "      <td>1</td>\n",
       "      <td>0</td>\n",
       "    </tr>\n",
       "    <tr>\n",
       "      <th>2</th>\n",
       "      <td>0</td>\n",
       "      <td>0</td>\n",
       "      <td>0</td>\n",
       "      <td>1</td>\n",
       "      <td>0</td>\n",
       "      <td>0</td>\n",
       "      <td>0</td>\n",
       "    </tr>\n",
       "    <tr>\n",
       "      <th>3</th>\n",
       "      <td>0</td>\n",
       "      <td>0</td>\n",
       "      <td>0</td>\n",
       "      <td>0</td>\n",
       "      <td>0</td>\n",
       "      <td>1</td>\n",
       "      <td>0</td>\n",
       "    </tr>\n",
       "    <tr>\n",
       "      <th>4</th>\n",
       "      <td>0</td>\n",
       "      <td>0</td>\n",
       "      <td>0</td>\n",
       "      <td>0</td>\n",
       "      <td>0</td>\n",
       "      <td>1</td>\n",
       "      <td>0</td>\n",
       "    </tr>\n",
       "  </tbody>\n",
       "</table>\n",
       "</div>"
      ],
      "text/plain": [
       "   Tch_FixedTermStaff  Tch_PedagogicZoneDefinitivePermanentStaff  \\\n",
       "0                   0                                          0   \n",
       "1                   0                                          0   \n",
       "2                   0                                          0   \n",
       "3                   0                                          0   \n",
       "4                   0                                          0   \n",
       "\n",
       "   Tch_PedagogicZoneNoDefinitivePermanentStaff  \\\n",
       "0                                            0   \n",
       "1                                            0   \n",
       "2                                            0   \n",
       "3                                            0   \n",
       "4                                            0   \n",
       "\n",
       "   Tch_SchoolClusterDefinitivePermanentStaff  \\\n",
       "0                                          1   \n",
       "1                                          0   \n",
       "2                                          1   \n",
       "3                                          0   \n",
       "4                                          0   \n",
       "\n",
       "   Tch_SchoolClusterNoDefinitivePermanentStaff  \\\n",
       "0                                            0   \n",
       "1                                            0   \n",
       "2                                            0   \n",
       "3                                            0   \n",
       "4                                            0   \n",
       "\n",
       "   Tch_SchoolDefinitivePermanentStaff  Tch_SchoolNoDefinitivePermanentStaff  \n",
       "0                                   0                                     0  \n",
       "1                                   1                                     0  \n",
       "2                                   0                                     0  \n",
       "3                                   1                                     0  \n",
       "4                                   1                                     0  "
      ]
     },
     "execution_count": 70,
     "metadata": {},
     "output_type": "execute_result"
    }
   ],
   "source": [
    "# dummies block of code:\n",
    "Teacher_ProfessionalCategory = pd.get_dummies(df['Teacher_ProfessionalCategory'], prefix='Tch')\n",
    "Teacher_ProfessionalCategory.head()"
   ]
  },
  {
   "cell_type": "raw",
   "metadata": {},
   "source": [
    "Teacher_ProfessionalCategory=df['Teacher_ProfessionalCategory'].unique()\n",
    "print(\"Shape per number of steps:\\n\")\n",
    "for i in Teacher_ProfessionalCategory:\n",
    "    Teacher_ProfessionalCategory_i = df[df['Teacher_ProfessionalCategory']== i]\n",
    "    print(i, '\\t', Teacher_ProfessionalCategory_i.shape)"
   ]
  },
  {
   "cell_type": "code",
   "execution_count": 71,
   "metadata": {},
   "outputs": [
    {
     "name": "stdout",
     "output_type": "stream",
     "text": [
      "<class 'pandas.core.frame.DataFrame'>\n",
      "Int64Index: 96346 entries, 0 to 96347\n",
      "Data columns (total 63 columns):\n",
      " #   Column                                       Non-Null Count  Dtype  \n",
      "---  ------                                       --------------  -----  \n",
      " 0   Tch_FixedTermStaff                           96346 non-null  uint8  \n",
      " 1   Tch_PedagogicZoneDefinitivePermanentStaff    96346 non-null  uint8  \n",
      " 2   Tch_PedagogicZoneNoDefinitivePermanentStaff  96346 non-null  uint8  \n",
      " 3   Tch_SchoolClusterDefinitivePermanentStaff    96346 non-null  uint8  \n",
      " 4   Tch_SchoolClusterNoDefinitivePermanentStaff  96346 non-null  uint8  \n",
      " 5   Tch_SchoolNoDefinitivePermanentStaff         96346 non-null  uint8  \n",
      " 6   Tch_AcadEduc_Bachelor                        96346 non-null  uint8  \n",
      " 7   Tch_AcadEduc_Other                           96346 non-null  uint8  \n",
      " 8   Tch_AcadEduc_Phd_Master                      96346 non-null  uint8  \n",
      " 9   Tch_Step_1234                                96346 non-null  uint8  \n",
      " 10  Tch_Step_567                                 96346 non-null  uint8  \n",
      " 11  Tch_Step_8910                                96346 non-null  uint8  \n",
      " 12  Tch_Gender_F                                 96346 non-null  uint8  \n",
      " 13  STD_Resp_CloseRelative                       96346 non-null  uint8  \n",
      " 14  STD_Resp_Father                              96346 non-null  uint8  \n",
      " 15  STD_Resp_Himself                             96346 non-null  uint8  \n",
      " 16  STD_Resp_LegalResp                           96346 non-null  uint8  \n",
      " 17  FTH_Nation_AFR                               96346 non-null  uint8  \n",
      " 18  FTH_Nation_BR                                96346 non-null  uint8  \n",
      " 19  FTH_Nation_CHN                               96346 non-null  uint8  \n",
      " 20  FTH_Nation_EEUR                              96346 non-null  uint8  \n",
      " 21  FTH_Nation_OTHERS                            96346 non-null  uint8  \n",
      " 22  FTH_Nation_RICH                              96346 non-null  uint8  \n",
      " 23  Std_Gender_F                                 96346 non-null  uint8  \n",
      " 24  AcYear_11                                    96346 non-null  uint8  \n",
      " 25  AcYear_12                                    96346 non-null  uint8  \n",
      " 26  Student_ID                                   96346 non-null  int64  \n",
      " 27  School_Year                                  96346 non-null  object \n",
      " 28  Student_Computer                             96346 non-null  uint8  \n",
      " 29  Student_Internet                             96346 non-null  uint8  \n",
      " 30  Student_NumberEnrolments                     96346 non-null  int64  \n",
      " 31  Student_ActiveWorking                        96346 non-null  uint8  \n",
      " 32  Student_Parish                               96346 non-null  uint8  \n",
      " 33  Student_County                               96346 non-null  uint8  \n",
      " 34  Teacher_TemporaryReplacement                 96346 non-null  uint8  \n",
      " 35  Teacher_EducationSupport                     96346 non-null  uint8  \n",
      " 36  Teacher_Age                                  96346 non-null  int64  \n",
      " 37  Teacher_TeachingDedicatedTime                96346 non-null  int64  \n",
      " 38  Teacher_NoTeachingDedicatedTime              96346 non-null  int64  \n",
      " 39  Teacher_EducationSupportDedicatedTime        96346 non-null  int64  \n",
      " 40  School_Size                                  96346 non-null  int64  \n",
      " 41  Class_Size                                   96346 non-null  int64  \n",
      " 42  SES_Scholarship                              96346 non-null  object \n",
      " 43  SES_Mother_AcademicEducation                 96346 non-null  object \n",
      " 44  SES_Father_AcademicEducation                 96346 non-null  object \n",
      " 45  SES_StudentResponsible_AcademicEducation     96346 non-null  object \n",
      " 46  SES_Mother_JobSituation                      96346 non-null  object \n",
      " 47  SES_Father_JobSituation                      96346 non-null  object \n",
      " 48  SES_StudentResponsible_JobSituation          96346 non-null  object \n",
      " 49  SES_Father_ProfessionalClass                 96346 non-null  int64  \n",
      " 50  SES_Mother_ProfessionalClass                 96346 non-null  int64  \n",
      " 51  SES_StudentResponsible_ProfessionalClass     96346 non-null  int64  \n",
      " 52  SES%_Parish_FamilyNoClassicDwellings         96346 non-null  float64\n",
      " 53  SES%_Parish_CollectiveDwellings              96346 non-null  float64\n",
      " 54  SES%_Parish_IliteracyRate                    96346 non-null  float64\n",
      " 55  SES%_Parish_PostSecondarySchoolingRate       96346 non-null  float64\n",
      " 56  SES%_Parish_PrimarySector                    96346 non-null  float64\n",
      " 57  SES%_Parish_SecondarySector                  96346 non-null  float64\n",
      " 58  SES%_Parish_UnemploymentRate                 96346 non-null  float64\n",
      " 59  SubjectCod                                   96346 non-null  int64  \n",
      " 60  Subject                                      96346 non-null  object \n",
      " 61  FinalMark                                    96346 non-null  float64\n",
      " 62  N_Retentions                                 96346 non-null  int64  \n",
      "dtypes: float64(8), int64(13), object(9), uint8(33)\n",
      "memory usage: 25.8+ MB\n"
     ]
    }
   ],
   "source": [
    "Teacher_ProfessionalCategory1 = Teacher_ProfessionalCategory.drop('Tch_SchoolDefinitivePermanentStaff', axis=1)\n",
    "df1 = pd.concat([Teacher_ProfessionalCategory1, df], axis=1)\n",
    "df=df1.drop('Teacher_ProfessionalCategory', axis=1)\n",
    "df.info()"
   ]
  },
  {
   "cell_type": "markdown",
   "metadata": {},
   "source": [
    "# SES_Scholarship dummies"
   ]
  },
  {
   "cell_type": "code",
   "execution_count": 72,
   "metadata": {},
   "outputs": [
    {
     "data": {
      "text/plain": [
       "array(['Escalão B', 'Não Beneficia', 'Escalão A'], dtype=object)"
      ]
     },
     "execution_count": 72,
     "metadata": {},
     "output_type": "execute_result"
    }
   ],
   "source": [
    "df['SES_Scholarship'].unique()"
   ]
  },
  {
   "cell_type": "code",
   "execution_count": 73,
   "metadata": {},
   "outputs": [
    {
     "name": "stdout",
     "output_type": "stream",
     "text": [
      "Shape per number of steps:\n",
      "\n",
      "Escalão B \t (14239, 63)\n",
      "Não Beneficia \t (70387, 63)\n",
      "Escalão A \t (11720, 63)\n"
     ]
    }
   ],
   "source": [
    "SES_Scholarship=df['SES_Scholarship'].unique()\n",
    "print(\"Shape per number of steps:\\n\")\n",
    "for i in SES_Scholarship:\n",
    "    SES_Scholarship_i = df[df['SES_Scholarship']== i]\n",
    "    print(i, '\\t', SES_Scholarship_i.shape)"
   ]
  },
  {
   "cell_type": "code",
   "execution_count": 74,
   "metadata": {},
   "outputs": [],
   "source": [
    "# Escalão A: beneficio total; Escalão B 50% do Escalão A;\n",
    "df['SES_Scholarship']= df['SES_Scholarship'].replace(['Escalão B', 'Não Beneficia','Escalão A'],\n",
    "                                                     ['Half_Support', 'No_Support','Full_Support'])"
   ]
  },
  {
   "cell_type": "code",
   "execution_count": 75,
   "metadata": {},
   "outputs": [
    {
     "name": "stdout",
     "output_type": "stream",
     "text": [
      "Shape per number of steps:\n",
      "\n",
      "Half_Support \t (14239, 63)\n",
      "No_Support \t (70387, 63)\n",
      "Full_Support \t (11720, 63)\n"
     ]
    }
   ],
   "source": [
    "SES_Scholarship=df['SES_Scholarship'].unique()\n",
    "print(\"Shape per number of steps:\\n\")\n",
    "for i in SES_Scholarship:\n",
    "    SES_Scholarship_i = df[df['SES_Scholarship']== i]\n",
    "    print(i, '\\t', SES_Scholarship_i.shape)"
   ]
  },
  {
   "cell_type": "code",
   "execution_count": 76,
   "metadata": {},
   "outputs": [
    {
     "data": {
      "text/html": [
       "<div>\n",
       "<style scoped>\n",
       "    .dataframe tbody tr th:only-of-type {\n",
       "        vertical-align: middle;\n",
       "    }\n",
       "\n",
       "    .dataframe tbody tr th {\n",
       "        vertical-align: top;\n",
       "    }\n",
       "\n",
       "    .dataframe thead th {\n",
       "        text-align: right;\n",
       "    }\n",
       "</style>\n",
       "<table border=\"1\" class=\"dataframe\">\n",
       "  <thead>\n",
       "    <tr style=\"text-align: right;\">\n",
       "      <th></th>\n",
       "      <th>SES_Scholarship_Full_Support</th>\n",
       "      <th>SES_Scholarship_Half_Support</th>\n",
       "      <th>SES_Scholarship_No_Support</th>\n",
       "    </tr>\n",
       "  </thead>\n",
       "  <tbody>\n",
       "    <tr>\n",
       "      <th>0</th>\n",
       "      <td>0</td>\n",
       "      <td>1</td>\n",
       "      <td>0</td>\n",
       "    </tr>\n",
       "    <tr>\n",
       "      <th>1</th>\n",
       "      <td>0</td>\n",
       "      <td>0</td>\n",
       "      <td>1</td>\n",
       "    </tr>\n",
       "    <tr>\n",
       "      <th>2</th>\n",
       "      <td>0</td>\n",
       "      <td>0</td>\n",
       "      <td>1</td>\n",
       "    </tr>\n",
       "    <tr>\n",
       "      <th>3</th>\n",
       "      <td>0</td>\n",
       "      <td>0</td>\n",
       "      <td>1</td>\n",
       "    </tr>\n",
       "    <tr>\n",
       "      <th>4</th>\n",
       "      <td>0</td>\n",
       "      <td>0</td>\n",
       "      <td>1</td>\n",
       "    </tr>\n",
       "  </tbody>\n",
       "</table>\n",
       "</div>"
      ],
      "text/plain": [
       "   SES_Scholarship_Full_Support  SES_Scholarship_Half_Support  \\\n",
       "0                             0                             1   \n",
       "1                             0                             0   \n",
       "2                             0                             0   \n",
       "3                             0                             0   \n",
       "4                             0                             0   \n",
       "\n",
       "   SES_Scholarship_No_Support  \n",
       "0                           0  \n",
       "1                           1  \n",
       "2                           1  \n",
       "3                           1  \n",
       "4                           1  "
      ]
     },
     "execution_count": 76,
     "metadata": {},
     "output_type": "execute_result"
    }
   ],
   "source": [
    "# dummies block of code:\n",
    "SES_Scholarship = pd.get_dummies(df['SES_Scholarship'], prefix='SES_Scholarship')\n",
    "SES_Scholarship.head()"
   ]
  },
  {
   "cell_type": "code",
   "execution_count": 77,
   "metadata": {},
   "outputs": [],
   "source": [
    "SES_Scholarship1 = SES_Scholarship.drop('SES_Scholarship_No_Support', axis=1)\n",
    "df1 = pd.concat([SES_Scholarship1, df], axis=1)\n",
    "df=df1.drop('SES_Scholarship', axis=1)"
   ]
  },
  {
   "cell_type": "code",
   "execution_count": 78,
   "metadata": {},
   "outputs": [
    {
     "name": "stdout",
     "output_type": "stream",
     "text": [
      "<class 'pandas.core.frame.DataFrame'>\n",
      "Int64Index: 96346 entries, 0 to 96347\n",
      "Data columns (total 64 columns):\n",
      " #   Column                                       Non-Null Count  Dtype  \n",
      "---  ------                                       --------------  -----  \n",
      " 0   SES_Scholarship_Full_Support                 96346 non-null  uint8  \n",
      " 1   SES_Scholarship_Half_Support                 96346 non-null  uint8  \n",
      " 2   Tch_FixedTermStaff                           96346 non-null  uint8  \n",
      " 3   Tch_PedagogicZoneDefinitivePermanentStaff    96346 non-null  uint8  \n",
      " 4   Tch_PedagogicZoneNoDefinitivePermanentStaff  96346 non-null  uint8  \n",
      " 5   Tch_SchoolClusterDefinitivePermanentStaff    96346 non-null  uint8  \n",
      " 6   Tch_SchoolClusterNoDefinitivePermanentStaff  96346 non-null  uint8  \n",
      " 7   Tch_SchoolNoDefinitivePermanentStaff         96346 non-null  uint8  \n",
      " 8   Tch_AcadEduc_Bachelor                        96346 non-null  uint8  \n",
      " 9   Tch_AcadEduc_Other                           96346 non-null  uint8  \n",
      " 10  Tch_AcadEduc_Phd_Master                      96346 non-null  uint8  \n",
      " 11  Tch_Step_1234                                96346 non-null  uint8  \n",
      " 12  Tch_Step_567                                 96346 non-null  uint8  \n",
      " 13  Tch_Step_8910                                96346 non-null  uint8  \n",
      " 14  Tch_Gender_F                                 96346 non-null  uint8  \n",
      " 15  STD_Resp_CloseRelative                       96346 non-null  uint8  \n",
      " 16  STD_Resp_Father                              96346 non-null  uint8  \n",
      " 17  STD_Resp_Himself                             96346 non-null  uint8  \n",
      " 18  STD_Resp_LegalResp                           96346 non-null  uint8  \n",
      " 19  FTH_Nation_AFR                               96346 non-null  uint8  \n",
      " 20  FTH_Nation_BR                                96346 non-null  uint8  \n",
      " 21  FTH_Nation_CHN                               96346 non-null  uint8  \n",
      " 22  FTH_Nation_EEUR                              96346 non-null  uint8  \n",
      " 23  FTH_Nation_OTHERS                            96346 non-null  uint8  \n",
      " 24  FTH_Nation_RICH                              96346 non-null  uint8  \n",
      " 25  Std_Gender_F                                 96346 non-null  uint8  \n",
      " 26  AcYear_11                                    96346 non-null  uint8  \n",
      " 27  AcYear_12                                    96346 non-null  uint8  \n",
      " 28  Student_ID                                   96346 non-null  int64  \n",
      " 29  School_Year                                  96346 non-null  object \n",
      " 30  Student_Computer                             96346 non-null  uint8  \n",
      " 31  Student_Internet                             96346 non-null  uint8  \n",
      " 32  Student_NumberEnrolments                     96346 non-null  int64  \n",
      " 33  Student_ActiveWorking                        96346 non-null  uint8  \n",
      " 34  Student_Parish                               96346 non-null  uint8  \n",
      " 35  Student_County                               96346 non-null  uint8  \n",
      " 36  Teacher_TemporaryReplacement                 96346 non-null  uint8  \n",
      " 37  Teacher_EducationSupport                     96346 non-null  uint8  \n",
      " 38  Teacher_Age                                  96346 non-null  int64  \n",
      " 39  Teacher_TeachingDedicatedTime                96346 non-null  int64  \n",
      " 40  Teacher_NoTeachingDedicatedTime              96346 non-null  int64  \n",
      " 41  Teacher_EducationSupportDedicatedTime        96346 non-null  int64  \n",
      " 42  School_Size                                  96346 non-null  int64  \n",
      " 43  Class_Size                                   96346 non-null  int64  \n",
      " 44  SES_Mother_AcademicEducation                 96346 non-null  object \n",
      " 45  SES_Father_AcademicEducation                 96346 non-null  object \n",
      " 46  SES_StudentResponsible_AcademicEducation     96346 non-null  object \n",
      " 47  SES_Mother_JobSituation                      96346 non-null  object \n",
      " 48  SES_Father_JobSituation                      96346 non-null  object \n",
      " 49  SES_StudentResponsible_JobSituation          96346 non-null  object \n",
      " 50  SES_Father_ProfessionalClass                 96346 non-null  int64  \n",
      " 51  SES_Mother_ProfessionalClass                 96346 non-null  int64  \n",
      " 52  SES_StudentResponsible_ProfessionalClass     96346 non-null  int64  \n",
      " 53  SES%_Parish_FamilyNoClassicDwellings         96346 non-null  float64\n",
      " 54  SES%_Parish_CollectiveDwellings              96346 non-null  float64\n",
      " 55  SES%_Parish_IliteracyRate                    96346 non-null  float64\n",
      " 56  SES%_Parish_PostSecondarySchoolingRate       96346 non-null  float64\n",
      " 57  SES%_Parish_PrimarySector                    96346 non-null  float64\n",
      " 58  SES%_Parish_SecondarySector                  96346 non-null  float64\n",
      " 59  SES%_Parish_UnemploymentRate                 96346 non-null  float64\n",
      " 60  SubjectCod                                   96346 non-null  int64  \n",
      " 61  Subject                                      96346 non-null  object \n",
      " 62  FinalMark                                    96346 non-null  float64\n",
      " 63  N_Retentions                                 96346 non-null  int64  \n",
      "dtypes: float64(8), int64(13), object(8), uint8(35)\n",
      "memory usage: 25.3+ MB\n"
     ]
    }
   ],
   "source": [
    "df.info()"
   ]
  },
  {
   "cell_type": "markdown",
   "metadata": {},
   "source": [
    "# SES_Mother_AcademicEducation; SES_Father_AcademicEducation; SES_StudentResponsible_AcademicEducation dummies"
   ]
  },
  {
   "cell_type": "code",
   "execution_count": 79,
   "metadata": {},
   "outputs": [
    {
     "name": "stdout",
     "output_type": "stream",
     "text": [
      "Unique values per features to be binarised:\n",
      "\n",
      "SES_Mother_AcademicEducation \t ['Básico (3º ciclo)' 'Formação Desconhecida' 'Licenciatura' 'Secundário'\n",
      " 'Mestrado' 'Básico (2º ciclo)' 'Básico (1º ciclo)' 'Bacharelato'\n",
      " 'Pós-graduação' 'Sem Habilitações' 'Outra' 'Doutoramento']\n",
      "SES_Father_AcademicEducation \t ['Básico (3º ciclo)' 'Formação Desconhecida' 'Licenciatura' 'Mestrado'\n",
      " 'Secundário' 'Básico (2º ciclo)' 'Bacharelato' 'Básico (1º ciclo)'\n",
      " 'Sem Habilitações' 'Pós-graduação' 'Doutoramento' 'Outra'\n",
      " 'Formação desconhecida']\n",
      "SES_StudentResponsible_AcademicEducation \t ['Básico (3º ciclo)' 'Formação Desconhecida' 'Licenciatura' 'Secundário'\n",
      " 'Mestrado' 'Básico (1º ciclo)' 'Básico (2º ciclo)' 'Bacharelato'\n",
      " 'Sem Habilitações' 'Outra' 'Doutoramento' 'Pós-graduação']\n"
     ]
    }
   ],
   "source": [
    "Binarised_Features=['SES_Mother_AcademicEducation', 'SES_Father_AcademicEducation', 'SES_StudentResponsible_AcademicEducation']\n",
    "\n",
    "print(\"Unique values per features to be binarised:\\n\")\n",
    "for i in Binarised_Features:\n",
    "    HE_i= df[i].unique()\n",
    "    print(i, '\\t', HE_i)"
   ]
  },
  {
   "cell_type": "code",
   "execution_count": 80,
   "metadata": {},
   "outputs": [
    {
     "name": "stdout",
     "output_type": "stream",
     "text": [
      "Shape per number of steps:\n",
      "\n",
      "Básico (3º ciclo) \t (14505, 64)\n",
      "Formação Desconhecida \t (17443, 64)\n",
      "Licenciatura \t (19183, 64)\n",
      "Secundário \t (22320, 64)\n",
      "Mestrado \t (1787, 64)\n",
      "Básico (2º ciclo) \t (11808, 64)\n",
      "Básico (1º ciclo) \t (4756, 64)\n",
      "Bacharelato \t (2260, 64)\n",
      "Pós-graduação \t (515, 64)\n",
      "Sem Habilitações \t (180, 64)\n",
      "Outra \t (988, 64)\n",
      "Doutoramento \t (601, 64)\n",
      "Shape per number of steps:\n",
      "\n",
      "Básico (3º ciclo) \t (15448, 64)\n",
      "Formação Desconhecida \t (20061, 64)\n",
      "Licenciatura \t (12677, 64)\n",
      "Mestrado \t (1568, 64)\n",
      "Secundário \t (21459, 64)\n",
      "Básico (2º ciclo) \t (15018, 64)\n",
      "Bacharelato \t (1546, 64)\n",
      "Básico (1º ciclo) \t (6031, 64)\n",
      "Sem Habilitações \t (224, 64)\n",
      "Pós-graduação \t (458, 64)\n",
      "Doutoramento \t (726, 64)\n",
      "Outra \t (1129, 64)\n",
      "Formação desconhecida \t (1, 64)\n",
      "Shape per number of steps:\n",
      "\n",
      "Básico (3º ciclo) \t (15843, 64)\n",
      "Formação Desconhecida \t (17450, 64)\n",
      "Licenciatura \t (18523, 64)\n",
      "Secundário \t (22466, 64)\n",
      "Mestrado \t (1822, 64)\n",
      "Básico (1º ciclo) \t (4311, 64)\n",
      "Básico (2º ciclo) \t (11066, 64)\n",
      "Bacharelato \t (2102, 64)\n",
      "Sem Habilitações \t (582, 64)\n",
      "Outra \t (969, 64)\n",
      "Doutoramento \t (694, 64)\n",
      "Pós-graduação \t (518, 64)\n"
     ]
    }
   ],
   "source": [
    "SES_Mother_AcademicEducation=df['SES_Mother_AcademicEducation'].unique()\n",
    "print(\"Shape per number of steps:\\n\")\n",
    "for i in SES_Mother_AcademicEducation:\n",
    "    SES_Mother_AcademicEducation_i = df[df['SES_Mother_AcademicEducation']== i]\n",
    "    print(i, '\\t', SES_Mother_AcademicEducation_i.shape)\n",
    "SES_Father_AcademicEducation=df['SES_Father_AcademicEducation'].unique()\n",
    "print(\"Shape per number of steps:\\n\")\n",
    "for i in SES_Father_AcademicEducation:\n",
    "    SES_Father_AcademicEducation_i = df[df['SES_Father_AcademicEducation']== i]\n",
    "    print(i, '\\t', SES_Father_AcademicEducation_i.shape)\n",
    "SES_StudentResponsible_AcademicEducation=df['SES_StudentResponsible_AcademicEducation'].unique()\n",
    "print(\"Shape per number of steps:\\n\")\n",
    "for i in SES_StudentResponsible_AcademicEducation:\n",
    "    SES_StudentResponsible_AcademicEducation_i = df[df['SES_StudentResponsible_AcademicEducation']== i]\n",
    "    print(i, '\\t', SES_StudentResponsible_AcademicEducation_i.shape)"
   ]
  },
  {
   "cell_type": "code",
   "execution_count": 81,
   "metadata": {},
   "outputs": [],
   "source": [
    "df['SES_Mother_AcademicEducation']= df['SES_Mother_AcademicEducation'].replace(['Básico (3º ciclo)', 'Formação Desconhecida',\n",
    "                                                                                'Licenciatura', 'Secundário', 'Mestrado',\n",
    "                                                                                'Básico (2º ciclo)', 'Básico (1º ciclo)',\n",
    "                                                                                'Bacharelato', 'Pós-graduação',\n",
    "                                                                                'Sem Habilitações', 'Outra','Doutoramento'],\n",
    "                                                                                ['Basic_III', 'Unknown',\n",
    "                                                                                'Degree', 'Secondary', 'Master',\n",
    "                                                                                'Basic_II', 'Basic_I',\n",
    "                                                                                'Bachelor', 'PostGraduation',\n",
    "                                                                                'NoFormalEducation', 'Other','Phd'])"
   ]
  },
  {
   "cell_type": "code",
   "execution_count": 82,
   "metadata": {},
   "outputs": [],
   "source": [
    "df['SES_Father_AcademicEducation']= df['SES_Father_AcademicEducation'].replace(['Básico (3º ciclo)', 'Formação Desconhecida',\n",
    "                                                                                'Licenciatura', 'Mestrado', 'Secundário',\n",
    "                                                                                'Básico (2º ciclo)', 'Bacharelato',\n",
    "                                                                                'Básico (1º ciclo)', 'Sem Habilitações',\n",
    "                                                                                'Pós-graduação', 'Doutoramento', 'Outra',\n",
    "                                                                                'Formação desconhecida'],\n",
    "                                                                                ['Basic_III', 'Unknown',\n",
    "                                                                                'Degree', 'Master', 'Secondary',\n",
    "                                                                                'Basic_II', 'Bachelor',\n",
    "                                                                                'Basic_I', 'NoFormalEducation',\n",
    "                                                                                 'PostGraduation', 'Phd' ,'Other', 'Unknown'])"
   ]
  },
  {
   "cell_type": "code",
   "execution_count": 83,
   "metadata": {},
   "outputs": [],
   "source": [
    "df['SES_StudentResponsible_AcademicEducation']= df['SES_StudentResponsible_AcademicEducation'].replace(['Básico (3º ciclo)',\n",
    "                                                                                                        'Formação Desconhecida',\n",
    "                                                                                                        'Licenciatura',\n",
    "                                                                                                        'Secundário',\n",
    "                                                                                                        'Mestrado',\n",
    "                                                                                                        'Básico (1º ciclo)',\n",
    "                                                                                                        'Básico (2º ciclo)',\n",
    "                                                                                                        'Bacharelato',\n",
    "                                                                                                        'Sem Habilitações',\n",
    "                                                                                                        'Outra',\n",
    "                                                                                                        'Doutoramento',\n",
    "                                                                                                        'Pós-graduação'],\n",
    "                                                                                ['Basic_III', 'Unknown',\n",
    "                                                                                'Degree', 'Secondary', 'Master',\n",
    "                                                                                'Basic_I', 'Basic_II',\n",
    "                                                                                'Bachelor', 'NoFormalEducation',\n",
    "                                                                                'Other','Phd','PostGraduation'])"
   ]
  },
  {
   "cell_type": "code",
   "execution_count": 84,
   "metadata": {},
   "outputs": [
    {
     "name": "stdout",
     "output_type": "stream",
     "text": [
      "Shape per number of steps:\n",
      "\n",
      "Basic_III \t (14505, 64)\n",
      "Unknown \t (17443, 64)\n",
      "Degree \t (19183, 64)\n",
      "Secondary \t (22320, 64)\n",
      "Master \t (1787, 64)\n",
      "Basic_II \t (11808, 64)\n",
      "Basic_I \t (4756, 64)\n",
      "Bachelor \t (2260, 64)\n",
      "PostGraduation \t (515, 64)\n",
      "NoFormalEducation \t (180, 64)\n",
      "Other \t (988, 64)\n",
      "Phd \t (601, 64)\n",
      "Shape per number of steps:\n",
      "\n",
      "Basic_III \t (15448, 64)\n",
      "Unknown \t (20062, 64)\n",
      "Degree \t (12677, 64)\n",
      "Master \t (1568, 64)\n",
      "Secondary \t (21459, 64)\n",
      "Basic_II \t (15018, 64)\n",
      "Bachelor \t (1546, 64)\n",
      "Basic_I \t (6031, 64)\n",
      "NoFormalEducation \t (224, 64)\n",
      "PostGraduation \t (458, 64)\n",
      "Phd \t (726, 64)\n",
      "Other \t (1129, 64)\n",
      "Shape per number of steps:\n",
      "\n",
      "Basic_III \t (15843, 64)\n",
      "Unknown \t (17450, 64)\n",
      "Degree \t (18523, 64)\n",
      "Secondary \t (22466, 64)\n",
      "Master \t (1822, 64)\n",
      "Basic_I \t (4311, 64)\n",
      "Basic_II \t (11066, 64)\n",
      "Bachelor \t (2102, 64)\n",
      "NoFormalEducation \t (582, 64)\n",
      "Other \t (969, 64)\n",
      "Phd \t (694, 64)\n",
      "PostGraduation \t (518, 64)\n"
     ]
    }
   ],
   "source": [
    "SES_Mother_AcademicEducation=df['SES_Mother_AcademicEducation'].unique()\n",
    "print(\"Shape per number of steps:\\n\")\n",
    "for i in SES_Mother_AcademicEducation:\n",
    "    SES_Mother_AcademicEducation_i = df[df['SES_Mother_AcademicEducation']== i]\n",
    "    print(i, '\\t', SES_Mother_AcademicEducation_i.shape)\n",
    "SES_Father_AcademicEducation=df['SES_Father_AcademicEducation'].unique()\n",
    "print(\"Shape per number of steps:\\n\")\n",
    "for i in SES_Father_AcademicEducation:\n",
    "    SES_Father_AcademicEducation_i = df[df['SES_Father_AcademicEducation']== i]\n",
    "    print(i, '\\t', SES_Father_AcademicEducation_i.shape)\n",
    "SES_StudentResponsible_AcademicEducation=df['SES_StudentResponsible_AcademicEducation'].unique()\n",
    "print(\"Shape per number of steps:\\n\")\n",
    "for i in SES_StudentResponsible_AcademicEducation:\n",
    "    SES_StudentResponsible_AcademicEducation_i = df[df['SES_StudentResponsible_AcademicEducation']== i]\n",
    "    print(i, '\\t', SES_StudentResponsible_AcademicEducation_i.shape)"
   ]
  },
  {
   "cell_type": "raw",
   "metadata": {},
   "source": [
    "dummies block of code:\n",
    "ind_Teacher_Step = pd.get_dummies(df['Teacher_Step'], prefix='Tch_Step')\n",
    "ind_Teacher_Step.head()\n",
    "ind_Teacher_Step1 = ind_Teacher_Step.drop('Tch_Step_WITHOUT', axis=1)\n",
    "df1 = pd.concat([ind_Teacher_Step1, df], axis=1)\n",
    "df=df1.drop('Teacher_Step', axis=1)\n",
    "df.info()"
   ]
  },
  {
   "cell_type": "code",
   "execution_count": 85,
   "metadata": {},
   "outputs": [
    {
     "data": {
      "text/html": [
       "<div>\n",
       "<style scoped>\n",
       "    .dataframe tbody tr th:only-of-type {\n",
       "        vertical-align: middle;\n",
       "    }\n",
       "\n",
       "    .dataframe tbody tr th {\n",
       "        vertical-align: top;\n",
       "    }\n",
       "\n",
       "    .dataframe thead th {\n",
       "        text-align: right;\n",
       "    }\n",
       "</style>\n",
       "<table border=\"1\" class=\"dataframe\">\n",
       "  <thead>\n",
       "    <tr style=\"text-align: right;\">\n",
       "      <th></th>\n",
       "      <th>SES_MOTH_AcadEduc_Bachelor</th>\n",
       "      <th>SES_MOTH_AcadEduc_Basic_I</th>\n",
       "      <th>SES_MOTH_AcadEduc_Basic_II</th>\n",
       "      <th>SES_MOTH_AcadEduc_Basic_III</th>\n",
       "      <th>SES_MOTH_AcadEduc_Degree</th>\n",
       "      <th>SES_MOTH_AcadEduc_Master</th>\n",
       "      <th>SES_MOTH_AcadEduc_NoFormalEducation</th>\n",
       "      <th>SES_MOTH_AcadEduc_Other</th>\n",
       "      <th>SES_MOTH_AcadEduc_Phd</th>\n",
       "      <th>SES_MOTH_AcadEduc_PostGraduation</th>\n",
       "      <th>SES_MOTH_AcadEduc_Secondary</th>\n",
       "      <th>SES_MOTH_AcadEduc_Unknown</th>\n",
       "    </tr>\n",
       "  </thead>\n",
       "  <tbody>\n",
       "    <tr>\n",
       "      <th>0</th>\n",
       "      <td>0</td>\n",
       "      <td>0</td>\n",
       "      <td>0</td>\n",
       "      <td>1</td>\n",
       "      <td>0</td>\n",
       "      <td>0</td>\n",
       "      <td>0</td>\n",
       "      <td>0</td>\n",
       "      <td>0</td>\n",
       "      <td>0</td>\n",
       "      <td>0</td>\n",
       "      <td>0</td>\n",
       "    </tr>\n",
       "    <tr>\n",
       "      <th>1</th>\n",
       "      <td>0</td>\n",
       "      <td>0</td>\n",
       "      <td>0</td>\n",
       "      <td>0</td>\n",
       "      <td>0</td>\n",
       "      <td>0</td>\n",
       "      <td>0</td>\n",
       "      <td>0</td>\n",
       "      <td>0</td>\n",
       "      <td>0</td>\n",
       "      <td>0</td>\n",
       "      <td>1</td>\n",
       "    </tr>\n",
       "    <tr>\n",
       "      <th>2</th>\n",
       "      <td>0</td>\n",
       "      <td>0</td>\n",
       "      <td>0</td>\n",
       "      <td>0</td>\n",
       "      <td>0</td>\n",
       "      <td>0</td>\n",
       "      <td>0</td>\n",
       "      <td>0</td>\n",
       "      <td>0</td>\n",
       "      <td>0</td>\n",
       "      <td>0</td>\n",
       "      <td>1</td>\n",
       "    </tr>\n",
       "    <tr>\n",
       "      <th>3</th>\n",
       "      <td>0</td>\n",
       "      <td>0</td>\n",
       "      <td>0</td>\n",
       "      <td>0</td>\n",
       "      <td>0</td>\n",
       "      <td>0</td>\n",
       "      <td>0</td>\n",
       "      <td>0</td>\n",
       "      <td>0</td>\n",
       "      <td>0</td>\n",
       "      <td>0</td>\n",
       "      <td>1</td>\n",
       "    </tr>\n",
       "    <tr>\n",
       "      <th>4</th>\n",
       "      <td>0</td>\n",
       "      <td>0</td>\n",
       "      <td>0</td>\n",
       "      <td>0</td>\n",
       "      <td>0</td>\n",
       "      <td>0</td>\n",
       "      <td>0</td>\n",
       "      <td>0</td>\n",
       "      <td>0</td>\n",
       "      <td>0</td>\n",
       "      <td>0</td>\n",
       "      <td>1</td>\n",
       "    </tr>\n",
       "  </tbody>\n",
       "</table>\n",
       "</div>"
      ],
      "text/plain": [
       "   SES_MOTH_AcadEduc_Bachelor  SES_MOTH_AcadEduc_Basic_I  \\\n",
       "0                           0                          0   \n",
       "1                           0                          0   \n",
       "2                           0                          0   \n",
       "3                           0                          0   \n",
       "4                           0                          0   \n",
       "\n",
       "   SES_MOTH_AcadEduc_Basic_II  SES_MOTH_AcadEduc_Basic_III  \\\n",
       "0                           0                            1   \n",
       "1                           0                            0   \n",
       "2                           0                            0   \n",
       "3                           0                            0   \n",
       "4                           0                            0   \n",
       "\n",
       "   SES_MOTH_AcadEduc_Degree  SES_MOTH_AcadEduc_Master  \\\n",
       "0                         0                         0   \n",
       "1                         0                         0   \n",
       "2                         0                         0   \n",
       "3                         0                         0   \n",
       "4                         0                         0   \n",
       "\n",
       "   SES_MOTH_AcadEduc_NoFormalEducation  SES_MOTH_AcadEduc_Other  \\\n",
       "0                                    0                        0   \n",
       "1                                    0                        0   \n",
       "2                                    0                        0   \n",
       "3                                    0                        0   \n",
       "4                                    0                        0   \n",
       "\n",
       "   SES_MOTH_AcadEduc_Phd  SES_MOTH_AcadEduc_PostGraduation  \\\n",
       "0                      0                                 0   \n",
       "1                      0                                 0   \n",
       "2                      0                                 0   \n",
       "3                      0                                 0   \n",
       "4                      0                                 0   \n",
       "\n",
       "   SES_MOTH_AcadEduc_Secondary  SES_MOTH_AcadEduc_Unknown  \n",
       "0                            0                          0  \n",
       "1                            0                          1  \n",
       "2                            0                          1  \n",
       "3                            0                          1  \n",
       "4                            0                          1  "
      ]
     },
     "execution_count": 85,
     "metadata": {},
     "output_type": "execute_result"
    }
   ],
   "source": [
    "ind_SES_Mother_AcademicEducation = pd.get_dummies(df['SES_Mother_AcademicEducation'], prefix='SES_MOTH_AcadEduc')\n",
    "ind_SES_Mother_AcademicEducation.head()\n"
   ]
  },
  {
   "cell_type": "code",
   "execution_count": 86,
   "metadata": {},
   "outputs": [],
   "source": [
    "ind_SES_Mother_AcademicEducation1 = ind_SES_Mother_AcademicEducation.drop('SES_MOTH_AcadEduc_Secondary', axis=1)\n",
    "df1 = pd.concat([ind_SES_Mother_AcademicEducation1, df], axis=1)\n",
    "df=df1.drop('SES_Mother_AcademicEducation', axis=1)"
   ]
  },
  {
   "cell_type": "code",
   "execution_count": 87,
   "metadata": {},
   "outputs": [
    {
     "data": {
      "text/html": [
       "<div>\n",
       "<style scoped>\n",
       "    .dataframe tbody tr th:only-of-type {\n",
       "        vertical-align: middle;\n",
       "    }\n",
       "\n",
       "    .dataframe tbody tr th {\n",
       "        vertical-align: top;\n",
       "    }\n",
       "\n",
       "    .dataframe thead th {\n",
       "        text-align: right;\n",
       "    }\n",
       "</style>\n",
       "<table border=\"1\" class=\"dataframe\">\n",
       "  <thead>\n",
       "    <tr style=\"text-align: right;\">\n",
       "      <th></th>\n",
       "      <th>SES_FATH_AcadEduc_Bachelor</th>\n",
       "      <th>SES_FATH_AcadEduc_Basic_I</th>\n",
       "      <th>SES_FATH_AcadEduc_Basic_II</th>\n",
       "      <th>SES_FATH_AcadEduc_Basic_III</th>\n",
       "      <th>SES_FATH_AcadEduc_Degree</th>\n",
       "      <th>SES_FATH_AcadEduc_Master</th>\n",
       "      <th>SES_FATH_AcadEduc_NoFormalEducation</th>\n",
       "      <th>SES_FATH_AcadEduc_Other</th>\n",
       "      <th>SES_FATH_AcadEduc_Phd</th>\n",
       "      <th>SES_FATH_AcadEduc_PostGraduation</th>\n",
       "      <th>SES_FATH_AcadEduc_Secondary</th>\n",
       "      <th>SES_FATH_AcadEduc_Unknown</th>\n",
       "    </tr>\n",
       "  </thead>\n",
       "  <tbody>\n",
       "    <tr>\n",
       "      <th>0</th>\n",
       "      <td>0</td>\n",
       "      <td>0</td>\n",
       "      <td>0</td>\n",
       "      <td>1</td>\n",
       "      <td>0</td>\n",
       "      <td>0</td>\n",
       "      <td>0</td>\n",
       "      <td>0</td>\n",
       "      <td>0</td>\n",
       "      <td>0</td>\n",
       "      <td>0</td>\n",
       "      <td>0</td>\n",
       "    </tr>\n",
       "    <tr>\n",
       "      <th>1</th>\n",
       "      <td>0</td>\n",
       "      <td>0</td>\n",
       "      <td>0</td>\n",
       "      <td>0</td>\n",
       "      <td>0</td>\n",
       "      <td>0</td>\n",
       "      <td>0</td>\n",
       "      <td>0</td>\n",
       "      <td>0</td>\n",
       "      <td>0</td>\n",
       "      <td>0</td>\n",
       "      <td>1</td>\n",
       "    </tr>\n",
       "    <tr>\n",
       "      <th>2</th>\n",
       "      <td>0</td>\n",
       "      <td>0</td>\n",
       "      <td>0</td>\n",
       "      <td>0</td>\n",
       "      <td>0</td>\n",
       "      <td>0</td>\n",
       "      <td>0</td>\n",
       "      <td>0</td>\n",
       "      <td>0</td>\n",
       "      <td>0</td>\n",
       "      <td>0</td>\n",
       "      <td>1</td>\n",
       "    </tr>\n",
       "    <tr>\n",
       "      <th>3</th>\n",
       "      <td>0</td>\n",
       "      <td>0</td>\n",
       "      <td>0</td>\n",
       "      <td>0</td>\n",
       "      <td>0</td>\n",
       "      <td>0</td>\n",
       "      <td>0</td>\n",
       "      <td>0</td>\n",
       "      <td>0</td>\n",
       "      <td>0</td>\n",
       "      <td>0</td>\n",
       "      <td>1</td>\n",
       "    </tr>\n",
       "    <tr>\n",
       "      <th>4</th>\n",
       "      <td>0</td>\n",
       "      <td>0</td>\n",
       "      <td>0</td>\n",
       "      <td>0</td>\n",
       "      <td>0</td>\n",
       "      <td>0</td>\n",
       "      <td>0</td>\n",
       "      <td>0</td>\n",
       "      <td>0</td>\n",
       "      <td>0</td>\n",
       "      <td>0</td>\n",
       "      <td>1</td>\n",
       "    </tr>\n",
       "  </tbody>\n",
       "</table>\n",
       "</div>"
      ],
      "text/plain": [
       "   SES_FATH_AcadEduc_Bachelor  SES_FATH_AcadEduc_Basic_I  \\\n",
       "0                           0                          0   \n",
       "1                           0                          0   \n",
       "2                           0                          0   \n",
       "3                           0                          0   \n",
       "4                           0                          0   \n",
       "\n",
       "   SES_FATH_AcadEduc_Basic_II  SES_FATH_AcadEduc_Basic_III  \\\n",
       "0                           0                            1   \n",
       "1                           0                            0   \n",
       "2                           0                            0   \n",
       "3                           0                            0   \n",
       "4                           0                            0   \n",
       "\n",
       "   SES_FATH_AcadEduc_Degree  SES_FATH_AcadEduc_Master  \\\n",
       "0                         0                         0   \n",
       "1                         0                         0   \n",
       "2                         0                         0   \n",
       "3                         0                         0   \n",
       "4                         0                         0   \n",
       "\n",
       "   SES_FATH_AcadEduc_NoFormalEducation  SES_FATH_AcadEduc_Other  \\\n",
       "0                                    0                        0   \n",
       "1                                    0                        0   \n",
       "2                                    0                        0   \n",
       "3                                    0                        0   \n",
       "4                                    0                        0   \n",
       "\n",
       "   SES_FATH_AcadEduc_Phd  SES_FATH_AcadEduc_PostGraduation  \\\n",
       "0                      0                                 0   \n",
       "1                      0                                 0   \n",
       "2                      0                                 0   \n",
       "3                      0                                 0   \n",
       "4                      0                                 0   \n",
       "\n",
       "   SES_FATH_AcadEduc_Secondary  SES_FATH_AcadEduc_Unknown  \n",
       "0                            0                          0  \n",
       "1                            0                          1  \n",
       "2                            0                          1  \n",
       "3                            0                          1  \n",
       "4                            0                          1  "
      ]
     },
     "execution_count": 87,
     "metadata": {},
     "output_type": "execute_result"
    }
   ],
   "source": [
    "ind_SES_Father_AcademicEducation = pd.get_dummies(df['SES_Father_AcademicEducation'], prefix='SES_FATH_AcadEduc')\n",
    "ind_SES_Father_AcademicEducation.head()\n"
   ]
  },
  {
   "cell_type": "code",
   "execution_count": 88,
   "metadata": {},
   "outputs": [],
   "source": [
    "ind_SES_Father_AcademicEducation1 = ind_SES_Father_AcademicEducation.drop('SES_FATH_AcadEduc_Secondary', axis=1)\n",
    "df1 = pd.concat([ind_SES_Father_AcademicEducation1, df], axis=1)\n",
    "df=df1.drop('SES_Father_AcademicEducation', axis=1)"
   ]
  },
  {
   "cell_type": "code",
   "execution_count": 89,
   "metadata": {},
   "outputs": [
    {
     "data": {
      "text/html": [
       "<div>\n",
       "<style scoped>\n",
       "    .dataframe tbody tr th:only-of-type {\n",
       "        vertical-align: middle;\n",
       "    }\n",
       "\n",
       "    .dataframe tbody tr th {\n",
       "        vertical-align: top;\n",
       "    }\n",
       "\n",
       "    .dataframe thead th {\n",
       "        text-align: right;\n",
       "    }\n",
       "</style>\n",
       "<table border=\"1\" class=\"dataframe\">\n",
       "  <thead>\n",
       "    <tr style=\"text-align: right;\">\n",
       "      <th></th>\n",
       "      <th>SES_STDRESP_AcadEduc_Bachelor</th>\n",
       "      <th>SES_STDRESP_AcadEduc_Basic_I</th>\n",
       "      <th>SES_STDRESP_AcadEduc_Basic_II</th>\n",
       "      <th>SES_STDRESP_AcadEduc_Basic_III</th>\n",
       "      <th>SES_STDRESP_AcadEduc_Degree</th>\n",
       "      <th>SES_STDRESP_AcadEduc_Master</th>\n",
       "      <th>SES_STDRESP_AcadEduc_NoFormalEducation</th>\n",
       "      <th>SES_STDRESP_AcadEduc_Other</th>\n",
       "      <th>SES_STDRESP_AcadEduc_Phd</th>\n",
       "      <th>SES_STDRESP_AcadEduc_PostGraduation</th>\n",
       "      <th>SES_STDRESP_AcadEduc_Secondary</th>\n",
       "      <th>SES_STDRESP_AcadEduc_Unknown</th>\n",
       "    </tr>\n",
       "  </thead>\n",
       "  <tbody>\n",
       "    <tr>\n",
       "      <th>0</th>\n",
       "      <td>0</td>\n",
       "      <td>0</td>\n",
       "      <td>0</td>\n",
       "      <td>1</td>\n",
       "      <td>0</td>\n",
       "      <td>0</td>\n",
       "      <td>0</td>\n",
       "      <td>0</td>\n",
       "      <td>0</td>\n",
       "      <td>0</td>\n",
       "      <td>0</td>\n",
       "      <td>0</td>\n",
       "    </tr>\n",
       "    <tr>\n",
       "      <th>1</th>\n",
       "      <td>0</td>\n",
       "      <td>0</td>\n",
       "      <td>0</td>\n",
       "      <td>0</td>\n",
       "      <td>0</td>\n",
       "      <td>0</td>\n",
       "      <td>0</td>\n",
       "      <td>0</td>\n",
       "      <td>0</td>\n",
       "      <td>0</td>\n",
       "      <td>0</td>\n",
       "      <td>1</td>\n",
       "    </tr>\n",
       "    <tr>\n",
       "      <th>2</th>\n",
       "      <td>0</td>\n",
       "      <td>0</td>\n",
       "      <td>0</td>\n",
       "      <td>0</td>\n",
       "      <td>0</td>\n",
       "      <td>0</td>\n",
       "      <td>0</td>\n",
       "      <td>0</td>\n",
       "      <td>0</td>\n",
       "      <td>0</td>\n",
       "      <td>0</td>\n",
       "      <td>1</td>\n",
       "    </tr>\n",
       "    <tr>\n",
       "      <th>3</th>\n",
       "      <td>0</td>\n",
       "      <td>0</td>\n",
       "      <td>0</td>\n",
       "      <td>0</td>\n",
       "      <td>0</td>\n",
       "      <td>0</td>\n",
       "      <td>0</td>\n",
       "      <td>0</td>\n",
       "      <td>0</td>\n",
       "      <td>0</td>\n",
       "      <td>0</td>\n",
       "      <td>1</td>\n",
       "    </tr>\n",
       "    <tr>\n",
       "      <th>4</th>\n",
       "      <td>0</td>\n",
       "      <td>0</td>\n",
       "      <td>0</td>\n",
       "      <td>0</td>\n",
       "      <td>0</td>\n",
       "      <td>0</td>\n",
       "      <td>0</td>\n",
       "      <td>0</td>\n",
       "      <td>0</td>\n",
       "      <td>0</td>\n",
       "      <td>0</td>\n",
       "      <td>1</td>\n",
       "    </tr>\n",
       "  </tbody>\n",
       "</table>\n",
       "</div>"
      ],
      "text/plain": [
       "   SES_STDRESP_AcadEduc_Bachelor  SES_STDRESP_AcadEduc_Basic_I  \\\n",
       "0                              0                             0   \n",
       "1                              0                             0   \n",
       "2                              0                             0   \n",
       "3                              0                             0   \n",
       "4                              0                             0   \n",
       "\n",
       "   SES_STDRESP_AcadEduc_Basic_II  SES_STDRESP_AcadEduc_Basic_III  \\\n",
       "0                              0                               1   \n",
       "1                              0                               0   \n",
       "2                              0                               0   \n",
       "3                              0                               0   \n",
       "4                              0                               0   \n",
       "\n",
       "   SES_STDRESP_AcadEduc_Degree  SES_STDRESP_AcadEduc_Master  \\\n",
       "0                            0                            0   \n",
       "1                            0                            0   \n",
       "2                            0                            0   \n",
       "3                            0                            0   \n",
       "4                            0                            0   \n",
       "\n",
       "   SES_STDRESP_AcadEduc_NoFormalEducation  SES_STDRESP_AcadEduc_Other  \\\n",
       "0                                       0                           0   \n",
       "1                                       0                           0   \n",
       "2                                       0                           0   \n",
       "3                                       0                           0   \n",
       "4                                       0                           0   \n",
       "\n",
       "   SES_STDRESP_AcadEduc_Phd  SES_STDRESP_AcadEduc_PostGraduation  \\\n",
       "0                         0                                    0   \n",
       "1                         0                                    0   \n",
       "2                         0                                    0   \n",
       "3                         0                                    0   \n",
       "4                         0                                    0   \n",
       "\n",
       "   SES_STDRESP_AcadEduc_Secondary  SES_STDRESP_AcadEduc_Unknown  \n",
       "0                               0                             0  \n",
       "1                               0                             1  \n",
       "2                               0                             1  \n",
       "3                               0                             1  \n",
       "4                               0                             1  "
      ]
     },
     "execution_count": 89,
     "metadata": {},
     "output_type": "execute_result"
    }
   ],
   "source": [
    "ind_SES_StudentResponsible_AcademicEducation = pd.get_dummies(df['SES_StudentResponsible_AcademicEducation'], prefix='SES_STDRESP_AcadEduc')\n",
    "ind_SES_StudentResponsible_AcademicEducation.head()\n"
   ]
  },
  {
   "cell_type": "code",
   "execution_count": 90,
   "metadata": {},
   "outputs": [],
   "source": [
    "ind_SES_StudentResponsible_AcademicEducation1 = ind_SES_StudentResponsible_AcademicEducation.drop('SES_STDRESP_AcadEduc_Secondary', axis=1)\n",
    "df1 = pd.concat([ind_SES_StudentResponsible_AcademicEducation1, df], axis=1)\n",
    "df=df1.drop('SES_StudentResponsible_AcademicEducation', axis=1)"
   ]
  },
  {
   "cell_type": "raw",
   "metadata": {},
   "source": [
    "df.info()"
   ]
  },
  {
   "cell_type": "markdown",
   "metadata": {},
   "source": [
    "# SES_Mother_JobSituation, SES_Father_JobSituation and SES_StudentResponsible_JobSituation dummies"
   ]
  },
  {
   "cell_type": "code",
   "execution_count": 91,
   "metadata": {},
   "outputs": [
    {
     "name": "stdout",
     "output_type": "stream",
     "text": [
      "Shape per number of steps:\n",
      "\n",
      "Trabalhador por conta própria como isolado \t (4814, 94)\n",
      "Trabalhador por conta de outrem \t (55405, 94)\n",
      "Situação Desconhecida \t (18220, 94)\n",
      "Doméstico \t (7214, 94)\n",
      "Desempregado \t (7576, 94)\n",
      "Trabalhador por conta própria como empregador \t (1897, 94)\n",
      "Reformado \t (485, 94)\n",
      "Outra \t (606, 94)\n",
      "Estudante \t (129, 94)\n",
      "Shape per number of steps:\n",
      "\n",
      "Trabalhador por conta de outrem \t (55560, 94)\n",
      "Situação Desconhecida \t (21505, 94)\n",
      "Trabalhador por conta própria como isolado \t (8070, 94)\n",
      "Trabalhador por conta própria como empregador \t (3961, 94)\n",
      "Reformado \t (1440, 94)\n",
      "Desempregado \t (4944, 94)\n",
      "Outra \t (675, 94)\n",
      "Doméstico \t (130, 94)\n",
      "Estudante \t (61, 94)\n",
      "Shape per number of steps:\n",
      "\n",
      "Trabalhador por conta própria como isolado \t (5144, 94)\n",
      "Trabalhador por conta de outrem \t (53931, 94)\n",
      "Situação Desconhecida \t (18100, 94)\n",
      "Doméstico \t (6016, 94)\n",
      "Desempregado \t (6966, 94)\n",
      "Trabalhador por conta própria como empregador \t (2138, 94)\n",
      "Reformado \t (1146, 94)\n",
      "Estudante \t (2326, 94)\n",
      "Outra \t (579, 94)\n"
     ]
    }
   ],
   "source": [
    "SES_Mother_JobSituation=df['SES_Mother_JobSituation'].unique()\n",
    "print(\"Shape per number of steps:\\n\")\n",
    "for i in SES_Mother_JobSituation:\n",
    "    SES_Mother_JobSituation_i = df[df['SES_Mother_JobSituation']== i]\n",
    "    print(i, '\\t', SES_Mother_JobSituation_i.shape)\n",
    "    \n",
    "SES_Father_JobSituation=df['SES_Father_JobSituation'].unique()\n",
    "print(\"Shape per number of steps:\\n\")\n",
    "for i in SES_Father_JobSituation:\n",
    "    SES_Father_JobSituation_i = df[df['SES_Father_JobSituation']== i]\n",
    "    print(i, '\\t', SES_Father_JobSituation_i.shape)\n",
    "    \n",
    "SES_StudentResponsible_JobSituation=df['SES_StudentResponsible_JobSituation'].unique()\n",
    "print(\"Shape per number of steps:\\n\")\n",
    "for i in SES_StudentResponsible_JobSituation:\n",
    "    SES_StudentResponsible_JobSituation_i = df[df['SES_StudentResponsible_JobSituation']== i]\n",
    "    print(i, '\\t', SES_StudentResponsible_JobSituation_i.shape)"
   ]
  },
  {
   "cell_type": "code",
   "execution_count": 92,
   "metadata": {},
   "outputs": [
    {
     "name": "stdout",
     "output_type": "stream",
     "text": [
      "Unique values per features to be binarised:\n",
      "\n",
      "SES_Mother_JobSituation \t ['Trabalhador por conta própria como isolado'\n",
      " 'Trabalhador por conta de outrem' 'Situação Desconhecida' 'Doméstico'\n",
      " 'Desempregado' 'Trabalhador por conta própria como empregador'\n",
      " 'Reformado' 'Outra' 'Estudante']\n",
      "SES_Father_JobSituation \t ['Trabalhador por conta de outrem' 'Situação Desconhecida'\n",
      " 'Trabalhador por conta própria como isolado'\n",
      " 'Trabalhador por conta própria como empregador' 'Reformado'\n",
      " 'Desempregado' 'Outra' 'Doméstico' 'Estudante']\n",
      "SES_StudentResponsible_JobSituation \t ['Trabalhador por conta própria como isolado'\n",
      " 'Trabalhador por conta de outrem' 'Situação Desconhecida' 'Doméstico'\n",
      " 'Desempregado' 'Trabalhador por conta própria como empregador'\n",
      " 'Reformado' 'Estudante' 'Outra']\n"
     ]
    }
   ],
   "source": [
    "Binarised_Features=['SES_Mother_JobSituation', 'SES_Father_JobSituation', 'SES_StudentResponsible_JobSituation']\n",
    "\n",
    "print(\"Unique values per features to be binarised:\\n\")\n",
    "for i in Binarised_Features:\n",
    "    HE_i= df[i].unique()\n",
    "    print(i, '\\t', HE_i)"
   ]
  },
  {
   "cell_type": "code",
   "execution_count": 93,
   "metadata": {},
   "outputs": [],
   "source": [
    "df1=df\n",
    "df['SES_Mother_JobSituation']= df['SES_Mother_JobSituation'].replace(['Trabalhador por conta própria como isolado', \n",
    "                                                                      'Trabalhador por conta de outrem',\n",
    "                                                                      'Situação Desconhecida',\n",
    "                                                                      'Doméstico', 'Desempregado',\n",
    "                                                                      'Trabalhador por conta própria como empregador',\n",
    "                                                                      'Reformado','Outra', 'Estudante'],\n",
    "                                                                      ['SelfEmployed',\n",
    "                                                                       'Employee',\n",
    "                                                                       'Unknown',\n",
    "                                                                       'HomeAffairs', 'Unemployed',\n",
    "                                                                       'Employer',\n",
    "                                                                       'Retired', 'Other', 'Student'])\n",
    "df['SES_Father_JobSituation']= df['SES_Father_JobSituation'].replace(['Trabalhador por conta própria como isolado', \n",
    "                                                                      'Trabalhador por conta de outrem',\n",
    "                                                                      'Situação Desconhecida',\n",
    "                                                                      'Doméstico', 'Desempregado',\n",
    "                                                                      'Trabalhador por conta própria como empregador',\n",
    "                                                                      'Reformado','Outra', 'Estudante'],\n",
    "                                                                      ['SelfEmployed',\n",
    "                                                                       'Employee',\n",
    "                                                                       'Unknown',\n",
    "                                                                       'HomeAffairs', 'Unemployed',\n",
    "                                                                       'Employer',\n",
    "                                                                       'Retired', 'Other', 'Student'])\n",
    "df['SES_StudentResponsible_JobSituation']= df['SES_StudentResponsible_JobSituation'].replace(['Trabalhador por conta própria como isolado', \n",
    "                                                                      'Trabalhador por conta de outrem',\n",
    "                                                                      'Situação Desconhecida',\n",
    "                                                                      'Doméstico', 'Desempregado',\n",
    "                                                                      'Trabalhador por conta própria como empregador',\n",
    "                                                                      'Reformado','Outra', 'Estudante'],\n",
    "                                                                      ['SelfEmployed',\n",
    "                                                                       'Employee',\n",
    "                                                                       'Unknown',\n",
    "                                                                       'HomeAffairs', 'Unemployed',\n",
    "                                                                       'Employer',\n",
    "                                                                       'Retired', 'Other', 'Student'])"
   ]
  },
  {
   "cell_type": "raw",
   "metadata": {},
   "source": [
    "Binarised_Features=['SES_Mother_JobSituation', 'SES_Father_JobSituation', 'SES_StudentResponsible_JobSituation']\n",
    "\n",
    "print(\"Unique values per features to be binarised:\\n\")\n",
    "for i in Binarised_Features:\n",
    "    HE_i= df[i].unique()\n",
    "    print(i, '\\t', HE_i)"
   ]
  },
  {
   "cell_type": "code",
   "execution_count": 94,
   "metadata": {},
   "outputs": [
    {
     "data": {
      "text/html": [
       "<div>\n",
       "<style scoped>\n",
       "    .dataframe tbody tr th:only-of-type {\n",
       "        vertical-align: middle;\n",
       "    }\n",
       "\n",
       "    .dataframe tbody tr th {\n",
       "        vertical-align: top;\n",
       "    }\n",
       "\n",
       "    .dataframe thead th {\n",
       "        text-align: right;\n",
       "    }\n",
       "</style>\n",
       "<table border=\"1\" class=\"dataframe\">\n",
       "  <thead>\n",
       "    <tr style=\"text-align: right;\">\n",
       "      <th></th>\n",
       "      <th>SES_MOTH_JobSit_Employee</th>\n",
       "      <th>SES_MOTH_JobSit_Employer</th>\n",
       "      <th>SES_MOTH_JobSit_HomeAffairs</th>\n",
       "      <th>SES_MOTH_JobSit_Other</th>\n",
       "      <th>SES_MOTH_JobSit_Retired</th>\n",
       "      <th>SES_MOTH_JobSit_SelfEmployed</th>\n",
       "      <th>SES_MOTH_JobSit_Student</th>\n",
       "      <th>SES_MOTH_JobSit_Unemployed</th>\n",
       "      <th>SES_MOTH_JobSit_Unknown</th>\n",
       "    </tr>\n",
       "  </thead>\n",
       "  <tbody>\n",
       "    <tr>\n",
       "      <th>0</th>\n",
       "      <td>0</td>\n",
       "      <td>0</td>\n",
       "      <td>0</td>\n",
       "      <td>0</td>\n",
       "      <td>0</td>\n",
       "      <td>1</td>\n",
       "      <td>0</td>\n",
       "      <td>0</td>\n",
       "      <td>0</td>\n",
       "    </tr>\n",
       "    <tr>\n",
       "      <th>1</th>\n",
       "      <td>1</td>\n",
       "      <td>0</td>\n",
       "      <td>0</td>\n",
       "      <td>0</td>\n",
       "      <td>0</td>\n",
       "      <td>0</td>\n",
       "      <td>0</td>\n",
       "      <td>0</td>\n",
       "      <td>0</td>\n",
       "    </tr>\n",
       "    <tr>\n",
       "      <th>2</th>\n",
       "      <td>0</td>\n",
       "      <td>0</td>\n",
       "      <td>0</td>\n",
       "      <td>0</td>\n",
       "      <td>0</td>\n",
       "      <td>0</td>\n",
       "      <td>0</td>\n",
       "      <td>0</td>\n",
       "      <td>1</td>\n",
       "    </tr>\n",
       "    <tr>\n",
       "      <th>3</th>\n",
       "      <td>0</td>\n",
       "      <td>0</td>\n",
       "      <td>0</td>\n",
       "      <td>0</td>\n",
       "      <td>0</td>\n",
       "      <td>0</td>\n",
       "      <td>0</td>\n",
       "      <td>0</td>\n",
       "      <td>1</td>\n",
       "    </tr>\n",
       "    <tr>\n",
       "      <th>4</th>\n",
       "      <td>0</td>\n",
       "      <td>0</td>\n",
       "      <td>0</td>\n",
       "      <td>0</td>\n",
       "      <td>0</td>\n",
       "      <td>0</td>\n",
       "      <td>0</td>\n",
       "      <td>0</td>\n",
       "      <td>1</td>\n",
       "    </tr>\n",
       "  </tbody>\n",
       "</table>\n",
       "</div>"
      ],
      "text/plain": [
       "   SES_MOTH_JobSit_Employee  SES_MOTH_JobSit_Employer  \\\n",
       "0                         0                         0   \n",
       "1                         1                         0   \n",
       "2                         0                         0   \n",
       "3                         0                         0   \n",
       "4                         0                         0   \n",
       "\n",
       "   SES_MOTH_JobSit_HomeAffairs  SES_MOTH_JobSit_Other  \\\n",
       "0                            0                      0   \n",
       "1                            0                      0   \n",
       "2                            0                      0   \n",
       "3                            0                      0   \n",
       "4                            0                      0   \n",
       "\n",
       "   SES_MOTH_JobSit_Retired  SES_MOTH_JobSit_SelfEmployed  \\\n",
       "0                        0                             1   \n",
       "1                        0                             0   \n",
       "2                        0                             0   \n",
       "3                        0                             0   \n",
       "4                        0                             0   \n",
       "\n",
       "   SES_MOTH_JobSit_Student  SES_MOTH_JobSit_Unemployed  \\\n",
       "0                        0                           0   \n",
       "1                        0                           0   \n",
       "2                        0                           0   \n",
       "3                        0                           0   \n",
       "4                        0                           0   \n",
       "\n",
       "   SES_MOTH_JobSit_Unknown  \n",
       "0                        0  \n",
       "1                        0  \n",
       "2                        1  \n",
       "3                        1  \n",
       "4                        1  "
      ]
     },
     "execution_count": 94,
     "metadata": {},
     "output_type": "execute_result"
    }
   ],
   "source": [
    "ind_SES_Mother_JobSituation = pd.get_dummies(df['SES_Mother_JobSituation'], prefix='SES_MOTH_JobSit')\n",
    "ind_SES_Mother_JobSituation.head()"
   ]
  },
  {
   "cell_type": "code",
   "execution_count": 95,
   "metadata": {},
   "outputs": [],
   "source": [
    "ind_SES_Mother_JobSituation1 = ind_SES_Mother_JobSituation.drop('SES_MOTH_JobSit_Employee', axis=1)\n",
    "df1 = pd.concat([ind_SES_Mother_JobSituation1, df], axis=1)\n",
    "df=df1.drop('SES_Mother_JobSituation', axis=1)"
   ]
  },
  {
   "cell_type": "code",
   "execution_count": 96,
   "metadata": {},
   "outputs": [],
   "source": [
    "ind_SES_Father_JobSituation = pd.get_dummies(df['SES_Father_JobSituation'], prefix='SES_FATH_JobSit')\n",
    "ind_SES_Father_JobSituation1 = ind_SES_Father_JobSituation.drop('SES_FATH_JobSit_Employee', axis=1)\n",
    "df1 = pd.concat([ind_SES_Father_JobSituation1, df], axis=1)\n",
    "df=df1.drop('SES_Father_JobSituation', axis=1)"
   ]
  },
  {
   "cell_type": "code",
   "execution_count": 97,
   "metadata": {},
   "outputs": [],
   "source": [
    "ind_SES_StudentResponsible_JobSituation = pd.get_dummies(df['SES_StudentResponsible_JobSituation'], prefix='SES_STDRESP_JobSit')\n",
    "ind_SES_StudentResponsible_JobSituation1 = ind_SES_StudentResponsible_JobSituation.drop('SES_STDRESP_JobSit_Employee', axis=1)\n",
    "df1 = pd.concat([ind_SES_StudentResponsible_JobSituation1, df], axis=1)\n",
    "df=df1.drop('SES_StudentResponsible_JobSituation', axis=1)"
   ]
  },
  {
   "cell_type": "code",
   "execution_count": 98,
   "metadata": {},
   "outputs": [
    {
     "name": "stdout",
     "output_type": "stream",
     "text": [
      "<class 'pandas.core.frame.DataFrame'>\n",
      "Int64Index: 96346 entries, 0 to 96347\n",
      "Columns: 115 entries, SES_STDRESP_JobSit_Employer to N_Retentions\n",
      "dtypes: float64(8), int64(13), object(2), uint8(92)\n",
      "memory usage: 26.1+ MB\n"
     ]
    }
   ],
   "source": [
    "df.info()"
   ]
  },
  {
   "cell_type": "raw",
   "metadata": {},
   "source": [
    "df.info(max_cols=200)"
   ]
  },
  {
   "cell_type": "code",
   "execution_count": 99,
   "metadata": {},
   "outputs": [
    {
     "data": {
      "text/plain": [
       "Index(['SES_STDRESP_JobSit_Employer', 'SES_STDRESP_JobSit_HomeAffairs',\n",
       "       'SES_STDRESP_JobSit_Other', 'SES_STDRESP_JobSit_Retired',\n",
       "       'SES_STDRESP_JobSit_SelfEmployed', 'SES_STDRESP_JobSit_Student',\n",
       "       'SES_STDRESP_JobSit_Unemployed', 'SES_STDRESP_JobSit_Unknown',\n",
       "       'SES_FATH_JobSit_Employer', 'SES_FATH_JobSit_HomeAffairs',\n",
       "       ...\n",
       "       'SES%_Parish_CollectiveDwellings', 'SES%_Parish_IliteracyRate',\n",
       "       'SES%_Parish_PostSecondarySchoolingRate', 'SES%_Parish_PrimarySector',\n",
       "       'SES%_Parish_SecondarySector', 'SES%_Parish_UnemploymentRate',\n",
       "       'SubjectCod', 'Subject', 'FinalMark', 'N_Retentions'],\n",
       "      dtype='object', length=115)"
      ]
     },
     "execution_count": 99,
     "metadata": {},
     "output_type": "execute_result"
    }
   ],
   "source": [
    "df.columns"
   ]
  },
  {
   "cell_type": "markdown",
   "metadata": {},
   "source": [
    "# SES_Father_ProfessionalClass, SES_Mother_ProfessionalClass and SES_StudentResponsible_ProfessionalClass "
   ]
  },
  {
   "cell_type": "code",
   "execution_count": 100,
   "metadata": {},
   "outputs": [
    {
     "name": "stdout",
     "output_type": "stream",
     "text": [
      "Unique values per features to be binarised:\n",
      "\n",
      "SES_Father_ProfessionalClass \t [2 0 4 3 1]\n",
      "SES_Mother_ProfessionalClass \t [2 1 0 4 3]\n"
     ]
    }
   ],
   "source": [
    "Binarised_Features=['SES_Father_ProfessionalClass', 'SES_Mother_ProfessionalClass']\n",
    "\n",
    "print(\"Unique values per features to be binarised:\\n\")\n",
    "for i in Binarised_Features:\n",
    "    HE_i= df[i].unique()\n",
    "    print(i, '\\t', HE_i)"
   ]
  },
  {
   "cell_type": "raw",
   "metadata": {},
   "source": [
    "Professional classes per level of competence:\n",
    "4-University II\n",
    "3-University I\n",
    "2-Basic II to Secondary\n",
    "1-Basic I\n",
    "0-Unknown"
   ]
  },
  {
   "cell_type": "code",
   "execution_count": 101,
   "metadata": {},
   "outputs": [
    {
     "name": "stdout",
     "output_type": "stream",
     "text": [
      "Unique values per features to be binarised:\n",
      "\n",
      "SES_Father_ProfessionalClass \t ['BasicII_Secondary' 'Unknown_NoProfession' 'UnivII' 'UnivI' 'BasicI']\n",
      "SES_Mother_ProfessionalClass \t ['BasicII_Secondary' 'BasicI' 'Unknown_NoProfession' 'UnivII' 'UnivI']\n"
     ]
    }
   ],
   "source": [
    "df1=df\n",
    "df['SES_Mother_ProfessionalClass']= df['SES_Mother_ProfessionalClass'].replace([0,1,2,3,4],\n",
    "                                                                      ['Unknown_NoProfession','BasicI', 'BasicII_Secondary',\n",
    "                                                                       'UnivI', 'UnivII'])\n",
    "df['SES_Father_ProfessionalClass']= df['SES_Father_ProfessionalClass'].replace([0,1,2,3,4],\n",
    "                                                                      ['Unknown_NoProfession','BasicI', 'BasicII_Secondary',\n",
    "                                                                       'UnivI', 'UnivII'])\n",
    "\n",
    "print(\"Unique values per features to be binarised:\\n\")\n",
    "for i in Binarised_Features:\n",
    "    HE_i= df[i].unique()\n",
    "    print(i, '\\t', HE_i)"
   ]
  },
  {
   "cell_type": "code",
   "execution_count": 102,
   "metadata": {},
   "outputs": [
    {
     "data": {
      "text/html": [
       "<div>\n",
       "<style scoped>\n",
       "    .dataframe tbody tr th:only-of-type {\n",
       "        vertical-align: middle;\n",
       "    }\n",
       "\n",
       "    .dataframe tbody tr th {\n",
       "        vertical-align: top;\n",
       "    }\n",
       "\n",
       "    .dataframe thead th {\n",
       "        text-align: right;\n",
       "    }\n",
       "</style>\n",
       "<table border=\"1\" class=\"dataframe\">\n",
       "  <thead>\n",
       "    <tr style=\"text-align: right;\">\n",
       "      <th></th>\n",
       "      <th>SES_MOTH_ProfClass_BasicI</th>\n",
       "      <th>SES_MOTH_ProfClass_BasicII_Secondary</th>\n",
       "      <th>SES_MOTH_ProfClass_UnivI</th>\n",
       "      <th>SES_MOTH_ProfClass_UnivII</th>\n",
       "      <th>SES_MOTH_ProfClass_Unknown_NoProfession</th>\n",
       "    </tr>\n",
       "  </thead>\n",
       "  <tbody>\n",
       "    <tr>\n",
       "      <th>0</th>\n",
       "      <td>0</td>\n",
       "      <td>1</td>\n",
       "      <td>0</td>\n",
       "      <td>0</td>\n",
       "      <td>0</td>\n",
       "    </tr>\n",
       "    <tr>\n",
       "      <th>1</th>\n",
       "      <td>1</td>\n",
       "      <td>0</td>\n",
       "      <td>0</td>\n",
       "      <td>0</td>\n",
       "      <td>0</td>\n",
       "    </tr>\n",
       "    <tr>\n",
       "      <th>2</th>\n",
       "      <td>0</td>\n",
       "      <td>0</td>\n",
       "      <td>0</td>\n",
       "      <td>0</td>\n",
       "      <td>1</td>\n",
       "    </tr>\n",
       "    <tr>\n",
       "      <th>3</th>\n",
       "      <td>0</td>\n",
       "      <td>0</td>\n",
       "      <td>0</td>\n",
       "      <td>0</td>\n",
       "      <td>1</td>\n",
       "    </tr>\n",
       "    <tr>\n",
       "      <th>4</th>\n",
       "      <td>0</td>\n",
       "      <td>0</td>\n",
       "      <td>0</td>\n",
       "      <td>0</td>\n",
       "      <td>1</td>\n",
       "    </tr>\n",
       "  </tbody>\n",
       "</table>\n",
       "</div>"
      ],
      "text/plain": [
       "   SES_MOTH_ProfClass_BasicI  SES_MOTH_ProfClass_BasicII_Secondary  \\\n",
       "0                          0                                     1   \n",
       "1                          1                                     0   \n",
       "2                          0                                     0   \n",
       "3                          0                                     0   \n",
       "4                          0                                     0   \n",
       "\n",
       "   SES_MOTH_ProfClass_UnivI  SES_MOTH_ProfClass_UnivII  \\\n",
       "0                         0                          0   \n",
       "1                         0                          0   \n",
       "2                         0                          0   \n",
       "3                         0                          0   \n",
       "4                         0                          0   \n",
       "\n",
       "   SES_MOTH_ProfClass_Unknown_NoProfession  \n",
       "0                                        0  \n",
       "1                                        0  \n",
       "2                                        1  \n",
       "3                                        1  \n",
       "4                                        1  "
      ]
     },
     "execution_count": 102,
     "metadata": {},
     "output_type": "execute_result"
    }
   ],
   "source": [
    "ind_SES_Mother_ProfessionalClass = pd.get_dummies(df['SES_Mother_ProfessionalClass'], prefix='SES_MOTH_ProfClass')\n",
    "ind_SES_Mother_ProfessionalClass.head()"
   ]
  },
  {
   "cell_type": "code",
   "execution_count": 103,
   "metadata": {},
   "outputs": [],
   "source": [
    "ind_SES_Mother_ProfessionalClass1 = ind_SES_Mother_ProfessionalClass.drop('SES_MOTH_ProfClass_BasicII_Secondary', axis=1)\n",
    "df1 = pd.concat([ind_SES_Mother_ProfessionalClass1, df], axis=1)\n",
    "df=df1.drop('SES_Mother_ProfessionalClass', axis=1)"
   ]
  },
  {
   "cell_type": "code",
   "execution_count": 104,
   "metadata": {},
   "outputs": [],
   "source": [
    "ind_SES_Father_ProfessionalClass = pd.get_dummies(df['SES_Father_ProfessionalClass'], prefix='SES_FATH_ProfClass')\n",
    "ind_SES_Father_ProfessionalClass1 = ind_SES_Father_ProfessionalClass.drop('SES_FATH_ProfClass_BasicII_Secondary', axis=1)\n",
    "df1 = pd.concat([ind_SES_Father_ProfessionalClass1, df], axis=1)\n",
    "df=df1.drop('SES_Father_ProfessionalClass', axis=1)"
   ]
  },
  {
   "cell_type": "raw",
   "metadata": {},
   "source": [
    "df.info(max_cols=200)"
   ]
  },
  {
   "cell_type": "code",
   "execution_count": 105,
   "metadata": {},
   "outputs": [
    {
     "data": {
      "text/plain": [
       "array([2, 1, 0, 4, 3], dtype=int64)"
      ]
     },
     "execution_count": 105,
     "metadata": {},
     "output_type": "execute_result"
    }
   ],
   "source": [
    "df['SES_StudentResponsible_ProfessionalClass'].unique()"
   ]
  },
  {
   "cell_type": "code",
   "execution_count": 106,
   "metadata": {},
   "outputs": [],
   "source": [
    "df1=df\n",
    "df['SES_StudentResponsible_ProfessionalClass']= df['SES_StudentResponsible_ProfessionalClass'].replace([0,1,2,3,4],\n",
    "                                                                      ['Unknown_NoProfession','BasicI', 'BasicII_Secondary',\n",
    "                                                                       'UnivI', 'UnivII'])\n"
   ]
  },
  {
   "cell_type": "code",
   "execution_count": 107,
   "metadata": {},
   "outputs": [],
   "source": [
    "ind_SES_StudentResponsible_ProfessionalClass = pd.get_dummies(df['SES_StudentResponsible_ProfessionalClass'], prefix='SES_STDRESP_ProfClass')\n",
    "ind_SES_StudentResponsible_ProfessionalClass1 = ind_SES_StudentResponsible_ProfessionalClass.drop('SES_STDRESP_ProfClass_BasicII_Secondary', axis=1)\n",
    "df1 = pd.concat([ind_SES_StudentResponsible_ProfessionalClass1, df], axis=1)\n",
    "df=df1.drop('SES_StudentResponsible_ProfessionalClass', axis=1)"
   ]
  },
  {
   "cell_type": "raw",
   "metadata": {},
   "source": [
    "df.info(max_cols=200)"
   ]
  },
  {
   "cell_type": "markdown",
   "metadata": {},
   "source": [
    "# SubjectCod and Subject dummies"
   ]
  },
  {
   "cell_type": "code",
   "execution_count": 108,
   "metadata": {},
   "outputs": [
    {
     "name": "stdout",
     "output_type": "stream",
     "text": [
      "Unique values per features to be binarised:\n",
      "\n",
      "SubjectCod \t [22306 22216 22222 46105 22502 21004 22601 42102 44003 31403 22503 46102\n",
      " 46108 44304 22304 46107 22224 22215 22220 22218 22309 22221 22219 22227]\n",
      "Subject \t ['Português' 'Língua Estrangeira I - Inglês'\n",
      " 'Língua Estrangeira III - Espanhol' 'Matemática A' 'História A'\n",
      " 'Desenho A' 'Filosofia' 'Biologia e Geologia' 'Física e Química A'\n",
      " 'Economia A' 'História B' 'Geometria Descritiva A' 'Matemática B'\n",
      " 'Geografia A' 'Literatura Portuguesa'\n",
      " 'Matemática Aplicada às Ciências Sociais'\n",
      " 'Língua Estrangeira III - Inglês' 'Língua Estrangeira I - Francês'\n",
      " 'Língua Estrangeira II - Inglês' 'Língua Estrangeira II - Espanhol'\n",
      " 'Português Língua Não Materna' 'Língua Estrangeira III - Alemão'\n",
      " 'Língua Estrangeira II - Francês' 'Inglês']\n"
     ]
    }
   ],
   "source": [
    "Binarised_Features=['SubjectCod', 'Subject']\n",
    "\n",
    "print(\"Unique values per features to be binarised:\\n\")\n",
    "for i in Binarised_Features:\n",
    "    HE_i= df[i].unique()\n",
    "    print(i, '\\t', HE_i)"
   ]
  },
  {
   "cell_type": "code",
   "execution_count": 109,
   "metadata": {},
   "outputs": [],
   "source": [
    "df1=df\n",
    "df['Subject']= df['Subject'].replace(['Português', 'Língua Estrangeira I - Inglês', 'Língua Estrangeira III - Espanhol',\n",
    "                                      'Matemática A', 'História A', 'Desenho A', 'Filosofia', 'Biologia e Geologia',\n",
    "                                      'Física e Química A', 'Economia A', 'História B', 'Geometria Descritiva A','Matemática B',\n",
    "                                      'Geografia A', 'Literatura Portuguesa', 'Matemática Aplicada às Ciências Sociais',\n",
    "                                      'Língua Estrangeira III - Inglês', 'Língua Estrangeira I - Francês',\n",
    "                                      'Língua Estrangeira II - Inglês', 'Língua Estrangeira II - Espanhol',\n",
    "                                      'Português Língua Não Materna', 'Língua Estrangeira III - Alemão',\n",
    "                                      'Língua Estrangeira II - Francês', 'Inglês'],\n",
    "                                     ['Port', 'Foreign_Lang', 'Foreign_Lang',\n",
    "                                      'Quant', 'Qual', 'Quant', 'Qual', 'Quant',\n",
    "                                      'Quant', 'Qual', 'Qual', 'Quant','Quant',\n",
    "                                      'Qual', 'Port', 'Quant',\n",
    "                                      'Foreign_Lang', 'Foreign_Lang',\n",
    "                                      'Foreign_Lang', 'Foreign_Lang',\n",
    "                                      'Foreign_Lang', 'Foreign_Lang',\n",
    "                                      'Foreign_Lang', 'Foreign_Lang'])\n"
   ]
  },
  {
   "cell_type": "code",
   "execution_count": 110,
   "metadata": {},
   "outputs": [
    {
     "name": "stdout",
     "output_type": "stream",
     "text": [
      "Unique values per features to be binarised:\n",
      "\n",
      "SubjectCod \t [22306 22216 22222 46105 22502 21004 22601 42102 44003 31403 22503 46102\n",
      " 46108 44304 22304 46107 22224 22215 22220 22218 22309 22221 22219 22227]\n",
      "Subject \t ['Port' 'Foreign_Lang' 'Quant' 'Qual']\n"
     ]
    }
   ],
   "source": [
    "print(\"Unique values per features to be binarised:\\n\")\n",
    "for i in Binarised_Features:\n",
    "    HE_i= df[i].unique()\n",
    "    print(i, '\\t', HE_i)"
   ]
  },
  {
   "cell_type": "code",
   "execution_count": 111,
   "metadata": {},
   "outputs": [
    {
     "data": {
      "text/html": [
       "<div>\n",
       "<style scoped>\n",
       "    .dataframe tbody tr th:only-of-type {\n",
       "        vertical-align: middle;\n",
       "    }\n",
       "\n",
       "    .dataframe tbody tr th {\n",
       "        vertical-align: top;\n",
       "    }\n",
       "\n",
       "    .dataframe thead th {\n",
       "        text-align: right;\n",
       "    }\n",
       "</style>\n",
       "<table border=\"1\" class=\"dataframe\">\n",
       "  <thead>\n",
       "    <tr style=\"text-align: right;\">\n",
       "      <th></th>\n",
       "      <th>SubjClass_Foreign_Lang</th>\n",
       "      <th>SubjClass_Port</th>\n",
       "      <th>SubjClass_Qual</th>\n",
       "      <th>SubjClass_Quant</th>\n",
       "    </tr>\n",
       "  </thead>\n",
       "  <tbody>\n",
       "    <tr>\n",
       "      <th>0</th>\n",
       "      <td>0</td>\n",
       "      <td>1</td>\n",
       "      <td>0</td>\n",
       "      <td>0</td>\n",
       "    </tr>\n",
       "    <tr>\n",
       "      <th>1</th>\n",
       "      <td>1</td>\n",
       "      <td>0</td>\n",
       "      <td>0</td>\n",
       "      <td>0</td>\n",
       "    </tr>\n",
       "    <tr>\n",
       "      <th>2</th>\n",
       "      <td>1</td>\n",
       "      <td>0</td>\n",
       "      <td>0</td>\n",
       "      <td>0</td>\n",
       "    </tr>\n",
       "    <tr>\n",
       "      <th>3</th>\n",
       "      <td>0</td>\n",
       "      <td>0</td>\n",
       "      <td>0</td>\n",
       "      <td>1</td>\n",
       "    </tr>\n",
       "    <tr>\n",
       "      <th>4</th>\n",
       "      <td>0</td>\n",
       "      <td>1</td>\n",
       "      <td>0</td>\n",
       "      <td>0</td>\n",
       "    </tr>\n",
       "  </tbody>\n",
       "</table>\n",
       "</div>"
      ],
      "text/plain": [
       "   SubjClass_Foreign_Lang  SubjClass_Port  SubjClass_Qual  SubjClass_Quant\n",
       "0                       0               1               0                0\n",
       "1                       1               0               0                0\n",
       "2                       1               0               0                0\n",
       "3                       0               0               0                1\n",
       "4                       0               1               0                0"
      ]
     },
     "execution_count": 111,
     "metadata": {},
     "output_type": "execute_result"
    }
   ],
   "source": [
    "ind_Subject = pd.get_dummies(df['Subject'], prefix='SubjClass')\n",
    "ind_Subject.head()"
   ]
  },
  {
   "cell_type": "code",
   "execution_count": 112,
   "metadata": {},
   "outputs": [],
   "source": [
    "ind_Subject1 = ind_Subject.drop('SubjClass_Port', axis=1)\n",
    "df1 = pd.concat([ind_Subject1, df], axis=1)"
   ]
  },
  {
   "cell_type": "code",
   "execution_count": 113,
   "metadata": {},
   "outputs": [],
   "source": [
    "df=df1.drop(['Subject'], axis=1)"
   ]
  },
  {
   "cell_type": "code",
   "execution_count": 114,
   "metadata": {},
   "outputs": [],
   "source": [
    "df_10=df[(df.AcYear_11==0) & (df.AcYear_12==0)]\n",
    "df_11=df[(df.AcYear_11==1)]\n",
    "df_12=df[(df.AcYear_12==1)]"
   ]
  },
  {
   "cell_type": "code",
   "execution_count": 115,
   "metadata": {},
   "outputs": [
    {
     "name": "stdout",
     "output_type": "stream",
     "text": [
      "(96346, 126)\n",
      "(32706, 126)\n",
      "(32396, 126)\n",
      "(31244, 126)\n"
     ]
    }
   ],
   "source": [
    "print(df.shape)\n",
    "print(df_10.shape)\n",
    "print(df_11.shape)\n",
    "print(df_12.shape)"
   ]
  },
  {
   "cell_type": "code",
   "execution_count": 116,
   "metadata": {},
   "outputs": [
    {
     "name": "stderr",
     "output_type": "stream",
     "text": [
      "C:\\ProgramData\\Anaconda3\\lib\\site-packages\\pandas\\core\\frame.py:4133: SettingWithCopyWarning: \n",
      "A value is trying to be set on a copy of a slice from a DataFrame\n",
      "\n",
      "See the caveats in the documentation: https://pandas.pydata.org/pandas-docs/stable/user_guide/indexing.html#returning-a-view-versus-a-copy\n",
      "  errors=errors,\n"
     ]
    }
   ],
   "source": [
    "df_10_JOIN=df_10[['Student_ID','School_Year','SubjectCod','FinalMark']]\n",
    "df_11_JOIN=df_11[['Student_ID','School_Year','SubjectCod','FinalMark']]\n",
    "df_10_JOIN.rename(columns={'Student_ID':'Student_ID_10','School_Year':'School_Year_10','SubjectCod':'SubjectCod_10',\n",
    "                             'FinalMark':'FinalMark_10'}, inplace=True)\n",
    "df_11_JOIN.rename(columns={'Student_ID':'Student_ID_11','School_Year':'School_Year_11','SubjectCod':'SubjectCod_11',\n",
    "                             'FinalMark':'FinalMark_11'}, inplace=True)"
   ]
  },
  {
   "cell_type": "code",
   "execution_count": 117,
   "metadata": {},
   "outputs": [
    {
     "name": "stdout",
     "output_type": "stream",
     "text": [
      "Unique values per features to be binarised:\n",
      "\n",
      "School_Year_10 \t ['2015/2016' '2014/2015']\n"
     ]
    }
   ],
   "source": [
    "Binarised_Features=['School_Year_10']\n",
    "\n",
    "print(\"Unique values per features to be binarised:\\n\")\n",
    "for i in Binarised_Features:\n",
    "    HE_i= df_10_JOIN[i].unique()\n",
    "    print(i, '\\t', HE_i)"
   ]
  },
  {
   "cell_type": "code",
   "execution_count": 118,
   "metadata": {},
   "outputs": [
    {
     "name": "stderr",
     "output_type": "stream",
     "text": [
      "C:\\ProgramData\\Anaconda3\\lib\\site-packages\\ipykernel_launcher.py:2: SettingWithCopyWarning: \n",
      "A value is trying to be set on a copy of a slice from a DataFrame.\n",
      "Try using .loc[row_indexer,col_indexer] = value instead\n",
      "\n",
      "See the caveats in the documentation: https://pandas.pydata.org/pandas-docs/stable/user_guide/indexing.html#returning-a-view-versus-a-copy\n",
      "  \n"
     ]
    }
   ],
   "source": [
    "df_10_JOIN['School_Year_10']= df_10_JOIN['School_Year_10'].replace(['2015/2016','2014/2015'],\n",
    "                                     ['2016/2017','2015/2016'])"
   ]
  },
  {
   "cell_type": "code",
   "execution_count": 119,
   "metadata": {},
   "outputs": [
    {
     "name": "stdout",
     "output_type": "stream",
     "text": [
      "Unique values per features to be binarised:\n",
      "\n",
      "School_Year_11 \t ['2016/2017' '2015/2016' '2014/2015']\n"
     ]
    }
   ],
   "source": [
    "Binarised_Features=['School_Year_11']\n",
    "\n",
    "print(\"Unique values per features to be binarised:\\n\")\n",
    "for i in Binarised_Features:\n",
    "    HE_i= df_11_JOIN[i].unique()\n",
    "    print(i, '\\t', HE_i)"
   ]
  },
  {
   "cell_type": "code",
   "execution_count": 120,
   "metadata": {},
   "outputs": [
    {
     "name": "stderr",
     "output_type": "stream",
     "text": [
      "C:\\ProgramData\\Anaconda3\\lib\\site-packages\\ipykernel_launcher.py:2: SettingWithCopyWarning: \n",
      "A value is trying to be set on a copy of a slice from a DataFrame.\n",
      "Try using .loc[row_indexer,col_indexer] = value instead\n",
      "\n",
      "See the caveats in the documentation: https://pandas.pydata.org/pandas-docs/stable/user_guide/indexing.html#returning-a-view-versus-a-copy\n",
      "  \n"
     ]
    }
   ],
   "source": [
    "df_11_JOIN['School_Year_11']= df_11_JOIN['School_Year_11'].replace(['2016/2017','2015/2016','2014/2015'],\n",
    "                                     ['2017/2018','2016/2017','2015/2016'])"
   ]
  },
  {
   "cell_type": "code",
   "execution_count": 121,
   "metadata": {},
   "outputs": [],
   "source": [
    "df1=pd.merge(df, df_10_JOIN, how='left',\n",
    "                             left_on=['Student_ID','School_Year', 'SubjectCod'],\n",
    "                             right_on=['Student_ID_10','School_Year_10', 'SubjectCod_10'],suffixes=(None,None), validate='1:1')\n",
    "                           \n",
    "\n",
    "df1=pd.merge(df1, df_11_JOIN,how='left',\n",
    "                             left_on=['Student_ID','School_Year', 'SubjectCod'],\n",
    "                             right_on=['Student_ID_11','School_Year_11', 'SubjectCod_11'],suffixes=(None,None), validate='1:1')"
   ]
  },
  {
   "cell_type": "code",
   "execution_count": 122,
   "metadata": {},
   "outputs": [
    {
     "name": "stdout",
     "output_type": "stream",
     "text": [
      "(96346, 134)\n"
     ]
    }
   ],
   "source": [
    "print(df1.shape)"
   ]
  },
  {
   "cell_type": "code",
   "execution_count": 123,
   "metadata": {},
   "outputs": [
    {
     "data": {
      "text/html": [
       "<div>\n",
       "<style scoped>\n",
       "    .dataframe tbody tr th:only-of-type {\n",
       "        vertical-align: middle;\n",
       "    }\n",
       "\n",
       "    .dataframe tbody tr th {\n",
       "        vertical-align: top;\n",
       "    }\n",
       "\n",
       "    .dataframe thead th {\n",
       "        text-align: right;\n",
       "    }\n",
       "</style>\n",
       "<table border=\"1\" class=\"dataframe\">\n",
       "  <thead>\n",
       "    <tr style=\"text-align: right;\">\n",
       "      <th></th>\n",
       "      <th>SubjClass_Foreign_Lang</th>\n",
       "      <th>SubjClass_Qual</th>\n",
       "      <th>SubjClass_Quant</th>\n",
       "      <th>SES_STDRESP_ProfClass_BasicI</th>\n",
       "      <th>SES_STDRESP_ProfClass_UnivI</th>\n",
       "      <th>SES_STDRESP_ProfClass_UnivII</th>\n",
       "      <th>SES_STDRESP_ProfClass_Unknown_NoProfession</th>\n",
       "      <th>SES_FATH_ProfClass_BasicI</th>\n",
       "      <th>SES_FATH_ProfClass_UnivI</th>\n",
       "      <th>SES_FATH_ProfClass_UnivII</th>\n",
       "      <th>...</th>\n",
       "      <th>FinalMark</th>\n",
       "      <th>N_Retentions</th>\n",
       "      <th>Student_ID_10</th>\n",
       "      <th>School_Year_10</th>\n",
       "      <th>SubjectCod_10</th>\n",
       "      <th>FinalMark_10</th>\n",
       "      <th>Student_ID_11</th>\n",
       "      <th>School_Year_11</th>\n",
       "      <th>SubjectCod_11</th>\n",
       "      <th>FinalMark_11</th>\n",
       "    </tr>\n",
       "  </thead>\n",
       "  <tbody>\n",
       "    <tr>\n",
       "      <th>0</th>\n",
       "      <td>0</td>\n",
       "      <td>0</td>\n",
       "      <td>0</td>\n",
       "      <td>0</td>\n",
       "      <td>0</td>\n",
       "      <td>0</td>\n",
       "      <td>0</td>\n",
       "      <td>0</td>\n",
       "      <td>0</td>\n",
       "      <td>0</td>\n",
       "      <td>...</td>\n",
       "      <td>10.0</td>\n",
       "      <td>1</td>\n",
       "      <td>NaN</td>\n",
       "      <td>NaN</td>\n",
       "      <td>NaN</td>\n",
       "      <td>NaN</td>\n",
       "      <td>1897972.0</td>\n",
       "      <td>2017/2018</td>\n",
       "      <td>22306.0</td>\n",
       "      <td>10.0</td>\n",
       "    </tr>\n",
       "    <tr>\n",
       "      <th>1</th>\n",
       "      <td>1</td>\n",
       "      <td>0</td>\n",
       "      <td>0</td>\n",
       "      <td>1</td>\n",
       "      <td>0</td>\n",
       "      <td>0</td>\n",
       "      <td>0</td>\n",
       "      <td>0</td>\n",
       "      <td>0</td>\n",
       "      <td>0</td>\n",
       "      <td>...</td>\n",
       "      <td>10.0</td>\n",
       "      <td>0</td>\n",
       "      <td>NaN</td>\n",
       "      <td>NaN</td>\n",
       "      <td>NaN</td>\n",
       "      <td>NaN</td>\n",
       "      <td>1898139.0</td>\n",
       "      <td>2017/2018</td>\n",
       "      <td>22216.0</td>\n",
       "      <td>12.0</td>\n",
       "    </tr>\n",
       "    <tr>\n",
       "      <th>2</th>\n",
       "      <td>1</td>\n",
       "      <td>0</td>\n",
       "      <td>0</td>\n",
       "      <td>0</td>\n",
       "      <td>0</td>\n",
       "      <td>0</td>\n",
       "      <td>1</td>\n",
       "      <td>0</td>\n",
       "      <td>0</td>\n",
       "      <td>0</td>\n",
       "      <td>...</td>\n",
       "      <td>19.0</td>\n",
       "      <td>0</td>\n",
       "      <td>NaN</td>\n",
       "      <td>NaN</td>\n",
       "      <td>NaN</td>\n",
       "      <td>NaN</td>\n",
       "      <td>1900750.0</td>\n",
       "      <td>2017/2018</td>\n",
       "      <td>22222.0</td>\n",
       "      <td>17.0</td>\n",
       "    </tr>\n",
       "    <tr>\n",
       "      <th>3</th>\n",
       "      <td>0</td>\n",
       "      <td>0</td>\n",
       "      <td>1</td>\n",
       "      <td>0</td>\n",
       "      <td>0</td>\n",
       "      <td>0</td>\n",
       "      <td>1</td>\n",
       "      <td>0</td>\n",
       "      <td>0</td>\n",
       "      <td>0</td>\n",
       "      <td>...</td>\n",
       "      <td>10.0</td>\n",
       "      <td>0</td>\n",
       "      <td>NaN</td>\n",
       "      <td>NaN</td>\n",
       "      <td>NaN</td>\n",
       "      <td>NaN</td>\n",
       "      <td>1889914.0</td>\n",
       "      <td>2017/2018</td>\n",
       "      <td>46105.0</td>\n",
       "      <td>11.0</td>\n",
       "    </tr>\n",
       "    <tr>\n",
       "      <th>4</th>\n",
       "      <td>0</td>\n",
       "      <td>0</td>\n",
       "      <td>0</td>\n",
       "      <td>0</td>\n",
       "      <td>0</td>\n",
       "      <td>0</td>\n",
       "      <td>1</td>\n",
       "      <td>0</td>\n",
       "      <td>0</td>\n",
       "      <td>0</td>\n",
       "      <td>...</td>\n",
       "      <td>13.0</td>\n",
       "      <td>0</td>\n",
       "      <td>NaN</td>\n",
       "      <td>NaN</td>\n",
       "      <td>NaN</td>\n",
       "      <td>NaN</td>\n",
       "      <td>1889914.0</td>\n",
       "      <td>2017/2018</td>\n",
       "      <td>22306.0</td>\n",
       "      <td>15.0</td>\n",
       "    </tr>\n",
       "  </tbody>\n",
       "</table>\n",
       "<p>5 rows × 134 columns</p>\n",
       "</div>"
      ],
      "text/plain": [
       "   SubjClass_Foreign_Lang  SubjClass_Qual  SubjClass_Quant  \\\n",
       "0                       0               0                0   \n",
       "1                       1               0                0   \n",
       "2                       1               0                0   \n",
       "3                       0               0                1   \n",
       "4                       0               0                0   \n",
       "\n",
       "   SES_STDRESP_ProfClass_BasicI  SES_STDRESP_ProfClass_UnivI  \\\n",
       "0                             0                            0   \n",
       "1                             1                            0   \n",
       "2                             0                            0   \n",
       "3                             0                            0   \n",
       "4                             0                            0   \n",
       "\n",
       "   SES_STDRESP_ProfClass_UnivII  SES_STDRESP_ProfClass_Unknown_NoProfession  \\\n",
       "0                             0                                           0   \n",
       "1                             0                                           0   \n",
       "2                             0                                           1   \n",
       "3                             0                                           1   \n",
       "4                             0                                           1   \n",
       "\n",
       "   SES_FATH_ProfClass_BasicI  SES_FATH_ProfClass_UnivI  \\\n",
       "0                          0                         0   \n",
       "1                          0                         0   \n",
       "2                          0                         0   \n",
       "3                          0                         0   \n",
       "4                          0                         0   \n",
       "\n",
       "   SES_FATH_ProfClass_UnivII  ...  FinalMark  N_Retentions  Student_ID_10  \\\n",
       "0                          0  ...       10.0             1            NaN   \n",
       "1                          0  ...       10.0             0            NaN   \n",
       "2                          0  ...       19.0             0            NaN   \n",
       "3                          0  ...       10.0             0            NaN   \n",
       "4                          0  ...       13.0             0            NaN   \n",
       "\n",
       "   School_Year_10  SubjectCod_10  FinalMark_10  Student_ID_11  School_Year_11  \\\n",
       "0             NaN            NaN           NaN      1897972.0       2017/2018   \n",
       "1             NaN            NaN           NaN      1898139.0       2017/2018   \n",
       "2             NaN            NaN           NaN      1900750.0       2017/2018   \n",
       "3             NaN            NaN           NaN      1889914.0       2017/2018   \n",
       "4             NaN            NaN           NaN      1889914.0       2017/2018   \n",
       "\n",
       "   SubjectCod_11  FinalMark_11  \n",
       "0        22306.0          10.0  \n",
       "1        22216.0          12.0  \n",
       "2        22222.0          17.0  \n",
       "3        46105.0          11.0  \n",
       "4        22306.0          15.0  \n",
       "\n",
       "[5 rows x 134 columns]"
      ]
     },
     "execution_count": 123,
     "metadata": {},
     "output_type": "execute_result"
    }
   ],
   "source": [
    "df1.head()"
   ]
  },
  {
   "cell_type": "code",
   "execution_count": 124,
   "metadata": {},
   "outputs": [
    {
     "data": {
      "text/plain": [
       "134"
      ]
     },
     "execution_count": 124,
     "metadata": {},
     "output_type": "execute_result"
    }
   ],
   "source": [
    "cols=df1.columns.tolist()\n",
    "len(cols)"
   ]
  },
  {
   "cell_type": "raw",
   "metadata": {},
   "source": [
    "cols"
   ]
  },
  {
   "cell_type": "code",
   "execution_count": 128,
   "metadata": {},
   "outputs": [],
   "source": [
    "cols=['Student_ID',\n",
    " 'AcYear_11',\n",
    " 'AcYear_12',\n",
    " 'School_Year',\n",
    " 'Std_Gender_F',\n",
    " 'N_Retentions',\n",
    " 'School_Size',\n",
    " 'Class_Size',\n",
    " 'Student_Computer',\n",
    " 'Student_Internet',\n",
    " 'Student_NumberEnrolments',\n",
    " 'Student_ActiveWorking',\n",
    " 'Student_Parish',\n",
    " 'Student_County',\n",
    " 'STD_Resp_CloseRelative',\n",
    " 'STD_Resp_Father',\n",
    " 'STD_Resp_Himself',\n",
    " 'STD_Resp_LegalResp',\n",
    " 'FTH_Nation_AFR',\n",
    " 'FTH_Nation_BR',\n",
    " 'FTH_Nation_CHN',\n",
    " 'FTH_Nation_EEUR',\n",
    " 'FTH_Nation_OTHERS',\n",
    " 'FTH_Nation_RICH',\n",
    " 'SES_STDRESP_ProfClass_BasicI',\n",
    " 'SES_STDRESP_ProfClass_UnivI',\n",
    " 'SES_STDRESP_ProfClass_UnivII',\n",
    " 'SES_STDRESP_ProfClass_Unknown_NoProfession',\n",
    " 'SES_FATH_ProfClass_BasicI',\n",
    " 'SES_FATH_ProfClass_UnivI',\n",
    " 'SES_FATH_ProfClass_UnivII',\n",
    " 'SES_FATH_ProfClass_Unknown_NoProfession',\n",
    " 'SES_MOTH_ProfClass_BasicI',\n",
    " 'SES_MOTH_ProfClass_UnivI',\n",
    " 'SES_MOTH_ProfClass_UnivII',\n",
    " 'SES_MOTH_ProfClass_Unknown_NoProfession',\n",
    " 'SES_STDRESP_JobSit_Employer',\n",
    " 'SES_STDRESP_JobSit_HomeAffairs',\n",
    " 'SES_STDRESP_JobSit_Other',\n",
    " 'SES_STDRESP_JobSit_Retired',\n",
    " 'SES_STDRESP_JobSit_SelfEmployed',\n",
    " 'SES_STDRESP_JobSit_Student',\n",
    " 'SES_STDRESP_JobSit_Unemployed',\n",
    " 'SES_STDRESP_JobSit_Unknown',\n",
    " 'SES_FATH_JobSit_Employer',\n",
    " 'SES_FATH_JobSit_HomeAffairs',\n",
    " 'SES_FATH_JobSit_Other',\n",
    " 'SES_FATH_JobSit_Retired',\n",
    " 'SES_FATH_JobSit_SelfEmployed',\n",
    " 'SES_FATH_JobSit_Student',\n",
    " 'SES_FATH_JobSit_Unemployed',\n",
    " 'SES_FATH_JobSit_Unknown',\n",
    " 'SES_MOTH_JobSit_Employer',\n",
    " 'SES_MOTH_JobSit_HomeAffairs',\n",
    " 'SES_MOTH_JobSit_Other',\n",
    " 'SES_MOTH_JobSit_Retired',\n",
    " 'SES_MOTH_JobSit_SelfEmployed',\n",
    " 'SES_MOTH_JobSit_Student',\n",
    " 'SES_MOTH_JobSit_Unemployed',\n",
    " 'SES_MOTH_JobSit_Unknown',\n",
    " 'SES_STDRESP_AcadEduc_Bachelor',\n",
    " 'SES_STDRESP_AcadEduc_Basic_I',\n",
    " 'SES_STDRESP_AcadEduc_Basic_II',\n",
    " 'SES_STDRESP_AcadEduc_Basic_III',\n",
    " 'SES_STDRESP_AcadEduc_Degree',\n",
    " 'SES_STDRESP_AcadEduc_Master',\n",
    " 'SES_STDRESP_AcadEduc_NoFormalEducation',\n",
    " 'SES_STDRESP_AcadEduc_Other',\n",
    " 'SES_STDRESP_AcadEduc_Phd',\n",
    " 'SES_STDRESP_AcadEduc_PostGraduation',\n",
    " 'SES_STDRESP_AcadEduc_Unknown',\n",
    " 'SES_FATH_AcadEduc_Bachelor',\n",
    " 'SES_FATH_AcadEduc_Basic_I',\n",
    " 'SES_FATH_AcadEduc_Basic_II',\n",
    " 'SES_FATH_AcadEduc_Basic_III',\n",
    " 'SES_FATH_AcadEduc_Degree',\n",
    " 'SES_FATH_AcadEduc_Master',\n",
    " 'SES_FATH_AcadEduc_NoFormalEducation',\n",
    " 'SES_FATH_AcadEduc_Other',\n",
    " 'SES_FATH_AcadEduc_Phd',\n",
    " 'SES_FATH_AcadEduc_PostGraduation',\n",
    " 'SES_FATH_AcadEduc_Unknown',\n",
    " 'SES_MOTH_AcadEduc_Bachelor',\n",
    " 'SES_MOTH_AcadEduc_Basic_I',\n",
    " 'SES_MOTH_AcadEduc_Basic_II',\n",
    " 'SES_MOTH_AcadEduc_Basic_III',\n",
    " 'SES_MOTH_AcadEduc_Degree',\n",
    " 'SES_MOTH_AcadEduc_Master',\n",
    " 'SES_MOTH_AcadEduc_NoFormalEducation',\n",
    " 'SES_MOTH_AcadEduc_Other',\n",
    " 'SES_MOTH_AcadEduc_Phd',\n",
    " 'SES_MOTH_AcadEduc_PostGraduation',\n",
    " 'SES_MOTH_AcadEduc_Unknown',\n",
    " 'SES_Scholarship_Full_Support',\n",
    " 'SES_Scholarship_Half_Support',\n",
    " 'SES%_Parish_FamilyNoClassicDwellings',\n",
    " 'SES%_Parish_CollectiveDwellings',\n",
    " 'SES%_Parish_IliteracyRate',\n",
    " 'SES%_Parish_PostSecondarySchoolingRate',\n",
    " 'SES%_Parish_PrimarySector',\n",
    " 'SES%_Parish_SecondarySector',\n",
    " 'SES%_Parish_UnemploymentRate',\n",
    " 'Tch_FixedTermStaff',\n",
    " 'Tch_PedagogicZoneDefinitivePermanentStaff',\n",
    " 'Tch_PedagogicZoneNoDefinitivePermanentStaff',\n",
    " 'Tch_SchoolClusterDefinitivePermanentStaff',\n",
    " 'Tch_SchoolClusterNoDefinitivePermanentStaff',\n",
    " 'Tch_SchoolNoDefinitivePermanentStaff',\n",
    " 'Tch_AcadEduc_Bachelor',\n",
    " 'Tch_AcadEduc_Other',\n",
    " 'Tch_AcadEduc_Phd_Master',\n",
    " 'Tch_Step_1234',\n",
    " 'Tch_Step_567',\n",
    " 'Tch_Step_8910',\n",
    " 'Tch_Gender_F',\n",
    " 'Teacher_TemporaryReplacement',\n",
    " 'Teacher_EducationSupport',\n",
    " 'Teacher_Age',\n",
    " 'Teacher_TeachingDedicatedTime',\n",
    " 'Teacher_NoTeachingDedicatedTime',\n",
    " 'Teacher_EducationSupportDedicatedTime',\n",
    " 'SubjectCod',\n",
    " 'SubjClass_Foreign_Lang',\n",
    " 'SubjClass_Qual',\n",
    " 'SubjClass_Quant',\n",
    " 'Student_ID_10',\n",
    " 'School_Year_10',\n",
    " 'SubjectCod_10',\n",
    " 'Student_ID_11',\n",
    " 'School_Year_11',\n",
    " 'SubjectCod_11',\n",
    " 'FinalMark_10',\n",
    " 'FinalMark_11',\n",
    " 'FinalMark']"
   ]
  },
  {
   "cell_type": "code",
   "execution_count": 129,
   "metadata": {},
   "outputs": [],
   "source": [
    "df1=df1.reindex(columns=cols)"
   ]
  },
  {
   "cell_type": "code",
   "execution_count": 130,
   "metadata": {},
   "outputs": [],
   "source": [
    "df1.to_excel(\"DSPREP.xlsx\", sheet_name='DATASET')"
   ]
  },
  {
   "cell_type": "code",
   "execution_count": null,
   "metadata": {},
   "outputs": [],
   "source": []
  }
 ],
 "metadata": {
  "kernelspec": {
   "display_name": "Python 3",
   "language": "python",
   "name": "python3"
  },
  "language_info": {
   "codemirror_mode": {
    "name": "ipython",
    "version": 3
   },
   "file_extension": ".py",
   "mimetype": "text/x-python",
   "name": "python",
   "nbconvert_exporter": "python",
   "pygments_lexer": "ipython3",
   "version": "3.8.3"
  }
 },
 "nbformat": 4,
 "nbformat_minor": 4
}
