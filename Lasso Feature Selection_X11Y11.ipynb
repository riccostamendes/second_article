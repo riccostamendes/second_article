{
 "cells": [
  {
   "cell_type": "markdown",
   "metadata": {},
   "source": [
    "# LASSO FEATURE SELECTION"
   ]
  },
  {
   "cell_type": "markdown",
   "metadata": {},
   "source": [
    "### The lasso method for variable selection¶\n",
    "\n",
    "The lasso method requires initial standardization of the regressors, so that the penalization scheme is fair to all regressors. For categorical regressors, one codes the regressor with dummy variables and then standardizes the dummy variables."
   ]
  },
  {
   "cell_type": "markdown",
   "metadata": {},
   "source": [
    "## LASSO Regression\n",
    "\n",
    "A linear model that estimates sparse coefficients.\n",
    "\n",
    "Mathematically, it consists of a linear model trained with $\\ell_1$ prior as regularizer. The objective function to minimize is:\n",
    "\n",
    "$$\\min_{w}\\frac{1}{2n_{samples}} \\big|\\big|Xw - y\\big|\\big|_2^2 + \\alpha \\big|\\big|w\\big|\\big|_1$$\n",
    "\n",
    "The lasso estimate thus solves the minimization of the least-squares penalty with $\\alpha \\big|\\big|w\\big|\\big|_1$ added, where $\\alpha$ is a constant and $\\big|\\big|w\\big|\\big|_1$ is the $\\ell_1-norm$ of the parameter vector.\n",
    "\n",
    "The Lasso is a shrinkage and selection method for linear regression. It minimizes the usual sum of squared errors, with a bound on the sum of the absolute values of the coefficients. It has connections to soft-thresholding of wavelet coefficients, forward stagewise regression, and boosting methods."
   ]
  },
  {
   "cell_type": "code",
   "execution_count": 1,
   "metadata": {},
   "outputs": [],
   "source": [
    "import pandas as pd\n",
    "import numpy as np\n",
    "from sklearn.pipeline import Pipeline\n",
    "from sklearn.model_selection import GridSearchCV\n",
    "from sklearn.preprocessing import StandardScaler\n",
    "from sklearn.linear_model import Lasso\n",
    "from sklearn.metrics import mean_squared_error, r2_score"
   ]
  },
  {
   "cell_type": "code",
   "execution_count": 2,
   "metadata": {},
   "outputs": [],
   "source": [
    "seed=42\n",
    "kf=4"
   ]
  },
  {
   "cell_type": "code",
   "execution_count": 3,
   "metadata": {},
   "outputs": [],
   "source": [
    "XY_train=pd.read_excel('Z:\\SecondArticle\\X11Y11_train.xlsx')"
   ]
  },
  {
   "cell_type": "code",
   "execution_count": 4,
   "metadata": {},
   "outputs": [],
   "source": [
    "XY_train=XY_train.drop(['Unnamed: 0', 'AcYear_11', 'AcYear_12'], axis=1)"
   ]
  },
  {
   "cell_type": "code",
   "execution_count": 5,
   "metadata": {},
   "outputs": [
    {
     "data": {
      "text/plain": [
       "(21934, 121)"
      ]
     },
     "execution_count": 5,
     "metadata": {},
     "output_type": "execute_result"
    }
   ],
   "source": [
    "XY_train.shape"
   ]
  },
  {
   "cell_type": "code",
   "execution_count": 6,
   "metadata": {},
   "outputs": [],
   "source": [
    "X_train=XY_train.iloc[:,:120]\n",
    "Y_train=XY_train.iloc[:,-1]"
   ]
  },
  {
   "cell_type": "code",
   "execution_count": 7,
   "metadata": {},
   "outputs": [],
   "source": [
    "Y_train=Y_train.to_numpy()"
   ]
  },
  {
   "cell_type": "code",
   "execution_count": 8,
   "metadata": {},
   "outputs": [],
   "source": [
    "# standardization\n",
    "scaler=StandardScaler()"
   ]
  },
  {
   "cell_type": "markdown",
   "metadata": {},
   "source": [
    "## Laso Cross Validation"
   ]
  },
  {
   "cell_type": "code",
   "execution_count": null,
   "metadata": {},
   "outputs": [],
   "source": [
    "pipeline = Pipeline([('standardize', StandardScaler()),('lasso', Lasso(alpha=0.01, fit_intercept=True, normalize=False,\n",
    "                  copy_X=True, max_iter=10000, tol=0.0001, warm_start=False, positive=False,\n",
    "                  random_state=seed))])"
   ]
  },
  {
   "cell_type": "code",
   "execution_count": null,
   "metadata": {},
   "outputs": [],
   "source": [
    "params = {'lasso__alpha':(0, 0.01, 0.02, 0.03, 0.04, 0.05, 0.06, 0.07, 0.08, 0.09, 0.1, 0.2, 0.3, 0.4)}"
   ]
  },
  {
   "cell_type": "code",
   "execution_count": null,
   "metadata": {},
   "outputs": [],
   "source": [
    "lasso_grid = GridSearchCV(pipeline, params, n_jobs=-1,\n",
    "                            cv=kf,scoring='neg_mean_absolute_error', verbose=1) "
   ]
  },
  {
   "cell_type": "code",
   "execution_count": null,
   "metadata": {},
   "outputs": [],
   "source": [
    "grid_result=lasso_grid.fit(X_train,Y_train)"
   ]
  },
  {
   "cell_type": "code",
   "execution_count": null,
   "metadata": {},
   "outputs": [],
   "source": [
    "best = grid_result.best_estimator_.get_params()\n",
    "\n",
    "for k in sorted(params.keys()): \n",
    "    print('\\t{0}: \\t {1:.2f}'.format(k, best[k]))"
   ]
  },
  {
   "cell_type": "code",
   "execution_count": null,
   "metadata": {},
   "outputs": [],
   "source": [
    "df_lasso_grid_res= pd.DataFrame(grid_result.cv_results_)"
   ]
  },
  {
   "cell_type": "code",
   "execution_count": null,
   "metadata": {},
   "outputs": [],
   "source": [
    "df_lasso_grid_res.to_excel('LASSO_RESULTS.xlsx', sheet_name='X11Y11_train')"
   ]
  },
  {
   "cell_type": "markdown",
   "metadata": {},
   "source": [
    "## Lasso FIT"
   ]
  },
  {
   "cell_type": "code",
   "execution_count": 9,
   "metadata": {},
   "outputs": [],
   "source": [
    "# lasso_alfa = 0.03: last mean_test_score that is greater than best mean_test_score minus best std_test_score \n",
    "Lasso_rgr = Lasso(alpha=0.03, copy_X=True, fit_intercept=True, max_iter=10000,\n",
    "                       normalize=False, positive=False, precompute=False,\n",
    "                       random_state=seed, selection='cyclic', tol=0.0001,\n",
    "                       warm_start=False)"
   ]
  },
  {
   "cell_type": "code",
   "execution_count": 10,
   "metadata": {},
   "outputs": [],
   "source": [
    "tscale=scaler.fit(X_train)\n",
    "X_train_std=tscale.transform(X_train)"
   ]
  },
  {
   "cell_type": "code",
   "execution_count": 11,
   "metadata": {},
   "outputs": [
    {
     "data": {
      "text/plain": [
       "Lasso(alpha=0.03, copy_X=True, fit_intercept=True, max_iter=10000,\n",
       "      normalize=False, positive=False, precompute=False, random_state=42,\n",
       "      selection='cyclic', tol=0.0001, warm_start=False)"
      ]
     },
     "execution_count": 11,
     "metadata": {},
     "output_type": "execute_result"
    }
   ],
   "source": [
    "Lasso_rgr.fit(X_train_std, Y_train)"
   ]
  },
  {
   "cell_type": "code",
   "execution_count": 12,
   "metadata": {},
   "outputs": [],
   "source": [
    "Lasso_coef=pd.DataFrame(Lasso_rgr.coef_.reshape(1,-1), columns=X_train.columns[0:120])"
   ]
  },
  {
   "cell_type": "code",
   "execution_count": 13,
   "metadata": {},
   "outputs": [
    {
     "data": {
      "text/html": [
       "<div>\n",
       "<style scoped>\n",
       "    .dataframe tbody tr th:only-of-type {\n",
       "        vertical-align: middle;\n",
       "    }\n",
       "\n",
       "    .dataframe tbody tr th {\n",
       "        vertical-align: top;\n",
       "    }\n",
       "\n",
       "    .dataframe thead th {\n",
       "        text-align: right;\n",
       "    }\n",
       "</style>\n",
       "<table border=\"1\" class=\"dataframe\">\n",
       "  <thead>\n",
       "    <tr style=\"text-align: right;\">\n",
       "      <th></th>\n",
       "      <th>0</th>\n",
       "    </tr>\n",
       "  </thead>\n",
       "  <tbody>\n",
       "    <tr>\n",
       "      <th>Std_Gender_F</th>\n",
       "      <td>0.382498</td>\n",
       "    </tr>\n",
       "    <tr>\n",
       "      <th>N_Retentions</th>\n",
       "      <td>-0.371471</td>\n",
       "    </tr>\n",
       "    <tr>\n",
       "      <th>School_Size</th>\n",
       "      <td>0.054262</td>\n",
       "    </tr>\n",
       "    <tr>\n",
       "      <th>Class_Size</th>\n",
       "      <td>0.000285</td>\n",
       "    </tr>\n",
       "    <tr>\n",
       "      <th>Student_Computer</th>\n",
       "      <td>-0.000000</td>\n",
       "    </tr>\n",
       "    <tr>\n",
       "      <th>...</th>\n",
       "      <td>...</td>\n",
       "    </tr>\n",
       "    <tr>\n",
       "      <th>Teacher_NoTeachingDedicatedTime</th>\n",
       "      <td>0.000000</td>\n",
       "    </tr>\n",
       "    <tr>\n",
       "      <th>Teacher_EducationSupportDedicatedTime</th>\n",
       "      <td>-0.027214</td>\n",
       "    </tr>\n",
       "    <tr>\n",
       "      <th>SubjClass_Foreign_Lang</th>\n",
       "      <td>0.683672</td>\n",
       "    </tr>\n",
       "    <tr>\n",
       "      <th>SubjClass_Qual</th>\n",
       "      <td>-0.006190</td>\n",
       "    </tr>\n",
       "    <tr>\n",
       "      <th>SubjClass_Quant</th>\n",
       "      <td>0.196880</td>\n",
       "    </tr>\n",
       "  </tbody>\n",
       "</table>\n",
       "<p>120 rows × 1 columns</p>\n",
       "</div>"
      ],
      "text/plain": [
       "                                              0\n",
       "Std_Gender_F                           0.382498\n",
       "N_Retentions                          -0.371471\n",
       "School_Size                            0.054262\n",
       "Class_Size                             0.000285\n",
       "Student_Computer                      -0.000000\n",
       "...                                         ...\n",
       "Teacher_NoTeachingDedicatedTime        0.000000\n",
       "Teacher_EducationSupportDedicatedTime -0.027214\n",
       "SubjClass_Foreign_Lang                 0.683672\n",
       "SubjClass_Qual                        -0.006190\n",
       "SubjClass_Quant                        0.196880\n",
       "\n",
       "[120 rows x 1 columns]"
      ]
     },
     "execution_count": 13,
     "metadata": {},
     "output_type": "execute_result"
    }
   ],
   "source": [
    "Lasso_coef.T"
   ]
  },
  {
   "cell_type": "code",
   "execution_count": 14,
   "metadata": {},
   "outputs": [],
   "source": [
    "with pd.ExcelWriter('Lasso_coef.xlsx',engine='openpyxl', mode='a') as writer:\n",
    "    Lasso_coef.to_excel(writer, sheet_name='Coef_11')\n",
    "\n",
    "#Lasso_coef.to_excel(\"Lasso_coef.xlsx\", sheet_name='Coef_11')"
   ]
  },
  {
   "cell_type": "code",
   "execution_count": 15,
   "metadata": {},
   "outputs": [],
   "source": [
    "m2=(Lasso_coef == 0).any()"
   ]
  },
  {
   "cell_type": "code",
   "execution_count": 16,
   "metadata": {},
   "outputs": [],
   "source": [
    "a=Lasso_coef.columns[m2]"
   ]
  },
  {
   "cell_type": "code",
   "execution_count": 17,
   "metadata": {},
   "outputs": [
    {
     "data": {
      "text/plain": [
       "Index(['Student_Computer', 'Student_Internet', 'Student_ActiveWorking',\n",
       "       'Student_Parish', 'Student_County', 'STD_Resp_Himself',\n",
       "       'STD_Resp_LegalResp', 'FTH_Nation_EEUR', 'FTH_Nation_OTHERS',\n",
       "       'FTH_Nation_RICH', 'SES_STDRESP_ProfClass_UnivI',\n",
       "       'SES_STDRESP_ProfClass_UnivII',\n",
       "       'SES_STDRESP_ProfClass_Unknown_NoProfession',\n",
       "       'SES_FATH_ProfClass_BasicI', 'SES_FATH_ProfClass_Unknown_NoProfession',\n",
       "       'SES_MOTH_ProfClass_UnivI', 'SES_MOTH_ProfClass_Unknown_NoProfession',\n",
       "       'SES_STDRESP_JobSit_HomeAffairs', 'SES_STDRESP_JobSit_Other',\n",
       "       'SES_STDRESP_JobSit_Retired', 'SES_STDRESP_JobSit_Student',\n",
       "       'SES_STDRESP_JobSit_Unemployed', 'SES_STDRESP_JobSit_Unknown',\n",
       "       'SES_FATH_JobSit_Employer', 'SES_FATH_JobSit_Other',\n",
       "       'SES_FATH_JobSit_Retired', 'SES_FATH_JobSit_SelfEmployed',\n",
       "       'SES_FATH_JobSit_Student', 'SES_FATH_JobSit_Unemployed',\n",
       "       'SES_FATH_JobSit_Unknown', 'SES_MOTH_JobSit_Employer',\n",
       "       'SES_MOTH_JobSit_HomeAffairs', 'SES_MOTH_JobSit_SelfEmployed',\n",
       "       'SES_MOTH_JobSit_Student', 'SES_MOTH_JobSit_Unemployed',\n",
       "       'SES_MOTH_JobSit_Unknown', 'SES_STDRESP_AcadEduc_Basic_III',\n",
       "       'SES_STDRESP_AcadEduc_Master', 'SES_STDRESP_AcadEduc_Other',\n",
       "       'SES_STDRESP_AcadEduc_PostGraduation', 'SES_STDRESP_AcadEduc_Unknown',\n",
       "       'SES_FATH_AcadEduc_Bachelor', 'SES_FATH_AcadEduc_Basic_III',\n",
       "       'SES_FATH_AcadEduc_NoFormalEducation', 'SES_FATH_AcadEduc_Other',\n",
       "       'SES_FATH_AcadEduc_PostGraduation', 'SES_FATH_AcadEduc_Unknown',\n",
       "       'SES_MOTH_AcadEduc_Bachelor', 'SES_MOTH_AcadEduc_Basic_II',\n",
       "       'SES_MOTH_AcadEduc_NoFormalEducation', 'SES_MOTH_AcadEduc_Other',\n",
       "       'SES_MOTH_AcadEduc_PostGraduation', 'SES_MOTH_AcadEduc_Unknown',\n",
       "       'SES_Scholarship_Half_Support', 'SES%_Parish_CollectiveDwellings',\n",
       "       'SES%_Parish_IliteracyRate', 'SES%_Parish_PostSecondarySchoolingRate',\n",
       "       'SES%_Parish_PrimarySector', 'Tch_FixedTermStaff',\n",
       "       'Tch_PedagogicZoneDefinitivePermanentStaff',\n",
       "       'Tch_PedagogicZoneNoDefinitivePermanentStaff',\n",
       "       'Tch_SchoolClusterNoDefinitivePermanentStaff',\n",
       "       'Tch_SchoolNoDefinitivePermanentStaff', 'Tch_AcadEduc_Bachelor',\n",
       "       'Tch_AcadEduc_Phd_Master', 'Tch_Step_8910', 'Tch_Gender_F',\n",
       "       'Teacher_EducationSupport', 'Teacher_Age',\n",
       "       'Teacher_TeachingDedicatedTime', 'Teacher_NoTeachingDedicatedTime'],\n",
       "      dtype='object')"
      ]
     },
     "execution_count": 17,
     "metadata": {},
     "output_type": "execute_result"
    }
   ],
   "source": [
    "a"
   ]
  },
  {
   "cell_type": "code",
   "execution_count": 18,
   "metadata": {},
   "outputs": [
    {
     "data": {
      "text/plain": [
       "71"
      ]
     },
     "execution_count": 18,
     "metadata": {},
     "output_type": "execute_result"
    }
   ],
   "source": [
    "len(a)"
   ]
  },
  {
   "cell_type": "code",
   "execution_count": null,
   "metadata": {},
   "outputs": [],
   "source": []
  }
 ],
 "metadata": {
  "kernelspec": {
   "display_name": "Python 3",
   "language": "python",
   "name": "python3"
  },
  "language_info": {
   "codemirror_mode": {
    "name": "ipython",
    "version": 3
   },
   "file_extension": ".py",
   "mimetype": "text/x-python",
   "name": "python",
   "nbconvert_exporter": "python",
   "pygments_lexer": "ipython3",
   "version": "3.7.6"
  }
 },
 "nbformat": 4,
 "nbformat_minor": 4
}
